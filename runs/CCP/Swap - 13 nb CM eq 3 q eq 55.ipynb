{
 "cells": [
  {
   "cell_type": "code",
   "execution_count": 1,
   "metadata": {
    "collapsed": true
   },
   "outputs": [],
   "source": [
    "# Bank id\n",
    "\n",
    "b_id = 13\n",
    "#bc_ids = [17, 9, 29, 26, 50, 4, 5, 13, 64]"
   ]
  },
  {
   "cell_type": "code",
   "execution_count": 2,
   "metadata": {
    "collapsed": false
   },
   "outputs": [],
   "source": [
    "import sys\n",
    "\n",
    "sys.path.append('../..')"
   ]
  },
  {
   "cell_type": "code",
   "execution_count": null,
   "metadata": {
    "collapsed": true
   },
   "outputs": [],
   "source": [
    "def rec_dict_print(a_dict, level=1):\n",
    "    keys = a_dict.keys()\n",
    "    keys.sort()\n",
    "    for k in keys:\n",
    "        if type(a_dict[k]) is dict:\n",
    "            print \"\".join([\"-\" for i in range(level)]) + k\n",
    "            rec_dict_print(a_dict[k], level + 2)\n",
    "        else:\n",
    "            print \"\".join([\"-\" for i in range(level)]) + k"
   ]
  },
  {
   "cell_type": "code",
   "execution_count": null,
   "metadata": {
    "collapsed": false
   },
   "outputs": [],
   "source": [
    "%matplotlib inline\n",
    "import dill\n",
    "\n",
    "loaded_data = None\n",
    "\n",
    "with open('../precomputed_sims/data.pkl', 'rb') as f:\n",
    "    loaded_data = dill.load(f)"
   ]
  },
  {
   "cell_type": "code",
   "execution_count": null,
   "metadata": {
    "collapsed": false
   },
   "outputs": [],
   "source": [
    "rec_dict_print(loaded_data)"
   ]
  },
  {
   "cell_type": "code",
   "execution_count": null,
   "metadata": {
    "collapsed": false
   },
   "outputs": [],
   "source": [
    "# Instead of taking 365 standard days or 252 trading days\n",
    "# in order to get some easy computations for the eqty and df time grids\n",
    "# I chose to take 360 days of tradings\n",
    "\n",
    "step = 1/360.\n",
    "delta = 5*step\n",
    "\n",
    "maturity = loaded_data[\"randomization\"][\"maturity\"]\n",
    "\n",
    "print \"Maturity = %s years\" % maturity"
   ]
  },
  {
   "cell_type": "code",
   "execution_count": null,
   "metadata": {
    "collapsed": true
   },
   "outputs": [],
   "source": [
    "import warnings\n",
    "\n",
    "warnings.filterwarnings(\"error\")"
   ]
  },
  {
   "cell_type": "markdown",
   "metadata": {},
   "source": [
    "# Discount"
   ]
  },
  {
   "cell_type": "code",
   "execution_count": null,
   "metadata": {
    "collapsed": true
   },
   "outputs": [],
   "source": [
    "from finance.discountfactor import ConstantRateDiscountFactor \n",
    "\n",
    "r = 0.02\n",
    "discount = ConstantRateDiscountFactor(r)"
   ]
  },
  {
   "cell_type": "markdown",
   "metadata": {},
   "source": [
    "# Underlying"
   ]
  },
  {
   "cell_type": "code",
   "execution_count": null,
   "metadata": {
    "collapsed": false
   },
   "outputs": [],
   "source": [
    "udlyings = loaded_data[\"underlyings\"]\n",
    "\n",
    "print \"Maximum number of paths: %i\" % len(udlyings)\n",
    "\n",
    "gbm0 = udlyings[0]\n",
    "\n",
    "kappa = gbm0.drifts[0][0]\n",
    "sigma = gbm0.vols[0][0]\n",
    "print \"kappa = %s, sigma = %s\" % (kappa, sigma)\n",
    "\n",
    "time_grid = gbm0.time"
   ]
  },
  {
   "cell_type": "markdown",
   "metadata": {},
   "source": [
    "# Derivative"
   ]
  },
  {
   "cell_type": "code",
   "execution_count": null,
   "metadata": {
    "collapsed": true
   },
   "outputs": [],
   "source": [
    "derivatives_nb = 1"
   ]
  },
  {
   "cell_type": "code",
   "execution_count": null,
   "metadata": {
    "collapsed": false,
    "scrolled": true
   },
   "outputs": [],
   "source": [
    "from finance.products.european.swap import (\n",
    "    SwapContract,\n",
    ")\n",
    "\n",
    "swap_delta = 0.25\n",
    "\n",
    "swap_dates = SwapContract.generate_payment_dates(0, maturity, swap_delta)\n",
    "swap = SwapContract(gbm0, discount, swap_dates)\n",
    "\n",
    "price_0 = swap.price(0., incl_next_coupon=True)\n",
    "\n",
    "print swap\n",
    "print \"\\nPrice swap at t=0 without 1st coupon = %s\" % price_0"
   ]
  },
  {
   "cell_type": "markdown",
   "metadata": {},
   "source": [
    "# Exposure"
   ]
  },
  {
   "cell_type": "code",
   "execution_count": null,
   "metadata": {
    "collapsed": false
   },
   "outputs": [],
   "source": [
    "from risk.exposures import EuropeanVaRGeomBrownianExposure\n",
    "\n",
    "quantile_im = 0.55\n",
    "exposure = EuropeanVaRGeomBrownianExposure(swap, discount, kappa, sigma)"
   ]
  },
  {
   "cell_type": "code",
   "execution_count": null,
   "metadata": {
    "collapsed": true
   },
   "outputs": [],
   "source": [
    "from ccp.covertworule import LCHEmirCoverTwo\n",
    "\n",
    "cover2rule = LCHEmirCoverTwo()"
   ]
  },
  {
   "cell_type": "code",
   "execution_count": null,
   "metadata": {
    "collapsed": true
   },
   "outputs": [],
   "source": [
    "from risk.basel.eee import BlackScholesSwapVaREffExpectExposure\n",
    "\n",
    "eee = BlackScholesSwapVaREffExpectExposure(swap)"
   ]
  },
  {
   "cell_type": "markdown",
   "metadata": {},
   "source": [
    "# Indexes stuffs"
   ]
  },
  {
   "cell_type": "markdown",
   "metadata": {},
   "source": [
    "## Ids of $B$ and $C$"
   ]
  },
  {
   "cell_type": "code",
   "execution_count": null,
   "metadata": {
    "collapsed": false
   },
   "outputs": [],
   "source": [
    "copula = loaded_data[\"credit\"][\"copula\"]\n",
    "\n",
    "bc_subsets_indexes = loaded_data[\"credit\"][\"bc_subsets_indexes\"]\n",
    "\n",
    "#bc_ids = [26, 29, 17, 50, 13, 4, 5, 9, 64]\n",
    "#bc_positions = [-0.36, -0.44, 0.69, 0.34, -0.05, 0.23, 0.09, -0.46, -0.04]\n",
    "#Spreads [1053, 367, 176, 73, 61, 56, 52, 45, 108]\n",
    "\n",
    "bc_ids = [9, 17, 13]\n",
    "bc_positions = [9., -10., 1.]\n",
    "\n",
    "# Counterparties id\n",
    "c_ids = list(set(bc_ids) - set([b_id]))\n",
    "\n",
    "print \"Bank id: %s\" % b_id\n",
    "print \"Counterparties id: %s (nb = %s)\" % (c_ids, len(c_ids))"
   ]
  },
  {
   "cell_type": "code",
   "execution_count": null,
   "metadata": {
    "collapsed": false
   },
   "outputs": [],
   "source": [
    "obligors_nb = len(copula.subsets[bc_subsets_indexes[-1]][0])\n",
    "\n",
    "print \"Obligor numbers: %s\" % obligors_nb"
   ]
  },
  {
   "cell_type": "markdown",
   "metadata": {},
   "source": [
    "## Subsets indexes of the copula for $B$ and $C$"
   ]
  },
  {
   "cell_type": "code",
   "execution_count": null,
   "metadata": {
    "collapsed": false
   },
   "outputs": [],
   "source": [
    "b_subsets_indexes = copula.get_indexes_including(b_id)\n",
    "\n",
    "c_subsets_indexes = []\n",
    "for c_id in c_ids:\n",
    "    tmp = copula.get_indexes_including(c_id)\n",
    "    c_subsets_indexes += tmp\n",
    "    \n",
    "b_subsets_indexes.sort()\n",
    "c_subsets_indexes.sort()\n",
    "    \n",
    "print \"Subsets that generated default times: %s\\n\" % bc_subsets_indexes\n",
    "print \"Bank subsets indexes: %s\\n\" % b_subsets_indexes\n",
    "\n",
    "tmp_c_subsets_indexes = list(set(c_subsets_indexes))\n",
    "tmp_c_subsets_indexes.sort()\n",
    "print \"Counterparties subsets indexes: %s\" % tmp_c_subsets_indexes"
   ]
  },
  {
   "cell_type": "markdown",
   "metadata": {},
   "source": [
    "# Portfolio construction"
   ]
  },
  {
   "cell_type": "code",
   "execution_count": null,
   "metadata": {
    "collapsed": false
   },
   "outputs": [],
   "source": [
    "import numpy as np\n",
    "\n",
    "p_fixed = 1.\n",
    "strike = swap.strike\n",
    "\n",
    "delta_times = swap.delta_time\n",
    "discount_factors = [discount(t) for t in swap.pillars[1:]]\n",
    "\n",
    "delta_beta_sum = np.dot(delta_times, discount_factors)\n",
    "\n",
    "notional = p_fixed / (strike*delta_beta_sum)\n",
    "\n",
    "print \"Notional on the swap: %s\" % notional"
   ]
  },
  {
   "cell_type": "code",
   "execution_count": null,
   "metadata": {
    "collapsed": false
   },
   "outputs": [],
   "source": [
    "pos = np.zeros(obligors_nb)\n",
    "for idx, ps in zip(bc_ids, bc_positions):\n",
    "    pos[idx] = ps\n",
    "    \n",
    "pos = pos / -pos[b_id]\n",
    "    \n",
    "positions = np.array(pos).reshape(pos.size, 1)\n",
    "\n",
    "print pos"
   ]
  },
  {
   "cell_type": "code",
   "execution_count": null,
   "metadata": {
    "collapsed": false
   },
   "outputs": [],
   "source": [
    "from finance.portfolio import CCPPortfolio\n",
    "\n",
    "port = CCPPortfolio(positions, [notional], [swap], [exposure])"
   ]
  },
  {
   "cell_type": "markdown",
   "metadata": {},
   "source": [
    "# VM, IM and DF accounts"
   ]
  },
  {
   "cell_type": "code",
   "execution_count": null,
   "metadata": {
    "collapsed": true
   },
   "outputs": [],
   "source": [
    "from ccp.accounts import Accounts, DFAccounts\n",
    "from ccp.states import MembersState\n",
    "\n",
    "states = MembersState(obligors_nb)\n",
    "\n",
    "vm_accounts = Accounts(states, derivatives_nb)\n",
    "im_accounts = DFAccounts(states, derivatives_nb) # because we need the total_amount implemented in DFAccounts \n",
    "df_accounts = DFAccounts(states, derivatives_nb)"
   ]
  },
  {
   "cell_type": "markdown",
   "metadata": {},
   "source": [
    "# Skin in the game"
   ]
  },
  {
   "cell_type": "code",
   "execution_count": null,
   "metadata": {
    "collapsed": false
   },
   "outputs": [],
   "source": [
    "from ccp.sig import SkinInTheGame\n",
    "\n",
    "sig = SkinInTheGame()"
   ]
  },
  {
   "cell_type": "markdown",
   "metadata": {},
   "source": [
    "# Regulatory capital"
   ]
  },
  {
   "cell_type": "code",
   "execution_count": null,
   "metadata": {
    "collapsed": true
   },
   "outputs": [],
   "source": [
    "from risk.basel.exposures import BaselExposureAtDefault\n",
    "\n",
    "ead = BaselExposureAtDefault(port, [eee])"
   ]
  },
  {
   "cell_type": "code",
   "execution_count": null,
   "metadata": {
    "collapsed": false
   },
   "outputs": [],
   "source": [
    "from risk.basel.capital import CCPRegulatoryCapital2014\n",
    "\n",
    "regul_cap = CCPRegulatoryCapital2014(ead, df_accounts, sig)    \n",
    "epsilon_ead = 1./12\n",
    "cap_conf_level = quantile_im"
   ]
  },
  {
   "cell_type": "markdown",
   "metadata": {},
   "source": [
    "# Funding and capital parameters"
   ]
  },
  {
   "cell_type": "code",
   "execution_count": null,
   "metadata": {
    "collapsed": true
   },
   "outputs": [],
   "source": [
    "k_ = 0.1\n",
    "funder_recovery = 1.\n",
    "c_0 = 0.0030"
   ]
  },
  {
   "cell_type": "markdown",
   "metadata": {},
   "source": [
    "# Creation of the different taks"
   ]
  },
  {
   "cell_type": "code",
   "execution_count": null,
   "metadata": {
    "collapsed": true
   },
   "outputs": [],
   "source": [
    "class ITask(object):\n",
    "    level = None\n",
    "    \n",
    "    def perform(self, **kwargs):\n",
    "        raise NotImplementedError()"
   ]
  },
  {
   "cell_type": "code",
   "execution_count": null,
   "metadata": {
    "collapsed": true
   },
   "outputs": [],
   "source": [
    "class PutMembersAtDefaultTask(ITask):\n",
    "    level = 1\n",
    "    \n",
    "    def __init__(self, **kwargs):\n",
    "        self.__states = kwargs[\"states\"]\n",
    "        self.potential_defaulters = kwargs[\"defaulters\"]\n",
    "        self.defaulters = []\n",
    "        \n",
    "    def perform(self, **kwargs):\n",
    "        self.__tau = kwargs[\"t\"]\n",
    "        \n",
    "        for i in self.potential_defaulters:\n",
    "            for j in list(i):\n",
    "                if self.__states.is_alive(j):\n",
    "                    self.defaulters.append(j)\n",
    "                    self.__states.die(j)\n",
    "            \n",
    "        self.defaulters.sort()"
   ]
  },
  {
   "cell_type": "code",
   "execution_count": null,
   "metadata": {
    "collapsed": true
   },
   "outputs": [],
   "source": [
    "class LiquidatePortfolioTask(ITask):\n",
    "    level = 1\n",
    "    \n",
    "    def __init__(self, **kwargs):\n",
    "        self.__cm_index = kwargs[\"bank_index\"]\n",
    "        \n",
    "        self.__default_task = kwargs[\"default_task\"]\n",
    "                \n",
    "        self.__port = kwargs['portfolio']\n",
    "        self.__vm_accounts = kwargs['vm_accounts']\n",
    "        self.__im_accounts = kwargs['im_accounts']\n",
    "        self.__df_accounts = kwargs['df_accounts']\n",
    "                \n",
    "        self.__discount = kwargs[\"discount\"]\n",
    "        self.__sig = kwargs['sig']\n",
    "        \n",
    "        self.results = {}\n",
    "        \n",
    "    def perform(self, **kwargs):\n",
    "        self.__tau_delta = kwargs[\"t\"]\n",
    "        \n",
    "        self.new_defaulters_ids = self.__default_task.defaulters\n",
    "        if not self.new_defaulters_ids:\n",
    "            self.results[\"cva\"] = 0.\n",
    "            return\n",
    "        \n",
    "        p_tau_delta_f = lambda ii: self.__port.compute_value(self.__tau_delta, towards_=ii)\n",
    "        p_tau_delta = np.array(map(p_tau_delta_f, self.new_defaulters_ids))\n",
    "        p_tau_delta = np.sum(p_tau_delta, axis=1)\n",
    "        \n",
    "        q_tau_delta = p_tau_delta\n",
    "        \n",
    "        gamma_tau_delta = self.__vm_accounts.amounts + self.__im_accounts.amounts + self.__df_accounts.amounts\n",
    "        gamma_tau_delta = gamma_tau_delta[self.new_defaulters_ids, :]\n",
    "        gamma_tau_delta = np.sum(gamma_tau_delta, axis=1)\n",
    "        \n",
    "        loss_tau_delta = q_tau_delta - gamma_tau_delta\n",
    "        remain_collat_loss = np.maximum(loss_tau_delta, 0.).sum()\n",
    "        remaining_loss = self.__sig.handle_breach(remain_collat_loss)\n",
    "        \n",
    "        if remaining_loss > 0:\n",
    "            frac = self.__df_accounts.get_amount(self.__cm_index).sum() / self.__df_accounts.total_default_fund().sum()\n",
    "        else:\n",
    "            frac = 1.0\n",
    "            \n",
    "        partial_loss = frac*remaining_loss\n",
    "        tmp_cva = self.__discount(self.__tau_delta) * partial_loss \n",
    "        \n",
    "        self.results[\"cva\"] = tmp_cva"
   ]
  },
  {
   "cell_type": "code",
   "execution_count": null,
   "metadata": {
    "collapsed": true
   },
   "outputs": [],
   "source": [
    "class FillVMandIMTask(ITask):\n",
    "    level = 0\n",
    "    \n",
    "    def __init__(self, **kwargs):\n",
    "        self._delta = kwargs[\"delta\"]\n",
    "        \n",
    "        self._port = kwargs['portfolio']        \n",
    "        self._vm_accounts = kwargs['vm_accounts']\n",
    "        self._im_accounts = kwargs['im_accounts']\n",
    "        \n",
    "        self._quantile_im = kwargs['quantile_im']\n",
    "        \n",
    "        self._zeros = np.zeros(self._port.derivatives.size)\n",
    "        self._zeros.fill(1e-15)\n",
    "        \n",
    "    def perform(self, **kwargs):\n",
    "        self._tau_minus = kwargs[\"t\"]\n",
    "        \n",
    "        ####################\n",
    "        ## VM and IM part ##\n",
    "        ####################\n",
    "        for ii in xrange(self._port.counterparties_number):\n",
    "            p_tau_minus_ii = self._port.compute_value(self._tau_minus, towards_=ii)\n",
    "            self._vm_accounts.put_amounts(ii, p_tau_minus_ii)\n",
    "            \n",
    "            im_ii = self._port.compute_exposure(self._tau_minus, \n",
    "                                                risk_period=self._delta, \n",
    "                                                conf_level=self._quantile_im,\n",
    "                                                towards_=ii)\n",
    "            \n",
    "            self._im_accounts.put_amounts(ii, np.maximum(im_ii, self._zeros).tolist())"
   ]
  },
  {
   "cell_type": "code",
   "execution_count": null,
   "metadata": {
    "collapsed": true
   },
   "outputs": [],
   "source": [
    "class FillIMVMandDFTask(FillVMandIMTask):\n",
    "    def __init__(self, **kwargs):\n",
    "        super(FillIMVMandDFTask, self).__init__(**kwargs)\n",
    "        self._df_accounts = kwargs['df_accounts']        \n",
    "        self._ead_computer = kwargs['ead_computer']\n",
    "        self._epsilon = kwargs['ead_epsilon']\n",
    "        self._cover2 = kwargs['cover2rule']\n",
    "                \n",
    "    def perform(self, **kwargs):\n",
    "        super(FillIMVMandDFTask, self).perform(**kwargs)\n",
    "        self._t = kwargs[\"t\"]\n",
    "        \n",
    "        eads = self._ead_computer(t=self._t,\n",
    "                                 epsilon=self._epsilon, \n",
    "                                 risk_period=self._delta,\n",
    "                                 alpha=self._quantile_im)\n",
    "        \n",
    "        total_df = self._cover2(eads)\n",
    "        im_total = self._im_accounts.total_default_fund()\n",
    "        \n",
    "        im_proportions = self._im_accounts.amounts / im_total\n",
    "        \n",
    "        df_proportions = im_proportions * total_df\n",
    "        \n",
    "        for ii in xrange(self._port.counterparties_number):\n",
    "            self._df_accounts.put_amounts(ii, df_proportions[ii, :].flatten())"
   ]
  },
  {
   "cell_type": "code",
   "execution_count": null,
   "metadata": {
    "collapsed": true
   },
   "outputs": [],
   "source": [
    "class ReFillSigTask(ITask):\n",
    "    level = 0\n",
    "    \n",
    "    def __init__(self, **kwargs):\n",
    "        self.__sig = kwargs['sig']\n",
    "        \n",
    "        self.__regul_cap = kwargs['regul_capital']\n",
    "        self.__cap_conf_level = kwargs['cap_conf_level']\n",
    "        \n",
    "        self.__delta = kwargs['delta']\n",
    "        self.__port = kwargs['portfolio']\n",
    "        \n",
    "        self.__epsilon_ead = kwargs['epsilon_ead']\n",
    "        \n",
    "        self.__collat_task = FillIMVMandDFTask(delta=self.__delta, \n",
    "                                               portfolio=self.__port,\n",
    "                                               vm_accounts=kwargs['vm_accounts'],\n",
    "                                               im_accounts=kwargs['im_accounts'], \n",
    "                                               quantile_im=kwargs['quantile_im'],\n",
    "                                               df_accounts=kwargs['df_accounts'], \n",
    "                                               ead_computer=kwargs['ead_computer'],\n",
    "                                               ead_epsilon=kwargs['ead_epsilon'],\n",
    "                                               cover2rule=kwargs['cover2rule'])\n",
    "    \n",
    "    def perform(self, **kwargs):\n",
    "        t = kwargs[\"t\"]        \n",
    "        \n",
    "        self.__collat_task.perform(t=t)\n",
    "        \n",
    "        if t == 0.:\n",
    "            self.__sig.recover()\n",
    "        else:\n",
    "            self.__sig.update_value(t, regul_capital=self.__regul_cap, \n",
    "                                    epsilon=self.__epsilon_ead, risk_period=self.__delta,\n",
    "                                    alpha=self.__cap_conf_level)"
   ]
  },
  {
   "cell_type": "code",
   "execution_count": null,
   "metadata": {
    "collapsed": false
   },
   "outputs": [],
   "source": [
    "class ComputeXVATask(ITask):\n",
    "    level = 1\n",
    "    \n",
    "    def __init__(self, **kwargs):\n",
    "        self.__cm_index = kwargs[\"bank_index\"]\n",
    "        \n",
    "        self.__delta = kwargs[\"delta\"]\n",
    "        self.__exp_distrib = kwargs[\"exp_distrib\"]\n",
    "        \n",
    "        self.__copula = kwargs[\"copula\"]\n",
    "        self.__cm_subset_indexes = kwargs[\"bank_subsets_indexes\"]\n",
    "        \n",
    "        self.__port = kwargs['portfolio']        \n",
    "        self.__time_grid = self.__port.derivatives[0].underlying.time\n",
    "        \n",
    "        self.__vm_accounts = kwargs['vm_accounts']\n",
    "        self.__im_accounts = kwargs['im_accounts']\n",
    "        self.__df_accounts = kwargs['df_accounts']\n",
    "        \n",
    "        self.__discount = kwargs[\"discount\"]\n",
    "        \n",
    "        self.__regul_cap = kwargs['regul_capital']\n",
    "        self.__epsilon_ead = kwargs['epsilon_ead']\n",
    "        self.__cap_conf_level = kwargs['cap_conf_level']\n",
    "        \n",
    "        self.__c_zeta = kwargs[\"c_zeta\"]\n",
    "        self.__k_zeta = kwargs[\"k_zeta\"]\n",
    "        self.__funder_recov = kwargs[\"funder_recovery\"]\n",
    "        \n",
    "        self.__collat_task = FillVMandIMTask(delta=delta, portfolio=self.__port,\n",
    "                                               vm_accounts=self.__vm_accounts,\n",
    "                                               im_accounts=self.__im_accounts, \n",
    "                                               quantile_im=kwargs['quantile_im'])\n",
    "        \n",
    "        self.results = {}\n",
    "    \n",
    "    def perform(self, **kwargs):\n",
    "        self.__zeta = kwargs[\"t\"]\n",
    "        self.__zeta_delta = time_offseter(self.__zeta+self.__delta, self.__time_grid, True) \n",
    "        \n",
    "        inv_pdf = 1./self.__exp_distrib.pdf(zeta)\n",
    "        \n",
    "        beta_zeta = self.__discount(self.__zeta)\n",
    "        \n",
    "        self.__collat_task.perform(t=self.__zeta)\n",
    "        \n",
    "        ################\n",
    "        ### DVA part ###\n",
    "        ################\n",
    "        p_zeta_delta = self.__port.compute_value(self.__zeta_delta, towards_=self.__cm_index).sum()\n",
    "        q_zeta_delta = p_zeta_delta\n",
    "\n",
    "        df = self.__df_accounts.get_amount(self.__cm_index).sum()\n",
    "        Cstar = self.__vm_accounts.get_amount(self.__cm_index).sum()\n",
    "        Cstar += self.__im_accounts.get_amount(self.__cm_index).sum()\n",
    "        C = Cstar + df\n",
    "        \n",
    "        loss = np.maximum(q_zeta_delta - C, 0.)\n",
    "        \n",
    "        gamma_zeta = self.__copula.tot_gamma(self.__zeta, subsets_indexes=self.__cm_subset_indexes)\n",
    "        \n",
    "        self.results[\"dva\"] = inv_pdf*self.__discount(self.__zeta_delta)*gamma_zeta*loss\n",
    "        \n",
    "        ################\n",
    "        ### FVA part ###\n",
    "        ################\n",
    "        p_zeta = self.__port.compute_value(self.__zeta, towards_=self.__cm_index).sum()\n",
    "        fund = p_zeta - C\n",
    "        \n",
    "        self.results[\"mla\"] = inv_pdf * beta_zeta * self.__c_zeta * (-fund)\n",
    "        \n",
    "        bar_lambda_zeta = gamma_zeta * 0.6\n",
    "        tilde_lambda_zeta = bar_lambda_zeta - (1 - self.__funder_recov) * gamma_zeta\n",
    "        \n",
    "        lambda_zeta = 0.\n",
    "        mva = tilde_lambda_zeta * (-np.minimum(p_zeta - Cstar, 0.)) - lambda_zeta * np.maximum(p_zeta - Cstar, 0.)\n",
    "        self.results[\"mva\"] = inv_pdf * beta_zeta * mva\n",
    "        \n",
    "        ################\n",
    "        ### KVA part ###\n",
    "        ################\n",
    "        kva = self.__regul_cap.compute_k_cm(self.__cm_index, \n",
    "                                            self.__zeta, \n",
    "                                            epsilon=self.__epsilon_ead, \n",
    "                                            risk_period=self.__delta,\n",
    "                                            alpha=self.__cap_conf_level)\n",
    "        \n",
    "        self.results[\"kva\"] = inv_pdf * self.__k_zeta * beta_zeta * (kva + df)"
   ]
  },
  {
   "cell_type": "code",
   "execution_count": null,
   "metadata": {
    "collapsed": true
   },
   "outputs": [],
   "source": [
    "def merge_dict(actual_dict, to_add):\n",
    "    for k, v in to_add.iteritems():\n",
    "        if k not in actual_dict:\n",
    "            actual_dict[k] = []\n",
    "            \n",
    "        actual_dict[k].append(v)\n",
    "        \n",
    "def sort_tasks_dict(a_dict):\n",
    "    for k, v in a_dict.iteritems():\n",
    "        v.sort(key=lambda x: x.level)"
   ]
  },
  {
   "cell_type": "markdown",
   "metadata": {},
   "source": [
    "# MC loop"
   ]
  },
  {
   "cell_type": "code",
   "execution_count": null,
   "metadata": {
    "collapsed": true
   },
   "outputs": [],
   "source": [
    "from utils import time_offseter"
   ]
  },
  {
   "cell_type": "code",
   "execution_count": null,
   "metadata": {
    "collapsed": true
   },
   "outputs": [],
   "source": [
    "N = loaded_data[\"N\"]\n",
    "N = 10000"
   ]
  },
  {
   "cell_type": "code",
   "execution_count": null,
   "metadata": {
    "collapsed": true
   },
   "outputs": [],
   "source": [
    "results_globs = {\"cva\": {\"sum\": 0., \"sum2\": 0.},\n",
    "                 \"dva\": {\"sum\": 0., \"sum2\": 0.},\n",
    "                 \"mla\": {\"sum\": 0., \"sum2\": 0.},\n",
    "                 \"mva\": {\"sum\": 0., \"sum2\": 0.},\n",
    "                 \"kva\": {\"sum\": 0., \"sum2\": 0.}}"
   ]
  },
  {
   "cell_type": "code",
   "execution_count": null,
   "metadata": {
    "collapsed": true
   },
   "outputs": [],
   "source": [
    "from scipy.stats import expon\n",
    "\n",
    "exp_distrib_params = loaded_data[\"randomization\"][\"distrib\"]\n",
    "exp_distrib = expon(loc=exp_distrib_params[\"loc\"], scale=exp_distrib_params[\"scale\"])\n",
    "\n",
    "zetas = loaded_data[\"randomization\"][\"zetas\"]\n",
    "default_times_mat = loaded_data[\"credit\"][\"default_times\"]"
   ]
  },
  {
   "cell_type": "code",
   "execution_count": null,
   "metadata": {
    "collapsed": false
   },
   "outputs": [],
   "source": [
    "sig_time_grid = [t for t in time_grid if t.is_integer()]\n",
    "df_time_grid = [t for t in time_grid if (12*t).is_integer()]\n",
    "\n",
    "print df_time_grid\n",
    "print\n",
    "print sig_time_grid"
   ]
  },
  {
   "cell_type": "code",
   "execution_count": null,
   "metadata": {
    "collapsed": false
   },
   "outputs": [],
   "source": [
    "import time\n",
    "\n",
    "tic = time.time()\n",
    "\n",
    "b_df_times_indexes = [ii for ii, ind in enumerate(bc_subsets_indexes) if ind in b_subsets_indexes]\n",
    "\n",
    "for i in range(N):\n",
    "    # Resurrecting the states\n",
    "    # resets to 0. the values\n",
    "    # of the VMs and IMs\n",
    "    states.resurrect_all()\n",
    "    \n",
    "    zeta = zetas[i]\n",
    "    \n",
    "    # We set the simulated underlying here\n",
    "    # that has the all time grid with\n",
    "    # mpor = 1./360\n",
    "    swap.underlying = udlyings[i]    \n",
    "    port.delete_cache()\n",
    "    \n",
    "    default_times = default_times_mat[i]\n",
    "    b_min_df_time = default_times[b_df_times_indexes].min()\n",
    "    bar_tau = min(b_min_df_time, maturity)\n",
    "    \n",
    "    df_times_dict = {\n",
    "        t: PutMembersAtDefaultTask(states=states, defaulters=copula.subsets[bc_subsets_indexes[j]])\n",
    "        for j, t in enumerate(default_times) if t < bar_tau\n",
    "    }\n",
    "    \n",
    "    liq_times_dict = {\n",
    "        time_offseter(t+delta, time_grid): \n",
    "        LiquidatePortfolioTask(bank_index=b_id, default_task=task, \n",
    "                               portfolio=port, discount=discount, sig=sig,\n",
    "                               vm_accounts=vm_accounts, im_accounts=im_accounts, \n",
    "                               df_accounts=df_accounts)\n",
    "        for t, task in df_times_dict.iteritems() if t+delta < bar_tau        \n",
    "    }\n",
    "    \n",
    "    tau_minus_times_dict = {\n",
    "        time_offseter(t-delta, time_grid, True):\n",
    "        FillVMandIMTask(delta=delta, portfolio=port, \n",
    "                        vm_accounts=vm_accounts, im_accounts=im_accounts,\n",
    "                        quantile_im=quantile_im)        \n",
    "        for t in df_times_dict.keys()\n",
    "    }\n",
    "    \n",
    "    dfund_times = [time_offseter(t, df_time_grid, True) for t in df_times_dict.keys()]    \n",
    "    dfund_times_dict = {\n",
    "        t: FillIMVMandDFTask(delta=delta, portfolio=port, \n",
    "                             vm_accounts=vm_accounts, \n",
    "                             im_accounts=im_accounts, quantile_im=quantile_im,\n",
    "                             df_accounts=df_accounts, \n",
    "                             ead_computer=ead, ead_epsilon=epsilon_ead, cover2rule=cover2rule)\n",
    "        for t in dfund_times\n",
    "    }\n",
    "\n",
    "    sig_times = {\n",
    "        t: ReFillSigTask(delta=delta, portfolio=port, \n",
    "                         vm_accounts=vm_accounts, \n",
    "                         im_accounts=im_accounts, quantile_im=quantile_im,\n",
    "                         df_accounts=df_accounts, ead_computer=ead, ead_epsilon=epsilon_ead, cover2rule=cover2rule,\n",
    "                         sig=sig, regul_capital=regul_cap, \n",
    "                         epsilon_ead=epsilon_ead,\n",
    "                         cap_conf_level=cap_conf_level)\n",
    "        for t in sig_time_grid if t < zeta\n",
    "    }\n",
    "\n",
    "    xva_time = {\n",
    "        t: ComputeXVATask(bank_index=b_id, exp_distrib=exp_distrib, \n",
    "                            copula=copula, portfolio=port, delta=delta,\n",
    "                            bank_subsets_indexes=b_subsets_indexes,\n",
    "                            vm_accounts=vm_accounts, \n",
    "                            im_accounts=im_accounts, quantile_im=quantile_im,\n",
    "                            df_accounts=df_accounts,\n",
    "                            discount=discount, \n",
    "                            regul_capital=regul_cap, epsilon_ead=epsilon_ead, cap_conf_level=cap_conf_level, \n",
    "                            funder_recovery=funder_recovery,\n",
    "                            c_zeta=c_0, \n",
    "                            k_zeta=k_)\n",
    "        for t in [zeta] if zeta <= bar_tau\n",
    "    }\n",
    "    \n",
    "    current_times_dict = dict()\n",
    "    all_dicts = [df_times_dict, liq_times_dict, tau_minus_times_dict, \\\n",
    "                 dfund_times_dict, sig_times, xva_time]\n",
    "    \n",
    "    for dd in all_dicts:\n",
    "        merge_dict(current_times_dict, dd)\n",
    "    \n",
    "    sort_tasks_dict(current_times_dict)\n",
    "    \n",
    "    current_times = current_times_dict.keys()\n",
    "    current_times.sort()\n",
    "    \n",
    "    for t in current_times:        \n",
    "        tasks = current_times_dict[t]\n",
    "        for task in tasks:            \n",
    "            task.perform(t=t)\n",
    "                    \n",
    "    cva_, dva_, mva_, mla_, kva_ = [0. for _ in range(5)]\n",
    "    for k, v in liq_times_dict.iteritems():\n",
    "        cva_ += v.results[\"cva\"]\n",
    "        \n",
    "    results_globs[\"cva\"][\"sum\"] += cva_\n",
    "    results_globs[\"cva\"][\"sum2\"] += cva_**2\n",
    "    \n",
    "    for k, v in xva_time.iteritems():\n",
    "        dva_ += v.results[\"dva\"]\n",
    "        mva_ += v.results[\"mva\"]\n",
    "        mla_ += v.results[\"mla\"]\n",
    "        kva_ += v.results[\"kva\"]\n",
    "        \n",
    "    results_globs[\"dva\"][\"sum\"] += dva_\n",
    "    results_globs[\"dva\"][\"sum2\"] += dva_**2\n",
    "    \n",
    "    results_globs[\"mva\"][\"sum\"] += mva_\n",
    "    results_globs[\"mva\"][\"sum2\"] += mva_**2\n",
    "    \n",
    "    results_globs[\"mla\"][\"sum\"] += mla_\n",
    "    results_globs[\"mla\"][\"sum2\"] += mla_**2\n",
    "    \n",
    "    results_globs[\"kva\"][\"sum\"] += kva_\n",
    "    results_globs[\"kva\"][\"sum2\"] += kva_**2\n",
    "    \n",
    "toc = time.time()"
   ]
  },
  {
   "cell_type": "markdown",
   "metadata": {},
   "source": [
    "# Results"
   ]
  },
  {
   "cell_type": "code",
   "execution_count": null,
   "metadata": {
    "collapsed": false
   },
   "outputs": [],
   "source": [
    "print \"Results for %d iterations (%s secs.)\"%(N, toc-tic)\n",
    "print\n",
    "\n",
    "print \"Used discount factor: %s\"%discount\n",
    "print\n",
    "\n",
    "print \"Bank index %i that belongs to the following MO copula subsets:\"%b_id\n",
    "for idx in b_subsets_indexes:\n",
    "    print \"- %s with pillars %s and intensity %s\\n\"%([x for x in copula.subsets[idx][0]], \\\n",
    "                                                     copula.pillars[idx], copula.intensities[idx])\n",
    "    \n",
    "print \"Counterparties indexes:\"\n",
    "print c_ids\n",
    "\n",
    "print \"\\n-----------------------------------------------------\\n\"\n",
    "\n",
    "for idx in c_ids:\n",
    "    print \"Counterparty index %s belongs to the following MO copula subses:\"%idx\n",
    "    sub_indexes = copula.get_indexes_including(idx)\n",
    "    for subset_idx in sub_indexes:\n",
    "        print \"- %s with pillars %s and intensity %s\\n\"%([x for x in copula.subsets[subset_idx][0]], \\\n",
    "                                                         copula.pillars[subset_idx], copula.intensities[subset_idx])        \n",
    "    print\n",
    "    \n",
    "print \"\\n-----------------------------------------------------\\n\"\n",
    "    \n",
    "print \"Derivatives:\"\n",
    "for d in [swap]:\n",
    "    print \"- %s\"%d\n",
    "    \n",
    "print \"\\nPositions:\"\n",
    "print port.positions\n",
    "\n",
    "print \"\\nConfidence level used for VM+IM: %.2f\"%quantile_im\n",
    "#print \"Confidence level used for VM+IM+DF: %.2f\"%quantile_df"
   ]
  },
  {
   "cell_type": "code",
   "execution_count": null,
   "metadata": {
    "collapsed": false,
    "scrolled": true
   },
   "outputs": [],
   "source": [
    "from scipy.stats import norm\n",
    "\n",
    "conf_level = 0.95\n",
    "z_level = norm.ppf(0.5*(1+conf_level))\n",
    "\n",
    "print \"Results of the global xVA:\\n\"\n",
    "keys = results_globs.keys()\n",
    "keys.sort()\n",
    "\n",
    "excel_results = dict()\n",
    "\n",
    "for k in keys:\n",
    "    mean_ = results_globs[k]['sum']/N \n",
    "    mod_var_ = (results_globs[k]['sum2']/N - mean_**2) / (N-1.)\n",
    "    half_inter = z_level*np.sqrt(mod_var_)\n",
    "    \n",
    "    excel_results[k.upper()] = \"%s \\t %s\"%(mean_*10000, half_inter / mean_)\n",
    "    \n",
    "    print \"The %s for the bank lies in [%f, %f]\"%(k.upper(), mean_-half_inter, mean_+half_inter)"
   ]
  },
  {
   "cell_type": "code",
   "execution_count": null,
   "metadata": {
    "collapsed": true
   },
   "outputs": [],
   "source": [
    "file_ = open('../CCP nb CM eq 3.txt', 'a')\n",
    "\n",
    "file_.write(\"%s \\t %s\\n\"%(b_id, quantile_im))\n",
    "\n",
    "keys = excel_results.keys()\n",
    "keys.sort()\n",
    "\n",
    "for k in keys:\n",
    "    file_.write(\"%s \\t %s\\n\"%(k, excel_results[k]))\n",
    "    \n",
    "file_.write(\"\\n\")\n",
    "file_.close()"
   ]
  }
 ],
 "metadata": {
  "kernelspec": {
   "display_name": "Python 2",
   "language": "python",
   "name": "python2"
  },
  "language_info": {
   "codemirror_mode": {
    "name": "ipython",
    "version": 2
   },
   "file_extension": ".py",
   "mimetype": "text/x-python",
   "name": "python",
   "nbconvert_exporter": "python",
   "pygments_lexer": "ipython2",
   "version": "2.7.11"
  }
 },
 "nbformat": 4,
 "nbformat_minor": 0
}
