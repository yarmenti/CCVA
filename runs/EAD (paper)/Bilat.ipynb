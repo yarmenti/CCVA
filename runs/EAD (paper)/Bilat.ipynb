{
 "cells": [
  {
   "cell_type": "code",
   "execution_count": 1,
   "metadata": {
    "collapsed": true
   },
   "outputs": [],
   "source": [
    "import sys\n",
    "\n",
    "sys.path.append('../..')"
   ]
  },
  {
   "cell_type": "code",
   "execution_count": 2,
   "metadata": {
    "collapsed": true
   },
   "outputs": [],
   "source": [
    "%matplotlib inline\n",
    "import dill\n",
    "\n",
    "loaded_data = None\n",
    "\n",
    "with open('../precomputed_sims/data.pkl', 'rb') as f:\n",
    "    loaded_data = dill.load(f)"
   ]
  },
  {
   "cell_type": "code",
   "execution_count": 3,
   "metadata": {
    "collapsed": false
   },
   "outputs": [
    {
     "name": "stdout",
     "output_type": "stream",
     "text": [
      "Maturity = 5.0 years\n"
     ]
    }
   ],
   "source": [
    "# Instead of taking 365 standard days or 252 trading days\n",
    "# in order to get some easy computations for the eqty and df time grids\n",
    "# I chose to take 360 days of tradings\n",
    "\n",
    "step = 1/360.\n",
    "\n",
    "maturity = loaded_data[\"randomization\"][\"maturity\"]\n",
    "\n",
    "print \"Maturity = %s years\" % maturity"
   ]
  },
  {
   "cell_type": "code",
   "execution_count": 4,
   "metadata": {
    "collapsed": true
   },
   "outputs": [],
   "source": [
    "from finance.discountfactor import ConstantRateDiscountFactor \n",
    "\n",
    "r = 0.02\n",
    "discount = ConstantRateDiscountFactor(r)"
   ]
  },
  {
   "cell_type": "code",
   "execution_count": 5,
   "metadata": {
    "collapsed": true
   },
   "outputs": [],
   "source": [
    "udlyings = loaded_data[\"underlyings\"]\n",
    "\n",
    "gbm0 = udlyings[0]\n",
    "\n",
    "kappa = gbm0.drifts[0][0]\n",
    "sigma = gbm0.vols[0][0]\n",
    "\n",
    "time_grid = gbm0.time"
   ]
  },
  {
   "cell_type": "code",
   "execution_count": 6,
   "metadata": {
    "collapsed": false
   },
   "outputs": [
    {
     "name": "stdout",
     "output_type": "stream",
     "text": [
      "Swap contract of maturity T = 5 years, over S^0 with strike K = 134.306, paying at {0.00, 0.25, 0.50, 0.75, 1.00, 1.25, 1.50, 1.75, 2.00, 2.25, 2.50, 2.75, 3.00, 3.25, 3.50, 3.75, 4.00, 4.25, 4.50, 4.75, 5.00}\n",
      "\n",
      "Price swap at t=0 with 1st coupon = -1.13686837722e-13\n"
     ]
    }
   ],
   "source": [
    "from finance.products.european.swap import (\n",
    "    SwapContract,\n",
    ")\n",
    "\n",
    "swap_delta = 0.25\n",
    "\n",
    "swap_dates = SwapContract.generate_payment_dates(0, maturity, swap_delta)\n",
    "swap = SwapContract(gbm0, discount, swap_dates)\n",
    "\n",
    "price_0 = swap.price(0., incl_next_coupon=True)\n",
    "\n",
    "print swap\n",
    "print \"\\nPrice swap at t=0 with 1st coupon = %s\" % price_0"
   ]
  },
  {
   "cell_type": "code",
   "execution_count": 7,
   "metadata": {
    "collapsed": true
   },
   "outputs": [],
   "source": [
    "from risk.basel.eee import BlackScholesSwapVaREffExpectExposure\n",
    "\n",
    "eee = BlackScholesSwapVaREffExpectExposure(swap)"
   ]
  },
  {
   "cell_type": "code",
   "execution_count": 8,
   "metadata": {
    "collapsed": true
   },
   "outputs": [],
   "source": [
    "from risk.exposures import EuropeanVaRGeomBrownianExposure\n",
    "\n",
    "exposure = EuropeanVaRGeomBrownianExposure(swap, discount, kappa, sigma)"
   ]
  },
  {
   "cell_type": "code",
   "execution_count": 9,
   "metadata": {
    "collapsed": false
   },
   "outputs": [],
   "source": [
    "copula = loaded_data[\"credit\"][\"copula\"]\n",
    "\n",
    "bc_subsets_indexes = loaded_data[\"credit\"][\"bc_subsets_indexes\"]\n",
    "\n",
    "obligors_nb = len(copula.subsets[bc_subsets_indexes[-1]][0])\n",
    "\n",
    "bc_ids = [17, 9, 29, 26, 50, 4, 5, 13, 64]\n",
    "bc_positions = [0.69, -0.46, -0.44, -0.36, 0.34, 0.23, 0.09, -0.05, -0.04]\n",
    "spreads = [176, 45, 367, 1053, 73, 56, 52, 61, 108]"
   ]
  },
  {
   "cell_type": "code",
   "execution_count": 10,
   "metadata": {
    "collapsed": false
   },
   "outputs": [
    {
     "name": "stdout",
     "output_type": "stream",
     "text": [
      "Notional = 0.0015687485053\n"
     ]
    }
   ],
   "source": [
    "import numpy as np\n",
    "\n",
    "p_fixed = 1.\n",
    "strike = swap.strike\n",
    "\n",
    "delta_times = swap.delta_time\n",
    "discount_factors = [discount(t) for t in swap.pillars[1:]]\n",
    "\n",
    "delta_beta_sum = np.dot(delta_times, discount_factors)\n",
    "\n",
    "notional = p_fixed / (strike*delta_beta_sum)\n",
    "\n",
    "print \"Notional = %s\" % notional"
   ]
  },
  {
   "cell_type": "code",
   "execution_count": 11,
   "metadata": {
    "collapsed": false
   },
   "outputs": [
    {
     "name": "stdout",
     "output_type": "stream",
     "text": [
      "[ 0.    0.    0.    0.    0.23  0.09  0.    0.    0.   -0.46  0.    0.    0.\n",
      " -0.05  0.    0.    0.    0.69  0.    0.    0.    0.    0.    0.    0.    0.\n",
      " -0.36  0.    0.   -0.44  0.    0.    0.    0.    0.    0.    0.    0.    0.\n",
      "  0.    0.    0.    0.    0.    0.    0.    0.    0.    0.    0.    0.34\n",
      "  0.    0.    0.    0.    0.    0.    0.    0.    0.    0.    0.    0.    0.\n",
      " -0.04  0.    0.    0.    0.    0.    0.    0.    0.    0.    0.    0.    0.\n",
      "  0.    0.    0.    0.    0.    0.    0.    0.    0.    0.    0.    0.    0.\n",
      "  0.    0.    0.    0.    0.    0.    0.    0.    0.    0.    0.    0.    0.\n",
      "  0.    0.    0.    0.    0.    0.    0.    0.    0.    0.    0.    0.    0.\n",
      "  0.    0.    0.    0.    0.    0.    0.    0.    0.  ]\n"
     ]
    }
   ],
   "source": [
    "pos = np.zeros(obligors_nb)\n",
    "for idx, ps in zip(bc_ids, bc_positions):\n",
    "    pos[idx] = ps\n",
    "    \n",
    "positions = pos.reshape(pos.size, 1)\n",
    "\n",
    "print positions.flatten()"
   ]
  },
  {
   "cell_type": "code",
   "execution_count": 12,
   "metadata": {
    "collapsed": false
   },
   "outputs": [
    {
     "name": "stdout",
     "output_type": "stream",
     "text": [
      "0.0\n",
      "0.0833333333333\n",
      "[[  0. ]\n",
      " [  0. ]\n",
      " [  0. ]\n",
      " [  0. ]\n",
      " [  4.6]\n",
      " [  1.8]\n",
      " [  0. ]\n",
      " [  0. ]\n",
      " [  0. ]\n",
      " [ -9.2]\n",
      " [  0. ]\n",
      " [  0. ]\n",
      " [  0. ]\n",
      " [ -1. ]\n",
      " [  0. ]\n",
      " [  0. ]\n",
      " [  0. ]\n",
      " [ 13.8]\n",
      " [  0. ]\n",
      " [  0. ]\n",
      " [  0. ]\n",
      " [  0. ]\n",
      " [  0. ]\n",
      " [  0. ]\n",
      " [  0. ]\n",
      " [  0. ]\n",
      " [ -7.2]\n",
      " [  0. ]\n",
      " [  0. ]\n",
      " [ -8.8]\n",
      " [  0. ]\n",
      " [  0. ]\n",
      " [  0. ]\n",
      " [  0. ]\n",
      " [  0. ]\n",
      " [  0. ]\n",
      " [  0. ]\n",
      " [  0. ]\n",
      " [  0. ]\n",
      " [  0. ]\n",
      " [  0. ]\n",
      " [  0. ]\n",
      " [  0. ]\n",
      " [  0. ]\n",
      " [  0. ]\n",
      " [  0. ]\n",
      " [  0. ]\n",
      " [  0. ]\n",
      " [  0. ]\n",
      " [  0. ]\n",
      " [  6.8]\n",
      " [  0. ]\n",
      " [  0. ]\n",
      " [  0. ]\n",
      " [  0. ]\n",
      " [  0. ]\n",
      " [  0. ]\n",
      " [  0. ]\n",
      " [  0. ]\n",
      " [  0. ]\n",
      " [  0. ]\n",
      " [  0. ]\n",
      " [  0. ]\n",
      " [  0. ]\n",
      " [ -0.8]\n",
      " [  0. ]\n",
      " [  0. ]\n",
      " [  0. ]\n",
      " [  0. ]\n",
      " [  0. ]\n",
      " [  0. ]\n",
      " [  0. ]\n",
      " [  0. ]\n",
      " [  0. ]\n",
      " [  0. ]\n",
      " [  0. ]\n",
      " [  0. ]\n",
      " [  0. ]\n",
      " [  0. ]\n",
      " [  0. ]\n",
      " [  0. ]\n",
      " [  0. ]\n",
      " [  0. ]\n",
      " [  0. ]\n",
      " [  0. ]\n",
      " [  0. ]\n",
      " [  0. ]\n",
      " [  0. ]\n",
      " [  0. ]\n",
      " [  0. ]\n",
      " [  0. ]\n",
      " [  0. ]\n",
      " [  0. ]\n",
      " [  0. ]\n",
      " [  0. ]\n",
      " [  0. ]\n",
      " [  0. ]\n",
      " [  0. ]\n",
      " [  0. ]\n",
      " [  0. ]\n",
      " [  0. ]\n",
      " [  0. ]\n",
      " [  0. ]\n",
      " [  0. ]\n",
      " [  0. ]\n",
      " [  0. ]\n",
      " [  0. ]\n",
      " [  0. ]\n",
      " [  0. ]\n",
      " [  0. ]\n",
      " [  0. ]\n",
      " [  0. ]\n",
      " [  0. ]\n",
      " [  0. ]\n",
      " [  0. ]\n",
      " [  0. ]\n",
      " [  0. ]\n",
      " [  0. ]\n",
      " [  0. ]\n",
      " [  0. ]\n",
      " [  0. ]\n",
      " [  0. ]\n",
      " [  0. ]\n",
      " [  0. ]\n",
      " [  0. ]]\n",
      "1.0\n",
      "{'alpha': 0.8, 'risk_period': 0.04166666666666667, 't': 0.0}\n",
      "\n",
      "0.0\n",
      "0.0833333333333\n",
      "[[ 0.        ]\n",
      " [ 0.        ]\n",
      " [ 0.        ]\n",
      " [ 0.        ]\n",
      " [ 0.52272727]\n",
      " [ 0.20454545]\n",
      " [ 0.        ]\n",
      " [ 0.        ]\n",
      " [ 0.        ]\n",
      " [-1.04545455]\n",
      " [ 0.        ]\n",
      " [ 0.        ]\n",
      " [ 0.        ]\n",
      " [-0.11363636]\n",
      " [ 0.        ]\n",
      " [ 0.        ]\n",
      " [ 0.        ]\n",
      " [ 1.56818182]\n",
      " [ 0.        ]\n",
      " [ 0.        ]\n",
      " [ 0.        ]\n",
      " [ 0.        ]\n",
      " [ 0.        ]\n",
      " [ 0.        ]\n",
      " [ 0.        ]\n",
      " [ 0.        ]\n",
      " [-0.81818182]\n",
      " [ 0.        ]\n",
      " [ 0.        ]\n",
      " [-1.        ]\n",
      " [ 0.        ]\n",
      " [ 0.        ]\n",
      " [ 0.        ]\n",
      " [ 0.        ]\n",
      " [ 0.        ]\n",
      " [ 0.        ]\n",
      " [ 0.        ]\n",
      " [ 0.        ]\n",
      " [ 0.        ]\n",
      " [ 0.        ]\n",
      " [ 0.        ]\n",
      " [ 0.        ]\n",
      " [ 0.        ]\n",
      " [ 0.        ]\n",
      " [ 0.        ]\n",
      " [ 0.        ]\n",
      " [ 0.        ]\n",
      " [ 0.        ]\n",
      " [ 0.        ]\n",
      " [ 0.        ]\n",
      " [ 0.77272727]\n",
      " [ 0.        ]\n",
      " [ 0.        ]\n",
      " [ 0.        ]\n",
      " [ 0.        ]\n",
      " [ 0.        ]\n",
      " [ 0.        ]\n",
      " [ 0.        ]\n",
      " [ 0.        ]\n",
      " [ 0.        ]\n",
      " [ 0.        ]\n",
      " [ 0.        ]\n",
      " [ 0.        ]\n",
      " [ 0.        ]\n",
      " [-0.09090909]\n",
      " [ 0.        ]\n",
      " [ 0.        ]\n",
      " [ 0.        ]\n",
      " [ 0.        ]\n",
      " [ 0.        ]\n",
      " [ 0.        ]\n",
      " [ 0.        ]\n",
      " [ 0.        ]\n",
      " [ 0.        ]\n",
      " [ 0.        ]\n",
      " [ 0.        ]\n",
      " [ 0.        ]\n",
      " [ 0.        ]\n",
      " [ 0.        ]\n",
      " [ 0.        ]\n",
      " [ 0.        ]\n",
      " [ 0.        ]\n",
      " [ 0.        ]\n",
      " [ 0.        ]\n",
      " [ 0.        ]\n",
      " [ 0.        ]\n",
      " [ 0.        ]\n",
      " [ 0.        ]\n",
      " [ 0.        ]\n",
      " [ 0.        ]\n",
      " [ 0.        ]\n",
      " [ 0.        ]\n",
      " [ 0.        ]\n",
      " [ 0.        ]\n",
      " [ 0.        ]\n",
      " [ 0.        ]\n",
      " [ 0.        ]\n",
      " [ 0.        ]\n",
      " [ 0.        ]\n",
      " [ 0.        ]\n",
      " [ 0.        ]\n",
      " [ 0.        ]\n",
      " [ 0.        ]\n",
      " [ 0.        ]\n",
      " [ 0.        ]\n",
      " [ 0.        ]\n",
      " [ 0.        ]\n",
      " [ 0.        ]\n",
      " [ 0.        ]\n",
      " [ 0.        ]\n",
      " [ 0.        ]\n",
      " [ 0.        ]\n",
      " [ 0.        ]\n",
      " [ 0.        ]\n",
      " [ 0.        ]\n",
      " [ 0.        ]\n",
      " [ 0.        ]\n",
      " [ 0.        ]\n",
      " [ 0.        ]\n",
      " [ 0.        ]\n",
      " [ 0.        ]\n",
      " [ 0.        ]\n",
      " [ 0.        ]\n",
      " [ 0.        ]\n",
      " [ 0.        ]]\n",
      "1.0\n",
      "{'alpha': 0.8, 'risk_period': 0.04166666666666667, 't': 0.0}\n",
      "\n"
     ]
    }
   ],
   "source": [
    "from finance.portfolio import CSAPortfolio\n",
    "from risk.basel.exposures import BaselExposureAtDefault\n",
    "\n",
    "epsilon_ead = 1./12\n",
    "delta = 15*step\n",
    "cap_conf_level = 0.80\n",
    "\n",
    "ead_res = {}\n",
    "\n",
    "for b_id in [13, 29]:\n",
    "    port = CSAPortfolio(positions, [notional], [swap], [exposure], b_id)\n",
    "    ead = BaselExposureAtDefault(port, [eee])\n",
    "    \n",
    "    self_positions = port.counterparties_positions_from_self\n",
    "    #print self_positions\n",
    "    \n",
    "    ead_res[b_id] = {'ead': ead(t=0., \n",
    "                                epsilon=epsilon_ead, \n",
    "                                risk_period=delta, \n",
    "                                alpha=cap_conf_level,\n",
    "                                positions=self_positions),\n",
    "                     'positions': self_positions}\n",
    "    \n",
    "    print"
   ]
  },
  {
   "cell_type": "code",
   "execution_count": 13,
   "metadata": {
    "collapsed": false
   },
   "outputs": [
    {
     "name": "stderr",
     "output_type": "stream",
     "text": [
      "D:\\Anaconda\\lib\\site-packages\\matplotlib\\__init__.py:872: UserWarning: axes.color_cycle is deprecated and replaced with axes.prop_cycle; please use the latter.\n",
      "  warnings.warn(self.msg_depr % (key, alt_key))\n"
     ]
    }
   ],
   "source": [
    "import matplotlib.pyplot as plt\n",
    "%matplotlib inline\n",
    "\n",
    "import seaborn as sns\n",
    "sns.set_context('talk')"
   ]
  },
  {
   "cell_type": "code",
   "execution_count": 14,
   "metadata": {
    "collapsed": true
   },
   "outputs": [],
   "source": [
    "from matplotlib.ticker import FuncFormatter\n",
    "\n",
    "formatter_pct = FuncFormatter(lambda y, pos: \"%.0f %%\" % (100 * y))\n",
    "formatter_bps = FuncFormatter(lambda y, pos: \"%.0f bps\" % (10000 * y))"
   ]
  },
  {
   "cell_type": "code",
   "execution_count": 15,
   "metadata": {
    "collapsed": true
   },
   "outputs": [],
   "source": [
    "def plot_bars(id_, color_2_highests=False, pct=False):\n",
    "    eads = ead_res[id_]['ead']\n",
    "    positions = ead_res[id_]['positions']\n",
    "\n",
    "    eads_ids = eads[bc_ids].flatten()\n",
    "    pos_ids = positions[bc_ids]\n",
    "\n",
    "    ead_pos = zip(eads_ids, pos_ids)\n",
    "    spreads_ead_pos = zip(spreads, ead_pos)\n",
    "    sorted_spread_ead_pos = sorted(spreads_ead_pos)\n",
    "\n",
    "    spread_sorted_eads = [x[1][0] for x in sorted_spread_ead_pos]\n",
    "    labels = ['%i bps \\n $\\\\frac{\\\\nu}{\\\\nu_0} = $ %.2f' % (x[0], -x[1][1]) for x in sorted_spread_ead_pos]\n",
    "\n",
    "    fig, ax = plt.subplots()\n",
    "\n",
    "    if pct:\n",
    "        bars = ax.bar(np.arange(len(eads_ids)), spread_sorted_eads / sum(spread_sorted_eads))\n",
    "    else:\n",
    "        bars = ax.bar(np.arange(len(eads_ids)), spread_sorted_eads)\n",
    "    \n",
    "    if color_2_highests:\n",
    "        current_palette = sns.color_palette()\n",
    "        \n",
    "        ordered_eads = sorted(spread_sorted_eads)\n",
    "        index1 = spread_sorted_eads.index(ordered_eads[-1])\n",
    "        index2 = spread_sorted_eads.index(ordered_eads[-2])\n",
    "        \n",
    "        bars[index1].set_color(current_palette[2])\n",
    "        bars[index2].set_color(current_palette[2])\n",
    "    \n",
    "    ax.set_xticks(np.arange(len(sorted_spread_ead_pos)) + 0.4)\n",
    "    ax.set_xticklabels(labels)\n",
    "\n",
    "    if pct:\n",
    "        plt.gca().yaxis.set_major_formatter(formatter_pct)\n",
    "    else:\n",
    "        plt.gca().yaxis.set_major_formatter(formatter_bps)\n",
    "    \n",
    "    plt.show()"
   ]
  },
  {
   "cell_type": "code",
   "execution_count": 16,
   "metadata": {
    "collapsed": false
   },
   "outputs": [
    {
     "data": {
      "image/png": "[encoded data removed]",
      "text/plain": [
       "<matplotlib.figure.Figure at 0x99b5a58>"
      ]
     },
     "metadata": {},
     "output_type": "display_data"
    }
   ],
   "source": [
    "plot_bars(13, color_2_highests=False)"
   ]
  },
  {
   "cell_type": "raw",
   "metadata": {
    "collapsed": false
   },
   "source": [
    "plot_bars(13, color_2_highests=False, pct=True)"
   ]
  },
  {
   "cell_type": "code",
   "execution_count": 17,
   "metadata": {
    "collapsed": false
   },
   "outputs": [
    {
     "data": {
      "image/png": "[encoded data removed]",
      "text/plain": [
       "<matplotlib.figure.Figure at 0x3c104b38>"
      ]
     },
     "metadata": {},
     "output_type": "display_data"
    }
   ],
   "source": [
    "plot_bars(29, color_2_highests=False)"
   ]
  },
  {
   "cell_type": "raw",
   "metadata": {
    "collapsed": false
   },
   "source": [
    "plot_bars(29, color_2_highests=False, pct=True)"
   ]
  }
 ],
 "metadata": {
  "kernelspec": {
   "display_name": "Python 2",
   "language": "python",
   "name": "python2"
  },
  "language_info": {
   "codemirror_mode": {
    "name": "ipython",
    "version": 2
   },
   "file_extension": ".py",
   "mimetype": "text/x-python",
   "name": "python",
   "nbconvert_exporter": "python",
   "pygments_lexer": "ipython2",
   "version": "2.7.11"
  }
 },
 "nbformat": 4,
 "nbformat_minor": 0
}
