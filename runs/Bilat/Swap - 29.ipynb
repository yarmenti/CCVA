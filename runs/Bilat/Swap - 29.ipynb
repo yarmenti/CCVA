{
 "cells": [
  {
   "cell_type": "code",
   "execution_count": 1,
   "metadata": {
    "collapsed": true
   },
   "outputs": [],
   "source": [
    "# Bank id\n",
    "\n",
    "b_id = 29\n",
    "#bc_ids = [17, 9, 29, 26, 50, 4, 5, 13, 64]"
   ]
  },
  {
   "cell_type": "code",
   "execution_count": 2,
   "metadata": {
    "collapsed": true
   },
   "outputs": [],
   "source": [
    "import warnings\n",
    "\n",
    "warnings.filterwarnings(\"error\")"
   ]
  },
  {
   "cell_type": "code",
   "execution_count": 3,
   "metadata": {
    "collapsed": true
   },
   "outputs": [],
   "source": [
    "import sys\n",
    "\n",
    "sys.path.append('../..')"
   ]
  },
  {
   "cell_type": "code",
   "execution_count": 4,
   "metadata": {
    "collapsed": true
   },
   "outputs": [],
   "source": [
    "def rec_dict_print(a_dict, level=1):\n",
    "    keys = a_dict.keys()\n",
    "    keys.sort()\n",
    "    for k in keys:\n",
    "        if type(a_dict[k]) is dict:\n",
    "            print \"\".join([\"-\" for i in range(level)]) + k\n",
    "            rec_dict_print(a_dict[k], level + 2)\n",
    "        else:\n",
    "            print \"\".join([\"-\" for i in range(level)]) + k"
   ]
  },
  {
   "cell_type": "code",
   "execution_count": 5,
   "metadata": {
    "collapsed": false
   },
   "outputs": [],
   "source": [
    "%matplotlib inline\n",
    "import dill\n",
    "\n",
    "loaded_data = None\n",
    "\n",
    "with open('../precomputed_sims/data.pkl', 'rb') as f:\n",
    "    loaded_data = dill.load(f)"
   ]
  },
  {
   "cell_type": "code",
   "execution_count": 6,
   "metadata": {
    "collapsed": false
   },
   "outputs": [
    {
     "name": "stdout",
     "output_type": "stream",
     "text": [
      "-N\n",
      "-credit\n",
      "---bc_ids\n",
      "---bc_subsets_indexes\n",
      "---copula\n",
      "---default_times\n",
      "-randomization\n",
      "---distrib\n",
      "-----loc\n",
      "-----scale\n",
      "---maturity\n",
      "---zetas\n",
      "-underlyings\n"
     ]
    }
   ],
   "source": [
    "rec_dict_print(loaded_data)"
   ]
  },
  {
   "cell_type": "code",
   "execution_count": 7,
   "metadata": {
    "collapsed": false
   },
   "outputs": [
    {
     "name": "stdout",
     "output_type": "stream",
     "text": [
      "Maturity = 5.0 years\n"
     ]
    }
   ],
   "source": [
    "# Instead of taking 365 standard days or 252 trading days\n",
    "# in order to get some easy computations for the eqty and df time grids\n",
    "# I chose to take 360 days of tradings\n",
    "\n",
    "step = 1/360.\n",
    "delta = 15*step\n",
    "\n",
    "maturity = loaded_data[\"randomization\"][\"maturity\"]\n",
    "\n",
    "print \"Maturity = %s years\" % maturity"
   ]
  },
  {
   "cell_type": "markdown",
   "metadata": {},
   "source": [
    "# Discount"
   ]
  },
  {
   "cell_type": "code",
   "execution_count": 8,
   "metadata": {
    "collapsed": true
   },
   "outputs": [],
   "source": [
    "from finance.discountfactor import ConstantRateDiscountFactor \n",
    "\n",
    "r = 0.02\n",
    "discount = ConstantRateDiscountFactor(r)"
   ]
  },
  {
   "cell_type": "markdown",
   "metadata": {},
   "source": [
    "# Underlying"
   ]
  },
  {
   "cell_type": "code",
   "execution_count": 9,
   "metadata": {
    "collapsed": false
   },
   "outputs": [
    {
     "name": "stdout",
     "output_type": "stream",
     "text": [
      "Maximum number of paths: 20000\n",
      "kappa = 0.12, sigma = 0.2\n"
     ]
    }
   ],
   "source": [
    "udlyings = loaded_data[\"underlyings\"]\n",
    "\n",
    "print \"Maximum number of paths: %i\" % len(udlyings)\n",
    "\n",
    "gbm0 = udlyings[0]\n",
    "\n",
    "kappa = gbm0.drifts[0][0]\n",
    "sigma = gbm0.vols[0][0]\n",
    "print \"kappa = %s, sigma = %s\" % (kappa, sigma)\n",
    "\n",
    "time_grid = gbm0.time"
   ]
  },
  {
   "cell_type": "markdown",
   "metadata": {},
   "source": [
    "# Derivative"
   ]
  },
  {
   "cell_type": "code",
   "execution_count": 10,
   "metadata": {
    "collapsed": true
   },
   "outputs": [],
   "source": [
    "derivatives_nb = 1"
   ]
  },
  {
   "cell_type": "code",
   "execution_count": 11,
   "metadata": {
    "collapsed": false
   },
   "outputs": [
    {
     "name": "stdout",
     "output_type": "stream",
     "text": [
      "Swap contract of maturity T = 5 years, over S^0 with strike K = 134.306, paying at {0.00, 0.25, 0.50, 0.75, 1.00, 1.25, 1.50, 1.75, 2.00, 2.25, 2.50, 2.75, 3.00, 3.25, 3.50, 3.75, 4.00, 4.25, 4.50, 4.75, 5.00}\n",
      "\n",
      "Price swap at t=0 with 1st coupon = 0.0\n"
     ]
    }
   ],
   "source": [
    "from finance.products.european.swap import (\n",
    "    SwapContract,\n",
    ")\n",
    "\n",
    "swap_delta = 0.25\n",
    "\n",
    "swap_dates = SwapContract.generate_payment_dates(0, maturity, swap_delta)\n",
    "swap = SwapContract(gbm0, discount, swap_dates)\n",
    "\n",
    "price_0 = swap.price(0., incl_next_coupon=True)\n",
    "\n",
    "print swap\n",
    "print \"\\nPrice swap at t=0 with 1st coupon = %s\" % price_0"
   ]
  },
  {
   "cell_type": "markdown",
   "metadata": {},
   "source": [
    "# Exposure"
   ]
  },
  {
   "cell_type": "code",
   "execution_count": 12,
   "metadata": {
    "collapsed": false
   },
   "outputs": [],
   "source": [
    "from risk.exposures import EuropeanVaRGeomBrownianExposure\n",
    "\n",
    "quantile_im = 0.80\n",
    "\n",
    "exposure = EuropeanVaRGeomBrownianExposure(swap, discount, kappa, sigma)"
   ]
  },
  {
   "cell_type": "code",
   "execution_count": 13,
   "metadata": {
    "collapsed": true
   },
   "outputs": [],
   "source": [
    "from risk.basel.eee import BlackScholesSwapVaREffExpectExposure\n",
    "\n",
    "eee = BlackScholesSwapVaREffExpectExposure(swap)"
   ]
  },
  {
   "cell_type": "markdown",
   "metadata": {},
   "source": [
    "# Indexes stuffs"
   ]
  },
  {
   "cell_type": "markdown",
   "metadata": {},
   "source": [
    "## Ids of $B$ and $C$"
   ]
  },
  {
   "cell_type": "code",
   "execution_count": 14,
   "metadata": {
    "collapsed": false
   },
   "outputs": [
    {
     "name": "stdout",
     "output_type": "stream",
     "text": [
      "Bank id: 29\n",
      "Counterparties id: [64, 4, 5, 9, 13, 17, 50, 26] (nb = 8)\n"
     ]
    }
   ],
   "source": [
    "copula = loaded_data[\"credit\"][\"copula\"]\n",
    "\n",
    "bc_subsets_indexes = loaded_data[\"credit\"][\"bc_subsets_indexes\"]\n",
    "\n",
    "#bc_ids = [26, 29, 17, 50, 13, 4, 5, 9, 64]\n",
    "#bc_positions = [-0.36, -0.44, 0.69, 0.34, -0.05, 0.23, 0.09, -0.46, -0.04]\n",
    "#Spreads [1053, 367, 176, 73, 61, 56, 52, 45, 108]\n",
    "\n",
    "bc_ids = [17, 9, 29, 26, 50, 4, 5, 13, 64]\n",
    "bc_positions = [0.69, -0.46, -0.44, -0.36, 0.34, 0.23, 0.09, -0.05, -0.04]\n",
    "\n",
    "# Counterparties id\n",
    "c_ids = list(set(bc_ids) - set([b_id]))\n",
    "\n",
    "print \"Bank id: %s\" % b_id\n",
    "print \"Counterparties id: %s (nb = %s)\" % (c_ids, len(c_ids))"
   ]
  },
  {
   "cell_type": "code",
   "execution_count": 15,
   "metadata": {
    "collapsed": false
   },
   "outputs": [
    {
     "name": "stdout",
     "output_type": "stream",
     "text": [
      "Obligor numbers: 125\n"
     ]
    }
   ],
   "source": [
    "obligors_nb = len(copula.subsets[bc_subsets_indexes[-1]][0])\n",
    "\n",
    "print \"Obligor numbers: %s\" % obligors_nb"
   ]
  },
  {
   "cell_type": "markdown",
   "metadata": {},
   "source": [
    "## Subsets indexes of the copula for $B$ and $C$"
   ]
  },
  {
   "cell_type": "code",
   "execution_count": 16,
   "metadata": {
    "collapsed": false
   },
   "outputs": [
    {
     "name": "stdout",
     "output_type": "stream",
     "text": [
      "Subsets that generated default times: [0, 1, 2, 3, 4, 5, 6, 7, 8, 9, 10, 11, 12, 13, 14, 15, 16, 17, 18, 19, 20, 21, 22, 23, 24, 25, 26, 27, 28, 29, 30, 31, 32, 33, 34, 35, 36, 37, 38, 39, 40, 41, 42, 43, 44, 45, 46, 47, 48, 49, 50, 51, 52, 53, 54, 55, 56, 57, 58, 59, 60, 61, 62, 63, 64, 65, 66, 67, 68, 69, 70, 71, 72, 73, 74, 75, 76, 77, 78, 79, 80, 81, 82, 83, 84, 85, 86, 87, 88, 89, 90, 91, 92, 93, 94, 95, 96, 97, 98, 99, 100, 101, 102, 103, 104, 105, 106, 107, 108, 109, 110, 111, 112, 113, 114, 115, 116, 117, 118, 119, 120, 121, 122, 123, 124, 125, 126, 127, 128, 129]\n",
      "\n",
      "Bank subsets indexes: [29, 126, 127, 128, 129]\n",
      "\n",
      "Counterparties subsets indexes: [4, 5, 9, 13, 17, 26, 50, 64, 125, 126, 127, 128, 129]\n"
     ]
    }
   ],
   "source": [
    "b_subsets_indexes = copula.get_indexes_including(b_id)\n",
    "\n",
    "c_subsets_indexes = []\n",
    "for c_id in c_ids:\n",
    "    tmp = copula.get_indexes_including(c_id)\n",
    "    c_subsets_indexes += tmp\n",
    "    \n",
    "b_subsets_indexes.sort()\n",
    "c_subsets_indexes.sort()\n",
    "    \n",
    "print \"Subsets that generated default times: %s\\n\" % bc_subsets_indexes\n",
    "print \"Bank subsets indexes: %s\\n\" % b_subsets_indexes\n",
    "\n",
    "tmp_c_subsets_indexes = list(set(c_subsets_indexes))\n",
    "tmp_c_subsets_indexes.sort()\n",
    "print \"Counterparties subsets indexes: %s\" % tmp_c_subsets_indexes"
   ]
  },
  {
   "cell_type": "markdown",
   "metadata": {},
   "source": [
    "# Portfolio construction"
   ]
  },
  {
   "cell_type": "code",
   "execution_count": 17,
   "metadata": {
    "collapsed": false
   },
   "outputs": [
    {
     "name": "stdout",
     "output_type": "stream",
     "text": [
      "Notional = 0.0015687485053\n"
     ]
    }
   ],
   "source": [
    "import numpy as np\n",
    "\n",
    "p_fixed = 1.\n",
    "strike = swap.strike\n",
    "\n",
    "delta_times = swap.delta_time\n",
    "discount_factors = [discount(t) for t in swap.pillars[1:]]\n",
    "\n",
    "delta_beta_sum = np.dot(delta_times, discount_factors)\n",
    "\n",
    "notional = p_fixed / (strike*delta_beta_sum)\n",
    "\n",
    "print \"Notional = %s\" % notional"
   ]
  },
  {
   "cell_type": "code",
   "execution_count": 18,
   "metadata": {
    "collapsed": false
   },
   "outputs": [
    {
     "name": "stdout",
     "output_type": "stream",
     "text": [
      "[ 0.    0.    0.    0.    0.23  0.09  0.    0.    0.   -0.46  0.    0.    0.\n",
      " -0.05  0.    0.    0.    0.69  0.    0.    0.    0.    0.    0.    0.    0.\n",
      " -0.36  0.    0.   -0.44  0.    0.    0.    0.    0.    0.    0.    0.    0.\n",
      "  0.    0.    0.    0.    0.    0.    0.    0.    0.    0.    0.    0.34\n",
      "  0.    0.    0.    0.    0.    0.    0.    0.    0.    0.    0.    0.    0.\n",
      " -0.04  0.    0.    0.    0.    0.    0.    0.    0.    0.    0.    0.    0.\n",
      "  0.    0.    0.    0.    0.    0.    0.    0.    0.    0.    0.    0.    0.\n",
      "  0.    0.    0.    0.    0.    0.    0.    0.    0.    0.    0.    0.    0.\n",
      "  0.    0.    0.    0.    0.    0.    0.    0.    0.    0.    0.    0.    0.\n",
      "  0.    0.    0.    0.    0.    0.    0.    0.    0.  ]\n"
     ]
    }
   ],
   "source": [
    "pos = np.zeros(obligors_nb)\n",
    "for idx, ps in zip(bc_ids, bc_positions):\n",
    "    pos[idx] = ps\n",
    "    \n",
    "positions = pos.reshape(pos.size, 1)\n",
    "\n",
    "print pos"
   ]
  },
  {
   "cell_type": "code",
   "execution_count": 19,
   "metadata": {
    "collapsed": false
   },
   "outputs": [],
   "source": [
    "from finance.portfolio import CSAPortfolio\n",
    "\n",
    "port = CSAPortfolio(positions, [notional], [swap], [exposure], b_id)"
   ]
  },
  {
   "cell_type": "markdown",
   "metadata": {},
   "source": [
    "# VM and IM accounts"
   ]
  },
  {
   "cell_type": "code",
   "execution_count": 20,
   "metadata": {
    "collapsed": true
   },
   "outputs": [],
   "source": [
    "from ccp.accounts import Accounts\n",
    "from ccp.states import MembersState\n",
    "\n",
    "states = MembersState(obligors_nb)\n",
    "vm_accounts = Accounts(states, derivatives_nb)\n",
    "im_accounts = Accounts(states, derivatives_nb)"
   ]
  },
  {
   "cell_type": "code",
   "execution_count": 21,
   "metadata": {
    "collapsed": false
   },
   "outputs": [
    {
     "name": "stdout",
     "output_type": "stream",
     "text": [
      "[None, None, None, None, <credit.default_models.StepwiseConstantIntensity object at 0x000000002E5015C0>, <credit.default_models.StepwiseConstantIntensity object at 0x000000002E501B70>, None, None, None, <credit.default_models.StepwiseConstantIntensity object at 0x0000000071F9BB70>, None, None, None, <credit.default_models.StepwiseConstantIntensity object at 0x0000000071F9BBA8>, None, None, None, <credit.default_models.StepwiseConstantIntensity object at 0x0000000071F9B208>, None, None, None, None, None, None, None, None, <credit.default_models.StepwiseConstantIntensity object at 0x0000000071F9BCF8>, None, None, None, None, None, None, None, None, None, None, None, None, None, None, None, None, None, None, None, None, None, None, None, <credit.default_models.StepwiseConstantIntensity object at 0x0000000071F9BD68>, None, None, None, None, None, None, None, None, None, None, None, None, None, <credit.default_models.StepwiseConstantIntensity object at 0x0000000071F9BF60>, None, None, None, None, None, None, None, None, None, None, None, None, None, None, None, None, None, None, None, None, None, None, None, None, None, None, None, None, None, None, None, None, None, None, None, None, None, None, None, None, None, None, None, None, None, None, None, None, None, None, None, None, None, None, None, None, None, None, None, None]\n"
     ]
    }
   ],
   "source": [
    "from credit.default_models import StepwiseConstantIntensity\n",
    "\n",
    "default_proba_models = []\n",
    "\n",
    "all_ids = list(copula.subsets[bc_subsets_indexes[-1]][0])\n",
    "for ii in all_ids:\n",
    "    _model = None\n",
    "    if ii in c_ids:\n",
    "        _indexes = copula.get_indexes_including(ii)\n",
    "        mat_hzrd_rate = dict()\n",
    "        for m in copula.models[_indexes]:\n",
    "            for pill, hzrd_rate in zip(m.pillars, m.intensities):\n",
    "                mat_hzrd_rate[pill] = mat_hzrd_rate.get(pill, 0.) + hzrd_rate\n",
    "                #if pill not in mat_hzrd_rate:\n",
    "                #    mat_hzrd_rate[pill] = 0.\n",
    "                #mat_hzrd_rate[pill] += hzrd_rate\n",
    "                \n",
    "        _model = StepwiseConstantIntensity(mat_hzrd_rate.keys(), mat_hzrd_rate.values())\n",
    "    \n",
    "    default_proba_models.append(_model)\n",
    "    \n",
    "print default_proba_models"
   ]
  },
  {
   "cell_type": "markdown",
   "metadata": {},
   "source": [
    "# Regulatory capital"
   ]
  },
  {
   "cell_type": "code",
   "execution_count": 22,
   "metadata": {
    "collapsed": true
   },
   "outputs": [],
   "source": [
    "from risk.basel.exposures import BaselExposureAtDefault\n",
    "\n",
    "ead = BaselExposureAtDefault(port, [eee])"
   ]
  },
  {
   "cell_type": "code",
   "execution_count": 23,
   "metadata": {
    "collapsed": false
   },
   "outputs": [],
   "source": [
    "from risk.basel.capital import CSARegulatoryCapital\n",
    "\n",
    "recoveries = [0.4 for _ in all_ids]\n",
    "regul_cap = CSARegulatoryCapital(ead, states, default_proba_models, recoveries)\n",
    "epsilon_ead = 1./12\n",
    "cap_conf_level = quantile_im"
   ]
  },
  {
   "cell_type": "raw",
   "metadata": {},
   "source": [
    "print regul_cap.compute_k_ccr(9, 0., epsilon=epsilon_ead, risk_period=delta, alpha=cap_conf_level)\n",
    "print regul_cap.compute_k_cva(9, 0., epsilon=epsilon_ead, risk_period=delta, alpha=cap_conf_level)\n",
    "\n",
    "raise RuntimeError(\"STOP\")"
   ]
  },
  {
   "cell_type": "markdown",
   "metadata": {},
   "source": [
    "# Funding and capital parameters"
   ]
  },
  {
   "cell_type": "code",
   "execution_count": 24,
   "metadata": {
    "collapsed": true
   },
   "outputs": [],
   "source": [
    "lambda_ = 0.\n",
    "funder_recovery = 1.\n",
    "k_ = 0.1\n",
    "c_ = 0."
   ]
  },
  {
   "cell_type": "markdown",
   "metadata": {
    "collapsed": true
   },
   "source": [
    "# MC loop"
   ]
  },
  {
   "cell_type": "code",
   "execution_count": 25,
   "metadata": {
    "collapsed": true
   },
   "outputs": [],
   "source": [
    "from utils import time_offseter"
   ]
  },
  {
   "cell_type": "code",
   "execution_count": 26,
   "metadata": {
    "collapsed": false,
    "simus_nb_cell": true
   },
   "outputs": [],
   "source": [
    "N = loaded_data[\"N\"]\n",
    "N = 10000"
   ]
  },
  {
   "cell_type": "code",
   "execution_count": 27,
   "metadata": {
    "collapsed": false
   },
   "outputs": [],
   "source": [
    "results_globs = {\"cva\": {\"sum\": 0., \"sum2\": 0.},\n",
    "                 \"dva\": {\"sum\": 0., \"sum2\": 0.},\n",
    "                 \"mla\": {\"sum\": 0., \"sum2\": 0.},\n",
    "                 \"mva\": {\"sum\": 0., \"sum2\": 0.},\n",
    "                 \"kva\": {\"sum\": 0., \"sum2\": 0.}}"
   ]
  },
  {
   "cell_type": "code",
   "execution_count": 28,
   "metadata": {
    "collapsed": false
   },
   "outputs": [],
   "source": [
    "from scipy.stats import expon\n",
    "\n",
    "exp_distrib_params = loaded_data[\"randomization\"][\"distrib\"]\n",
    "exp_distrib = expon(loc=exp_distrib_params[\"loc\"], scale=exp_distrib_params[\"scale\"])\n",
    "\n",
    "zetas = loaded_data[\"randomization\"][\"zetas\"]\n",
    "default_times_mat = loaded_data[\"credit\"][\"default_times\"]"
   ]
  },
  {
   "cell_type": "code",
   "execution_count": 29,
   "metadata": {
    "collapsed": false
   },
   "outputs": [],
   "source": [
    "import time\n",
    "\n",
    "tic = time.time()\n",
    "\n",
    "b_df_times_indexes = [ii for ii, ind in enumerate(bc_subsets_indexes) if ind in b_subsets_indexes]\n",
    "mat_delta = maturity + delta\n",
    "\n",
    "for i in range(N):\n",
    "    # Resurrecting the states\n",
    "    # resets to 0. the values\n",
    "    # of the VMs and IMs\n",
    "    states.resurrect_all()\n",
    "    port.delete_cache()\n",
    "    \n",
    "    zeta = zetas[i]\n",
    "    zeta_delta = time_offseter(zeta+delta, time_grid, True)\n",
    "    \n",
    "    if zeta <= maturity + delta:\n",
    "        discount_zeta = discount(zeta)\n",
    "        \n",
    "        b_gamma_zeta = copula.tot_gamma(zeta, subsets_indexes=b_subsets_indexes)\n",
    "        bar_lambda_zeta = b_gamma_zeta * 0.6\n",
    "        tilde_lambda_zeta = bar_lambda_zeta - (1 - funder_recovery) * b_gamma_zeta\n",
    "        lambda_zeta = 0.\n",
    "        \n",
    "        c_zeta = c_\n",
    "        k_zeta = k_\n",
    "        inv_pdf_zeta = 1./exp_distrib.pdf(zeta)\n",
    "    \n",
    "    # We set the simulated underlying here\n",
    "    # that has the all time grid with\n",
    "    # mpor = 1./360\n",
    "    swap.underlying = udlyings[i]\n",
    "    \n",
    "    default_times = default_times_mat[i]\n",
    "    b_min_df_time = default_times[b_df_times_indexes].min()\n",
    "    \n",
    "    cva_, dva_, fva_, kva_ = [0. for _ in range(4)]\n",
    "    \n",
    "    for c_id in c_ids:\n",
    "        cp_subsets_indexes = copula.get_indexes_including(c_id)\n",
    "        c_df_times_indexes = [ii for ii, ind in enumerate(bc_subsets_indexes) if ind in cp_subsets_indexes]\n",
    "        \n",
    "        c_min_df_time = default_times[c_df_times_indexes].min()\n",
    "        bc_min_df_time = min(b_min_df_time, c_min_df_time)\n",
    "        if bc_min_df_time < maturity and c_min_df_time <= b_min_df_time + delta:\n",
    "            time_payoff = min(b_min_df_time, c_min_df_time) + delta\n",
    "            time_payoff = time_offseter(time_payoff, time_grid, True)\n",
    "            \n",
    "            lgd = 1.-recoveries[c_id]\n",
    "            \n",
    "            ###########\n",
    "            ### Q^i ###\n",
    "            ###########            \n",
    "            p_i = port.compute_value(time_payoff, from_=c_id, towards_=b_id).sum()\n",
    "            q_i = p_i\n",
    "            \n",
    "            ############\n",
    "            ### VM^i ###\n",
    "            ############\n",
    "            vm_i = port.compute_value(bc_min_df_time, from_=c_id, towards_=b_id)\n",
    "            vm_accounts.put_amounts(b_id, -vm_i)\n",
    "            vm_accounts.put_amounts(c_id, vm_i)\n",
    "            \n",
    "            #################\n",
    "            ### IM^{c, i} ###\n",
    "            #################\n",
    "            im_bi = port.compute_exposure(bc_min_df_time, \n",
    "                                          risk_period=delta, \n",
    "                                          conf_level=quantile_im,\n",
    "                                          from_=c_id, \n",
    "                                          towards_=b_id)\n",
    "            \n",
    "            im_ci = -port.compute_exposure(bc_min_df_time, \n",
    "                                          risk_period=delta, \n",
    "                                          conf_level=quantile_im,\n",
    "                                          from_=b_id, \n",
    "                                          towards_=c_id)\n",
    "            \n",
    "            im_accounts.put_amounts(b_id, im_bi)\n",
    "            im_accounts.put_amounts(c_id, -im_ci)\n",
    "            \n",
    "            c_ci = vm_i.sum() + im_ci.sum()\n",
    "            \n",
    "            #############\n",
    "            ### CVA^i ###\n",
    "            #############\n",
    "            cva_ += - discount(time_payoff) * lgd * np.minimum(q_i - c_ci, 0.)\n",
    "        \n",
    "        if bc_min_df_time < maturity and b_min_df_time <= c_min_df_time + delta:\n",
    "            time_payoff = min(b_min_df_time, c_min_df_time) + delta\n",
    "            time_payoff = time_offseter(time_payoff, time_grid, True)\n",
    "            \n",
    "            lgd = 1.-recoveries[b_id]\n",
    "            \n",
    "            ###########\n",
    "            ### Q^i ###\n",
    "            ###########            \n",
    "            p_i = port.compute_value(time_payoff, from_=c_id, towards_=b_id).sum()\n",
    "            q_i = p_i\n",
    "            \n",
    "            ############\n",
    "            ### VM^i ###\n",
    "            ############\n",
    "            vm_i = port.compute_value(bc_min_df_time, from_=c_id, towards_=b_id)\n",
    "            vm_accounts.put_amounts(b_id, -vm_i)\n",
    "            vm_accounts.put_amounts(c_id, vm_i)\n",
    "            \n",
    "            #################\n",
    "            ### IM^{c, i} ###\n",
    "            #################\n",
    "            im_bi = port.compute_exposure(bc_min_df_time, \n",
    "                                          risk_period=delta, \n",
    "                                          conf_level=quantile_im,\n",
    "                                          from_=c_id, \n",
    "                                          towards_=b_id)\n",
    "            \n",
    "            im_ci = -port.compute_exposure(bc_min_df_time, \n",
    "                                          risk_period=delta, \n",
    "                                          conf_level=quantile_im,\n",
    "                                          from_=b_id, \n",
    "                                          towards_=c_id)\n",
    "            \n",
    "            im_accounts.put_amounts(b_id, im_bi)\n",
    "            im_accounts.put_amounts(c_id, -im_ci)\n",
    "            \n",
    "            c_bi = vm_i.sum() + im_bi.sum()\n",
    "            \n",
    "            #############\n",
    "            ### DVA^i ###\n",
    "            #############\n",
    "            dva_ += discount(time_payoff) * lgd * np.maximum(q_i - c_bi, 0.)\n",
    "                \n",
    "        if zeta > maturity + delta:\n",
    "            continue\n",
    "        \n",
    "        ##############\n",
    "        ### I_zeta ###\n",
    "        ##############\n",
    "        i_in_I_zeta_1 = bc_min_df_time > maturity and zeta <= maturity\n",
    "        i_in_I_zeta_2 = bc_min_df_time < maturity and zeta <= min(b_min_df_time, c_min_df_time + delta)\n",
    "        \n",
    "        i_in_I_zeta = i_in_I_zeta_1 or i_in_I_zeta_2\n",
    "        \n",
    "        if not i_in_I_zeta:\n",
    "            continue\n",
    "          \n",
    "        ###########\n",
    "        ### P^i ###\n",
    "        ###########\n",
    "        p_i = port.compute_value(zeta, from_=c_id, towards_=b_id).sum()\n",
    "            \n",
    "        ############\n",
    "        ### VM^i ###\n",
    "        ############\n",
    "        vm_i = port.compute_value(zeta, from_=c_id, towards_=b_id)\n",
    "        \n",
    "        #################\n",
    "        ### IM^{b, i} ###\n",
    "        #################\n",
    "        im_bi = port.compute_exposure(zeta, \n",
    "                                      risk_period=delta, \n",
    "                                      conf_level=quantile_im,\n",
    "                                      from_=c_id, \n",
    "                                      towards_=b_id)\n",
    "        \n",
    "        #################\n",
    "        ### IM^{c, i} ###\n",
    "        #################\n",
    "        im_ci = -port.compute_exposure(zeta, \n",
    "                                       risk_period=delta, \n",
    "                                       conf_level=quantile_im,\n",
    "                                       from_=b_id, \n",
    "                                       towards_=c_id)           \n",
    "    \n",
    "        im_accounts.put_amounts(b_id, im_bi)\n",
    "        im_accounts.put_amounts(c_id, -im_ci)\n",
    "        \n",
    "        ############\n",
    "        ### IM^i ###\n",
    "        ############\n",
    "        c_i = vm_i.sum() + im_bi.sum()\n",
    "        \n",
    "        #############\n",
    "        ### FVA^i ###\n",
    "        #############\n",
    "        fva_ += p_i - c_i\n",
    "            \n",
    "        #############\n",
    "        ### KVA^i ###\n",
    "        #############\n",
    "        __kccr = regul_cap.compute_k_ccr(c_id, zeta, epsilon=epsilon_ead, risk_period=delta, alpha=cap_conf_level)\n",
    "        __kcva = regul_cap.compute_k_cva(c_id, zeta, epsilon=epsilon_ead, risk_period=delta, alpha=cap_conf_level)\n",
    "        \n",
    "        kva_ += __kccr + __kcva\n",
    "            \n",
    "    results_globs[\"cva\"][\"sum\"] += cva_\n",
    "    results_globs[\"cva\"][\"sum2\"] += cva_**2\n",
    "    \n",
    "    results_globs[\"dva\"][\"sum\"] += dva_\n",
    "    results_globs[\"dva\"][\"sum2\"] += dva_**2\n",
    "    \n",
    "    tmp_mla = 0.\n",
    "    tmp_mva = 0.\n",
    "    tmp_kva = 0.\n",
    "    if zeta <= maturity + delta:\n",
    "        tmp_mla = discount_zeta * inv_pdf_zeta * (c_zeta * fva_)\n",
    "        tmp_mva = discount_zeta * inv_pdf_zeta * (tilde_lambda_zeta * (-np.minimum(fva_, 0.)) - lambda_zeta * np.maximum(fva_, 0.))\n",
    "        \n",
    "        tmp_kva = discount_zeta * inv_pdf_zeta * k_zeta * kva_\n",
    "    \n",
    "    results_globs[\"mla\"][\"sum\"] += tmp_mla \n",
    "    results_globs[\"mla\"][\"sum2\"] += tmp_mla**2\n",
    "    \n",
    "    results_globs[\"mva\"][\"sum\"] += tmp_mva \n",
    "    results_globs[\"mva\"][\"sum2\"] += tmp_mva**2\n",
    "        \n",
    "    results_globs[\"kva\"][\"sum\"] += tmp_kva \n",
    "    results_globs[\"kva\"][\"sum2\"] += tmp_kva**2\n",
    "        \n",
    "toc = time.time()"
   ]
  },
  {
   "cell_type": "markdown",
   "metadata": {
    "collapsed": true
   },
   "source": [
    "# Results"
   ]
  },
  {
   "cell_type": "code",
   "execution_count": 30,
   "metadata": {
    "collapsed": false
   },
   "outputs": [
    {
     "name": "stdout",
     "output_type": "stream",
     "text": [
      "Results for 10000 iterations (937.944999933 secs.)\n",
      "\n",
      "Used discount factor: Constant discount factor process with rate r = 0.02\n",
      "\n",
      "Bank index 29 that belongs to the following MO copula subsets:\n",
      "- [29] with pillars [3 5] and intensity [ 0.06140538  0.01950418]\n",
      "\n",
      "- [64, 98, 99, 38, 70, 71, 104, 75, 76, 81, 78, 111, 17, 83, 120, 26, 124, 29, 31] with pillars [3 5] and intensity [ 0.0053745  0.0050889]\n",
      "\n",
      "- [17, 26, 29, 31, 38, 50, 55, 64, 66, 70, 71, 75, 76, 78, 81, 83, 98, 99, 103, 104, 107, 111, 120, 122, 124] with pillars [3 5] and intensity [ 0.0006145  0.0086692]\n",
      "\n",
      "- [0, 3, 4, 5, 9, 13, 17, 24, 25, 26, 27, 28, 29, 30, 31, 33, 36, 37, 38, 43, 45, 47, 50, 52, 55, 56, 57, 61, 64, 66, 70, 71, 72, 73, 75, 76, 78, 80, 81, 82, 83, 86, 87, 89, 90, 98, 99, 100, 103, 104, 107, 111, 112, 113, 114, 116, 118, 119, 120, 122, 124] with pillars [3 5] and intensity [  2.01650000e-04   9.33720000e-05]\n",
      "\n",
      "- [0, 1, 2, 3, 4, 5, 6, 7, 8, 9, 10, 11, 12, 13, 14, 15, 16, 17, 18, 19, 20, 21, 22, 23, 24, 25, 26, 27, 28, 29, 30, 31, 32, 33, 34, 35, 36, 37, 38, 39, 40, 41, 42, 43, 44, 45, 46, 47, 48, 49, 50, 51, 52, 53, 54, 55, 56, 57, 58, 59, 60, 61, 62, 63, 64, 65, 66, 67, 68, 69, 70, 71, 72, 73, 74, 75, 76, 77, 78, 79, 80, 81, 82, 83, 84, 85, 86, 87, 88, 89, 90, 91, 92, 93, 94, 95, 96, 97, 98, 99, 100, 101, 102, 103, 104, 105, 106, 107, 108, 109, 110, 111, 112, 113, 114, 115, 116, 117, 118, 119, 120, 121, 122, 123, 124] with pillars [3 5] and intensity [ 0.0016207  0.0076647]\n",
      "\n",
      "Counterparties indexes:\n",
      "[64, 4, 5, 9, 13, 17, 50, 26]\n",
      "\n",
      "-----------------------------------------------------\n",
      "\n",
      "Counterparty index 64 belongs to the following MO copula subses:\n",
      "- [64] with pillars [3 5] and intensity [ 0.00795383  0.01045393]\n",
      "\n",
      "- [64, 98, 99, 38, 70, 71, 104, 75, 76, 81, 78, 111, 17, 83, 120, 26, 124, 29, 31] with pillars [3 5] and intensity [ 0.0053745  0.0050889]\n",
      "\n",
      "- [17, 26, 29, 31, 38, 50, 55, 64, 66, 70, 71, 75, 76, 78, 81, 83, 98, 99, 103, 104, 107, 111, 120, 122, 124] with pillars [3 5] and intensity [ 0.0006145  0.0086692]\n",
      "\n",
      "- [0, 3, 4, 5, 9, 13, 17, 24, 25, 26, 27, 28, 29, 30, 31, 33, 36, 37, 38, 43, 45, 47, 50, 52, 55, 56, 57, 61, 64, 66, 70, 71, 72, 73, 75, 76, 78, 80, 81, 82, 83, 86, 87, 89, 90, 98, 99, 100, 103, 104, 107, 111, 112, 113, 114, 116, 118, 119, 120, 122, 124] with pillars [3 5] and intensity [  2.01650000e-04   9.33720000e-05]\n",
      "\n",
      "- [0, 1, 2, 3, 4, 5, 6, 7, 8, 9, 10, 11, 12, 13, 14, 15, 16, 17, 18, 19, 20, 21, 22, 23, 24, 25, 26, 27, 28, 29, 30, 31, 32, 33, 34, 35, 36, 37, 38, 39, 40, 41, 42, 43, 44, 45, 46, 47, 48, 49, 50, 51, 52, 53, 54, 55, 56, 57, 58, 59, 60, 61, 62, 63, 64, 65, 66, 67, 68, 69, 70, 71, 72, 73, 74, 75, 76, 77, 78, 79, 80, 81, 82, 83, 84, 85, 86, 87, 88, 89, 90, 91, 92, 93, 94, 95, 96, 97, 98, 99, 100, 101, 102, 103, 104, 105, 106, 107, 108, 109, 110, 111, 112, 113, 114, 115, 116, 117, 118, 119, 120, 121, 122, 123, 124] with pillars [3 5] and intensity [ 0.0016207  0.0076647]\n",
      "\n",
      "\n",
      "Counterparty index 4 belongs to the following MO copula subses:\n",
      "- [4] with pillars [3 5] and intensity [  8.58089030e-03  -4.31167803e-08]\n",
      "\n",
      "- [0, 3, 4, 5, 9, 13, 17, 24, 25, 26, 27, 28, 29, 30, 31, 33, 36, 37, 38, 43, 45, 47, 50, 52, 55, 56, 57, 61, 64, 66, 70, 71, 72, 73, 75, 76, 78, 80, 81, 82, 83, 86, 87, 89, 90, 98, 99, 100, 103, 104, 107, 111, 112, 113, 114, 116, 118, 119, 120, 122, 124] with pillars [3 5] and intensity [  2.01650000e-04   9.33720000e-05]\n",
      "\n",
      "- [0, 1, 2, 3, 4, 5, 6, 7, 8, 9, 10, 11, 12, 13, 14, 15, 16, 17, 18, 19, 20, 21, 22, 23, 24, 25, 26, 27, 28, 29, 30, 31, 32, 33, 34, 35, 36, 37, 38, 39, 40, 41, 42, 43, 44, 45, 46, 47, 48, 49, 50, 51, 52, 53, 54, 55, 56, 57, 58, 59, 60, 61, 62, 63, 64, 65, 66, 67, 68, 69, 70, 71, 72, 73, 74, 75, 76, 77, 78, 79, 80, 81, 82, 83, 84, 85, 86, 87, 88, 89, 90, 91, 92, 93, 94, 95, 96, 97, 98, 99, 100, 101, 102, 103, 104, 105, 106, 107, 108, 109, 110, 111, 112, 113, 114, 115, 116, 117, 118, 119, 120, 121, 122, 123, 124] with pillars [3 5] and intensity [ 0.0016207  0.0076647]\n",
      "\n",
      "\n",
      "Counterparty index 5 belongs to the following MO copula subses:\n",
      "- [5] with pillars [3 5] and intensity [ 0.00714886  0.00216609]\n",
      "\n",
      "- [0, 3, 4, 5, 9, 13, 17, 24, 25, 26, 27, 28, 29, 30, 31, 33, 36, 37, 38, 43, 45, 47, 50, 52, 55, 56, 57, 61, 64, 66, 70, 71, 72, 73, 75, 76, 78, 80, 81, 82, 83, 86, 87, 89, 90, 98, 99, 100, 103, 104, 107, 111, 112, 113, 114, 116, 118, 119, 120, 122, 124] with pillars [3 5] and intensity [  2.01650000e-04   9.33720000e-05]\n",
      "\n",
      "- [0, 1, 2, 3, 4, 5, 6, 7, 8, 9, 10, 11, 12, 13, 14, 15, 16, 17, 18, 19, 20, 21, 22, 23, 24, 25, 26, 27, 28, 29, 30, 31, 32, 33, 34, 35, 36, 37, 38, 39, 40, 41, 42, 43, 44, 45, 46, 47, 48, 49, 50, 51, 52, 53, 54, 55, 56, 57, 58, 59, 60, 61, 62, 63, 64, 65, 66, 67, 68, 69, 70, 71, 72, 73, 74, 75, 76, 77, 78, 79, 80, 81, 82, 83, 84, 85, 86, 87, 88, 89, 90, 91, 92, 93, 94, 95, 96, 97, 98, 99, 100, 101, 102, 103, 104, 105, 106, 107, 108, 109, 110, 111, 112, 113, 114, 115, 116, 117, 118, 119, 120, 121, 122, 123, 124] with pillars [3 5] and intensity [ 0.0016207  0.0076647]\n",
      "\n",
      "\n",
      "Counterparty index 9 belongs to the following MO copula subses:\n",
      "- [9] with pillars [3 5] and intensity [ 0.00535751  0.00313574]\n",
      "\n",
      "- [0, 3, 4, 5, 9, 13, 17, 24, 25, 26, 27, 28, 29, 30, 31, 33, 36, 37, 38, 43, 45, 47, 50, 52, 55, 56, 57, 61, 64, 66, 70, 71, 72, 73, 75, 76, 78, 80, 81, 82, 83, 86, 87, 89, 90, 98, 99, 100, 103, 104, 107, 111, 112, 113, 114, 116, 118, 119, 120, 122, 124] with pillars [3 5] and intensity [  2.01650000e-04   9.33720000e-05]\n",
      "\n",
      "- [0, 1, 2, 3, 4, 5, 6, 7, 8, 9, 10, 11, 12, 13, 14, 15, 16, 17, 18, 19, 20, 21, 22, 23, 24, 25, 26, 27, 28, 29, 30, 31, 32, 33, 34, 35, 36, 37, 38, 39, 40, 41, 42, 43, 44, 45, 46, 47, 48, 49, 50, 51, 52, 53, 54, 55, 56, 57, 58, 59, 60, 61, 62, 63, 64, 65, 66, 67, 68, 69, 70, 71, 72, 73, 74, 75, 76, 77, 78, 79, 80, 81, 82, 83, 84, 85, 86, 87, 88, 89, 90, 91, 92, 93, 94, 95, 96, 97, 98, 99, 100, 101, 102, 103, 104, 105, 106, 107, 108, 109, 110, 111, 112, 113, 114, 115, 116, 117, 118, 119, 120, 121, 122, 123, 124] with pillars [3 5] and intensity [ 0.0016207  0.0076647]\n",
      "\n",
      "\n",
      "Counterparty index 13 belongs to the following MO copula subses:\n",
      "- [13] with pillars [3 5] and intensity [ 0.0067907   0.01187502]\n",
      "\n",
      "- [0, 3, 4, 5, 9, 13, 17, 24, 25, 26, 27, 28, 29, 30, 31, 33, 36, 37, 38, 43, 45, 47, 50, 52, 55, 56, 57, 61, 64, 66, 70, 71, 72, 73, 75, 76, 78, 80, 81, 82, 83, 86, 87, 89, 90, 98, 99, 100, 103, 104, 107, 111, 112, 113, 114, 116, 118, 119, 120, 122, 124] with pillars [3 5] and intensity [  2.01650000e-04   9.33720000e-05]\n",
      "\n",
      "- [0, 1, 2, 3, 4, 5, 6, 7, 8, 9, 10, 11, 12, 13, 14, 15, 16, 17, 18, 19, 20, 21, 22, 23, 24, 25, 26, 27, 28, 29, 30, 31, 32, 33, 34, 35, 36, 37, 38, 39, 40, 41, 42, 43, 44, 45, 46, 47, 48, 49, 50, 51, 52, 53, 54, 55, 56, 57, 58, 59, 60, 61, 62, 63, 64, 65, 66, 67, 68, 69, 70, 71, 72, 73, 74, 75, 76, 77, 78, 79, 80, 81, 82, 83, 84, 85, 86, 87, 88, 89, 90, 91, 92, 93, 94, 95, 96, 97, 98, 99, 100, 101, 102, 103, 104, 105, 106, 107, 108, 109, 110, 111, 112, 113, 114, 115, 116, 117, 118, 119, 120, 121, 122, 123, 124] with pillars [3 5] and intensity [ 0.0016207  0.0076647]\n",
      "\n",
      "\n",
      "Counterparty index 17 belongs to the following MO copula subses:\n",
      "- [17] with pillars [3 5] and intensity [ 0.0195274   0.02429113]\n",
      "\n",
      "- [64, 98, 99, 38, 70, 71, 104, 75, 76, 81, 78, 111, 17, 83, 120, 26, 124, 29, 31] with pillars [3 5] and intensity [ 0.0053745  0.0050889]\n",
      "\n",
      "- [17, 26, 29, 31, 38, 50, 55, 64, 66, 70, 71, 75, 76, 78, 81, 83, 98, 99, 103, 104, 107, 111, 120, 122, 124] with pillars [3 5] and intensity [ 0.0006145  0.0086692]\n",
      "\n",
      "- [0, 3, 4, 5, 9, 13, 17, 24, 25, 26, 27, 28, 29, 30, 31, 33, 36, 37, 38, 43, 45, 47, 50, 52, 55, 56, 57, 61, 64, 66, 70, 71, 72, 73, 75, 76, 78, 80, 81, 82, 83, 86, 87, 89, 90, 98, 99, 100, 103, 104, 107, 111, 112, 113, 114, 116, 118, 119, 120, 122, 124] with pillars [3 5] and intensity [  2.01650000e-04   9.33720000e-05]\n",
      "\n",
      "- [0, 1, 2, 3, 4, 5, 6, 7, 8, 9, 10, 11, 12, 13, 14, 15, 16, 17, 18, 19, 20, 21, 22, 23, 24, 25, 26, 27, 28, 29, 30, 31, 32, 33, 34, 35, 36, 37, 38, 39, 40, 41, 42, 43, 44, 45, 46, 47, 48, 49, 50, 51, 52, 53, 54, 55, 56, 57, 58, 59, 60, 61, 62, 63, 64, 65, 66, 67, 68, 69, 70, 71, 72, 73, 74, 75, 76, 77, 78, 79, 80, 81, 82, 83, 84, 85, 86, 87, 88, 89, 90, 91, 92, 93, 94, 95, 96, 97, 98, 99, 100, 101, 102, 103, 104, 105, 106, 107, 108, 109, 110, 111, 112, 113, 114, 115, 116, 117, 118, 119, 120, 121, 122, 123, 124] with pillars [3 5] and intensity [ 0.0016207  0.0076647]\n",
      "\n",
      "\n",
      "Counterparty index 50 belongs to the following MO copula subses:\n",
      "- [50] with pillars [3 5] and intensity [ 0.00832425  0.0047459 ]\n",
      "\n",
      "- [17, 26, 29, 31, 38, 50, 55, 64, 66, 70, 71, 75, 76, 78, 81, 83, 98, 99, 103, 104, 107, 111, 120, 122, 124] with pillars [3 5] and intensity [ 0.0006145  0.0086692]\n",
      "\n",
      "- [0, 3, 4, 5, 9, 13, 17, 24, 25, 26, 27, 28, 29, 30, 31, 33, 36, 37, 38, 43, 45, 47, 50, 52, 55, 56, 57, 61, 64, 66, 70, 71, 72, 73, 75, 76, 78, 80, 81, 82, 83, 86, 87, 89, 90, 98, 99, 100, 103, 104, 107, 111, 112, 113, 114, 116, 118, 119, 120, 122, 124] with pillars [3 5] and intensity [  2.01650000e-04   9.33720000e-05]\n",
      "\n",
      "- [0, 1, 2, 3, 4, 5, 6, 7, 8, 9, 10, 11, 12, 13, 14, 15, 16, 17, 18, 19, 20, 21, 22, 23, 24, 25, 26, 27, 28, 29, 30, 31, 32, 33, 34, 35, 36, 37, 38, 39, 40, 41, 42, 43, 44, 45, 46, 47, 48, 49, 50, 51, 52, 53, 54, 55, 56, 57, 58, 59, 60, 61, 62, 63, 64, 65, 66, 67, 68, 69, 70, 71, 72, 73, 74, 75, 76, 77, 78, 79, 80, 81, 82, 83, 84, 85, 86, 87, 88, 89, 90, 91, 92, 93, 94, 95, 96, 97, 98, 99, 100, 101, 102, 103, 104, 105, 106, 107, 108, 109, 110, 111, 112, 113, 114, 115, 116, 117, 118, 119, 120, 121, 122, 123, 124] with pillars [3 5] and intensity [ 0.0016207  0.0076647]\n",
      "\n",
      "\n",
      "Counterparty index 26 belongs to the following MO copula subses:\n",
      "- [26] with pillars [3 5] and intensity [ 0.13875825  0.01154767]\n",
      "\n",
      "- [98, 99, 38, 104, 75, 26] with pillars [3 5] and intensity [ 0.058     0.015925]\n",
      "\n",
      "- [64, 98, 99, 38, 70, 71, 104, 75, 76, 81, 78, 111, 17, 83, 120, 26, 124, 29, 31] with pillars [3 5] and intensity [ 0.0053745  0.0050889]\n",
      "\n",
      "- [17, 26, 29, 31, 38, 50, 55, 64, 66, 70, 71, 75, 76, 78, 81, 83, 98, 99, 103, 104, 107, 111, 120, 122, 124] with pillars [3 5] and intensity [ 0.0006145  0.0086692]\n",
      "\n",
      "- [0, 3, 4, 5, 9, 13, 17, 24, 25, 26, 27, 28, 29, 30, 31, 33, 36, 37, 38, 43, 45, 47, 50, 52, 55, 56, 57, 61, 64, 66, 70, 71, 72, 73, 75, 76, 78, 80, 81, 82, 83, 86, 87, 89, 90, 98, 99, 100, 103, 104, 107, 111, 112, 113, 114, 116, 118, 119, 120, 122, 124] with pillars [3 5] and intensity [  2.01650000e-04   9.33720000e-05]\n",
      "\n",
      "- [0, 1, 2, 3, 4, 5, 6, 7, 8, 9, 10, 11, 12, 13, 14, 15, 16, 17, 18, 19, 20, 21, 22, 23, 24, 25, 26, 27, 28, 29, 30, 31, 32, 33, 34, 35, 36, 37, 38, 39, 40, 41, 42, 43, 44, 45, 46, 47, 48, 49, 50, 51, 52, 53, 54, 55, 56, 57, 58, 59, 60, 61, 62, 63, 64, 65, 66, 67, 68, 69, 70, 71, 72, 73, 74, 75, 76, 77, 78, 79, 80, 81, 82, 83, 84, 85, 86, 87, 88, 89, 90, 91, 92, 93, 94, 95, 96, 97, 98, 99, 100, 101, 102, 103, 104, 105, 106, 107, 108, 109, 110, 111, 112, 113, 114, 115, 116, 117, 118, 119, 120, 121, 122, 123, 124] with pillars [3 5] and intensity [ 0.0016207  0.0076647]\n",
      "\n",
      "\n",
      "\n",
      "-----------------------------------------------------\n",
      "\n",
      "Derivatives:\n",
      "- Swap contract of maturity T = 5 years, over S^0 with strike K = 134.306, paying at {0.00, 0.25, 0.50, 0.75, 1.00, 1.25, 1.50, 1.75, 2.00, 2.25, 2.50, 2.75, 3.00, 3.25, 3.50, 3.75, 4.00, 4.25, 4.50, 4.75, 5.00}\n",
      "\n",
      "Positions:\n",
      "[[ 0.  ]\n",
      " [ 0.  ]\n",
      " [ 0.  ]\n",
      " [ 0.  ]\n",
      " [ 0.23]\n",
      " [ 0.09]\n",
      " [ 0.  ]\n",
      " [ 0.  ]\n",
      " [ 0.  ]\n",
      " [-0.46]\n",
      " [ 0.  ]\n",
      " [ 0.  ]\n",
      " [ 0.  ]\n",
      " [-0.05]\n",
      " [ 0.  ]\n",
      " [ 0.  ]\n",
      " [ 0.  ]\n",
      " [ 0.69]\n",
      " [ 0.  ]\n",
      " [ 0.  ]\n",
      " [ 0.  ]\n",
      " [ 0.  ]\n",
      " [ 0.  ]\n",
      " [ 0.  ]\n",
      " [ 0.  ]\n",
      " [ 0.  ]\n",
      " [-0.36]\n",
      " [ 0.  ]\n",
      " [ 0.  ]\n",
      " [-0.44]\n",
      " [ 0.  ]\n",
      " [ 0.  ]\n",
      " [ 0.  ]\n",
      " [ 0.  ]\n",
      " [ 0.  ]\n",
      " [ 0.  ]\n",
      " [ 0.  ]\n",
      " [ 0.  ]\n",
      " [ 0.  ]\n",
      " [ 0.  ]\n",
      " [ 0.  ]\n",
      " [ 0.  ]\n",
      " [ 0.  ]\n",
      " [ 0.  ]\n",
      " [ 0.  ]\n",
      " [ 0.  ]\n",
      " [ 0.  ]\n",
      " [ 0.  ]\n",
      " [ 0.  ]\n",
      " [ 0.  ]\n",
      " [ 0.34]\n",
      " [ 0.  ]\n",
      " [ 0.  ]\n",
      " [ 0.  ]\n",
      " [ 0.  ]\n",
      " [ 0.  ]\n",
      " [ 0.  ]\n",
      " [ 0.  ]\n",
      " [ 0.  ]\n",
      " [ 0.  ]\n",
      " [ 0.  ]\n",
      " [ 0.  ]\n",
      " [ 0.  ]\n",
      " [ 0.  ]\n",
      " [-0.04]\n",
      " [ 0.  ]\n",
      " [ 0.  ]\n",
      " [ 0.  ]\n",
      " [ 0.  ]\n",
      " [ 0.  ]\n",
      " [ 0.  ]\n",
      " [ 0.  ]\n",
      " [ 0.  ]\n",
      " [ 0.  ]\n",
      " [ 0.  ]\n",
      " [ 0.  ]\n",
      " [ 0.  ]\n",
      " [ 0.  ]\n",
      " [ 0.  ]\n",
      " [ 0.  ]\n",
      " [ 0.  ]\n",
      " [ 0.  ]\n",
      " [ 0.  ]\n",
      " [ 0.  ]\n",
      " [ 0.  ]\n",
      " [ 0.  ]\n",
      " [ 0.  ]\n",
      " [ 0.  ]\n",
      " [ 0.  ]\n",
      " [ 0.  ]\n",
      " [ 0.  ]\n",
      " [ 0.  ]\n",
      " [ 0.  ]\n",
      " [ 0.  ]\n",
      " [ 0.  ]\n",
      " [ 0.  ]\n",
      " [ 0.  ]\n",
      " [ 0.  ]\n",
      " [ 0.  ]\n",
      " [ 0.  ]\n",
      " [ 0.  ]\n",
      " [ 0.  ]\n",
      " [ 0.  ]\n",
      " [ 0.  ]\n",
      " [ 0.  ]\n",
      " [ 0.  ]\n",
      " [ 0.  ]\n",
      " [ 0.  ]\n",
      " [ 0.  ]\n",
      " [ 0.  ]\n",
      " [ 0.  ]\n",
      " [ 0.  ]\n",
      " [ 0.  ]\n",
      " [ 0.  ]\n",
      " [ 0.  ]\n",
      " [ 0.  ]\n",
      " [ 0.  ]\n",
      " [ 0.  ]\n",
      " [ 0.  ]\n",
      " [ 0.  ]\n",
      " [ 0.  ]\n",
      " [ 0.  ]\n",
      " [ 0.  ]\n",
      " [ 0.  ]\n",
      " [ 0.  ]]\n",
      "Confidence level used for IM: 0.80\n"
     ]
    }
   ],
   "source": [
    "print \"Results for %d iterations (%s secs.)\"%(N, toc-tic)\n",
    "print\n",
    "\n",
    "print \"Used discount factor: %s\"%discount\n",
    "print\n",
    "\n",
    "print \"Bank index %i that belongs to the following MO copula subsets:\"%b_id\n",
    "for idx in b_subsets_indexes:\n",
    "    print \"- %s with pillars %s and intensity %s\\n\"%([x for x in copula.subsets[idx][0]], \\\n",
    "                                                     copula.pillars[idx], copula.intensities[idx])\n",
    "    \n",
    "print \"Counterparties indexes:\"\n",
    "print c_ids\n",
    "\n",
    "print \"\\n-----------------------------------------------------\\n\"\n",
    "\n",
    "for idx in c_ids:\n",
    "    print \"Counterparty index %s belongs to the following MO copula subses:\"%idx\n",
    "    sub_indexes = copula.get_indexes_including(idx)\n",
    "    for subset_idx in sub_indexes:\n",
    "        print \"- %s with pillars %s and intensity %s\\n\" % ([x for x in copula.subsets[subset_idx][0]], \\\n",
    "                                                           copula.pillars[subset_idx], copula.intensities[subset_idx])        \n",
    "    print\n",
    "    \n",
    "print \"\\n-----------------------------------------------------\\n\"\n",
    "    \n",
    "print \"Derivatives:\"\n",
    "for d in [swap]:\n",
    "    print \"- %s\"%d\n",
    "    \n",
    "print \"\\nPositions:\"\n",
    "print port.positions\n",
    "\n",
    "print \"Confidence level used for IM: %.2f\"%quantile_im"
   ]
  },
  {
   "cell_type": "code",
   "execution_count": 31,
   "metadata": {
    "collapsed": false
   },
   "outputs": [
    {
     "name": "stdout",
     "output_type": "stream",
     "text": [
      "Results of the global xVA:\n",
      "\n",
      "The CVA for the bank lies in [0.001805, 0.002063]\n",
      "The DVA for the bank lies in [0.002839, 0.003332]\n",
      "The KVA for the bank lies in [0.001916, 0.001964]\n",
      "The MLA for the bank lies in [0.000000, 0.000000]\n",
      "The MVA for the bank lies in [0.010887, 0.011213]\n"
     ]
    }
   ],
   "source": [
    "from scipy.stats import norm\n",
    "\n",
    "conf_level = 0.95\n",
    "z_level = norm.ppf(0.5*(1+conf_level))\n",
    "\n",
    "print \"Results of the global xVA:\\n\"\n",
    "keys = results_globs.keys()\n",
    "keys.sort()\n",
    "\n",
    "excel_results = dict()\n",
    "\n",
    "for k in keys:\n",
    "    mean_ = results_globs[k]['sum']/N\n",
    "    mod_var_ = (results_globs[k]['sum2']/N - mean_**2) / (N-1.)\n",
    "    half_inter = z_level*np.sqrt(mod_var_)\n",
    "    \n",
    "    confidence = 0. if mean_ == 0. else half_inter / mean_\n",
    "    excel_results[k.upper()] = \"%s \\t %s\"%(mean_*10000, confidence)\n",
    "    \n",
    "    print \"The %s for the bank lies in [%f, %f]\"%(k.upper(), mean_-half_inter, mean_+half_inter)"
   ]
  },
  {
   "cell_type": "code",
   "execution_count": 32,
   "metadata": {
    "collapsed": true
   },
   "outputs": [],
   "source": [
    "file_ = open('../Bilat Base case.txt', 'a')\n",
    "\n",
    "file_.write(\"%s \\n\"%(b_id))\n",
    "\n",
    "keys = excel_results.keys()\n",
    "keys.sort()\n",
    "\n",
    "for k in keys:\n",
    "    file_.write(\"%s \\t %s\\n\"%(k, excel_results[k]))\n",
    "    \n",
    "file_.write(\"\\n\")\n",
    "file_.close()"
   ]
  }
 ],
 "metadata": {
  "kernelspec": {
   "display_name": "Python 2",
   "language": "python",
   "name": "python2"
  },
  "language_info": {
   "codemirror_mode": {
    "name": "ipython",
    "version": 2
   },
   "file_extension": ".py",
   "mimetype": "text/x-python",
   "name": "python",
   "nbconvert_exporter": "python",
   "pygments_lexer": "ipython2",
   "version": "2.7.11"
  }
 },
 "nbformat": 4,
 "nbformat_minor": 0
}
