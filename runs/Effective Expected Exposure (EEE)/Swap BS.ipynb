{
 "cells": [
  {
   "cell_type": "code",
   "execution_count": 1,
   "metadata": {
    "collapsed": true
   },
   "outputs": [],
   "source": [
    "t = 0.5"
   ]
  },
  {
   "cell_type": "code",
   "execution_count": 2,
   "metadata": {
    "collapsed": true
   },
   "outputs": [],
   "source": [
    "import numpy\n",
    "import scipy.stats"
   ]
  },
  {
   "cell_type": "code",
   "execution_count": 3,
   "metadata": {
    "collapsed": true
   },
   "outputs": [],
   "source": [
    "# Market parameters\n",
    "\n",
    "r = 0.03\n",
    "def discount_factor(s):\n",
    "    return numpy.exp(-r*s)"
   ]
  },
  {
   "cell_type": "code",
   "execution_count": 4,
   "metadata": {
    "collapsed": false
   },
   "outputs": [],
   "source": [
    "# Risk neutral asset parameters\n",
    "\n",
    "kappa = 0.5\n",
    "sigma = 0.2"
   ]
  },
  {
   "cell_type": "code",
   "execution_count": 5,
   "metadata": {
    "collapsed": false
   },
   "outputs": [],
   "source": [
    "# Swap\n",
    "\n",
    "def generate_payment_dates(first_date, maturity, step):\n",
    "    res = numpy.arange(first_date, maturity + step, step)\n",
    "    if res[-1] > maturity:\n",
    "        res = numpy.delete(res, -1)\n",
    "    \n",
    "    return res\n",
    "\n",
    "t0 = 0.\n",
    "tn = 5.\n",
    "delta_t = 0.25\n",
    "\n",
    "coupon_dates = generate_payment_dates(t0, tn, delta_t)"
   ]
  },
  {
   "cell_type": "code",
   "execution_count": 6,
   "metadata": {
    "collapsed": true
   },
   "outputs": [],
   "source": [
    "# Risk parameters\n",
    "\n",
    "alpha = 0.95\n",
    "delta = 5./360.\n",
    "\n",
    "delta_prime = delta + 1./360."
   ]
  },
  {
   "cell_type": "code",
   "execution_count": 7,
   "metadata": {
    "collapsed": false
   },
   "outputs": [],
   "source": [
    "S_t = 100.\n",
    "S = {0.:100., t: S_t}"
   ]
  },
  {
   "cell_type": "code",
   "execution_count": 8,
   "metadata": {
    "collapsed": false
   },
   "outputs": [],
   "source": [
    "def cond_expectation(t, v, alpha):\n",
    "    v_p_delta_prime = v + delta_prime\n",
    "            \n",
    "    res = alpha / discount_factor(v_p_delta_prime)\n",
    "    res *= S[t] * numpy.exp(-kappa*t - 0.5*(sigma**2)*delta_prime)\n",
    "    \n",
    "    gauss_quantile = scipy.stats.norm.ppf(alpha)\n",
    "    var = gauss_quantile\n",
    "    es_div = alpha if alpha < 0.5 else 1.-alpha\n",
    "    es = scipy.stats.norm.pdf(var) / es_div * numpy.sign(var)\n",
    "    \n",
    "    vol = sigma * numpy.sqrt(delta_prime)\n",
    "    res *= numpy.exp(vol * es) - numpy.exp(vol * var)\n",
    "    \n",
    "    nxt_coupon_idx = numpy.searchsorted(coupon_dates, v_p_delta_prime, side='right')\n",
    "    h = numpy.ediff1d(coupon_dates)\n",
    "     \n",
    "    sum_ = 0.\n",
    "    for ii in xrange(nxt_coupon_idx, len(coupon_dates)):\n",
    "        sum_ += h[ii - 1] * discount_factor(coupon_dates[ii]) * numpy.exp(kappa * coupon_dates[ii-1])\n",
    "        \n",
    "    return res * sum_"
   ]
  },
  {
   "cell_type": "code",
   "execution_count": 9,
   "metadata": {
    "collapsed": false
   },
   "outputs": [
    {
     "name": "stdout",
     "output_type": "stream",
     "text": [
      "19.5958640298\n",
      "-0.937208589063\n"
     ]
    }
   ],
   "source": [
    "print cond_expectation(0., 1., 0.95)\n",
    "print cond_expectation(0., 1., 0.05)\n",
    "\n",
    "#raise NotImplementedError(\"STOP\")"
   ]
  },
  {
   "cell_type": "code",
   "execution_count": 10,
   "metadata": {
    "collapsed": false
   },
   "outputs": [],
   "source": [
    "time = numpy.arange(t, tn, 1./360)"
   ]
  },
  {
   "cell_type": "code",
   "execution_count": 11,
   "metadata": {
    "collapsed": false
   },
   "outputs": [
    {
     "name": "stderr",
     "output_type": "stream",
     "text": [
      "D:\\Anaconda\\lib\\site-packages\\matplotlib\\__init__.py:872: UserWarning: axes.color_cycle is deprecated and replaced with axes.prop_cycle; please use the latter.\n",
      "  warnings.warn(self.msg_depr % (key, alt_key))\n"
     ]
    }
   ],
   "source": [
    "%matplotlib inline\n",
    "import matplotlib.pyplot as plt\n",
    "import seaborn as sns"
   ]
  },
  {
   "cell_type": "code",
   "execution_count": 12,
   "metadata": {
    "collapsed": false
   },
   "outputs": [
    {
     "data": {
      "image/png": "[encoded data removed]",
      "text/plain": [
       "<matplotlib.figure.Figure at 0x1c438c18>"
      ]
     },
     "metadata": {},
     "output_type": "display_data"
    }
   ],
   "source": [
    "plt.title(\"Conditional expectation\")\n",
    "plt.plot(time, map(lambda tt: cond_expectation(0., tt, 0.95), time), label='alpha = 0.95')\n",
    "plt.plot(time, map(lambda tt: cond_expectation(0., tt, 0.96), time), label='alpha = 0.96')\n",
    "plt.legend(loc='best')\n",
    "plt.show()"
   ]
  },
  {
   "cell_type": "code",
   "execution_count": 13,
   "metadata": {
    "collapsed": false
   },
   "outputs": [
    {
     "name": "stderr",
     "output_type": "stream",
     "text": [
      "D:\\Anaconda\\lib\\site-packages\\matplotlib\\axes\\_axes.py:519: UserWarning: No labelled objects found. Use label='...' kwarg on individual plots.\n",
      "  warnings.warn(\"No labelled objects found. \"\n"
     ]
    },
    {
     "data": {
      "image/png": "[encoded data removed]",
      "text/plain": [
       "<matplotlib.figure.Figure at 0x1c59f9e8>"
      ]
     },
     "metadata": {},
     "output_type": "display_data"
    }
   ],
   "source": [
    "plt.title(\"Conditional expectation\")\n",
    "\n",
    "plt.legend(loc='best')\n",
    "plt.plot(time, map(lambda tt: cond_expectation(0., tt, 0.05), time), label='alpha = 0.05')\n",
    "plt.plot(time, map(lambda tt: cond_expectation(0., tt, 0.04), time), label='alpha = 0.04')\n",
    "plt.show()"
   ]
  },
  {
   "cell_type": "raw",
   "metadata": {
    "collapsed": false
   },
   "source": [
    "cond_exp_plus = map(lambda tt: cond_expectation(t, tt, alpha), time)\n",
    "\n",
    "plt.title(\"Conditional expectation\")\n",
    "plt.plot(time, cond_exp_plus)\n",
    "plt.show()"
   ]
  },
  {
   "cell_type": "raw",
   "metadata": {
    "collapsed": false
   },
   "source": [
    "cond_exp_minus = map(lambda tt: cond_expectation(t, tt, (1.-alpha)), time)\n",
    "\n",
    "plt.title(\"Conditional expectation with alpha = %s\" % (1.-alpha))\n",
    "plt.plot(time, cond_exp_minus)\n",
    "plt.show()"
   ]
  },
  {
   "cell_type": "code",
   "execution_count": 14,
   "metadata": {
    "collapsed": false
   },
   "outputs": [],
   "source": [
    "def ead(t, epsilon, alpha):\n",
    "    one_min_alpha = 1.-alpha\n",
    "    time_discr = numpy.arange(t + epsilon, numpy.minimum(t+1 + epsilon, tn) + epsilon, epsilon)\n",
    "    \n",
    "    sum_ = {alpha: 0., one_min_alpha: 0.}\n",
    "    previous = {alpha: 0., one_min_alpha: 0.}\n",
    "    for t_i in time_discr:\n",
    "        for q in sum_.keys():\n",
    "            current = numpy.maximum(previous[q], numpy.absolute(cond_expectation(t, t_i, q)))\n",
    "            sum_[q] += current\n",
    "            previous[q] = current\n",
    "        \n",
    "    for q in sum_.keys():\n",
    "        sum_[q] *= 1.4 * epsilon\n",
    "        \n",
    "    return sum_"
   ]
  },
  {
   "cell_type": "raw",
   "metadata": {},
   "source": [
    "eps = 1./12. # the time discretization of the integral\n",
    "print ead(t, eps, 0.95)\n",
    "print ead(t, eps, 0.05)\n",
    "\n",
    "# 85.2401615749\n",
    "# 10.6452460721"
   ]
  },
  {
   "cell_type": "code",
   "execution_count": 15,
   "metadata": {
    "collapsed": false
   },
   "outputs": [
    {
     "name": "stdout",
     "output_type": "stream",
     "text": [
      "{0.95: 23.775576837121161, 0.050000000000000044: 1.137111116295628}\n"
     ]
    }
   ],
   "source": [
    "eps = 1./12. # the time discretization of the integral\n",
    "print ead(t, eps, 0.95)"
   ]
  },
  {
   "cell_type": "raw",
   "metadata": {},
   "source": [
    "eps = 1./360. # the time discretization of the integral\n",
    "print ead(t, eps, 0.95)\n",
    "print ead(t, eps, 0.05)\n",
    "\n",
    "# 79.011454811\n",
    "# 9.86737194579"
   ]
  },
  {
   "cell_type": "code",
   "execution_count": 16,
   "metadata": {
    "collapsed": false
   },
   "outputs": [
    {
     "name": "stdout",
     "output_type": "stream",
     "text": [
      "{0.95: 22.038237377351198, 0.050000000000000044: 1.0540196301871145}\n"
     ]
    }
   ],
   "source": [
    "eps = 1./360. # the time discretization of the integral\n",
    "print ead(t, eps, 0.95)"
   ]
  }
 ],
 "metadata": {
  "kernelspec": {
   "display_name": "Python 2",
   "language": "python",
   "name": "python2"
  },
  "language_info": {
   "codemirror_mode": {
    "name": "ipython",
    "version": 2
   },
   "file_extension": ".py",
   "mimetype": "text/x-python",
   "name": "python",
   "nbconvert_exporter": "python",
   "pygments_lexer": "ipython2",
   "version": "2.7.11"
  }
 },
 "nbformat": 4,
 "nbformat_minor": 0
}
