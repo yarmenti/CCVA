{
 "cells": [
  {
   "cell_type": "markdown",
   "metadata": {},
   "source": [
    "## Implémentation"
   ]
  },
  {
   "cell_type": "code",
   "execution_count": 1,
   "metadata": {
    "collapsed": true
   },
   "outputs": [],
   "source": [
    "import sys\n",
    "\n",
    "sys.path.append('../..')"
   ]
  },
  {
   "cell_type": "code",
   "execution_count": 2,
   "metadata": {
    "collapsed": true
   },
   "outputs": [],
   "source": [
    "from maths.montecarlo.processes.brownianmotions import GeometricBrownianMotion"
   ]
  },
  {
   "cell_type": "code",
   "execution_count": 3,
   "metadata": {
    "collapsed": true
   },
   "outputs": [],
   "source": [
    "step = 1 / 360.\n",
    "maturity = 5."
   ]
  },
  {
   "cell_type": "code",
   "execution_count": 4,
   "metadata": {
    "collapsed": false
   },
   "outputs": [],
   "source": [
    "x = [100]\n",
    "d = [0.5]\n",
    "v = [0.2]\n",
    "\n",
    "time_grid = GeometricBrownianMotion.generate_time_grid(0, maturity, step)\n",
    "\n",
    "udl = GeometricBrownianMotion(time_grid, x, d, v)"
   ]
  },
  {
   "cell_type": "code",
   "execution_count": 5,
   "metadata": {
    "collapsed": true
   },
   "outputs": [],
   "source": [
    "from finance.discountfactor import ConstantRateDiscountFactor \n",
    "\n",
    "r = 0.03\n",
    "discount = ConstantRateDiscountFactor(r)"
   ]
  },
  {
   "cell_type": "code",
   "execution_count": 6,
   "metadata": {
    "collapsed": false
   },
   "outputs": [],
   "source": [
    "from finance.products.european.swap import (\n",
    "    SwapContract,\n",
    ")\n",
    "\n",
    "delta = 0.25\n",
    "coupon_dates = SwapContract.generate_payment_dates(0, maturity, delta)\n",
    "\n",
    "swap = SwapContract(udl, discount, coupon_dates)"
   ]
  },
  {
   "cell_type": "code",
   "execution_count": 7,
   "metadata": {
    "collapsed": false
   },
   "outputs": [],
   "source": [
    "from risk.basel.eee import BlackScholesSwapVaREffExpectExposure\n",
    "\n",
    "eee_mgr = BlackScholesSwapVaREffExpectExposure(swap)"
   ]
  },
  {
   "cell_type": "raw",
   "metadata": {},
   "source": [
    "import numpy\n",
    "\n",
    "time = numpy.arange(t, tn, 1./360)"
   ]
  },
  {
   "cell_type": "code",
   "execution_count": 8,
   "metadata": {
    "collapsed": false
   },
   "outputs": [
    {
     "data": {
      "text/plain": [
       "array([[ 1.],\n",
       "       [-1.]])"
      ]
     },
     "execution_count": 8,
     "metadata": {},
     "output_type": "execute_result"
    }
   ],
   "source": [
    "import numpy\n",
    "\n",
    "cm_positions = numpy.reshape([1., -1.], (2, 1))\n",
    "cm_positions"
   ]
  },
  {
   "cell_type": "code",
   "execution_count": 9,
   "metadata": {
    "collapsed": false
   },
   "outputs": [
    {
     "data": {
      "text/plain": [
       "array([[ 19.59586403],\n",
       "       [  0.93720859]])"
      ]
     },
     "execution_count": 9,
     "metadata": {},
     "output_type": "execute_result"
    }
   ],
   "source": [
    "kwargs = {'t':0., 'risk_period': 6./360., 'alpha': 0.95}\n",
    "eee_mgr(1., cm_positions, **kwargs)"
   ]
  },
  {
   "cell_type": "markdown",
   "metadata": {},
   "source": [
    "### OK voir l'autre NB"
   ]
  },
  {
   "cell_type": "markdown",
   "metadata": {},
   "source": [
    "## Comparaison des signes avec l'implémentation courante"
   ]
  },
  {
   "cell_type": "code",
   "execution_count": 10,
   "metadata": {
    "collapsed": false
   },
   "outputs": [],
   "source": [
    "from risk.exposures import EuropeanVaRGeomBrownianExposure\n",
    "\n",
    "quantile_df = 0.80\n",
    "\n",
    "exposure = EuropeanVaRGeomBrownianExposure(swap, discount, d, v)"
   ]
  },
  {
   "cell_type": "code",
   "execution_count": 11,
   "metadata": {
    "collapsed": false
   },
   "outputs": [],
   "source": [
    "from finance.portfolio import CCPPortfolio\n",
    "\n",
    "port = CCPPortfolio(cm_positions, [1.], [swap], [exposure])"
   ]
  },
  {
   "cell_type": "code",
   "execution_count": 12,
   "metadata": {
    "collapsed": false
   },
   "outputs": [
    {
     "name": "stdout",
     "output_type": "stream",
     "text": [
      "[-1.] [ 14.39786516]\n",
      "[ 1.] [ 19.79509752]\n"
     ]
    }
   ],
   "source": [
    "print port.positions[0], port.compute_exposure(0., conf_level=0.95, risk_period=5./360., towards_=0)\n",
    "print port.positions[1], port.compute_exposure(0., conf_level=0.95, risk_period=5./360., towards_=1)"
   ]
  },
  {
   "cell_type": "code",
   "execution_count": 13,
   "metadata": {
    "collapsed": true
   },
   "outputs": [],
   "source": [
    "from risk.basel.exposures import BaselExposureAtDefault\n",
    "\n",
    "ead_mgr = BaselExposureAtDefault(port, [eee_mgr])"
   ]
  },
  {
   "cell_type": "code",
   "execution_count": 14,
   "metadata": {
    "collapsed": false
   },
   "outputs": [
    {
     "data": {
      "text/plain": [
       "array([[  1.47966525],\n",
       "       [ 30.93795712]])"
      ]
     },
     "execution_count": 14,
     "metadata": {},
     "output_type": "execute_result"
    }
   ],
   "source": [
    "ead_mgr(t=0., epsilon=1./12, risk_period=6./360., alpha=0.95)\n",
    "\n",
    "# alpha=0.95:\n",
    "# array([[  1.47966525],\n",
    "#        [ 30.93795712]])"
   ]
  },
  {
   "cell_type": "code",
   "execution_count": 15,
   "metadata": {
    "collapsed": false
   },
   "outputs": [
    {
     "data": {
      "text/plain": [
       "array([[  1.14059146],\n",
       "       [ 30.27820753]])"
      ]
     },
     "execution_count": 15,
     "metadata": {},
     "output_type": "execute_result"
    }
   ],
   "source": [
    "ead_mgr(t=0., epsilon=1./12, risk_period=6./360., alpha=0.96)\n",
    "\n",
    "# alpha=0.96\n",
    "# array([[  1.14059146],\n",
    "#       [ 30.27820753]])"
   ]
  },
  {
   "cell_type": "code",
   "execution_count": 16,
   "metadata": {
    "collapsed": false
   },
   "outputs": [
    {
     "data": {
      "text/plain": [
       "array([[ 19.59586403],\n",
       "       [  0.93720859]])"
      ]
     },
     "execution_count": 16,
     "metadata": {},
     "output_type": "execute_result"
    }
   ],
   "source": [
    "kwargs = {'t':0., 'risk_period': 6./360., 'alpha': 0.95}\n",
    "eee_mgr(1., cm_positions, **kwargs)"
   ]
  },
  {
   "cell_type": "code",
   "execution_count": 17,
   "metadata": {
    "collapsed": false
   },
   "outputs": [
    {
     "data": {
      "text/plain": [
       "array([[ 19.17798372],\n",
       "       [  0.72244185]])"
      ]
     },
     "execution_count": 17,
     "metadata": {},
     "output_type": "execute_result"
    }
   ],
   "source": [
    "kwargs = {'t':0., 'risk_period': 6./360., 'alpha': 0.96}\n",
    "eee_mgr(1., cm_positions, **kwargs)"
   ]
  }
 ],
 "metadata": {
  "kernelspec": {
   "display_name": "Python 2",
   "language": "python",
   "name": "python2"
  },
  "language_info": {
   "codemirror_mode": {
    "name": "ipython",
    "version": 2
   },
   "file_extension": ".py",
   "mimetype": "text/x-python",
   "name": "python",
   "nbconvert_exporter": "python",
   "pygments_lexer": "ipython2",
   "version": "2.7.11"
  }
 },
 "nbformat": 4,
 "nbformat_minor": 0
}
