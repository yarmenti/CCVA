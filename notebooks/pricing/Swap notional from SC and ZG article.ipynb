{
 "cells": [
  {
   "cell_type": "code",
   "execution_count": 1,
   "metadata": {
    "collapsed": false
   },
   "outputs": [],
   "source": [
    "import sys\n",
    "\n",
    "sys.path.append('../..')"
   ]
  },
  {
   "cell_type": "code",
   "execution_count": 2,
   "metadata": {
    "collapsed": false
   },
   "outputs": [],
   "source": [
    "from finance.discountfactor import ConstantRateDiscountFactor  \n",
    "\n",
    "df = ConstantRateDiscountFactor(0.03)"
   ]
  },
  {
   "cell_type": "code",
   "execution_count": 6,
   "metadata": {
    "collapsed": false
   },
   "outputs": [],
   "source": [
    "import numpy as np\n",
    "from scipy.stats import norm\n",
    "from maths.montecarlo.processes.brownianmotions import BrownianMotion\n",
    "\n",
    "maturity = 10.\n",
    "step = 1./360\n",
    "time_grid = BrownianMotion.generate_time_grid(0, maturity, step)\n",
    "\n",
    "x_0 = [100]\n",
    "mu_s = [[6]]\n",
    "sigma_s = [15]\n",
    "\n",
    "b = BrownianMotion(time_grid, x_0, mu_s, sigma_s)"
   ]
  },
  {
   "cell_type": "code",
   "execution_count": 8,
   "metadata": {
    "collapsed": false
   },
   "outputs": [],
   "source": [
    "from finance.products.european.assetswap import SwapContract\n",
    "\n",
    "dates = [0.25*i for i in range(4)]\n",
    "\n",
    "swap = SwapContract(b, df, dates)"
   ]
  },
  {
   "cell_type": "code",
   "execution_count": 9,
   "metadata": {
    "collapsed": false
   },
   "outputs": [
    {
     "data": {
      "text/plain": [
       "100.75093045565227"
      ]
     },
     "execution_count": 9,
     "metadata": {},
     "output_type": "execute_result"
    }
   ],
   "source": [
    "swap.strike"
   ]
  },
  {
   "cell_type": "markdown",
   "metadata": {},
   "source": [
    "In the paper of Crépey, Gerboud, Grbac and Ngor [Counterparty risk and funding:\n",
    "the four wings of the TVA](http://grozny.maths.univ-evry.fr/pages_perso/crepey/papers/CVA-Wings.pdf), they compute the TVA on a swap with the following parameters (see section 4.4 Numerics):\n",
    "\n",
    ">We choose a swap notional of $N = 310.136066$\\$ so that the fixed leg of the swap is worth $100$\\$ at inception\n",
    "\n",
    "Let us compute the same way the notional such that the fixed leg is equal to $100$ \\$.\n",
    "\n",
    "\\begin{align*}\n",
    "P_{fixed} &=& N \\times \\sum_{k=1}^{N} \\Delta_{T_k} \\beta_{T_k} K \\\\\n",
    "&=& (N \\times K )\\sum_{k=1}^{N} \\Delta_{T_k} \\beta_{T_k}\n",
    "\\end{align*}\n",
    "\n",
    "with:\n",
    "- $\\Delta_{T_k} = T_{k} - T_{k-1}$\n",
    "- $\\beta_{t} = \\exp(-\\int_{0}^{t} r_s ds)$\n",
    "\n",
    "Thus:\n",
    "\n",
    "\\begin{equation*}\n",
    "N = \\frac{P_{fixed}}{K \\times \\sum_{k=1}^{N} \\Delta_{T_k} \\beta_{T_k}}\n",
    "\\end{equation*}"
   ]
  },
  {
   "cell_type": "code",
   "execution_count": 10,
   "metadata": {
    "collapsed": false
   },
   "outputs": [
    {
     "name": "stdout",
     "output_type": "stream",
     "text": [
      "[ 0.25  0.25  0.25]\n"
     ]
    }
   ],
   "source": [
    "deltas = swap.delta_time\n",
    "print deltas"
   ]
  },
  {
   "cell_type": "code",
   "execution_count": 11,
   "metadata": {
    "collapsed": false
   },
   "outputs": [
    {
     "name": "stdout",
     "output_type": "stream",
     "text": [
      "[0.99252805481913842, 0.98511193960306265, 0.97775123719333634]\n"
     ]
    }
   ],
   "source": [
    "df_pillars = [df(t) for t in dates[1:]]\n",
    "print df_pillars"
   ]
  },
  {
   "cell_type": "code",
   "execution_count": 12,
   "metadata": {
    "collapsed": false
   },
   "outputs": [],
   "source": [
    "import numpy as np\n",
    "\n",
    "coeff = np.dot(deltas, df_pillars)"
   ]
  },
  {
   "cell_type": "code",
   "execution_count": 13,
   "metadata": {
    "collapsed": false
   },
   "outputs": [
    {
     "name": "stdout",
     "output_type": "stream",
     "text": [
      "1.34337092726\n"
     ]
    }
   ],
   "source": [
    "N = 100. / (swap.strike * coeff)\n",
    "print N"
   ]
  },
  {
   "cell_type": "code",
   "execution_count": 14,
   "metadata": {
    "collapsed": false
   },
   "outputs": [
    {
     "name": "stdout",
     "output_type": "stream",
     "text": [
      "P_fixed =  100.0\n"
     ]
    }
   ],
   "source": [
    "print \"P_fixed = \",N * swap.strike * coeff"
   ]
  },
  {
   "cell_type": "code",
   "execution_count": null,
   "metadata": {
    "collapsed": true
   },
   "outputs": [],
   "source": []
  }
 ],
 "metadata": {
  "kernelspec": {
   "display_name": "Python 2",
   "language": "python",
   "name": "python2"
  },
  "language_info": {
   "codemirror_mode": {
    "name": "ipython",
    "version": 2
   },
   "file_extension": ".py",
   "mimetype": "text/x-python",
   "name": "python",
   "nbconvert_exporter": "python",
   "pygments_lexer": "ipython2",
   "version": "2.7.9"
  }
 },
 "nbformat": 4,
 "nbformat_minor": 0
}
