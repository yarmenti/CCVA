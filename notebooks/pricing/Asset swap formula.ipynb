{
 "metadata": {
  "name": "",
  "signature": "sha256:97cde1225376aade0c9b9bf9db0b5d113a87c979e686389a208c747cf0405f6c"
 },
 "nbformat": 3,
 "nbformat_minor": 0,
 "worksheets": [
  {
   "cells": [
    {
     "cell_type": "heading",
     "level": 1,
     "metadata": {},
     "source": [
      "Asset Swap formulas"
     ]
    },
    {
     "cell_type": "markdown",
     "metadata": {},
     "source": [
      "The total cash\ufb02ow of a swap with grid times $T_i$, of strike $K$ and maturity $T = T_n$ upon an asset $(S_t)_{t\\in \\mathbb{R}^+}$, with $T_0 = 0$ is given by:\n",
      "\n",
      "\\begin{equation*}\n",
      "C = \\sum_{i=1}^n \\Delta_{T_i} (S_{T_{i-1}} - K)\n",
      "\\end{equation*}\n",
      "\n",
      "with $\\Delta_{T_i} = T_{i} - T_{i-1}$, noting that the first coupon payment occurs at $t=T_1$"
     ]
    },
    {
     "cell_type": "heading",
     "level": 2,
     "metadata": {},
     "source": [
      "Price computation"
     ]
    },
    {
     "cell_type": "markdown",
     "metadata": {},
     "source": [
      "The price of this asset swap $P_t$ at time $t$ is given by the following formula:\n",
      "\n",
      "\\begin{equation*}\n",
      "P_t = \\beta_t^{-1} \\mathbb{E}_t \\left( \\sum_{i=1}^n \\beta_{T_i} \\Delta_{T_i} (S_{T_{i-1}} - K) \\right)\n",
      "\\end{equation*}\n",
      "\n",
      "with $\\beta_t$ the discout factor given by $\\beta_t = \\exp -\\int_{0}^t r_s ds$"
     ]
    },
    {
     "cell_type": "heading",
     "level": 2,
     "metadata": {},
     "source": [
      "Strike computation"
     ]
    },
    {
     "cell_type": "markdown",
     "metadata": {},
     "source": [
      "The strike of the contract is the unique value which yields to $P_0 = 0$. In order to do so we have:\n",
      "\n",
      "\\begin{align*}\n",
      "0 &=& \\mathbb{E} \\left( \\sum_{i=1}^n \\beta_{T_i} \\Delta_{T_i} (S_{T_{i-1}} - K) \\right) \\\\\n",
      "&=& \\sum_{i=1}^n \\beta_{T_i} \\Delta_{T_i} \\mathbb{E} \\left( S_{T_{i-1}} - K \\right) \\\\\n",
      "&=& \\sum_{i=1}^n \\frac{\\beta_{T_i}}{\\beta_{T_{i-1}}} \\Delta_{T_i} \\Big( \\mathbb{E} \\left( \\beta_{T_{i-1}} S_{T_{i-1}} \\right) - \\beta_{T_{i-1}} K \\Big) \\\\\n",
      "&=& \\sum_{i=1}^n \\frac{\\beta_{T_i}}{\\beta_{T_{i-1}}} \\Delta_{T_i} \\Big( S_0 - \\beta_{T_{i-1}} K \\Big) \\\\\n",
      "&=& S_0 \\sum_{i=1}^n \\frac{\\beta_{T_i}}{\\beta_{T_{i-1}}} \\Delta_{T_i} - K \\sum_{i=1}^n \\beta_{T_i} \\Delta_{T_i}\n",
      "\\end{align*}\n",
      "\n",
      "which leads to:\n",
      "\n",
      "\\begin{equation*}\n",
      "K = S_0 \\frac{\\sum_{i=1}^n \\frac{\\beta_{T_i}}{\\beta_{T_{i-1}}} \\Delta_{T_i}}{\\sum_{i=1}^n \\beta_{T_i} \\Delta_{T_i}}\n",
      "\\end{equation*}"
     ]
    },
    {
     "cell_type": "heading",
     "level": 2,
     "metadata": {},
     "source": [
      "Price of the contract"
     ]
    },
    {
     "cell_type": "markdown",
     "metadata": {},
     "source": [
      "Now we can give the closed formula of the price for each $t>0$. Thus:\n",
      "\n",
      "\\begin{equation*}\n",
      "P_t = \\beta_t^{-1} \\mathbb{E}_t \\left( \\sum_{i=1}^n \\beta_{T_i} \\Delta_{T_i} (S_{T_{i-1}} - K) \\right)\n",
      "\\end{equation*}\n",
      "\n",
      "We introduce $i^*$ which is the first index pillar such that $T_{i^*-1} \\leq t < T_{i^*}$.\n",
      "\n",
      "\\begin{align*}\n",
      "P_t &=& \\beta_t^{-1} \\left[ \n",
      "        \\beta_{T_{i^*}} \\Delta_{T_{i^*}} (S_{T_{i^*-1}} - K) + \n",
      "        \\mathbb{E}_t \\left( \\sum_{j=i^*+1}^n \\Delta_{T_j} \\beta_{T_j} (S_{T_{j-1}} - K) \\right) \n",
      "      \\right] \\\\\n",
      "    &=& \\beta_t^{-1} \\left[ \n",
      "            \\beta_{T_{i^*}} \\Delta_{T_{i^*}} (S_{T_{i^*-1}} - K) +         \n",
      "            \\sum_{j=i^*+1}^n \\Delta_{T_j} \\beta_{T_j} \\mathbb{E}_t \\left( \n",
      "                \\frac{\\beta_{T_{j-1}} S_{T_{j-1}}}{\\beta_{T_{j-1}}} - K \\right) \n",
      "        \\right] \\\\\n",
      "    &=& \\beta_t^{-1} \\left[ \n",
      "            \\beta_{T_{i^*}} \\Delta_{T_{i^*}} (S_{T_{i^*-1}} - K) +         \n",
      "            \\sum_{j=i^*+1}^n \\Delta_{T_j} \\beta_{T_j} \\left( \n",
      "                \\frac{\\beta_{t} S_{t}}{\\beta_{T_{j-1}}} - K \\right)\n",
      "        \\right] \\\\       \n",
      "    &=& \\beta_{t}^{-1} \\beta_{T_{i^*}} \\Delta_{T_{i^*}} (S_{T_{i^*-1}} - K) + \n",
      "        S_t \\sum_{j=i^*+1}^n \\Delta_{T_j} \\frac{\\beta_{T_j}}{\\beta_{T_{j-1}}} -\n",
      "        K \\beta_{t}^{-1} \\sum_{j=i^*+1}^n \\Delta_{T_j} \\beta_{T_j}\n",
      "\\end{align*}"
     ]
    },
    {
     "cell_type": "heading",
     "level": 2,
     "metadata": {},
     "source": [
      "Code"
     ]
    },
    {
     "cell_type": "code",
     "collapsed": false,
     "input": [
      "import sys\n",
      "\n",
      "sys.path.append('../..')"
     ],
     "language": "python",
     "metadata": {},
     "outputs": [],
     "prompt_number": 1
    },
    {
     "cell_type": "code",
     "collapsed": false,
     "input": [
      "from finance.discountfactor import ConstantRateDiscountFactor \n",
      "\n",
      "r = 0.02\n",
      "discount = ConstantRateDiscountFactor(r)"
     ],
     "language": "python",
     "metadata": {},
     "outputs": [],
     "prompt_number": 2
    },
    {
     "cell_type": "code",
     "collapsed": false,
     "input": [
      "import numpy as np\n",
      "from scipy.stats import norm\n",
      "from maths.montecarlo.process.brownianmotion import BrownianMotion\n",
      "\n",
      "maturity = 10.\n",
      "step = 1./360\n",
      "time_grid = BrownianMotion.generate_time_grid(0, maturity, step)\n",
      "\n",
      "x_0 = [100]\n",
      "mu_s = [6]\n",
      "sigma_s = [15]\n",
      "\n",
      "b = BrownianMotion(x_0, mu_s, sigma_s, time_grid)\n",
      "\n",
      "for i, (x0, m_, s_) in enumerate(zip(x_0, mu_s, sigma_s)):\n",
      "    print \"P(S_T^%d < 0) = %s\"%(i+1, norm.cdf(-(x0 + m_ * maturity)/(s_*np.sqrt(maturity))))"
     ],
     "language": "python",
     "metadata": {},
     "outputs": [
      {
       "output_type": "stream",
       "stream": "stdout",
       "text": [
        "P(S_T^1 < 0) = 0.000371639934425\n"
       ]
      }
     ],
     "prompt_number": 3
    },
    {
     "cell_type": "code",
     "collapsed": false,
     "input": [
      "from finance.products.european.swap import (\n",
      "    SwapContract,\n",
      ")\n",
      "\n",
      "delta = 1.\n",
      "coupon_dates = SwapContract.generate_payment_dates(0, maturity, delta)\n",
      "\n",
      "swap = SwapContract(b, discount, coupon_dates)\n",
      "print swap"
     ],
     "language": "python",
     "metadata": {},
     "outputs": [
      {
       "output_type": "stream",
       "stream": "stdout",
       "text": [
        "Swap contract of maturity T = 10 years, over S^0 with strike K = 109.237, paying at {0.00, 1.00, 2.00, 3.00, 4.00, 5.00, 6.00, 7.00, 8.00, 9.00, 10.00}\n"
       ]
      }
     ],
     "prompt_number": 4
    },
    {
     "cell_type": "heading",
     "level": 3,
     "metadata": {},
     "source": [
      "Test profile"
     ]
    },
    {
     "cell_type": "code",
     "collapsed": false,
     "input": [
      "p_fixed = 100.\n",
      "strike = swap.strike\n",
      "\n",
      "delta_times = swap.delta_time\n",
      "discount_factors = [discount(t) for t in swap.pillars[1:]]\n",
      "\n",
      "delta_beta_sum = np.dot(delta_times, discount_factors)\n",
      "\n",
      "notional = p_fixed / (strike*delta_beta_sum)\n",
      "print \"Notional =\",notional"
     ],
     "language": "python",
     "metadata": {},
     "outputs": [
      {
       "output_type": "stream",
       "stream": "stdout",
       "text": [
        "Notional = 0.102020134003\n"
       ]
      }
     ],
     "prompt_number": 5
    },
    {
     "cell_type": "raw",
     "metadata": {},
     "source": [
      "#Tests \n",
      "\n",
      "from IPython.parallel import Client\n",
      "\n",
      "rc = Client()\n",
      "rc[:].use_dill()\n",
      "rc[:].with view.sync_imports():\n",
      "...    from numpy import recarray"
     ]
    },
    {
     "cell_type": "code",
     "collapsed": false,
     "input": [
      "N = 100\n",
      "prices = np.zeros((N, len(time_grid)))\n",
      "\n",
      "for i in range(N):\n",
      "    b.simulate()\n",
      "    for (j, t) in enumerate(time_grid):\n",
      "        prices[i, j] = notional*swap.price(t)"
     ],
     "language": "python",
     "metadata": {},
     "outputs": [],
     "prompt_number": 6
    },
    {
     "cell_type": "code",
     "collapsed": false,
     "input": [
      "q95 = np.percentile(prices, 97.5, axis=0)\n",
      "q5 = np.percentile(prices, 2.5, axis=0)\n",
      "price_avg = np.mean(prices, 0)"
     ],
     "language": "python",
     "metadata": {},
     "outputs": [],
     "prompt_number": 7
    },
    {
     "cell_type": "code",
     "collapsed": false,
     "input": [
      "%matplotlib inline\n",
      "\n",
      "import matplotlib.pyplot as plt\n",
      "\n",
      "plt.xlabel('Time in year')\n",
      "plt.plot(time_grid, q95, label='95% quantile')\n",
      "plt.plot(time_grid, q5, label='5% quantile')\n",
      "plt.plot(time_grid, price_avg, label='average')\n",
      "plt.legend(loc='best')\n",
      "plt.show()"
     ],
     "language": "python",
     "metadata": {},
     "outputs": [
      {
       "metadata": {},
       "output_type": "display_data",
       "png": "[encoded data removed]",
       "text": [
        "<matplotlib.figure.Figure at 0x13d90b70>"
       ]
      }
     ],
     "prompt_number": 8
    },
    {
     "cell_type": "code",
     "collapsed": false,
     "input": [],
     "language": "python",
     "metadata": {},
     "outputs": [],
     "prompt_number": 8
    }
   ],
   "metadata": {}
  }
 ]
}