{
 "cells": [
  {
   "cell_type": "markdown",
   "metadata": {},
   "source": [
    "# Asset Swap formulas"
   ]
  },
  {
   "cell_type": "markdown",
   "metadata": {},
   "source": [
    "The total cashﬂow of a swap with grid times $T_i$, of strike $K$ and maturity $T = T_n$ upon an asset $(S_t)_{t\\in \\mathbb{R}^+}$, with $T_0 = 0$ is given by:\n",
    "\n",
    "\\begin{equation*}\n",
    "C = \\sum_{i=1}^n \\Delta_{T_i} (S_{T_{i-1}} - K)\n",
    "\\end{equation*}\n",
    "\n",
    "with $\\Delta_{T_i} = T_{i} - T_{i-1}$, noting that the first coupon payment occurs at $t=T_1$"
   ]
  },
  {
   "cell_type": "markdown",
   "metadata": {},
   "source": [
    "## Price computation"
   ]
  },
  {
   "cell_type": "markdown",
   "metadata": {},
   "source": [
    "The price of this asset swap $P_t$ at time $t$ is given by the following formula:\n",
    "\n",
    "\\begin{equation*}\n",
    "P_t = \\beta_t^{-1} \\mathbb{E}_t \\left( \\sum_{i=1}^n \\beta_{T_i} \\Delta_{T_i} (S_{T_{i-1}} - K) \\right)\n",
    "\\end{equation*}\n",
    "\n",
    "with $\\beta_t$ the discout factor given by $\\beta_t = \\exp -\\int_{0}^t r_s ds$"
   ]
  },
  {
   "cell_type": "markdown",
   "metadata": {},
   "source": [
    "## Strike computation"
   ]
  },
  {
   "cell_type": "markdown",
   "metadata": {},
   "source": [
    "The strike of the contract is the unique value which yields to $P_0 = 0$. In order to do so we have:\n",
    "\n",
    "\\begin{align*}\n",
    "0 &=& \\mathbb{E} \\left( \\sum_{i=1}^n \\beta_{T_i} \\Delta_{T_i} (S_{T_{i-1}} - K) \\right) \\\\\n",
    "&=& \\sum_{i=1}^n \\beta_{T_i} \\Delta_{T_i} \\mathbb{E} \\left( S_{T_{i-1}} - K \\right) \\\\\n",
    "&=& \\sum_{i=1}^n \\frac{\\beta_{T_i}}{\\beta_{T_{i-1}}} \\Delta_{T_i} \\Big( \\mathbb{E} \\left( \\beta_{T_{i-1}} S_{T_{i-1}} \\right) - \\beta_{T_{i-1}} K \\Big) \\\\\n",
    "&=& \\sum_{i=1}^n \\frac{\\beta_{T_i}}{\\beta_{T_{i-1}}} \\Delta_{T_i} \\Big( S_0 - \\beta_{T_{i-1}} K \\Big) \\\\\n",
    "&=& S_0 \\sum_{i=1}^n \\frac{\\beta_{T_i}}{\\beta_{T_{i-1}}} \\Delta_{T_i} - K \\sum_{i=1}^n \\beta_{T_i} \\Delta_{T_i}\n",
    "\\end{align*}\n",
    "\n",
    "which leads to:\n",
    "\n",
    "\\begin{equation*}\n",
    "K = S_0 \\frac{\\sum_{i=1}^n \\frac{\\beta_{T_i}}{\\beta_{T_{i-1}}} \\Delta_{T_i}}{\\sum_{i=1}^n \\beta_{T_i} \\Delta_{T_i}}\n",
    "\\end{equation*}"
   ]
  },
  {
   "cell_type": "markdown",
   "metadata": {},
   "source": [
    "## Price of the contract"
   ]
  },
  {
   "cell_type": "markdown",
   "metadata": {},
   "source": [
    "Now we can give the closed formula of the price for each $t>0$. Thus:\n",
    "\n",
    "\\begin{equation*}\n",
    "P_t = \\beta_t^{-1} \\mathbb{E}_t \\left( \\sum_{i=1}^n \\beta_{T_i} \\Delta_{T_i} (S_{T_{i-1}} - K) \\right)\n",
    "\\end{equation*}\n",
    "\n",
    "We introduce $i^*$ which is the first index pillar such that $T_{i^*-1} \\leq t < T_{i^*}$.\n",
    "\n",
    "\\begin{align*}\n",
    "P_t &=& \\beta_t^{-1} \\left[ \n",
    "        \\beta_{T_{i^*}} \\Delta_{T_{i^*}} (S_{T_{i^*-1}} - K) + \n",
    "        \\mathbb{E}_t \\left( \\sum_{j=i^*+1}^n \\Delta_{T_j} \\beta_{T_j} (S_{T_{j-1}} - K) \\right) \n",
    "      \\right] \\\\\n",
    "    &=& \\beta_t^{-1} \\left[ \n",
    "            \\beta_{T_{i^*}} \\Delta_{T_{i^*}} (S_{T_{i^*-1}} - K) +         \n",
    "            \\sum_{j=i^*+1}^n \\Delta_{T_j} \\beta_{T_j} \\mathbb{E}_t \\left( \n",
    "                \\frac{\\beta_{T_{j-1}} S_{T_{j-1}}}{\\beta_{T_{j-1}}} - K \\right) \n",
    "        \\right] \\\\\n",
    "    &=& \\beta_t^{-1} \\left[ \n",
    "            \\beta_{T_{i^*}} \\Delta_{T_{i^*}} (S_{T_{i^*-1}} - K) +         \n",
    "            \\sum_{j=i^*+1}^n \\Delta_{T_j} \\beta_{T_j} \\left( \n",
    "                \\frac{\\beta_{t} S_{t}}{\\beta_{T_{j-1}}} - K \\right)\n",
    "        \\right] \\\\       \n",
    "    &=& \\beta_{t}^{-1} \\beta_{T_{i^*}} \\Delta_{T_{i^*}} (S_{T_{i^*-1}} - K) + \n",
    "        S_t \\sum_{j=i^*+1}^n \\Delta_{T_j} \\frac{\\beta_{T_j}}{\\beta_{T_{j-1}}} -\n",
    "        K \\beta_{t}^{-1} \\sum_{j=i^*+1}^n \\Delta_{T_j} \\beta_{T_j}\n",
    "\\end{align*}"
   ]
  },
  {
   "cell_type": "markdown",
   "metadata": {},
   "source": [
    "## Code"
   ]
  },
  {
   "cell_type": "code",
   "execution_count": 1,
   "metadata": {
    "collapsed": false
   },
   "outputs": [],
   "source": [
    "import sys\n",
    "\n",
    "sys.path.append('../..')"
   ]
  },
  {
   "cell_type": "code",
   "execution_count": 2,
   "metadata": {
    "collapsed": false
   },
   "outputs": [],
   "source": [
    "from finance.discountfactor import ConstantRateDiscountFactor \n",
    "\n",
    "r = 0.02\n",
    "discount = ConstantRateDiscountFactor(r)"
   ]
  },
  {
   "cell_type": "code",
   "execution_count": 3,
   "metadata": {
    "collapsed": false
   },
   "outputs": [],
   "source": [
    "import numpy as np\n",
    "from scipy.stats import norm\n",
    "from maths.montecarlo.processes.brownianmotions import GeometricBrownianMotion\n",
    "\n",
    "maturity = 5.\n",
    "step = 1./360\n",
    "time_grid = GeometricBrownianMotion.generate_time_grid(0, maturity, step)\n",
    "\n",
    "x_0 = [100]\n",
    "mu_s = [[r]]\n",
    "sigma_s = [0.3]\n",
    "\n",
    "gbm = GeometricBrownianMotion(time_grid, x_0, mu_s, sigma_s)"
   ]
  },
  {
   "cell_type": "code",
   "execution_count": 4,
   "metadata": {
    "collapsed": false
   },
   "outputs": [
    {
     "name": "stdout",
     "output_type": "stream",
     "text": [
      "[[ 0.02]]\n",
      "[[ 0.3]]\n"
     ]
    }
   ],
   "source": [
    "print gbm.drifts\n",
    "print gbm.vols"
   ]
  },
  {
   "cell_type": "code",
   "execution_count": 5,
   "metadata": {
    "collapsed": false
   },
   "outputs": [
    {
     "name": "stdout",
     "output_type": "stream",
     "text": [
      "Swap contract of maturity T = 5 years, over S^0 with strike K = 104.821, paying at {0.00, 0.25, 0.50, 0.75, 1.00, 1.25, 1.50, 1.75, 2.00, 2.25, 2.50, 2.75, 3.00, 3.25, 3.50, 3.75, 4.00, 4.25, 4.50, 4.75, 5.00}\n"
     ]
    }
   ],
   "source": [
    "from finance.products.european.assetswap import (\n",
    "    SwapContract,\n",
    ")\n",
    "\n",
    "delta = 0.25\n",
    "coupon_dates = SwapContract.generate_payment_dates(0, maturity, delta)\n",
    "\n",
    "swap = SwapContract(gbm, discount, coupon_dates)\n",
    "print swap"
   ]
  },
  {
   "cell_type": "markdown",
   "metadata": {},
   "source": [
    "### Test profile"
   ]
  },
  {
   "cell_type": "code",
   "execution_count": 6,
   "metadata": {
    "collapsed": false
   },
   "outputs": [
    {
     "name": "stdout",
     "output_type": "stream",
     "text": [
      "Notional = 0.201002504172\n"
     ]
    }
   ],
   "source": [
    "p_fixed = 100.\n",
    "strike = swap.strike\n",
    "\n",
    "delta_times = swap.delta_time\n",
    "discount_factors = [discount(t) for t in swap.pillars[1:]]\n",
    "\n",
    "delta_beta_sum = np.dot(delta_times, discount_factors)\n",
    "\n",
    "notional = p_fixed / (strike*delta_beta_sum)\n",
    "print \"Notional =\",notional"
   ]
  },
  {
   "cell_type": "raw",
   "metadata": {},
   "source": [
    "#Tests \n",
    "\n",
    "from IPython.parallel import Client\n",
    "\n",
    "rc = Client()\n",
    "rc[:].use_dill()\n",
    "rc[:].with view.sync_imports():\n",
    "...    from numpy import recarray"
   ]
  },
  {
   "cell_type": "code",
   "execution_count": 7,
   "metadata": {
    "collapsed": false
   },
   "outputs": [],
   "source": [
    "N = 100\n",
    "prices = np.zeros((N, len(time_grid)))\n",
    "\n",
    "for i in range(N):\n",
    "    gbm.simulate()\n",
    "    for (j, t) in enumerate(time_grid):\n",
    "        prices[i, j] = notional*swap.price(t)"
   ]
  },
  {
   "cell_type": "code",
   "execution_count": 8,
   "metadata": {
    "collapsed": false
   },
   "outputs": [],
   "source": [
    "q95 = np.percentile(prices, 97.5, axis=0)\n",
    "q5 = np.percentile(prices, 2.5, axis=0)\n",
    "price_avg = np.mean(prices, 0)"
   ]
  },
  {
   "cell_type": "code",
   "execution_count": 9,
   "metadata": {
    "collapsed": false
   },
   "outputs": [
    {
     "data": {
      "image/png": "[encoded data removed]",
      "text/plain": [
       "<matplotlib.figure.Figure at 0x14fd0668>"
      ]
     },
     "metadata": {},
     "output_type": "display_data"
    }
   ],
   "source": [
    "%matplotlib inline\n",
    "\n",
    "import matplotlib.pyplot as plt\n",
    "\n",
    "plt.xlabel('Time in year')\n",
    "plt.plot(time_grid, q95, label='95% quantile')\n",
    "plt.plot(time_grid, q5, label='5% quantile')\n",
    "plt.plot(time_grid, price_avg, label='average')\n",
    "plt.legend(loc='best')\n",
    "plt.show()"
   ]
  }
 ],
 "metadata": {
  "kernelspec": {
   "display_name": "Python 2",
   "language": "python",
   "name": "python2"
  },
  "language_info": {
   "codemirror_mode": {
    "name": "ipython",
    "version": 2
   },
   "file_extension": ".py",
   "mimetype": "text/x-python",
   "name": "python",
   "nbconvert_exporter": "python",
   "pygments_lexer": "ipython2",
   "version": "2.7.9"
  }
 },
 "nbformat": 4,
 "nbformat_minor": 0
}
