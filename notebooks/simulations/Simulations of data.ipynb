{
 "cells": [
  {
   "cell_type": "code",
   "execution_count": 1,
   "metadata": {
    "collapsed": true
   },
   "outputs": [],
   "source": [
    "import sys\n",
    "\n",
    "sys.path.append('../..')"
   ]
  },
  {
   "cell_type": "markdown",
   "metadata": {},
   "source": [
    "# Step of the underlying"
   ]
  },
  {
   "cell_type": "code",
   "execution_count": 2,
   "metadata": {
    "collapsed": true
   },
   "outputs": [],
   "source": [
    "step = 1/360."
   ]
  },
  {
   "cell_type": "markdown",
   "metadata": {},
   "source": [
    "# Max maturity of underlying"
   ]
  },
  {
   "cell_type": "code",
   "execution_count": 3,
   "metadata": {
    "collapsed": true
   },
   "outputs": [],
   "source": [
    "maturity = 5."
   ]
  },
  {
   "cell_type": "markdown",
   "metadata": {},
   "source": [
    "# Data"
   ]
  },
  {
   "cell_type": "code",
   "execution_count": 4,
   "metadata": {
    "collapsed": true
   },
   "outputs": [],
   "source": [
    "N = 20000"
   ]
  },
  {
   "cell_type": "markdown",
   "metadata": {},
   "source": [
    "## Underlyings"
   ]
  },
  {
   "cell_type": "code",
   "execution_count": 5,
   "metadata": {
    "collapsed": true
   },
   "outputs": [],
   "source": [
    "from maths.montecarlo.processes.brownianmotions import GeometricBrownianMotion\n",
    "\n",
    "time_grid = GeometricBrownianMotion.generate_time_grid(0, maturity, step)\n",
    "\n",
    "x_0 = [100]\n",
    "drift = 0.02\n",
    "vol = 0.3\n",
    "\n",
    "underlyings = [GeometricBrownianMotion(time_grid, x_0, drift, vol) for _ in range(N)]"
   ]
  },
  {
   "cell_type": "markdown",
   "metadata": {},
   "source": [
    "## Randomization variables"
   ]
  },
  {
   "cell_type": "code",
   "execution_count": 6,
   "metadata": {
    "collapsed": false
   },
   "outputs": [
    {
     "name": "stdout",
     "output_type": "stream",
     "text": [
      "Mean = 2.5\n"
     ]
    }
   ],
   "source": [
    "from scipy.stats import expon\n",
    " \n",
    "mean = maturity / 2.\n",
    "exp_distrib = expon(loc=0, scale=mean)\n",
    "\n",
    "print \"Mean = %s\"%mean"
   ]
  },
  {
   "cell_type": "code",
   "execution_count": 7,
   "metadata": {
    "collapsed": true
   },
   "outputs": [],
   "source": [
    "from utils import v_time_offseter"
   ]
  },
  {
   "cell_type": "code",
   "execution_count": 8,
   "metadata": {
    "collapsed": false
   },
   "outputs": [
    {
     "name": "stdout",
     "output_type": "stream",
     "text": [
      "(20000L,)\n"
     ]
    }
   ],
   "source": [
    "zetas = exp_distrib.rvs(size=N)\n",
    "\n",
    "zetas = v_time_offseter(zetas, time_grid)\n",
    "\n",
    "print zetas.shape"
   ]
  },
  {
   "cell_type": "markdown",
   "metadata": {},
   "source": [
    "## Load intensities of obligors"
   ]
  },
  {
   "cell_type": "code",
   "execution_count": 9,
   "metadata": {
    "collapsed": false
   },
   "outputs": [
    {
     "data": {
      "text/plain": [
       "['groups', 'idio']"
      ]
     },
     "execution_count": 9,
     "metadata": {},
     "output_type": "execute_result"
    }
   ],
   "source": [
    "import dill\n",
    "\n",
    "raw_intensities = None\n",
    "with open('../intensities/intensities_no_I5_new.pkl', 'rb') as f:\n",
    "    raw_intensities = dill.load(f)\n",
    "    \n",
    "raw_intensities.keys()"
   ]
  },
  {
   "cell_type": "code",
   "execution_count": 10,
   "metadata": {
    "collapsed": false
   },
   "outputs": [],
   "source": [
    "import numpy as np\n",
    "\n",
    "raw_idios = np.array(raw_intensities['idio'])\n",
    "raw_groups = np.array(raw_intensities['groups'])"
   ]
  },
  {
   "cell_type": "code",
   "execution_count": 11,
   "metadata": {
    "collapsed": true
   },
   "outputs": [],
   "source": [
    "subsets = []\n",
    "hazard_rates = []\n",
    "pillars = []\n",
    "\n",
    "for d_idio in raw_idios:\n",
    "    subsets.append(d_idio['id'])\n",
    "    hazard_rates.append(d_idio['hazard_rates'])\n",
    "    pillars.append(d_idio['pillars'])\n",
    "    \n",
    "for d_groups in raw_groups:    \n",
    "    subsets.append(d_groups['ids'])\n",
    "    hazard_rates.append(d_groups['hazard_rates'])\n",
    "    pillars.append(d_groups['pillars'])"
   ]
  },
  {
   "cell_type": "code",
   "execution_count": 12,
   "metadata": {
    "collapsed": false
   },
   "outputs": [
    {
     "name": "stdout",
     "output_type": "stream",
     "text": [
      "frozenset([0]) [0.0033853684009316522, 0.0048081762873048344] [3, 5]\n",
      "frozenset([1]) [0.0, 0.0] [3, 5]\n",
      "frozenset([2]) [0.0, 0.0] [3, 5]\n",
      "frozenset([3]) [0.0035647268350895425, 0.0049729999603603187] [3, 5]\n",
      "frozenset([4]) [0.0085808902954963729, -4.3116780252920595e-08] [3, 5]\n",
      "frozenset([5]) [0.0071488558192109308, 0.0021660883207161351] [3, 5]\n",
      "frozenset([6]) [0.0, 0.0] [3, 5]\n",
      "frozenset([7]) [0.0, 0.0] [3, 5]\n",
      "frozenset([8]) [0.0, 0.0] [3, 5]\n",
      "frozenset([9]) [0.0053575143772381798, 0.0031357382970320863] [3, 5]\n",
      "frozenset([10]) [0.0, 0.0] [3, 5]\n",
      "frozenset([11]) [0.0, 0.0] [3, 5]\n",
      "frozenset([12]) [0.0, 0.0] [3, 5]\n",
      "frozenset([13]) [0.00679070303904733, 0.011875018141229196] [3, 5]\n",
      "frozenset([14]) [0.0, 0.0] [3, 5]\n",
      "frozenset([15]) [0.0, 0.0] [3, 5]\n",
      "frozenset([16]) [0.0, 0.0] [3, 5]\n",
      "frozenset([17]) [0.019527402656596408, 0.02429112885794836] [3, 5]\n",
      "frozenset([18]) [0.0, 0.0] [3, 5]\n",
      "frozenset([19]) [0.0, 0.0] [3, 5]\n",
      "frozenset([20]) [0.0, 0.0] [3, 5]\n",
      "frozenset([21]) [0.0, 0.0] [3, 5]\n",
      "frozenset([22]) [0.0, 0.0] [3, 5]\n",
      "frozenset([23]) [0.0, 0.0] [3, 5]\n",
      "frozenset([24]) [0.0060742242762303299, 0.0090260568770450592] [3, 5]\n",
      "frozenset([25]) [0.0037440707707124057, 0.005573581716635744] [3, 5]\n",
      "frozenset([26]) [0.13875824585339652, 0.011547669248559912] [3, 5]\n",
      "frozenset([27]) [0.0060742242762303299, 0.0090260568770450592] [3, 5]\n",
      "frozenset([28]) [0.0039234002115603279, 0.0044314432372225205] [3, 5]\n",
      "frozenset([29]) [0.061405381644669639, 0.019504179067350767] [3, 5]\n",
      "frozenset([30]) [0.0053575143772381798, 0.0053121450218122169] [3, 5]\n",
      "frozenset([31]) [0.031041630733058885, 0.0093801781278084403] [3, 5]\n",
      "frozenset([32]) [0.0, 0.0] [3, 5]\n",
      "frozenset([33]) [0.0053575143772381798, 0.0061839693633931785] [3, 5]\n",
      "frozenset([34]) [0.0, 0.0] [3, 5]\n",
      "frozenset([35]) [0.0, 0.0] [3, 5]\n",
      "frozenset([36]) [0.0044613016030363639, 0.0084157692270739499] [3, 5]\n",
      "frozenset([37]) [0.0042820156239653821, 0.0069405593377332873] [3, 5]\n",
      "frozenset([38]) [0.0037540603886478258, 0.0083679973915118944] [3, 5]\n",
      "frozenset([39]) [0.0, 0.0] [3, 5]\n",
      "frozenset([40]) [0.0, 0.0] [3, 5]\n",
      "frozenset([41]) [0.0, 0.0] [3, 5]\n",
      "frozenset([42]) [0.0, 0.0] [3, 5]\n",
      "frozenset([43]) [0.0042820156239653821, 0.0069405593377332873] [3, 5]\n",
      "frozenset([44]) [0.0, 0.0] [3, 5]\n",
      "frozenset([45]) [0.0058950684798568841, 0.01543982200784904] [3, 5]\n",
      "frozenset([46]) [0.0, 0.0] [3, 5]\n",
      "frozenset([47]) [0.0048198301256903199, 0.0087459454642481796] [3, 5]\n",
      "frozenset([48]) [0.0, 0.0] [3, 5]\n",
      "frozenset([49]) [0.0, 0.0] [3, 5]\n",
      "frozenset([50]) [0.0083242549026868451, 0.0047459025977315307] [3, 5]\n",
      "frozenset([51]) [0.0, 0.0] [3, 5]\n",
      "frozenset([52]) [0.0069697866427843522, 0.009412313593472079] [3, 5]\n",
      "frozenset([53]) [0.0, 0.0] [3, 5]\n",
      "frozenset([54]) [0.0, 0.0] [3, 5]\n",
      "frozenset([55]) [0.0076084681133756034, 0.0054039311273090251] [3, 5]\n",
      "frozenset([56]) [0.0071488558192109308, 0.01396085576842972] [3, 5]\n",
      "frozenset([57]) [0.0076859768219810862, 0.004831746905100351] [3, 5]\n",
      "frozenset([58]) [0.0, 0.0] [3, 5]\n",
      "frozenset([59]) [0.0, 0.0] [3, 5]\n",
      "frozenset([60]) [0.0, 0.0] [3, 5]\n",
      "frozenset([61]) [0.01001200357249298, 0.011331620203213884] [3, 5]\n",
      "frozenset([62]) [0.0, 0.0] [3, 5]\n",
      "frozenset([63]) [0.0, 0.0] [3, 5]\n",
      "frozenset([64]) [0.0079538306824009659, 0.010453932604604442] [3, 5]\n",
      "frozenset([65]) [0.0, 0.0] [3, 5]\n",
      "frozenset([66]) [0.0093975035724929816, 0.012346842938817555] [3, 5]\n",
      "frozenset([67]) [0.0, 0.0] [3, 5]\n",
      "frozenset([68]) [0.0, 0.0] [3, 5]\n",
      "frozenset([69]) [0.0, 0.0] [3, 5]\n",
      "frozenset([70]) [0.010629974271740958, 0.016938463555921164] [3, 5]\n",
      "frozenset([71]) [0.019527402656596408, 0.031960981342872709] [3, 5]\n",
      "frozenset([72]) [0.0044613016030363639, 0.0062328608878536107] [3, 5]\n",
      "frozenset([73]) [0.0046405731023601259, 0.0046543010853429762] [3, 5]\n",
      "frozenset([74]) [0.0, 0.0] [3, 5]\n",
      "frozenset([75]) [0.043677557246084936, 0.035973412121195369] [3, 5]\n",
      "frozenset([76]) [0.012412290810425384, 0.021278323310419275] [3, 5]\n",
      "frozenset([77]) [0.0, 0.0] [3, 5]\n",
      "frozenset([78]) [0.014549197799226079, 0.02776644497340048] [3, 5]\n",
      "frozenset([79]) [0.0, 0.0] [3, 5]\n",
      "frozenset([80]) [0.0051783007593787884, 0.0077649674514900244] [3, 5]\n",
      "frozenset([81]) [0.0081323400953159323, 0.01017554101051063] [3, 5]\n",
      "frozenset([82]) [0.0051783007593787884, 0.0086388361875064969] [3, 5]\n",
      "frozenset([83]) [0.036688674438598044, 0.0025213039003062175] [3, 5]\n",
      "frozenset([84]) [0.0, 0.0] [3, 5]\n",
      "frozenset([85]) [0.0, 0.0] [3, 5]\n",
      "frozenset([86]) [0.0049990726767793845, 0.0019384552989912046] [3, 5]\n",
      "frozenset([87]) [0.0041027151613921287, 0.0080855148036346192] [3, 5]\n",
      "frozenset([88]) [0.0, 0.0] [3, 5]\n",
      "frozenset([89]) [0.00679070303904733, 0.010122718617934231] [3, 5]\n",
      "frozenset([90]) [0.0053575143772381798, 0.010553977708254586] [3, 5]\n",
      "frozenset([91]) [0.0, 0.0] [3, 5]\n",
      "frozenset([92]) [0.0, 0.0] [3, 5]\n",
      "frozenset([93]) [0.0, 0.0] [3, 5]\n",
      "frozenset([94]) [0.0, 0.0] [3, 5]\n",
      "frozenset([95]) [0.0, 0.0] [3, 5]\n",
      "frozenset([96]) [0.0, 0.0] [3, 5]\n",
      "frozenset([97]) [0.0, 0.0] [3, 5]\n",
      "frozenset([98]) [0.0056708494078220595, 0.0087106012160537219] [3, 5]\n",
      "frozenset([99]) [0.060581590986657677, 0.00024219699623512225] [3, 5]\n",
      "frozenset([100]) [0.0092965619647387091, 0.0049975008541213181] [3, 5]\n",
      "frozenset([101]) [0.0, 0.0] [3, 5]\n",
      "frozenset([102]) [0.0, 0.0] [3, 5]\n",
      "frozenset([103]) [0.016717571410357544, 0.0049775320842547974] [3, 5]\n",
      "frozenset([104]) [0.0074120011510654116, 0.0012830417229650892] [3, 5]\n",
      "frozenset([105]) [0.0, 0.0] [3, 5]\n",
      "frozenset([106]) [0.0, 0.0] [3, 5]\n",
      "frozenset([107]) [0.015291149495220129, 0.0071891502257585178] [3, 5]\n",
      "frozenset([108]) [0.0, 0.0] [3, 5]\n",
      "frozenset([109]) [0.0, 0.0] [3, 5]\n",
      "frozenset([110]) [0.0, 0.0] [3, 5]\n",
      "frozenset([111]) [0.037922091051115103, 0.0093585252666851977] [3, 5]\n",
      "frozenset([112]) [0.0064324925346915147, 0.0089183153963120869] [3, 5]\n",
      "frozenset([113]) [0.0037440707707124057, 0.0033964932385639997] [3, 5]\n",
      "frozenset([114]) [0.0062533656265944572, 0.0091908473710852166] [3, 5]\n",
      "frozenset([115]) [0.0, 0.0] [3, 5]\n",
      "frozenset([116]) [0.0071488558192109308, 0.0078285007345857728] [3, 5]\n",
      "frozenset([117]) [0.0, 0.0] [3, 5]\n",
      "frozenset([118]) [0.0064324925346915147, 0.0032498870841485396] [3, 5]\n",
      "frozenset([119]) [0.0057158982337304591, 0.010008631432088397] [3, 5]\n",
      "frozenset([120]) [0.062974019932869274, 0.017307362761800262] [3, 5]\n",
      "frozenset([121]) [0.0, 0.0] [3, 5]\n",
      "frozenset([122]) [0.0076084681133756034, 0.0054039311273090251] [3, 5]\n",
      "frozenset([123]) [0.0, 0.0] [3, 5]\n",
      "frozenset([124]) [0.011164818453918908, 0.0023630189296663245] [3, 5]\n",
      "\n",
      "frozenset([98, 99, 38, 104, 75, 26]) [0.058000000000000003, 0.015925000000000002] [3, 5]\n",
      "\n",
      "frozenset([64, 98, 99, 38, 70, 71, 104, 75, 76, 78, 111, 17, 83, 120, 26, 31, 124, 29, 81]) [0.0053744999999999999, 0.0050889000000000004] [3, 5]\n",
      "\n",
      "frozenset([17, 26, 29, 31, 38, 50, 55, 64, 66, 70, 71, 75, 76, 78, 81, 83, 98, 99, 103, 104, 107, 111, 120, 122, 124]) [0.00061450000000000003, 0.0086692000000000002] [3, 5]\n",
      "\n",
      "frozenset([0, 3, 4, 5, 9, 13, 17, 24, 25, 26, 27, 28, 29, 30, 31, 33, 36, 37, 38, 43, 45, 47, 50, 52, 55, 56, 57, 61, 64, 66, 70, 71, 72, 73, 75, 76, 78, 80, 81, 82, 83, 86, 87, 89, 90, 98, 99, 100, 103, 104, 107, 111, 112, 113, 114, 116, 118, 119, 120, 122, 124]) [0.00020165, 9.3372e-05] [3, 5]\n",
      "\n",
      "frozenset([0, 1, 2, 3, 4, 5, 6, 7, 8, 9, 10, 11, 12, 13, 14, 15, 16, 17, 18, 19, 20, 21, 22, 23, 24, 25, 26, 27, 28, 29, 30, 31, 32, 33, 34, 35, 36, 37, 38, 39, 40, 41, 42, 43, 44, 45, 46, 47, 48, 49, 50, 51, 52, 53, 54, 55, 56, 57, 58, 59, 60, 61, 62, 63, 64, 65, 66, 67, 68, 69, 70, 71, 72, 73, 74, 75, 76, 77, 78, 79, 80, 81, 82, 83, 84, 85, 86, 87, 88, 89, 90, 91, 92, 93, 94, 95, 96, 97, 98, 99, 100, 101, 102, 103, 104, 105, 106, 107, 108, 109, 110, 111, 112, 113, 114, 115, 116, 117, 118, 119, 120, 121, 122, 123, 124]) [0.0016207000000000001, 0.0076647] [3, 5]\n"
     ]
    }
   ],
   "source": [
    "for s, hz, p in zip(subsets, hazard_rates, pillars):\n",
    "    if len(list(s)) > 1:\n",
    "        print    \n",
    "        \n",
    "    print s, hz, p    "
   ]
  },
  {
   "cell_type": "markdown",
   "metadata": {},
   "source": [
    "## Copula"
   ]
  },
  {
   "cell_type": "code",
   "execution_count": 13,
   "metadata": {
    "collapsed": true
   },
   "outputs": [],
   "source": [
    "from maths.copula.marshallolkin import StepWiseIntensitiesMarshallOlkinCopula\n",
    "\n",
    "copula = StepWiseIntensitiesMarshallOlkinCopula(subsets, hazard_rates, pillars)"
   ]
  },
  {
   "cell_type": "code",
   "execution_count": 14,
   "metadata": {
    "collapsed": false
   },
   "outputs": [
    {
     "name": "stdout",
     "output_type": "stream",
     "text": [
      "[0, 1, 2, 3, 4, 5, 6, 7, 8, 9, 10, 11, 12, 13, 14, 15, 16, 17, 18, 19, 20, 21, 22, 23, 24, 25, 26, 27, 28, 29, 30, 31, 32, 33, 34, 35, 36, 37, 38, 39, 40, 41, 42, 43, 44, 45, 46, 47, 48, 49, 50, 51, 52, 53, 54, 55, 56, 57, 58, 59, 60, 61, 62, 63, 64, 65, 66, 67, 68, 69, 70, 71, 72, 73, 74, 75, 76, 77, 78, 79, 80, 81, 82, 83, 84, 85, 86, 87, 88, 89, 90, 91, 92, 93, 94, 95, 96, 97, 98, 99, 100, 101, 102, 103, 104, 105, 106, 107, 108, 109, 110, 111, 112, 113, 114, 115, 116, 117, 118, 119, 120, 121, 122, 123, 124]\n"
     ]
    }
   ],
   "source": [
    "# The last group contains all\n",
    "# the obligors ids (as a senior CDO tranch)\n",
    "\n",
    "bc_ids = list(raw_groups[-1]['ids'])\n",
    "print bc_ids"
   ]
  },
  {
   "cell_type": "code",
   "execution_count": 15,
   "metadata": {
    "collapsed": false
   },
   "outputs": [
    {
     "name": "stdout",
     "output_type": "stream",
     "text": [
      "[0, 1, 2, 3, 4, 5, 6, 7, 8, 9, 10, 11, 12, 13, 14, 15, 16, 17, 18, 19, 20, 21, 22, 23, 24, 25, 26, 27, 28, 29, 30, 31, 32, 33, 34, 35, 36, 37, 38, 39, 40, 41, 42, 43, 44, 45, 46, 47, 48, 49, 50, 51, 52, 53, 54, 55, 56, 57, 58, 59, 60, 61, 62, 63, 64, 65, 66, 67, 68, 69, 70, 71, 72, 73, 74, 75, 76, 77, 78, 79, 80, 81, 82, 83, 84, 85, 86, 87, 88, 89, 90, 91, 92, 93, 94, 95, 96, 97, 98, 99, 100, 101, 102, 103, 104, 105, 106, 107, 108, 109, 110, 111, 112, 113, 114, 115, 116, 117, 118, 119, 120, 121, 122, 123, 124, 125, 126, 127, 128, 129]\n"
     ]
    }
   ],
   "source": [
    "bc_subsets_indexes = []\n",
    "for id_ in bc_ids:\n",
    "    bc_subsets_indexes += copula.get_indexes_including(id_)\n",
    "    \n",
    "bc_subsets_indexes = list(set(bc_subsets_indexes))\n",
    "bc_subsets_indexes.sort()\n",
    "\n",
    "print bc_subsets_indexes"
   ]
  },
  {
   "cell_type": "markdown",
   "metadata": {},
   "source": [
    "## Default times"
   ]
  },
  {
   "cell_type": "code",
   "execution_count": 16,
   "metadata": {
    "collapsed": false
   },
   "outputs": [],
   "source": [
    "default_times_mat = copula.generate_default_times(subsets_indexes=bc_subsets_indexes, number=N)"
   ]
  },
  {
   "cell_type": "code",
   "execution_count": 17,
   "metadata": {
    "collapsed": false
   },
   "outputs": [],
   "source": [
    "default_times_mat_shifted = v_time_offseter(default_times_mat, time_grid)"
   ]
  },
  {
   "cell_type": "code",
   "execution_count": 34,
   "metadata": {
    "collapsed": false
   },
   "outputs": [
    {
     "name": "stdout",
     "output_type": "stream",
     "text": [
      "0.0138888888889 0.0166666666667 0.0166666666667\n",
      "0.0157264940045\n",
      "0.0166666666667\n"
     ]
    }
   ],
   "source": [
    "index = time_grid.searchsorted(default_times_mat_shifted[:, 0].min())\n",
    "\n",
    "print time_grid[index-1], time_grid[index-1]+step, time_grid[index]\n",
    "print default_times_mat[:, 0].min()\n",
    "print default_times_mat_shifted[:, 0].min()"
   ]
  },
  {
   "cell_type": "markdown",
   "metadata": {},
   "source": [
    "# Saving"
   ]
  },
  {
   "cell_type": "code",
   "execution_count": 18,
   "metadata": {
    "collapsed": false
   },
   "outputs": [],
   "source": [
    "to_save = {}\n",
    "\n",
    "to_save[\"N\"] = N\n",
    "to_save[\"randomization\"] = {\n",
    "    \"distrib\": {\"loc\": 0., \"scale\": mean},\n",
    "    \"zetas\": zetas,\n",
    "    \"maturity\": maturity,\n",
    "}\n",
    "to_save[\"credit\"] = {\n",
    "    \"copula\": copula,\n",
    "    \"bc_subsets_indexes\": bc_subsets_indexes,\n",
    "    \"bc_ids\": bc_ids,\n",
    "    \"default_times\": default_times_mat_shifted,\n",
    "}\n",
    "to_save[\"underlyings\"] = underlyings"
   ]
  },
  {
   "cell_type": "code",
   "execution_count": 19,
   "metadata": {
    "collapsed": false
   },
   "outputs": [],
   "source": [
    "import dill\n",
    "\n",
    "with open('data.pkl', 'wb') as f:\n",
    "    dill.dump(to_save, f)"
   ]
  }
 ],
 "metadata": {
  "kernelspec": {
   "display_name": "Python 2",
   "language": "python",
   "name": "python2"
  },
  "language_info": {
   "codemirror_mode": {
    "name": "ipython",
    "version": 2
   },
   "file_extension": ".py",
   "mimetype": "text/x-python",
   "name": "python",
   "nbconvert_exporter": "python",
   "pygments_lexer": "ipython2",
   "version": "2.7.9"
  }
 },
 "nbformat": 4,
 "nbformat_minor": 0
}
