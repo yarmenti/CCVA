{
 "metadata": {
  "name": "",
  "signature": "sha256:613e572cb35bb7b88ad1462d9737798142996e47b9c6bd087a942befe95242ec"
 },
 "nbformat": 3,
 "nbformat_minor": 0,
 "worksheets": [
  {
   "cells": [
    {
     "cell_type": "code",
     "collapsed": false,
     "input": [
      "import sys\n",
      "\n",
      "sys.path.append('../../')"
     ],
     "language": "python",
     "metadata": {},
     "outputs": [],
     "prompt_number": 1
    },
    {
     "cell_type": "code",
     "collapsed": false,
     "input": [
      "from finance.discountfactor import ConstantRateDiscountFactor \n",
      "\n",
      "r = 0.02\n",
      "discount = ConstantRateDiscountFactor(r)"
     ],
     "language": "python",
     "metadata": {},
     "outputs": [],
     "prompt_number": 2
    },
    {
     "cell_type": "code",
     "collapsed": false,
     "input": [
      "import numpy as np\n",
      "from scipy.stats import norm\n",
      "from maths.montecarlo.process.brownianmotion import BrownianMotion\n",
      "\n",
      "maturity = 5.\n",
      "step = 1./360\n",
      "time_grid = BrownianMotion.generate_time_grid(0, maturity, step)\n",
      "\n",
      "x_0 = [100]\n",
      "mu_s = [5]\n",
      "sigma_s = [10]\n",
      "\n",
      "b = BrownianMotion(x_0, mu_s, sigma_s, time_grid)\n",
      "\n",
      "for i, (x0, m_, s_) in enumerate(zip(x_0, mu_s, sigma_s)):\n",
      "    print \"P(S_T^%d < 0) = %s\"%(i+1, norm.cdf(-(x0 + m_ * maturity)/(s_*np.sqrt(maturity))))"
     ],
     "language": "python",
     "metadata": {},
     "outputs": [
      {
       "output_type": "stream",
       "stream": "stdout",
       "text": [
        "P(S_T^1 < 0) = 1.13423742963e-08\n"
       ]
      }
     ],
     "prompt_number": 3
    },
    {
     "cell_type": "code",
     "collapsed": false,
     "input": [
      "from finance.products.european.assetswap import (\n",
      "    SwapContract,\n",
      ")\n",
      "\n",
      "delta = 0.25\n",
      "coupon_dates = SwapContract.generate_payment_dates(0, maturity, delta)\n",
      "\n",
      "swap = SwapContract(b, discount, coupon_dates)\n",
      "print swap"
     ],
     "language": "python",
     "metadata": {},
     "outputs": [
      {
       "output_type": "stream",
       "stream": "stdout",
       "text": [
        "Swap contract of maturity T = 5 years, over S^0 with strike K = 104.821, paying at {0.00, 0.25, 0.50, 0.75, 1.00, 1.25, 1.50, 1.75, 2.00, 2.25, 2.50, 2.75, 3.00, 3.25, 3.50, 3.75, 4.00, 4.25, 4.50, 4.75, 5.00}\n"
       ]
      }
     ],
     "prompt_number": 4
    },
    {
     "cell_type": "code",
     "collapsed": false,
     "input": [
      "from risk.exposure import EuropeanQuantileBrownianExposure\n",
      "\n",
      "exposure_mpor = 1./360\n",
      "exposure_quantile = 0.99\n",
      "\n",
      "exposure = EuropeanQuantileBrownianExposure(swap, discount, mu_s[0], sigma_s[0])"
     ],
     "language": "python",
     "metadata": {},
     "outputs": [],
     "prompt_number": 5
    },
    {
     "cell_type": "code",
     "collapsed": false,
     "input": [
      "from finance.portfolio import EquilibratedPortfolio\n",
      "\n",
      "pos = [[1],\n",
      "       [-2],\n",
      "       [1]]\n",
      "\n",
      "port = EquilibratedPortfolio(pos, [swap], [exposure])"
     ],
     "language": "python",
     "metadata": {},
     "outputs": [],
     "prompt_number": 6
    },
    {
     "cell_type": "code",
     "collapsed": false,
     "input": [
      "from ccp.states import MembersState\n",
      "\n",
      "states = MembersState(3)"
     ],
     "language": "python",
     "metadata": {},
     "outputs": [],
     "prompt_number": 7
    },
    {
     "cell_type": "code",
     "collapsed": false,
     "input": [
      "from ccp.accounts import Accounts\n",
      "\n",
      "vm_accounts = Accounts(states, 1)\n",
      "im_accounts = Accounts(states, 1)"
     ],
     "language": "python",
     "metadata": {},
     "outputs": [],
     "prompt_number": 8
    },
    {
     "cell_type": "code",
     "collapsed": false,
     "input": [
      "from credit.default_models import FlatIntensity\n",
      "\n",
      "default_proba = [FlatIntensity(0.002, 0.4) for i in range(0, 3)]\n",
      "print default_proba"
     ],
     "language": "python",
     "metadata": {},
     "outputs": [
      {
       "output_type": "stream",
       "stream": "stdout",
       "text": [
        "[<credit.default_models.FlatIntensity object at 0x0000000013D8F630>, <credit.default_models.FlatIntensity object at 0x0000000013D8F4E0>, <credit.default_models.FlatIntensity object at 0x0000000013D8F860>]\n"
       ]
      }
     ],
     "prompt_number": 9
    },
    {
     "cell_type": "code",
     "collapsed": false,
     "input": [
      "from risk.basel import RegulatoryCapital\n",
      "\n",
      "regul_cap = RegulatoryCapital(vm_accounts, im_accounts, port, default_proba, bank_index=0)"
     ],
     "language": "python",
     "metadata": {},
     "outputs": [],
     "prompt_number": 10
    },
    {
     "cell_type": "code",
     "collapsed": false,
     "input": [
      "regul_cap.compute_kccr(1, 0, 3.)"
     ],
     "language": "python",
     "metadata": {},
     "outputs": [
      {
       "metadata": {},
       "output_type": "pyout",
       "prompt_number": 11,
       "text": [
        "61.798317681518888"
       ]
      }
     ],
     "prompt_number": 11
    },
    {
     "cell_type": "code",
     "collapsed": false,
     "input": [
      "regul_cap.compute_kcva(1, 0, 3.)"
     ],
     "language": "python",
     "metadata": {},
     "outputs": [
      {
       "metadata": {},
       "output_type": "pyout",
       "prompt_number": 12,
       "text": [
        "35.06838741722239"
       ]
      }
     ],
     "prompt_number": 12
    },
    {
     "cell_type": "code",
     "collapsed": false,
     "input": [],
     "language": "python",
     "metadata": {},
     "outputs": [],
     "prompt_number": 12
    },
    {
     "cell_type": "code",
     "collapsed": false,
     "input": [],
     "language": "python",
     "metadata": {},
     "outputs": [],
     "prompt_number": 12
    }
   ],
   "metadata": {}
  }
 ]
}