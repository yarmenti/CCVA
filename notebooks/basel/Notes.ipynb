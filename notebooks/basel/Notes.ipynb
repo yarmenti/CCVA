{
 "cells": [
  {
   "cell_type": "markdown",
   "metadata": {},
   "source": [
    "# Introduction"
   ]
  },
  {
   "cell_type": "markdown",
   "metadata": {},
   "source": [
    "This notebook will contain some notes of the following papers\n",
    "\n",
    "- [An Explanatory Note on the Basel II IRB Risk Weight Functions](http://www.bis.org/bcbs/irbriskweight.pdf)  \n",
    "- [The standardised approach for measuring counterparty credit risk exposures](http://www.bis.org/publ/bcbs279.pdf)\n",
    "- [Comparing Alternate Methods for Calculating CVA Capital Charges under Basel III](http://www.garp.org/media/1110535/whitepaper_cvacapitalcalculation_121812.pdf)\n",
    "\n",
    ">The Expected Loss of a portfolio is assumed to equal the proportion of obligors that might default within a \n",
    "given time frame (1 year in the Basel context), multiplied by the outstanding exposure at default, and once more multiplied by the loss given default rate (i.e. the percentage of exposure that will not be recovered by sale of collateral etc.\n",
    "\n",
    ">The three factors mentioned above correspond to the risk parameters upon which the Basel II IRB approach is built:  \n",
    "- probability of default (PD) per rating grade, which gives the average percentage of obligors that default in this rating grade in the course of one year\n",
    "- exposure at default (EAD), which gives an estimate of the amount outstanding (drawn amounts plus likely future drawdowns of yet undrawn lines) in case the borrower defaults\n",
    "- loss given default (LGD), which gives the percentage of exposure the bank might lose in case the borrower defaults. These losses are usually shown as a percentage of EAD, and depend, amongst others, on the type and amount of collateral as well as the type of borrower and the expected proceeds from the work-out of the assets.  \n",
    "\n",
    "\\begin{equation*}\n",
    "\\text{EL} = \\text{PD} \\times \\text{EAD} \\times \\text{LGD}\n",
    "\\end{equation*}"
   ]
  },
  {
   "cell_type": "markdown",
   "metadata": {},
   "source": [
    "# Regulatory capital for counterparty credit risk ($K_{CCR}$)"
   ]
  },
  {
   "cell_type": "markdown",
   "metadata": {},
   "source": [
    "## Formula"
   ]
  },
  {
   "cell_type": "markdown",
   "metadata": {},
   "source": [
    "The $RWA (=K_{CCR})$ is given by: \n",
    "\n",
    "\\begin{equation*}\n",
    "RWA = 12,5 \\times \\omega \\times EAD\n",
    "\\end{equation*}"
   ]
  },
  {
   "cell_type": "markdown",
   "metadata": {},
   "source": [
    "## Weight $\\omega$"
   ]
  },
  {
   "cell_type": "markdown",
   "metadata": {},
   "source": [
    "### Standardized Approach"
   ]
  },
  {
   "cell_type": "markdown",
   "metadata": {},
   "source": [
    "Different tables and mapping are provided by Basel. All the following information of the SA will come from [BCBS 128](http://www.bis.org/publ/bcbs128.pdf).\n",
    "\n",
    "- Claims on sovereigns see $\\S 53$\n",
    "- Claims on banks see $\\S 63$\n",
    "- Claims on corporates see $\\S 66$\n",
    "- ... and some over specific claims\n",
    "\n",
    "More specifically, see [BCBS The Standardised Approach to Credit Risk](http://www.bis.org/publ/bcbsca04.pdf)"
   ]
  },
  {
   "cell_type": "markdown",
   "metadata": {},
   "source": [
    "### IRB Approach"
   ]
  },
  {
   "cell_type": "markdown",
   "metadata": {},
   "source": [
    "The Capital weight regulatory formula is given by:\n",
    "\n",
    "\\begin{equation*}\n",
    "\\omega = \\text{LGD} \\times \\left( \n",
    "            \\Phi \\left( \n",
    "                \\frac{\\Phi^{-1} \\left( \\text{PD} \\right)}{\\sqrt{1-\\text{R}}}\n",
    "                + \\sqrt{\\frac{\\text{R}}{1-\\text{R}}} \\times \\Phi^{-1}(0.999)\n",
    "            \\right) \n",
    "            - \\text{PD} \\right)\n",
    "        \\times \\frac{1 + ( \\text{M} - 2.5) \\times \\text{b(PD)}}{1 - 1.5 \\times \\text{b(PD)}}\n",
    "\\end{equation*}\n",
    "\n",
    "where:\n",
    "\n",
    "- $\\Phi$ is the CDF of the standard normal distribution\n",
    "- $\\text{R}$ is the assets - counterparties correlation\n",
    "    - $\\text{R(PD)} = 0.12 \\frac{1-e^{-50 \\times PD}}{1-e^{-50}} + 0.24 \\frac{1 - (1 - e^{-50 \\times PD})}{1-e^{-50}}$\n",
    "- $\\text{M}$ is the eﬀective maturity of the netting set\n",
    "    - $\\text{M} = \\min(5.0, \\max(1.0, \\frac{\\sum_{i=1}^N m_i \\, N_i}{\\sum_{i=1}^N N_i})$\n",
    "- $\\text{b}$ is the smoothed (regression) maturity adjustment (smoothed over PDs)\n",
    "    - $\\text{b}(x) = \\Big( 0.11852 - 0.05478 \\times \\ln x \\Big)^2$"
   ]
  },
  {
   "cell_type": "markdown",
   "metadata": {},
   "source": [
    "## Exposure at default $EAD$"
   ]
  },
  {
   "cell_type": "markdown",
   "metadata": {},
   "source": [
    "### Standardized Approach"
   ]
  },
  {
   "cell_type": "markdown",
   "metadata": {},
   "source": [
    "The Exposure at default ($EAD$) is given by:\n",
    "\n",
    "\\begin{equation*}\n",
    "\\text{EAD} = 1.4 \\times (\\text{RC} + \\text{PFE})\n",
    "\\end{equation*}\n",
    "\n",
    "with:\n",
    "\n",
    "- $\\text{RC}$ the replacement cost\n",
    "- $\\text{PFE}$ the amount for potential future exposure\n",
    "\n",
    "In the code, we will put a $\\text{PFE}$ value to $0$ (too much complicated to handle the different derivatives). Moreover, instead of using the BCBS valuation for the $\\text{RC}$, we will use $\\text{RC} = (\\text{V} - \\text{Collat})^+$ (see $\\S$ 139-145 of 2nd reference above)\n",
    "Thus, in our framework,\n",
    "\n",
    "\\begin{equation*}\n",
    "\\text{EAD} = 1.4 \\times (\\text{V}-\\text{Collat})^+\n",
    "\\end{equation*}"
   ]
  },
  {
   "cell_type": "markdown",
   "metadata": {},
   "source": [
    "# Regulatory capital for CVA in Basel III ($K_{CVA}$)"
   ]
  },
  {
   "cell_type": "markdown",
   "metadata": {},
   "source": [
    ">(From Kenyon) The standardized CVA risk capital charge in (BCBS-189 2011), $\\S$ 104, gives the formula to generate CVA capital (in the absence of hedging):\n",
    "\n",
    "\\begin{equation*}\n",
    "\\text{K}_{CVA} = \n",
    "    2.33 \\sqrt{h} \\left[\n",
    "        \\left( 0.5 \\sum_{i=1}^n w_i M_i \\tilde{EAD_i}^{tot} \\right)^2\n",
    "        + 0.75 \\sum_{i=1}^n \\left( w_i M_i \\tilde{EAD_i}^{tot} \\right)^2\n",
    "    \\right]^{0.5}\n",
    "\\end{equation*}\n",
    "\n",
    "As in Kenyon, we will use the following formula towards the $i$-th counterparty:\n",
    "\n",
    "\\begin{equation*}\n",
    "\\text{K}_{CVA}^i = \n",
    "    \\frac{2.33}{2} \\sqrt{h} w_i M_i \\frac{1-e^{-0.05M_i}}{0.05 M_i} EAD_i^{tot}\n",
    "\\end{equation*}\n",
    "\n",
    "\n",
    "where:\n",
    "\n",
    "- $h$ is the one year risk horizon i.e., $h=1$\n",
    "- $w_i$ is the risk weight of th $i$th counterparty, based on external rating or equivalent\n",
    "- $\\tilde{EAD_i}$ is the exposure at default of counterparty $i$, discounted using $\\frac{1 - \\exp(0.05M_i)}{0.05M_i}$\n",
    "- $M_i$ is the effective maturity of the of the netting set with counterparty $i$ as above\n",
    "- $w_i$ is the weight based on the external rating (see $\\S 104$) of [BCBS 189](http://www.bis.org/publ/bcbs189.pdf):\n",
    "\n",
    "\\begin{array}{|c|c|}\n",
    "\\hline\n",
    "\\text{Rating} & \\text{Weight} \\\\\n",
    "\\hline\n",
    "\\text{AAA} & 0.7\\% \\\\\n",
    "\\text{AA} & 0.7\\% \\\\\n",
    "\\text{A} & 0.8\\% \\\\\n",
    "\\text{BBB} & 1.0\\% \\\\\n",
    "\\text{BB} & 2.0\\% \\\\\n",
    "\\text{B} & 3.0\\% \\\\\n",
    "\\text{CCC} & 10.0\\% \\\\\n",
    "\\hline\n",
    "\\end{array}\n",
    "\n",
    "Moreover, we have the following study from Moody's:\n",
    "\n",
    "\\begin{array}{|c|c|}\n",
    "\\hline\n",
    "\\text{Rating} & \\text{Default Prob} \\\\\n",
    "\\hline\n",
    "\\text{AAA} & 0.00\\% \\\\\n",
    "\\text{AA} & 0.02\\% \\\\\n",
    "\\text{A} & 0.06\\% \\\\\n",
    "\\text{BBB} & 0.17\\% \\\\\n",
    "\\text{BB} & 1.06\\% \\\\\n",
    "\\text{B} & 3.71\\% \\\\\n",
    "\\text{CCC} & 12.81\\% \\\\\n",
    "\\hline\n",
    "\\end{array}"
   ]
  },
  {
   "cell_type": "code",
   "execution_count": null,
   "metadata": {
    "collapsed": false
   },
   "outputs": [],
   "source": []
  }
 ],
 "metadata": {
  "kernelspec": {
   "display_name": "Python 2",
   "language": "python",
   "name": "python2"
  },
  "language_info": {
   "codemirror_mode": {
    "name": "ipython",
    "version": 2
   },
   "file_extension": ".py",
   "mimetype": "text/x-python",
   "name": "python",
   "nbconvert_exporter": "python",
   "pygments_lexer": "ipython2",
   "version": "2.7.9"
  }
 },
 "nbformat": 4,
 "nbformat_minor": 0
}
