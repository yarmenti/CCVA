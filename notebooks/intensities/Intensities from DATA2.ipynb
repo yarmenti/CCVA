{
 "cells": [
  {
   "cell_type": "markdown",
   "metadata": {},
   "source": [
    "# Model"
   ]
  },
  {
   "cell_type": "markdown",
   "metadata": {},
   "source": [
    "We suppose that the default model of the each member is given by:\n",
    "\n",
    "\\begin{equation*}\n",
    "\\mathbb{P}(\\tau_i \\leq t) = 1 - \\exp \\left( - \\sum_{i=0}^{k} \\lambda_i (T_{i+1}-T_{i}) - \\lambda_k (t-T_k) \\right)\n",
    "\\end{equation*}\n",
    "\n",
    "for $t \\in [T_k, T_{k+1}[$, with the convention that $T_0 = 0$."
   ]
  },
  {
   "cell_type": "markdown",
   "metadata": {},
   "source": [
    "# Load matlab file"
   ]
  },
  {
   "cell_type": "code",
   "execution_count": 1,
   "metadata": {
    "collapsed": false
   },
   "outputs": [
    {
     "name": "stdout",
     "output_type": "stream",
     "text": [
      "['Calibrated_Common_Choc', '__version__', '__header__', '__globals__']\n",
      "\n",
      "MATLAB 5.0 MAT-file, Platform: MACI64, Created on: Tue Apr  7 14:26:40 2015\n",
      "1.0\n",
      "[]\n"
     ]
    }
   ],
   "source": [
    "import scipy.io\n",
    "\n",
    "mat = scipy.io.loadmat('Calibrated_Common_Shock_with_lambda_ind.mat')\n",
    "print mat.keys()\n",
    "\n",
    "print\n",
    "print mat['__header__']\n",
    "print mat['__version__']\n",
    "print mat['__globals__']"
   ]
  },
  {
   "cell_type": "code",
   "execution_count": 2,
   "metadata": {
    "collapsed": false
   },
   "outputs": [],
   "source": [
    "%matplotlib inline\n",
    "import matplotlib.pyplot as plt"
   ]
  },
  {
   "cell_type": "code",
   "execution_count": 3,
   "metadata": {
    "collapsed": false
   },
   "outputs": [
    {
     "data": {
      "text/plain": [
       "dtype([('Names', 'O'), ('Sectors', 'O'), ('Currencies', 'O'), ('CDS_Pillars', 'O'), ('Today', 'O'), ('coupDate', 'O'), ('CDS_Spreads', 'O'), ('CDO_attach', 'O'), ('CDO_detach', 'O'), ('CDO_Spreads', 'O'), ('CDO_Maturity', 'O'), ('Eta', 'O'), ('CDS_Pillars_in_years', 'O'), ('Common_Choc_Pillars', 'O'), ('NbNames', 'O'), ('Recovery', 'O'), ('IR', 'O'), ('Rank_group', 'O'), ('Group_size', 'O'), ('Lambda_group_optimal', 'O'), ('Lambda_ind', 'O'), ('Group_Composition', 'O')])"
      ]
     },
     "execution_count": 3,
     "metadata": {},
     "output_type": "execute_result"
    }
   ],
   "source": [
    "import numpy as np\n",
    "\n",
    "calib_comm_shocks = mat['Calibrated_Common_Choc'][0, 0]\n",
    "calib_comm_shocks.dtype"
   ]
  },
  {
   "cell_type": "code",
   "execution_count": 4,
   "metadata": {
    "collapsed": true
   },
   "outputs": [],
   "source": [
    "pillars = [3, 5]"
   ]
  },
  {
   "cell_type": "markdown",
   "metadata": {},
   "source": [
    "## Group structure and intensities"
   ]
  },
  {
   "cell_type": "markdown",
   "metadata": {},
   "source": [
    "### Group structure"
   ]
  },
  {
   "cell_type": "code",
   "execution_count": 5,
   "metadata": {
    "collapsed": false
   },
   "outputs": [
    {
     "name": "stdout",
     "output_type": "stream",
     "text": [
      "{'I_disjnt_3': (dtype('O'), 16), 'I_disjnt_2': (dtype('O'), 8), 'I_disjnt_1': (dtype('O'), 0), 'I_disjnt_5': (dtype('O'), 32), 'I_disjnt_4': (dtype('O'), 24)}\n"
     ]
    }
   ],
   "source": [
    "raw_groups = calib_comm_shocks[\"Group_Composition\"]\n",
    "print raw_groups.dtype.fields"
   ]
  },
  {
   "cell_type": "code",
   "execution_count": 6,
   "metadata": {
    "collapsed": false
   },
   "outputs": [],
   "source": [
    "import re\n",
    "\n",
    "group_composition = {int(re.findall(r'\\d+', x)[0]): frozenset(raw_groups[x][0][0][0][0][0].flatten()) \n",
    "                     for x in raw_groups.dtype.fields}"
   ]
  },
  {
   "cell_type": "code",
   "execution_count": 7,
   "metadata": {
    "collapsed": false
   },
   "outputs": [
    {
     "name": "stdout",
     "output_type": "stream",
     "text": [
      "1 frozenset([99, 100, 39, 105, 76, 27]) 6\n",
      "2 frozenset([32, 65, 82, 71, 72, 77, 79, 112, 18, 84, 121, 125, 30]) 13\n",
      "3 frozenset([67, 104, 108, 51, 56, 123]) 6\n",
      "4 frozenset([1, 4, 5, 6, 10, 14, 25, 26, 28, 29, 31, 34, 37, 38, 44, 46, 48, 53, 57, 58, 62, 73, 74, 81, 83, 87, 88, 90, 91, 101, 113, 114, 115, 117, 119, 120]) 36\n",
      "5 frozenset([2, 3, 7, 8, 9, 11, 12, 13, 15, 16, 17, 19, 20, 21, 22, 23, 24, 33, 35, 36, 40, 41, 42, 43, 45, 47, 49, 50, 52, 54, 55, 59, 60, 61, 63, 64, 66, 68, 69, 70, 75, 78, 80, 85, 86, 89, 92, 93, 94, 95, 96, 97, 98, 102, 103, 106, 107, 109, 110, 111, 116, 118, 122, 124]) 64\n"
     ]
    }
   ],
   "source": [
    "for g in group_composition:\n",
    "    print g, group_composition[g], len(group_composition[g])"
   ]
  },
  {
   "cell_type": "code",
   "execution_count": 12,
   "metadata": {
    "collapsed": false
   },
   "outputs": [],
   "source": [
    "groups_intensities = {}\n",
    "\n",
    "raw_group_intensities = calib_comm_shocks['Lambda_group_optimal']\n",
    "\n",
    "for ind, pill in enumerate(pillars):\n",
    "    raw_lambdas_pills = raw_group_intensities[:, ind]\n",
    "    groups_intensities[pill] = {i+1: c for i, c in enumerate(raw_lambdas_pills)}"
   ]
  },
  {
   "cell_type": "code",
   "execution_count": 13,
   "metadata": {
    "collapsed": false
   },
   "outputs": [
    {
     "name": "stdout",
     "output_type": "stream",
     "text": [
      "{1: 0.058000000000000003, 2: 0.0053744999999999999, 3: 0.00061450000000000003, 4: 0.00020165, 5: 0.0016207000000000001}\n",
      "{1: 0.015925000000000002, 2: 0.0050889000000000004, 3: 0.0086692000000000002, 4: 9.3372e-05, 5: 0.0076647}\n"
     ]
    }
   ],
   "source": [
    "print groups_intensities[3]\n",
    "print groups_intensities[5]"
   ]
  },
  {
   "cell_type": "markdown",
   "metadata": {},
   "source": [
    "## Idiosyncratic intensities"
   ]
  },
  {
   "cell_type": "code",
   "execution_count": 15,
   "metadata": {
    "collapsed": false
   },
   "outputs": [],
   "source": [
    "raw_idio = calib_comm_shocks['Lambda_ind']\n",
    "\n",
    "I_5 = group_composition[5]\n",
    "\n",
    "idios = []\n",
    "nb_obligors = raw_idio.shape[0]\n",
    "\n",
    "for i, idio in enumerate(raw_idio):\n",
    "    id_ = i+1\n",
    "    lambda_3y = idio[0] if id_ not in I_5 else 0.\n",
    "    lambda_5y = idio[1] if id_ not in I_5 else 0.\n",
    "    \n",
    "    idios.append({\"id\": frozenset([i]), \"pillars\": [3, 5], \"hazard_rates\": [lambda_3y, lambda_5y]})"
   ]
  },
  {
   "cell_type": "code",
   "execution_count": 16,
   "metadata": {
    "collapsed": false
   },
   "outputs": [
    {
     "name": "stdout",
     "output_type": "stream",
     "text": [
      "Carefull of these obligors:\n",
      "--------------------------\n",
      "ID = frozenset([4]) | l_3y = 0.0085808902955 | l_5y = -4.31167802529e-08\n"
     ]
    }
   ],
   "source": [
    "print \"Carefull of these obligors:\\n--------------------------\"\n",
    "for d in idios:\n",
    "    if min(d['hazard_rates']) < 0:\n",
    "        print \"ID = %s | l_3y = %s | l_5y = %s\"%(d['id'], d['hazard_rates'][0], d['hazard_rates'][1])"
   ]
  },
  {
   "cell_type": "markdown",
   "metadata": {},
   "source": [
    "## Final intensities"
   ]
  },
  {
   "cell_type": "code",
   "execution_count": 17,
   "metadata": {
    "collapsed": false
   },
   "outputs": [
    {
     "name": "stdout",
     "output_type": "stream",
     "text": [
      "Length for 1 = 6\n",
      "Length for 2 = 19\n",
      "Length for 3 = 25\n",
      "Length for 4 = 61\n",
      "Length for 5 = 125\n"
     ]
    }
   ],
   "source": [
    "groups_save = []\n",
    "\n",
    "ids_ = frozenset()\n",
    "for group_nb, ids in group_composition.iteritems():\n",
    "    ids_ = ids_.union(ids)\n",
    "    ids__ = [id_-1 for id_ in ids_]\n",
    "    \n",
    "    print \"Length for %i = %i\"%(group_nb, len(ids_))\n",
    "    d = {\"group_id\": group_nb, \"ids\": frozenset(ids__), \"pillars\": [3, 5],\n",
    "         \"hazard_rates\": [groups_intensities[3][group_nb], groups_intensities[5][group_nb]]}\n",
    "    \n",
    "    groups_save.append(d)"
   ]
  },
  {
   "cell_type": "code",
   "execution_count": 18,
   "metadata": {
    "collapsed": true
   },
   "outputs": [],
   "source": [
    "idio_save = idios"
   ]
  },
  {
   "cell_type": "code",
   "execution_count": 19,
   "metadata": {
    "collapsed": false
   },
   "outputs": [],
   "source": [
    "to_save = {\n",
    "    \"idio\": idio_save,\n",
    "    \"groups\": groups_save\n",
    "}"
   ]
  },
  {
   "cell_type": "code",
   "execution_count": 20,
   "metadata": {
    "collapsed": true
   },
   "outputs": [],
   "source": [
    "import dill"
   ]
  },
  {
   "cell_type": "code",
   "execution_count": 21,
   "metadata": {
    "collapsed": false
   },
   "outputs": [],
   "source": [
    "with open('intensities.pkl', 'wb') as f:\n",
    "    dill.dump(to_save, f)"
   ]
  },
  {
   "cell_type": "code",
   "execution_count": 22,
   "metadata": {
    "collapsed": false
   },
   "outputs": [],
   "source": [
    "with open('intensities.pkl', 'rb') as f:\n",
    "    test = dill.load(f)"
   ]
  },
  {
   "cell_type": "code",
   "execution_count": 23,
   "metadata": {
    "collapsed": false
   },
   "outputs": [
    {
     "data": {
      "text/plain": [
       "[{'hazard_rates': [0.0033853684009316522, 0.0048081762873048344],\n",
       "  'id': frozenset({0}),\n",
       "  'pillars': [3, 5]},\n",
       " {'hazard_rates': [0.0, 0.0], 'id': frozenset({1}), 'pillars': [3, 5]},\n",
       " {'hazard_rates': [0.0, 0.0], 'id': frozenset({2}), 'pillars': [3, 5]},\n",
       " {'hazard_rates': [0.0035647268350895425, 0.0049729999603603187],\n",
       "  'id': frozenset({3}),\n",
       "  'pillars': [3, 5]},\n",
       " {'hazard_rates': [0.0085808902954963729, -4.3116780252920595e-08],\n",
       "  'id': frozenset({4}),\n",
       "  'pillars': [3, 5]},\n",
       " {'hazard_rates': [0.0071488558192109308, 0.0021660883207161351],\n",
       "  'id': frozenset({5}),\n",
       "  'pillars': [3, 5]},\n",
       " {'hazard_rates': [0.0, 0.0], 'id': frozenset({6}), 'pillars': [3, 5]},\n",
       " {'hazard_rates': [0.0, 0.0], 'id': frozenset({7}), 'pillars': [3, 5]},\n",
       " {'hazard_rates': [0.0, 0.0], 'id': frozenset({8}), 'pillars': [3, 5]},\n",
       " {'hazard_rates': [0.0053575143772381798, 0.0031357382970320863],\n",
       "  'id': frozenset({9}),\n",
       "  'pillars': [3, 5]},\n",
       " {'hazard_rates': [0.0, 0.0], 'id': frozenset({10}), 'pillars': [3, 5]},\n",
       " {'hazard_rates': [0.0, 0.0], 'id': frozenset({11}), 'pillars': [3, 5]},\n",
       " {'hazard_rates': [0.0, 0.0], 'id': frozenset({12}), 'pillars': [3, 5]},\n",
       " {'hazard_rates': [0.00679070303904733, 0.011875018141229196],\n",
       "  'id': frozenset({13}),\n",
       "  'pillars': [3, 5]},\n",
       " {'hazard_rates': [0.0, 0.0], 'id': frozenset({14}), 'pillars': [3, 5]},\n",
       " {'hazard_rates': [0.0, 0.0], 'id': frozenset({15}), 'pillars': [3, 5]},\n",
       " {'hazard_rates': [0.0, 0.0], 'id': frozenset({16}), 'pillars': [3, 5]},\n",
       " {'hazard_rates': [0.019527402656596408, 0.02429112885794836],\n",
       "  'id': frozenset({17}),\n",
       "  'pillars': [3, 5]},\n",
       " {'hazard_rates': [0.0, 0.0], 'id': frozenset({18}), 'pillars': [3, 5]},\n",
       " {'hazard_rates': [0.0, 0.0], 'id': frozenset({19}), 'pillars': [3, 5]},\n",
       " {'hazard_rates': [0.0, 0.0], 'id': frozenset({20}), 'pillars': [3, 5]},\n",
       " {'hazard_rates': [0.0, 0.0], 'id': frozenset({21}), 'pillars': [3, 5]},\n",
       " {'hazard_rates': [0.0, 0.0], 'id': frozenset({22}), 'pillars': [3, 5]},\n",
       " {'hazard_rates': [0.0, 0.0], 'id': frozenset({23}), 'pillars': [3, 5]},\n",
       " {'hazard_rates': [0.0060742242762303299, 0.0090260568770450592],\n",
       "  'id': frozenset({24}),\n",
       "  'pillars': [3, 5]},\n",
       " {'hazard_rates': [0.0037440707707124057, 0.005573581716635744],\n",
       "  'id': frozenset({25}),\n",
       "  'pillars': [3, 5]},\n",
       " {'hazard_rates': [0.13875824585339652, 0.011547669248559912],\n",
       "  'id': frozenset({26}),\n",
       "  'pillars': [3, 5]},\n",
       " {'hazard_rates': [0.0060742242762303299, 0.0090260568770450592],\n",
       "  'id': frozenset({27}),\n",
       "  'pillars': [3, 5]},\n",
       " {'hazard_rates': [0.0039234002115603279, 0.0044314432372225205],\n",
       "  'id': frozenset({28}),\n",
       "  'pillars': [3, 5]},\n",
       " {'hazard_rates': [0.061405381644669639, 0.019504179067350767],\n",
       "  'id': frozenset({29}),\n",
       "  'pillars': [3, 5]},\n",
       " {'hazard_rates': [0.0053575143772381798, 0.0053121450218122169],\n",
       "  'id': frozenset({30}),\n",
       "  'pillars': [3, 5]},\n",
       " {'hazard_rates': [0.031041630733058885, 0.0093801781278084403],\n",
       "  'id': frozenset({31}),\n",
       "  'pillars': [3, 5]},\n",
       " {'hazard_rates': [0.0, 0.0], 'id': frozenset({32}), 'pillars': [3, 5]},\n",
       " {'hazard_rates': [0.0053575143772381798, 0.0061839693633931785],\n",
       "  'id': frozenset({33}),\n",
       "  'pillars': [3, 5]},\n",
       " {'hazard_rates': [0.0, 0.0], 'id': frozenset({34}), 'pillars': [3, 5]},\n",
       " {'hazard_rates': [0.0, 0.0], 'id': frozenset({35}), 'pillars': [3, 5]},\n",
       " {'hazard_rates': [0.0044613016030363639, 0.0084157692270739499],\n",
       "  'id': frozenset({36}),\n",
       "  'pillars': [3, 5]},\n",
       " {'hazard_rates': [0.0042820156239653821, 0.0069405593377332873],\n",
       "  'id': frozenset({37}),\n",
       "  'pillars': [3, 5]},\n",
       " {'hazard_rates': [0.0037540603886478258, 0.0083679973915118944],\n",
       "  'id': frozenset({38}),\n",
       "  'pillars': [3, 5]},\n",
       " {'hazard_rates': [0.0, 0.0], 'id': frozenset({39}), 'pillars': [3, 5]},\n",
       " {'hazard_rates': [0.0, 0.0], 'id': frozenset({40}), 'pillars': [3, 5]},\n",
       " {'hazard_rates': [0.0, 0.0], 'id': frozenset({41}), 'pillars': [3, 5]},\n",
       " {'hazard_rates': [0.0, 0.0], 'id': frozenset({42}), 'pillars': [3, 5]},\n",
       " {'hazard_rates': [0.0042820156239653821, 0.0069405593377332873],\n",
       "  'id': frozenset({43}),\n",
       "  'pillars': [3, 5]},\n",
       " {'hazard_rates': [0.0, 0.0], 'id': frozenset({44}), 'pillars': [3, 5]},\n",
       " {'hazard_rates': [0.0058950684798568841, 0.01543982200784904],\n",
       "  'id': frozenset({45}),\n",
       "  'pillars': [3, 5]},\n",
       " {'hazard_rates': [0.0, 0.0], 'id': frozenset({46}), 'pillars': [3, 5]},\n",
       " {'hazard_rates': [0.0048198301256903199, 0.0087459454642481796],\n",
       "  'id': frozenset({47}),\n",
       "  'pillars': [3, 5]},\n",
       " {'hazard_rates': [0.0, 0.0], 'id': frozenset({48}), 'pillars': [3, 5]},\n",
       " {'hazard_rates': [0.0, 0.0], 'id': frozenset({49}), 'pillars': [3, 5]},\n",
       " {'hazard_rates': [0.0083242549026868451, 0.0047459025977315307],\n",
       "  'id': frozenset({50}),\n",
       "  'pillars': [3, 5]},\n",
       " {'hazard_rates': [0.0, 0.0], 'id': frozenset({51}), 'pillars': [3, 5]},\n",
       " {'hazard_rates': [0.0069697866427843522, 0.009412313593472079],\n",
       "  'id': frozenset({52}),\n",
       "  'pillars': [3, 5]},\n",
       " {'hazard_rates': [0.0, 0.0], 'id': frozenset({53}), 'pillars': [3, 5]},\n",
       " {'hazard_rates': [0.0, 0.0], 'id': frozenset({54}), 'pillars': [3, 5]},\n",
       " {'hazard_rates': [0.0076084681133756034, 0.0054039311273090251],\n",
       "  'id': frozenset({55}),\n",
       "  'pillars': [3, 5]},\n",
       " {'hazard_rates': [0.0071488558192109308, 0.01396085576842972],\n",
       "  'id': frozenset({56}),\n",
       "  'pillars': [3, 5]},\n",
       " {'hazard_rates': [0.0076859768219810862, 0.004831746905100351],\n",
       "  'id': frozenset({57}),\n",
       "  'pillars': [3, 5]},\n",
       " {'hazard_rates': [0.0, 0.0], 'id': frozenset({58}), 'pillars': [3, 5]},\n",
       " {'hazard_rates': [0.0, 0.0], 'id': frozenset({59}), 'pillars': [3, 5]},\n",
       " {'hazard_rates': [0.0, 0.0], 'id': frozenset({60}), 'pillars': [3, 5]},\n",
       " {'hazard_rates': [0.01001200357249298, 0.011331620203213884],\n",
       "  'id': frozenset({61}),\n",
       "  'pillars': [3, 5]},\n",
       " {'hazard_rates': [0.0, 0.0], 'id': frozenset({62}), 'pillars': [3, 5]},\n",
       " {'hazard_rates': [0.0, 0.0], 'id': frozenset({63}), 'pillars': [3, 5]},\n",
       " {'hazard_rates': [0.0079538306824009659, 0.010453932604604442],\n",
       "  'id': frozenset({64}),\n",
       "  'pillars': [3, 5]},\n",
       " {'hazard_rates': [0.0, 0.0], 'id': frozenset({65}), 'pillars': [3, 5]},\n",
       " {'hazard_rates': [0.0093975035724929816, 0.012346842938817555],\n",
       "  'id': frozenset({66}),\n",
       "  'pillars': [3, 5]},\n",
       " {'hazard_rates': [0.0, 0.0], 'id': frozenset({67}), 'pillars': [3, 5]},\n",
       " {'hazard_rates': [0.0, 0.0], 'id': frozenset({68}), 'pillars': [3, 5]},\n",
       " {'hazard_rates': [0.0, 0.0], 'id': frozenset({69}), 'pillars': [3, 5]},\n",
       " {'hazard_rates': [0.010629974271740958, 0.016938463555921164],\n",
       "  'id': frozenset({70}),\n",
       "  'pillars': [3, 5]},\n",
       " {'hazard_rates': [0.019527402656596408, 0.031960981342872709],\n",
       "  'id': frozenset({71}),\n",
       "  'pillars': [3, 5]},\n",
       " {'hazard_rates': [0.0044613016030363639, 0.0062328608878536107],\n",
       "  'id': frozenset({72}),\n",
       "  'pillars': [3, 5]},\n",
       " {'hazard_rates': [0.0046405731023601259, 0.0046543010853429762],\n",
       "  'id': frozenset({73}),\n",
       "  'pillars': [3, 5]},\n",
       " {'hazard_rates': [0.0, 0.0], 'id': frozenset({74}), 'pillars': [3, 5]},\n",
       " {'hazard_rates': [0.043677557246084936, 0.035973412121195369],\n",
       "  'id': frozenset({75}),\n",
       "  'pillars': [3, 5]},\n",
       " {'hazard_rates': [0.012412290810425384, 0.021278323310419275],\n",
       "  'id': frozenset({76}),\n",
       "  'pillars': [3, 5]},\n",
       " {'hazard_rates': [0.0, 0.0], 'id': frozenset({77}), 'pillars': [3, 5]},\n",
       " {'hazard_rates': [0.014549197799226079, 0.02776644497340048],\n",
       "  'id': frozenset({78}),\n",
       "  'pillars': [3, 5]},\n",
       " {'hazard_rates': [0.0, 0.0], 'id': frozenset({79}), 'pillars': [3, 5]},\n",
       " {'hazard_rates': [0.0051783007593787884, 0.0077649674514900244],\n",
       "  'id': frozenset({80}),\n",
       "  'pillars': [3, 5]},\n",
       " {'hazard_rates': [0.0081323400953159323, 0.01017554101051063],\n",
       "  'id': frozenset({81}),\n",
       "  'pillars': [3, 5]},\n",
       " {'hazard_rates': [0.0051783007593787884, 0.0086388361875064969],\n",
       "  'id': frozenset({82}),\n",
       "  'pillars': [3, 5]},\n",
       " {'hazard_rates': [0.036688674438598044, 0.0025213039003062175],\n",
       "  'id': frozenset({83}),\n",
       "  'pillars': [3, 5]},\n",
       " {'hazard_rates': [0.0, 0.0], 'id': frozenset({84}), 'pillars': [3, 5]},\n",
       " {'hazard_rates': [0.0, 0.0], 'id': frozenset({85}), 'pillars': [3, 5]},\n",
       " {'hazard_rates': [0.0049990726767793845, 0.0019384552989912046],\n",
       "  'id': frozenset({86}),\n",
       "  'pillars': [3, 5]},\n",
       " {'hazard_rates': [0.0041027151613921287, 0.0080855148036346192],\n",
       "  'id': frozenset({87}),\n",
       "  'pillars': [3, 5]},\n",
       " {'hazard_rates': [0.0, 0.0], 'id': frozenset({88}), 'pillars': [3, 5]},\n",
       " {'hazard_rates': [0.00679070303904733, 0.010122718617934231],\n",
       "  'id': frozenset({89}),\n",
       "  'pillars': [3, 5]},\n",
       " {'hazard_rates': [0.0053575143772381798, 0.010553977708254586],\n",
       "  'id': frozenset({90}),\n",
       "  'pillars': [3, 5]},\n",
       " {'hazard_rates': [0.0, 0.0], 'id': frozenset({91}), 'pillars': [3, 5]},\n",
       " {'hazard_rates': [0.0, 0.0], 'id': frozenset({92}), 'pillars': [3, 5]},\n",
       " {'hazard_rates': [0.0, 0.0], 'id': frozenset({93}), 'pillars': [3, 5]},\n",
       " {'hazard_rates': [0.0, 0.0], 'id': frozenset({94}), 'pillars': [3, 5]},\n",
       " {'hazard_rates': [0.0, 0.0], 'id': frozenset({95}), 'pillars': [3, 5]},\n",
       " {'hazard_rates': [0.0, 0.0], 'id': frozenset({96}), 'pillars': [3, 5]},\n",
       " {'hazard_rates': [0.0, 0.0], 'id': frozenset({97}), 'pillars': [3, 5]},\n",
       " {'hazard_rates': [0.0056708494078220595, 0.0087106012160537219],\n",
       "  'id': frozenset({98}),\n",
       "  'pillars': [3, 5]},\n",
       " {'hazard_rates': [0.060581590986657677, 0.00024219699623512225],\n",
       "  'id': frozenset({99}),\n",
       "  'pillars': [3, 5]},\n",
       " {'hazard_rates': [0.0092965619647387091, 0.0049975008541213181],\n",
       "  'id': frozenset({100}),\n",
       "  'pillars': [3, 5]},\n",
       " {'hazard_rates': [0.0, 0.0], 'id': frozenset({101}), 'pillars': [3, 5]},\n",
       " {'hazard_rates': [0.0, 0.0], 'id': frozenset({102}), 'pillars': [3, 5]},\n",
       " {'hazard_rates': [0.016717571410357544, 0.0049775320842547974],\n",
       "  'id': frozenset({103}),\n",
       "  'pillars': [3, 5]},\n",
       " {'hazard_rates': [0.0074120011510654116, 0.0012830417229650892],\n",
       "  'id': frozenset({104}),\n",
       "  'pillars': [3, 5]},\n",
       " {'hazard_rates': [0.0, 0.0], 'id': frozenset({105}), 'pillars': [3, 5]},\n",
       " {'hazard_rates': [0.0, 0.0], 'id': frozenset({106}), 'pillars': [3, 5]},\n",
       " {'hazard_rates': [0.015291149495220129, 0.0071891502257585178],\n",
       "  'id': frozenset({107}),\n",
       "  'pillars': [3, 5]},\n",
       " {'hazard_rates': [0.0, 0.0], 'id': frozenset({108}), 'pillars': [3, 5]},\n",
       " {'hazard_rates': [0.0, 0.0], 'id': frozenset({109}), 'pillars': [3, 5]},\n",
       " {'hazard_rates': [0.0, 0.0], 'id': frozenset({110}), 'pillars': [3, 5]},\n",
       " {'hazard_rates': [0.037922091051115103, 0.0093585252666851977],\n",
       "  'id': frozenset({111}),\n",
       "  'pillars': [3, 5]},\n",
       " {'hazard_rates': [0.0064324925346915147, 0.0089183153963120869],\n",
       "  'id': frozenset({112}),\n",
       "  'pillars': [3, 5]},\n",
       " {'hazard_rates': [0.0037440707707124057, 0.0033964932385639997],\n",
       "  'id': frozenset({113}),\n",
       "  'pillars': [3, 5]},\n",
       " {'hazard_rates': [0.0062533656265944572, 0.0091908473710852166],\n",
       "  'id': frozenset({114}),\n",
       "  'pillars': [3, 5]},\n",
       " {'hazard_rates': [0.0, 0.0], 'id': frozenset({115}), 'pillars': [3, 5]},\n",
       " {'hazard_rates': [0.0071488558192109308, 0.0078285007345857728],\n",
       "  'id': frozenset({116}),\n",
       "  'pillars': [3, 5]},\n",
       " {'hazard_rates': [0.0, 0.0], 'id': frozenset({117}), 'pillars': [3, 5]},\n",
       " {'hazard_rates': [0.0064324925346915147, 0.0032498870841485396],\n",
       "  'id': frozenset({118}),\n",
       "  'pillars': [3, 5]},\n",
       " {'hazard_rates': [0.0057158982337304591, 0.010008631432088397],\n",
       "  'id': frozenset({119}),\n",
       "  'pillars': [3, 5]},\n",
       " {'hazard_rates': [0.062974019932869274, 0.017307362761800262],\n",
       "  'id': frozenset({120}),\n",
       "  'pillars': [3, 5]},\n",
       " {'hazard_rates': [0.0, 0.0], 'id': frozenset({121}), 'pillars': [3, 5]},\n",
       " {'hazard_rates': [0.0076084681133756034, 0.0054039311273090251],\n",
       "  'id': frozenset({122}),\n",
       "  'pillars': [3, 5]},\n",
       " {'hazard_rates': [0.0, 0.0], 'id': frozenset({123}), 'pillars': [3, 5]},\n",
       " {'hazard_rates': [0.011164818453918908, 0.0023630189296663245],\n",
       "  'id': frozenset({124}),\n",
       "  'pillars': [3, 5]}]"
      ]
     },
     "execution_count": 23,
     "metadata": {},
     "output_type": "execute_result"
    }
   ],
   "source": [
    "test['idio']"
   ]
  }
 ],
 "metadata": {
  "kernelspec": {
   "display_name": "Python 2",
   "language": "python",
   "name": "python2"
  },
  "language_info": {
   "codemirror_mode": {
    "name": "ipython",
    "version": 2
   },
   "file_extension": ".py",
   "mimetype": "text/x-python",
   "name": "python",
   "nbconvert_exporter": "python",
   "pygments_lexer": "ipython2",
   "version": "2.7.9"
  }
 },
 "nbformat": 4,
 "nbformat_minor": 0
}
