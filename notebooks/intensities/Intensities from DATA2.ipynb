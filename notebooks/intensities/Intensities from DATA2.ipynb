{
 "cells": [
  {
   "cell_type": "markdown",
   "metadata": {},
   "source": [
    "# Model"
   ]
  },
  {
   "cell_type": "markdown",
   "metadata": {},
   "source": [
    "We suppose that the default model of the each member is given by:\n",
    "\n",
    "\\begin{equation*}\n",
    "\\mathbb{P}(\\tau_i \\leq t) = 1 - \\exp \\left( - \\sum_{i=0}^{k} \\lambda_i (T_{i+1}-T_{i}) - \\lambda_k (t-T_k) \\right)\n",
    "\\end{equation*}\n",
    "\n",
    "for $t \\in [T_k, T_{k+1}[$, with the convention that $T_0 = 0$."
   ]
  },
  {
   "cell_type": "markdown",
   "metadata": {},
   "source": [
    "# Load matlab file"
   ]
  },
  {
   "cell_type": "code",
   "execution_count": 1,
   "metadata": {
    "collapsed": false
   },
   "outputs": [
    {
     "name": "stdout",
     "output_type": "stream",
     "text": [
      "['Calibrated_Common_Choc', '__version__', '__header__', '__globals__']\n",
      "\n",
      "MATLAB 5.0 MAT-file, Platform: MACI64, Created on: Tue Apr  7 14:26:40 2015\n",
      "1.0\n",
      "[]\n"
     ]
    }
   ],
   "source": [
    "import scipy.io\n",
    "\n",
    "mat = scipy.io.loadmat('Calibrated_Common_Shock_with_lambda_ind.mat')\n",
    "print mat.keys()\n",
    "\n",
    "print\n",
    "print mat['__header__']\n",
    "print mat['__version__']\n",
    "print mat['__globals__']"
   ]
  },
  {
   "cell_type": "code",
   "execution_count": 2,
   "metadata": {
    "collapsed": false
   },
   "outputs": [],
   "source": [
    "%matplotlib inline\n",
    "import matplotlib.pyplot as plt"
   ]
  },
  {
   "cell_type": "code",
   "execution_count": 3,
   "metadata": {
    "collapsed": false
   },
   "outputs": [
    {
     "data": {
      "text/plain": [
       "dtype([('Names', 'O'), ('Sectors', 'O'), ('Currencies', 'O'), ('CDS_Pillars', 'O'), ('Today', 'O'), ('coupDate', 'O'), ('CDS_Spreads', 'O'), ('CDO_attach', 'O'), ('CDO_detach', 'O'), ('CDO_Spreads', 'O'), ('CDO_Maturity', 'O'), ('Eta', 'O'), ('CDS_Pillars_in_years', 'O'), ('Common_Choc_Pillars', 'O'), ('NbNames', 'O'), ('Recovery', 'O'), ('IR', 'O'), ('Rank_group', 'O'), ('Group_size', 'O'), ('Lambda_group_optimal', 'O'), ('Lambda_ind', 'O'), ('Group_Composition', 'O')])"
      ]
     },
     "execution_count": 3,
     "metadata": {},
     "output_type": "execute_result"
    }
   ],
   "source": [
    "import numpy as np\n",
    "\n",
    "calib_comm_shocks = mat['Calibrated_Common_Choc'][0, 0]\n",
    "calib_comm_shocks.dtype"
   ]
  },
  {
   "cell_type": "markdown",
   "metadata": {},
   "source": [
    "# Using Dataframe to get data"
   ]
  },
  {
   "cell_type": "code",
   "execution_count": 4,
   "metadata": {
    "collapsed": true
   },
   "outputs": [],
   "source": [
    "pillars = [3, 5]"
   ]
  },
  {
   "cell_type": "markdown",
   "metadata": {},
   "source": [
    "## Group structure and intensities"
   ]
  },
  {
   "cell_type": "markdown",
   "metadata": {},
   "source": [
    "### Group structure"
   ]
  },
  {
   "cell_type": "code",
   "execution_count": 5,
   "metadata": {
    "collapsed": false
   },
   "outputs": [
    {
     "name": "stdout",
     "output_type": "stream",
     "text": [
      "{'I_disjnt_3': (dtype('O'), 16), 'I_disjnt_2': (dtype('O'), 8), 'I_disjnt_1': (dtype('O'), 0), 'I_disjnt_5': (dtype('O'), 32), 'I_disjnt_4': (dtype('O'), 24)}\n"
     ]
    }
   ],
   "source": [
    "raw_groups = calib_comm_shocks[\"Group_Composition\"]\n",
    "print raw_groups.dtype.fields"
   ]
  },
  {
   "cell_type": "code",
   "execution_count": 6,
   "metadata": {
    "collapsed": false
   },
   "outputs": [],
   "source": [
    "import re\n",
    "\n",
    "group_composition = {int(re.findall(r'\\d+', x)[0]): frozenset(raw_groups[x][0][0][0][0][0].flatten()) \n",
    "                     for x in raw_groups.dtype.fields}"
   ]
  },
  {
   "cell_type": "code",
   "execution_count": 7,
   "metadata": {
    "collapsed": false
   },
   "outputs": [
    {
     "name": "stdout",
     "output_type": "stream",
     "text": [
      "1 frozenset([99, 100, 39, 105, 76, 27]) 6\n",
      "2 frozenset([32, 65, 82, 71, 72, 77, 79, 112, 18, 84, 121, 125, 30]) 13\n",
      "3 frozenset([67, 104, 108, 51, 56, 123]) 6\n",
      "4 frozenset([1, 4, 5, 6, 10, 14, 25, 26, 28, 29, 31, 34, 37, 38, 44, 46, 48, 53, 57, 58, 62, 73, 74, 81, 83, 87, 88, 90, 91, 101, 113, 114, 115, 117, 119, 120]) 36\n",
      "5 frozenset([2, 3, 7, 8, 9, 11, 12, 13, 15, 16, 17, 19, 20, 21, 22, 23, 24, 33, 35, 36, 40, 41, 42, 43, 45, 47, 49, 50, 52, 54, 55, 59, 60, 61, 63, 64, 66, 68, 69, 70, 75, 78, 80, 85, 86, 89, 92, 93, 94, 95, 96, 97, 98, 102, 103, 106, 107, 109, 110, 111, 116, 118, 122, 124]) 64\n"
     ]
    }
   ],
   "source": [
    "for g in group_composition:\n",
    "    print g, group_composition[g], len(group_composition[g])"
   ]
  },
  {
   "cell_type": "code",
   "execution_count": 8,
   "metadata": {
    "collapsed": false
   },
   "outputs": [],
   "source": [
    "groups_intensities = {}\n",
    "\n",
    "raw_group_intensities = calib_comm_shocks['Lambda_group_optimal']\n",
    "for ind, pill in enumerate(pillars):\n",
    "    raw_lambdas_pills = calib_comm_shocks['Lambda_group_optimal'][:, ind]\n",
    "    \n",
    "    cum_sum = raw_lambdas_pills.cumsum()\n",
    "    groups_intensities[pill] = {i+1: c for i, c in enumerate(cum_sum)}"
   ]
  },
  {
   "cell_type": "code",
   "execution_count": 9,
   "metadata": {
    "collapsed": false
   },
   "outputs": [
    {
     "name": "stdout",
     "output_type": "stream",
     "text": [
      "{1: 0.058000000000000003, 2: 0.0633745, 3: 0.063989000000000004, 4: 0.064190650000000002, 5: 0.065811350000000005}\n",
      "{1: 0.015925000000000002, 2: 0.021013900000000002, 3: 0.029683100000000004, 4: 0.029776472000000005, 5: 0.037441172000000009}\n"
     ]
    }
   ],
   "source": [
    "print groups_intensities[3]\n",
    "print groups_intensities[5]"
   ]
  },
  {
   "cell_type": "markdown",
   "metadata": {},
   "source": [
    "## Idiosyncratic intensities"
   ]
  },
  {
   "cell_type": "code",
   "execution_count": 10,
   "metadata": {
    "collapsed": false
   },
   "outputs": [],
   "source": [
    "raw_idio = calib_comm_shocks['Lambda_ind']\n",
    "\n",
    "I_5 = group_composition[5]\n",
    "\n",
    "idios = []\n",
    "nb_obligors = raw_idio.shape[0]\n",
    "\n",
    "for i, idio in enumerate(raw_idio):\n",
    "    id_ = i+1\n",
    "    lambda_3y = idio[0] if id_ not in I_5 else 0.\n",
    "    lambda_5y = idio[1] if id_ not in I_5 else 0.\n",
    "    \n",
    "    idios.append({\"id\": id_, \"lambda_3y\": lambda_3y, \"lambda_5y\": lambda_5y})"
   ]
  },
  {
   "cell_type": "code",
   "execution_count": 11,
   "metadata": {
    "collapsed": false
   },
   "outputs": [
    {
     "name": "stdout",
     "output_type": "stream",
     "text": [
      "Carefull of these obligors:\n",
      "--------------------------\n",
      "ID = 5 | l_3y = 0.0085808902955 | l_5y = -4.31167802529e-08\n"
     ]
    }
   ],
   "source": [
    "print \"Carefull of these obligors:\\n--------------------------\"\n",
    "for d in idios:\n",
    "    if d['lambda_3y'] < 0 or d['lambda_5y'] < 0:\n",
    "        print \"ID = %s | l_3y = %s | l_5y = %s\"%(d['id'], d['lambda_3y'], d['lambda_5y'])"
   ]
  },
  {
   "cell_type": "markdown",
   "metadata": {},
   "source": [
    "## Final intensities"
   ]
  },
  {
   "cell_type": "code",
   "execution_count": 12,
   "metadata": {
    "collapsed": false
   },
   "outputs": [
    {
     "name": "stdout",
     "output_type": "stream",
     "text": [
      "Length for 1 = 6\n",
      "Length for 2 = 19\n",
      "Length for 3 = 25\n",
      "Length for 4 = 61\n",
      "Length for 5 = 125\n"
     ]
    }
   ],
   "source": [
    "groups_save = []\n",
    "\n",
    "ids_ = frozenset()\n",
    "for group_nb, ids in group_composition.iteritems():\n",
    "    ids_ = ids_.union(ids, )\n",
    "    print \"Length for %i = %i\"%(group_nb, len(ids_))\n",
    "    d = {\"group_id\": group_nb, \"compositions\": ids_, \n",
    "         \"lambda_3y\": groups_intensities[3][group_nb],\n",
    "         \"lambda_5y\": groups_intensities[5][group_nb]}\n",
    "    \n",
    "    groups_save.append(d)"
   ]
  },
  {
   "cell_type": "code",
   "execution_count": 13,
   "metadata": {
    "collapsed": true
   },
   "outputs": [],
   "source": [
    "idio_save = idios"
   ]
  },
  {
   "cell_type": "code",
   "execution_count": 14,
   "metadata": {
    "collapsed": false
   },
   "outputs": [],
   "source": [
    "to_save = {\n",
    "    \"idio\": idio_save,\n",
    "    \"group\": groups_save\n",
    "}"
   ]
  },
  {
   "cell_type": "code",
   "execution_count": 15,
   "metadata": {
    "collapsed": true
   },
   "outputs": [],
   "source": [
    "import dill"
   ]
  },
  {
   "cell_type": "code",
   "execution_count": 16,
   "metadata": {
    "collapsed": false
   },
   "outputs": [],
   "source": [
    "with open('intensities.pkl', 'wb') as f:\n",
    "    dill.dump(to_save, f)"
   ]
  },
  {
   "cell_type": "code",
   "execution_count": 17,
   "metadata": {
    "collapsed": false
   },
   "outputs": [],
   "source": [
    "with open('intensities.pkl', 'rb') as f:\n",
    "    test = dill.load(f)"
   ]
  },
  {
   "cell_type": "code",
   "execution_count": null,
   "metadata": {
    "collapsed": true
   },
   "outputs": [],
   "source": []
  }
 ],
 "metadata": {
  "kernelspec": {
   "display_name": "Python 2",
   "language": "python",
   "name": "python2"
  },
  "language_info": {
   "codemirror_mode": {
    "name": "ipython",
    "version": 2
   },
   "file_extension": ".py",
   "mimetype": "text/x-python",
   "name": "python",
   "nbconvert_exporter": "python",
   "pygments_lexer": "ipython2",
   "version": "2.7.9"
  }
 },
 "nbformat": 4,
 "nbformat_minor": 0
}
