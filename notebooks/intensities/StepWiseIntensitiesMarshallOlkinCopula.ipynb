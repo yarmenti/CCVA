{
 "cells": [
  {
   "cell_type": "code",
   "execution_count": 1,
   "metadata": {
    "collapsed": true
   },
   "outputs": [],
   "source": [
    "import sys\n",
    "\n",
    "sys.path.append(\"../..\")"
   ]
  },
  {
   "cell_type": "markdown",
   "metadata": {},
   "source": [
    "#Creation of the subsets and hazard rates"
   ]
  },
  {
   "cell_type": "code",
   "execution_count": 2,
   "metadata": {
    "collapsed": false
   },
   "outputs": [
    {
     "name": "stdout",
     "output_type": "stream",
     "text": [
      "[frozenset([0]), frozenset([1]), frozenset([2]), frozenset([0, 1]), frozenset([0, 1, 2])]\n"
     ]
    }
   ],
   "source": [
    "indiv_subsets = [frozenset([i]) for i in range(3)]\n",
    "groups_subsets = [frozenset([0, 1]), frozenset([0, 1, 2])]\n",
    "\n",
    "subsets = indiv_subsets+groups_subsets\n",
    "print subsets"
   ]
  },
  {
   "cell_type": "code",
   "execution_count": 3,
   "metadata": {
    "collapsed": false
   },
   "outputs": [
    {
     "name": "stdout",
     "output_type": "stream",
     "text": [
      "[0.02, 0.0199, 0.0198, 0.0006666666666666666, 0.0005]\n"
     ]
    }
   ],
   "source": [
    "indiv_lambdas = [0.0001*(200-i) for i in range(3)]\n",
    "groups_lambdas = [2*0.001/(1+i) for i in range(2, 4)]\n",
    "\n",
    "lambdas = indiv_lambdas+groups_lambdas\n",
    "print lambdas"
   ]
  },
  {
   "cell_type": "code",
   "execution_count": 4,
   "metadata": {
    "collapsed": false
   },
   "outputs": [],
   "source": [
    "from maths.copula.marshallolkin import StepWiseIntensitiesMarshallOlkinCopula\n",
    "\n",
    "copula = StepWiseIntensitiesMarshallOlkinCopula(subsets, [lambdas], [1])\n",
    "\n",
    "#print copula.intensities\n",
    "#print\n",
    "#print copula.subsets\n",
    "#print\n",
    "#print copula.pillars"
   ]
  },
  {
   "cell_type": "code",
   "execution_count": 5,
   "metadata": {
    "collapsed": false
   },
   "outputs": [
    {
     "name": "stdout",
     "output_type": "stream",
     "text": [
      "[0, 3, 4]\n",
      "[1, 3, 4]\n",
      "[2, 4]\n"
     ]
    }
   ],
   "source": [
    "print copula.get_indexes_including(0)\n",
    "print copula.get_indexes_including(1)\n",
    "print copula.get_indexes_including(2)"
   ]
  },
  {
   "cell_type": "code",
   "execution_count": 13,
   "metadata": {
    "collapsed": false
   },
   "outputs": [
    {
     "name": "stdout",
     "output_type": "stream",
     "text": [
      "[ <credit.default_models.StepwiseConstantIntensity object at 0x00000000045B87B8>\n",
      " <credit.default_models.StepwiseConstantIntensity object at 0x00000000045B87F0>\n",
      " <credit.default_models.StepwiseConstantIntensity object at 0x00000000045B8828>\n",
      " <credit.default_models.StepwiseConstantIntensity object at 0x00000000045B8860>\n",
      " <credit.default_models.StepwiseConstantIntensity object at 0x00000000045B8898>]\n"
     ]
    }
   ],
   "source": [
    "copula.models[0] = None\n",
    "print copula.models"
   ]
  },
  {
   "cell_type": "markdown",
   "metadata": {},
   "source": [
    "To generate the default times, we do the following:\n",
    "\n",
    "\\begin{equation*}\n",
    "\\eta_Y = \\inf\\{ t \\geq 0, \\int_0^t \\gamma_s^Y ds > \\xi_Y \\}\n",
    "\\end{equation*}\n",
    "\n",
    "The code uses the `brentq` routine from [scipy](http://docs.scipy.org/doc/scipy-0.14.0/reference/generated/scipy.optimize.brentq.html#scipy.optimize.brentq) to find the default time given the exponential random variable."
   ]
  },
  {
   "cell_type": "code",
   "execution_count": 7,
   "metadata": {
    "collapsed": false
   },
   "outputs": [],
   "source": [
    "from scipy.stats import expon\n",
    "\n",
    "exps = expon.rvs(size=[1, 3])\n",
    "taus = copula.generate_default_times(0, exp_rvs=exps)"
   ]
  },
  {
   "cell_type": "code",
   "execution_count": 8,
   "metadata": {
    "collapsed": false
   },
   "outputs": [
    {
     "name": "stdout",
     "output_type": "stream",
     "text": [
      "1.08265826222 1.08265826222\n",
      "0.520988339215 0.520988339215\n",
      "1.35047189419 1.35047189419\n"
     ]
    }
   ],
   "source": [
    "print -copula.models[0].log_survival_proba(taus[0, 0]), exps[0, 0]\n",
    "print -copula.models[3].log_survival_proba(taus[0, 1]), exps[0, 1]\n",
    "print -copula.models[4].log_survival_proba(taus[0, 2]), exps[0, 2]"
   ]
  },
  {
   "cell_type": "code",
   "execution_count": 9,
   "metadata": {
    "collapsed": false
   },
   "outputs": [
    {
     "name": "stdout",
     "output_type": "stream",
     "text": [
      "[[  2.46331018e-01   7.57451309e+03   2.58521038e+02]\n",
      " [  1.46994441e+01   2.50040072e+03   3.95151117e+03]\n",
      " [  1.16934383e+02   1.38208201e+03   3.45974533e+03]\n",
      " [  1.19707051e+02   2.01233706e+02   2.54691377e+02]\n",
      " [  5.19767013e+01   2.04605387e+02   8.08256862e+00]\n",
      " [  1.30552381e+02   1.55909856e+02   7.53646078e+03]\n",
      " [  1.06594855e+02   1.45432321e+03   4.48316332e+02]\n",
      " [  1.19201988e+01   9.75555330e+02   2.11209032e+03]\n",
      " [  1.85121214e+00   1.21975062e+03   5.79444509e+02]\n",
      " [  3.94286255e+01   4.65606133e+01   1.71957584e+03]]\n"
     ]
    }
   ],
   "source": [
    "print copula.generate_default_times(1, 10)"
   ]
  },
  {
   "cell_type": "code",
   "execution_count": 10,
   "metadata": {
    "collapsed": false
   },
   "outputs": [
    {
     "name": "stdout",
     "output_type": "stream",
     "text": [
      "[[  4.32776800e+00   9.54190932e+02]\n",
      " [  2.45064639e+01   7.88949914e+02]\n",
      " [  1.39486227e+01   3.27540458e+03]\n",
      " [  2.28696921e+02   3.99785864e+03]\n",
      " [  5.32264922e+00   6.29548283e+02]\n",
      " [  7.15920194e+01   1.13273862e+03]\n",
      " [  5.01665420e+00   3.02540595e+03]\n",
      " [  3.54888753e+01   3.54491331e+02]\n",
      " [  7.08715619e-01   2.37834246e+03]\n",
      " [  7.70016845e+01   3.23012844e+03]]\n"
     ]
    }
   ],
   "source": [
    "print copula.generate_default_times(2, 10)"
   ]
  },
  {
   "cell_type": "code",
   "execution_count": null,
   "metadata": {
    "collapsed": true
   },
   "outputs": [],
   "source": []
  }
 ],
 "metadata": {
  "kernelspec": {
   "display_name": "Python 2",
   "language": "python",
   "name": "python2"
  },
  "language_info": {
   "codemirror_mode": {
    "name": "ipython",
    "version": 2
   },
   "file_extension": ".py",
   "mimetype": "text/x-python",
   "name": "python",
   "nbconvert_exporter": "python",
   "pygments_lexer": "ipython2",
   "version": "2.7.9"
  }
 },
 "nbformat": 4,
 "nbformat_minor": 0
}
