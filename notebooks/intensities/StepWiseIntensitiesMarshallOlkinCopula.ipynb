{
 "cells": [
  {
   "cell_type": "code",
   "execution_count": 1,
   "metadata": {
    "collapsed": true
   },
   "outputs": [],
   "source": [
    "import sys\n",
    "\n",
    "sys.path.append(\"../..\")"
   ]
  },
  {
   "cell_type": "markdown",
   "metadata": {},
   "source": [
    "#Creation of the subsets and hazard rates"
   ]
  },
  {
   "cell_type": "code",
   "execution_count": 2,
   "metadata": {
    "collapsed": false
   },
   "outputs": [
    {
     "name": "stdout",
     "output_type": "stream",
     "text": [
      "[frozenset([0]), frozenset([1]), frozenset([2]), frozenset([0, 1]), frozenset([0, 1, 2])]\n"
     ]
    }
   ],
   "source": [
    "indiv_subsets = [frozenset([i]) for i in range(3)]\n",
    "groups_subsets = [frozenset([0, 1]), frozenset([0, 1, 2])]\n",
    "\n",
    "subsets = indiv_subsets+groups_subsets\n",
    "print subsets"
   ]
  },
  {
   "cell_type": "code",
   "execution_count": 3,
   "metadata": {
    "collapsed": false
   },
   "outputs": [
    {
     "name": "stdout",
     "output_type": "stream",
     "text": [
      "[[0.02, 0.0199, 0.0198, 0.0198, 0.0197], [0.01, 0.0198, 0.0197, 0.0196, 0.0195]]\n"
     ]
    }
   ],
   "source": [
    "lambdas = [[0.02, 0.0199, 0.0198, 0.0198, 0.0197], \n",
    "           [0.01, 0.0198, 0.0197, 0.0196, 0.0195]]\n",
    "\n",
    "print lambdas"
   ]
  },
  {
   "cell_type": "code",
   "execution_count": 4,
   "metadata": {
    "collapsed": false,
    "scrolled": true
   },
   "outputs": [
    {
     "name": "stdout",
     "output_type": "stream",
     "text": [
      "intensities = \n",
      "[[ 0.02    0.01  ]\n",
      " [ 0.0199  0.0198]\n",
      " [ 0.0198  0.0197]\n",
      " [ 0.0198  0.0196]\n",
      " [ 0.0197  0.0195]]\n",
      "\n",
      "subsets = \n",
      "[[frozenset([0])]\n",
      " [frozenset([1])]\n",
      " [frozenset([2])]\n",
      " [frozenset([0, 1])]\n",
      " [frozenset([0, 1, 2])]]\n",
      "\n",
      "pillars = \n",
      "[[1 2]\n",
      " [3 4]\n",
      " [5 6]\n",
      " [5 6]\n",
      " [7 8]]\n"
     ]
    }
   ],
   "source": [
    "from maths.copula.marshallolkin import StepWiseIntensitiesMarshallOlkinCopula\n",
    "\n",
    "pills = [[1, 2],\n",
    "         [3, 4],\n",
    "         [5, 6],\n",
    "         [5, 6],\n",
    "         [7, 8]]\n",
    "\n",
    "copula = StepWiseIntensitiesMarshallOlkinCopula(subsets, lambdas, pills)\n",
    "\n",
    "print \"intensities = \\n\",copula.intensities\n",
    "print\n",
    "print \"subsets = \\n\",copula.subsets\n",
    "print\n",
    "print \"pillars = \\n\", copula.pillars"
   ]
  },
  {
   "cell_type": "code",
   "execution_count": 5,
   "metadata": {
    "collapsed": false
   },
   "outputs": [
    {
     "name": "stdout",
     "output_type": "stream",
     "text": [
      "frozenset([0])\n",
      "frozenset([1])\n",
      "frozenset([2])\n",
      "frozenset([0, 1])\n",
      "frozenset([0, 1, 2])\n"
     ]
    }
   ],
   "source": [
    "for x in copula.subsets:\n",
    "    print x[0]"
   ]
  },
  {
   "cell_type": "code",
   "execution_count": 6,
   "metadata": {
    "collapsed": false
   },
   "outputs": [
    {
     "name": "stdout",
     "output_type": "stream",
     "text": [
      "[0, 3, 4]\n",
      "[1, 3, 4]\n",
      "[2, 4]\n"
     ]
    }
   ],
   "source": [
    "print copula.get_indexes_including(0)\n",
    "print copula.get_indexes_including(1)\n",
    "print copula.get_indexes_including(2)"
   ]
  },
  {
   "cell_type": "code",
   "execution_count": 7,
   "metadata": {
    "collapsed": false
   },
   "outputs": [
    {
     "name": "stdout",
     "output_type": "stream",
     "text": [
      "[ <credit.default_models.StepwiseConstantIntensity object at 0x0000000012574550>\n",
      " <credit.default_models.StepwiseConstantIntensity object at 0x0000000012574588>\n",
      " <credit.default_models.StepwiseConstantIntensity object at 0x00000000125745C0>\n",
      " <credit.default_models.StepwiseConstantIntensity object at 0x00000000125745F8>\n",
      " <credit.default_models.StepwiseConstantIntensity object at 0x0000000012574630>]\n",
      "\n",
      "[0 1 2]\n",
      "[ 0.02  0.01]\n",
      "\n",
      "[0 3 4]\n",
      "[ 0.0199  0.0198]\n",
      "\n",
      "[0 5 6]\n",
      "[ 0.0198  0.0197]\n",
      "\n",
      "[0 5 6]\n",
      "[ 0.0198  0.0196]\n",
      "\n",
      "[0 7 8]\n",
      "[ 0.0197  0.0195]\n"
     ]
    }
   ],
   "source": [
    "copula.models[0] = None\n",
    "print copula.models\n",
    "print\n",
    "\n",
    "print copula.models[0].pillars\n",
    "print copula.models[0].intensities\n",
    "print\n",
    "print copula.models[1].pillars\n",
    "print copula.models[1].intensities\n",
    "print\n",
    "print copula.models[2].pillars\n",
    "print copula.models[2].intensities\n",
    "print\n",
    "print copula.models[3].pillars\n",
    "print copula.models[3].intensities\n",
    "print\n",
    "print copula.models[4].pillars\n",
    "print copula.models[4].intensities"
   ]
  },
  {
   "cell_type": "markdown",
   "metadata": {},
   "source": [
    "To generate the default times, we do the following:\n",
    "\n",
    "\\begin{equation*}\n",
    "\\eta_Y = \\inf\\{ t \\geq 0, \\int_0^t \\gamma_s^Y ds > \\xi_Y \\}\n",
    "\\end{equation*}\n",
    "\n",
    "The code uses the `brentq` routine from [scipy](http://docs.scipy.org/doc/scipy-0.14.0/reference/generated/scipy.optimize.brentq.html#scipy.optimize.brentq) to find the default time given the exponential random variable."
   ]
  },
  {
   "cell_type": "code",
   "execution_count": 8,
   "metadata": {
    "collapsed": false
   },
   "outputs": [],
   "source": [
    "from scipy.stats import expon\n",
    "import numpy as np\n",
    "\n",
    "#exps = expon.rvs(size=[1, 3])\n",
    "exps = np.array([[1.0, 2.0, 10000000]])\n",
    "taus = copula.generate_default_times(obligor_index=0, exp_rvs=exps)"
   ]
  },
  {
   "cell_type": "code",
   "execution_count": 9,
   "metadata": {
    "collapsed": false
   },
   "outputs": [
    {
     "name": "stdout",
     "output_type": "stream",
     "text": [
      "99.0 1.0 1.0\n",
      "101.989795918 2.0 2.0\n",
      "1000.0 19.5014 10000000.0\n"
     ]
    }
   ],
   "source": [
    "print taus[0, 0], -copula.models[0].log_survival_proba(taus[0, 0]), exps[0, 0]\n",
    "print taus[0, 1], -copula.models[3].log_survival_proba(taus[0, 1]), exps[0, 1]\n",
    "print taus[0, 2], -copula.models[4].log_survival_proba(taus[0, 2]), exps[0, 2]"
   ]
  },
  {
   "cell_type": "code",
   "execution_count": 10,
   "metadata": {
    "collapsed": false
   },
   "outputs": [
    {
     "name": "stdout",
     "output_type": "stream",
     "text": [
      "[[ 63.20013354   1.48720009   5.8533897 ]]\n"
     ]
    }
   ],
   "source": [
    "print copula.generate_default_times(1, 10)"
   ]
  },
  {
   "cell_type": "code",
   "execution_count": 11,
   "metadata": {
    "collapsed": false
   },
   "outputs": [
    {
     "name": "stdout",
     "output_type": "stream",
     "text": [
      "[[ 55.34102106  39.26442294]]\n"
     ]
    }
   ],
   "source": [
    "print copula.generate_default_times(2, 10)"
   ]
  },
  {
   "cell_type": "code",
   "execution_count": 12,
   "metadata": {
    "collapsed": false
   },
   "outputs": [
    {
     "name": "stdout",
     "output_type": "stream",
     "text": [
      "The obligor_index must be lower than 2, given: 3\n",
      "The obligor_index must be lower than 2, given: 4\n",
      "The obligor_index must be lower than 2, given: 5\n",
      "The obligor_index must be lower than 2, given: 6\n"
     ]
    }
   ],
   "source": [
    "for i in range(7):\n",
    "    try:\n",
    "        copula.generate_default_times(i, 20)\n",
    "    except Exception, e:\n",
    "        print e"
   ]
  },
  {
   "cell_type": "code",
   "execution_count": 13,
   "metadata": {
    "collapsed": false
   },
   "outputs": [
    {
     "data": {
      "text/plain": [
       "array([[ 1000.]])"
      ]
     },
     "execution_count": 13,
     "metadata": {},
     "output_type": "execute_result"
    }
   ],
   "source": [
    "# Test with 0 intensity, must always be alive!\n",
    "\n",
    "copula = StepWiseIntensitiesMarshallOlkinCopula([frozenset([1])], [[0.0, 0.0]], [3, 5])\n",
    "\n",
    "copula.generate_default_times(1, 10)"
   ]
  },
  {
   "cell_type": "code",
   "execution_count": 15,
   "metadata": {
    "collapsed": false
   },
   "outputs": [
    {
     "data": {
      "text/plain": [
       "True"
      ]
     },
     "execution_count": 15,
     "metadata": {},
     "output_type": "execute_result"
    }
   ],
   "source": [
    "copula.models[0].log_survival_proba(0) == 0"
   ]
  },
  {
   "cell_type": "code",
   "execution_count": null,
   "metadata": {
    "collapsed": true
   },
   "outputs": [],
   "source": []
  },
  {
   "cell_type": "code",
   "execution_count": null,
   "metadata": {
    "collapsed": true
   },
   "outputs": [],
   "source": []
  }
 ],
 "metadata": {
  "kernelspec": {
   "display_name": "Python 2",
   "language": "python",
   "name": "python2"
  },
  "language_info": {
   "codemirror_mode": {
    "name": "ipython",
    "version": 2
   },
   "file_extension": ".py",
   "mimetype": "text/x-python",
   "name": "python",
   "nbconvert_exporter": "python",
   "pygments_lexer": "ipython2",
   "version": "2.7.9"
  }
 },
 "nbformat": 4,
 "nbformat_minor": 0
}
