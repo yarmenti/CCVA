{
 "cells": [
  {
   "cell_type": "markdown",
   "metadata": {},
   "source": [
    "# Model"
   ]
  },
  {
   "cell_type": "markdown",
   "metadata": {},
   "source": [
    "We suppose that the default model of the each member is given by:\n",
    "\n",
    "\\begin{equation*}\n",
    "\\mathbb{P}(\\tau_i \\leq t) = 1 - \\exp \\left( - \\sum_{i=0}^{k} \\lambda_i (T_{i+1}-T_{i}) - \\lambda_k (t-T_k) \\right)\n",
    "\\end{equation*}\n",
    "\n",
    "for $t \\in [T_k, T_{k+1}[$, with the convention that $T_0 = 0$."
   ]
  },
  {
   "cell_type": "markdown",
   "metadata": {},
   "source": [
    "# Load matlab file"
   ]
  },
  {
   "cell_type": "code",
   "execution_count": 1,
   "metadata": {
    "collapsed": false
   },
   "outputs": [
    {
     "name": "stdout",
     "output_type": "stream",
     "text": [
      "['Calibrated_Common_Choc', '__version__', '__header__', '__globals__']\n",
      "\n",
      "MATLAB 5.0 MAT-file, Platform: MACI64, Created on: Tue Apr  7 14:26:40 2015\n",
      "1.0\n",
      "[]\n"
     ]
    }
   ],
   "source": [
    "import scipy.io\n",
    "\n",
    "mat = scipy.io.loadmat('Calibrated_Common_Shock_with_lambda_ind.mat')\n",
    "print mat.keys()\n",
    "\n",
    "print\n",
    "print mat['__header__']\n",
    "print mat['__version__']\n",
    "print mat['__globals__']"
   ]
  },
  {
   "cell_type": "code",
   "execution_count": 2,
   "metadata": {
    "collapsed": false
   },
   "outputs": [],
   "source": [
    "%matplotlib inline\n",
    "import matplotlib.pyplot as plt"
   ]
  },
  {
   "cell_type": "code",
   "execution_count": 3,
   "metadata": {
    "collapsed": false
   },
   "outputs": [
    {
     "data": {
      "text/plain": [
       "dtype([('Names', 'O'), ('Sectors', 'O'), ('Currencies', 'O'), ('CDS_Pillars', 'O'), ('Today', 'O'), ('coupDate', 'O'), ('CDS_Spreads', 'O'), ('CDO_attach', 'O'), ('CDO_detach', 'O'), ('CDO_Spreads', 'O'), ('CDO_Maturity', 'O'), ('Eta', 'O'), ('CDS_Pillars_in_years', 'O'), ('Common_Choc_Pillars', 'O'), ('NbNames', 'O'), ('Recovery', 'O'), ('IR', 'O'), ('Rank_group', 'O'), ('Group_size', 'O'), ('Lambda_group_optimal', 'O'), ('Lambda_ind', 'O'), ('Group_Composition', 'O')])"
      ]
     },
     "execution_count": 3,
     "metadata": {},
     "output_type": "execute_result"
    }
   ],
   "source": [
    "import numpy as np\n",
    "\n",
    "calib_comm_shocks = mat['Calibrated_Common_Choc'][0, 0]\n",
    "calib_comm_shocks.dtype"
   ]
  },
  {
   "cell_type": "code",
   "execution_count": 4,
   "metadata": {
    "collapsed": true
   },
   "outputs": [],
   "source": [
    "pillars = [3, 5]"
   ]
  },
  {
   "cell_type": "markdown",
   "metadata": {},
   "source": [
    "## Group structure and intensities"
   ]
  },
  {
   "cell_type": "markdown",
   "metadata": {},
   "source": [
    "### Group structure"
   ]
  },
  {
   "cell_type": "code",
   "execution_count": 5,
   "metadata": {
    "collapsed": false
   },
   "outputs": [
    {
     "name": "stdout",
     "output_type": "stream",
     "text": [
      "{'I_disjnt_3': (dtype('O'), 16), 'I_disjnt_2': (dtype('O'), 8), 'I_disjnt_1': (dtype('O'), 0), 'I_disjnt_5': (dtype('O'), 32), 'I_disjnt_4': (dtype('O'), 24)}\n"
     ]
    }
   ],
   "source": [
    "raw_groups = calib_comm_shocks[\"Group_Composition\"]\n",
    "print raw_groups.dtype.fields"
   ]
  },
  {
   "cell_type": "code",
   "execution_count": 6,
   "metadata": {
    "collapsed": false
   },
   "outputs": [],
   "source": [
    "import re\n",
    "\n",
    "group_composition = {int(re.findall(r'\\d+', x)[0]): frozenset(raw_groups[x][0][0][0][0][0].flatten()) \n",
    "                     for x in raw_groups.dtype.fields}"
   ]
  },
  {
   "cell_type": "code",
   "execution_count": 7,
   "metadata": {
    "collapsed": false
   },
   "outputs": [
    {
     "name": "stdout",
     "output_type": "stream",
     "text": [
      "1 frozenset([99, 100, 39, 105, 76, 27]) 6\n",
      "2 frozenset([32, 65, 82, 71, 72, 77, 79, 112, 18, 84, 121, 125, 30]) 13\n",
      "3 frozenset([67, 104, 108, 51, 56, 123]) 6\n",
      "4 frozenset([1, 4, 5, 6, 10, 14, 25, 26, 28, 29, 31, 34, 37, 38, 44, 46, 48, 53, 57, 58, 62, 73, 74, 81, 83, 87, 88, 90, 91, 101, 113, 114, 115, 117, 119, 120]) 36\n",
      "5 frozenset([2, 3, 7, 8, 9, 11, 12, 13, 15, 16, 17, 19, 20, 21, 22, 23, 24, 33, 35, 36, 40, 41, 42, 43, 45, 47, 49, 50, 52, 54, 55, 59, 60, 61, 63, 64, 66, 68, 69, 70, 75, 78, 80, 85, 86, 89, 92, 93, 94, 95, 96, 97, 98, 102, 103, 106, 107, 109, 110, 111, 116, 118, 122, 124]) 64\n"
     ]
    }
   ],
   "source": [
    "for g in group_composition:\n",
    "    print g, group_composition[g], len(group_composition[g])"
   ]
  },
  {
   "cell_type": "code",
   "execution_count": 8,
   "metadata": {
    "collapsed": false
   },
   "outputs": [],
   "source": [
    "groups_intensities = {}\n",
    "\n",
    "raw_group_intensities = calib_comm_shocks['Lambda_group_optimal']\n",
    "for ind, pill in enumerate(pillars):\n",
    "    raw_lambdas_pills = raw_group_intensities[:, ind]\n",
    "    groups_intensities[pill] = {i+1: c for i, c in enumerate(raw_lambdas_pills)}"
   ]
  },
  {
   "cell_type": "code",
   "execution_count": 9,
   "metadata": {
    "collapsed": false
   },
   "outputs": [
    {
     "name": "stdout",
     "output_type": "stream",
     "text": [
      "{1: 0.058000000000000003, 2: 0.0053744999999999999, 3: 0.00061450000000000003, 4: 0.00020165, 5: 0.0016207000000000001}\n",
      "{1: 0.015925000000000002, 2: 0.0050889000000000004, 3: 0.0086692000000000002, 4: 9.3372e-05, 5: 0.0076647}\n"
     ]
    }
   ],
   "source": [
    "print groups_intensities[3]\n",
    "print groups_intensities[5]"
   ]
  },
  {
   "cell_type": "markdown",
   "metadata": {},
   "source": [
    "## Idiosyncratic intensities"
   ]
  },
  {
   "cell_type": "code",
   "execution_count": 10,
   "metadata": {
    "collapsed": false
   },
   "outputs": [],
   "source": [
    "raw_idio = calib_comm_shocks['Lambda_ind']\n",
    "\n",
    "I_5 = group_composition[5]\n",
    "\n",
    "idios = []\n",
    "nb_obligors = raw_idio.shape[0]\n",
    "\n",
    "for i, idio in enumerate(raw_idio):\n",
    "    id_ = i+1\n",
    "    \n",
    "    if id_ in I_5:\n",
    "        continue\n",
    "    \n",
    "    lambda_3y = idio[0]\n",
    "    lambda_5y = idio[1]\n",
    "    \n",
    "    idios.append({\"id\": frozenset([i]), \"pillars\": [3, 5], \"hazard_rates\": [lambda_3y, lambda_5y]})"
   ]
  },
  {
   "cell_type": "code",
   "execution_count": 11,
   "metadata": {
    "collapsed": false
   },
   "outputs": [
    {
     "name": "stdout",
     "output_type": "stream",
     "text": [
      "Carefull of these obligors:\n",
      "--------------------------\n",
      "ID = frozenset([4]) | l_3y = 0.0085808902955 | l_5y = -4.31167802529e-08\n"
     ]
    }
   ],
   "source": [
    "print \"Carefull of these obligors:\\n--------------------------\"\n",
    "for d in idios:\n",
    "    if min(d['hazard_rates']) < 0:\n",
    "        print \"ID = %s | l_3y = %s | l_5y = %s\"%(d['id'], d['hazard_rates'][0], d['hazard_rates'][1])"
   ]
  },
  {
   "cell_type": "markdown",
   "metadata": {},
   "source": [
    "## Final intensities"
   ]
  },
  {
   "cell_type": "code",
   "execution_count": 12,
   "metadata": {
    "collapsed": false
   },
   "outputs": [
    {
     "name": "stdout",
     "output_type": "stream",
     "text": [
      "Length for 1 = 6\n",
      "Length for 2 = 19\n",
      "Length for 3 = 25\n",
      "Length for 4 = 61\n",
      "Length for 5 = 125\n"
     ]
    }
   ],
   "source": [
    "groups_save = []\n",
    "\n",
    "ids_ = frozenset()\n",
    "for group_nb, ids in group_composition.iteritems():\n",
    "    ids_ = ids_.union(ids)\n",
    "    ids__ = [id_-1 for id_ in ids_]\n",
    "    \n",
    "    print \"Length for %i = %i\"%(group_nb, len(ids_))\n",
    "    d = {\"group_id\": group_nb, \"ids\": frozenset(ids__), \"pillars\": [3, 5],\n",
    "         \"hazard_rates\": [groups_intensities[3][group_nb], groups_intensities[5][group_nb]]}\n",
    "    \n",
    "    groups_save.append(d)"
   ]
  },
  {
   "cell_type": "code",
   "execution_count": 13,
   "metadata": {
    "collapsed": true
   },
   "outputs": [],
   "source": [
    "idio_save = idios"
   ]
  },
  {
   "cell_type": "code",
   "execution_count": 14,
   "metadata": {
    "collapsed": false
   },
   "outputs": [],
   "source": [
    "to_save = {\n",
    "    \"idio\": idio_save,\n",
    "    \"groups\": groups_save\n",
    "}"
   ]
  },
  {
   "cell_type": "code",
   "execution_count": 15,
   "metadata": {
    "collapsed": true
   },
   "outputs": [],
   "source": [
    "import dill"
   ]
  },
  {
   "cell_type": "code",
   "execution_count": 16,
   "metadata": {
    "collapsed": false
   },
   "outputs": [],
   "source": [
    "with open('intensities_no_I5_new.pkl', 'wb') as f:\n",
    "    dill.dump(to_save, f)"
   ]
  },
  {
   "cell_type": "code",
   "execution_count": 17,
   "metadata": {
    "collapsed": false
   },
   "outputs": [],
   "source": [
    "with open('intensities_no_I5_new.pkl', 'rb') as f:\n",
    "    test = dill.load(f)"
   ]
  },
  {
   "cell_type": "code",
   "execution_count": 18,
   "metadata": {
    "collapsed": false
   },
   "outputs": [
    {
     "name": "stdout",
     "output_type": "stream",
     "text": [
      "-----------------------------------\n",
      "Bank 0\n",
      "-----------------------------------\n",
      "Pillars: [3, 5]\n",
      "Intensities: [0.0033853684009316522, 0.0048081762873048344]\n",
      "\n",
      "-----------------------------------\n",
      "Bank 3\n",
      "-----------------------------------\n",
      "Pillars: [3, 5]\n",
      "Intensities: [0.0035647268350895425, 0.0049729999603603187]\n",
      "\n",
      "-----------------------------------\n",
      "Bank 4\n",
      "-----------------------------------\n",
      "Pillars: [3, 5]\n",
      "Intensities: [0.0085808902954963729, -4.3116780252920595e-08]\n",
      "\n",
      "-----------------------------------\n",
      "Bank 5\n",
      "-----------------------------------\n",
      "Pillars: [3, 5]\n",
      "Intensities: [0.0071488558192109308, 0.0021660883207161351]\n",
      "\n",
      "-----------------------------------\n",
      "Bank 9\n",
      "-----------------------------------\n",
      "Pillars: [3, 5]\n",
      "Intensities: [0.0053575143772381798, 0.0031357382970320863]\n",
      "\n",
      "-----------------------------------\n",
      "Bank 13\n",
      "-----------------------------------\n",
      "Pillars: [3, 5]\n",
      "Intensities: [0.00679070303904733, 0.011875018141229196]\n",
      "\n",
      "-----------------------------------\n",
      "Bank 17\n",
      "-----------------------------------\n",
      "Pillars: [3, 5]\n",
      "Intensities: [0.019527402656596408, 0.02429112885794836]\n",
      "\n",
      "-----------------------------------\n",
      "Bank 24\n",
      "-----------------------------------\n",
      "Pillars: [3, 5]\n",
      "Intensities: [0.0060742242762303299, 0.0090260568770450592]\n",
      "\n",
      "-----------------------------------\n",
      "Bank 25\n",
      "-----------------------------------\n",
      "Pillars: [3, 5]\n",
      "Intensities: [0.0037440707707124057, 0.005573581716635744]\n",
      "\n",
      "-----------------------------------\n",
      "Bank 26\n",
      "-----------------------------------\n",
      "Pillars: [3, 5]\n",
      "Intensities: [0.13875824585339652, 0.011547669248559912]\n",
      "\n",
      "-----------------------------------\n",
      "Bank 27\n",
      "-----------------------------------\n",
      "Pillars: [3, 5]\n",
      "Intensities: [0.0060742242762303299, 0.0090260568770450592]\n",
      "\n",
      "-----------------------------------\n",
      "Bank 28\n",
      "-----------------------------------\n",
      "Pillars: [3, 5]\n",
      "Intensities: [0.0039234002115603279, 0.0044314432372225205]\n",
      "\n",
      "-----------------------------------\n",
      "Bank 29\n",
      "-----------------------------------\n",
      "Pillars: [3, 5]\n",
      "Intensities: [0.061405381644669639, 0.019504179067350767]\n",
      "\n",
      "-----------------------------------\n",
      "Bank 30\n",
      "-----------------------------------\n",
      "Pillars: [3, 5]\n",
      "Intensities: [0.0053575143772381798, 0.0053121450218122169]\n",
      "\n",
      "-----------------------------------\n",
      "Bank 31\n",
      "-----------------------------------\n",
      "Pillars: [3, 5]\n",
      "Intensities: [0.031041630733058885, 0.0093801781278084403]\n",
      "\n",
      "-----------------------------------\n",
      "Bank 33\n",
      "-----------------------------------\n",
      "Pillars: [3, 5]\n",
      "Intensities: [0.0053575143772381798, 0.0061839693633931785]\n",
      "\n",
      "-----------------------------------\n",
      "Bank 36\n",
      "-----------------------------------\n",
      "Pillars: [3, 5]\n",
      "Intensities: [0.0044613016030363639, 0.0084157692270739499]\n",
      "\n",
      "-----------------------------------\n",
      "Bank 37\n",
      "-----------------------------------\n",
      "Pillars: [3, 5]\n",
      "Intensities: [0.0042820156239653821, 0.0069405593377332873]\n",
      "\n",
      "-----------------------------------\n",
      "Bank 38\n",
      "-----------------------------------\n",
      "Pillars: [3, 5]\n",
      "Intensities: [0.0037540603886478258, 0.0083679973915118944]\n",
      "\n",
      "-----------------------------------\n",
      "Bank 43\n",
      "-----------------------------------\n",
      "Pillars: [3, 5]\n",
      "Intensities: [0.0042820156239653821, 0.0069405593377332873]\n",
      "\n",
      "-----------------------------------\n",
      "Bank 45\n",
      "-----------------------------------\n",
      "Pillars: [3, 5]\n",
      "Intensities: [0.0058950684798568841, 0.01543982200784904]\n",
      "\n",
      "-----------------------------------\n",
      "Bank 47\n",
      "-----------------------------------\n",
      "Pillars: [3, 5]\n",
      "Intensities: [0.0048198301256903199, 0.0087459454642481796]\n",
      "\n",
      "-----------------------------------\n",
      "Bank 50\n",
      "-----------------------------------\n",
      "Pillars: [3, 5]\n",
      "Intensities: [0.0083242549026868451, 0.0047459025977315307]\n",
      "\n",
      "-----------------------------------\n",
      "Bank 52\n",
      "-----------------------------------\n",
      "Pillars: [3, 5]\n",
      "Intensities: [0.0069697866427843522, 0.009412313593472079]\n",
      "\n",
      "-----------------------------------\n",
      "Bank 55\n",
      "-----------------------------------\n",
      "Pillars: [3, 5]\n",
      "Intensities: [0.0076084681133756034, 0.0054039311273090251]\n",
      "\n",
      "-----------------------------------\n",
      "Bank 56\n",
      "-----------------------------------\n",
      "Pillars: [3, 5]\n",
      "Intensities: [0.0071488558192109308, 0.01396085576842972]\n",
      "\n",
      "-----------------------------------\n",
      "Bank 57\n",
      "-----------------------------------\n",
      "Pillars: [3, 5]\n",
      "Intensities: [0.0076859768219810862, 0.004831746905100351]\n",
      "\n",
      "-----------------------------------\n",
      "Bank 61\n",
      "-----------------------------------\n",
      "Pillars: [3, 5]\n",
      "Intensities: [0.01001200357249298, 0.011331620203213884]\n",
      "\n",
      "-----------------------------------\n",
      "Bank 64\n",
      "-----------------------------------\n",
      "Pillars: [3, 5]\n",
      "Intensities: [0.0079538306824009659, 0.010453932604604442]\n",
      "\n",
      "-----------------------------------\n",
      "Bank 66\n",
      "-----------------------------------\n",
      "Pillars: [3, 5]\n",
      "Intensities: [0.0093975035724929816, 0.012346842938817555]\n",
      "\n",
      "-----------------------------------\n",
      "Bank 70\n",
      "-----------------------------------\n",
      "Pillars: [3, 5]\n",
      "Intensities: [0.010629974271740958, 0.016938463555921164]\n",
      "\n",
      "-----------------------------------\n",
      "Bank 71\n",
      "-----------------------------------\n",
      "Pillars: [3, 5]\n",
      "Intensities: [0.019527402656596408, 0.031960981342872709]\n",
      "\n",
      "-----------------------------------\n",
      "Bank 72\n",
      "-----------------------------------\n",
      "Pillars: [3, 5]\n",
      "Intensities: [0.0044613016030363639, 0.0062328608878536107]\n",
      "\n",
      "-----------------------------------\n",
      "Bank 73\n",
      "-----------------------------------\n",
      "Pillars: [3, 5]\n",
      "Intensities: [0.0046405731023601259, 0.0046543010853429762]\n",
      "\n",
      "-----------------------------------\n",
      "Bank 75\n",
      "-----------------------------------\n",
      "Pillars: [3, 5]\n",
      "Intensities: [0.043677557246084936, 0.035973412121195369]\n",
      "\n",
      "-----------------------------------\n",
      "Bank 76\n",
      "-----------------------------------\n",
      "Pillars: [3, 5]\n",
      "Intensities: [0.012412290810425384, 0.021278323310419275]\n",
      "\n",
      "-----------------------------------\n",
      "Bank 78\n",
      "-----------------------------------\n",
      "Pillars: [3, 5]\n",
      "Intensities: [0.014549197799226079, 0.02776644497340048]\n",
      "\n",
      "-----------------------------------\n",
      "Bank 80\n",
      "-----------------------------------\n",
      "Pillars: [3, 5]\n",
      "Intensities: [0.0051783007593787884, 0.0077649674514900244]\n",
      "\n",
      "-----------------------------------\n",
      "Bank 81\n",
      "-----------------------------------\n",
      "Pillars: [3, 5]\n",
      "Intensities: [0.0081323400953159323, 0.01017554101051063]\n",
      "\n",
      "-----------------------------------\n",
      "Bank 82\n",
      "-----------------------------------\n",
      "Pillars: [3, 5]\n",
      "Intensities: [0.0051783007593787884, 0.0086388361875064969]\n",
      "\n",
      "-----------------------------------\n",
      "Bank 83\n",
      "-----------------------------------\n",
      "Pillars: [3, 5]\n",
      "Intensities: [0.036688674438598044, 0.0025213039003062175]\n",
      "\n",
      "-----------------------------------\n",
      "Bank 86\n",
      "-----------------------------------\n",
      "Pillars: [3, 5]\n",
      "Intensities: [0.0049990726767793845, 0.0019384552989912046]\n",
      "\n",
      "-----------------------------------\n",
      "Bank 87\n",
      "-----------------------------------\n",
      "Pillars: [3, 5]\n",
      "Intensities: [0.0041027151613921287, 0.0080855148036346192]\n",
      "\n",
      "-----------------------------------\n",
      "Bank 89\n",
      "-----------------------------------\n",
      "Pillars: [3, 5]\n",
      "Intensities: [0.00679070303904733, 0.010122718617934231]\n",
      "\n",
      "-----------------------------------\n",
      "Bank 90\n",
      "-----------------------------------\n",
      "Pillars: [3, 5]\n",
      "Intensities: [0.0053575143772381798, 0.010553977708254586]\n",
      "\n",
      "-----------------------------------\n",
      "Bank 98\n",
      "-----------------------------------\n",
      "Pillars: [3, 5]\n",
      "Intensities: [0.0056708494078220595, 0.0087106012160537219]\n",
      "\n",
      "-----------------------------------\n",
      "Bank 99\n",
      "-----------------------------------\n",
      "Pillars: [3, 5]\n",
      "Intensities: [0.060581590986657677, 0.00024219699623512225]\n",
      "\n",
      "-----------------------------------\n",
      "Bank 100\n",
      "-----------------------------------\n",
      "Pillars: [3, 5]\n",
      "Intensities: [0.0092965619647387091, 0.0049975008541213181]\n",
      "\n",
      "-----------------------------------\n",
      "Bank 103\n",
      "-----------------------------------\n",
      "Pillars: [3, 5]\n",
      "Intensities: [0.016717571410357544, 0.0049775320842547974]\n",
      "\n",
      "-----------------------------------\n",
      "Bank 104\n",
      "-----------------------------------\n",
      "Pillars: [3, 5]\n",
      "Intensities: [0.0074120011510654116, 0.0012830417229650892]\n",
      "\n",
      "-----------------------------------\n",
      "Bank 107\n",
      "-----------------------------------\n",
      "Pillars: [3, 5]\n",
      "Intensities: [0.015291149495220129, 0.0071891502257585178]\n",
      "\n",
      "-----------------------------------\n",
      "Bank 111\n",
      "-----------------------------------\n",
      "Pillars: [3, 5]\n",
      "Intensities: [0.037922091051115103, 0.0093585252666851977]\n",
      "\n",
      "-----------------------------------\n",
      "Bank 112\n",
      "-----------------------------------\n",
      "Pillars: [3, 5]\n",
      "Intensities: [0.0064324925346915147, 0.0089183153963120869]\n",
      "\n",
      "-----------------------------------\n",
      "Bank 113\n",
      "-----------------------------------\n",
      "Pillars: [3, 5]\n",
      "Intensities: [0.0037440707707124057, 0.0033964932385639997]\n",
      "\n",
      "-----------------------------------\n",
      "Bank 114\n",
      "-----------------------------------\n",
      "Pillars: [3, 5]\n",
      "Intensities: [0.0062533656265944572, 0.0091908473710852166]\n",
      "\n",
      "-----------------------------------\n",
      "Bank 116\n",
      "-----------------------------------\n",
      "Pillars: [3, 5]\n",
      "Intensities: [0.0071488558192109308, 0.0078285007345857728]\n",
      "\n",
      "-----------------------------------\n",
      "Bank 118\n",
      "-----------------------------------\n",
      "Pillars: [3, 5]\n",
      "Intensities: [0.0064324925346915147, 0.0032498870841485396]\n",
      "\n",
      "-----------------------------------\n",
      "Bank 119\n",
      "-----------------------------------\n",
      "Pillars: [3, 5]\n",
      "Intensities: [0.0057158982337304591, 0.010008631432088397]\n",
      "\n",
      "-----------------------------------\n",
      "Bank 120\n",
      "-----------------------------------\n",
      "Pillars: [3, 5]\n",
      "Intensities: [0.062974019932869274, 0.017307362761800262]\n",
      "\n",
      "-----------------------------------\n",
      "Bank 122\n",
      "-----------------------------------\n",
      "Pillars: [3, 5]\n",
      "Intensities: [0.0076084681133756034, 0.0054039311273090251]\n",
      "\n",
      "-----------------------------------\n",
      "Bank 124\n",
      "-----------------------------------\n",
      "Pillars: [3, 5]\n",
      "Intensities: [0.011164818453918908, 0.0023630189296663245]\n",
      "\n"
     ]
    }
   ],
   "source": [
    "for i in test['idio']:\n",
    "    print \"-----------------------------------\"\n",
    "    print \"Bank %i\" %list(i['id'])[0]\n",
    "    print \"-----------------------------------\"\n",
    "    print \"Pillars: %s\\nIntensities: %s\" %(i['pillars'], i['hazard_rates'])\n",
    "    print"
   ]
  },
  {
   "cell_type": "code",
   "execution_count": 19,
   "metadata": {
    "collapsed": false
   },
   "outputs": [
    {
     "name": "stdout",
     "output_type": "stream",
     "text": [
      "-----------------------------------\n",
      "Group 1\n",
      "-----------------------------------\n",
      "Pillars: [3, 5]\n",
      "Intensities: [0.058000000000000003, 0.015925000000000002]\n",
      "Composition: frozenset([98, 99, 38, 104, 75, 26])\n",
      "\n",
      "-----------------------------------\n",
      "Group 2\n",
      "-----------------------------------\n",
      "Pillars: [3, 5]\n",
      "Intensities: [0.0053744999999999999, 0.0050889000000000004]\n",
      "Composition: frozenset([64, 98, 99, 38, 70, 71, 104, 75, 76, 78, 111, 17, 83, 120, 26, 31, 124, 29, 81])\n",
      "\n",
      "-----------------------------------\n",
      "Group 3\n",
      "-----------------------------------\n",
      "Pillars: [3, 5]\n",
      "Intensities: [0.00061450000000000003, 0.0086692000000000002]\n",
      "Composition: frozenset([17, 26, 29, 31, 38, 50, 55, 64, 66, 70, 71, 75, 76, 78, 81, 83, 98, 99, 103, 104, 107, 111, 120, 122, 124])\n",
      "\n",
      "-----------------------------------\n",
      "Group 4\n",
      "-----------------------------------\n",
      "Pillars: [3, 5]\n",
      "Intensities: [0.00020165, 9.3372e-05]\n",
      "Composition: frozenset([0, 3, 4, 5, 9, 13, 17, 24, 25, 26, 27, 28, 29, 30, 31, 33, 36, 37, 38, 43, 45, 47, 50, 52, 55, 56, 57, 61, 64, 66, 70, 71, 72, 73, 75, 76, 78, 80, 81, 82, 83, 86, 87, 89, 90, 98, 99, 100, 103, 104, 107, 111, 112, 113, 114, 116, 118, 119, 120, 122, 124])\n",
      "\n",
      "-----------------------------------\n",
      "Group 5\n",
      "-----------------------------------\n",
      "Pillars: [3, 5]\n",
      "Intensities: [0.0016207000000000001, 0.0076647]\n",
      "Composition: frozenset([0, 1, 2, 3, 4, 5, 6, 7, 8, 9, 10, 11, 12, 13, 14, 15, 16, 17, 18, 19, 20, 21, 22, 23, 24, 25, 26, 27, 28, 29, 30, 31, 32, 33, 34, 35, 36, 37, 38, 39, 40, 41, 42, 43, 44, 45, 46, 47, 48, 49, 50, 51, 52, 53, 54, 55, 56, 57, 58, 59, 60, 61, 62, 63, 64, 65, 66, 67, 68, 69, 70, 71, 72, 73, 74, 75, 76, 77, 78, 79, 80, 81, 82, 83, 84, 85, 86, 87, 88, 89, 90, 91, 92, 93, 94, 95, 96, 97, 98, 99, 100, 101, 102, 103, 104, 105, 106, 107, 108, 109, 110, 111, 112, 113, 114, 115, 116, 117, 118, 119, 120, 121, 122, 123, 124])\n",
      "\n"
     ]
    }
   ],
   "source": [
    "for g in test['groups']:\n",
    "    print \"-----------------------------------\"\n",
    "    print \"Group %i\" %g['group_id']\n",
    "    print \"-----------------------------------\"\n",
    "    print \"Pillars: %s\\nIntensities: %s\" %(g['pillars'], g['hazard_rates'])\n",
    "    print \"Composition: %s\" %g['ids']\n",
    "    print"
   ]
  }
 ],
 "metadata": {
  "kernelspec": {
   "display_name": "Python 2",
   "language": "python",
   "name": "python2"
  },
  "language_info": {
   "codemirror_mode": {
    "name": "ipython",
    "version": 2
   },
   "file_extension": ".py",
   "mimetype": "text/x-python",
   "name": "python",
   "nbconvert_exporter": "python",
   "pygments_lexer": "ipython2",
   "version": "2.7.9"
  }
 },
 "nbformat": 4,
 "nbformat_minor": 0
}
