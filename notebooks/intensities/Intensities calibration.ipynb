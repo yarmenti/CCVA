{
 "metadata": {
  "name": "",
  "signature": "sha256:a8b2bd7bbf1b27f9c5fc91911c675bcb05e3801c4ddbae4692fbbdd5d0d6f85e"
 },
 "nbformat": 3,
 "nbformat_minor": 0,
 "worksheets": [
  {
   "cells": [
    {
     "cell_type": "heading",
     "level": 1,
     "metadata": {},
     "source": [
      "Methodology"
     ]
    },
    {
     "cell_type": "markdown",
     "metadata": {},
     "source": [
      "We want to calibrate the intensities processes $(\\lambda_t^i), \\, i \\in [1, N]$ given the CDO spreads (multivariate default probability) and the CDS spreads (idiosyncratic default probability).\n",
      "\n",
      "We suppose the default models are given by: $\\mathbb{Q}(\\tau_i > t) = e^{-\\int_{0}^t \\lambda_s^i ds}$"
     ]
    },
    {
     "cell_type": "markdown",
     "metadata": {},
     "source": [
      "*Notations*:\n",
      "\n",
      "- $N$ is the number of obligors"
     ]
    },
    {
     "cell_type": "heading",
     "level": 2,
     "metadata": {},
     "source": [
      "Model"
     ]
    },
    {
     "cell_type": "markdown",
     "metadata": {},
     "source": [
      "We suppose that the intensities are piecewise constant, thus $\\forall t \\geq 0$:\n",
      "\\begin{equation*}\n",
      "\\lambda_t^i = \\sum_{k=0}^n \\lambda_k 1_{\\{T_k \\leq t < T_{k+1} \\}}\n",
      "\\end{equation*}"
     ]
    },
    {
     "cell_type": "heading",
     "level": 3,
     "metadata": {},
     "source": [
      "CDS Prices"
     ]
    },
    {
     "cell_type": "code",
     "collapsed": false,
     "input": [
      "import sys\n",
      "\n",
      "sys.path.append('../../..')"
     ],
     "language": "python",
     "metadata": {},
     "outputs": [],
     "prompt_number": 1
    },
    {
     "cell_type": "code",
     "collapsed": false,
     "input": [
      "from finance.discountfactor import ConstantRateDiscountFactor\n",
      "\n",
      "r = 0.03\n",
      "discount = ConstantRateDiscountFactor(r)"
     ],
     "language": "python",
     "metadata": {},
     "outputs": [],
     "prompt_number": 2
    },
    {
     "cell_type": "code",
     "collapsed": false,
     "input": [
      "from credit.default_probability import StepwiseConstantIntensity\n",
      "\n",
      "lambdas = [50e-4, 100e-4, 200e-4]\n",
      "time = [2, 4, 7]\n",
      "\n",
      "model = StepwiseConstantIntensity(time, lambdas, 0.4)\n",
      "\n",
      "print model.intensities\n",
      "print model.pillars\n",
      "\n",
      "print model.survival_proba(0.5)"
     ],
     "language": "python",
     "metadata": {},
     "outputs": [
      {
       "output_type": "stream",
       "stream": "stdout",
       "text": [
        "[ 0.005  0.015  0.035]\n",
        "[0 2 4 7]\n",
        "0.997503122397\n"
       ]
      }
     ],
     "prompt_number": 7
    },
    {
     "cell_type": "code",
     "collapsed": false,
     "input": [
      "print model.survival_proba(1.6)"
     ],
     "language": "python",
     "metadata": {},
     "outputs": [
      {
       "output_type": "stream",
       "stream": "stdout",
       "text": [
        "0.992031914837\n"
       ]
      }
     ],
     "prompt_number": 8
    },
    {
     "cell_type": "code",
     "collapsed": false,
     "input": [
      "print model.survival_proba(2.6)"
     ],
     "language": "python",
     "metadata": {},
     "outputs": [
      {
       "output_type": "stream",
       "stream": "stdout",
       "text": [
        "0.981179362243\n"
       ]
      }
     ],
     "prompt_number": 9
    },
    {
     "cell_type": "code",
     "collapsed": false,
     "input": [
      "import matplotlib.pyplot as plt\n",
      "import numpy as np\n",
      "\n",
      "times = np.arange(0, 10, 0.1)\n",
      "\n",
      "plt.plot(times, [model.survival_proba(t) for t in times])\n",
      "plt.show()"
     ],
     "language": "python",
     "metadata": {},
     "outputs": [],
     "prompt_number": 10
    },
    {
     "cell_type": "code",
     "collapsed": false,
     "input": [],
     "language": "python",
     "metadata": {},
     "outputs": [],
     "prompt_number": 6
    }
   ],
   "metadata": {}
  }
 ]
}