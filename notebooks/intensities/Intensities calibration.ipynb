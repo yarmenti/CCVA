{
 "cells": [
  {
   "cell_type": "markdown",
   "metadata": {},
   "source": [
    "# Methodology"
   ]
  },
  {
   "cell_type": "markdown",
   "metadata": {},
   "source": [
    "We want to calibrate the intensities processes $(\\lambda_t^i), \\, i \\in [1, N]$ given the CDO spreads (multivariate default probability) and the CDS spreads (idiosyncratic default probability).\n",
    "\n",
    "We suppose the default models are given by: $\\mathbb{Q}(\\tau_i > t) = e^{-\\int_{0}^t \\lambda_s^i ds}$"
   ]
  },
  {
   "cell_type": "markdown",
   "metadata": {},
   "source": [
    "*Notations*:\n",
    "\n",
    "- $N$ is the number of obligors"
   ]
  },
  {
   "cell_type": "markdown",
   "metadata": {},
   "source": [
    "## Model"
   ]
  },
  {
   "cell_type": "markdown",
   "metadata": {},
   "source": [
    "We suppose that the intensities are piecewise constant, thus $\\forall t \\geq 0$:\n",
    "\\begin{equation*}\n",
    "\\lambda_t^i = \\sum_{k=0}^n \\lambda_k 1_{\\{T_k \\leq t < T_{k+1} \\}}\n",
    "\\end{equation*}"
   ]
  },
  {
   "cell_type": "markdown",
   "metadata": {},
   "source": [
    "### CDS Prices"
   ]
  },
  {
   "cell_type": "code",
   "execution_count": 1,
   "metadata": {
    "collapsed": false
   },
   "outputs": [],
   "source": [
    "import sys\n",
    "\n",
    "sys.path.append('../..')"
   ]
  },
  {
   "cell_type": "code",
   "execution_count": 2,
   "metadata": {
    "collapsed": false
   },
   "outputs": [],
   "source": [
    "from finance.discountfactor import ConstantRateDiscountFactor\n",
    "\n",
    "r = 0.03\n",
    "discount = ConstantRateDiscountFactor(r)"
   ]
  },
  {
   "cell_type": "code",
   "execution_count": 6,
   "metadata": {
    "collapsed": false
   },
   "outputs": [
    {
     "name": "stdout",
     "output_type": "stream",
     "text": [
      "[ 0.005  0.01   0.02 ]\n",
      "[0 2 4 7]\n",
      "0.997503122397\n"
     ]
    }
   ],
   "source": [
    "from credit.default_models import StepwiseConstantIntensity\n",
    "\n",
    "lambdas = [50e-4, 100e-4, 200e-4]\n",
    "time = [2, 4, 7]\n",
    "\n",
    "model = StepwiseConstantIntensity(time, lambdas)\n",
    "\n",
    "print model.intensities\n",
    "print model.pillars\n",
    "\n",
    "print model.survival_proba(0.5)"
   ]
  },
  {
   "cell_type": "code",
   "execution_count": 7,
   "metadata": {
    "collapsed": false
   },
   "outputs": [
    {
     "name": "stdout",
     "output_type": "stream",
     "text": [
      "0.992031914837\n"
     ]
    }
   ],
   "source": [
    "print model.survival_proba(1.6)"
   ]
  },
  {
   "cell_type": "code",
   "execution_count": 8,
   "metadata": {
    "collapsed": false
   },
   "outputs": [
    {
     "name": "stdout",
     "output_type": "stream",
     "text": [
      "0.984127320055\n"
     ]
    }
   ],
   "source": [
    "print model.survival_proba(2.6)"
   ]
  },
  {
   "cell_type": "code",
   "execution_count": 9,
   "metadata": {
    "collapsed": false
   },
   "outputs": [],
   "source": [
    "import matplotlib.pyplot as plt\n",
    "import numpy as np\n",
    "\n",
    "times = np.arange(0, 10, 0.1)\n",
    "\n",
    "plt.plot(times, [model.survival_proba(t) for t in times])\n",
    "plt.show()"
   ]
  },
  {
   "cell_type": "code",
   "execution_count": null,
   "metadata": {
    "collapsed": false
   },
   "outputs": [],
   "source": []
  }
 ],
 "metadata": {
  "kernelspec": {
   "display_name": "Python 2",
   "language": "python",
   "name": "python2"
  }
 },
 "nbformat": 4,
 "nbformat_minor": 0
}
