{
 "cells": [
  {
   "cell_type": "markdown",
   "metadata": {},
   "source": [
    "# Intensities calibration"
   ]
  },
  {
   "cell_type": "markdown",
   "metadata": {},
   "source": [
    "We are looking for a good formula to generate default intensities of $40$ members with the following inputs:\n",
    "\n",
    "\\begin{array}{|c|c|}\n",
    "\\hline\n",
    "\\text{Member nb.} & 1 & 20 & 40 \\\\\n",
    "\\hline\n",
    "\\lambda_{\\text{cum}} & (1-R) \\times 1000 \\text{ bps} & (1-R) \\times 150 \\text{ bps} & (1-R) \\times 20 \\text{ bps} \\\\\n",
    "\\hline\n",
    "\\end{array}\n",
    "\n",
    "such that the dependance structure is:\n",
    "\n",
    "\\begin{array}{|c|c|}\n",
    "\\hline\n",
    "\\text{Nb. Members} & 5 & 10 & 20 & 40\\\\\n",
    "\\hline\n",
    "\\text{Cum }\\lambda_{\\text{sys}} & 500 \\text{ bps} & 100 \\text{ bps} & 70 \\text{ bps} & 50 \\text{ bps}\\\\\n",
    "\\hline\n",
    "\\end{array}"
   ]
  },
  {
   "cell_type": "code",
   "execution_count": 1,
   "metadata": {
    "collapsed": false
   },
   "outputs": [],
   "source": [
    "%matplotlib inline\n",
    "\n",
    "import numpy as np\n",
    "import matplotlib.pyplot as plt\n",
    "import scipy.stats as stats"
   ]
  },
  {
   "cell_type": "code",
   "execution_count": 2,
   "metadata": {
    "collapsed": false
   },
   "outputs": [
    {
     "name": "stdout",
     "output_type": "stream",
     "text": [
      "Cum indexes = [0, 20, 39]\n",
      "Cum lambdas = [0.06, 0.009, 0.0012]\n",
      "\n",
      "Sys indexes = [5, 10, 20, 39]\n",
      "Sys lambdas = [0.05, 0.01, 0.007, 0.0025]\n"
     ]
    }
   ],
   "source": [
    "recov = 0.4\n",
    "\n",
    "cds_spreads = [1000e-4, 150e-4, 20e-4]\n",
    "cum_lambdas = [s*(1-recov) for s in cds_spreads]\n",
    "cum_indexes = [0, 20, 39]\n",
    "\n",
    "sys_lambdas = [500e-4, 100e-4, 70e-4, 25e-4]\n",
    "sys_indexes = [5, 10, 20, 39]\n",
    "\n",
    "print \"Cum indexes = %s\"%cum_indexes\n",
    "print \"Cum lambdas = %s\"%cum_lambdas\n",
    "\n",
    "print \"\\nSys indexes = %s\"%sys_indexes\n",
    "print \"Sys lambdas = %s\"%sys_lambdas"
   ]
  },
  {
   "cell_type": "code",
   "execution_count": 3,
   "metadata": {
    "collapsed": false
   },
   "outputs": [],
   "source": [
    "sys_dict = dict((ind, lamb) for (ind, lamb) in zip(sys_indexes, sys_lambdas))\n",
    "cum_dict = dict((ind, lamb) for (ind, lamb) in zip(cum_indexes, cum_lambdas))"
   ]
  },
  {
   "cell_type": "code",
   "execution_count": 4,
   "metadata": {
    "collapsed": false
   },
   "outputs": [
    {
     "name": "stdout",
     "output_type": "stream",
     "text": [
      "Idio indexes = [0, 20, 39]\n",
      "Idio lambdas = [0.057499999999999996, 0.0064999999999999988, 0.001]\n"
     ]
    }
   ],
   "source": [
    "from collections import OrderedDict\n",
    "\n",
    "#epsilon = 5e-4\n",
    "epsilon = 10e-4\n",
    "idio_dict = dict()\n",
    "\n",
    "for (k,v) in cum_dict.iteritems():\n",
    "    ind = 0\n",
    "    for sys_key in sys_dict.keys():\n",
    "        if k<=sys_key:\n",
    "            ind = sys_key\n",
    "    \n",
    "    idio_dict[k] = np.maximum(v-sys_dict[ind], epsilon)\n",
    "    \n",
    "idio_dict =  OrderedDict(sorted(idio_dict.items(), key=lambda t: t[0]))\n",
    "    \n",
    "print \"Idio indexes = %s\"%idio_dict.keys()\n",
    "print \"Idio lambdas = %s\"%idio_dict.values()"
   ]
  },
  {
   "cell_type": "code",
   "execution_count": 5,
   "metadata": {
    "collapsed": false
   },
   "outputs": [
    {
     "data": {
      "image/png": "[encoded data removed]",
      "text/plain": [
       "<matplotlib.figure.Figure at 0x9ff7048>"
      ]
     },
     "metadata": {},
     "output_type": "display_data"
    }
   ],
   "source": [
    "plt.plot(idio_dict.keys(), idio_dict.values(), 'o')\n",
    "plt.show()"
   ]
  },
  {
   "cell_type": "code",
   "execution_count": 6,
   "metadata": {
    "collapsed": false
   },
   "outputs": [],
   "source": [
    "xs = np.arange(0, 40)"
   ]
  },
  {
   "cell_type": "markdown",
   "metadata": {},
   "source": [
    "## Hyperbolic $x$ fit for the idiosyncratic intensities"
   ]
  },
  {
   "cell_type": "markdown",
   "metadata": {},
   "source": [
    "We suppose that the idiosyncratic intensities are given by: $\\lambda_i = \\frac{A}{(i+1)^x} + B$, $x \\in \\mathbb{R}$."
   ]
  },
  {
   "cell_type": "code",
   "execution_count": 7,
   "metadata": {
    "collapsed": false
   },
   "outputs": [
    {
     "name": "stdout",
     "output_type": "stream",
     "text": [
      "0.186961180401 -0.129711447469\n"
     ]
    }
   ],
   "source": [
    "x = 0.1\n",
    "\n",
    "inv_indexes = [1./(i+1)**x for i in idio_dict.keys()]\n",
    "\n",
    "slope, intercept, _, _, err = stats.linregress(inv_indexes, idio_dict.values())\n",
    "\n",
    "A = slope\n",
    "B = intercept\n",
    "\n",
    "print A, B"
   ]
  },
  {
   "cell_type": "code",
   "execution_count": 8,
   "metadata": {
    "collapsed": false
   },
   "outputs": [
    {
     "data": {
      "image/png": "[encoded data removed]",
      "text/plain": [
       "<matplotlib.figure.Figure at 0x14be9908>"
      ]
     },
     "metadata": {},
     "output_type": "display_data"
    }
   ],
   "source": [
    "epsilon = 1e-4\n",
    "ys = [np.maximum(A/(i+1)**x + B, epsilon) for i in xs]\n",
    "\n",
    "plt.plot(idio_dict.keys(), idio_dict.values(), 'o')\n",
    "plt.plot(xs, ys, 'x')\n",
    "plt.plot(xs, [-epsilon for i in xs])\n",
    "plt.show()"
   ]
  },
  {
   "cell_type": "markdown",
   "metadata": {},
   "source": [
    "## Final inputs"
   ]
  },
  {
   "cell_type": "code",
   "execution_count": 9,
   "metadata": {
    "collapsed": false
   },
   "outputs": [],
   "source": [
    "from collections import OrderedDict\n",
    "\n",
    "final_cumul_dict =  {x: y for (x, y) in zip(xs, ys)}\n",
    "final_cumul_dict = OrderedDict(sorted(final_cumul_dict.items(), key=lambda t: t[0]))\n",
    "\n",
    "sys_sorted_keys = sorted(sys_dict.keys())\n",
    "\n",
    "for ind in final_cumul_dict.keys():\n",
    "    sys_ind = np.searchsorted(sys_sorted_keys, ind)\n",
    "    final_cumul_dict[ind] += sys_dict[sys_sorted_keys[sys_ind]]"
   ]
  },
  {
   "cell_type": "code",
   "execution_count": 10,
   "metadata": {
    "collapsed": false
   },
   "outputs": [
    {
     "data": {
      "image/png": "[encoded data removed]",
      "text/plain": [
       "<matplotlib.figure.Figure at 0x14e33f98>"
      ]
     },
     "metadata": {},
     "output_type": "display_data"
    }
   ],
   "source": [
    "plt.plot(final_cumul_dict.keys(), final_cumul_dict.values(), 'x')\n",
    "plt.show()"
   ]
  }
 ],
 "metadata": {
  "kernelspec": {
   "display_name": "Python 2",
   "language": "python",
   "name": "python2"
  },
  "language_info": {
   "codemirror_mode": {
    "name": "ipython",
    "version": 2
   },
   "file_extension": ".py",
   "mimetype": "text/x-python",
   "name": "python",
   "nbconvert_exporter": "python",
   "pygments_lexer": "ipython2",
   "version": "2.7.9"
  }
 },
 "nbformat": 4,
 "nbformat_minor": 0
}
