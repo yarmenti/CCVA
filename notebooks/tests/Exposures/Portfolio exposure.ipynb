{
 "metadata": {
  "name": "",
  "signature": "sha256:003f1707a23bbcd4daf5a2e2aa33c71aa684925956d5e7c495d61537c40fd5cf"
 },
 "nbformat": 3,
 "nbformat_minor": 0,
 "worksheets": [
  {
   "cells": [
    {
     "cell_type": "code",
     "collapsed": false,
     "input": [
      "import sys\n",
      "\n",
      "sys.path.append('../..')"
     ],
     "language": "python",
     "metadata": {},
     "outputs": [],
     "prompt_number": 1
    },
    {
     "cell_type": "code",
     "collapsed": false,
     "input": [
      "# Instead of taking 365 standard days or 252 trading days\n",
      "# in order to get some easy computations for the eqty and df time grids\n",
      "# I chose to take 360 days of tradings\n",
      "\n",
      "step = 1/360.\n",
      "\n",
      "# Moreover, we fix a $\\delta$ mpor (margin period of risk) of 5 days (like in the CCP case)\n",
      "mpor = 5*step"
     ],
     "language": "python",
     "metadata": {},
     "outputs": [],
     "prompt_number": 2
    },
    {
     "cell_type": "code",
     "collapsed": false,
     "input": [
      "from finance.discountfactor import ConstantRateDiscountFactor \n",
      "\n",
      "maturity = 5\n",
      "r = 0.02\n",
      "\n",
      "discount = ConstantRateDiscountFactor(r)"
     ],
     "language": "python",
     "metadata": {},
     "outputs": [],
     "prompt_number": 3
    },
    {
     "cell_type": "code",
     "collapsed": false,
     "input": [
      "import numpy as np\n",
      "from scipy.stats import norm\n",
      "from maths.montecarlo.process.brownianmotion import BrownianMotion\n",
      "\n",
      "time_grid = BrownianMotion.generate_time_grid(0, maturity, step)\n",
      "\n",
      "x_0 = [100, 100]\n",
      "mu_s = [5, 4]\n",
      "sigma_s = [10, 6]\n",
      "\n",
      "correl = [[1, 0], [0, 1]]\n",
      "\n",
      "b = BrownianMotion(x_0, mu_s, sigma_s, time_grid, correl)\n",
      "\n",
      "for i, (x0, m_, s_) in enumerate(zip(x_0, mu_s, sigma_s)):\n",
      "    print \"P(S_T^%d < 0) = %s\"%(i+1, norm.cdf(-(x0 + m_ * maturity)/(s_*np.sqrt(maturity))))"
     ],
     "language": "python",
     "metadata": {},
     "outputs": [
      {
       "output_type": "stream",
       "stream": "stdout",
       "text": [
        "P(S_T^1 < 0) = 1.13423742963e-08\n",
        "P(S_T^2 < 0) = 1.8720486921e-19\n"
       ]
      }
     ],
     "prompt_number": 4
    },
    {
     "cell_type": "code",
     "collapsed": false,
     "input": [
      "from finance.products.european.swap import (\n",
      "    SwapContract,\n",
      ")\n",
      "\n",
      "delta = 0.25\n",
      "\n",
      "swap_dates = SwapContract.generate_payment_dates(0, maturity, delta)\n",
      "swap = SwapContract(b, discount, swap_dates)\n",
      "swap2 = SwapContract(b, discount, swap_dates, 1)\n",
      "\n",
      "price0_0 = swap.price(0.)\n",
      "price1_0 = swap2.price(0.)\n",
      "\n",
      "print swap\n",
      "print swap2\n",
      "\n",
      "swaps = [swap, swap2]\n",
      "price0 = [price0_0, price1_0]\n",
      "\n",
      "print \"Price swap0 at t=0 = \",price0_0\n",
      "print \"Price swap1 at t=0 = \",price1_0"
     ],
     "language": "python",
     "metadata": {},
     "outputs": [
      {
       "output_type": "stream",
       "stream": "stdout",
       "text": [
        "Swap contract of maturity T = 5 years, over S^0 with strike K = 104.821, paying at {0.00, 0.25, 0.50, 0.75, 1.00, 1.25, 1.50, 1.75, 2.00, 2.25, 2.50, 2.75, 3.00, 3.25, 3.50, 3.75, 4.00, 4.25, 4.50, 4.75, 5.00}\n",
        "Swap contract of maturity T = 5 years, over S^1 with strike K = 104.821, paying at {0.00, 0.25, 0.50, 0.75, 1.00, 1.25, 1.50, 1.75, 2.00, 2.25, 2.50, 2.75, 3.00, 3.25, 3.50, 3.75, 4.00, 4.25, 4.50, 4.75, 5.00}\n",
        "Price swap0 at t=0 =  1.13686837722e-13\n",
        "Price swap1 at t=0 =  1.13686837722e-13\n"
       ]
      }
     ],
     "prompt_number": 5
    },
    {
     "cell_type": "code",
     "collapsed": false,
     "input": [
      "from risk.exposure import EuropeanQuantileBrownianExposure\n",
      "\n",
      "exposure_mpor = 1./12\n",
      "exposure_quantile = 0.99\n",
      "\n",
      "exposures = []\n",
      "for s in swaps:\n",
      "    index = s.underlying_index\n",
      "    drift = mu_s[index]\n",
      "    vol = sigma_s[index]\n",
      "    e = EuropeanQuantileBrownianExposure(s, exposure_mpor, drift, vol, exposure_quantile, discount)\n",
      "    \n",
      "    exposures.append(e)"
     ],
     "language": "python",
     "metadata": {},
     "outputs": [],
     "prompt_number": 6
    },
    {
     "cell_type": "code",
     "collapsed": false,
     "input": [
      "p_fixed = [100 for s in swaps]\n",
      "strikes = [s.strike for s in swaps]\n",
      "\n",
      "delta_times = [s.delta_time for s in swaps]\n",
      "discount_factors = [[discount(t) for t in s.pillars[1:]] for s in swaps]\n",
      "\n",
      "deltas_betas = [np.dot(d, df) for (d, df) in zip(delta_times, discount_factors)]\n",
      "\n",
      "notionals = np.divide(p_fixed, np.multiply(deltas_betas, strikes))\n",
      "print \"Notionals =\",notionals"
     ],
     "language": "python",
     "metadata": {},
     "outputs": [
      {
       "output_type": "stream",
       "stream": "stdout",
       "text": [
        "Notionals = [ 0.2010025  0.2010025]\n"
       ]
      }
     ],
     "prompt_number": 7
    },
    {
     "cell_type": "code",
     "collapsed": false,
     "input": [
      "from finance.portfolio import Portfolio\n",
      "\n",
      "members_quantities = np.array([[.5, 3],\n",
      "                              [-.5, 8]])\n",
      "\n",
      "notionals = [1, 1]\n",
      "members_positions = np.multiply(members_quantities, notionals).reshape(members_quantities.shape)\n",
      "print members_positions"
     ],
     "language": "python",
     "metadata": {},
     "outputs": [
      {
       "output_type": "stream",
       "stream": "stdout",
       "text": [
        "[[ 0.5  3. ]\n",
        " [-0.5  8. ]]\n"
       ]
      }
     ],
     "prompt_number": 8
    },
    {
     "cell_type": "code",
     "collapsed": false,
     "input": [
      "from finance.portfolio import Portfolio\n",
      "\n",
      "portfolio = Portfolio(members_positions, swaps, price0, exposures)\n",
      "\n",
      "print portfolio.amounts\n",
      "print portfolio.weights"
     ],
     "language": "python",
     "metadata": {},
     "outputs": [
      {
       "output_type": "stream",
       "stream": "stdout",
       "text": [
        "[3.5, 8.5]\n",
        "[[ 0.14285714  0.85714286]\n",
        " [-0.05882353  0.94117647]]\n"
       ]
      }
     ],
     "prompt_number": 9
    },
    {
     "cell_type": "code",
     "collapsed": false,
     "input": [
      "portfolio_at_time_0 = np.dot(members_positions, price0)\n",
      "print portfolio_at_time_0"
     ],
     "language": "python",
     "metadata": {},
     "outputs": [
      {
       "output_type": "stream",
       "stream": "stdout",
       "text": [
        "[  3.97903932e-13   8.52651283e-13]\n"
       ]
      }
     ],
     "prompt_number": 10
    },
    {
     "cell_type": "code",
     "collapsed": false,
     "input": [
      "print exposures[0](t=0, portfolio=portfolio)\n",
      "#print exposures[1](t=0, portfolio=portfolio)"
     ],
     "language": "python",
     "metadata": {},
     "outputs": [
      {
       "output_type": "stream",
       "stream": "stdout",
       "text": [
        "[[ 4.70298081]\n",
        " [ 1.79758969]]\n"
       ]
      }
     ],
     "prompt_number": 11
    },
    {
     "cell_type": "code",
     "collapsed": false,
     "input": [
      "# Exposure to the 1st swap for bank = 0 and counterparty = 1\n",
      "\n",
      "expo0 = swap.compute_brownian_quantile_price(0, exposure_mpor, 5, 10, exposure_quantile)*0.142857142857\n",
      "expo1 = swap.compute_brownian_quantile_price(0, exposure_mpor, 5, 10, exposure_quantile, -1.)*0.0588235294118"
     ],
     "language": "python",
     "metadata": {},
     "outputs": [],
     "prompt_number": 12
    },
    {
     "cell_type": "code",
     "collapsed": false,
     "input": [
      "# Exposure to the 2nd swap for bank = 0 and counterparty = 1\n",
      "\n",
      "expo0 += swap2.compute_brownian_quantile_price(0, exposure_mpor, 4, 6, exposure_quantile)*(1-0.142857142857)\n",
      "expo1 += swap2.compute_brownian_quantile_price(0, exposure_mpor, 4, 6, exposure_quantile)*(1-0.0588235294118)"
     ],
     "language": "python",
     "metadata": {},
     "outputs": [],
     "prompt_number": 13
    },
    {
     "cell_type": "code",
     "collapsed": false,
     "input": [
      "# multiplied by global notional\n",
      "\n",
      "print expo0*3.5\n",
      "print expo1*8.5"
     ],
     "language": "python",
     "metadata": {},
     "outputs": [
      {
       "output_type": "stream",
       "stream": "stdout",
       "text": [
        "75.953518426\n",
        "173.927740527\n"
       ]
      }
     ],
     "prompt_number": 14
    },
    {
     "cell_type": "code",
     "collapsed": false,
     "input": [
      "portfolio.compute_exposure(0)"
     ],
     "language": "python",
     "metadata": {},
     "outputs": [
      {
       "metadata": {},
       "output_type": "pyout",
       "prompt_number": 15,
       "text": [
        "array([[  75.95351843],\n",
        "       [ 173.92774053]])"
       ]
      }
     ],
     "prompt_number": 15
    }
   ],
   "metadata": {}
  }
 ]
}