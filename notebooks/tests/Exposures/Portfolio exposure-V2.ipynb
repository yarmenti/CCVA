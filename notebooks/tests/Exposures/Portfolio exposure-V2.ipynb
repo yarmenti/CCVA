{
 "metadata": {
  "name": "",
  "signature": "sha256:7cc4a446a690527f7c6e5410536fd11b4e0bc0fbbde314e32476ba5ca718d984"
 },
 "nbformat": 3,
 "nbformat_minor": 0,
 "worksheets": [
  {
   "cells": [
    {
     "cell_type": "code",
     "collapsed": false,
     "input": [
      "import sys\n",
      "\n",
      "sys.path.append('../../..')"
     ],
     "language": "python",
     "metadata": {},
     "outputs": [],
     "prompt_number": 1
    },
    {
     "cell_type": "code",
     "collapsed": false,
     "input": [
      "# Instead of taking 365 standard days or 252 trading days\n",
      "# in order to get some easy computations for the eqty and df time grids\n",
      "# I chose to take 360 days of tradings\n",
      "\n",
      "step = 1/360.\n",
      "\n",
      "# Moreover, we fix a $\\delta$ mpor (margin period of risk) of 5 days (like in the CCP case)\n",
      "mpor = 5*step"
     ],
     "language": "python",
     "metadata": {},
     "outputs": [],
     "prompt_number": 2
    },
    {
     "cell_type": "code",
     "collapsed": false,
     "input": [
      "from finance.discountfactor import ConstantRateDiscountFactor \n",
      "\n",
      "maturity = 5\n",
      "r = 0.02\n",
      "\n",
      "discount = ConstantRateDiscountFactor(r)"
     ],
     "language": "python",
     "metadata": {},
     "outputs": [],
     "prompt_number": 3
    },
    {
     "cell_type": "code",
     "collapsed": false,
     "input": [
      "import numpy as np\n",
      "from scipy.stats import norm\n",
      "from maths.montecarlo.process.brownianmotion import BrownianMotion\n",
      "\n",
      "time_grid = BrownianMotion.generate_time_grid(0, maturity, step)\n",
      "\n",
      "x_0 = [100, 100]\n",
      "mu_s = [5, 4]\n",
      "sigma_s = [10, 6]\n",
      "\n",
      "correl = [[1, 0], [0, 1]]\n",
      "\n",
      "b = BrownianMotion(x_0, mu_s, sigma_s, time_grid, correl)\n",
      "\n",
      "for i, (x0, m_, s_) in enumerate(zip(x_0, mu_s, sigma_s)):\n",
      "    print \"P(S_T^%d < 0) = %s\"%(i+1, norm.cdf(-(x0 + m_ * maturity)/(s_*np.sqrt(maturity))))"
     ],
     "language": "python",
     "metadata": {},
     "outputs": [
      {
       "output_type": "stream",
       "stream": "stdout",
       "text": [
        "P(S_T^1 < 0) = 1.13423742963e-08\n",
        "P(S_T^2 < 0) = 1.8720486921e-19\n"
       ]
      }
     ],
     "prompt_number": 4
    },
    {
     "cell_type": "code",
     "collapsed": false,
     "input": [
      "from finance.products.european.swap import (\n",
      "    SwapContract,\n",
      ")\n",
      "\n",
      "delta = 0.25\n",
      "\n",
      "swap_dates = SwapContract.generate_payment_dates(0, maturity, delta)\n",
      "swap = SwapContract(b, discount, swap_dates)\n",
      "swap2 = SwapContract(b, discount, swap_dates, 1)\n",
      "\n",
      "price0_0 = swap.price(0.)\n",
      "price1_0 = swap2.price(0.)\n",
      "\n",
      "print swap\n",
      "print swap2\n",
      "\n",
      "swaps = [swap, swap2]\n",
      "price0 = [price0_0, price1_0]\n",
      "\n",
      "print \"Price swap0 at t=0 = \",price0_0\n",
      "print \"Price swap1 at t=0 = \",price1_0"
     ],
     "language": "python",
     "metadata": {},
     "outputs": [
      {
       "output_type": "stream",
       "stream": "stdout",
       "text": [
        "Swap contract of maturity T = 5 years, over S^0 with strike K = 104.821, paying at {0.00, 0.25, 0.50, 0.75, 1.00, 1.25, 1.50, 1.75, 2.00, 2.25, 2.50, 2.75, 3.00, 3.25, 3.50, 3.75, 4.00, 4.25, 4.50, 4.75, 5.00}\n",
        "Swap contract of maturity T = 5 years, over S^1 with strike K = 104.821, paying at {0.00, 0.25, 0.50, 0.75, 1.00, 1.25, 1.50, 1.75, 2.00, 2.25, 2.50, 2.75, 3.00, 3.25, 3.50, 3.75, 4.00, 4.25, 4.50, 4.75, 5.00}\n",
        "Price swap0 at t=0 =  1.13686837722e-13\n",
        "Price swap1 at t=0 =  1.13686837722e-13\n"
       ]
      }
     ],
     "prompt_number": 5
    },
    {
     "cell_type": "heading",
     "level": 1,
     "metadata": {},
     "source": [
      "Exposure V2"
     ]
    },
    {
     "cell_type": "code",
     "collapsed": false,
     "input": [
      "from risk.exposure import EuropeanQuantileBrownianExposureV2\n",
      "\n",
      "exposure_mpor = 1./12\n",
      "exposure_quantile = 0.99\n",
      "\n",
      "exposures = []\n",
      "for s in swaps:    \n",
      "    index = s.underlying_index\n",
      "    drift = mu_s[index]\n",
      "    vol = sigma_s[index]\n",
      "    e = EuropeanQuantileBrownianExposureV2(s, discount, drift, vol)\n",
      "    \n",
      "    exposures.append(e)"
     ],
     "language": "python",
     "metadata": {},
     "outputs": [],
     "prompt_number": 6
    },
    {
     "cell_type": "code",
     "collapsed": false,
     "input": [
      "print exposures[0](t=0, risk_period=exposure_mpor, conf_level=0.99)\n",
      "print swap.compute_brownian_quantile_price(0, exposure_mpor, 5, 10, exposure_quantile)\n",
      "print swap.compute_brownian_quantile_price(0, exposure_mpor, 5, 10, exposure_quantile, -1)"
     ],
     "language": "python",
     "metadata": {},
     "outputs": [
      {
       "output_type": "stream",
       "stream": "stdout",
       "text": [
        "[ 32.9208657  -30.55902466]\n",
        "32.9208657036\n",
        "30.5590246589\n"
       ]
      }
     ],
     "prompt_number": 7
    },
    {
     "cell_type": "code",
     "collapsed": false,
     "input": [
      "print exposures[1](t=0, risk_period=exposure_mpor, conf_level=0.99)\n",
      "print swap.compute_brownian_quantile_price(0, exposure_mpor, 5, 10, exposure_quantile)\n",
      "print swap.compute_brownian_quantile_price(0, exposure_mpor, 4, 6, exposure_quantile, -1)"
     ],
     "language": "python",
     "metadata": {},
     "outputs": [
      {
       "output_type": "stream",
       "stream": "stdout",
       "text": [
        "[ 19.83102852 -18.25690569]\n",
        "32.9208657036\n",
        "18.2569056927\n"
       ]
      }
     ],
     "prompt_number": 8
    },
    {
     "cell_type": "code",
     "collapsed": false,
     "input": [
      "from finance.portfolio import EquilibratedPortfolio\n",
      "\n",
      "members_positions = [[1, 3],\n",
      "                     [1, 3],\n",
      "                     [-2, -6]]\n",
      "\n",
      "port = EquilibratedPortfolio(members_positions, swaps, exposures)"
     ],
     "language": "python",
     "metadata": {},
     "outputs": [],
     "prompt_number": 19
    },
    {
     "cell_type": "code",
     "collapsed": false,
     "input": [
      "port.compute_exposure(0, risk_period = 1./12, conf_level=0.99)"
     ],
     "language": "python",
     "metadata": {},
     "outputs": [
      {
       "metadata": {},
       "output_type": "pyout",
       "prompt_number": 20,
       "text": [
        "array([[  32.9208657 ,   59.49308557],\n",
        "       [  32.9208657 ,   59.49308557],\n",
        "       [  61.11804932,  109.54143416]])"
       ]
      }
     ],
     "prompt_number": 20
    },
    {
     "cell_type": "code",
     "collapsed": false,
     "input": [
      "port.compute_exposure_projection(2, 2)"
     ],
     "language": "python",
     "metadata": {},
     "outputs": [
      {
       "metadata": {},
       "output_type": "pyout",
       "prompt_number": 21,
       "text": [
        "array([ 0.,  0.])"
       ]
      }
     ],
     "prompt_number": 21
    },
    {
     "cell_type": "code",
     "collapsed": false,
     "input": [
      "port.compute_exposure_projection(2, 0)"
     ],
     "language": "python",
     "metadata": {},
     "outputs": [
      {
       "metadata": {},
       "output_type": "pyout",
       "prompt_number": 22,
       "text": [
        "array([ 0.5,  0.5])"
       ]
      }
     ],
     "prompt_number": 22
    },
    {
     "cell_type": "code",
     "collapsed": false,
     "input": [
      "port.compute_exposure_projection(2, 1)"
     ],
     "language": "python",
     "metadata": {},
     "outputs": [
      {
       "metadata": {},
       "output_type": "pyout",
       "prompt_number": 23,
       "text": [
        "array([ 0.5,  0.5])"
       ]
      }
     ],
     "prompt_number": 23
    },
    {
     "cell_type": "code",
     "collapsed": false,
     "input": [
      "members_positions = [[50, 100],\n",
      "                     [25, -99],\n",
      "                     [-75, -1]]\n",
      "\n",
      "port = EquilibratedPortfolio(members_positions, swaps, exposures)"
     ],
     "language": "python",
     "metadata": {},
     "outputs": [],
     "prompt_number": 24
    },
    {
     "cell_type": "code",
     "collapsed": false,
     "input": [
      "print port.compute_exposure_projection(2, 0)\n",
      "print port.compute_exposure_projection(2, 1)"
     ],
     "language": "python",
     "metadata": {},
     "outputs": [
      {
       "output_type": "stream",
       "stream": "stdout",
       "text": [
        "[ 0.66666667  1.        ]\n",
        "[ 0.33333333  0.        ]\n"
       ]
      }
     ],
     "prompt_number": 25
    },
    {
     "cell_type": "code",
     "collapsed": false,
     "input": [
      "print port.compute_exposure_projection(0, 1)\n",
      "print port.compute_exposure_projection(0, 2)"
     ],
     "language": "python",
     "metadata": {},
     "outputs": [
      {
       "output_type": "stream",
       "stream": "stdout",
       "text": [
        "[ 0.    0.99]\n",
        "[ 1.    0.01]\n"
       ]
      }
     ],
     "prompt_number": 26
    },
    {
     "cell_type": "code",
     "collapsed": false,
     "input": [
      "print port.compute_exposure_projection(1, 0)\n",
      "print port.compute_exposure_projection(1, 2)"
     ],
     "language": "python",
     "metadata": {},
     "outputs": [
      {
       "output_type": "stream",
       "stream": "stdout",
       "text": [
        "[ 0.  1.]\n",
        "[ 1.  0.]\n"
       ]
      }
     ],
     "prompt_number": 27
    },
    {
     "cell_type": "code",
     "collapsed": false,
     "input": [],
     "language": "python",
     "metadata": {},
     "outputs": [],
     "prompt_number": 17
    }
   ],
   "metadata": {}
  }
 ]
}