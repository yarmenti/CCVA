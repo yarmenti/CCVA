{
 "worksheets": [
  {
   "cells": [
    {
     "cell_type": "code",
     "metadata": {},
     "outputs": [],
     "input": [
      "import numpy as np\n",
      "\n",
      "M = np.array([[1., 2., 3.],\n",
      "              [4., 5., 6.]])"
     ],
     "language": "python",
     "prompt_number": 1
    },
    {
     "cell_type": "code",
     "metadata": {},
     "outputs": [
      {
       "output_type": "stream",
       "stream": "stdout",
       "text": [
        "[  6.  15.]\n",
        "6.0\n"
       ]
      }
     ],
     "input": [
      "amounts = (np.absolute(M)).sum(axis = 1).T\n",
      "print amounts\n",
      "print amounts[0]"
     ],
     "language": "python",
     "prompt_number": 7
    },
    {
     "cell_type": "code",
     "metadata": {},
     "outputs": [
      {
       "output_type": "stream",
       "stream": "stdout",
       "text": [
        "1.0\n"
       ]
      }
     ],
     "input": [
      "M = np.array([[1.],\n",
      "              [4.]])\n",
      "\n",
      "aa = (np.absolute(M)).sum(axis = 1).T\n",
      "print aa[0]"
     ],
     "language": "python",
     "prompt_number": 21
    },
    {
     "cell_type": "code",
     "metadata": {},
     "outputs": [
      {
       "output_type": "stream",
       "stream": "stdout",
       "text": [
        "[[ 1.]\n",
        " [ 4.]]\n",
        "[ 1.  4.]\n"
       ]
      },
      {
       "output_type": "pyout",
       "prompt_number": 29,
       "text": [
        "array([[ 1.,  1.]])"
       ],
       "metadata": {}
      }
     ],
     "input": [
      "print M.astype(float)\n",
      "print np.sum(np.absolute(M), axis=1)\n",
      "\n",
      "np.divide(M.astype(float).T, np.sum(np.absolute(M), axis=1))"
     ],
     "language": "python",
     "prompt_number": 29
    },
    {
     "cell_type": "code",
     "metadata": {},
     "outputs": [
      {
       "output_type": "stream",
       "stream": "stdout",
       "text": [
        "[[  1.   2.  98.]\n",
        " [  4.   3.  23.]]\n",
        "[[ 101.   30.]]\n",
        "[[ 0.00990099  0.01980198  0.97029703]\n",
        " [ 0.13333333  0.1         0.76666667]]\n"
       ]
      }
     ],
     "input": [
      "M = np.array([[1., 2., 98.],\n",
      "              [4., 3., 23.]])\n",
      "\n",
      "print M.astype(float)\n",
      "print np.sum(np.absolute(M), axis=1).reshape(1, 2)\n",
      "\n",
      "print np.divide(M.astype(float), np.sum(np.absolute(M), axis=1).reshape(2, 1))"
     ],
     "language": "python",
     "prompt_number": 36
    },
    {
     "cell_type": "code",
     "metadata": {},
     "outputs": [],
     "input": [
      ""
     ],
     "language": "python"
    }
   ]
  }
 ],
 "cells": [],
 "metadata": {
  "name": "",
  "signature": "sha256:f6cbca5a9cd18dfe4bf90efafd39f213b3ba05a8bc9f63505dcc81182cdc3dd4"
 },
 "nbformat": 3,
 "nbformat_minor": 0
}