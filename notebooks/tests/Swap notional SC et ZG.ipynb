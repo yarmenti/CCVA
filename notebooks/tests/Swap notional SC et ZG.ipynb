{
 "metadata": {
  "name": "",
  "signature": "sha256:856d6787b4bf01066113e631f7d91a479f8270f6ba66b3200b4fb1615fef2f2a"
 },
 "nbformat": 3,
 "nbformat_minor": 0,
 "worksheets": [
  {
   "cells": [
    {
     "cell_type": "code",
     "collapsed": false,
     "input": [
      "import sys\n",
      "\n",
      "sys.path.append('../..')"
     ],
     "language": "python",
     "metadata": {},
     "outputs": [],
     "prompt_number": 1
    },
    {
     "cell_type": "code",
     "collapsed": false,
     "input": [
      "from finance.discountfactor import ConstantRateDiscountFactor  \n",
      "\n",
      "df = ConstantRateDiscountFactor(0.03)"
     ],
     "language": "python",
     "metadata": {},
     "outputs": [],
     "prompt_number": 2
    },
    {
     "cell_type": "code",
     "collapsed": false,
     "input": [
      "from maths.montecarlo.process.brownianmotion import BrownianMotion\n",
      "\n",
      "h = 1./360\n",
      "time_grid = BrownianMotion.generate_time_grid(0, 2, h)\n",
      "\n",
      "x0 = [100.]\n",
      "drift = [2.]\n",
      "vol = [20.]\n",
      "\n",
      "process = BrownianMotion(x0, drift, vol, time_grid)"
     ],
     "language": "python",
     "metadata": {},
     "outputs": [],
     "prompt_number": 3
    },
    {
     "cell_type": "code",
     "collapsed": false,
     "input": [
      "from finance.products.european.swap import SwapContract\n",
      "\n",
      "dates = [0.25*i for i in range(4)]\n",
      "\n",
      "swap = SwapContract(process, df, dates)"
     ],
     "language": "python",
     "metadata": {},
     "outputs": [],
     "prompt_number": 4
    },
    {
     "cell_type": "code",
     "collapsed": false,
     "input": [
      "swap.strike"
     ],
     "language": "python",
     "metadata": {},
     "outputs": [
      {
       "metadata": {},
       "output_type": "pyout",
       "prompt_number": 5,
       "text": [
        "100.75093045565227"
       ]
      }
     ],
     "prompt_number": 5
    },
    {
     "cell_type": "markdown",
     "metadata": {},
     "source": [
      "In the paper of Cr\u00e9pey, Gerboud, Grbac and Ngor [Counterparty risk and funding:\n",
      "the four wings of the TVA](http://grozny.maths.univ-evry.fr/pages_perso/crepey/papers/CVA-Wings.pdf), they compute the TVA on a swap with the following parameters (see section 4.4 Numerics):\n",
      "\n",
      ">We choose a swap notional of $N = 310.136066$\\$ so that the fixed leg of the swap is worth $100$\\$ at inception\n",
      "\n",
      "Let us compute the same way the notional such that the fixed leg is equal to $100$ \\$.\n",
      "\n",
      "\\begin{align*}\n",
      "P_{fixed} &=& N \\times \\sum_{k=1}^{N} \\Delta_{T_k} \\beta_{T_k} K \\\\\n",
      "&=& (N \\times K )\\sum_{k=1}^{N} \\Delta_{T_k} \\beta_{T_k}\n",
      "\\end{align*}\n",
      "\n",
      "with:\n",
      "- $\\Delta_{T_k} = T_{k} - T_{k-1}$\n",
      "- $\\beta_{t} = \\exp(-\\int_{0}^{t} r_s ds)$\n",
      "\n",
      "Thus:\n",
      "\n",
      "\\begin{equation*}\n",
      "N = \\frac{P_{fixed}}{K \\times \\sum_{k=1}^{N} \\Delta_{T_k} \\beta_{T_k}}\n",
      "\\end{equation*}"
     ]
    },
    {
     "cell_type": "code",
     "collapsed": false,
     "input": [
      "deltas = swap.delta_time\n",
      "print deltas"
     ],
     "language": "python",
     "metadata": {},
     "outputs": [
      {
       "output_type": "stream",
       "stream": "stdout",
       "text": [
        "[ 0.25  0.25  0.25]\n"
       ]
      }
     ],
     "prompt_number": 6
    },
    {
     "cell_type": "code",
     "collapsed": false,
     "input": [
      "df_pillars = [df(t) for t in dates[1:]]\n",
      "print df_pillars"
     ],
     "language": "python",
     "metadata": {},
     "outputs": [
      {
       "output_type": "stream",
       "stream": "stdout",
       "text": [
        "[0.99252805481913842, 0.98511193960306265, 0.97775123719333634]\n"
       ]
      }
     ],
     "prompt_number": 7
    },
    {
     "cell_type": "code",
     "collapsed": false,
     "input": [
      "import numpy as np\n",
      "\n",
      "coeff = np.dot(deltas, df_pillars)"
     ],
     "language": "python",
     "metadata": {},
     "outputs": [],
     "prompt_number": 8
    },
    {
     "cell_type": "code",
     "collapsed": false,
     "input": [
      "N = 100. / (swap.strike * coeff)\n",
      "print N"
     ],
     "language": "python",
     "metadata": {},
     "outputs": [
      {
       "output_type": "stream",
       "stream": "stdout",
       "text": [
        "1.34337092726\n"
       ]
      }
     ],
     "prompt_number": 9
    },
    {
     "cell_type": "code",
     "collapsed": false,
     "input": [
      "print \"P_fixed = \",N * swap.strike * coeff"
     ],
     "language": "python",
     "metadata": {},
     "outputs": [
      {
       "output_type": "stream",
       "stream": "stdout",
       "text": [
        "P_fixed =  100.0\n"
       ]
      }
     ],
     "prompt_number": 10
    }
   ],
   "metadata": {}
  }
 ]
}