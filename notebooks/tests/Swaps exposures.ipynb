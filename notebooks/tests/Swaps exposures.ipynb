{
 "metadata": {
  "name": "",
  "signature": "sha256:a64c2807024d74f86d4e5957b9656e0c2de5ade01e18ffe6404a627aeee8b92e"
 },
 "nbformat": 3,
 "nbformat_minor": 0,
 "worksheets": [
  {
   "cells": [
    {
     "cell_type": "heading",
     "level": 1,
     "metadata": {},
     "source": [
      "Swaps exposures"
     ]
    },
    {
     "cell_type": "code",
     "collapsed": false,
     "input": [
      "import sys\n",
      "\n",
      "sys.path.append('../..')"
     ],
     "language": "python",
     "metadata": {},
     "outputs": [],
     "prompt_number": 1
    },
    {
     "cell_type": "code",
     "collapsed": false,
     "input": [
      "from finance.discountfactor import ConstantRateDiscountFactor \n",
      "\n",
      "r = 0.02\n",
      "discount = ConstantRateDiscountFactor(r)"
     ],
     "language": "python",
     "metadata": {},
     "outputs": [],
     "prompt_number": 2
    },
    {
     "cell_type": "code",
     "collapsed": false,
     "input": [
      "import numpy as np\n",
      "from scipy.stats import norm\n",
      "from maths.montecarlo.process.brownianmotion import BrownianMotion\n",
      "\n",
      "maturity = 5.\n",
      "step = 1./360\n",
      "time_grid = BrownianMotion.generate_time_grid(0, maturity, step)\n",
      "\n",
      "x_0 = [100]\n",
      "mu_s = [5]\n",
      "sigma_s = [10]\n",
      "\n",
      "b = BrownianMotion(x_0, mu_s, sigma_s, time_grid)\n",
      "\n",
      "for i, (x0, m_, s_) in enumerate(zip(x_0, mu_s, sigma_s)):\n",
      "    print \"P(S_T^%d < 0) = %s\"%(i+1, norm.cdf(-(x0 + m_ * maturity)/(s_*np.sqrt(maturity))))"
     ],
     "language": "python",
     "metadata": {},
     "outputs": [
      {
       "output_type": "stream",
       "stream": "stdout",
       "text": [
        "P(S_T^1 < 0) = 1.13423742963e-08\n"
       ]
      }
     ],
     "prompt_number": 3
    },
    {
     "cell_type": "code",
     "collapsed": false,
     "input": [
      "from finance.products.european.swap import (\n",
      "    SwapContract,\n",
      ")\n",
      "\n",
      "delta = 0.25\n",
      "coupon_dates = SwapContract.generate_payment_dates(0, maturity, delta)\n",
      "\n",
      "swap = SwapContract(b, discount, coupon_dates)\n",
      "print swap"
     ],
     "language": "python",
     "metadata": {},
     "outputs": [
      {
       "output_type": "stream",
       "stream": "stdout",
       "text": [
        "Swap contract of maturity T = 5 years, over S^0 with strike K = 104.821, paying at {0.00, 0.25, 0.50, 0.75, 1.00, 1.25, 1.50, 1.75, 2.00, 2.25, 2.50, 2.75, 3.00, 3.25, 3.50, 3.75, 4.00, 4.25, 4.50, 4.75, 5.00}\n"
       ]
      }
     ],
     "prompt_number": 4
    },
    {
     "cell_type": "code",
     "collapsed": false,
     "input": [
      "from risk.exposure import EuropeanQuantileBrownianExposure\n",
      "\n",
      "exposure_mpor = 1./360\n",
      "exposure_quantile = 0.99\n",
      "\n",
      "exposure = EuropeanQuantileBrownianExposure(swap, exposure_mpor, \n",
      "                                            mu_s[0], sigma_s[0], \n",
      "                                            exposure_quantile, discount)"
     ],
     "language": "python",
     "metadata": {},
     "outputs": [],
     "prompt_number": 5
    },
    {
     "cell_type": "code",
     "collapsed": false,
     "input": [
      "from finance.portfolio import Portfolio\n",
      "\n",
      "portfolio = Portfolio([[1.]], [swap], [0])"
     ],
     "language": "python",
     "metadata": {},
     "outputs": [],
     "prompt_number": 6
    },
    {
     "cell_type": "code",
     "collapsed": false,
     "input": [
      "exposures = [exposure(t=t, portfolio=portfolio)[0, 0] for t in time_grid]"
     ],
     "language": "python",
     "metadata": {},
     "outputs": [],
     "prompt_number": 7
    },
    {
     "cell_type": "code",
     "collapsed": false,
     "input": [
      "import matplotlib.pyplot as plt\n",
      "\n",
      "plt.plot(time_grid, exposures)\n",
      "plt.show()"
     ],
     "language": "python",
     "metadata": {},
     "outputs": [],
     "prompt_number": 8
    },
    {
     "cell_type": "code",
     "collapsed": false,
     "input": [],
     "language": "python",
     "metadata": {},
     "outputs": [],
     "prompt_number": 8
    }
   ],
   "metadata": {}
  }
 ]
}