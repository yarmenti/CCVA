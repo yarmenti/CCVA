{
 "metadata": {
  "name": "",
  "signature": "sha256:d0cd3ea8807f795b698cad8f07a6bc6d5bbd6b628628b57867cd66e765f8cc3b"
 },
 "nbformat": 3,
 "nbformat_minor": 0,
 "worksheets": [
  {
   "cells": [
    {
     "cell_type": "code",
     "collapsed": false,
     "input": [
      "import types\n",
      " \n",
      "class Sender(object):\n",
      "    \"\"\"\n",
      "    Sender -> dispatches messages to interested callables \n",
      "    \"\"\"\n",
      "    def __init__(self):\n",
      "        self.listeners = {}\n",
      "              \n",
      "         \n",
      "    def register(self,listener,events=None):\n",
      "        \"\"\"\n",
      "        register a listener function\n",
      "         \n",
      "        Parameters\n",
      "        -----------\n",
      "        listener : external listener function\n",
      "        events  : tuple or list of relevant events (default=None)\n",
      "        \"\"\"\n",
      "        if events is not None and type(events) not in (types.TupleType,types.ListType):\n",
      "            events = (events,)\n",
      "              \n",
      "        self.listeners[listener] = events\n",
      "         \n",
      "    def dispatch(self,event=None, msg=None):\n",
      "        \"\"\"notify listeners \"\"\"\n",
      "        for listener,events in self.listeners.items():\n",
      "            if events is None or event is None or event in events:\n",
      "                try:\n",
      "                    listener(self,event,msg)\n",
      "                except (Exception,):\n",
      "                    self.unregister(listener)\n",
      "                    errmsg = \"Exception in message dispatch: Handler '{0}' unregistered for event '{1}'  \".format(listener.func_name,event)\n",
      "                    self.logger.exception(errmsg)\n",
      "             \n",
      "    def unregister(self,listener):\n",
      "        \"\"\" unregister listener function \"\"\"\n",
      "        del self.listeners[listener]             \n",
      "                    \n",
      "#---------------test functions--------------\n",
      " \n",
      "class ExampleListener(object):\n",
      "    def __init__(self,name=None):\n",
      "        self.name = name\n",
      "     \n",
      "    def method(self,sender,event,msg=None):\n",
      "        print \"[{0}] got event {1} with message {2}\".format(self.name,event,msg)"
     ],
     "language": "python",
     "metadata": {},
     "outputs": [],
     "prompt_number": 3
    },
    {
     "cell_type": "code",
     "collapsed": false,
     "input": [
      "print 'demonstrating event system'\n",
      "\n",
      "alice = Sender()\n",
      "bob = ExampleListener('bob')\n",
      "charlie = ExampleListener('charlie')\n",
      "dave = ExampleListener('dave')\n",
      "\n",
      "# add subscribers to messages from alice\n",
      "alice.register(bob.method,events='event1') # listen to 'event1'\n",
      "alice.register(charlie.method,events ='event2') # listen to 'event2'\n",
      "alice.register(dave.method) # listen to all events\n",
      "\n",
      "# dispatch some events\n",
      "alice.dispatch(event='event1')\n",
      "alice.dispatch(event='event2',msg=[1,2,3])\n",
      "alice.dispatch(msg='attention to all')\n",
      "     \n",
      "print 'Done.'"
     ],
     "language": "python",
     "metadata": {},
     "outputs": [
      {
       "output_type": "stream",
       "stream": "stdout",
       "text": [
        "demonstrating event system\n",
        "[bob] got event event1 with message None\n",
        "[dave] got event event1 with message None\n",
        "[charlie] got event event2 with message [1, 2, 3]\n",
        "[dave] got event event2 with message [1, 2, 3]\n",
        "[charlie] got event None with message attention to all\n",
        "[bob] got event None with message attention to all\n",
        "[dave] got event None with message attention to all\n",
        "Done.\n"
       ]
      }
     ],
     "prompt_number": 4
    },
    {
     "cell_type": "code",
     "collapsed": false,
     "input": [],
     "language": "python",
     "metadata": {},
     "outputs": []
    },
    {
     "cell_type": "code",
     "collapsed": false,
     "input": [],
     "language": "python",
     "metadata": {},
     "outputs": []
    },
    {
     "cell_type": "code",
     "collapsed": false,
     "input": [
      "class Observable(object):\n",
      " \n",
      "    def __init__(self):\n",
      "        self.observers = []\n",
      " \n",
      "    def register(self, observer):\n",
      "        if not observer in self.observers:\n",
      "            self.observers.append(observer)\n",
      " \n",
      "    def unregister(self, observer):\n",
      "        if observer in self.observers:\n",
      "            self.observers.remove(observer)\n",
      " \n",
      "    def unregister_all(self):\n",
      "        if self.observers:\n",
      "            del self.observers[:]\n",
      " \n",
      "    def update_observers(self, *args, **kwargs):\n",
      "        for observer in self.observers:\n",
      "            observer.update(*args, **kwargs)"
     ],
     "language": "python",
     "metadata": {},
     "outputs": [],
     "prompt_number": 5
    },
    {
     "cell_type": "code",
     "collapsed": false,
     "input": [
      "from abc import ABCMeta, abstractmethod\n",
      " \n",
      "class Observer(object):\n",
      "    __metaclass__ = ABCMeta\n",
      " \n",
      "    @abstractmethod\n",
      "    def update(self, *args, **kwargs):\n",
      "        pass"
     ],
     "language": "python",
     "metadata": {},
     "outputs": [],
     "prompt_number": 6
    },
    {
     "cell_type": "code",
     "collapsed": false,
     "input": [
      "class AmericanStockMarket(Observer):\n",
      "    def update(self, *args, **kwargs):\n",
      "        print(\"American stock market received: {0}\\n{1}\".format(args, kwargs))\n",
      " \n",
      " \n",
      "class EuropeanStockMarket(Observer):\n",
      "    def update(self, *args, **kwargs):\n",
      "        print(\"European stock market received: {0}\\n{1}\".format(args, kwargs))"
     ],
     "language": "python",
     "metadata": {},
     "outputs": [],
     "prompt_number": 8
    },
    {
     "cell_type": "code",
     "collapsed": false,
     "input": [
      "observable = Observable()\n",
      "\n",
      "american_observer = AmericanStockMarket()\n",
      "observable.register(american_observer)\n",
      " \n",
      "european_observer = EuropeanStockMarket()\n",
      "observable.register(european_observer)\n",
      " \n",
      "observable.update_observers('Market Rally', something='Hello World')"
     ],
     "language": "python",
     "metadata": {},
     "outputs": [
      {
       "output_type": "stream",
       "stream": "stdout",
       "text": [
        "American stock market received: ('Market Rally',)\n",
        "{'something': 'Hello World'}\n",
        "European stock market received: ('Market Rally',)\n",
        "{'something': 'Hello World'}\n"
       ]
      }
     ],
     "prompt_number": 10
    },
    {
     "cell_type": "code",
     "collapsed": false,
     "input": [],
     "language": "python",
     "metadata": {},
     "outputs": []
    }
   ],
   "metadata": {}
  }
 ]
}