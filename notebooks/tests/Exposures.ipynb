{
 "metadata": {
  "name": "",
  "signature": "sha256:29a354fe6361a605a0c116e9271b62995c59436dff1748159a588fcf124fd033"
 },
 "nbformat": 3,
 "nbformat_minor": 0,
 "worksheets": [
  {
   "cells": [
    {
     "cell_type": "code",
     "collapsed": false,
     "input": [
      "from maths.montecarlo.constantpath import ConstantPath\n",
      "\n",
      "from finance.products.european.future import FutureContract    \n",
      "from finance.products.european.forward import ForwardContract\n",
      "from finance.discountfactor import ConstantRateDiscountFactor  \n",
      "\n",
      "from ccp.regulation.exposure import *\n",
      "        \n",
      "from ccp.portfolio import CCPPortfolio\n",
      "    \n",
      "time_grid = ConstantPath.generate_time_grid(0, 2, 0.1)\n",
      "x0 = [0.3, 0.35, 0.4]    \n",
      "process = ConstantPath(x0, time_grid)\n",
      "    \n",
      "df = ConstantRateDiscountFactor(0.03)    "
     ],
     "language": "python",
     "metadata": {},
     "outputs": [],
     "prompt_number": 1
    },
    {
     "cell_type": "code",
     "collapsed": false,
     "input": [
      "# Futures    \n",
      "\n",
      "T1 = 1.5\n",
      "future = FutureContract(process, df, T1)\n",
      "pfuture0 = future.price(0)\n",
      "exposure_future = FutureQuantileExposure(1, 0, 1, 0.99, df)    "
     ],
     "language": "python",
     "metadata": {},
     "outputs": [],
     "prompt_number": 2
    },
    {
     "cell_type": "code",
     "collapsed": false,
     "input": [
      "# Expected price:\n",
      "# P_0 = beta(0) / beta(T) * S_0\n",
      "# = 1 / exp(-0.03 * 1.5) * 0.3\n",
      "# = 0.3 * exp(0.03*1.5)\n",
      "\n",
      "import numpy as np\n",
      "\n",
      "print pfuture0 == 0.3*np.exp(0.03*1.5)\n",
      "print\n",
      "\n",
      "# exposure:\n",
      "# w=1, t=0, h=1, mu=0, vol=1, alpha=0.99\n",
      "# E_0^1 = 1 * ( exp(-0.03)/exp(-0.03*1.5) * (0.3 + 0 + 1*qinv) ) - p0\n",
      "# = exp(-0.03)/exp(-0.03*1.5) * (0.3 + qinv) - p0\n",
      "\n",
      "from finance.products.european.future import ind_future_brownian_quantile  \n",
      "from scipy.stats import norm\n",
      "\n",
      "print ind_future_brownian_quantile(0, 1., 0, 1., 0.99, future, 1., df) == \\\n",
      "np.exp(-0.03)/np.exp(-0.03*1.5) * (0.3 + norm.ppf(0.99) ) - 0.3*np.exp(0.03*1.5)\n",
      "\n",
      "#Test symmetry:\n",
      "print \\\n",
      "-ind_future_brownian_quantile(0, 1., 0, 1., 0.01, future, -1., df) == \\\n",
      "ind_future_brownian_quantile(0, 1., 0, 1., 0.99, future, 1., df)"
     ],
     "language": "python",
     "metadata": {},
     "outputs": [
      {
       "output_type": "stream",
       "stream": "stdout",
       "text": [
        "True\n",
        "\n",
        "True\n",
        "True\n"
       ]
      }
     ],
     "prompt_number": 3
    },
    {
     "cell_type": "code",
     "collapsed": false,
     "input": [
      "# Forwards\n",
      "    \n",
      "T2 = 1.6\n",
      "K = 0.1\n",
      "forward = ForwardContract(process, df, T2, K, 1)\n",
      "pforward0 = forward.price(0)    \n",
      "exposure_forward = ForwardQuantileExposure(1, 0, 1, 0.99, df)    "
     ],
     "language": "python",
     "metadata": {},
     "outputs": [],
     "prompt_number": 4
    },
    {
     "cell_type": "code",
     "collapsed": false,
     "input": [
      "# Expected price:\n",
      "# P_0 = S_0 - K*beta(T) / beta(0)\n",
      "# = 0.35 - 0.1 * exp(-0.03*1.6)\n",
      "\n",
      "import numpy as np\n",
      "\n",
      "print pforward0 == 0.35 - 0.1 * np.exp(-0.03*1.6)\n",
      "print\n",
      "\n",
      "# exposure:\n",
      "# w=1, t=0, h=1, mu=0, vol=1, alpha=0.99\n",
      "# E_0^1 = 1 * (1 * qinv + 0 + K bT (bth - bt)/(bth bt)\n",
      "# = qinv + 0.1 * exp(-0.03*1.6) * (exp(-0.03) - 1) /exp(-0.03)\n",
      "\n",
      "from finance.products.european.forward import ind_forward_brownian_quantile  \n",
      "\n",
      "print ind_forward_brownian_quantile(0, 1., 0, 1., 0.99, forward, 1., df) == \\\n",
      "norm.ppf(0.99) + 0.1 * np.exp(-0.03*1.6) * (np.exp(-0.03) - 1) / np.exp(-0.03)\n",
      "\n",
      "print \\\n",
      "-ind_forward_brownian_quantile(0, 1., 0, 1., 0.01, forward, -1., df) == \\\n",
      "ind_forward_brownian_quantile(0, 1., 0, 1., 0.99, forward, 1., df)"
     ],
     "language": "python",
     "metadata": {},
     "outputs": [
      {
       "output_type": "stream",
       "stream": "stdout",
       "text": [
        "True\n",
        "\n",
        "True\n",
        "True\n"
       ]
      }
     ],
     "prompt_number": 5
    },
    {
     "cell_type": "code",
     "collapsed": false,
     "input": [
      "positions = [[10, 5], [5, -3], [-15, -2]]\n",
      "\n",
      "derivatives = [future, forward]\n",
      "prices = [pfuture0, pforward0]\n",
      "exposures = [exposure_future, exposure_forward]\n",
      "        \n",
      "port = CCPPortfolio(positions, derivatives, prices, exposures)\n",
      "\n",
      "#print port.compute_exposure(0)  \n",
      "\n",
      "exp_future_pos = ind_future_brownian_quantile(0, 1., 0, 1., 0.99, future, 1., df)\n",
      "exp_future_neg = ind_future_brownian_quantile(0, 1., 0, 1., 0.99, future, -1., df)\n",
      "\n",
      "exp_forward_pos = ind_forward_brownian_quantile(0, 1., 0, 1., 0.99, forward, 1., df)\n",
      "exp_forward_neg = ind_forward_brownian_quantile(0, 1., 0, 1., 0.99, forward, -1., df)\n",
      "\n",
      "expo_fut_test_01 = exp_future_pos * np.array([2./3, 5./8])\n",
      "expo_fut_test_2 = exp_future_neg * np.array([15./17])\n",
      "\n",
      "expo_for_test_0 = exp_forward_pos * np.array([1./3])\n",
      "expo_for_test_12 = exp_forward_neg * np.array([3./8, 2./17])\n",
      "\n",
      "print expo_fut_test_01, expo_fut_test_2\n",
      "print \n",
      "print expo_for_test_0, expo_for_test_12\n",
      "print\n",
      "print port.compute_exposure(0)"
     ],
     "language": "python",
     "metadata": {},
     "outputs": [
      {
       "output_type": "stream",
       "stream": "stdout",
       "text": [
        "[ 1.56815445  1.4701448 ] [ 2.0918652]\n",
        "\n",
        "[ 0.77448172] [ 0.87346897  0.27402948]\n",
        "\n"
       ]
      },
      {
       "ename": "KeyError",
       "evalue": "'risk_period'",
       "output_type": "pyerr",
       "traceback": [
        "\u001b[1;31m---------------------------------------------------------------------------\u001b[0m\n\u001b[1;31mKeyError\u001b[0m                                  Traceback (most recent call last)",
        "\u001b[1;32m<ipython-input-6-623567528b9e>\u001b[0m in \u001b[0;36m<module>\u001b[1;34m()\u001b[0m\n\u001b[0;32m     25\u001b[0m \u001b[1;32mprint\u001b[0m \u001b[0mexpo_for_test_0\u001b[0m\u001b[1;33m,\u001b[0m \u001b[0mexpo_for_test_12\u001b[0m\u001b[1;33m\u001b[0m\u001b[0m\n\u001b[0;32m     26\u001b[0m \u001b[1;32mprint\u001b[0m\u001b[1;33m\u001b[0m\u001b[0m\n\u001b[1;32m---> 27\u001b[1;33m \u001b[1;32mprint\u001b[0m \u001b[0mport\u001b[0m\u001b[1;33m.\u001b[0m\u001b[0mcompute_exposure\u001b[0m\u001b[1;33m(\u001b[0m\u001b[1;36m0\u001b[0m\u001b[1;33m)\u001b[0m\u001b[1;33m\u001b[0m\u001b[0m\n\u001b[0m",
        "\u001b[1;32mD:\\Spyder\\workspace\\CCVA\\ccp\\portfolio.pyc\u001b[0m in \u001b[0;36mcompute_exposure\u001b[1;34m(self, t)\u001b[0m\n\u001b[0;32m     26\u001b[0m         \u001b[0mtmp\u001b[0m \u001b[1;33m=\u001b[0m \u001b[0mnp\u001b[0m\u001b[1;33m.\u001b[0m\u001b[0mzeros\u001b[0m\u001b[1;33m(\u001b[0m\u001b[1;33m(\u001b[0m\u001b[0mself\u001b[0m\u001b[1;33m.\u001b[0m\u001b[0mcm_number\u001b[0m\u001b[1;33m,\u001b[0m \u001b[1;36m1\u001b[0m\u001b[1;33m)\u001b[0m\u001b[1;33m)\u001b[0m\u001b[1;33m\u001b[0m\u001b[0m\n\u001b[0;32m     27\u001b[0m         \u001b[1;32mfor\u001b[0m \u001b[0mi\u001b[0m\u001b[1;33m,\u001b[0m \u001b[0me\u001b[0m \u001b[1;32min\u001b[0m \u001b[0menumerate\u001b[0m\u001b[1;33m(\u001b[0m\u001b[0mself\u001b[0m\u001b[1;33m.\u001b[0m\u001b[0m_exposures_\u001b[0m\u001b[1;33m)\u001b[0m\u001b[1;33m:\u001b[0m\u001b[1;33m\u001b[0m\u001b[0m\n\u001b[1;32m---> 28\u001b[1;33m             \u001b[0mtmp\u001b[0m \u001b[1;33m+=\u001b[0m \u001b[0me\u001b[0m\u001b[1;33m(\u001b[0m\u001b[0mt\u001b[0m\u001b[1;33m,\u001b[0m \u001b[0mself\u001b[0m\u001b[1;33m,\u001b[0m \u001b[0mi\u001b[0m\u001b[1;33m)\u001b[0m\u001b[1;33m\u001b[0m\u001b[0m\n\u001b[0m\u001b[0;32m     29\u001b[0m \u001b[1;33m\u001b[0m\u001b[0m\n\u001b[0;32m     30\u001b[0m         \u001b[1;32mreturn\u001b[0m \u001b[0mtmp\u001b[0m\u001b[1;33m\u001b[0m\u001b[0m\n",
        "\u001b[1;32mD:\\Spyder\\workspace\\CCVA\\ccp\\regulation\\exposure.py\u001b[0m in \u001b[0;36m__call__\u001b[1;34m(self, t, portfolio, derivative_index, **kwargs)\u001b[0m\n\u001b[0;32m     76\u001b[0m         \u001b[0mweights\u001b[0m \u001b[1;33m=\u001b[0m \u001b[0mportfolio\u001b[0m\u001b[1;33m.\u001b[0m\u001b[0mweights\u001b[0m\u001b[1;33m[\u001b[0m\u001b[1;33m:\u001b[0m\u001b[1;33m,\u001b[0m \u001b[0mderivative_index\u001b[0m\u001b[1;33m]\u001b[0m\u001b[1;33m\u001b[0m\u001b[0m\n\u001b[0;32m     77\u001b[0m \u001b[1;33m\u001b[0m\u001b[0m\n\u001b[1;32m---> 78\u001b[1;33m         \u001b[0mrisk_period\u001b[0m \u001b[1;33m=\u001b[0m \u001b[0mkwargs\u001b[0m\u001b[1;33m[\u001b[0m\u001b[1;34m'risk_period'\u001b[0m\u001b[1;33m]\u001b[0m \u001b[1;32mif\u001b[0m \u001b[0mkwargs\u001b[0m\u001b[1;33m[\u001b[0m\u001b[1;34m'risk_period'\u001b[0m\u001b[1;33m]\u001b[0m \u001b[1;32melse\u001b[0m \u001b[0mself\u001b[0m\u001b[1;33m.\u001b[0m\u001b[0m_risk_period_\u001b[0m\u001b[1;33m\u001b[0m\u001b[0m\n\u001b[0m\u001b[0;32m     79\u001b[0m \u001b[1;33m\u001b[0m\u001b[0m\n\u001b[0;32m     80\u001b[0m         \u001b[0mconf_level\u001b[0m \u001b[1;33m=\u001b[0m \u001b[0mkwargs\u001b[0m\u001b[1;33m[\u001b[0m\u001b[1;34m'conf_level'\u001b[0m\u001b[1;33m]\u001b[0m \u001b[1;32mif\u001b[0m \u001b[0mkwargs\u001b[0m\u001b[1;33m[\u001b[0m\u001b[1;34m'conf_level'\u001b[0m\u001b[1;33m]\u001b[0m \u001b[1;32melse\u001b[0m \u001b[0mself\u001b[0m\u001b[1;33m.\u001b[0m\u001b[0m_conf_level_\u001b[0m\u001b[1;33m\u001b[0m\u001b[0m\n",
        "\u001b[1;31mKeyError\u001b[0m: 'risk_period'"
       ]
      }
     ],
     "prompt_number": 6
    },
    {
     "cell_type": "code",
     "collapsed": false,
     "input": [
      "print 1.56815445 + 0.77448172  \n",
      "print 1.4701448 +  0.87346897\n",
      "print 2.0918652 + 0.27402948"
     ],
     "language": "python",
     "metadata": {},
     "outputs": []
    },
    {
     "cell_type": "heading",
     "level": 1,
     "metadata": {},
     "source": [
      "Pr\u00e9mices pour $K_{CCP}$"
     ]
    },
    {
     "cell_type": "code",
     "collapsed": false,
     "input": [
      "exposure = port.compute_exposure(0)\n",
      "for e in exposure.flat:\n",
      "    print e"
     ],
     "language": "python",
     "metadata": {},
     "outputs": []
    },
    {
     "cell_type": "heading",
     "level": 1,
     "metadata": {},
     "source": [
      "For the brownian motion with drift and vol"
     ]
    },
    {
     "cell_type": "code",
     "collapsed": false,
     "input": [
      "%matplotlib inline\n",
      "from maths.montecarlo.process.brownianmotion import BrownianMotion\n",
      "\n",
      "x0 = [0., 0.]\n",
      "drift = [0., 0.]\n",
      "vol = [1., 1.2]\n",
      "\n",
      "correl_matrix = [[1, 1], [1, 1]]\n",
      "\n",
      "h = 1./360\n",
      "time = BrownianMotion.generate_time_grid(0, 2, h)\n",
      "\n",
      "b = BrownianMotion(x0, drift, vol, time, correl_matrix)\n",
      "b.plot()"
     ],
     "language": "python",
     "metadata": {},
     "outputs": []
    },
    {
     "cell_type": "raw",
     "metadata": {},
     "source": [
      "[[ 0.52579936  1.05159871]\n",
      " [ 1.04419915  2.08839829]\n",
      " [ 0.3873459   0.77469179]\n",
      " [-0.09272738 -0.18545476]\n",
      " [-1.40044191 -2.80088383]\n",
      " [-0.15829949 -0.31659898]\n",
      " [ 0.86538981  1.73077963]\n",
      " [-0.44017105 -0.88034211]\n",
      " [-1.63385307 -3.26770614]\n",
      " [ 0.97420176  1.94840352]]\n",
      "\n",
      "+\n",
      "\n",
      "[[ 0.1  0.3]\n",
      " [ 0.1  0.3]\n",
      " [ 0.1  0.3]\n",
      " [ 0.1  0.3]\n",
      " [ 0.1  0.3]\n",
      " [ 0.1  0.3]\n",
      " [ 0.1  0.3]\n",
      " [ 0.1  0.3]\n",
      " [ 0.1  0.3]\n",
      " [ 0.1  0.3]]\n",
      "\n",
      "=\n",
      "\n",
      "[[ 0.62579936  1.35159871]\n",
      " [ 1.14419915  2.38839829]\n",
      " [ 0.4873459   1.07469179]\n",
      " [ 0.00727262  0.11454524]\n",
      " [-1.30044191 -2.50088383]\n",
      " [-0.05829949 -0.01659898]\n",
      " [ 0.96538981  2.03077963]\n",
      " [-0.34017105 -0.58034211]\n",
      " [-1.53385307 -2.96770614]\n",
      " [ 1.07420176  2.24840352]]"
     ]
    }
   ],
   "metadata": {}
  }
 ]
}