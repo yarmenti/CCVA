{
 "metadata": {
  "name": "",
  "signature": "sha256:493992ea06a0e877d1379e7f59b5bf33ee5f03dc8f49ae96134134820e195f06"
 },
 "nbformat": 3,
 "nbformat_minor": 0,
 "worksheets": [
  {
   "cells": [
    {
     "cell_type": "heading",
     "level": 1,
     "metadata": {},
     "source": [
      "Notes"
     ]
    },
    {
     "cell_type": "markdown",
     "metadata": {},
     "source": [
      "This notebook will contain some notes of the following papers\n",
      "\n",
      "- [An Explanatory Note on the Basel II IRB Risk Weight Functions](http://www.bis.org/bcbs/irbriskweight.pdf)  \n",
      "- [The standardised approach for measuring counterparty credit risk exposures](http://www.bis.org/publ/bcbs279.pdf)\n",
      "- [Comparing Alternate Methods for Calculating CVA Capital Charges under Basel III](http://www.garp.org/media/1110535/whitepaper_cvacapitalcalculation_121812.pdf)\n",
      "\n",
      ">The Expected Loss of a portfolio is assumed to equal the proportion of obligors that might default within a \n",
      "given time frame (1 year in the Basel context), multiplied by the outstanding exposure at default, and once more multiplied by the loss given default rate (i.e. the percentage of exposure that will not be recovered by sale of collateral etc.\n",
      "\n",
      ">The three factors mentioned above correspond to the risk parameters upon which the Basel II IRB approach is built:  \n",
      "- probability of default (PD) per rating grade, which gives the average percentage of obligors that default in this rating grade in the course of one year\n",
      "- exposure at default (EAD), which gives an estimate of the amount outstanding (drawn amounts plus likely future drawdowns of yet undrawn lines) in case the borrower defaults\n",
      "- loss given default (LGD), which gives the percentage of exposure the bank might lose in case the borrower defaults. These losses are usually shown as a percentage of EAD, and depend, amongst others, on the type and amount of collateral as well as the type of borrower and the expected proceeds from the work-out of the assets.  \n",
      "\n",
      "\\begin{equation*}\n",
      "\\text{EL} = \\text{PD} \\times \\text{EAD} \\times \\text{LGD}\n",
      "\\end{equation*}"
     ]
    },
    {
     "cell_type": "markdown",
     "metadata": {},
     "source": [
      "The Capital regulatory formula is given by:\n",
      "\n",
      "\\begin{equation*}\n",
      "\\text{K} = \\text{LGD} \\times \\left( \n",
      "            \\Phi \\left( \n",
      "                \\frac{\\Phi^{-1} \\left( \\text{PD} \\right)}{\\sqrt{1-\\text{R}}}\n",
      "                + \\sqrt{\\frac{\\text{R}}{1-\\text{R}}} \\times \\Phi^{-1}(0.999)\n",
      "            \\right) \n",
      "            - \\text{PD} \\right)\n",
      "        \\times \\frac{1 + ( \\text{M} - 2.5) \\times \\text{b(PD)}}{1 - 1.5 \\times \\text{b(PD)}}\n",
      "\\end{equation*}\n",
      "\n",
      "where:\n",
      "\n",
      "- $\\Phi$ is the CDF of the standard normal distribution\n",
      "- $\\text{R}$ is the assets - counterparties correlation\n",
      "    - $\\text{R(PD)} = 0.12 \\frac{1-e^{-50 \\times PD}}{1-e^{-50}} + 0.24 \\frac{1 - (1 - e^{-50 \\times PD})}{1-e^{-50}}$\n",
      "- $\\text{M}$ is the maturity of the asset\n",
      "    - $\\text{M} = \\min(5.0, \\max(1.0, \\frac{\\sum_{i=1}^N m_i \\, N_i}{\\sum_{i=1}^N N_i})$\n",
      "- $\\text{b}$ is the smoothed (regression) maturity adjustment (smoothed over PDs)\n",
      "    - $\\text{b}(x) = \\Big( 0.11852 - 0.05478 \\times \\ln x \\Big)^2$"
     ]
    },
    {
     "cell_type": "markdown",
     "metadata": {},
     "source": [
      "The Exposure at default ($EAD$) is given by:\n",
      "\n",
      "\\begin{equation*}\n",
      "\\text{EAD} = 1.4 \\times (\\text{RC} + \\text{PFE})\n",
      "\\end{equation*}\n",
      "\n",
      "with:\n",
      "\n",
      "- $\\text{RC}$ the replacement cost\n",
      "- $\\text{PFE}$ the amount for potential future exposure\n",
      "\n",
      "In the code, we will put a $\\text{PFE}$ value to $0$ (too much complicated to handle the different derivatives). Moreover, instead of using the BCBS valuation for the $\\text{RC}$, we will use $\\text{RC} = (\\text{V} - \\text{Collat})^+$ (see $\\S$ 139-145 of 2nd reference above)\n",
      "Thus, in our framework,\n",
      "\n",
      "\\begin{equation*}\n",
      "\\text{EAD} = 1.4 \\times (\\text{V}-\\text{Collat})^+\n",
      "\\end{equation*}"
     ]
    },
    {
     "cell_type": "markdown",
     "metadata": {},
     "source": [
      "Finally, the $RWA$ is given by: $RWA = 12,5 \\times EAD \\times K$"
     ]
    }
   ],
   "metadata": {}
  }
 ]
}