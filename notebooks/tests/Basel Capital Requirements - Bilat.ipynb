{
 "metadata": {
  "name": "",
  "signature": "sha256:458c524eb63cc6ec51cb27fe88ec6e6d4a89a62c94b705f77aebf64764c8bee3"
 },
 "nbformat": 3,
 "nbformat_minor": 0,
 "worksheets": [
  {
   "cells": [
    {
     "cell_type": "heading",
     "level": 1,
     "metadata": {},
     "source": [
      "Notes"
     ]
    },
    {
     "cell_type": "markdown",
     "metadata": {},
     "source": [
      "This notebook will contain some notes of the following papers\n",
      "\n",
      "- [An Explanatory Note on the Basel II IRB Risk Weight Functions](http://www.bis.org/bcbs/irbriskweight.pdf)  \n",
      "- [Comparing Alternate Methods for Calculating CVA Capital Charges under Basel III](http://www.garp.org/media/1110535/whitepaper_cvacapitalcalculation_121812.pdf)\n",
      "\n",
      ">The Expected Loss of a portfolio is assumed to equal the proportion of obligors that might default within a \n",
      "given time frame (1 year in the Basel context), multiplied by the outstanding exposure at default, and once more multiplied by the loss given default rate (i.e. the percentage of exposure that will not be recovered by sale of collateral etc.\n",
      "\n",
      ">The three factors mentioned above correspond to the risk parameters upon which the Basel II IRB approach is built:  \n",
      "- probability of default (PD) per rating grade, which gives the average percentage of obligors that default in this rating grade in the course of one year\n",
      "- exposure at default (EAD), which gives an estimate of the amount outstanding (drawn amounts plus likely future drawdowns of yet undrawn lines) in case the borrower defaults\n",
      "- loss given default (LGD), which gives the percentage of exposure the bank might lose in case the borrower defaults. These losses are usually shown as a percentage of EAD, and depend, amongst others, on the type and amount of collateral as well as the type of borrower and the expected proceeds from the work-out of the assets.  \n",
      "\n",
      "\\begin{equation*}\n",
      "EL = PD \\times EAD \\times LGD\n",
      "\\end{equation*}"
     ]
    },
    {
     "cell_type": "markdown",
     "metadata": {},
     "source": [
      "The Capital regulatory formula is given by:\n",
      "\n",
      "\\begin{equation*}\n",
      "K = \\left(  LGD \\times \n",
      "            \\Phi \\left( \n",
      "                (1-R)^{-0.5} \\Phi^{-1} \\left( PD \\right)            \n",
      "                + \\left( \\frac{R}{1-R} \\right)^{0.5} \\times \\Phi^{-1}(0.999)\n",
      "            \\right) \n",
      "            - PD \\times LGD\n",
      "    \\right)\n",
      "    \\times \\left( 1 - 1.5 \\times b(PD) \\right)^{-1}\n",
      "    \\times \\left( 1 + ( M - 2.5) \\times b(PD) \\right)\n",
      "\\end{equation*}\n",
      "\n",
      "which is:\n",
      "\n",
      "\\begin{equation*}\n",
      "K = LGD \\times \\left( \n",
      "            \\Phi \\left( \n",
      "                \\frac{\\Phi^{-1} \\left( PD \\right)}{\\sqrt{1-R}}\n",
      "                + \\sqrt{\\frac{R}{1-R}} \\times \\Phi^{-1}(0.999)\n",
      "            \\right) \n",
      "            - PD \\right)\n",
      "        \\times \\frac{1 + ( M - 2.5) \\times b(PD)}{1 - 1.5 \\times b(PD)}\n",
      "\\end{equation*}\n",
      "\n",
      "where:\n",
      "\n",
      "- $\\Phi$ is the CDF of the standard normal distribution\n",
      "- $R$ is the assets - counterparties correlation \n",
      "- $M$ is the maturity of the asset\n",
      "- $b$ is the smoothed (regression) maturity adjustment (smoothed over PDs)\n",
      "    - $b(x) = \\Big( 0.11852 - 0.05478 \\times \\ln x \\Big)^2$"
     ]
    },
    {
     "cell_type": "heading",
     "level": 1,
     "metadata": {},
     "source": [
      "Code"
     ]
    },
    {
     "cell_type": "code",
     "collapsed": false,
     "input": [
      "import sys\n",
      "\n",
      "sys.path.append('../..')"
     ],
     "language": "python",
     "metadata": {},
     "outputs": [],
     "prompt_number": 18
    },
    {
     "cell_type": "heading",
     "level": 2,
     "metadata": {},
     "source": [
      "Discount factor"
     ]
    },
    {
     "cell_type": "code",
     "collapsed": false,
     "input": [
      "from finance.discountfactor import ConstantRateDiscountFactor  \n",
      "\n",
      "df = ConstantRateDiscountFactor(0.03)"
     ],
     "language": "python",
     "metadata": {},
     "outputs": [],
     "prompt_number": 19
    },
    {
     "cell_type": "heading",
     "level": 2,
     "metadata": {},
     "source": [
      "Underlying"
     ]
    },
    {
     "cell_type": "code",
     "collapsed": false,
     "input": [
      "from maths.montecarlo.process.brownianmotion import BrownianMotion\n",
      "\n",
      "h = 1./360\n",
      "time_grid = BrownianMotion.generate_time_grid(0, 10, h)\n",
      "\n",
      "x0 = [100.]\n",
      "drift = [2.]\n",
      "vol = [20.]\n",
      "\n",
      "process = BrownianMotion(x0, drift, vol, time_grid)"
     ],
     "language": "python",
     "metadata": {},
     "outputs": [],
     "prompt_number": 20
    },
    {
     "cell_type": "heading",
     "level": 2,
     "metadata": {},
     "source": [
      "Swap"
     ]
    },
    {
     "cell_type": "code",
     "collapsed": false,
     "input": [
      "from finance.products.european.swap import SwapContract\n",
      "\n",
      "coupon_dates = [0.25*i for i in range(21)]\n",
      "print coupon_dates\n",
      "\n",
      "swap = SwapContract(process, df, coupon_dates)"
     ],
     "language": "python",
     "metadata": {},
     "outputs": [
      {
       "output_type": "stream",
       "stream": "stdout",
       "text": [
        "[0.0, 0.25, 0.5, 0.75, 1.0, 1.25, 1.5, 1.75, 2.0, 2.25, 2.5, 2.75, 3.0, 3.25, 3.5, 3.75, 4.0, 4.25, 4.5, 4.75, 5.0]\n"
       ]
      }
     ],
     "prompt_number": 21
    },
    {
     "cell_type": "heading",
     "level": 2,
     "metadata": {},
     "source": [
      "Notional"
     ]
    },
    {
     "cell_type": "code",
     "collapsed": false,
     "input": [
      "import numpy as np\n",
      "\n",
      "p_fixed = 100\n",
      "strike = swap.strike\n",
      "\n",
      "delta_times = swap.delta_time\n",
      "discount_factors = [df(t) for t in swap.pillars[1:]]\n",
      "\n",
      "deltas_betas = np.dot(delta_times, discount_factors)\n",
      "\n",
      "notional = p_fixed / (deltas_betas*strike)\n",
      "print notional"
     ],
     "language": "python",
     "metadata": {},
     "outputs": [
      {
       "output_type": "stream",
       "stream": "stdout",
       "text": [
        "0.201505639089\n"
       ]
      }
     ],
     "prompt_number": 22
    },
    {
     "cell_type": "heading",
     "level": 2,
     "metadata": {},
     "source": [
      "Defaultable model"
     ]
    },
    {
     "cell_type": "code",
     "collapsed": false,
     "input": [
      "from credit.default_probability import FlatIntensity\n",
      "\n",
      "# lambda = 125 bps\n",
      "intensity = 125*1e-4\n",
      "default_model = FlatIntensity(intensity)"
     ],
     "language": "python",
     "metadata": {},
     "outputs": [],
     "prompt_number": 23
    },
    {
     "cell_type": "heading",
     "level": 2,
     "metadata": {},
     "source": [
      "Risk capital"
     ]
    },
    {
     "cell_type": "code",
     "collapsed": false,
     "input": [
      "from risk.basel import BaselSwapRegulatoryCapital\n",
      "\n",
      "R = 0.4\n",
      "basel_k = BaselSwapRegulatoryCapital(swap, recovery=0.4, default_proba=default_model)"
     ],
     "language": "python",
     "metadata": {},
     "outputs": [],
     "prompt_number": 24
    },
    {
     "cell_type": "code",
     "collapsed": false,
     "input": [
      "print basel_k._recovery_\n",
      "print basel_k._dp_model_"
     ],
     "language": "python",
     "metadata": {},
     "outputs": [
      {
       "output_type": "stream",
       "stream": "stdout",
       "text": [
        "0.4\n",
        "<credit.default_probability.FlatIntensity object at 0x0000000014217C88>\n"
       ]
      }
     ],
     "prompt_number": 25
    },
    {
     "cell_type": "code",
     "collapsed": false,
     "input": [
      "basel_k.compute_regulatory_capital()"
     ],
     "language": "python",
     "metadata": {},
     "outputs": [
      {
       "metadata": {},
       "output_type": "pyout",
       "prompt_number": 26,
       "text": [
        "0.24261965301904984"
       ]
      }
     ],
     "prompt_number": 26
    },
    {
     "cell_type": "code",
     "collapsed": false,
     "input": [
      "time_expo = 1.0\n",
      "\n",
      "ead = swap.compute_brownian_quantile_price(0, time_expo, drift[0], vol[0], 0.95, notional)"
     ],
     "language": "python",
     "metadata": {},
     "outputs": [],
     "prompt_number": 27
    },
    {
     "cell_type": "code",
     "collapsed": false,
     "input": [
      "basel_k.compute_rwa(ead)"
     ],
     "language": "python",
     "metadata": {},
     "outputs": [
      {
       "metadata": {},
       "output_type": "pyout",
       "prompt_number": 28,
       "text": [
        "81.08351190287793"
       ]
      }
     ],
     "prompt_number": 28
    },
    {
     "cell_type": "code",
     "collapsed": false,
     "input": [],
     "language": "python",
     "metadata": {},
     "outputs": []
    }
   ],
   "metadata": {}
  }
 ]
}