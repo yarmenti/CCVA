{
 "metadata": {
  "name": "",
  "signature": "sha256:e5044ed6702e5ddd6bf2da756c65047c986929f2d3e513dc98e541e61d7c440a"
 },
 "nbformat": 3,
 "nbformat_minor": 0,
 "worksheets": [
  {
   "cells": [
    {
     "cell_type": "code",
     "collapsed": false,
     "input": [
      "import sys\n",
      "\n",
      "sys.path.append('../..')"
     ],
     "language": "python",
     "metadata": {},
     "outputs": [],
     "prompt_number": 1
    },
    {
     "cell_type": "code",
     "collapsed": false,
     "input": [
      "# Instead of taking 365 standard days or 252 trading days\n",
      "# in order to get some easy computations for the eqty and df time grids\n",
      "# I chose to take 360 days of tradings\n",
      "\n",
      "step = 1/360.\n",
      "\n",
      "# Moreover, we fix a $\\delta$ mpor (margin period of risk) of 5 days (like in the CCP case)\n",
      "mpor = 5*step"
     ],
     "language": "python",
     "metadata": {},
     "outputs": [],
     "prompt_number": 2
    },
    {
     "cell_type": "code",
     "collapsed": false,
     "input": [
      "from finance.discountfactor import ConstantRateDiscountFactor \n",
      "\n",
      "maturity = 5\n",
      "r = 0.02\n",
      "\n",
      "discount = ConstantRateDiscountFactor(r)"
     ],
     "language": "python",
     "metadata": {},
     "outputs": [],
     "prompt_number": 3
    },
    {
     "cell_type": "code",
     "collapsed": false,
     "input": [
      "import numpy as np\n",
      "from scipy.stats import norm\n",
      "from maths.montecarlo.process.brownianmotion import BrownianMotion\n",
      "\n",
      "time_grid = BrownianMotion.generate_time_grid(0, maturity, step)\n",
      "\n",
      "x_0 = [100, 100]\n",
      "mu_s = [5, 4]\n",
      "sigma_s = [10, 6]\n",
      "\n",
      "correl = [[1, 0], [0, 1]]\n",
      "\n",
      "b = BrownianMotion(x_0, mu_s, sigma_s, time_grid, correl)\n",
      "\n",
      "for i, (x0, m_, s_) in enumerate(zip(x_0, mu_s, sigma_s)):\n",
      "    print \"P(S_T^%d < 0) = %s\"%(i+1, norm.cdf(-(x0 + m_ * maturity)/(s_*np.sqrt(maturity))))"
     ],
     "language": "python",
     "metadata": {},
     "outputs": [
      {
       "output_type": "stream",
       "stream": "stdout",
       "text": [
        "P(S_T^1 < 0) = 1.13423742963e-08\n",
        "P(S_T^2 < 0) = 1.8720486921e-19\n"
       ]
      }
     ],
     "prompt_number": 4
    },
    {
     "cell_type": "code",
     "collapsed": false,
     "input": [
      "from finance.products.european.swap import (\n",
      "    SwapContract,\n",
      ")\n",
      "\n",
      "delta = 0.25\n",
      "\n",
      "swap_dates = SwapContract.generate_payment_dates(0, maturity, delta)\n",
      "swap = SwapContract(b, discount, swap_dates)\n",
      "swap2 = SwapContract(b, discount, swap_dates, 1)\n",
      "\n",
      "price0_0 = swap.price(0.)\n",
      "price1_0 = swap2.price(0.)\n",
      "\n",
      "print swap\n",
      "print swap2\n",
      "\n",
      "swaps = [swap, swap2]\n",
      "price0 = [price0_0, price1_0]\n",
      "\n",
      "print \"Price swap0 at t=0 = \",price0_0\n",
      "print \"Price swap1 at t=0 = \",price1_0"
     ],
     "language": "python",
     "metadata": {},
     "outputs": [
      {
       "output_type": "stream",
       "stream": "stdout",
       "text": [
        "Swap contract of maturity T = 5 years, over S^0 with strike K = 104.821, paying at {0.00, 0.25, 0.50, 0.75, 1.00, 1.25, 1.50, 1.75, 2.00, 2.25, 2.50, 2.75, 3.00, 3.25, 3.50, 3.75, 4.00, 4.25, 4.50, 4.75, 5.00}\n",
        "Swap contract of maturity T = 5 years, over S^1 with strike K = 104.821, paying at {0.00, 0.25, 0.50, 0.75, 1.00, 1.25, 1.50, 1.75, 2.00, 2.25, 2.50, 2.75, 3.00, 3.25, 3.50, 3.75, 4.00, 4.25, 4.50, 4.75, 5.00}\n",
        "Price swap0 at t=0 =  1.13686837722e-13\n",
        "Price swap1 at t=0 =  1.13686837722e-13\n"
       ]
      }
     ],
     "prompt_number": 5
    },
    {
     "cell_type": "code",
     "collapsed": false,
     "input": [
      "from risk.exposure import EuropeanQuantileBrownianExposure\n",
      "\n",
      "exposures = []\n",
      "for s in swaps:\n",
      "    index = s.underlying_index\n",
      "    drift = mu_s[index]\n",
      "    vol = sigma_s[index]\n",
      "    e = EuropeanQuantileBrownianExposure(s, discount, drift, vol)\n",
      "    \n",
      "    exposures.append(e)"
     ],
     "language": "python",
     "metadata": {},
     "outputs": [],
     "prompt_number": 6
    },
    {
     "cell_type": "code",
     "collapsed": false,
     "input": [
      "p_fixed = [100 for s in swaps]\n",
      "strikes = [s.strike for s in swaps]\n",
      "\n",
      "delta_times = [s.delta_time for s in swaps]\n",
      "discount_factors = [[discount(t) for t in s.pillars[1:]] for s in swaps]\n",
      "\n",
      "deltas_betas = [np.dot(d, df) for (d, df) in zip(delta_times, discount_factors)]\n",
      "\n",
      "notionals = np.divide(p_fixed, np.multiply(deltas_betas, strikes))\n",
      "print \"Notionals =\",notionals"
     ],
     "language": "python",
     "metadata": {},
     "outputs": [
      {
       "output_type": "stream",
       "stream": "stdout",
       "text": [
        "Notionals = [ 0.2010025  0.2010025]\n"
       ]
      }
     ],
     "prompt_number": 7
    },
    {
     "cell_type": "code",
     "collapsed": false,
     "input": [
      "from finance.portfolio import Portfolio\n",
      "\n",
      "members_quantities = np.array([[.5, 3],\n",
      "                              [-.5, 8]])\n",
      "\n",
      "members_positions = np.multiply(members_quantities, notionals).reshape(members_quantities.shape)\n",
      "print members_positions"
     ],
     "language": "python",
     "metadata": {},
     "outputs": [
      {
       "output_type": "stream",
       "stream": "stdout",
       "text": [
        "[[ 0.10050125  0.60300751]\n",
        " [-0.10050125  1.60802003]]\n"
       ]
      }
     ],
     "prompt_number": 8
    },
    {
     "cell_type": "code",
     "collapsed": false,
     "input": [
      "from finance.portfolio import Portfolio\n",
      "\n",
      "portfolio = Portfolio(members_positions, swaps, exposures)\n",
      "\n",
      "print portfolio.weights\n",
      "print\n",
      "print .5/3.5, 3./3.5\n",
      "print .5/8.5, 8./8.5\n",
      "print\n",
      "print 0.10050125/(0.10050125+0.60300751), 0.60300751/(0.10050125+0.60300751)\n",
      "print 0.10050125/(0.10050125+1.60802003), 1.60802003/(0.10050125+1.60802003)"
     ],
     "language": "python",
     "metadata": {},
     "outputs": [
      {
       "output_type": "stream",
       "stream": "stdout",
       "text": [
        "[[ 0.14285714  0.85714286]\n",
        " [ 0.05882353  0.94117647]]\n",
        "\n",
        "0.142857142857 0.857142857143\n",
        "0.0588235294118 0.941176470588\n",
        "\n",
        "0.142857140827 0.857142859173\n",
        "0.0588235283789 0.941176471621\n"
       ]
      }
     ],
     "prompt_number": 9
    },
    {
     "cell_type": "code",
     "collapsed": false,
     "input": [
      "portfolio_at_time_0 = np.dot(members_positions, price0)\n",
      "print portfolio_at_time_0"
     ],
     "language": "python",
     "metadata": {},
     "outputs": [
      {
       "output_type": "stream",
       "stream": "stdout",
       "text": [
        "[  7.99796868e-14   1.71385043e-13]\n"
       ]
      }
     ],
     "prompt_number": 10
    },
    {
     "cell_type": "code",
     "collapsed": false,
     "input": [
      "exposure_mpor = 1./12\n",
      "exposure_quantile = 0.99\n",
      "\n",
      "expo0 = exposures[0](t=1, risk_period=exposure_mpor, conf_level=exposure_quantile)\n",
      "expo1 = exposures[1](t=1, risk_period=exposure_mpor, conf_level=exposure_quantile)\n",
      "\n",
      "print \"     d=1      |     d=-1\"\n",
      "print \"___________________________\"\n",
      "print expo0\n",
      "print expo1"
     ],
     "language": "python",
     "metadata": {},
     "outputs": [
      {
       "output_type": "stream",
       "stream": "stdout",
       "text": [
        "     d=1      |     d=-1\n",
        "___________________________\n",
        "[ 25.99511496 -24.12058796]\n",
        "[ 15.65541097 -14.41401078]\n"
       ]
      }
     ],
     "prompt_number": 11
    },
    {
     "cell_type": "code",
     "collapsed": false,
     "input": [
      "print members_positions[0][0]*expo0[0], members_positions[0][1]*expo1[0]\n",
      "print members_positions[1][0]*expo0[1], members_positions[1][1]*expo1[0]"
     ],
     "language": "python",
     "metadata": {},
     "outputs": [
      {
       "output_type": "stream",
       "stream": "stdout",
       "text": [
        "2.61254160171 9.44033042883\n",
        "2.42414929069 25.1742144769\n"
       ]
      }
     ],
     "prompt_number": 12
    },
    {
     "cell_type": "code",
     "collapsed": false,
     "input": [
      "print portfolio.compute_exposure(1, risk_period=exposure_mpor, conf_level=exposure_quantile)"
     ],
     "language": "python",
     "metadata": {},
     "outputs": [
      {
       "output_type": "stream",
       "stream": "stdout",
       "text": [
        "[[  2.6125416    9.44033043]\n",
        " [  2.42414929  25.17421448]]\n"
       ]
      }
     ],
     "prompt_number": 13
    },
    {
     "cell_type": "code",
     "collapsed": false,
     "input": [
      "exps = [exposures[0](t=t, risk_period=exposure_mpor, conf_level=0.99) for t in time_grid]"
     ],
     "language": "python",
     "metadata": {},
     "outputs": [],
     "prompt_number": 14
    },
    {
     "cell_type": "code",
     "collapsed": false,
     "input": [
      "%matplotlib inline\n",
      "import matplotlib.pyplot as plt\n",
      "\n",
      "plt.plot(time_grid, exps)\n",
      "plt.show()"
     ],
     "language": "python",
     "metadata": {},
     "outputs": [
      {
       "metadata": {},
       "output_type": "display_data",
       "png": "[encoded data removed]",
       "text": [
        "<matplotlib.figure.Figure at 0x13df9550>"
       ]
      }
     ],
     "prompt_number": 15
    },
    {
     "cell_type": "code",
     "collapsed": false,
     "input": [
      "portfolio = Portfolio([[1.]], [swaps[0]], [exposures[0]])\n",
      "\n",
      "port_exp = [portfolio.compute_exposure(t=t, risk_period=exposure_mpor, conf_level=0.99) for t in time_grid]"
     ],
     "language": "python",
     "metadata": {},
     "outputs": [],
     "prompt_number": 16
    },
    {
     "cell_type": "code",
     "collapsed": false,
     "input": [
      "single_expo = [ex[0] for ex in exps]\n",
      "prt_expo = [p[0, 0] for p in port_exp]\n",
      "\n",
      "plt.plot(time_grid, single_expo, time_grid, prt_expo)\n",
      "plt.show()"
     ],
     "language": "python",
     "metadata": {},
     "outputs": [
      {
       "metadata": {},
       "output_type": "display_data",
       "png": "[encoded data removed]",
       "text": [
        "<matplotlib.figure.Figure at 0x13f6b160>"
       ]
      }
     ],
     "prompt_number": 17
    },
    {
     "cell_type": "code",
     "collapsed": false,
     "input": [
      "from finance.portfolio import EquilibratedPortfolio\n",
      "\n",
      "pos = np.array([[0.5, 3],\n",
      "                [-0.7, -3],\n",
      "                [0.2, 0]])\n",
      "\n",
      "port = EquilibratedPortfolio(pos, swaps, exposures)"
     ],
     "language": "python",
     "metadata": {},
     "outputs": [],
     "prompt_number": 18
    },
    {
     "cell_type": "code",
     "collapsed": false,
     "input": [
      "try:\n",
      "    port.compute_exposure_projection(2, 2)\n",
      "except Exception, e:\n",
      "    print e"
     ],
     "language": "python",
     "metadata": {},
     "outputs": [],
     "prompt_number": 19
    },
    {
     "cell_type": "code",
     "collapsed": false,
     "input": [
      "print port.compute_exposure_projection(0, 0)\n",
      "print port.compute_exposure_projection(0, 1)\n",
      "print port.compute_exposure_projection(0, 2)"
     ],
     "language": "python",
     "metadata": {},
     "outputs": [
      {
       "output_type": "stream",
       "stream": "stdout",
       "text": [
        "[ 0.  0.]\n",
        "[ 1.  1.]\n",
        "[ 0.  0.]\n"
       ]
      }
     ],
     "prompt_number": 20
    },
    {
     "cell_type": "code",
     "collapsed": false,
     "input": [
      "print port.compute_exposure_projection(1, 0)\n",
      "print port.compute_exposure_projection(1, 1)\n",
      "print port.compute_exposure_projection(1, 2)"
     ],
     "language": "python",
     "metadata": {},
     "outputs": [
      {
       "output_type": "stream",
       "stream": "stdout",
       "text": [
        "[ 0.71428571  1.        ]\n",
        "[ 0.  0.]\n",
        "[ 0.28571429  0.        ]\n"
       ]
      }
     ],
     "prompt_number": 21
    },
    {
     "cell_type": "code",
     "collapsed": false,
     "input": [
      "print port.compute_exposure_projection(2, 0)\n",
      "print port.compute_exposure_projection(2, 1)\n",
      "print port.compute_exposure_projection(2, 2)"
     ],
     "language": "python",
     "metadata": {},
     "outputs": [
      {
       "output_type": "stream",
       "stream": "stdout",
       "text": [
        "[ 0.  1.]\n",
        "[ 1.  1.]\n",
        "[ 0.  0.]\n"
       ]
      }
     ],
     "prompt_number": 22
    },
    {
     "cell_type": "code",
     "collapsed": false,
     "input": [],
     "language": "python",
     "metadata": {},
     "outputs": [],
     "prompt_number": 22
    }
   ],
   "metadata": {}
  }
 ]
}