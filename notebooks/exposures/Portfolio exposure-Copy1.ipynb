{
 "cells": [
  {
   "cell_type": "code",
   "execution_count": 1,
   "metadata": {
    "collapsed": false
   },
   "outputs": [],
   "source": [
    "import sys\n",
    "\n",
    "sys.path.append('../..')"
   ]
  },
  {
   "cell_type": "code",
   "execution_count": 2,
   "metadata": {
    "collapsed": false
   },
   "outputs": [],
   "source": [
    "# Instead of taking 365 standard days or 252 trading days\n",
    "# in order to get some easy computations for the eqty and df time grids\n",
    "# I chose to take 360 days of tradings\n",
    "\n",
    "step = 1/360.\n",
    "\n",
    "# Moreover, we fix a $\\delta$ mpor (margin period of risk) of 5 days (like in the CCP case)\n",
    "mpor = 5*step"
   ]
  },
  {
   "cell_type": "code",
   "execution_count": 3,
   "metadata": {
    "collapsed": false
   },
   "outputs": [],
   "source": [
    "from finance.discountfactor import ConstantRateDiscountFactor \n",
    "\n",
    "maturity = 5\n",
    "r = 0.02\n",
    "\n",
    "discount = ConstantRateDiscountFactor(r)"
   ]
  },
  {
   "cell_type": "code",
   "execution_count": 4,
   "metadata": {
    "collapsed": false
   },
   "outputs": [
    {
     "name": "stdout",
     "output_type": "stream",
     "text": [
      "[ 100.  100.]\n",
      "[[ 100.]\n",
      " [ 100.]]\n"
     ]
    }
   ],
   "source": [
    "import numpy as np\n",
    "from scipy.stats import norm\n",
    "from maths.montecarlo.processes.brownianmotions import BrownianMotion\n",
    "\n",
    "time_grid = BrownianMotion.generate_time_grid(0, maturity, step)\n",
    "\n",
    "x_0 = [100, 100]\n",
    "mu_s = [[5], [4]]\n",
    "sigma_s = [[10], [6]]\n",
    "\n",
    "correl = [[1, 0], [0, 1]]\n",
    "\n",
    "b = BrownianMotion(time_grid, x_0, mu_s, sigma_s, correl)\n",
    "print b.values[:, 0]\n",
    "print b(0)"
   ]
  },
  {
   "cell_type": "code",
   "execution_count": 5,
   "metadata": {
    "collapsed": false
   },
   "outputs": [
    {
     "name": "stdout",
     "output_type": "stream",
     "text": [
      "Swap contract of maturity T = 5 years, over S^0 with strike K = 104.821, paying at {0.00, 0.25, 0.50, 0.75, 1.00, 1.25, 1.50, 1.75, 2.00, 2.25, 2.50, 2.75, 3.00, 3.25, 3.50, 3.75, 4.00, 4.25, 4.50, 4.75, 5.00}\n",
      "Swap contract of maturity T = 5 years, over S^1 with strike K = 104.821, paying at {0.00, 0.25, 0.50, 0.75, 1.00, 1.25, 1.50, 1.75, 2.00, 2.25, 2.50, 2.75, 3.00, 3.25, 3.50, 3.75, 4.00, 4.25, 4.50, 4.75, 5.00}\n",
      "Price swap0 at t=0 =  1.13686837722e-13\n",
      "Price swap1 at t=0 =  1.13686837722e-13\n"
     ]
    }
   ],
   "source": [
    "from finance.products.european.assetswap import (\n",
    "    SwapContract,\n",
    ")\n",
    "\n",
    "delta = 0.25\n",
    "\n",
    "swap_dates = SwapContract.generate_payment_dates(0, maturity, delta)\n",
    "swap = SwapContract(b, discount, swap_dates)\n",
    "swap2 = SwapContract(b, discount, swap_dates, 1)\n",
    "\n",
    "price0_0 = swap.price(0.)\n",
    "price1_0 = swap2.price(0.)\n",
    "\n",
    "print swap\n",
    "print swap2\n",
    "\n",
    "swaps = [swap, swap2]\n",
    "price0 = [price0_0, price1_0]\n",
    "\n",
    "print \"Price swap0 at t=0 = \",price0_0\n",
    "print \"Price swap1 at t=0 = \",price1_0"
   ]
  },
  {
   "cell_type": "code",
   "execution_count": 6,
   "metadata": {
    "collapsed": false
   },
   "outputs": [
    {
     "data": {
      "text/plain": [
       "array([[ 100.],\n",
       "       [ 100.]])"
      ]
     },
     "execution_count": 6,
     "metadata": {},
     "output_type": "execute_result"
    }
   ],
   "source": [
    "# To delete\n",
    "\n",
    "swaps[0].underlying(0)"
   ]
  },
  {
   "cell_type": "code",
   "execution_count": 7,
   "metadata": {
    "collapsed": false
   },
   "outputs": [],
   "source": [
    "from risk.exposures import EuropeanQuantileBrownianExposure\n",
    "\n",
    "exposures = []\n",
    "for s in swaps:\n",
    "    index = s.underlying_index\n",
    "    drift = mu_s[index][0]\n",
    "    vol = sigma_s[index][0]\n",
    "    e = EuropeanQuantileBrownianExposure(s, discount, drift, vol)\n",
    "    \n",
    "    exposures.append(e)"
   ]
  },
  {
   "cell_type": "code",
   "execution_count": 8,
   "metadata": {
    "collapsed": false
   },
   "outputs": [
    {
     "name": "stdout",
     "output_type": "stream",
     "text": [
      "Notionals = [ 0.2010025  0.2010025]\n"
     ]
    }
   ],
   "source": [
    "p_fixed = [100 for s in swaps]\n",
    "strikes = [s.strike for s in swaps]\n",
    "\n",
    "delta_times = [s.delta_time for s in swaps]\n",
    "discount_factors = [[discount(t) for t in s.pillars[1:]] for s in swaps]\n",
    "\n",
    "deltas_betas = [np.dot(d, df) for (d, df) in zip(delta_times, discount_factors)]\n",
    "\n",
    "notionals = np.divide(p_fixed, np.multiply(deltas_betas, strikes))\n",
    "print \"Notionals =\",notionals"
   ]
  },
  {
   "cell_type": "code",
   "execution_count": 9,
   "metadata": {
    "collapsed": false
   },
   "outputs": [
    {
     "name": "stdout",
     "output_type": "stream",
     "text": [
      "[[ 0.10050125  0.60300751]\n",
      " [-0.10050125  1.60802003]]\n"
     ]
    }
   ],
   "source": [
    "from finance.portfolio import Portfolio\n",
    "\n",
    "members_quantities = np.array([[.5, 3],\n",
    "                              [-.5, 8]])\n",
    "\n",
    "members_positions = np.multiply(members_quantities, notionals).reshape(members_quantities.shape)\n",
    "print members_positions"
   ]
  },
  {
   "cell_type": "code",
   "execution_count": 10,
   "metadata": {
    "collapsed": false
   },
   "outputs": [
    {
     "name": "stdout",
     "output_type": "stream",
     "text": [
      "[[ 0.14285714  0.85714286]\n",
      " [ 0.05882353  0.94117647]]\n",
      "\n",
      "0.142857142857 0.857142857143\n",
      "0.0588235294118 0.941176470588\n",
      "\n",
      "0.142857140827 0.857142859173\n",
      "0.0588235283789 0.941176471621\n"
     ]
    }
   ],
   "source": [
    "from finance.portfolio import Portfolio\n",
    "\n",
    "portfolio = Portfolio(members_positions, swaps, exposures)\n",
    "\n",
    "print portfolio.weights\n",
    "print\n",
    "print .5/3.5, 3./3.5\n",
    "print .5/8.5, 8./8.5\n",
    "print\n",
    "print 0.10050125/(0.10050125+0.60300751), 0.60300751/(0.10050125+0.60300751)\n",
    "print 0.10050125/(0.10050125+1.60802003), 1.60802003/(0.10050125+1.60802003)"
   ]
  },
  {
   "cell_type": "code",
   "execution_count": 11,
   "metadata": {
    "collapsed": false
   },
   "outputs": [
    {
     "name": "stdout",
     "output_type": "stream",
     "text": [
      "[  7.99796868e-14   1.71385043e-13]\n"
     ]
    }
   ],
   "source": [
    "portfolio_at_time_0 = np.dot(members_positions, price0)\n",
    "print portfolio_at_time_0"
   ]
  },
  {
   "cell_type": "code",
   "execution_count": 12,
   "metadata": {
    "collapsed": false
   },
   "outputs": [
    {
     "name": "stdout",
     "output_type": "stream",
     "text": [
      "     d=1      |     d=-1\n",
      "___________________________\n",
      "[ 25.98967561 -24.12602731]\n",
      "[ 15.65125848 -14.41816327]\n"
     ]
    }
   ],
   "source": [
    "exposure_mpor = 1./12\n",
    "exposure_quantile = 0.99\n",
    "\n",
    "expo0 = exposures[0](t=1, risk_period=exposure_mpor, conf_level=exposure_quantile)\n",
    "expo1 = exposures[1](t=1, risk_period=exposure_mpor, conf_level=exposure_quantile)\n",
    "\n",
    "print \"     d=1      |     d=-1\"\n",
    "print \"___________________________\"\n",
    "print expo0\n",
    "print expo1"
   ]
  },
  {
   "cell_type": "code",
   "execution_count": 13,
   "metadata": {
    "collapsed": false
   },
   "outputs": [
    {
     "name": "stdout",
     "output_type": "stream",
     "text": [
      "2.61199493981 9.43782644403\n",
      "2.42469595259 25.1675371841\n"
     ]
    }
   ],
   "source": [
    "print members_positions[0][0]*expo0[0], members_positions[0][1]*expo1[0]\n",
    "print members_positions[1][0]*expo0[1], members_positions[1][1]*expo1[0]"
   ]
  },
  {
   "cell_type": "code",
   "execution_count": 14,
   "metadata": {
    "collapsed": false
   },
   "outputs": [
    {
     "name": "stdout",
     "output_type": "stream",
     "text": [
      "[[  2.61199494   9.43782644]\n",
      " [  2.42469595  25.16753718]]\n"
     ]
    }
   ],
   "source": [
    "print portfolio.compute_exposure(1, risk_period=exposure_mpor, conf_level=exposure_quantile)"
   ]
  },
  {
   "cell_type": "code",
   "execution_count": 15,
   "metadata": {
    "collapsed": false
   },
   "outputs": [],
   "source": [
    "exps = [exposures[0](t=t, risk_period=exposure_mpor, conf_level=0.99) for t in time_grid]"
   ]
  },
  {
   "cell_type": "code",
   "execution_count": 16,
   "metadata": {
    "collapsed": false
   },
   "outputs": [
    {
     "data": {
      "image/png": "[encoded data removed]",
      "text/plain": [
       "<matplotlib.figure.Figure at 0x14850da0>"
      ]
     },
     "metadata": {},
     "output_type": "display_data"
    }
   ],
   "source": [
    "%matplotlib inline\n",
    "import matplotlib.pyplot as plt\n",
    "\n",
    "plt.plot(time_grid, exps)\n",
    "plt.show()"
   ]
  },
  {
   "cell_type": "code",
   "execution_count": 17,
   "metadata": {
    "collapsed": false
   },
   "outputs": [],
   "source": [
    "portfolio = Portfolio([[1.]], [swaps[0]], [exposures[0]])\n",
    "\n",
    "port_exp = [portfolio.compute_exposure(t=t, risk_period=exposure_mpor, conf_level=0.99) for t in time_grid]"
   ]
  },
  {
   "cell_type": "code",
   "execution_count": 18,
   "metadata": {
    "collapsed": false
   },
   "outputs": [
    {
     "data": {
      "image/png": "[encoded data removed]",
      "text/plain": [
       "<matplotlib.figure.Figure at 0x3d80b00>"
      ]
     },
     "metadata": {},
     "output_type": "display_data"
    }
   ],
   "source": [
    "single_expo = [ex[0] for ex in exps]\n",
    "prt_expo = [p[0, 0] for p in port_exp]\n",
    "\n",
    "plt.plot(time_grid, single_expo, time_grid, prt_expo)\n",
    "plt.show()"
   ]
  },
  {
   "cell_type": "code",
   "execution_count": 19,
   "metadata": {
    "collapsed": false
   },
   "outputs": [],
   "source": [
    "from finance.portfolio import EquilibratedPortfolio\n",
    "\n",
    "pos = np.array([[0.5, 3],\n",
    "                [-0.7, -3],\n",
    "                [0.2, 0]])\n",
    "\n",
    "port = EquilibratedPortfolio(pos, swaps, exposures)"
   ]
  },
  {
   "cell_type": "code",
   "execution_count": 20,
   "metadata": {
    "collapsed": false
   },
   "outputs": [
    {
     "name": "stdout",
     "output_type": "stream",
     "text": [
      "The indexes must be less than 3\n"
     ]
    }
   ],
   "source": [
    "try:\n",
    "    port.compute_projection(3, 3)\n",
    "except Exception, e:\n",
    "    print e"
   ]
  },
  {
   "cell_type": "code",
   "execution_count": 21,
   "metadata": {
    "collapsed": false
   },
   "outputs": [
    {
     "name": "stdout",
     "output_type": "stream",
     "text": [
      "[ 0.  0.]\n",
      "[ 1.  1.]\n",
      "[ 0.  0.]\n"
     ]
    }
   ],
   "source": [
    "print port.compute_projection(0, 0)\n",
    "print port.compute_projection(0, 1)\n",
    "print port.compute_projection(0, 2)"
   ]
  },
  {
   "cell_type": "code",
   "execution_count": 22,
   "metadata": {
    "collapsed": false
   },
   "outputs": [
    {
     "name": "stdout",
     "output_type": "stream",
     "text": [
      "[ 0.71428571  1.        ]\n",
      "[ 0.  0.]\n",
      "[ 0.28571429  0.        ]\n"
     ]
    }
   ],
   "source": [
    "print port.compute_projection(1, 0)\n",
    "print port.compute_projection(1, 1)\n",
    "print port.compute_projection(1, 2)"
   ]
  },
  {
   "cell_type": "code",
   "execution_count": 23,
   "metadata": {
    "collapsed": false
   },
   "outputs": [
    {
     "name": "stdout",
     "output_type": "stream",
     "text": [
      "[ 0.  0.]\n",
      "[ 1.  0.]\n",
      "[ 0.  0.]\n"
     ]
    }
   ],
   "source": [
    "print port.compute_projection(2, 0)\n",
    "print port.compute_projection(2, 1)\n",
    "print port.compute_projection(2, 2)"
   ]
  }
 ],
 "metadata": {
  "kernelspec": {
   "display_name": "Python 2",
   "language": "python",
   "name": "python2"
  },
  "language_info": {
   "codemirror_mode": {
    "name": "ipython",
    "version": 2
   },
   "file_extension": ".py",
   "mimetype": "text/x-python",
   "name": "python",
   "nbconvert_exporter": "python",
   "pygments_lexer": "ipython2",
   "version": "2.7.9"
  }
 },
 "nbformat": 4,
 "nbformat_minor": 0
}
