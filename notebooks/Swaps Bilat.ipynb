{
 "metadata": {
  "name": "",
  "signature": "sha256:d020b296ab4ab269519a770a5f3d828ff05a36f025b04505ddf428ad8a110f29",
  "zanadu": {
   "category": "1",
   "clearance": "Internal",
   "group_name": "Evry_University",
   "notebook_id": "72E49D8F-42CD-4D01-BDA2-76D13E8D7175",
   "status": "WIP"
  }
 },
 "nbformat": 3,
 "nbformat_minor": 0,
 "worksheets": [
  {
   "cells": [
    {
     "cell_type": "heading",
     "level": 1,
     "metadata": {},
     "source": [
      "Bilateral case comparison for CCVA"
     ]
    },
    {
     "cell_type": "markdown",
     "metadata": {},
     "source": [
      "<p style=\"color:red;\">\n",
      "**Remarks** to ask St\u00e9phane:  \n",
      "\n",
      "- We do not simulate any default time because the first order cancels the $\\tilde{\\gamma}$ term\n",
      "</p>"
     ]
    },
    {
     "cell_type": "heading",
     "level": 2,
     "metadata": {
      "zanadu": {
       "is_abstract": false,
       "is_hidden": false
      }
     },
     "source": [
      "Resume"
     ]
    },
    {
     "cell_type": "markdown",
     "metadata": {},
     "source": [
      "In that notebook, we will implement the computation of the first-order approximation of the defined TVA written in the paper of Cr\u00e9pey and Song [Counterparty Risk Modeling: Beyond Immersion\n",
      "](http://grozny.maths.univ-evry.fr/pages_perso/crepey/papers/marks-SUBMITTED.pdf)\n",
      "\n",
      "Remind the first-order approximation formula of the reduced form:\n",
      "\n",
      "\\begin{align*}\n",
      "\\Theta_0^{(1)} =& \\, \\mathbb{E} \\left[ \n",
      "\\int_{0}^{\\bar{T}} \\tilde{f}_s(0) ds\n",
      "\\right] \\\\\n",
      "=& \\, \\mathbb{E} \\left( 1_{\\tau \\leq \\bar{T}} \\frac{1}{\\lambda e^{-\\lambda \\tau}} \\tilde{f}_{\\tau}(0) \\right)\n",
      "\\end{align*}\n",
      "\n",
      "with the $\\tilde{f}_{.}(0)$ function is given by:\n",
      "\n",
      "\\begin{align*}\n",
      "\\tilde{f}_t(0) = &(1-R_c) \\times \\gamma^c \\times (P_t + \\Delta_t - \\Gamma_t^c)^+ \\\\\n",
      "- &(1-R_b) \\times \\gamma^b \\times (P_t + \\Delta_t - \\Gamma_t^b)^- \\\\\n",
      "+ &(c_t \\Gamma_t^f + \\tilde{\\lambda}_t (P_t - \\Gamma_t^f)^+ \n",
      "- \\lambda_t (P_t - \\Gamma_t^f)^- \\\\\n",
      "+ &\\, k_t K_t\n",
      "\\end{align*}\n",
      "\n",
      "with:  \n",
      "\n",
      "- $\\beta_t = \\exp ( - \\int_0^t r_s ds )$\n",
      "- $P_t = \\mathbb{E}_t \\left( \\frac{1}{\\beta_t} \\int_t^{\\bar{T}} \\beta_s dD_s \\right)$\n",
      "- $\\Delta_t = \\int_{[t, \\tau^{\\delta}]} \\beta_s dD_s$"
     ]
    },
    {
     "cell_type": "heading",
     "level": 3,
     "metadata": {},
     "source": [
      "Notations"
     ]
    },
    {
     "cell_type": "markdown",
     "metadata": {},
     "source": [
      "Moreover, we used the following notations:\n",
      "\n",
      "- $R_.$ the recovery of the bank or counterparty\n",
      "- $\\gamma^.$ the default intensity of the bank or counterparty"
     ]
    },
    {
     "cell_type": "heading",
     "level": 4,
     "metadata": {},
     "source": [
      "Collateral"
     ]
    },
    {
     "cell_type": "markdown",
     "metadata": {},
     "source": [
      "The ***collateral*** of both parties are denoted by the following:\n",
      "\n",
      "- $\\Gamma^b$ the overall bank collateral posted by the counterparty: $\\Gamma^b = VM + IM_c$, with $IM_c > 0$\n",
      "- $-\\Gamma^c$ the overall counterparty collateral posted by the bank: $\\Gamma^c= VM + IM_b$, with $IM_b < 0$\n",
      "- $-\\Gamma^f = -\\Gamma^c - IM_c$ the collateral funded by the bank (which is the point of view we adopted here). Note that the term $-IM_c$ corresponds to the rehypotecation of the initial margin posted (initially!) by the counterparty."
     ]
    },
    {
     "cell_type": "markdown",
     "metadata": {},
     "source": [
      "Note the the sign conventions:\n",
      "$VM = +1$ means the counterparty owes $1$ to the bank. Moreover, $IM_.$ denotes the initial margin posted by $.$"
     ]
    },
    {
     "cell_type": "heading",
     "level": 4,
     "metadata": {},
     "source": [
      "Spread remunerations wrt to risk free rate"
     ]
    },
    {
     "cell_type": "markdown",
     "metadata": {
      "zanadu": {
       "is_abstract": false,
       "is_hidden": false
      }
     },
     "source": [
      "- $c_t$ the remuneration spread of the collateral\n",
      "- $\\lambda_t$ the investment spread of the bank\n",
      "- $\\tilde{\\lambda}_t := \\bar{\\lambda}_t - (1-R_f)\\gamma^b$ with\n",
      "    - $\\bar{\\lambda}_t$ the unsecured funding spread of the bank\n",
      "    - $R_f$ the recovery rate of the bank to its funder"
     ]
    },
    {
     "cell_type": "heading",
     "level": 3,
     "metadata": {},
     "source": [
      "Comparison to CCVA"
     ]
    },
    {
     "cell_type": "markdown",
     "metadata": {},
     "source": [
      "Compared to the CCVA computations, this notebook focuses on the most risky (member 0) trading with the counterparty 1.\n",
      "Thus here:  \n",
      "\n",
      "- the bank $\\Leftrightarrow$ member n\u00b0 0\n",
      "- the counterparty $\\Leftrightarrow$ member n\u00b0 1"
     ]
    },
    {
     "cell_type": "heading",
     "level": 2,
     "metadata": {
      "zanadu": {
       "is_abstract": false,
       "is_hidden": false
      }
     },
     "source": [
      "Parallelisation of the computations"
     ]
    },
    {
     "cell_type": "code",
     "collapsed": false,
     "input": [
      "from IPython import parallel\n",
      "\n",
      "rc = parallel.Client()\n",
      "ids = rc.ids\n",
      "print \"Available engines:\",ids\n",
      "\n",
      "#ids = [3]\n",
      "print \"Used engines:\", ids\n",
      "dview = rc[ids]\n",
      "dview.block = True\n",
      "print \"Blocking mode =\",dview.block\n",
      "dview.activate()"
     ],
     "language": "python",
     "metadata": {},
     "outputs": [
      {
       "output_type": "stream",
       "stream": "stdout",
       "text": [
        "Available engines: [0, 1, 2, 3]\n",
        "Used engines: [0, 1, 2, 3]\n",
        "Blocking mode = True\n"
       ]
      }
     ],
     "prompt_number": 1
    },
    {
     "cell_type": "heading",
     "level": 3,
     "metadata": {
      "zanadu": {
       "is_abstract": false,
       "is_hidden": false
      }
     },
     "source": [
      "Handling exceptions"
     ]
    },
    {
     "cell_type": "code",
     "collapsed": false,
     "input": [
      "from IPython.parallel import CompositeError\n",
      "#CompositeError.tb_limit = 5"
     ],
     "language": "python",
     "metadata": {},
     "outputs": [],
     "prompt_number": 2
    },
    {
     "cell_type": "code",
     "collapsed": false,
     "input": [
      "%autopx"
     ],
     "language": "python",
     "metadata": {},
     "outputs": [
      {
       "output_type": "stream",
       "stream": "stdout",
       "text": [
        "%autopx enabled\n"
       ]
      }
     ],
     "prompt_number": 3
    },
    {
     "cell_type": "heading",
     "level": 3,
     "metadata": {},
     "source": [
      "Adding path"
     ]
    },
    {
     "cell_type": "code",
     "collapsed": false,
     "input": [
      "import sys\n",
      "\n",
      "sys.path.append('..')"
     ],
     "language": "python",
     "metadata": {},
     "outputs": [],
     "prompt_number": 4
    },
    {
     "cell_type": "heading",
     "level": 2,
     "metadata": {
      "zanadu": {
       "is_abstract": false,
       "is_hidden": false
      }
     },
     "source": [
      "Monte Carlo `code`"
     ]
    },
    {
     "cell_type": "heading",
     "level": 3,
     "metadata": {
      "zanadu": {
       "is_abstract": false,
       "is_hidden": false
      }
     },
     "source": [
      "Simulation parameters"
     ]
    },
    {
     "cell_type": "code",
     "collapsed": false,
     "input": [
      "# Instead of taking 365 standard days or 252 trading days\n",
      "# in order to get some easy computations for the eqty and df time grids\n",
      "# I chose to take 360 days of tradings\n",
      "\n",
      "step = 1/360.\n",
      "\n",
      "# Moreover, we fix a $\\delta$ mpor (margin period of risk) of 5 days (like in the CCP case)\n",
      "mpor = 5*step"
     ],
     "language": "python",
     "metadata": {
      "zanadu": {
       "is_abstract": false,
       "is_hidden": false
      }
     },
     "outputs": [],
     "prompt_number": 5
    },
    {
     "cell_type": "heading",
     "level": 3,
     "metadata": {
      "zanadu": {
       "is_abstract": false,
       "is_hidden": false
      }
     },
     "source": [
      "Market parameters"
     ]
    },
    {
     "cell_type": "code",
     "collapsed": false,
     "input": [
      "from finance.discountfactor import ConstantRateDiscountFactor \n",
      "\n",
      "max_maturity = 5\n",
      "r = 0.02\n",
      "\n",
      "discount = ConstantRateDiscountFactor(r)"
     ],
     "language": "python",
     "metadata": {
      "zanadu": {
       "is_abstract": false,
       "is_hidden": false
      }
     },
     "outputs": [],
     "prompt_number": 6
    },
    {
     "cell_type": "heading",
     "level": 3,
     "metadata": {
      "zanadu": {
       "is_abstract": false,
       "is_hidden": false
      }
     },
     "source": [
      "Exponential distribution (in order to compute $\\mathbb{E} \\int$)"
     ]
    },
    {
     "cell_type": "markdown",
     "metadata": {
      "zanadu": {
       "is_abstract": false,
       "is_hidden": false
      }
     },
     "source": [
      "In order to compute the integral term, we used the change of probability measure with the exponential density. In order to do so, we took $\\lambda = \\frac{2}{\\bar{T}}$ in order to get the event $\\{ \\tau \\leq \\bar{T} \\}$ with a probability $p = 1 - e^{-2} \\approx 0.86$. Moreover, the distribution is centered to the middle of the interval $[0, \\bar{T}]$."
     ]
    },
    {
     "cell_type": "code",
     "collapsed": false,
     "input": [
      "from scipy.stats import expon\n",
      "\n",
      "# To confirm, because \n",
      "lbda = 2.0 / max_maturity\n",
      "exp_distrib = expon(loc=0, scale=1.0/lbda)"
     ],
     "language": "python",
     "metadata": {
      "zanadu": {
       "is_abstract": false,
       "is_hidden": false
      }
     },
     "outputs": [],
     "prompt_number": 7
    },
    {
     "cell_type": "heading",
     "level": 3,
     "metadata": {
      "zanadu": {
       "is_abstract": false,
       "is_hidden": false
      }
     },
     "source": [
      "Underlyings parameters"
     ]
    },
    {
     "cell_type": "code",
     "collapsed": false,
     "input": [
      "import numpy as np\n",
      "from scipy.stats import norm\n",
      "from maths.montecarlo.process.brownianmotion import BrownianMotion\n",
      "\n",
      "time_grid = BrownianMotion.generate_time_grid(0, max_maturity, step)\n",
      "\n",
      "x_0 = [100]\n",
      "mu_s = [5]\n",
      "sigma_s = [10]\n",
      "\n",
      "b = BrownianMotion(x_0, mu_s, sigma_s, time_grid)\n",
      "\n",
      "for i, (x0, m_, s_) in enumerate(zip(x_0, mu_s, sigma_s)):\n",
      "    print \"P(S_T^%d < 0) = %s\"%(i+1, norm.cdf(-(x0 + m_ * max_maturity)/(s_*np.sqrt(max_maturity))))"
     ],
     "language": "python",
     "metadata": {
      "zanadu": {
       "is_abstract": false,
       "is_hidden": false
      }
     },
     "outputs": [
      {
       "output_type": "stream",
       "stream": "stdout",
       "text": [
        "[stdout:0] P(S_T^1 < 0) = 1.13423742963e-08\n",
        "[stdout:1] P(S_T^1 < 0) = 1.13423742963e-08\n",
        "[stdout:2] P(S_T^1 < 0) = 1.13423742963e-08\n",
        "[stdout:3] P(S_T^1 < 0) = 1.13423742963e-08\n"
       ]
      }
     ],
     "prompt_number": 8
    },
    {
     "cell_type": "heading",
     "level": 3,
     "metadata": {
      "zanadu": {
       "is_abstract": false,
       "is_hidden": false
      }
     },
     "source": [
      "Swap Contracts"
     ]
    },
    {
     "cell_type": "markdown",
     "metadata": {
      "zanadu": {
       "is_abstract": false,
       "is_hidden": false
      }
     },
     "source": [
      "In our simulations, we will use Swaps contracts with different maturities"
     ]
    },
    {
     "cell_type": "code",
     "collapsed": false,
     "input": [
      "from finance.products.european.swap import (\n",
      "    SwapContract,\n",
      ")\n",
      "\n",
      "delta = 0.25\n",
      "maturities = [max_maturity]\n",
      "\n",
      "swaps = [SwapContract(b, discount, SwapContract.generate_payment_dates(0, m, delta), i%3) \n",
      "         for i, m in enumerate(maturities)]\n",
      "\n",
      "prices = [0 for s in swaps]\n",
      "\n",
      "for s in swaps:\n",
      "    print \"-\", s\n",
      "    \n",
      "derivatives = swaps"
     ],
     "language": "python",
     "metadata": {
      "zanadu": {
       "is_abstract": false,
       "is_hidden": false
      }
     },
     "outputs": [
      {
       "output_type": "stream",
       "stream": "stdout",
       "text": [
        "[stdout:0] - Swap contract of maturity T = 5 years, over S^0 with strike K = 104.821, paying at {0.00, 0.25, 0.50, 0.75, 1.00, 1.25, 1.50, 1.75, 2.00, 2.25, 2.50, 2.75, 3.00, 3.25, 3.50, 3.75, 4.00, 4.25, 4.50, 4.75, 5.00}\n",
        "[stdout:1] - Swap contract of maturity T = 5 years, over S^0 with strike K = 104.821, paying at {0.00, 0.25, 0.50, 0.75, 1.00, 1.25, 1.50, 1.75, 2.00, 2.25, 2.50, 2.75, 3.00, 3.25, 3.50, 3.75, 4.00, 4.25, 4.50, 4.75, 5.00}\n",
        "[stdout:2] - Swap contract of maturity T = 5 years, over S^0 with strike K = 104.821, paying at {0.00, 0.25, 0.50, 0.75, 1.00, 1.25, 1.50, 1.75, 2.00, 2.25, 2.50, 2.75, 3.00, 3.25, 3.50, 3.75, 4.00, 4.25, 4.50, 4.75, 5.00}\n",
        "[stdout:3] - Swap contract of maturity T = 5 years, over S^0 with strike K = 104.821, paying at {0.00, 0.25, 0.50, 0.75, 1.00, 1.25, 1.50, 1.75, 2.00, 2.25, 2.50, 2.75, 3.00, 3.25, 3.50, 3.75, 4.00, 4.25, 4.50, 4.75, 5.00}\n"
       ]
      }
     ],
     "prompt_number": 9
    },
    {
     "cell_type": "heading",
     "level": 3,
     "metadata": {
      "zanadu": {
       "is_abstract": false,
       "is_hidden": false
      }
     },
     "source": [
      "Exposures to derivatives for the $K_{b}$ computation"
     ]
    },
    {
     "cell_type": "code",
     "collapsed": false,
     "input": [
      "from risk.exposure import EuropeanQuantileBrownianExposure\n",
      "\n",
      "exposure_mpor = 1./12\n",
      "exposure_quantile = 0.99\n",
      "\n",
      "exposures = []\n",
      "for d in derivatives:\n",
      "    index = d.underlying_index\n",
      "    drift = mu_s[index]\n",
      "    vol = sigma_s[index]\n",
      "    \n",
      "    e = EuropeanQuantileBrownianExposure(d, exposure_mpor, drift, vol, exposure_quantile, discount)\n",
      "    exposures.append(e)"
     ],
     "language": "python",
     "metadata": {},
     "outputs": [],
     "prompt_number": 10
    },
    {
     "cell_type": "heading",
     "level": 3,
     "metadata": {
      "zanadu": {
       "is_abstract": false,
       "is_hidden": false
      }
     },
     "source": [
      "Marshall Olkin copula"
     ]
    },
    {
     "cell_type": "markdown",
     "metadata": {},
     "source": [
      "We choose the following parameters:  \n",
      "\n",
      "- $\\gamma_0 = 200$ bps\n",
      "- $\\gamma_1 = 100$ bps\n",
      "- $\\gamma_2 = 50$ bps\n",
      "- $\\gamma_{0, 1} = 30$ bps\n",
      "- $\\gamma_{0, 1, 2} = 15$ bps\n",
      "\n",
      "which leads to:\n",
      "\n",
      "- $\\gamma_0^{tot} = 245$ bps\n",
      "- $\\gamma_1^{tot} = 145$ bps\n",
      "- $\\gamma_2^{tot} = 65$ bps\n",
      "\n",
      "Moreover, we choose all recoveries equal to $40\\%$"
     ]
    },
    {
     "cell_type": "code",
     "collapsed": false,
     "input": [
      "from maths.copula.marshallolkin import MarshallOlkinCopula\n",
      "\n",
      "nb_cm = 3\n",
      "\n",
      "bank_index = 0\n",
      "counterparty_index = 1\n",
      "recoveries = [0.4 for i in range(nb_cm)]\n",
      "\n",
      "mo_groups = [frozenset([i]) for i in range(nb_cm)]\n",
      "mo_groups.append(frozenset([0, 1]))\n",
      "mo_groups.append(frozenset([0, 1, 2]))\n",
      "\n",
      "lambdas = [0.0200, 0.0100, 0.0050, 0.0030, 0.0015]\n",
      "\n",
      "copula = MarshallOlkinCopula(bank_index, nb_cm, mo_groups, lambdas, recoveries)"
     ],
     "language": "python",
     "metadata": {},
     "outputs": [],
     "prompt_number": 11
    },
    {
     "cell_type": "code",
     "collapsed": false,
     "input": [
      "gamma_bank = copula.compute_gamma(bank_index)\n",
      "print \"Default intensity of the bank: %s\"%gamma_bank\n",
      "\n",
      "gamma_counterparty = copula.compute_gamma(counterparty_index)\n",
      "print \"Default intensity of the counterparty: %s\"%gamma_counterparty"
     ],
     "language": "python",
     "metadata": {},
     "outputs": [
      {
       "output_type": "stream",
       "stream": "stdout",
       "text": [
        "[stdout:0] \n",
        "Default intensity of the bank: 0.0245\n",
        "Default intensity of the counterparty: 0.0145\n",
        "[stdout:1] \n",
        "Default intensity of the bank: 0.0245\n",
        "Default intensity of the counterparty: 0.0145\n",
        "[stdout:2] \n",
        "Default intensity of the bank: 0.0245\n",
        "Default intensity of the counterparty: 0.0145\n",
        "[stdout:3] \n",
        "Default intensity of the bank: 0.0245\n",
        "Default intensity of the counterparty: 0.0145\n"
       ]
      }
     ],
     "prompt_number": 12
    },
    {
     "cell_type": "heading",
     "level": 3,
     "metadata": {},
     "source": [
      "Portfolio of the bank"
     ]
    },
    {
     "cell_type": "heading",
     "level": 4,
     "metadata": {},
     "source": [
      "Notional"
     ]
    },
    {
     "cell_type": "markdown",
     "metadata": {},
     "source": [
      "In the paper of Cr\u00e9pey, Gerboud, Grbac and Ngor [Counterparty risk and funding:\n",
      "the four wings of the TVA](http://grozny.maths.univ-evry.fr/pages_perso/crepey/papers/CVA-Wings.pdf), they compute the TVA on a swap with the following parameters (see section 4.4 Numerics):\n",
      "\n",
      ">We choose a swap notional of $N = 310.136066$\\$ so that the fixed leg of the swap is worth $100$\\$ at inception\n",
      "\n",
      "Let us compute the same way the notional such that the fixed leg is equal to $100$ \\$.\n",
      "\n",
      "\\begin{equation*}\n",
      "N = \\frac{P_{fixed}}{K \\times \\sum_{k=1}^{N} \\Delta_{T_k} \\beta_{T_k}}\n",
      "\\end{equation*}"
     ]
    },
    {
     "cell_type": "code",
     "collapsed": false,
     "input": [
      "p_fixed = [100 for s in swaps]\n",
      "strikes = [s.strike for s in swaps]\n",
      "\n",
      "delta_times = [s.delta_time for s in swaps]\n",
      "discount_factors = [[discount(t) for t in s.pillars[1:]] for s in swaps]\n",
      "\n",
      "deltas_betas = [np.dot(d, df) for (d, df) in zip(delta_times, discount_factors)]\n",
      "\n",
      "notionals = np.divide(p_fixed, np.multiply(deltas_betas, strikes))\n",
      "print \"Notionals =\",notionals"
     ],
     "language": "python",
     "metadata": {},
     "outputs": [
      {
       "output_type": "stream",
       "stream": "stdout",
       "text": [
        "[stdout:0] Notionals = [ 0.2010025]\n",
        "[stdout:1] Notionals = [ 0.2010025]\n",
        "[stdout:2] Notionals = [ 0.2010025]\n",
        "[stdout:3] Notionals = [ 0.2010025]\n"
       ]
      }
     ],
     "prompt_number": 13
    },
    {
     "cell_type": "code",
     "collapsed": false,
     "input": [
      "from finance.portfolio import Portfolio\n",
      "\n",
      "members_quantities = np.array([[.5],\n",
      "                              [-.5]])\n",
      "\n",
      "members_positions = np.dot(members_quantities, notionals).reshape(members_quantities.shape)\n",
      "print members_positions"
     ],
     "language": "python",
     "metadata": {},
     "outputs": [
      {
       "output_type": "stream",
       "stream": "stdout",
       "text": [
        "[stdout:0] \n",
        "[[ 0.10050125]\n",
        " [-0.10050125]]\n",
        "[stdout:1] \n",
        "[[ 0.10050125]\n",
        " [-0.10050125]]\n",
        "[stdout:2] \n",
        "[[ 0.10050125]\n",
        " [-0.10050125]]\n",
        "[stdout:3] \n",
        "[[ 0.10050125]\n",
        " [-0.10050125]]\n"
       ]
      }
     ],
     "prompt_number": 14
    },
    {
     "cell_type": "code",
     "collapsed": false,
     "input": [
      "from finance.portfolio import Portfolio\n",
      "\n",
      "portfolio = Portfolio(members_positions, derivatives, prices, exposures)\n",
      "\n",
      "m_positions = np.matrix(members_positions)\n",
      "portfolio_at_time_0 = m_positions.dot(np.array(prices).T).A1\n",
      "print portfolio_at_time_0"
     ],
     "language": "python",
     "metadata": {},
     "outputs": [
      {
       "output_type": "stream",
       "stream": "stdout",
       "text": [
        "[stdout:0] [ 0.  0.]\n",
        "[stdout:1] [ 0.  0.]\n",
        "[stdout:2] [ 0.  0.]\n",
        "[stdout:3] [ 0.  0.]\n"
       ]
      }
     ],
     "prompt_number": 15
    },
    {
     "cell_type": "heading",
     "level": 3,
     "metadata": {},
     "source": [
      "Collateral management"
     ]
    },
    {
     "cell_type": "heading",
     "level": 4,
     "metadata": {
      "zanadu": {
       "is_abstract": false,
       "is_hidden": false
      }
     },
     "source": [
      "Bank and counterparty's initial margins"
     ]
    },
    {
     "cell_type": "code",
     "collapsed": false,
     "input": [
      "from ccp.states import MembersState\n",
      "from ccp.accounts import Accounts, DFAccounts\n",
      "\n",
      "states = MembersState(2)\n",
      "vm_accounts = Accounts(states)"
     ],
     "language": "python",
     "metadata": {},
     "outputs": [],
     "prompt_number": 16
    },
    {
     "cell_type": "code",
     "collapsed": false,
     "input": [
      "conf_level_im = 0.80\n",
      "min_im_required = 0.\n",
      "im_accounts = Accounts(states)\n",
      "im_accounts.reset(min_im_required)"
     ],
     "language": "python",
     "metadata": {},
     "outputs": [],
     "prompt_number": 17
    },
    {
     "cell_type": "heading",
     "level": 3,
     "metadata": {},
     "source": [
      "Default model of the counterparty"
     ]
    },
    {
     "cell_type": "code",
     "collapsed": false,
     "input": [
      "from credit.default_probability import FlatIntensity\n",
      "\n",
      "default_model = FlatIntensity(gamma_counterparty)"
     ],
     "language": "python",
     "metadata": {},
     "outputs": [],
     "prompt_number": 18
    },
    {
     "cell_type": "heading",
     "level": 3,
     "metadata": {
      "zanadu": {
       "is_abstract": false,
       "is_hidden": false
      }
     },
     "source": [
      "Regulatory capital"
     ]
    },
    {
     "cell_type": "code",
     "collapsed": false,
     "input": [
      "from risk.basel import BaselRegulatoryCapital\n",
      "\n",
      "basel_capital = BaselRegulatoryCapital(recovery=recoveries[counterparty_index], \n",
      "                                        default_proba=default_model)"
     ],
     "language": "python",
     "metadata": {},
     "outputs": [],
     "prompt_number": 19
    },
    {
     "cell_type": "heading",
     "level": 3,
     "metadata": {
      "zanadu": {
       "is_abstract": false,
       "is_hidden": false
      }
     },
     "source": [
      "Simulations"
     ]
    },
    {
     "cell_type": "code",
     "collapsed": false,
     "input": [
      "intensities = {\"b\": gamma_bank, \"c\": gamma_counterparty}\n",
      "recov = {\"b\": recoveries[bank_index], \"c\": recoveries[counterparty_index], \"f\": 0.4}"
     ],
     "language": "python",
     "metadata": {},
     "outputs": [],
     "prompt_number": 20
    },
    {
     "cell_type": "raw",
     "metadata": {},
     "source": [
      "indexes = {\"b\": bank_index, \"c\": counterparty_index}"
     ]
    },
    {
     "cell_type": "heading",
     "level": 4,
     "metadata": {
      "zanadu": {
       "is_abstract": false,
       "is_hidden": false
      }
     },
     "source": [
      "Definition of the function $\\tilde{f}_{.}(0)$"
     ]
    },
    {
     "cell_type": "markdown",
     "metadata": {
      "zanadu": {
       "is_abstract": false,
       "is_hidden": false
      }
     },
     "source": [
      "We consider here $(c_t), (\\lambda_t), (\\bar{\\lambda}_t)$ and $(k_t)$ as constant processes."
     ]
    },
    {
     "cell_type": "code",
     "collapsed": false,
     "input": [
      "c_ = -0.002\n",
      "lambda_ = 0\n",
      "bar_lambda_ = 0.005\n",
      "k_ = 0.1\n",
      "\n",
      "def tilde_f(p, capital, ims, recoveries, intensities):    \n",
      "    gamma_c = p+ims[\"b\"]\n",
      "    gamma_b = p+ims[\"c\"]\n",
      "    \n",
      "    cva = (1.-recoveries[\"c\"]) * intensities[\"c\"] * np.maximum(p-gamma_c, 0)\n",
      "    dva = +(1.-recoveries[\"b\"]) * intensities[\"b\"] * np.minimum(p-gamma_b, 0)\n",
      "    \n",
      "    gamma_f = gamma_c+ims[\"c\"]\n",
      "    tilde_lambda = bar_lambda_ - (1.-recoveries[\"f\"])*intensities[\"b\"]\n",
      "    \n",
      "    fva = c_*gamma_f + tilde_lambda*np.maximum(p-gamma_f, 0) + lambda_*np.minimum(p-gamma_f, 0)\n",
      "    \n",
      "    kva = k_*capital\n",
      "    \n",
      "    return cva, dva, fva, kva"
     ],
     "language": "python",
     "metadata": {},
     "outputs": [],
     "prompt_number": 21
    },
    {
     "cell_type": "code",
     "collapsed": false,
     "input": [
      "#N = 1250\n",
      "N = 1\n",
      "\n",
      "prices_mat = np.zeros((N, len(time_grid)))\n",
      "prices_mat[:, 0] = portfolio_at_time_0[bank_index]\n",
      "\n",
      "im_b_mat = np.zeros((N, len(time_grid)))\n",
      "im_b_mat[:, 0] = im_accounts.amounts[bank_index]\n",
      "\n",
      "im_c_mat = np.zeros((N, len(time_grid)))\n",
      "im_c_mat[:, 0] = im_accounts.amounts[counterparty_index]"
     ],
     "language": "python",
     "metadata": {},
     "outputs": [],
     "prompt_number": 22
    },
    {
     "cell_type": "code",
     "collapsed": false,
     "input": [
      "eads = [e(t=0., portfolio=portfolio)[bank_index, 0] for e in exposures]\n",
      "\n",
      "rwa = 0.\n",
      "for (d, ead) in zip(derivatives, eads):\n",
      "    rwa += basel_capital.compute_rwa(ead, time_to_maturity=d.maturity)\n",
      "\n",
      "capital_mat = np.zeros((N, len(time_grid)))\n",
      "capital_mat[:, 0] = k_*rwa\n",
      "\n",
      "time_grid2 = np.delete(time_grid, 0)"
     ],
     "language": "python",
     "metadata": {},
     "outputs": [],
     "prompt_number": 23
    },
    {
     "cell_type": "heading",
     "level": 4,
     "metadata": {},
     "source": [
      "Monte Carlo loop"
     ]
    },
    {
     "cell_type": "code",
     "collapsed": false,
     "input": [
      "import time\n",
      "\n",
      "start_time = time.time()\n",
      "\n",
      "# CVA part\n",
      "cva = 0.\n",
      "cva_square = 0.   \n",
      "\n",
      "# DVA part\n",
      "dva = 0.\n",
      "dva_square = 0.   \n",
      "\n",
      "# FVA part\n",
      "fva = 0.\n",
      "fva_square = 0.    \n",
      "\n",
      "# KVA part\n",
      "kva = 0.\n",
      "kva_square = 0.\n",
      "\n",
      "random_times = exp_distrib.rvs(size=N)\n",
      "\n",
      "for i in range(N):\n",
      "    b.simulate()\n",
      "    \n",
      "    vm_accounts.reset()\n",
      "    im_accounts.reset(min_im_required)\n",
      "    \n",
      "    t_minus = 0\n",
      "    \n",
      "    rand_time = random_times[i]\n",
      "    \n",
      "    for time_index, t in enumerate(time_grid2):\n",
      "        d_pl = [d.price(t) for d in derivatives]\n",
      "        p_and_l = portfolio.compute_pl(d_pl)\n",
      "        \n",
      "        # Variation margin\n",
      "        for ii, pl in enumerate(p_and_l):\n",
      "            vm_accounts.put_amount(ii, pl)\n",
      "        \n",
      "        # Initial margin POSTED by the actors\n",
      "        ims = portfolio.compute_exposure(t, risk_period=mpor, conf_level=conf_level_im)\n",
      "        for ii, (im, vm) in enumerate(zip(ims.flat, vm_accounts.amounts)):\n",
      "            tmp = np.maximum(im-vm, min_im_required)\n",
      "            im_accounts.put_amount(ii, tmp)\n",
      "        \n",
      "        # Regulatory capital\n",
      "        eads = [e(t=t, portfolio=portfolio)[bank_index, 0] for e in exposures]\n",
      "        rwa = 0.\n",
      "        for (d, ead) in zip(derivatives, eads):\n",
      "            rwa += basel_capital.compute_rwa(ead, time_to_maturity=d.maturity-t)\n",
      "            \n",
      "        # Storage of paths\n",
      "        prices_mat[i, time_index+1] = vm_accounts.get_amount(bank_index)\n",
      "        im_b_mat[i, time_index+1] = im_accounts.get_amount(bank_index)\n",
      "        im_c_mat[i, time_index+1] = im_accounts.get_amount(counterparty_index)\n",
      "        capital_mat[i, time_index+1] = k_*rwa\n",
      "                \n",
      "        if t_minus < rand_time and rand_time <= t:\n",
      "            p = vm_accounts.get_amount(bank_index)\n",
      "            \n",
      "            # Posted IM with the convention signs\n",
      "            ims = {\"b\": -im_accounts.get_amount(bank_index), # J\n",
      "                   \"c\": im_accounts.get_amount(counterparty_index)} # I\n",
      "            \n",
      "            _cva, _dva, _fva, _kva = tilde_f(p, rwa, ims, recov, intensities)\n",
      "            \n",
      "            cva += _cva\n",
      "            cva_square += _cva**2\n",
      "            \n",
      "            dva += _dva\n",
      "            dva_square += _dva**2\n",
      "            \n",
      "            fva += _fva\n",
      "            fva_square += _fva**2\n",
      "            \n",
      "            kva += _kva\n",
      "            kva_square += _kva**2    \n",
      "            \n",
      "        t_minus = t\n",
      "        \n",
      "print \"Execution time for %d iterations: %s\"%(N, time.time() - start_time)"
     ],
     "language": "python",
     "metadata": {},
     "outputs": [
      {
       "output_type": "stream",
       "stream": "stdout",
       "text": [
        "[stdout:0] Execution time for 1 iterations: 14.3300001621\n",
        "[stdout:1] Execution time for 1 iterations: 14.0329999924\n",
        "[stdout:2] Execution time for 1 iterations: 14.2209999561\n",
        "[stdout:3] Execution time for 1 iterations: 14.1589999199\n"
       ]
      }
     ],
     "prompt_number": 24
    },
    {
     "cell_type": "heading",
     "level": 3,
     "metadata": {
      "zanadu": {
       "is_abstract": false,
       "is_hidden": false
      }
     },
     "source": [
      "End of parallelisation"
     ]
    },
    {
     "cell_type": "code",
     "collapsed": false,
     "input": [
      "%autopx"
     ],
     "language": "python",
     "metadata": {},
     "outputs": [
      {
       "output_type": "stream",
       "stream": "stdout",
       "text": [
        "%autopx disabled\n"
       ]
      }
     ],
     "prompt_number": 25
    },
    {
     "cell_type": "heading",
     "level": 3,
     "metadata": {
      "zanadu": {
       "is_abstract": false,
       "is_hidden": false
      }
     },
     "source": [
      "Results"
     ]
    },
    {
     "cell_type": "code",
     "collapsed": false,
     "input": [
      "standaloneview = rc[0]"
     ],
     "language": "python",
     "metadata": {},
     "outputs": [],
     "prompt_number": 26
    },
    {
     "cell_type": "code",
     "collapsed": false,
     "input": [
      "import numpy as np\n",
      "\n",
      "time_grid = standaloneview['time_grid']\n",
      "\n",
      "c_ = standaloneview['c_']\n",
      "lambda_ = standaloneview['lambda_']\n",
      "bar_lambda_ = standaloneview['bar_lambda_']\n",
      "k_ = standaloneview['k_']"
     ],
     "language": "python",
     "metadata": {},
     "outputs": [],
     "prompt_number": 28
    },
    {
     "cell_type": "code",
     "collapsed": false,
     "input": [
      "N = np.sum(dview['N'])\n",
      "\n",
      "tot_cva = np.sum(dview['cva'])\n",
      "tot_cva2 = np.sum(dview['cva_square'])\n",
      "\n",
      "tot_dva = np.sum(dview['dva'])\n",
      "tot_dva2 = np.sum(dview['dva_square'])\n",
      "\n",
      "tot_fva = np.sum(dview['fva'])\n",
      "tot_fva2 = np.sum(dview['fva_square'])\n",
      "\n",
      "tot_kva = np.sum(dview['kva'])\n",
      "tot_kva2 = np.sum(dview['kva_square'])\n",
      "\n",
      "# Paths\n",
      "v_mat_prices = dview['prices_mat']\n",
      "v_mat_im_b = dview['im_b_mat']\n",
      "v_mat_im_c = dview['im_c_mat']\n",
      "v_mat_capital = dview['capital_mat']\n",
      "\n",
      "prices_mat = np.concatenate(v_mat_prices)\n",
      "im_b_mat = np.concatenate(v_mat_im_b)\n",
      "im_c_mat = np.concatenate(v_mat_im_c)\n",
      "capital_mat = np.concatenate(v_mat_capital)"
     ],
     "language": "python",
     "metadata": {},
     "outputs": [],
     "prompt_number": 29
    },
    {
     "cell_type": "heading",
     "level": 4,
     "metadata": {},
     "source": [
      "Save results"
     ]
    },
    {
     "cell_type": "code",
     "collapsed": false,
     "input": [
      "path_file = 'OUTPUTS/Bilat1_most_risky.res'"
     ],
     "language": "python",
     "metadata": {},
     "outputs": [],
     "prompt_number": 32
    },
    {
     "cell_type": "code",
     "collapsed": false,
     "input": [
      "import dill\n",
      "\n",
      "with open(path_file, 'wb') as out_strm: \n",
      "    tmp = {'time_grid': time_grid, \n",
      "           'prices': prices_mat, \n",
      "           'im_b_mat': im_b_mat, \n",
      "           'im_c_mat': im_c_mat, \n",
      "           'capital': capital_mat,\n",
      "           'c': c_, \n",
      "           'lambda': lambda_, \n",
      "           'bar_lambda': bar_lambda_, \n",
      "           'k': k_}\n",
      "    \n",
      "    dill.dump(tmp, out_strm)"
     ],
     "language": "python",
     "metadata": {},
     "outputs": [],
     "prompt_number": 34
    },
    {
     "cell_type": "heading",
     "level": 4,
     "metadata": {},
     "source": [
      "Print results"
     ]
    },
    {
     "cell_type": "code",
     "collapsed": false,
     "input": [
      "# Market parameters\n",
      "discount = standaloneview['str(discount)']\n",
      "\n",
      "# Marshall Olkin copula parameters\n",
      "gamma_bank = standaloneview['gamma_bank']\n",
      "gamma_counterparty = standaloneview['gamma_counterparty']\n",
      "\n",
      "# Margins parameters\n",
      "conf_level_im = standaloneview['conf_level_im']\n",
      "\n",
      "# Contracts\n",
      "descr = standaloneview['[str(d) for d in derivatives]']\n",
      "prices = standaloneview['prices']\n",
      "positions = standaloneview['m_positions']\n",
      "portfolio_at_time_0 = standaloneview['portfolio_at_time_0']"
     ],
     "language": "python",
     "metadata": {},
     "outputs": [],
     "prompt_number": 35
    },
    {
     "cell_type": "code",
     "collapsed": false,
     "input": [
      "# 1st index: CVA\n",
      "# 2nd index: FVA\n",
      "# 3rd index: KVA\n",
      "\n",
      "labels = ['CVA', 'DVA', 'FVA', 'KVA']\n",
      "expectations = []\n",
      "mod_variances = []\n",
      "\n",
      "e_cva = tot_cva / N\n",
      "e_dva = tot_dva / N\n",
      "e_fva = tot_fva / N\n",
      "e_kva = tot_kva / N\n",
      "\n",
      "expectations.append(e_cva)\n",
      "expectations.append(e_dva)\n",
      "expectations.append(e_fva)\n",
      "expectations.append(e_kva)\n",
      "\n",
      "mod_v_cva = (tot_cva2/N - e_cva**2) / (N-1)\n",
      "mod_v_dva = (tot_dva2/N - e_dva**2) / (N-1)\n",
      "mod_v_fva = (tot_fva2/N - e_fva**2) / (N-1)\n",
      "mod_v_kva = (tot_kva2/N - e_kva**2) / (N-1)\n",
      "\n",
      "mod_variances.append(mod_v_cva)\n",
      "mod_variances.append(mod_v_dva)\n",
      "mod_variances.append(mod_v_fva)\n",
      "mod_variances.append(mod_v_kva)"
     ],
     "language": "python",
     "metadata": {},
     "outputs": [],
     "prompt_number": 37
    },
    {
     "cell_type": "code",
     "collapsed": false,
     "input": [
      "# Confidence Interval results:\n",
      "from scipy.stats import norm\n",
      "\n",
      "conf_level = 0.95\n",
      "z_level = norm.ppf(0.5*(1+conf_level))\n",
      "\n",
      "print \"Results for %d iterations\"%(N)\n",
      "print\n",
      "\n",
      "print \"Used discount factor: %s\"%discount\n",
      "print\n",
      "\n",
      "print \"Bilateral case comparison\"\n",
      "\n",
      "print \"Default intensity of the bank = %d bps\"%(gamma_bank*1e4)\n",
      "print \"Default intensity of the counterparty = %d bps\"%(gamma_counterparty*1e4)\n",
      "print\n",
      "\n",
      "print \"Derivatives contracts:\"\n",
      "for (ii, desc) in enumerate(descr):\n",
      "    print \"%d. %s\"%(ii+1, desc)\n",
      "print\n",
      "\n",
      "print \"Prices of the derivatives =\",prices\n",
      "print \"Quantities bought = \",positions\n",
      "print \"Portfolio values of actors contracted with the CCP =\",portfolio_at_time_0\n",
      "print\n",
      "\n",
      "print \"Confidence level used for VM + IM: %.2f\"%conf_level_im\n",
      "\n",
      "for label, e, mv in zip(labels, expectations, mod_variances):\n",
      "    half_inter = z_level*np.sqrt(mv)\n",
      "    print \"The %s of the bank lies in the interval: [%.4f, %.4f]\"%(label, e-half_inter, e+half_inter)"
     ],
     "language": "python",
     "metadata": {},
     "outputs": [
      {
       "output_type": "stream",
       "stream": "stdout",
       "text": [
        "Results for 4 iterations\n",
        "\n",
        "Used discount factor: Constant discount factor process with rate r = 0.02\n",
        "\n",
        "Bilateral case comparison\n",
        "Default intensity of the bank = 245 bps\n",
        "Default intensity of the counterparty = 145 bps\n",
        "\n",
        "Derivatives contracts:\n",
        "1. Swap contract of maturity T = 5 years, over S^0 with strike K = 104.821, paying at {0.00, 0.25, 0.50, 0.75, 1.00, 1.25, 1.50, 1.75, 2.00, 2.25, 2.50, 2.75, 3.00, 3.25, 3.50, 3.75, 4.00, 4.25, 4.50, 4.75, 5.00}\n",
        "\n",
        "Prices of the derivatives = [0]\n",
        "Quantities bought =  [[ 0.10050125]\n",
        " [-0.10050125]]\n",
        "Portfolio values of actors contracted with the CCP = [ 0.  0.]\n",
        "\n",
        "Confidence level used for VM + IM: 0.80\n",
        "The CVA of the bank lies in the interval: [-0.0023, 0.0366]\n",
        "The DVA of the bank lies in the interval: [-0.1027, -0.0715]\n",
        "The FVA of the bank lies in the interval: [-0.0221, -0.0028]\n",
        "The KVA of the bank lies in the interval: [5.0719, 10.1840]\n"
       ]
      }
     ],
     "prompt_number": 40
    },
    {
     "cell_type": "code",
     "collapsed": false,
     "input": [],
     "language": "python",
     "metadata": {},
     "outputs": []
    }
   ],
   "metadata": {}
  }
 ]
}