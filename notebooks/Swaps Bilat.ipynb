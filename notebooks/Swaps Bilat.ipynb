{
 "metadata": {
  "name": "",
  "signature": "sha256:561461268b79c20e278e15a8d01d02de02de7354d2ebf136a4f047125e559d30",
  "zanadu": {
   "category": "1",
   "clearance": "Internal",
   "group_name": "Evry_University",
   "notebook_id": "72E49D8F-42CD-4D01-BDA2-76D13E8D7175",
   "status": "WIP"
  }
 },
 "nbformat": 3,
 "nbformat_minor": 0,
 "worksheets": [
  {
   "cells": [
    {
     "cell_type": "heading",
     "level": 1,
     "metadata": {},
     "source": [
      "Bilateral case comparison for CCVA"
     ]
    },
    {
     "cell_type": "heading",
     "level": 2,
     "metadata": {
      "zanadu": {
       "is_abstract": false,
       "is_hidden": false
      }
     },
     "source": [
      "Resume"
     ]
    },
    {
     "cell_type": "markdown",
     "metadata": {
      "zanadu": {
       "is_abstract": false,
       "is_hidden": false
      }
     },
     "source": [
      "In that notebook, we will implement the computation of the first-order approximation of the defined TVA written in the paper of Cr\u00e9pey and Song.\n",
      "\n",
      "Remind the first-order approximation formula of the reduced form:\n",
      "\n",
      "\\begin{align*}\n",
      "\\Theta_0^{(1)} =& \\, \\mathbb{E} \\left[ \n",
      "\\int_{0}^{\\bar{T}} \\tilde{f}_s(0) ds\n",
      "\\right] \\\\\n",
      "=& \\, \\mathbb{E} \\left( 1_{\\tau \\leq \\bar{T}} \\frac{1}{\\lambda e^{-\\lambda \\tau}} \\tilde{f}_{\\tau}(0) \\right)\n",
      "\\end{align*}\n",
      "\n",
      "with the $\\tilde{f}_{.}(0)$ function is given by:\n",
      "\n",
      "\\begin{align*}\n",
      "\\tilde{f}_t(0) = &(1-R_c) \\times \\gamma^c \\times (P_t + \\Delta_t - \\Gamma_t^c)^+ \\\\\n",
      "- &(1-R_b) \\times \\gamma^b \\times (P_t + \\Delta_t - \\Gamma_t^b)^- \\\\\n",
      "+ &(c_t \\Gamma_t^f + \\tilde{\\lambda}_t (P_t - \\Gamma_t^f)^+ \n",
      "- \\lambda_t (P_t - \\Gamma_t^f)^- \\\\\n",
      "+ &\\, k_t K_t\n",
      "\\end{align*}\n",
      "\n",
      "with:  \n",
      "\n",
      "- $\\beta_t = \\exp ( - \\int_0^t r_s ds )$\n",
      "- $P_t = \\mathbb{E}_t \\left( \\frac{1}{\\beta_t} \\int_t^{\\bar{T}} \\beta_s dD_s \\right)$\n",
      "- $\\Delta_t = \\int_{[t, \\tau^{\\delta}]} \\beta_s dD_s$\n",
      "\n",
      "    \n",
      "and:  \n",
      "\n",
      "- $R_.$ the recovery of the bank or counterparty\n",
      "- $\\gamma^.$ the default intensity of the bank or counterparty\n",
      "\n",
      "\n",
      "- $\\Gamma^.$ the overall collateral of the bank or counterparty\n",
      "    - $\\Gamma^b = VM + IM_c$\n",
      "    - $\\Gamma^c = VM + IM_b$\n",
      "    \n",
      "    \n",
      "- $\\Gamma^f = \\Gamma^c + IM_c$\n",
      "    \n",
      "with the sign conventions that $VM = +1$ means the counterparty owes $1$ to the bank, $IM_c > 0$ and $IM_b < 0$. $\\color{red}{\\text{To see with S.C why of } \\Gamma^f}$\n",
      "    \n",
      "- $c_t$ the remuneration spread of the collateral\n",
      "- $\\lambda_t$ the investment spread of the bank\n",
      "- $\\tilde{\\lambda}_t := \\bar{\\lambda}_t - (1-R_f)\\gamma$ with\n",
      "    - $\\bar{\\lambda}_t$ the unsecured funding spread of the bank\n",
      "    - $R_f$ the recovery rate of the bank to its funder"
     ]
    },
    {
     "cell_type": "heading",
     "level": 2,
     "metadata": {
      "zanadu": {
       "is_abstract": false,
       "is_hidden": false
      }
     },
     "source": [
      "Parallelisation of the computations"
     ]
    },
    {
     "cell_type": "code",
     "collapsed": false,
     "input": [
      "from IPython import parallel\n",
      "\n",
      "rc = parallel.Client()\n",
      "ids = rc.ids\n",
      "print \"Available engines:\",ids\n",
      "\n",
      "#ids = [3]\n",
      "print \"Used engines:\", ids\n",
      "dview = rc[ids]\n",
      "dview.block = True\n",
      "print \"Blocking mode =\",dview.block\n",
      "dview.activate()"
     ],
     "language": "python",
     "metadata": {},
     "outputs": [
      {
       "output_type": "stream",
       "stream": "stdout",
       "text": [
        "Available engines: [0, 1, 2, 3]\n",
        "Used engines: [0, 1, 2, 3]\n",
        "Blocking mode = True\n"
       ]
      }
     ],
     "prompt_number": 1
    },
    {
     "cell_type": "heading",
     "level": 3,
     "metadata": {
      "zanadu": {
       "is_abstract": false,
       "is_hidden": false
      }
     },
     "source": [
      "Handling exceptions"
     ]
    },
    {
     "cell_type": "code",
     "collapsed": false,
     "input": [
      "from IPython.parallel import CompositeError\n",
      "#CompositeError.tb_limit = 5"
     ],
     "language": "python",
     "metadata": {},
     "outputs": [],
     "prompt_number": 2
    },
    {
     "cell_type": "code",
     "collapsed": false,
     "input": [
      "%autopx"
     ],
     "language": "python",
     "metadata": {},
     "outputs": [
      {
       "output_type": "stream",
       "stream": "stdout",
       "text": [
        "%autopx enabled\n"
       ]
      }
     ],
     "prompt_number": 3
    },
    {
     "cell_type": "heading",
     "level": 2,
     "metadata": {
      "zanadu": {
       "is_abstract": false,
       "is_hidden": false
      }
     },
     "source": [
      "Monte Carlo `code`"
     ]
    },
    {
     "cell_type": "heading",
     "level": 3,
     "metadata": {
      "zanadu": {
       "is_abstract": false,
       "is_hidden": false
      }
     },
     "source": [
      "Simulation parameters"
     ]
    },
    {
     "cell_type": "code",
     "collapsed": false,
     "input": [
      "# Instead of taking 365 standard days or 252 trading days\n",
      "# in order to get some easy computations for the eqty and df time grids\n",
      "# I chose to take 360 days of tradings\n",
      "\n",
      "step = 1/360.\n",
      "\n",
      "# Moreover, we fix a $\\delta$ mpor (margin period of risk) of 5 days \n",
      "mpor = 5*step"
     ],
     "language": "python",
     "metadata": {
      "zanadu": {
       "is_abstract": false,
       "is_hidden": false
      }
     },
     "outputs": [],
     "prompt_number": 4
    },
    {
     "cell_type": "heading",
     "level": 3,
     "metadata": {
      "zanadu": {
       "is_abstract": false,
       "is_hidden": false
      }
     },
     "source": [
      "Market parameters"
     ]
    },
    {
     "cell_type": "code",
     "collapsed": false,
     "input": [
      "from finance.discountfactor import ConstantRateDiscountFactor \n",
      "\n",
      "max_maturity = 5\n",
      "r = 0.02\n",
      "\n",
      "discount = ConstantRateDiscountFactor(r)"
     ],
     "language": "python",
     "metadata": {
      "zanadu": {
       "is_abstract": false,
       "is_hidden": false
      }
     },
     "outputs": [],
     "prompt_number": 5
    },
    {
     "cell_type": "heading",
     "level": 3,
     "metadata": {
      "zanadu": {
       "is_abstract": false,
       "is_hidden": false
      }
     },
     "source": [
      "Exponential distribution (in order to compute $\\mathbb{E} \\int$)"
     ]
    },
    {
     "cell_type": "markdown",
     "metadata": {
      "zanadu": {
       "is_abstract": false,
       "is_hidden": false
      }
     },
     "source": [
      "In order to compute the integral term, we used the change of probability measure with the exponential density. In order to do so, we took $\\lambda = \\frac{2}{\\bar{T}}$ in order to get the event $\\{ \\tau \\leq \\bar{T} \\}$ with a probability $p = 1 - e^{-2} \\approx 0.86$. Moreover, the distribution is centered to the middle of the interval $[0, \\bar{T}]$."
     ]
    },
    {
     "cell_type": "code",
     "collapsed": false,
     "input": [
      "from scipy.stats import expon\n",
      "\n",
      "# To confirm, because \n",
      "lbda = 2.0 / max_maturity\n",
      "exp_distrib = expon(loc=0, scale=1.0/lbda)"
     ],
     "language": "python",
     "metadata": {
      "zanadu": {
       "is_abstract": false,
       "is_hidden": false
      }
     },
     "outputs": [],
     "prompt_number": 6
    },
    {
     "cell_type": "heading",
     "level": 3,
     "metadata": {
      "zanadu": {
       "is_abstract": false,
       "is_hidden": false
      }
     },
     "source": [
      "Underlyings parameters"
     ]
    },
    {
     "cell_type": "code",
     "collapsed": false,
     "input": [
      "import numpy as np\n",
      "from scipy.stats import norm\n",
      "from maths.montecarlo.process.brownianmotion import BrownianMotion\n",
      "\n",
      "time_grid = BrownianMotion.generate_time_grid(0, max_maturity, step)\n",
      "\n",
      "x_0 = [100]\n",
      "mu_s = [5]\n",
      "sigma_s = [10]\n",
      "\n",
      "b = BrownianMotion(x_0, mu_s, sigma_s, time_grid)\n",
      "\n",
      "for i, (x0, m_, s_) in enumerate(zip(x_0, mu_s, sigma_s)):\n",
      "    print \"P(S_T^%d < 0) = %s\"%(i+1, norm.cdf(-(x0 + m_ * max_maturity)/(s_*np.sqrt(max_maturity))))"
     ],
     "language": "python",
     "metadata": {
      "zanadu": {
       "is_abstract": false,
       "is_hidden": false
      }
     },
     "outputs": [
      {
       "output_type": "stream",
       "stream": "stdout",
       "text": [
        "[stdout:0] P(S_T^1 < 0) = 1.13423742963e-08\n",
        "[stdout:1] P(S_T^1 < 0) = 1.13423742963e-08\n",
        "[stdout:2] P(S_T^1 < 0) = 1.13423742963e-08\n",
        "[stdout:3] P(S_T^1 < 0) = 1.13423742963e-08\n"
       ]
      }
     ],
     "prompt_number": 7
    },
    {
     "cell_type": "heading",
     "level": 3,
     "metadata": {
      "zanadu": {
       "is_abstract": false,
       "is_hidden": false
      }
     },
     "source": [
      "Swap Contracts"
     ]
    },
    {
     "cell_type": "markdown",
     "metadata": {
      "zanadu": {
       "is_abstract": false,
       "is_hidden": false
      }
     },
     "source": [
      "In our simulations, we will use Swaps contracts with different maturities"
     ]
    },
    {
     "cell_type": "code",
     "collapsed": false,
     "input": [
      "from finance.products.european.swap import (\n",
      "    SwapContract,\n",
      ")\n",
      "\n",
      "delta = 0.25\n",
      "maturities = [max_maturity]\n",
      "\n",
      "swaps = [SwapContract(b, discount, SwapContract.generate_payment_dates(0, m, delta), i%3) \n",
      "         for i, m in enumerate(maturities)]\n",
      "\n",
      "prices = [0 for s in swaps]\n",
      "\n",
      "for s in swaps:\n",
      "    print \"-\", s\n",
      "    \n",
      "derivatives = swaps"
     ],
     "language": "python",
     "metadata": {
      "zanadu": {
       "is_abstract": false,
       "is_hidden": false
      }
     },
     "outputs": [
      {
       "output_type": "stream",
       "stream": "stdout",
       "text": [
        "[stdout:0] - Swap contract of maturity T = 5 years, over S^0 with strike K = 104.821, paying at {0.00, 0.25, 0.50, 0.75, 1.00, 1.25, 1.50, 1.75, 2.00, 2.25, 2.50, 2.75, 3.00, 3.25, 3.50, 3.75, 4.00, 4.25, 4.50, 4.75, 5.00}\n",
        "[stdout:1] - Swap contract of maturity T = 5 years, over S^0 with strike K = 104.821, paying at {0.00, 0.25, 0.50, 0.75, 1.00, 1.25, 1.50, 1.75, 2.00, 2.25, 2.50, 2.75, 3.00, 3.25, 3.50, 3.75, 4.00, 4.25, 4.50, 4.75, 5.00}\n",
        "[stdout:2] - Swap contract of maturity T = 5 years, over S^0 with strike K = 104.821, paying at {0.00, 0.25, 0.50, 0.75, 1.00, 1.25, 1.50, 1.75, 2.00, 2.25, 2.50, 2.75, 3.00, 3.25, 3.50, 3.75, 4.00, 4.25, 4.50, 4.75, 5.00}\n",
        "[stdout:3] - Swap contract of maturity T = 5 years, over S^0 with strike K = 104.821, paying at {0.00, 0.25, 0.50, 0.75, 1.00, 1.25, 1.50, 1.75, 2.00, 2.25, 2.50, 2.75, 3.00, 3.25, 3.50, 3.75, 4.00, 4.25, 4.50, 4.75, 5.00}\n"
       ]
      }
     ],
     "prompt_number": 8
    },
    {
     "cell_type": "heading",
     "level": 3,
     "metadata": {
      "zanadu": {
       "is_abstract": false,
       "is_hidden": false
      }
     },
     "source": [
      "Exposures to forwards for $K_{CCP}$ computation"
     ]
    },
    {
     "cell_type": "raw",
     "metadata": {},
     "source": [
      "from ccp.regulation.exposure import EuropeanQuantileBrownianExposure\n",
      "\n",
      "exposure_mpor = 1./12\n",
      "exposure_quantile = 0.99\n",
      "\n",
      "exposures = []\n",
      "for swap in swaps:\n",
      "    index = swap.underlying_index\n",
      "    drift = mu_s[index]\n",
      "    vol = sigma_s[index]\n",
      "    \n",
      "    e = EuropeanQuantileBrownianExposure(swap, exposure_mpor, drift, vol, exposure_quantile, discount)\n",
      "    exposures.append(e)"
     ]
    },
    {
     "cell_type": "heading",
     "level": 3,
     "metadata": {
      "zanadu": {
       "is_abstract": false,
       "is_hidden": false
      }
     },
     "source": [
      "Marshall Olkin copula"
     ]
    },
    {
     "cell_type": "raw",
     "metadata": {},
     "source": [
      "We choose the following parameters:  \n",
      "\n",
      "- $\\gamma_0 = 200$ bps\n",
      "- $\\gamma_1 = 100$ bps\n",
      "- $\\gamma_2 = 50$ bps\n",
      "- $\\gamma_{0, 1} = 30$ bps\n",
      "- $\\gamma_{0, 1, 2} = 15$ bps\n",
      "\n",
      "which leads to:\n",
      "\n",
      "- $\\gamma_0^{tot} = 245$ bps\n",
      "- $\\gamma_1^{tot} = 145$ bps\n",
      "- $\\gamma_2^{tot} = 65$ bps"
     ]
    },
    {
     "cell_type": "raw",
     "metadata": {},
     "source": [
      "from maths.copula.marshallolkin import MarshallOlkinCopula\n",
      "\n",
      "nb_cm = 3\n",
      "cm_index = 0\n",
      "\n",
      "mo_groups = [frozenset([i]) for i in range(nb_cm)]\n",
      "mo_groups.append(frozenset([0, 1]))\n",
      "mo_groups.append(frozenset([0, 1, 2]))\n",
      "\n",
      "lambdas = [0.0200, 0.0100, 0.0050, 0.0030, 0.0015]\n",
      "\n",
      "copula = MarshallOlkinCopula(cm_index, nb_cm, mo_groups, lambdas)\n",
      "print \"Subsets which can defaults: \", [\"%s\"%[xi for xi in x] for x in copula._subsets_[copula._surv_subsets_ind_]]\n",
      "print \"With intensities: \",[\"%s\"%x for x in copula._lambdas_[copula._surv_subsets_ind_]]\n",
      "print\n",
      "print \"Default intensity of member %s: \"%cm_index, copula._gamma_"
     ]
    },
    {
     "cell_type": "heading",
     "level": 3,
     "metadata": {},
     "source": [
      "Portfolio manager of the clearing members"
     ]
    },
    {
     "cell_type": "raw",
     "metadata": {},
     "source": [
      "from ccp.portfolio import CCPPortfolio\n",
      "\n",
      "positions = [[1000],\n",
      "             [-500],\n",
      "             [-500]]\n",
      "\n",
      "portfolio = CCPPortfolio(positions, swaps, prices, exposures)\n",
      "\n",
      "m_positions = np.matrix(positions)\n",
      "portfolio_at_time_0 = m_positions.dot(np.array(prices).T).A1\n",
      "print portfolio_at_time_0"
     ]
    },
    {
     "cell_type": "raw",
     "metadata": {},
     "source": [
      "alpha = ConstantRateDiscountFactor(r + copula._gamma_)"
     ]
    },
    {
     "cell_type": "heading",
     "level": 3,
     "metadata": {},
     "source": [
      "Collateral management"
     ]
    },
    {
     "cell_type": "heading",
     "level": 4,
     "metadata": {},
     "source": [
      "CCP's Equity"
     ]
    },
    {
     "cell_type": "raw",
     "metadata": {},
     "source": [
      "from ccp.sig import SkinInTheGame\n",
      "\n",
      "# We set that there is no equity\n",
      "sig0 = 0\n",
      "\n",
      "sig = SkinInTheGame(sig0)"
     ]
    },
    {
     "cell_type": "heading",
     "level": 4,
     "metadata": {
      "zanadu": {
       "is_abstract": false,
       "is_hidden": false
      }
     },
     "source": [
      "CCP's members Initial margins and default funds"
     ]
    },
    {
     "cell_type": "raw",
     "metadata": {},
     "source": [
      "from ccp.states import MembersState\n",
      "from ccp.accounts import Accounts, DFAccounts\n",
      "\n",
      "states = MembersState(nb_cm)\n",
      "\n",
      "vm_accounts = Accounts(states)"
     ]
    },
    {
     "cell_type": "raw",
     "metadata": {},
     "source": [
      "conf_level_im = 0.70\n",
      "min_im_required = 0.\n",
      "im_accounts = Accounts(states)\n",
      "im_accounts.reset(min_im_required)"
     ]
    },
    {
     "cell_type": "raw",
     "metadata": {},
     "source": [
      "conf_level_df = 0.80\n",
      "min_df_required = 1e-8\n",
      "df_accounts = DFAccounts(states)\n",
      "df_accounts.reset(min_df_required)\n",
      "\n",
      "dfs = portfolio.compute_exposure(0, risk_period=mpor, conf_level=conf_level_df)\n",
      "for ii, (vm, im, df) in enumerate(zip(vm_accounts.amounts, im_accounts.amounts, dfs.flat)):\n",
      "    tmp = np.maximum(df-im-vm, min_df_required)\n",
      "    df_accounts.put_amount(ii, tmp)\n",
      "    \n",
      "print df_accounts.amounts"
     ]
    },
    {
     "cell_type": "heading",
     "level": 3,
     "metadata": {
      "zanadu": {
       "is_abstract": false,
       "is_hidden": false
      }
     },
     "source": [
      "Regulatory capital"
     ]
    },
    {
     "cell_type": "raw",
     "metadata": {},
     "source": [
      "from ccp.regulation.capital import RegulatoryCapital\n",
      "\n",
      "# We first set a beta factor to 30% (recommandation of Dosseur)\n",
      "beta = 0.3\n",
      "\n",
      "optional_params = {}\n",
      "\n",
      "regul_capital = RegulatoryCapital(beta, im_accounts, df_accounts, sig, portfolio, **optional_params)"
     ]
    },
    {
     "cell_type": "heading",
     "level": 3,
     "metadata": {
      "zanadu": {
       "is_abstract": false,
       "is_hidden": false
      }
     },
     "source": [
      "Simulations"
     ]
    },
    {
     "cell_type": "heading",
     "level": 4,
     "metadata": {
      "zanadu": {
       "is_abstract": false,
       "is_hidden": false
      }
     },
     "source": [
      "Helper for states modification"
     ]
    },
    {
     "cell_type": "raw",
     "metadata": {},
     "source": [
      "def modify_states(states, copula, default_times, t):\n",
      "    res = []\n",
      "    subsets = copula._subsets_[copula._surv_subsets_ind_]\n",
      "    for tau, s in zip(default_times, subsets):\n",
      "        if tau <= t:\n",
      "            deads_tuple = list(s)           \n",
      "            for d in deads_tuple:\n",
      "                if states.is_alive(d):\n",
      "                    states.die(d)\n",
      "                    res.append(d)\n",
      "                    \n",
      "    return np.unique(res)"
     ]
    },
    {
     "cell_type": "heading",
     "level": 4,
     "metadata": {
      "zanadu": {
       "is_abstract": false,
       "is_hidden": false
      }
     },
     "source": [
      "Definition of the time grids for equity and default fund \"re\"-contribution"
     ]
    },
    {
     "cell_type": "raw",
     "metadata": {},
     "source": [
      "sig_time_grid = [t for t in time_grid if t.is_integer()]\n",
      "df_time_grid = [t for t in time_grid if (12*t).is_integer()]"
     ]
    },
    {
     "cell_type": "heading",
     "level": 4,
     "metadata": {
      "zanadu": {
       "is_abstract": false,
       "is_hidden": false
      }
     },
     "source": [
      "Definition of the function $\\tilde{f}_{.}(0)$"
     ]
    },
    {
     "cell_type": "markdown",
     "metadata": {
      "zanadu": {
       "is_abstract": false,
       "is_hidden": false
      }
     },
     "source": [
      "We consider here that $(c_t), (\\lambda_t), (\\bar{\\lambda}_t)$ and $(k_t)$ are constant processes."
     ]
    },
    {
     "cell_type": "raw",
     "metadata": {},
     "source": [
      "c_ = -0.002\n",
      "lambda_ = 0\n",
      "bar_lambda_ = 0.005\n",
      "k_ = 0.1\n",
      "\n",
      "def tilde_f(p, gamma, k_cm):\n",
      "    gamma_min_p = gamma-p\n",
      "    fva = -c_*gamma + bar_lambda_*np.maximum(gamma_min_p, 0) + lambda_*np.minimum(gamma_min_p, 0) \n",
      "    kva = k_*k_cm\n",
      "    return fva, kva"
     ]
    },
    {
     "cell_type": "heading",
     "level": 4,
     "metadata": {},
     "source": [
      "Monte Carlo loop"
     ]
    },
    {
     "cell_type": "raw",
     "metadata": {},
     "source": [
      "N = 1250\n",
      "\n",
      "prices_mat = np.zeros((N, len(time_grid)))\n",
      "prices_mat[:, 0] = portfolio_at_time_0[cm_index]\n",
      "\n",
      "collat_mat = np.zeros((N, len(time_grid)))\n",
      "collat_mat[:, 0] = np.array([x.amounts[cm_index] for x in [vm_accounts, im_accounts, df_accounts]]).sum()\n",
      "\n",
      "capital_mat = np.zeros((N, len(time_grid)))\n",
      "capital_mat[:, 0] = regul_capital.compute_k_cm(cm_index, 0)\n",
      "\n",
      "time_grid2 = np.delete(time_grid, 0)"
     ]
    },
    {
     "cell_type": "raw",
     "metadata": {},
     "source": [
      "import time\n",
      "\n",
      "start_time = time.time()\n",
      "\n",
      "# CVA part\n",
      "cva = 0.\n",
      "cva_square = 0.   \n",
      "\n",
      "# FVA part\n",
      "fva = 0.\n",
      "fva_square = 0.    \n",
      "\n",
      "# KVA part\n",
      "kva = 0.\n",
      "kva_square = 0.\n",
      "\n",
      "default_times = copula.simulate_default_times(N)\n",
      "random_times = exp_distrib.rvs(size=N)\n",
      "\n",
      "for i in range(N):\n",
      "    b.simulate()\n",
      "    \n",
      "    states.resurrect_all()\n",
      "    vm_accounts.reset()\n",
      "    im_accounts.reset(min_im_required)\n",
      "    df_accounts.reset(min_df_required)\n",
      "    \n",
      "    sig.recover()\n",
      "    \n",
      "    t_minus = 0\n",
      "            \n",
      "    defaulters = dict()    \n",
      "    rand_time = random_times[i]\n",
      "    \n",
      "    for time_index, t in enumerate(time_grid2):\n",
      "        if t in sig_time_grid:\n",
      "            sig.recover()\n",
      "        \n",
      "        d_pl = [d.price(t) for d in derivatives]\n",
      "        p_and_l = portfolio.compute_pl(d_pl)\n",
      "\n",
      "        for ii, pl in enumerate(p_and_l):\n",
      "            vm_accounts.put_amount(ii, pl)\n",
      "        \n",
      "        new_defaulted = modify_states(states, copula, default_times[i], t)            \n",
      "        if new_defaulted.size > 0:\n",
      "            defaulters[t+mpor] = {\"tau\": t, \"defaulters\": new_defaulted}\n",
      "            \n",
      "        for k, v in defaulters.iteritems():\n",
      "            if t_minus < k and k <= t:\n",
      "                # Delta to do if (tau + delta) <= maturity of a future contract\n",
      "                # TO DO\n",
      "                                \n",
      "                contract_prices = [d.price(t) for d in derivatives]\n",
      "                contract_losses = portfolio.compute_pl(contract_prices)\n",
      "                P = contract_losses[v[\"defaulters\"]]\n",
      "                                        \n",
      "                collat_defaulters = vm_accounts.amounts + im_accounts.amounts + df_accounts.amounts\n",
      "                tot_collat = collat_defaulters\n",
      "                collat = tot_collat[v[\"defaulters\"]]\n",
      "                    \n",
      "                loss_tau_minus_collat = P-collat                    \n",
      "                remain_collat_loss = 0.\n",
      "                for l in loss_tau_minus_collat:\n",
      "                    remain_collat_loss += np.maximum(l, 0)\n",
      "                \n",
      "                remaining_loss = sig.handle_breach(remain_collat_loss)\n",
      "                \n",
      "                frac = df_accounts.get_amount(cm_index) / df_accounts.total_default_fund()\n",
      "                partial_loss = frac*remaining_loss                        \n",
      "                tmp_cva = alpha(t) * partial_loss\n",
      "                        \n",
      "                cva += tmp_cva\n",
      "                cva_square += tmp_cva**2\n",
      "            \n",
      "        ims = portfolio.compute_exposure(t, risk_period=mpor, conf_level=conf_level_im)\n",
      "        for ii, (im, vm) in enumerate(zip(ims.flat, vm_accounts.amounts)):\n",
      "            tmp = np.maximum(im-vm, min_im_required)\n",
      "            im_accounts.put_amount(ii, tmp)\n",
      "            \n",
      "        if t in df_time_grid:\n",
      "            dfs = portfolio.compute_exposure(t, risk_period=mpor, conf_level=conf_level_df)\n",
      "            for ii, (vm, im, df) in enumerate(zip(vm_accounts.amounts, im_accounts.amounts, dfs.flat)):\n",
      "                tmp = np.maximum(df-im-vm, min_df_required)\n",
      "                df_accounts.put_amount(ii, tmp)\n",
      "                \n",
      "        if t_minus < rand_time and rand_time <= t:\n",
      "            rand_time = t\n",
      "            contract_prices = [d.price(t) for d in derivatives]\n",
      "                        \n",
      "            contract_losses = portfolio.compute_pl(contract_prices)\n",
      "            P = contract_losses[cm_index]\n",
      "                        \n",
      "            collat = np.array([x.amounts[cm_index] for x in [vm_accounts, im_accounts, df_accounts]]).sum()\n",
      "\n",
      "            reg_capital = regul_capital.compute_k_cm(cm_index, rand_time)\n",
      "                                    \n",
      "            inv_pdf = 1./exp_distrib.pdf(rand_time)\n",
      "            alpha_tau = alpha(rand_time)\n",
      "            tmp_factor = alpha_tau * inv_pdf\n",
      "            \n",
      "            tmp_fva, tmp_kva = tilde_f(P, collat, reg_capital)\n",
      "            tmp_fva *= tmp_factor\n",
      "            tmp_kva *= tmp_factor\n",
      "                \n",
      "            fva += tmp_fva\n",
      "            fva_square += tmp_fva**2\n",
      "                \n",
      "            kva += tmp_kva\n",
      "            kva_square += tmp_kva**2                \n",
      "            \n",
      "        prices_mat[i, time_index+1] = p_and_l[cm_index]\n",
      "        collat_mat[i, time_index+1] = np.array([x.amounts[cm_index] for x in [vm_accounts, im_accounts, df_accounts]]).sum()\n",
      "        capital_mat[i, time_index+1] = k_*regul_capital.compute_k_cm(cm_index, t)\n",
      "        \n",
      "        t_minus = t\n",
      "        \n",
      "print \"Execution time for %d iterations: %s\"%(N, time.time() - start_time)"
     ]
    },
    {
     "cell_type": "heading",
     "level": 3,
     "metadata": {
      "zanadu": {
       "is_abstract": false,
       "is_hidden": false
      }
     },
     "source": [
      "End of parallelisation"
     ]
    },
    {
     "cell_type": "code",
     "collapsed": false,
     "input": [
      "%autopx"
     ],
     "language": "python",
     "metadata": {},
     "outputs": [
      {
       "output_type": "stream",
       "stream": "stdout",
       "text": [
        "%autopx disabled\n"
       ]
      }
     ],
     "prompt_number": 23
    },
    {
     "cell_type": "heading",
     "level": 3,
     "metadata": {
      "zanadu": {
       "is_abstract": false,
       "is_hidden": false
      }
     },
     "source": [
      "Results"
     ]
    },
    {
     "cell_type": "raw",
     "metadata": {},
     "source": [
      "standaloneview = rc[0]"
     ]
    },
    {
     "cell_type": "raw",
     "metadata": {},
     "source": [
      "import numpy as np\n",
      "\n",
      "time_grid = standaloneview['time_grid']\n",
      "cm_index = standaloneview['cm_index']\n",
      "\n",
      "c_ = standaloneview['c_']\n",
      "lambda_ = standaloneview['lambda_']\n",
      "bar_lambda_ = standaloneview['bar_lambda_']\n",
      "k_ = standaloneview['k_']"
     ]
    },
    {
     "cell_type": "raw",
     "metadata": {},
     "source": [
      "N = np.sum(dview['N'])\n",
      "\n",
      "tot_cva = np.sum(dview['cva'])\n",
      "tot_cva2 = np.sum(dview['cva_square'])\n",
      "\n",
      "tot_fva = np.sum(dview['fva'])\n",
      "tot_fva2 = np.sum(dview['fva_square'])\n",
      "\n",
      "tot_kva = np.sum(dview['kva'])\n",
      "tot_kva2 = np.sum(dview['kva_square'])\n",
      "\n",
      "# Paths\n",
      "v_mat_prices = dview['prices_mat']\n",
      "v_mat_collat = dview['collat_mat']\n",
      "v_mat_capital = dview['capital_mat']\n",
      "\n",
      "prices_mat = np.concatenate(v_mat_prices)\n",
      "collat_mat = np.concatenate(v_mat_collat)\n",
      "capital_mat = np.concatenate(v_mat_capital)"
     ]
    },
    {
     "cell_type": "heading",
     "level": 4,
     "metadata": {},
     "source": [
      "Save results"
     ]
    },
    {
     "cell_type": "raw",
     "metadata": {},
     "source": [
      "path_file = 'OUTPUTS/Swaps/3CM_most_risky.res'"
     ]
    },
    {
     "cell_type": "raw",
     "metadata": {},
     "source": [
      "import dill\n",
      "\n",
      "with open(path_file, 'wb') as out_strm: \n",
      "    tmp = {'time_grid': time_grid, 'cm_index': cm_index,\n",
      "           'prices': prices_mat, 'collat': collat_mat, 'capital': capital_mat,\n",
      "           'c': c_, 'lambda': lambda_, 'bar_lambda': bar_lambda_, 'k': k_}\n",
      "    dill.dump(tmp, out_strm)"
     ]
    },
    {
     "cell_type": "heading",
     "level": 4,
     "metadata": {},
     "source": [
      "Print results"
     ]
    },
    {
     "cell_type": "raw",
     "metadata": {},
     "source": [
      "nb_cm = standaloneview['nb_cm']\n",
      "\n",
      "# Market parameters\n",
      "discount = standaloneview['str(discount)']\n",
      "\n",
      "# Marshall Olkin copula parameters\n",
      "subsets_defaulters = np.array(standaloneview['copula._subsets_'])\n",
      "intensity_defaulters = np.array(standaloneview['copula._lambdas_'])\n",
      "gamma_i = standaloneview['copula._gamma_']\n",
      "\n",
      "# Margins parameters\n",
      "conf_level_im = standaloneview['conf_level_im']\n",
      "conf_level_df = standaloneview['conf_level_df']\n",
      "sig0 = standaloneview['sig0']\n",
      "\n",
      "# Contracts\n",
      "descr = standaloneview['[str(d) for d in derivatives]']\n",
      "prices = standaloneview['prices']\n",
      "positions = standaloneview['positions']\n",
      "portfolio_at_time_0 = standaloneview['portfolio_at_time_0']"
     ]
    },
    {
     "cell_type": "raw",
     "metadata": {},
     "source": [
      "# 1st index: CVA\n",
      "# 2nd index: FVA\n",
      "# 3rd index: KVA\n",
      "\n",
      "labels = ['CVA', 'FVA', 'KVA']\n",
      "expectations = []\n",
      "mod_variances = []\n",
      "\n",
      "e_cva = tot_cva / N\n",
      "e_fva = tot_fva / N\n",
      "e_kva = tot_kva / N\n",
      "\n",
      "expectations.append(e_cva)\n",
      "expectations.append(e_fva)\n",
      "expectations.append(e_kva)\n",
      "\n",
      "mod_v_cva = (tot_cva2/N - e_cva**2) / (N-1)\n",
      "mod_v_fva = (tot_fva2/N - e_fva**2) / (N-1)\n",
      "mod_v_kva = (tot_kva2/N - e_kva**2) / (N-1)\n",
      "\n",
      "mod_variances.append(mod_v_cva)\n",
      "mod_variances.append(mod_v_fva)\n",
      "mod_variances.append(mod_v_kva)"
     ]
    },
    {
     "cell_type": "raw",
     "metadata": {},
     "source": [
      "# Confidence Interval results:\n",
      "from scipy.stats import norm\n",
      "\n",
      "conf_level = 0.95\n",
      "z_level = norm.ppf(0.5*(1+conf_level))\n",
      "\n",
      "print \"Results for %d iterations\"%(N)\n",
      "print\n",
      "\n",
      "print \"Used discount factor: %s\"%discount\n",
      "print\n",
      "\n",
      "print \"Nb of CM =\",nb_cm\n",
      "print\n",
      "\n",
      "for sub, l in zip(subsets_defaulters, intensity_defaulters):\n",
      "    print \"Default intensity of %s = %s\"%([x for x in sub], \"%d bps\"%(l*1e4))\n",
      "print\n",
      "\n",
      "print \"Default intensity of member %s = %d bps\"%(cm_index, gamma_i*1e4)\n",
      "print\n",
      "\n",
      "print \"Derivatives contracts:\"\n",
      "for (ii, desc) in enumerate(descr):\n",
      "    print \"%d. %s\"%(ii+1, desc)\n",
      "print\n",
      "\n",
      "print \"Prices of the derivatives =\",prices\n",
      "print \"Quantities bought = \",positions\n",
      "print \"Portfolio values of all members contracted with the CCP =\",portfolio_at_time_0\n",
      "print\n",
      "\n",
      "print \"Skin in the game input parameter put at beginning of each year: %.1f\"%sig0\n",
      "print \"Confidence level used for VM + IM: %.2f\"%conf_level_im\n",
      "print \"Confidence level used for VM + IM + DF: %.2f\"%conf_level_df\n",
      "print \n",
      "\n",
      "for label, e, mv in zip(labels, expectations, mod_variances):\n",
      "    half_inter = z_level*np.sqrt(mv)\n",
      "    print \"The %s of member %s lies in the interval: [%.4f, %.4f]\"%(label, cm_index, e-half_inter, e+half_inter)"
     ]
    }
   ],
   "metadata": {}
  }
 ]
}