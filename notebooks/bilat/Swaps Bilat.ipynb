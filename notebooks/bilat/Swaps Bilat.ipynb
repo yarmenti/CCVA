{
 "metadata": {
  "name": "",
  "signature": "sha256:00a99b97a23fedacb2c7d0f4137d1eb8c10e9e0a60bdb67218a3a7c3d49742bb",
  "zanadu": {
   "category": "1",
   "clearance": "Internal",
   "group_name": "Evry_University",
   "notebook_id": "72E49D8F-42CD-4D01-BDA2-76D13E8D7175",
   "status": "WIP"
  }
 },
 "nbformat": 3,
 "nbformat_minor": 0,
 "worksheets": [
  {
   "cells": [
    {
     "cell_type": "heading",
     "level": 1,
     "metadata": {},
     "source": [
      "Bilateral case comparison for CCVA"
     ]
    },
    {
     "cell_type": "heading",
     "level": 2,
     "metadata": {
      "zanadu": {
       "is_abstract": false,
       "is_hidden": false
      }
     },
     "source": [
      "Resume"
     ]
    },
    {
     "cell_type": "markdown",
     "metadata": {},
     "source": [
      "In that notebook, we will implement the computation of the first-order approximation of the defined TVA written in the paper of Cr\u00e9pey and Song [Counterparty Risk Modeling: Beyond Immersion\n",
      "](http://grozny.maths.univ-evry.fr/pages_perso/crepey/papers/marks-SUBMITTED.pdf)\n",
      "\n",
      "Remind the first-order approximation formula of the reduced form:\n",
      "\n",
      "\\begin{align*}\n",
      "\\Theta_0^{(1)} =& \\, \\mathbb{E} \\left[ \n",
      "\\int_{0}^{\\bar{T}} \\alpha_s \\tilde{f}_s(0) ds\n",
      "\\right] \\\\\n",
      "=& \\, \\mathbb{E} \\left( 1_{\\tau \\leq \\bar{T}} \\frac{1}{\\lambda e^{-\\lambda \\tau}} \\alpha_{\\tau} \\tilde{f}_{\\tau}(0) \\right)\n",
      "\\end{align*}\n",
      "\n",
      "with the $\\tilde{f}_{.}(0)$ function is given by:\n",
      "\n",
      "\\begin{align*}\n",
      "\\tilde{f}_t(0) = &(1-R_c) \\times \\gamma^c \\times (P_t + \\Delta_t - \\Gamma_t^c)^+ \\\\\n",
      "- &(1-R_b) \\times \\gamma^b \\times (P_t + \\Delta_t - \\Gamma_t^b)^- \\\\\n",
      "+ &(c_t \\Gamma_t^f + \\tilde{\\lambda}_t (P_t - \\Gamma_t^f)^+\n",
      "- \\lambda_t (P_t - \\Gamma_t^f)^-) \\\\\n",
      "+ &\\, k_t K_t\n",
      "\\end{align*}\n",
      "\n",
      "with:  \n",
      "\n",
      "- $\\beta_t = \\exp ( - \\int_0^t r_s ds )$\n",
      "- $P_t = \\mathbb{E}_t \\left( \\frac{1}{\\beta_t} \\int_t^{\\bar{T}} \\beta_s dD_s \\right)$\n",
      "- $\\Delta_t = \\int_{[t, \\tau^{\\delta}]} \\beta_s dD_s$\n",
      "- $\\alpha_t = \\exp ( - \\int_0^t (r_s+\\dot{\\gamma}_s) ds )$\n",
      "\n",
      "$\\dot{\\gamma}_s = \\sum_{Y \\in \\mathcal{Y}_{\\bullet}} \\gamma_Y$ tous les chocs qui font tomber C ou B."
     ]
    },
    {
     "cell_type": "heading",
     "level": 3,
     "metadata": {},
     "source": [
      "Notations"
     ]
    },
    {
     "cell_type": "markdown",
     "metadata": {},
     "source": [
      "Moreover, we used the following notations:\n",
      "\n",
      "- $R_.$ the recovery of the bank or counterparty\n",
      "- $\\gamma^.$ the default intensity of the bank or counterparty"
     ]
    },
    {
     "cell_type": "heading",
     "level": 4,
     "metadata": {},
     "source": [
      "Collateral"
     ]
    },
    {
     "cell_type": "markdown",
     "metadata": {},
     "source": [
      "The ***collateral*** of both parties are denoted by the following:\n",
      "\n",
      "- $\\Gamma^b$ the overall bank collateral posted by the counterparty: $\\Gamma^b = VM + IM_c$, with $IM_c > 0$\n",
      "- $-\\Gamma^c$ the overall counterparty collateral posted by the bank: $\\Gamma^c= VM + IM_b$, with $IM_b < 0$\n",
      "- $-\\Gamma^f = -\\Gamma^c - IM_c$ the collateral funded by the bank (which is the point of view we adopted here). Note that the term $-IM_c$ corresponds to the rehypotecation of the initial margin posted (initially!) by the counterparty."
     ]
    },
    {
     "cell_type": "markdown",
     "metadata": {},
     "source": [
      "Note the the sign conventions:\n",
      "$VM = +1$ means the counterparty owes $1$ to the bank. Moreover, $IM_.$ denotes the initial margin posted by $.$"
     ]
    },
    {
     "cell_type": "heading",
     "level": 4,
     "metadata": {},
     "source": [
      "Spread remunerations wrt to risk free rate"
     ]
    },
    {
     "cell_type": "markdown",
     "metadata": {
      "zanadu": {
       "is_abstract": false,
       "is_hidden": false
      }
     },
     "source": [
      "- $c_t$ the remuneration spread of the collateral\n",
      "- $\\lambda_t$ the investment spread of the bank\n",
      "- $\\tilde{\\lambda}_t := \\bar{\\lambda}_t - (1-R_f)\\gamma^b$ with\n",
      "    - $\\bar{\\lambda}_t$ the unsecured funding spread of the bank\n",
      "    - $R_f$ the recovery rate of the bank to its funder"
     ]
    },
    {
     "cell_type": "heading",
     "level": 3,
     "metadata": {},
     "source": [
      "Comparison to CCVA"
     ]
    },
    {
     "cell_type": "markdown",
     "metadata": {},
     "source": [
      "Compared to the CCVA computations, this notebook focuses on the most risky (member 0) trading with the counterparty 1.\n",
      "Thus here:  \n",
      "\n",
      "- the bank $\\Leftrightarrow$ member n\u00b0 1\n",
      "- the counterparty $\\Leftrightarrow$ member n\u00b0 0"
     ]
    },
    {
     "cell_type": "heading",
     "level": 3,
     "metadata": {},
     "source": [
      "Adding path"
     ]
    },
    {
     "cell_type": "code",
     "collapsed": false,
     "input": [
      "import sys\n",
      "\n",
      "sys.path.append('../..')"
     ],
     "language": "python",
     "metadata": {},
     "outputs": [],
     "prompt_number": 1
    },
    {
     "cell_type": "heading",
     "level": 2,
     "metadata": {
      "zanadu": {
       "is_abstract": false,
       "is_hidden": false
      }
     },
     "source": [
      "Monte Carlo `code`"
     ]
    },
    {
     "cell_type": "heading",
     "level": 3,
     "metadata": {
      "zanadu": {
       "is_abstract": false,
       "is_hidden": false
      }
     },
     "source": [
      "Simulation parameters"
     ]
    },
    {
     "cell_type": "code",
     "collapsed": false,
     "input": [
      "# Instead of taking 365 standard days or 252 trading days\n",
      "# in order to get some easy computations for the eqty and df time grids\n",
      "# I chose to take 360 days of tradings\n",
      "\n",
      "step = 1/360.\n",
      "\n",
      "# Moreover, we fix a $\\delta$ mpor (margin period of risk) of 5 days (like in the CCP case)\n",
      "mpor = 5*step"
     ],
     "language": "python",
     "metadata": {
      "zanadu": {
       "is_abstract": false,
       "is_hidden": false
      }
     },
     "outputs": [],
     "prompt_number": 2
    },
    {
     "cell_type": "heading",
     "level": 3,
     "metadata": {
      "zanadu": {
       "is_abstract": false,
       "is_hidden": false
      }
     },
     "source": [
      "Market parameters"
     ]
    },
    {
     "cell_type": "code",
     "collapsed": false,
     "input": [
      "from finance.discountfactor import ConstantRateDiscountFactor \n",
      "\n",
      "maturity = 10.\n",
      "r = 0.02\n",
      "\n",
      "discount = ConstantRateDiscountFactor(r)"
     ],
     "language": "python",
     "metadata": {
      "zanadu": {
       "is_abstract": false,
       "is_hidden": false
      }
     },
     "outputs": [],
     "prompt_number": 3
    },
    {
     "cell_type": "heading",
     "level": 3,
     "metadata": {
      "zanadu": {
       "is_abstract": false,
       "is_hidden": false
      }
     },
     "source": [
      "Exponential distribution (in order to compute $\\mathbb{E} \\int$)"
     ]
    },
    {
     "cell_type": "markdown",
     "metadata": {
      "zanadu": {
       "is_abstract": false,
       "is_hidden": false
      }
     },
     "source": [
      "In order to compute the integral term, we used the change of probability measure with the exponential density. In order to do so, we took $\\lambda = \\frac{2}{\\bar{T}}$ in order to get the event $\\{ \\tau \\leq \\bar{T} \\}$ with a probability $p = 1 - e^{-2} \\approx 0.86$. Moreover, the distribution is centered to the middle of the interval $[0, \\bar{T}]$."
     ]
    },
    {
     "cell_type": "code",
     "collapsed": false,
     "input": [
      "from scipy.stats import expon\n",
      "\n",
      "# To confirm, because \n",
      "lbda = 2.0 / maturity\n",
      "exp_distrib = expon(loc=0, scale=1.0/lbda)"
     ],
     "language": "python",
     "metadata": {
      "zanadu": {
       "is_abstract": false,
       "is_hidden": false
      }
     },
     "outputs": [],
     "prompt_number": 4
    },
    {
     "cell_type": "heading",
     "level": 3,
     "metadata": {
      "zanadu": {
       "is_abstract": false,
       "is_hidden": false
      }
     },
     "source": [
      "Underlyings parameters"
     ]
    },
    {
     "cell_type": "code",
     "collapsed": false,
     "input": [
      "import numpy as np\n",
      "from scipy.stats import norm\n",
      "from maths.montecarlo.process.brownianmotion import BrownianMotion\n",
      "\n",
      "time_grid = BrownianMotion.generate_time_grid(0, maturity, step)\n",
      "\n",
      "x_0 = [100]\n",
      "mu_s = [6]\n",
      "sigma_s = [15]\n",
      "\n",
      "b = BrownianMotion(x_0, mu_s, sigma_s, time_grid)\n",
      "\n",
      "for i, (x0, m_, s_) in enumerate(zip(x_0, mu_s, sigma_s)):\n",
      "    print \"P(S_T^%d < 0) = %s\"%(i+1, norm.cdf(-(x0 + m_ * maturity)/(s_*np.sqrt(maturity))))"
     ],
     "language": "python",
     "metadata": {
      "zanadu": {
       "is_abstract": false,
       "is_hidden": false
      }
     },
     "outputs": [
      {
       "output_type": "stream",
       "stream": "stdout",
       "text": [
        "P(S_T^1 < 0) = 0.000371639934425\n"
       ]
      }
     ],
     "prompt_number": 5
    },
    {
     "cell_type": "heading",
     "level": 3,
     "metadata": {
      "zanadu": {
       "is_abstract": false,
       "is_hidden": false
      }
     },
     "source": [
      "Swap Contract"
     ]
    },
    {
     "cell_type": "markdown",
     "metadata": {
      "zanadu": {
       "is_abstract": false,
       "is_hidden": false
      }
     },
     "source": [
      "In our simulations, we will use Swaps contracts with different maturities"
     ]
    },
    {
     "cell_type": "code",
     "collapsed": false,
     "input": [
      "from finance.products.european.swap import (\n",
      "    SwapContract,\n",
      ")\n",
      "\n",
      "delta = 1.\n",
      "\n",
      "swap_dates = SwapContract.generate_payment_dates(0, maturity, delta)\n",
      "swap = SwapContract(b, discount, swap_dates)\n",
      "\n",
      "price_0 = swap.price(0.)\n",
      "\n",
      "print swap\n",
      "print \"\\nPrice swap at t=0 = \",price_0"
     ],
     "language": "python",
     "metadata": {
      "zanadu": {
       "is_abstract": false,
       "is_hidden": false
      }
     },
     "outputs": [
      {
       "output_type": "stream",
       "stream": "stdout",
       "text": [
        "Swap contract of maturity T = 10 years, over S^0 with strike K = 109.237, paying at {0.00, 1.00, 2.00, 3.00, 4.00, 5.00, 6.00, 7.00, 8.00, 9.00, 10.00}\n",
        "\n",
        "Price swap at t=0 =  2.27373675443e-13\n"
       ]
      }
     ],
     "prompt_number": 6
    },
    {
     "cell_type": "heading",
     "level": 3,
     "metadata": {
      "zanadu": {
       "is_abstract": false,
       "is_hidden": false
      }
     },
     "source": [
      "Exposures to derivatives for the $K_{b}$ computation"
     ]
    },
    {
     "cell_type": "code",
     "collapsed": false,
     "input": [
      "from risk.exposure import EuropeanQuantileBrownianExposure\n",
      "\n",
      "exposure_mpor = 1./12\n",
      "exposure_quantile = 0.99\n",
      "\n",
      "index = swap.underlying_index\n",
      "drift = mu_s[index]\n",
      "vol = sigma_s[index]\n",
      "exposure = EuropeanQuantileBrownianExposure(swap, exposure_mpor, drift, vol, exposure_quantile, discount)"
     ],
     "language": "python",
     "metadata": {},
     "outputs": [],
     "prompt_number": 7
    },
    {
     "cell_type": "heading",
     "level": 3,
     "metadata": {
      "zanadu": {
       "is_abstract": false,
       "is_hidden": false
      }
     },
     "source": [
      "Marshall Olkin copula"
     ]
    },
    {
     "cell_type": "markdown",
     "metadata": {},
     "source": [
      "We choose the following parameters:  \n",
      "\n",
      "- $\\gamma_0 = 500$ bps\n",
      "- $\\gamma_1 = 300$ bps\n",
      "- $\\gamma_2 = 100$ bps\n",
      "- $\\gamma_{0, 1} = 170$ bps\n",
      "- $\\gamma_{0, 1, 2} = 30$ bps\n",
      "\n",
      "which leads to:\n",
      "\n",
      "- $\\gamma_0^{tot} = 700$ bps\n",
      "- $\\gamma_1^{tot} = 500$ bps\n",
      "- $\\gamma_2^{tot} = 130$ bps\n",
      "\n",
      "Moreover, we choose all recoveries equal to $40\\%$"
     ]
    },
    {
     "cell_type": "code",
     "collapsed": false,
     "input": [
      "from maths.copula.marshallolkin import MarshallOlkinCopula\n",
      "\n",
      "nb_cm = 3\n",
      "\n",
      "bank_index = 1\n",
      "counterparty_index = 0\n",
      "recoveries = [0.4 for i in range(nb_cm)]\n",
      "\n",
      "mo_groups = [frozenset([i]) for i in range(nb_cm)]\n",
      "mo_groups.append(frozenset([0, 1]))\n",
      "mo_groups.append(frozenset([0, 1, 2]))\n",
      "\n",
      "lambdas = [0.05, 0.03, 0.01, 0.017, 0.003]\n",
      "\n",
      "copula = MarshallOlkinCopula(bank_index, nb_cm, mo_groups, lambdas, recoveries)"
     ],
     "language": "python",
     "metadata": {},
     "outputs": [],
     "prompt_number": 8
    },
    {
     "cell_type": "code",
     "collapsed": false,
     "input": [
      "gamma_bank = copula.compute_gamma(bank_index)\n",
      "print \"Default intensity of the bank: %s\"%gamma_bank\n",
      "\n",
      "gamma_counterparty = copula.compute_gamma(counterparty_index)\n",
      "print \"Default intensity of the counterparty: %s\"%gamma_counterparty\n",
      "\n",
      "gamma_both = 0.\n",
      "for group, lamb in zip(mo_groups, lambdas):\n",
      "    if (bank_index in group) or (counterparty_index in group):\n",
      "        gamma_both += lamb\n",
      "        \n",
      "print \"\\nDefault intensity of at least one of both: %s\"%gamma_both"
     ],
     "language": "python",
     "metadata": {},
     "outputs": [
      {
       "output_type": "stream",
       "stream": "stdout",
       "text": [
        "Default intensity of the bank: 0.05\n",
        "Default intensity of the counterparty: 0.07\n",
        "\n",
        "Default intensity of at least one of both: 0.1\n"
       ]
      }
     ],
     "prompt_number": 9
    },
    {
     "cell_type": "code",
     "collapsed": false,
     "input": [
      "alpha = ConstantRateDiscountFactor(r+gamma_both)"
     ],
     "language": "python",
     "metadata": {},
     "outputs": [],
     "prompt_number": 10
    },
    {
     "cell_type": "heading",
     "level": 3,
     "metadata": {},
     "source": [
      "Portfolio of the bank"
     ]
    },
    {
     "cell_type": "heading",
     "level": 4,
     "metadata": {},
     "source": [
      "Notional"
     ]
    },
    {
     "cell_type": "markdown",
     "metadata": {},
     "source": [
      "In the paper of Cr\u00e9pey, Gerboud, Grbac and Ngor [Counterparty risk and funding:\n",
      "the four wings of the TVA](http://grozny.maths.univ-evry.fr/pages_perso/crepey/papers/CVA-Wings.pdf), they compute the TVA on a swap with the following parameters (see section 4.4 Numerics):\n",
      "\n",
      ">We choose a swap notional of $N = 310.136066$\\$ so that the fixed leg of the swap is worth $100$\\$ at inception\n",
      "\n",
      "Let us compute the same way the notional such that the fixed leg is equal to $100$ \\$.\n",
      "\n",
      "\\begin{equation*}\n",
      "N = \\frac{P_{fixed}}{K \\times \\sum_{k=1}^{N} \\Delta_{T_k} \\beta_{T_k}}\n",
      "\\end{equation*}"
     ]
    },
    {
     "cell_type": "code",
     "collapsed": false,
     "input": [
      "p_fixed = 100.\n",
      "strike = swap.strike\n",
      "\n",
      "delta_times = swap.delta_time\n",
      "discount_factors = [discount(t) for t in swap.pillars[1:]]\n",
      "\n",
      "delta_beta_sum = np.dot(delta_times, discount_factors)\n",
      "\n",
      "notional = p_fixed / (strike*delta_beta_sum)\n",
      "print \"Notional =\",notional"
     ],
     "language": "python",
     "metadata": {},
     "outputs": [
      {
       "output_type": "stream",
       "stream": "stdout",
       "text": [
        "Notional = 0.102020134003\n"
       ]
      }
     ],
     "prompt_number": 11
    },
    {
     "cell_type": "code",
     "collapsed": false,
     "input": [
      "from finance.portfolio import Portfolio\n",
      "\n",
      "members_quantities = np.array([[-.5],\n",
      "                              [.5]])\n",
      "\n",
      "members_positions = np.dot(members_quantities, notional).reshape(members_quantities.shape)\n",
      "print members_positions"
     ],
     "language": "python",
     "metadata": {},
     "outputs": [
      {
       "output_type": "stream",
       "stream": "stdout",
       "text": [
        "[[-0.05101007]\n",
        " [ 0.05101007]]\n"
       ]
      }
     ],
     "prompt_number": 12
    },
    {
     "cell_type": "code",
     "collapsed": false,
     "input": [
      "from finance.portfolio import Portfolio\n",
      "\n",
      "portfolio = Portfolio(members_positions, [swap], [price_0], [exposure])\n",
      "\n",
      "m_positions = np.matrix(members_positions)\n",
      "portfolio_at_time_0 = m_positions*price_0\n",
      "print portfolio_at_time_0"
     ],
     "language": "python",
     "metadata": {},
     "outputs": [
      {
       "output_type": "stream",
       "stream": "stdout",
       "text": [
        "[[ -1.15983464e-14]\n",
        " [  1.15983464e-14]]\n"
       ]
      }
     ],
     "prompt_number": 13
    },
    {
     "cell_type": "heading",
     "level": 3,
     "metadata": {},
     "source": [
      "Collateral management"
     ]
    },
    {
     "cell_type": "heading",
     "level": 4,
     "metadata": {
      "zanadu": {
       "is_abstract": false,
       "is_hidden": false
      }
     },
     "source": [
      "Bank and counterparty's initial margins"
     ]
    },
    {
     "cell_type": "code",
     "collapsed": false,
     "input": [
      "from ccp.states import MembersState\n",
      "from ccp.accounts import Accounts, DFAccounts\n",
      "\n",
      "states = MembersState(2)\n",
      "vm_accounts = Accounts(states)"
     ],
     "language": "python",
     "metadata": {},
     "outputs": [],
     "prompt_number": 14
    },
    {
     "cell_type": "code",
     "collapsed": false,
     "input": [
      "conf_level_im = 0.90\n",
      "min_im_required = 0.\n",
      "im_accounts = Accounts(states)\n",
      "im_accounts.reset(min_im_required)"
     ],
     "language": "python",
     "metadata": {},
     "outputs": [],
     "prompt_number": 15
    },
    {
     "cell_type": "heading",
     "level": 3,
     "metadata": {},
     "source": [
      "Default model of the counterparty"
     ]
    },
    {
     "cell_type": "code",
     "collapsed": false,
     "input": [
      "from credit.default_probability import FlatIntensity\n",
      "\n",
      "default_model = FlatIntensity(gamma_counterparty)"
     ],
     "language": "python",
     "metadata": {},
     "outputs": [],
     "prompt_number": 16
    },
    {
     "cell_type": "heading",
     "level": 3,
     "metadata": {
      "zanadu": {
       "is_abstract": false,
       "is_hidden": false
      }
     },
     "source": [
      "Regulatory capital"
     ]
    },
    {
     "cell_type": "code",
     "collapsed": false,
     "input": [
      "from risk.basel import RegulatoryCapital\n",
      "\n",
      "#From Kenyon [KVA] p.13: c = 8%\n",
      "\n",
      "kenyon_c = .08\n",
      "\n",
      "basel_capital = RegulatoryCapital(vm_accounts, \n",
      "                                  im_accounts, \n",
      "                                  portfolio,\n",
      "                                  recovery=recoveries[counterparty_index], \n",
      "                                  default_proba=default_model,\n",
      "                                  c=kenyon_c)"
     ],
     "language": "python",
     "metadata": {},
     "outputs": [],
     "prompt_number": 17
    },
    {
     "cell_type": "heading",
     "level": 3,
     "metadata": {
      "zanadu": {
       "is_abstract": false,
       "is_hidden": false
      }
     },
     "source": [
      "Simulations"
     ]
    },
    {
     "cell_type": "code",
     "collapsed": false,
     "input": [
      "intensities = {\"b\": gamma_bank, \"c\": gamma_counterparty}\n",
      "recov = {\"b\": recoveries[bank_index], \"c\": recoveries[counterparty_index], \"f\": 1.0}"
     ],
     "language": "python",
     "metadata": {},
     "outputs": [],
     "prompt_number": 18
    },
    {
     "cell_type": "heading",
     "level": 4,
     "metadata": {
      "zanadu": {
       "is_abstract": false,
       "is_hidden": false
      }
     },
     "source": [
      "Definition of the function $\\tilde{f}_{.}(0)$"
     ]
    },
    {
     "cell_type": "markdown",
     "metadata": {
      "zanadu": {
       "is_abstract": false,
       "is_hidden": false
      }
     },
     "source": [
      "We consider here $(c_t), (\\lambda_t), (\\bar{\\lambda}_t)$ and $(k_t)$ as constant processes."
     ]
    },
    {
     "cell_type": "code",
     "collapsed": false,
     "input": [
      "c_ = 0.0150\n",
      "lambda_ = 0.0150\n",
      "bar_lambda_ = 0.0450\n",
      "k_ = 0.1\n",
      "\n",
      "def tilde_f(p, capital, ims, recoveries, intensities):    \n",
      "    #gamma_c = p+ims[\"b\"]\n",
      "    #gamma_b = p+ims[\"c\"]\n",
      "    \n",
      "    gamma_c = +ims[\"b\"]\n",
      "    gamma_b = +ims[\"c\"]\n",
      "    \n",
      "    cva = (1.-recoveries[\"c\"]) * intensities[\"c\"] * np.maximum(p-gamma_c, 0)\n",
      "    dva = +(1.-recoveries[\"b\"]) * intensities[\"b\"] * np.minimum(p-gamma_b, 0)\n",
      "    \n",
      "    gamma_f = gamma_c+ims[\"c\"]\n",
      "    tilde_lambda = bar_lambda_ - (1.-recoveries[\"f\"])*intensities[\"b\"]\n",
      "    \n",
      "    fva = c_*gamma_f + tilde_lambda*np.maximum(p-gamma_f, 0) + lambda_*np.minimum(p-gamma_f, 0)\n",
      "    \n",
      "    kva = k_*capital\n",
      "    \n",
      "    return cva, dva, fva, kva"
     ],
     "language": "python",
     "metadata": {},
     "outputs": [],
     "prompt_number": 19
    },
    {
     "cell_type": "code",
     "collapsed": false,
     "input": [
      "N = 10000"
     ],
     "language": "python",
     "metadata": {},
     "outputs": [],
     "prompt_number": 20
    },
    {
     "cell_type": "heading",
     "level": 4,
     "metadata": {},
     "source": [
      "Monte Carlo loop"
     ]
    },
    {
     "cell_type": "code",
     "collapsed": false,
     "input": [
      "import time\n",
      "\n",
      "start_time = time.time()\n",
      "\n",
      "# CVA part\n",
      "cva = 0.\n",
      "cva_square = 0.   \n",
      "\n",
      "# DVA part\n",
      "dva = 0.\n",
      "dva_square = 0.   \n",
      "\n",
      "# FVA part\n",
      "fva = 0.\n",
      "fva_square = 0.    \n",
      "\n",
      "# KVA part\n",
      "kva = 0.\n",
      "kva_square = 0.\n",
      "\n",
      "random_times = exp_distrib.rvs(size=N)\n",
      "\n",
      "for tau in random_times:\n",
      "    if tau > maturity:\n",
      "        continue\n",
      "    \n",
      "    # Date of the time_grid right after tau\n",
      "    idx = np.searchsorted(time_grid, tau, side='right')\n",
      "    t = time_grid[idx]\n",
      "\n",
      "    # Last pillar of the swap (need to compute it to have the quantile price)\n",
      "    last_pill_swap_idx = np.searchsorted(swap.pillars, t) - 1\n",
      "    last_pill_swap = swap.pillars[last_pill_swap_idx]\n",
      "    \n",
      "    # We generate the brownian path\n",
      "    tmp_time = [0, last_pill_swap, t]\n",
      "    b = BrownianMotion(x_0, mu_s, sigma_s, tmp_time)\n",
      "    \n",
      "    # We compute now the swap price with the new underlying ...\n",
      "    swap.set_underlying(b)\n",
      "    swap_price = swap.price(t)\n",
      "\n",
      "    p_and_l = portfolio.compute_pl([swap_price])\n",
      "    \n",
      "    # For the regulatory capital\n",
      "    #for ii, pl in enumerate(p_and_l):\n",
      "    #    vm_accounts.put_amount(ii, pl)\n",
      "    \n",
      "    p = p_and_l[bank_index]\n",
      "    \n",
      "    # ... and then the collateral\n",
      "    #collats = portfolio.compute_exposure(t, risk_period=mpor, conf_level=conf_level_im)\n",
      "    #for ii, gamma in enumerate(collats.flat):\n",
      "    #    #tmp = np.maximum(gamma-swap_price, min_im_required)\n",
      "    #    tmp = gamma\n",
      "    #    im_accounts.put_amount(ii, tmp)\n",
      "    \n",
      "    # Computation of the RWA\n",
      "    rwa = basel_capital.compute_rwa(bank_index, t)\n",
      "    \n",
      "    #ims = { \"b\": -im_accounts.get_amount(bank_index), # J\n",
      "    #        \"c\": im_accounts.get_amount(counterparty_index)} # I\n",
      "    ims = {\"b\": 0, \"c\": 0}\n",
      "    \n",
      "    # Computation of the different terms\n",
      "    __cva, __dva, __fva, __kva = tilde_f(p, rwa, ims, recov, intensities)\n",
      "    \n",
      "    # Computation of the alpha times inv density\n",
      "    inv_pdf = 1./exp_distrib.pdf(t)\n",
      "    alpha_tau = alpha(t)    \n",
      "    tmp_factor = alpha_tau * inv_pdf\n",
      "        \n",
      "    _cva = __cva*tmp_factor\n",
      "    _dva = __dva*tmp_factor\n",
      "    _kva = __kva*tmp_factor\n",
      "    _fva = __fva*tmp_factor\n",
      "    \n",
      "    cva += _cva\n",
      "    cva_square += _cva**2\n",
      "    \n",
      "    dva += _dva\n",
      "    dva_square += _dva**2\n",
      "            \n",
      "    fva += _fva\n",
      "    fva_square += _fva**2\n",
      "            \n",
      "    kva += _kva\n",
      "    kva_square += _kva**2  \n",
      "\n",
      "exec_time = time.time() - start_time"
     ],
     "language": "python",
     "metadata": {},
     "outputs": [],
     "prompt_number": 21
    },
    {
     "cell_type": "code",
     "collapsed": false,
     "input": [
      "# 1st index: CVA\n",
      "# 2nd index: DVA\n",
      "# 3st index: FVA\n",
      "# 4th index: KVA\n",
      "\n",
      "tot_cva = cva\n",
      "tot_dva = dva\n",
      "tot_fva = fva\n",
      "tot_kva = kva\n",
      "\n",
      "tot_cva2 = cva_square\n",
      "tot_dva2 = dva_square\n",
      "tot_fva2 = fva_square\n",
      "tot_kva2 = kva_square\n",
      "\n",
      "labels = ['CVA', 'DVA', 'FVA', 'KVA']\n",
      "expectations = []\n",
      "mod_variances = []\n",
      "\n",
      "e_cva = tot_cva / N\n",
      "e_dva = tot_dva / N\n",
      "e_fva = tot_fva / N\n",
      "e_kva = tot_kva / N\n",
      "\n",
      "expectations.append(e_cva)\n",
      "expectations.append(e_dva)\n",
      "expectations.append(e_fva)\n",
      "expectations.append(e_kva)\n",
      "\n",
      "mod_v_cva = (tot_cva2/N - e_cva**2) / (N-1)\n",
      "mod_v_dva = (tot_dva2/N - e_dva**2) / (N-1)\n",
      "mod_v_fva = (tot_fva2/N - e_fva**2) / (N-1)\n",
      "mod_v_kva = (tot_kva2/N - e_kva**2) / (N-1)\n",
      "\n",
      "mod_variances.append(mod_v_cva)\n",
      "mod_variances.append(mod_v_dva)\n",
      "mod_variances.append(mod_v_fva)\n",
      "mod_variances.append(mod_v_kva)"
     ],
     "language": "python",
     "metadata": {},
     "outputs": [],
     "prompt_number": 22
    },
    {
     "cell_type": "code",
     "collapsed": false,
     "input": [
      "# Confidence Interval results:\n",
      "from scipy.stats import norm\n",
      "\n",
      "conf_level = 0.95\n",
      "z_level = norm.ppf(0.5*(1+conf_level))\n",
      "\n",
      "print \"Bilateral case comparison\"\n",
      "for i in range(30):\n",
      "    print \"-\",\n",
      "\n",
      "print \"\\n\\nResults for %d iterations\"%(N)\n",
      "print \"Execution time: %s sec\"%exec_time\n",
      "\n",
      "print \"\\nUsed discount factor: %s\"%discount\n",
      "\n",
      "print \"\\nDefault intensity of the bank = %d bps\"%(gamma_bank*1e4)\n",
      "print \"Default intensity of the counterparty = %d bps\\n\"%(gamma_counterparty*1e4)\n",
      "\n",
      "print swap\n",
      "\n",
      "print \"\\nPrice of the swap at t=0: %s\"%price_0\n",
      "print \"Price of the fixed leg at t=0: %s\"%(np.dot(swap.delta_time, [discount(t) for t in swap.pillars[1:]]) * swap.strike * notional)\n",
      "print \"\\nQuantities bought:\\n %s\\n\"%members_positions\n",
      "print \"Portfolio values of actors contracted:\\n %s \\n\"%portfolio_at_time_0\n",
      "\n",
      "#print \"\\nConfidence level used for IM: %.2f\\n\"%conf_level_im\n",
      "\n",
      "for label, e, mv in zip(labels, expectations, mod_variances):\n",
      "    half_inter = z_level*np.sqrt(mv)\n",
      "    print \"The %s of the bank lies in the interval: [%.4f, %.4f]\"%(label, e-half_inter, e+half_inter)"
     ],
     "language": "python",
     "metadata": {},
     "outputs": [
      {
       "output_type": "stream",
       "stream": "stdout",
       "text": [
        "Bilateral case comparison\n",
        "- - - - - - - - - - - - - - - - - - - - - - - - - - - - - - \n",
        "\n",
        "Results for 10000 iterations\n",
        "Execution time: 18.754999876 sec\n",
        "\n",
        "Used discount factor: Constant discount factor process with rate r = 0.02\n",
        "\n",
        "Default intensity of the bank = 500 bps\n",
        "Default intensity of the counterparty = 700 bps\n",
        "\n",
        "Swap contract of maturity T = 10 years, over S^0 with strike K = 109.237, paying at {0.00, 1.00, 2.00, 3.00, 4.00, 5.00, 6.00, 7.00, 8.00, 9.00, 10.00}\n",
        "\n",
        "Price of the swap at t=0: 2.27373675443e-13\n",
        "Price of the fixed leg at t=0: 100.0\n",
        "\n",
        "Quantities bought:\n",
        " [[-0.05101007]\n",
        " [ 0.05101007]]\n",
        "\n",
        "Portfolio values of actors contracted:\n",
        " [[ -1.15983464e-14]\n",
        " [  1.15983464e-14]] \n",
        "\n",
        "The CVA of the bank lies in the interval: [1.3411, 1.4123]\n",
        "The DVA of the bank lies in the interval: [-0.2345, -0.2126]\n",
        "The FVA of the bank lies in the interval: [1.3231, 1.4034]\n",
        "The KVA of the bank lies in the interval: [0.3344, 0.3418]\n"
       ]
      }
     ],
     "prompt_number": 25
    },
    {
     "cell_type": "code",
     "collapsed": false,
     "input": [],
     "language": "python",
     "metadata": {},
     "outputs": [],
     "prompt_number": 23
    }
   ],
   "metadata": {}
  }
 ]
}