{
 "cells": [
  {
   "cell_type": "code",
   "execution_count": 1,
   "metadata": {
    "collapsed": true,
    "scrolled": true
   },
   "outputs": [],
   "source": [
    "import sys\n",
    "\n",
    "sys.path.append('../..')"
   ]
  },
  {
   "cell_type": "code",
   "execution_count": 2,
   "metadata": {
    "collapsed": false,
    "scrolled": true
   },
   "outputs": [
    {
     "name": "stdout",
     "output_type": "stream",
     "text": [
      "['N', 'credit', 'randomization', 'underlyings']\n"
     ]
    }
   ],
   "source": [
    "import dill\n",
    "\n",
    "loaded_data = None\n",
    "\n",
    "with open('../simulations/data.pkl', 'rb') as f:\n",
    "    loaded_data = dill.load(f)\n",
    "\n",
    "keys = loaded_data.keys()\n",
    "keys.sort()\n",
    "print keys"
   ]
  },
  {
   "cell_type": "code",
   "execution_count": 3,
   "metadata": {
    "collapsed": true,
    "scrolled": true
   },
   "outputs": [],
   "source": [
    "# Instead of taking 365 standard days or 252 trading days\n",
    "# in order to get some easy computations for the eqty and df time grids\n",
    "# I chose to take 360 days of tradings\n",
    "\n",
    "step = 1/360.\n",
    "delta = 15*step\n",
    "\n",
    "maturity = loaded_data[\"randomization\"][\"maturity\"]"
   ]
  },
  {
   "cell_type": "markdown",
   "metadata": {},
   "source": [
    "#Discount"
   ]
  },
  {
   "cell_type": "code",
   "execution_count": 4,
   "metadata": {
    "collapsed": true,
    "scrolled": true
   },
   "outputs": [],
   "source": [
    "from finance.discountfactor import ConstantRateDiscountFactor \n",
    "\n",
    "r = 0.02\n",
    "discount = ConstantRateDiscountFactor(r)"
   ]
  },
  {
   "cell_type": "markdown",
   "metadata": {},
   "source": [
    "# Underlying"
   ]
  },
  {
   "cell_type": "code",
   "execution_count": 5,
   "metadata": {
    "collapsed": true,
    "scrolled": true
   },
   "outputs": [],
   "source": [
    "udlyings = loaded_data[\"underlyings\"]\n",
    "\n",
    "bm = udlyings[0]\n",
    "time_grid = bm.time"
   ]
  },
  {
   "cell_type": "markdown",
   "metadata": {},
   "source": [
    "# Derivative"
   ]
  },
  {
   "cell_type": "code",
   "execution_count": 6,
   "metadata": {
    "collapsed": true,
    "scrolled": true
   },
   "outputs": [],
   "source": [
    "derivatives_nb = 1"
   ]
  },
  {
   "cell_type": "code",
   "execution_count": 7,
   "metadata": {
    "collapsed": false,
    "scrolled": true
   },
   "outputs": [
    {
     "name": "stdout",
     "output_type": "stream",
     "text": [
      "Swap contract of maturity T = 5 years, over S^0 with strike K = 104.560, paying at {0.00, 0.50, 1.00, 1.50, 2.00, 2.50, 3.00, 3.50, 4.00, 4.50, 5.00}\n",
      "\n",
      "Price swap at t=0 =  0.0\n"
     ]
    }
   ],
   "source": [
    "from finance.products.european.assetswap import (\n",
    "    SwapContract,\n",
    ")\n",
    "\n",
    "swap_delta = 0.5\n",
    "\n",
    "swap_dates = SwapContract.generate_payment_dates(0, maturity, swap_delta)\n",
    "swap = SwapContract(bm, discount, swap_dates)\n",
    "\n",
    "price_0 = swap.price(0.)\n",
    "\n",
    "print swap\n",
    "print \"\\nPrice swap at t=0 = \",price_0"
   ]
  },
  {
   "cell_type": "markdown",
   "metadata": {},
   "source": [
    "# Exposure"
   ]
  },
  {
   "cell_type": "code",
   "execution_count": 8,
   "metadata": {
    "collapsed": true,
    "scrolled": true
   },
   "outputs": [],
   "source": [
    "from risk.exposures import EuropeanQuantileGeomBrownianExposure\n",
    "\n",
    "quantile_im = 0.80\n",
    "\n",
    "hist_drift = bm.drifts[0][0]\n",
    "hist_vol = bm.vols[0][0]\n",
    "\n",
    "exposure = EuropeanQuantileGeomBrownianExposure(swap, discount, hist_drift, hist_vol)"
   ]
  },
  {
   "cell_type": "markdown",
   "metadata": {},
   "source": [
    "# Indexes stuffs"
   ]
  },
  {
   "cell_type": "markdown",
   "metadata": {},
   "source": [
    "## Ids of $B$ and $C$"
   ]
  },
  {
   "cell_type": "code",
   "execution_count": 9,
   "metadata": {
    "collapsed": false,
    "scrolled": true
   },
   "outputs": [
    {
     "name": "stdout",
     "output_type": "stream",
     "text": [
      "Bank id: 64 (nb = 1) \n",
      "\n",
      "Counterparties id: [26, 29, 17, 50, 13, 4, 5, 9] (nb = 8)\n"
     ]
    }
   ],
   "source": [
    "copula = loaded_data[\"credit\"][\"copula\"]\n",
    "\n",
    "bc_subsets_indexes = loaded_data[\"credit\"][\"bc_subsets_indexes\"]\n",
    "\n",
    "# Bank id\n",
    "b_id = 64\n",
    "\n",
    "# Counterparty id\n",
    "c_ids = [26, 29, 17, 50, 13, 4, 5, 9]\n",
    "\n",
    "bc_ids = c_ids + [b_id]\n",
    "\n",
    "print \"Bank id: %s (nb = 1) \\n\"%b_id\n",
    "print \"Counterparties id: %s (nb = %s)\"%(c_ids, len(c_ids))"
   ]
  },
  {
   "cell_type": "code",
   "execution_count": 10,
   "metadata": {
    "collapsed": false,
    "scrolled": true
   },
   "outputs": [
    {
     "name": "stdout",
     "output_type": "stream",
     "text": [
      "Obligor numbers: 125\n"
     ]
    }
   ],
   "source": [
    "obligors_nb = len(copula.subsets[bc_subsets_indexes[-1]][0])\n",
    "\n",
    "print \"Obligor numbers: %s\"%obligors_nb"
   ]
  },
  {
   "cell_type": "markdown",
   "metadata": {},
   "source": [
    "## Subsets indexes of the copula for $B$ and $C$"
   ]
  },
  {
   "cell_type": "code",
   "execution_count": 11,
   "metadata": {
    "collapsed": false,
    "scrolled": true
   },
   "outputs": [
    {
     "name": "stdout",
     "output_type": "stream",
     "text": [
      "Subsets that generated default times: [0, 1, 2, 3, 4, 5, 6, 7, 8, 9, 10, 11, 12, 13, 14, 15, 16, 17, 18, 19, 20, 21, 22, 23, 24, 25, 26, 27, 28, 29, 30, 31, 32, 33, 34, 35, 36, 37, 38, 39, 40, 41, 42, 43, 44, 45, 46, 47, 48, 49, 50, 51, 52, 53, 54, 55, 56, 57, 58, 59, 60, 61, 62, 63, 64, 65, 66, 67, 68, 69, 70, 71, 72, 73, 74, 75, 76, 77, 78, 79, 80, 81, 82, 83, 84, 85, 86, 87, 88, 89, 90, 91, 92, 93, 94, 95, 96, 97, 98, 99, 100, 101, 102, 103, 104, 105, 106, 107, 108, 109, 110, 111, 112, 113, 114, 115, 116, 117, 118, 119, 120, 121, 122, 123, 124, 125, 126, 127, 128, 129]\n",
      "\n",
      "Bank subsets indexes: [64, 126, 127, 128, 129]\n",
      "\n",
      "Counterparties subsets indexes: [4, 5, 9, 13, 17, 26, 29, 50, 125]\n"
     ]
    }
   ],
   "source": [
    "b_subsets_indexes = copula.get_indexes_including(b_id)\n",
    "\n",
    "c_subsets_indexes = []\n",
    "for c_id in c_ids:\n",
    "    tmp = copula.get_indexes_including(c_id)\n",
    "    c_subsets_indexes += tmp\n",
    "    \n",
    "c_subsets_indexes = list(set(c_subsets_indexes)-set(b_subsets_indexes))\n",
    "    \n",
    "b_subsets_indexes.sort()\n",
    "c_subsets_indexes.sort()\n",
    "    \n",
    "print \"Subsets that generated default times: %s\\n\"%bc_subsets_indexes\n",
    "print \"Bank subsets indexes: %s\\n\"%b_subsets_indexes\n",
    "print \"Counterparties subsets indexes: %s\"%c_subsets_indexes"
   ]
  },
  {
   "cell_type": "markdown",
   "metadata": {},
   "source": [
    "# Portfolio construction"
   ]
  },
  {
   "cell_type": "code",
   "execution_count": 12,
   "metadata": {
    "collapsed": true,
    "scrolled": true
   },
   "outputs": [],
   "source": [
    "import numpy as np\n",
    "\n",
    "p_fixed = 100.\n",
    "strike = swap.strike\n",
    "\n",
    "delta_times = swap.delta_time\n",
    "discount_factors = [discount(t) for t in swap.pillars[1:]]\n",
    "\n",
    "delta_beta_sum = np.dot(delta_times, discount_factors)\n",
    "\n",
    "notional = p_fixed / (strike*delta_beta_sum)"
   ]
  },
  {
   "cell_type": "code",
   "execution_count": 13,
   "metadata": {
    "collapsed": false,
    "scrolled": true
   },
   "outputs": [
    {
     "name": "stdout",
     "output_type": "stream",
     "text": [
      "[ 0.     0.     0.     0.    -0.125 -0.125  0.     0.     0.    -0.125  0.\n",
      "  0.     0.    -0.125  0.     0.     0.    -0.125  0.     0.     0.     0.\n",
      "  0.     0.     0.     0.    -0.125  0.     0.    -0.125  0.     0.     0.\n",
      "  0.     0.     0.     0.     0.     0.     0.     0.     0.     0.     0.\n",
      "  0.     0.     0.     0.     0.     0.    -0.125  0.     0.     0.     0.\n",
      "  0.     0.     0.     0.     0.     0.     0.     0.     0.     1.     0.\n",
      "  0.     0.     0.     0.     0.     0.     0.     0.     0.     0.     0.\n",
      "  0.     0.     0.     0.     0.     0.     0.     0.     0.     0.     0.\n",
      "  0.     0.     0.     0.     0.     0.     0.     0.     0.     0.     0.\n",
      "  0.     0.     0.     0.     0.     0.     0.     0.     0.     0.     0.\n",
      "  0.     0.     0.     0.     0.     0.     0.     0.     0.     0.     0.\n",
      "  0.     0.     0.     0.   ]\n"
     ]
    }
   ],
   "source": [
    "from finance.portfolio import EquilibratedPortfolio\n",
    "\n",
    "pos = EquilibratedPortfolio.generate_1_vs_all_positions(b_id, bc_ids, obligors_nb)\n",
    "positions = np.array(pos*notional).reshape(pos.size, 1)\n",
    "\n",
    "print pos"
   ]
  },
  {
   "cell_type": "code",
   "execution_count": 14,
   "metadata": {
    "collapsed": true,
    "scrolled": true
   },
   "outputs": [],
   "source": [
    "port = EquilibratedPortfolio(positions, [swap], [exposure])"
   ]
  },
  {
   "cell_type": "markdown",
   "metadata": {},
   "source": [
    "# VM and IM accounts"
   ]
  },
  {
   "cell_type": "code",
   "execution_count": 15,
   "metadata": {
    "collapsed": true,
    "scrolled": true
   },
   "outputs": [],
   "source": [
    "from ccp.accounts import Accounts\n",
    "from ccp.states import MembersState\n",
    "\n",
    "states = MembersState(obligors_nb)\n",
    "vm_accounts = Accounts(states, derivatives_nb)\n",
    "im_accounts = Accounts(states, derivatives_nb)"
   ]
  },
  {
   "cell_type": "code",
   "execution_count": 16,
   "metadata": {
    "collapsed": true,
    "scrolled": true
   },
   "outputs": [],
   "source": [
    "# Be carefull, here, as the default models will be \n",
    "# used for regulatory computations, we select only \n",
    "# the first 125 idiosyncratic models even if \n",
    "# we care only about 61 over 125.\n",
    "\n",
    "default_proba_models = copula.models[0 : obligors_nb]"
   ]
  },
  {
   "cell_type": "markdown",
   "metadata": {},
   "source": [
    "# Regulatory capital"
   ]
  },
  {
   "cell_type": "code",
   "execution_count": 17,
   "metadata": {
    "collapsed": true,
    "scrolled": true
   },
   "outputs": [],
   "source": [
    "from risk.basel.exposures import EuropeanBaselGeometricBrownianExposure, SABaselExposure\n",
    "\n",
    "k_exposure = EuropeanBaselGeometricBrownianExposure(swap, hist_drift, hist_vol)\n",
    "k_exposure_sa = SABaselExposure(port)"
   ]
  },
  {
   "cell_type": "code",
   "execution_count": 18,
   "metadata": {
    "collapsed": true,
    "scrolled": true
   },
   "outputs": [],
   "source": [
    "from risk.basel.capital import RegulatoryCapital\n",
    "\n",
    "recoveries = [0.4 for i in range(0, obligors_nb)]\n",
    "\n",
    "regul_cap = RegulatoryCapital(vm_accounts, im_accounts, port, default_proba_models, recoveries, [k_exposure], bank_index=b_id)"
   ]
  },
  {
   "cell_type": "code",
   "execution_count": 19,
   "metadata": {
    "collapsed": true,
    "scrolled": true
   },
   "outputs": [],
   "source": [
    "cap_risk_horizon = -1\n",
    "cap_risk_period = 15./360\n",
    "cap_conf_level_95 = 0.95\n",
    "cap_conf_level_99 = 0.99"
   ]
  },
  {
   "cell_type": "markdown",
   "metadata": {},
   "source": [
    "# Funding and capital parameters"
   ]
  },
  {
   "cell_type": "code",
   "execution_count": 20,
   "metadata": {
    "collapsed": true,
    "scrolled": true
   },
   "outputs": [],
   "source": [
    "lambda_ = 0.\n",
    "recov_funding = 1.\n",
    "k_ = 0.1"
   ]
  },
  {
   "cell_type": "markdown",
   "metadata": {},
   "source": [
    "#MC loop"
   ]
  },
  {
   "cell_type": "code",
   "execution_count": 21,
   "metadata": {
    "collapsed": true,
    "scrolled": true
   },
   "outputs": [],
   "source": [
    "from utils import time_offseter"
   ]
  },
  {
   "cell_type": "code",
   "execution_count": 22,
   "metadata": {
    "collapsed": true,
    "scrolled": true
   },
   "outputs": [],
   "source": [
    "N = loaded_data[\"N\"]"
   ]
  },
  {
   "cell_type": "code",
   "execution_count": 23,
   "metadata": {
    "collapsed": false,
    "scrolled": true
   },
   "outputs": [],
   "source": [
    "results_idio = {\"cva\": {c: {\"sum\": 0., \"sum2\": 0.} for c in c_ids},\n",
    "                \"dva\": {c: {\"sum\": 0., \"sum2\": 0.} for c in c_ids},\n",
    "                \"fva\": {c: {\"sum\": 0., \"sum2\": 0.} for c in c_ids},\n",
    "                \"kva_ccr_95\": {c: {\"sum\": 0., \"sum2\": 0.} for c in c_ids},\n",
    "                \"kva_ccr_99\": {c: {\"sum\": 0., \"sum2\": 0.} for c in c_ids},\n",
    "                \"kva_ccr_0sa\": {c: {\"sum\": 0., \"sum2\": 0.} for c in c_ids},\n",
    "                \"kva_cva_95\": {c: {\"sum\": 0., \"sum2\": 0.} for c in c_ids},\n",
    "                \"kva_cva_99\": {c: {\"sum\": 0., \"sum2\": 0.} for c in c_ids},\n",
    "                \"kva_cva_0sa\": {c: {\"sum\": 0., \"sum2\": 0.} for c in c_ids},\n",
    "                \"k_95\": {c: {\"sum\": 0., \"sum2\": 0.} for c in c_ids},\n",
    "                \"k_99\": {c: {\"sum\": 0., \"sum2\": 0.} for c in c_ids},\n",
    "                \"k_0sa\": {c: {\"sum\": 0., \"sum2\": 0.} for c in c_ids}}\n",
    "\n",
    "results_globs = {\"cva\": {\"sum\": 0., \"sum2\": 0.},\n",
    "                 \"dva\": {\"sum\": 0., \"sum2\": 0.},\n",
    "                 \"fva\": {\"sum\": 0., \"sum2\": 0.},                 \n",
    "                 \"kva_95_ccr\": {\"sum\": 0., \"sum2\": 0.},\n",
    "                 \"kva_99_ccr\": {\"sum\": 0., \"sum2\": 0.},\n",
    "                 \"kva_0sa_ccr\": {\"sum\": 0., \"sum2\": 0.},\n",
    "                 \"kva_95_cva\": {\"sum\": 0., \"sum2\": 0.},\n",
    "                 \"kva_99_cva\": {\"sum\": 0., \"sum2\": 0.},\n",
    "                 \"kva_0sa_cva\": {\"sum\": 0., \"sum2\": 0.},\n",
    "                 \"k_95\": {\"sum\": 0., \"sum2\": 0.},\n",
    "                 \"k_99\": {\"sum\": 0., \"sum2\": 0.},\n",
    "                 \"k_0sa\": {\"sum\": 0., \"sum2\": 0.}}"
   ]
  },
  {
   "cell_type": "code",
   "execution_count": 24,
   "metadata": {
    "collapsed": true,
    "scrolled": true
   },
   "outputs": [],
   "source": [
    "from scipy.stats import expon\n",
    "\n",
    "exp_distrib_params = loaded_data[\"randomization\"][\"distrib\"]\n",
    "exp_distrib = expon(loc=exp_distrib_params[\"loc\"], scale=exp_distrib_params[\"scale\"])\n",
    "\n",
    "zetas = loaded_data[\"randomization\"][\"zetas\"]\n",
    "default_times_mat = loaded_data[\"credit\"][\"default_times\"]"
   ]
  },
  {
   "cell_type": "code",
   "execution_count": 25,
   "metadata": {
    "collapsed": false,
    "scrolled": true
   },
   "outputs": [],
   "source": [
    "import time\n",
    "\n",
    "tic = time.time()\n",
    "\n",
    "b_df_times_indexes = [ii for ii, ind in enumerate(bc_subsets_indexes) if ind in b_subsets_indexes]\n",
    "\n",
    "for i in range(N):\n",
    "    # Resurrecting the states\n",
    "    # resets to 0. the values\n",
    "    # of the VMs and IMs\n",
    "    states.resurrect_all()\n",
    "    \n",
    "    zeta = zetas[i]\n",
    "    zeta_delta = time_offseter(zeta+delta, time_grid, True)\n",
    "    \n",
    "    # We set the simulated underlying here\n",
    "    # that has the all time grid with\n",
    "    # mpor = 1./360\n",
    "    swap.underlying = udlyings[i]\n",
    "    \n",
    "    default_times = default_times_mat[i]    \n",
    "    b_min_df_time = default_times[b_df_times_indexes].min()\n",
    "    \n",
    "    cva_, dva_, fva_, \\\n",
    "    kccr95_, kcva95_, kccr99_, kcva99_, kccrsa_, kcvasa_, \\\n",
    "    k_95_, k_99_, k_sa_ = [0. for _ in range(12)]\n",
    "    \n",
    "    if zeta <= maturity:\n",
    "        pf_losses_95 = regul_cap._compute_potential_future_loss(zeta, \n",
    "                                                                cap_risk_horizon, \n",
    "                                                                cap_conf_level_95, \n",
    "                                                                risk_period=cap_risk_period)\n",
    "        \n",
    "        pf_losses_99 = regul_cap._compute_potential_future_loss(zeta, \n",
    "                                                                cap_risk_horizon, \n",
    "                                                                cap_conf_level_99, \n",
    "                                                                risk_period=cap_risk_period)\n",
    "        \n",
    "        pf_losses_sa = k_exposure_sa(t=zeta)\n",
    "                \n",
    "    for c_id in c_ids:\n",
    "        cp_subsets_indexes = copula.get_indexes_including(c_id)\n",
    "        c_df_times_indexes = [ii for ii, ind in enumerate(bc_subsets_indexes) if ind in cp_subsets_indexes]\n",
    "        \n",
    "        bc_df_times_indexes = np.append(b_df_times_indexes, c_df_times_indexes)\n",
    "        bc_df_times_indexes = np.sort(np.unique(bc_df_times_indexes))\n",
    "        \n",
    "        bc_df_times = default_times[bc_df_times_indexes]\n",
    "        \n",
    "        tau = bc_df_times.min()\n",
    "        bar_tau = min(tau, maturity)\n",
    "        \n",
    "        cva__, dva__, fva__, \\\n",
    "        kccr95__, kcva95__, kccr99__, kcva99__, kccrsa__, kcvasa__, \\\n",
    "        k_95__, k_99__, k_sa__ = [0. for _ in range(12)]\n",
    "        \n",
    "        del bc_df_times\n",
    "        \n",
    "        if bar_tau <= zeta:\n",
    "            continue\n",
    "        \n",
    "        inv_pdf = 1./exp_distrib.pdf(zeta)\n",
    "        discount_zeta = discount(zeta)\n",
    "        discount_zeta_delta = discount(zeta_delta)\n",
    "        \n",
    "        # VM computations\n",
    "        d_pl = [s.price(zeta) for s in [swap]]\n",
    "        b_vm = port.compute_value(d_pl, from_=b_id, towards_=c_id)\n",
    "        \n",
    "        vm_accounts.put_amounts(b_id, b_vm)\n",
    "        vm_accounts.put_amounts(c_id, -b_vm)\n",
    "\n",
    "        # IM computations\n",
    "        b_im = port.compute_exposure(zeta, risk_period=delta, conf_level=quantile_im, \\\n",
    "                                     from_=b_id, towards_=c_id)\n",
    "        c_im = port.compute_exposure(zeta, risk_period=delta, conf_level=quantile_im, \\\n",
    "                                     from_=c_id, towards_=b_id)\n",
    "        \n",
    "        im_accounts.put_amounts(b_id, b_im)\n",
    "        im_accounts.put_amounts(c_id, c_im)\n",
    "        \n",
    "        p_zeta = b_vm.sum()\n",
    "        d_pl_zeta_delta = [s.price(zeta_delta) for s in [swap]]\n",
    "        p_zeta_delta = port.compute_value(d_pl_zeta_delta, from_=b_id, towards_=c_id).sum()        \n",
    "        # We suppose here that \\Delta_{\\zeta} is null\n",
    "        q_zeta_delta = p_zeta_delta\n",
    "        \n",
    "        c_min_df_time = default_times[c_df_times_indexes].min()\n",
    "        \n",
    "        ####################\n",
    "        ##### FVA part #####\n",
    "        ####################\n",
    "        b_minus_funded_collat = p_zeta + \\\n",
    "                                im_accounts.get_amount(b_id).sum() - \\\n",
    "                                im_accounts.get_amount(c_id).sum()\n",
    "\n",
    "        b_gamma_zeta = copula.tot_gamma(zeta, subsets_indexes=b_subsets_indexes)\n",
    "        \n",
    "        bar_lambda_zeta = b_gamma_zeta*0.6\n",
    "        tilde_lambda_zeta = bar_lambda_zeta - (1.-recov_funding)*b_gamma_zeta\n",
    "        c_zeta = 0.\n",
    "        lambda_zeta = lambda_\n",
    "        \n",
    "        fva__ += (c_zeta*b_minus_funded_collat + \\\n",
    "                  tilde_lambda_zeta*np.maximum(p_zeta-b_minus_funded_collat, 0.) + \\\n",
    "                  lambda_zeta*np.minimum(p_zeta-b_minus_funded_collat, 0.))\n",
    "    \n",
    "        ######################\n",
    "        ##### K_CCR part #####\n",
    "        ######################\n",
    "        kccr95__ = k_*regul_cap.compute_kccr(c_id, zeta, risk_period=cap_risk_period, pf_losses=pf_losses_95)\n",
    "        kccr99__ = k_*regul_cap.compute_kccr(c_id, zeta, risk_period=cap_risk_period, pf_losses=pf_losses_99)\n",
    "        kccrsa__ = k_*regul_cap.compute_kccr(c_id, zeta, risk_period=cap_risk_period, pf_losses=pf_losses_sa)\n",
    "            \n",
    "        ######################\n",
    "        ##### K_CVA part #####\n",
    "        ######################\n",
    "        kcva95__ = k_*regul_cap.compute_kcva(c_id, zeta, risk_period=cap_risk_period, pf_losses=pf_losses_95)\n",
    "        kcva99__ = k_*regul_cap.compute_kcva(c_id, zeta, risk_period=cap_risk_period, pf_losses=pf_losses_99)\n",
    "        kcvasa__ = k_*regul_cap.compute_kcva(c_id, zeta, risk_period=cap_risk_period, pf_losses=pf_losses_sa)\n",
    "        \n",
    "        ########################\n",
    "        ##### K_synth part #####\n",
    "        ########################\n",
    "        k_95__ = kccr95__ + kcva95__\n",
    "        k_99__ = kccr99__ + kcva99__\n",
    "        k_sa__ = kccrsa__ + kcvasa__\n",
    "        \n",
    "        for df_time_index in bc_df_times_indexes:\n",
    "            subset_index = bc_subsets_indexes[df_time_index]\n",
    "            gamma_zeta = copula.gamma(subset_index, zeta)\n",
    "            \n",
    "            ####################\n",
    "            ##### CVA part #####\n",
    "            ####################\n",
    "            c_default_indic = df_time_index in c_df_times_indexes\n",
    "            if not c_default_indic:\n",
    "                c_default_indic = c_min_df_time <= zeta_delta\n",
    "                \n",
    "            if c_default_indic:\n",
    "                b_collat = p_zeta + im_accounts.get_amount(b_id).sum()\n",
    "                loss = np.maximum(q_zeta_delta-b_collat, 0.)\n",
    "                cva__ += gamma_zeta*(1.-recoveries[c_id])*loss\n",
    "                \n",
    "                \n",
    "            ####################\n",
    "            ##### DVA part #####\n",
    "            ####################\n",
    "            b_default_indic = df_time_index in b_df_times_indexes\n",
    "            if not b_default_indic:\n",
    "                b_default_indic = b_min_df_time <= zeta_delta\n",
    "                \n",
    "            if b_default_indic:\n",
    "                c_collat = p_zeta - im_accounts.get_amount(c_id).sum()\n",
    "                loss = -np.minimum(q_zeta_delta-c_collat, 0.)\n",
    "                dva__ += gamma_zeta*(1.-recoveries[b_id])*loss\n",
    "                        \n",
    "        results_idio['cva'][c_id][\"sum\"] += (inv_pdf*discount_zeta_delta*cva__)\n",
    "        results_idio['cva'][c_id][\"sum2\"] += (inv_pdf*discount_zeta_delta*cva__)**2\n",
    "        \n",
    "        results_idio['dva'][c_id][\"sum\"] += (inv_pdf*discount_zeta_delta*dva__)\n",
    "        results_idio['dva'][c_id][\"sum2\"] += (inv_pdf*discount_zeta_delta*dva__)**2\n",
    "        \n",
    "        results_idio['fva'][c_id][\"sum\"] += (inv_pdf*discount_zeta*fva__)\n",
    "        results_idio['fva'][c_id][\"sum2\"] += (inv_pdf*discount_zeta*fva__)**2\n",
    "        \n",
    "        results_idio['kva_ccr_95'][c_id][\"sum\"] += (inv_pdf*discount_zeta*kccr95__)\n",
    "        results_idio['kva_ccr_95'][c_id][\"sum2\"] += (inv_pdf*discount_zeta*kccr95__)**2\n",
    "        results_idio['kva_ccr_99'][c_id][\"sum\"] += (inv_pdf*discount_zeta*kccr99__)\n",
    "        results_idio['kva_ccr_99'][c_id][\"sum2\"] += (inv_pdf*discount_zeta*kccr99__)**2\n",
    "        results_idio['kva_ccr_0sa'][c_id][\"sum\"] += (inv_pdf*discount_zeta*kccrsa__)\n",
    "        results_idio['kva_ccr_0sa'][c_id][\"sum2\"] += (inv_pdf*discount_zeta*kccrsa__)**2\n",
    "        \n",
    "        results_idio['kva_cva_95'][c_id][\"sum\"] += (inv_pdf*discount_zeta*kcva95__)\n",
    "        results_idio['kva_cva_95'][c_id][\"sum2\"] += (inv_pdf*discount_zeta*kcva95__)**2\n",
    "        results_idio['kva_cva_99'][c_id][\"sum\"] += (inv_pdf*discount_zeta*kcva99__)\n",
    "        results_idio['kva_cva_99'][c_id][\"sum2\"] += (inv_pdf*discount_zeta*kcva99__)**2\n",
    "        results_idio['kva_cva_0sa'][c_id][\"sum\"] += (inv_pdf*discount_zeta*kcvasa__)\n",
    "        results_idio['kva_cva_0sa'][c_id][\"sum2\"] += (inv_pdf*discount_zeta*kcvasa__)**2\n",
    "        \n",
    "        results_idio['k_95'][c_id][\"sum\"] += (inv_pdf*discount_zeta*k_95__)\n",
    "        results_idio['k_95'][c_id][\"sum2\"] += (inv_pdf*discount_zeta*k_95__)**2\n",
    "        results_idio['k_99'][c_id][\"sum\"] += (inv_pdf*discount_zeta*k_99__)\n",
    "        results_idio['k_99'][c_id][\"sum2\"] += (inv_pdf*discount_zeta*k_99__)**2\n",
    "        results_idio['k_0sa'][c_id][\"sum\"] += (inv_pdf*discount_zeta*k_sa__)\n",
    "        results_idio['k_0sa'][c_id][\"sum2\"] += (inv_pdf*discount_zeta*k_sa__)**2\n",
    "        \n",
    "        cva_ += inv_pdf*discount_zeta_delta*cva__\n",
    "        dva_ += inv_pdf*discount_zeta_delta*dva__\n",
    "        fva_ += inv_pdf*discount_zeta*fva__\n",
    "        kccr95_ += inv_pdf*discount_zeta*kccr95__\n",
    "        kccr99_ += inv_pdf*discount_zeta*kccr99__\n",
    "        kccrsa_ += inv_pdf*discount_zeta*kccrsa__\n",
    "        kcva95_ += inv_pdf*discount_zeta*kcva95__\n",
    "        kcva99_ += inv_pdf*discount_zeta*kcva99__\n",
    "        kcvasa_ += inv_pdf*discount_zeta*kcvasa__\n",
    "        \n",
    "        k_95_ += inv_pdf*discount_zeta*k_95__\n",
    "        k_99_ += inv_pdf*discount_zeta*k_99__\n",
    "        k_sa_ += inv_pdf*discount_zeta*k_sa__\n",
    "        \n",
    "    results_globs[\"cva\"][\"sum\"] += cva_\n",
    "    results_globs[\"cva\"][\"sum2\"] += cva_**2\n",
    "    \n",
    "    results_globs[\"dva\"][\"sum\"] += dva_\n",
    "    results_globs[\"dva\"][\"sum2\"] += dva_**2\n",
    "    \n",
    "    results_globs[\"fva\"][\"sum\"] += fva_\n",
    "    results_globs[\"fva\"][\"sum2\"] += fva_**2\n",
    "    \n",
    "    results_globs[\"kva_95_ccr\"][\"sum\"] += kccr95_\n",
    "    results_globs[\"kva_95_ccr\"][\"sum2\"] += kccr95_**2\n",
    "    results_globs[\"kva_99_ccr\"][\"sum\"] += kccr99_\n",
    "    results_globs[\"kva_99_ccr\"][\"sum2\"] += kccr99_**2\n",
    "    results_globs[\"kva_0sa_ccr\"][\"sum\"] += kccrsa_\n",
    "    results_globs[\"kva_0sa_ccr\"][\"sum2\"] += kccrsa_**2\n",
    "    \n",
    "    results_globs[\"kva_95_cva\"][\"sum\"] += kcva95_\n",
    "    results_globs[\"kva_95_cva\"][\"sum2\"] += kcva95_**2\n",
    "    results_globs[\"kva_99_cva\"][\"sum\"] += kcva99_\n",
    "    results_globs[\"kva_99_cva\"][\"sum2\"] += kcva99_**2\n",
    "    results_globs[\"kva_0sa_cva\"][\"sum\"] += kcvasa_\n",
    "    results_globs[\"kva_0sa_cva\"][\"sum2\"] += kcvasa_**2\n",
    "    \n",
    "    results_globs[\"k_95\"][\"sum\"] += k_95_\n",
    "    results_globs[\"k_95\"][\"sum2\"] += k_95_**2\n",
    "    results_globs[\"k_99\"][\"sum\"] += k_99_\n",
    "    results_globs[\"k_99\"][\"sum2\"] += k_99_**2\n",
    "    results_globs[\"k_0sa\"][\"sum\"] += k_sa_\n",
    "    results_globs[\"k_0sa\"][\"sum2\"] += k_sa_**2\n",
    "        \n",
    "toc = time.time()"
   ]
  },
  {
   "cell_type": "markdown",
   "metadata": {},
   "source": [
    "#Results"
   ]
  },
  {
   "cell_type": "code",
   "execution_count": 26,
   "metadata": {
    "collapsed": false,
    "scrolled": false
   },
   "outputs": [
    {
     "name": "stdout",
     "output_type": "stream",
     "text": [
      "Results for 20000 iterations (4265.16900015 secs.)\n",
      "\n",
      "Used discount factor: Constant discount factor process with rate r = 0.02\n",
      "\n",
      "Bank index 64 that belongs to the following MO copula subsets:\n",
      "- [64] with pillars [3 5] and intensity [ 0.00795383  0.01045393]\n",
      "\n",
      "- [64, 98, 99, 38, 70, 71, 104, 75, 76, 81, 78, 111, 17, 83, 120, 26, 124, 29, 31] with pillars [3 5] and intensity [ 0.0053745  0.0050889]\n",
      "\n",
      "- [17, 26, 29, 31, 38, 50, 55, 64, 66, 70, 71, 75, 76, 78, 81, 83, 98, 99, 103, 104, 107, 111, 120, 122, 124] with pillars [3 5] and intensity [ 0.0006145  0.0086692]\n",
      "\n",
      "- [0, 3, 4, 5, 9, 13, 17, 24, 25, 26, 27, 28, 29, 30, 31, 33, 36, 37, 38, 43, 45, 47, 50, 52, 55, 56, 57, 61, 64, 66, 70, 71, 72, 73, 75, 76, 78, 80, 81, 82, 83, 86, 87, 89, 90, 98, 99, 100, 103, 104, 107, 111, 112, 113, 114, 116, 118, 119, 120, 122, 124] with pillars [3 5] and intensity [  2.01650000e-04   9.33720000e-05]\n",
      "\n",
      "- [0, 1, 2, 3, 4, 5, 6, 7, 8, 9, 10, 11, 12, 13, 14, 15, 16, 17, 18, 19, 20, 21, 22, 23, 24, 25, 26, 27, 28, 29, 30, 31, 32, 33, 34, 35, 36, 37, 38, 39, 40, 41, 42, 43, 44, 45, 46, 47, 48, 49, 50, 51, 52, 53, 54, 55, 56, 57, 58, 59, 60, 61, 62, 63, 64, 65, 66, 67, 68, 69, 70, 71, 72, 73, 74, 75, 76, 77, 78, 79, 80, 81, 82, 83, 84, 85, 86, 87, 88, 89, 90, 91, 92, 93, 94, 95, 96, 97, 98, 99, 100, 101, 102, 103, 104, 105, 106, 107, 108, 109, 110, 111, 112, 113, 114, 115, 116, 117, 118, 119, 120, 121, 122, 123, 124] with pillars [3 5] and intensity [ 0.0016207  0.0076647]\n",
      "\n",
      "Counterparties indexes:\n",
      "[26, 29, 17, 50, 13, 4, 5, 9]\n",
      "\n",
      "-----------------------------------------------------\n",
      "\n",
      "Counterparty index 26 belongs to the following MO copula subses:\n",
      "- [26] with pillars [3 5] and intensity [ 0.13875825  0.01154767]\n",
      "\n",
      "- [98, 99, 38, 104, 75, 26] with pillars [3 5] and intensity [ 0.058     0.015925]\n",
      "\n",
      "- [64, 98, 99, 38, 70, 71, 104, 75, 76, 81, 78, 111, 17, 83, 120, 26, 124, 29, 31] with pillars [3 5] and intensity [ 0.0053745  0.0050889]\n",
      "\n",
      "- [17, 26, 29, 31, 38, 50, 55, 64, 66, 70, 71, 75, 76, 78, 81, 83, 98, 99, 103, 104, 107, 111, 120, 122, 124] with pillars [3 5] and intensity [ 0.0006145  0.0086692]\n",
      "\n",
      "- [0, 3, 4, 5, 9, 13, 17, 24, 25, 26, 27, 28, 29, 30, 31, 33, 36, 37, 38, 43, 45, 47, 50, 52, 55, 56, 57, 61, 64, 66, 70, 71, 72, 73, 75, 76, 78, 80, 81, 82, 83, 86, 87, 89, 90, 98, 99, 100, 103, 104, 107, 111, 112, 113, 114, 116, 118, 119, 120, 122, 124] with pillars [3 5] and intensity [  2.01650000e-04   9.33720000e-05]\n",
      "\n",
      "- [0, 1, 2, 3, 4, 5, 6, 7, 8, 9, 10, 11, 12, 13, 14, 15, 16, 17, 18, 19, 20, 21, 22, 23, 24, 25, 26, 27, 28, 29, 30, 31, 32, 33, 34, 35, 36, 37, 38, 39, 40, 41, 42, 43, 44, 45, 46, 47, 48, 49, 50, 51, 52, 53, 54, 55, 56, 57, 58, 59, 60, 61, 62, 63, 64, 65, 66, 67, 68, 69, 70, 71, 72, 73, 74, 75, 76, 77, 78, 79, 80, 81, 82, 83, 84, 85, 86, 87, 88, 89, 90, 91, 92, 93, 94, 95, 96, 97, 98, 99, 100, 101, 102, 103, 104, 105, 106, 107, 108, 109, 110, 111, 112, 113, 114, 115, 116, 117, 118, 119, 120, 121, 122, 123, 124] with pillars [3 5] and intensity [ 0.0016207  0.0076647]\n",
      "\n",
      "\n",
      "Counterparty index 29 belongs to the following MO copula subses:\n",
      "- [29] with pillars [3 5] and intensity [ 0.06140538  0.01950418]\n",
      "\n",
      "- [64, 98, 99, 38, 70, 71, 104, 75, 76, 81, 78, 111, 17, 83, 120, 26, 124, 29, 31] with pillars [3 5] and intensity [ 0.0053745  0.0050889]\n",
      "\n",
      "- [17, 26, 29, 31, 38, 50, 55, 64, 66, 70, 71, 75, 76, 78, 81, 83, 98, 99, 103, 104, 107, 111, 120, 122, 124] with pillars [3 5] and intensity [ 0.0006145  0.0086692]\n",
      "\n",
      "- [0, 3, 4, 5, 9, 13, 17, 24, 25, 26, 27, 28, 29, 30, 31, 33, 36, 37, 38, 43, 45, 47, 50, 52, 55, 56, 57, 61, 64, 66, 70, 71, 72, 73, 75, 76, 78, 80, 81, 82, 83, 86, 87, 89, 90, 98, 99, 100, 103, 104, 107, 111, 112, 113, 114, 116, 118, 119, 120, 122, 124] with pillars [3 5] and intensity [  2.01650000e-04   9.33720000e-05]\n",
      "\n",
      "- [0, 1, 2, 3, 4, 5, 6, 7, 8, 9, 10, 11, 12, 13, 14, 15, 16, 17, 18, 19, 20, 21, 22, 23, 24, 25, 26, 27, 28, 29, 30, 31, 32, 33, 34, 35, 36, 37, 38, 39, 40, 41, 42, 43, 44, 45, 46, 47, 48, 49, 50, 51, 52, 53, 54, 55, 56, 57, 58, 59, 60, 61, 62, 63, 64, 65, 66, 67, 68, 69, 70, 71, 72, 73, 74, 75, 76, 77, 78, 79, 80, 81, 82, 83, 84, 85, 86, 87, 88, 89, 90, 91, 92, 93, 94, 95, 96, 97, 98, 99, 100, 101, 102, 103, 104, 105, 106, 107, 108, 109, 110, 111, 112, 113, 114, 115, 116, 117, 118, 119, 120, 121, 122, 123, 124] with pillars [3 5] and intensity [ 0.0016207  0.0076647]\n",
      "\n",
      "\n",
      "Counterparty index 17 belongs to the following MO copula subses:\n",
      "- [17] with pillars [3 5] and intensity [ 0.0195274   0.02429113]\n",
      "\n",
      "- [64, 98, 99, 38, 70, 71, 104, 75, 76, 81, 78, 111, 17, 83, 120, 26, 124, 29, 31] with pillars [3 5] and intensity [ 0.0053745  0.0050889]\n",
      "\n",
      "- [17, 26, 29, 31, 38, 50, 55, 64, 66, 70, 71, 75, 76, 78, 81, 83, 98, 99, 103, 104, 107, 111, 120, 122, 124] with pillars [3 5] and intensity [ 0.0006145  0.0086692]\n",
      "\n",
      "- [0, 3, 4, 5, 9, 13, 17, 24, 25, 26, 27, 28, 29, 30, 31, 33, 36, 37, 38, 43, 45, 47, 50, 52, 55, 56, 57, 61, 64, 66, 70, 71, 72, 73, 75, 76, 78, 80, 81, 82, 83, 86, 87, 89, 90, 98, 99, 100, 103, 104, 107, 111, 112, 113, 114, 116, 118, 119, 120, 122, 124] with pillars [3 5] and intensity [  2.01650000e-04   9.33720000e-05]\n",
      "\n",
      "- [0, 1, 2, 3, 4, 5, 6, 7, 8, 9, 10, 11, 12, 13, 14, 15, 16, 17, 18, 19, 20, 21, 22, 23, 24, 25, 26, 27, 28, 29, 30, 31, 32, 33, 34, 35, 36, 37, 38, 39, 40, 41, 42, 43, 44, 45, 46, 47, 48, 49, 50, 51, 52, 53, 54, 55, 56, 57, 58, 59, 60, 61, 62, 63, 64, 65, 66, 67, 68, 69, 70, 71, 72, 73, 74, 75, 76, 77, 78, 79, 80, 81, 82, 83, 84, 85, 86, 87, 88, 89, 90, 91, 92, 93, 94, 95, 96, 97, 98, 99, 100, 101, 102, 103, 104, 105, 106, 107, 108, 109, 110, 111, 112, 113, 114, 115, 116, 117, 118, 119, 120, 121, 122, 123, 124] with pillars [3 5] and intensity [ 0.0016207  0.0076647]\n",
      "\n",
      "\n",
      "Counterparty index 50 belongs to the following MO copula subses:\n",
      "- [50] with pillars [3 5] and intensity [ 0.00832425  0.0047459 ]\n",
      "\n",
      "- [17, 26, 29, 31, 38, 50, 55, 64, 66, 70, 71, 75, 76, 78, 81, 83, 98, 99, 103, 104, 107, 111, 120, 122, 124] with pillars [3 5] and intensity [ 0.0006145  0.0086692]\n",
      "\n",
      "- [0, 3, 4, 5, 9, 13, 17, 24, 25, 26, 27, 28, 29, 30, 31, 33, 36, 37, 38, 43, 45, 47, 50, 52, 55, 56, 57, 61, 64, 66, 70, 71, 72, 73, 75, 76, 78, 80, 81, 82, 83, 86, 87, 89, 90, 98, 99, 100, 103, 104, 107, 111, 112, 113, 114, 116, 118, 119, 120, 122, 124] with pillars [3 5] and intensity [  2.01650000e-04   9.33720000e-05]\n",
      "\n",
      "- [0, 1, 2, 3, 4, 5, 6, 7, 8, 9, 10, 11, 12, 13, 14, 15, 16, 17, 18, 19, 20, 21, 22, 23, 24, 25, 26, 27, 28, 29, 30, 31, 32, 33, 34, 35, 36, 37, 38, 39, 40, 41, 42, 43, 44, 45, 46, 47, 48, 49, 50, 51, 52, 53, 54, 55, 56, 57, 58, 59, 60, 61, 62, 63, 64, 65, 66, 67, 68, 69, 70, 71, 72, 73, 74, 75, 76, 77, 78, 79, 80, 81, 82, 83, 84, 85, 86, 87, 88, 89, 90, 91, 92, 93, 94, 95, 96, 97, 98, 99, 100, 101, 102, 103, 104, 105, 106, 107, 108, 109, 110, 111, 112, 113, 114, 115, 116, 117, 118, 119, 120, 121, 122, 123, 124] with pillars [3 5] and intensity [ 0.0016207  0.0076647]\n",
      "\n",
      "\n",
      "Counterparty index 13 belongs to the following MO copula subses:\n",
      "- [13] with pillars [3 5] and intensity [ 0.0067907   0.01187502]\n",
      "\n",
      "- [0, 3, 4, 5, 9, 13, 17, 24, 25, 26, 27, 28, 29, 30, 31, 33, 36, 37, 38, 43, 45, 47, 50, 52, 55, 56, 57, 61, 64, 66, 70, 71, 72, 73, 75, 76, 78, 80, 81, 82, 83, 86, 87, 89, 90, 98, 99, 100, 103, 104, 107, 111, 112, 113, 114, 116, 118, 119, 120, 122, 124] with pillars [3 5] and intensity [  2.01650000e-04   9.33720000e-05]\n",
      "\n",
      "- [0, 1, 2, 3, 4, 5, 6, 7, 8, 9, 10, 11, 12, 13, 14, 15, 16, 17, 18, 19, 20, 21, 22, 23, 24, 25, 26, 27, 28, 29, 30, 31, 32, 33, 34, 35, 36, 37, 38, 39, 40, 41, 42, 43, 44, 45, 46, 47, 48, 49, 50, 51, 52, 53, 54, 55, 56, 57, 58, 59, 60, 61, 62, 63, 64, 65, 66, 67, 68, 69, 70, 71, 72, 73, 74, 75, 76, 77, 78, 79, 80, 81, 82, 83, 84, 85, 86, 87, 88, 89, 90, 91, 92, 93, 94, 95, 96, 97, 98, 99, 100, 101, 102, 103, 104, 105, 106, 107, 108, 109, 110, 111, 112, 113, 114, 115, 116, 117, 118, 119, 120, 121, 122, 123, 124] with pillars [3 5] and intensity [ 0.0016207  0.0076647]\n",
      "\n",
      "\n",
      "Counterparty index 4 belongs to the following MO copula subses:\n",
      "- [4] with pillars [3 5] and intensity [  8.58089030e-03  -4.31167803e-08]\n",
      "\n",
      "- [0, 3, 4, 5, 9, 13, 17, 24, 25, 26, 27, 28, 29, 30, 31, 33, 36, 37, 38, 43, 45, 47, 50, 52, 55, 56, 57, 61, 64, 66, 70, 71, 72, 73, 75, 76, 78, 80, 81, 82, 83, 86, 87, 89, 90, 98, 99, 100, 103, 104, 107, 111, 112, 113, 114, 116, 118, 119, 120, 122, 124] with pillars [3 5] and intensity [  2.01650000e-04   9.33720000e-05]\n",
      "\n",
      "- [0, 1, 2, 3, 4, 5, 6, 7, 8, 9, 10, 11, 12, 13, 14, 15, 16, 17, 18, 19, 20, 21, 22, 23, 24, 25, 26, 27, 28, 29, 30, 31, 32, 33, 34, 35, 36, 37, 38, 39, 40, 41, 42, 43, 44, 45, 46, 47, 48, 49, 50, 51, 52, 53, 54, 55, 56, 57, 58, 59, 60, 61, 62, 63, 64, 65, 66, 67, 68, 69, 70, 71, 72, 73, 74, 75, 76, 77, 78, 79, 80, 81, 82, 83, 84, 85, 86, 87, 88, 89, 90, 91, 92, 93, 94, 95, 96, 97, 98, 99, 100, 101, 102, 103, 104, 105, 106, 107, 108, 109, 110, 111, 112, 113, 114, 115, 116, 117, 118, 119, 120, 121, 122, 123, 124] with pillars [3 5] and intensity [ 0.0016207  0.0076647]\n",
      "\n",
      "\n",
      "Counterparty index 5 belongs to the following MO copula subses:\n",
      "- [5] with pillars [3 5] and intensity [ 0.00714886  0.00216609]\n",
      "\n",
      "- [0, 3, 4, 5, 9, 13, 17, 24, 25, 26, 27, 28, 29, 30, 31, 33, 36, 37, 38, 43, 45, 47, 50, 52, 55, 56, 57, 61, 64, 66, 70, 71, 72, 73, 75, 76, 78, 80, 81, 82, 83, 86, 87, 89, 90, 98, 99, 100, 103, 104, 107, 111, 112, 113, 114, 116, 118, 119, 120, 122, 124] with pillars [3 5] and intensity [  2.01650000e-04   9.33720000e-05]\n",
      "\n",
      "- [0, 1, 2, 3, 4, 5, 6, 7, 8, 9, 10, 11, 12, 13, 14, 15, 16, 17, 18, 19, 20, 21, 22, 23, 24, 25, 26, 27, 28, 29, 30, 31, 32, 33, 34, 35, 36, 37, 38, 39, 40, 41, 42, 43, 44, 45, 46, 47, 48, 49, 50, 51, 52, 53, 54, 55, 56, 57, 58, 59, 60, 61, 62, 63, 64, 65, 66, 67, 68, 69, 70, 71, 72, 73, 74, 75, 76, 77, 78, 79, 80, 81, 82, 83, 84, 85, 86, 87, 88, 89, 90, 91, 92, 93, 94, 95, 96, 97, 98, 99, 100, 101, 102, 103, 104, 105, 106, 107, 108, 109, 110, 111, 112, 113, 114, 115, 116, 117, 118, 119, 120, 121, 122, 123, 124] with pillars [3 5] and intensity [ 0.0016207  0.0076647]\n",
      "\n",
      "\n",
      "Counterparty index 9 belongs to the following MO copula subses:\n",
      "- [9] with pillars [3 5] and intensity [ 0.00535751  0.00313574]\n",
      "\n",
      "- [0, 3, 4, 5, 9, 13, 17, 24, 25, 26, 27, 28, 29, 30, 31, 33, 36, 37, 38, 43, 45, 47, 50, 52, 55, 56, 57, 61, 64, 66, 70, 71, 72, 73, 75, 76, 78, 80, 81, 82, 83, 86, 87, 89, 90, 98, 99, 100, 103, 104, 107, 111, 112, 113, 114, 116, 118, 119, 120, 122, 124] with pillars [3 5] and intensity [  2.01650000e-04   9.33720000e-05]\n",
      "\n",
      "- [0, 1, 2, 3, 4, 5, 6, 7, 8, 9, 10, 11, 12, 13, 14, 15, 16, 17, 18, 19, 20, 21, 22, 23, 24, 25, 26, 27, 28, 29, 30, 31, 32, 33, 34, 35, 36, 37, 38, 39, 40, 41, 42, 43, 44, 45, 46, 47, 48, 49, 50, 51, 52, 53, 54, 55, 56, 57, 58, 59, 60, 61, 62, 63, 64, 65, 66, 67, 68, 69, 70, 71, 72, 73, 74, 75, 76, 77, 78, 79, 80, 81, 82, 83, 84, 85, 86, 87, 88, 89, 90, 91, 92, 93, 94, 95, 96, 97, 98, 99, 100, 101, 102, 103, 104, 105, 106, 107, 108, 109, 110, 111, 112, 113, 114, 115, 116, 117, 118, 119, 120, 121, 122, 123, 124] with pillars [3 5] and intensity [ 0.0016207  0.0076647]\n",
      "\n",
      "\n",
      "\n",
      "-----------------------------------------------------\n",
      "\n",
      "Derivatives:\n",
      "- Swap contract of maturity T = 5 years, over S^0 with strike K = 104.560, paying at {0.00, 0.50, 1.00, 1.50, 2.00, 2.50, 3.00, 3.50, 4.00, 4.50, 5.00}\n",
      "\n",
      "Positions:\n",
      "[[ 0.        ]\n",
      " [ 0.        ]\n",
      " [ 0.        ]\n",
      " [ 0.        ]\n",
      " [-0.02525125]\n",
      " [-0.02525125]\n",
      " [ 0.        ]\n",
      " [ 0.        ]\n",
      " [ 0.        ]\n",
      " [-0.02525125]\n",
      " [ 0.        ]\n",
      " [ 0.        ]\n",
      " [ 0.        ]\n",
      " [-0.02525125]\n",
      " [ 0.        ]\n",
      " [ 0.        ]\n",
      " [ 0.        ]\n",
      " [-0.02525125]\n",
      " [ 0.        ]\n",
      " [ 0.        ]\n",
      " [ 0.        ]\n",
      " [ 0.        ]\n",
      " [ 0.        ]\n",
      " [ 0.        ]\n",
      " [ 0.        ]\n",
      " [ 0.        ]\n",
      " [-0.02525125]\n",
      " [ 0.        ]\n",
      " [ 0.        ]\n",
      " [-0.02525125]\n",
      " [ 0.        ]\n",
      " [ 0.        ]\n",
      " [ 0.        ]\n",
      " [ 0.        ]\n",
      " [ 0.        ]\n",
      " [ 0.        ]\n",
      " [ 0.        ]\n",
      " [ 0.        ]\n",
      " [ 0.        ]\n",
      " [ 0.        ]\n",
      " [ 0.        ]\n",
      " [ 0.        ]\n",
      " [ 0.        ]\n",
      " [ 0.        ]\n",
      " [ 0.        ]\n",
      " [ 0.        ]\n",
      " [ 0.        ]\n",
      " [ 0.        ]\n",
      " [ 0.        ]\n",
      " [ 0.        ]\n",
      " [-0.02525125]\n",
      " [ 0.        ]\n",
      " [ 0.        ]\n",
      " [ 0.        ]\n",
      " [ 0.        ]\n",
      " [ 0.        ]\n",
      " [ 0.        ]\n",
      " [ 0.        ]\n",
      " [ 0.        ]\n",
      " [ 0.        ]\n",
      " [ 0.        ]\n",
      " [ 0.        ]\n",
      " [ 0.        ]\n",
      " [ 0.        ]\n",
      " [ 0.20201003]\n",
      " [ 0.        ]\n",
      " [ 0.        ]\n",
      " [ 0.        ]\n",
      " [ 0.        ]\n",
      " [ 0.        ]\n",
      " [ 0.        ]\n",
      " [ 0.        ]\n",
      " [ 0.        ]\n",
      " [ 0.        ]\n",
      " [ 0.        ]\n",
      " [ 0.        ]\n",
      " [ 0.        ]\n",
      " [ 0.        ]\n",
      " [ 0.        ]\n",
      " [ 0.        ]\n",
      " [ 0.        ]\n",
      " [ 0.        ]\n",
      " [ 0.        ]\n",
      " [ 0.        ]\n",
      " [ 0.        ]\n",
      " [ 0.        ]\n",
      " [ 0.        ]\n",
      " [ 0.        ]\n",
      " [ 0.        ]\n",
      " [ 0.        ]\n",
      " [ 0.        ]\n",
      " [ 0.        ]\n",
      " [ 0.        ]\n",
      " [ 0.        ]\n",
      " [ 0.        ]\n",
      " [ 0.        ]\n",
      " [ 0.        ]\n",
      " [ 0.        ]\n",
      " [ 0.        ]\n",
      " [ 0.        ]\n",
      " [ 0.        ]\n",
      " [ 0.        ]\n",
      " [ 0.        ]\n",
      " [ 0.        ]\n",
      " [ 0.        ]\n",
      " [ 0.        ]\n",
      " [ 0.        ]\n",
      " [ 0.        ]\n",
      " [ 0.        ]\n",
      " [ 0.        ]\n",
      " [ 0.        ]\n",
      " [ 0.        ]\n",
      " [ 0.        ]\n",
      " [ 0.        ]\n",
      " [ 0.        ]\n",
      " [ 0.        ]\n",
      " [ 0.        ]\n",
      " [ 0.        ]\n",
      " [ 0.        ]\n",
      " [ 0.        ]\n",
      " [ 0.        ]\n",
      " [ 0.        ]\n",
      " [ 0.        ]\n",
      " [ 0.        ]\n",
      " [ 0.        ]]\n",
      "Confidence level used for IM: 0.80\n"
     ]
    }
   ],
   "source": [
    "print \"Results for %d iterations (%s secs.)\"%(N, toc-tic)\n",
    "print\n",
    "\n",
    "print \"Used discount factor: %s\"%discount\n",
    "print\n",
    "\n",
    "print \"Bank index %i that belongs to the following MO copula subsets:\"%b_id\n",
    "for idx in b_subsets_indexes:\n",
    "    print \"- %s with pillars %s and intensity %s\\n\"%([x for x in copula.subsets[idx][0]], \\\n",
    "                                                     copula.pillars[idx], copula.intensities[idx])\n",
    "    \n",
    "print \"Counterparties indexes:\"\n",
    "print c_ids\n",
    "\n",
    "print \"\\n-----------------------------------------------------\\n\"\n",
    "\n",
    "for idx in c_ids:\n",
    "    print \"Counterparty index %s belongs to the following MO copula subses:\"%idx\n",
    "    sub_indexes = copula.get_indexes_including(idx)\n",
    "    for subset_idx in sub_indexes:\n",
    "        print \"- %s with pillars %s and intensity %s\\n\"%([x for x in copula.subsets[subset_idx][0]], \\\n",
    "                                                         copula.pillars[subset_idx], copula.intensities[subset_idx])        \n",
    "    print\n",
    "    \n",
    "print \"\\n-----------------------------------------------------\\n\"\n",
    "    \n",
    "print \"Derivatives:\"\n",
    "for d in [swap]:\n",
    "    print \"- %s\"%d\n",
    "    \n",
    "print \"\\nPositions:\"\n",
    "print port.positions\n",
    "\n",
    "print \"Confidence level used for IM: %.2f\"%quantile_im"
   ]
  },
  {
   "cell_type": "code",
   "execution_count": 27,
   "metadata": {
    "collapsed": false,
    "scrolled": true
   },
   "outputs": [
    {
     "name": "stdout",
     "output_type": "stream",
     "text": [
      "Results of the individual xVA:\n",
      "\n",
      "CVA:\n",
      "---------------------------\n",
      "Id 4: [0.000955, 0.001045]\n",
      "Id 5: [0.000872, 0.000955]\n",
      "Id 9: [0.000746, 0.000820]\n",
      "Id 13: [0.000986, 0.001094]\n",
      "Id 17: [0.002794, 0.003080]\n",
      "Id 50: [0.001180, 0.001303]\n",
      "Id 26: [0.013186, 0.014648]\n",
      "Id 29: [0.005652, 0.006210]\n",
      "\n",
      "DVA:\n",
      "---------------------------\n",
      "Id 4: [0.002723, 0.003303]\n",
      "Id 5: [0.002744, 0.003330]\n",
      "Id 9: [0.002746, 0.003333]\n",
      "Id 13: [0.002716, 0.003299]\n",
      "Id 17: [0.002665, 0.003237]\n",
      "Id 50: [0.002687, 0.003263]\n",
      "Id 26: [0.001835, 0.002321]\n",
      "Id 29: [0.002398, 0.002938]\n",
      "\n",
      "FVA:\n",
      "---------------------------\n",
      "Id 4: [0.000615, 0.001353]\n",
      "Id 5: [0.000610, 0.001348]\n",
      "Id 9: [0.000595, 0.001329]\n",
      "Id 13: [0.000615, 0.001353]\n",
      "Id 17: [0.000461, 0.001063]\n",
      "Id 50: [0.000581, 0.001313]\n",
      "Id 26: [0.000181, 0.000501]\n",
      "Id 29: [0.000411, 0.001009]\n",
      "\n",
      "K_0SA:\n",
      "---------------------------\n",
      "Id 4: [0.112026, 0.117315]\n",
      "Id 5: [0.106028, 0.111014]\n",
      "Id 9: [0.096564, 0.101071]\n",
      "Id 13: [0.104126, 0.109007]\n",
      "Id 17: [0.155801, 0.163306]\n",
      "Id 50: [0.111068, 0.116297]\n",
      "Id 26: [0.283230, 0.300204]\n",
      "Id 29: [0.201727, 0.211971]\n",
      "\n",
      "K_95:\n",
      "---------------------------\n",
      "Id 4: [0.144004, 0.149858]\n",
      "Id 5: [0.136415, 0.141935]\n",
      "Id 9: [0.124478, 0.129474]\n",
      "Id 13: [0.134095, 0.139502]\n",
      "Id 17: [0.200382, 0.208696]\n",
      "Id 50: [0.142822, 0.148610]\n",
      "Id 26: [0.374722, 0.393896]\n",
      "Id 29: [0.260294, 0.271679]\n",
      "\n",
      "K_99:\n",
      "---------------------------\n",
      "Id 4: [0.158826, 0.164914]\n",
      "Id 5: [0.150507, 0.156250]\n",
      "Id 9: [0.137429, 0.142628]\n",
      "Id 13: [0.147993, 0.153620]\n",
      "Id 17: [0.221059, 0.229711]\n",
      "Id 50: [0.157547, 0.163569]\n",
      "Id 26: [0.417748, 0.437872]\n",
      "Id 29: [0.287494, 0.299360]\n",
      "\n",
      "KVA_CCR_0SA:\n",
      "---------------------------\n",
      "Id 4: [0.092701, 0.097133]\n",
      "Id 5: [0.086630, 0.090755]\n",
      "Id 9: [0.077056, 0.080697]\n",
      "Id 13: [0.084729, 0.088751]\n",
      "Id 17: [0.117935, 0.123744]\n",
      "Id 50: [0.091714, 0.096087]\n",
      "Id 26: [0.148551, 0.157997]\n",
      "Id 29: [0.149599, 0.157418]\n",
      "\n",
      "KVA_CCR_95:\n",
      "---------------------------\n",
      "Id 4: [0.118476, 0.123364]\n",
      "Id 5: [0.110801, 0.115351]\n",
      "Id 9: [0.098725, 0.102746]\n",
      "Id 13: [0.108470, 0.112909]\n",
      "Id 17: [0.150286, 0.156685]\n",
      "Id 50: [0.117254, 0.122079]\n",
      "Id 26: [0.191994, 0.202503]\n",
      "Id 29: [0.190828, 0.199460]\n",
      "\n",
      "KVA_CCR_99:\n",
      "---------------------------\n",
      "Id 4: [0.130400, 0.135477]\n",
      "Id 5: [0.121989, 0.126717]\n",
      "Id 9: [0.108760, 0.112938]\n",
      "Id 13: [0.119460, 0.124072]\n",
      "Id 17: [0.165245, 0.171890]\n",
      "Id 50: [0.129076, 0.134088]\n",
      "Id 26: [0.212276, 0.223242]\n",
      "Id 29: [0.209902, 0.218877]\n",
      "\n",
      "KVA_CVA_0SA:\n",
      "---------------------------\n",
      "Id 4: [0.019310, 0.020197]\n",
      "Id 5: [0.019384, 0.020273]\n",
      "Id 9: [0.019496, 0.020387]\n",
      "Id 13: [0.019383, 0.020270]\n",
      "Id 17: [0.037831, 0.039598]\n",
      "Id 50: [0.019339, 0.020224]\n",
      "Id 26: [0.134535, 0.142351]\n",
      "Id 29: [0.052067, 0.054615]\n",
      "\n",
      "KVA_CVA_95:\n",
      "---------------------------\n",
      "Id 4: [0.025511, 0.026512]\n",
      "Id 5: [0.025598, 0.026600]\n",
      "Id 9: [0.025738, 0.026743]\n",
      "Id 13: [0.025608, 0.026609]\n",
      "Id 17: [0.050055, 0.052051]\n",
      "Id 50: [0.025550, 0.026549]\n",
      "Id 26: [0.182562, 0.191559]\n",
      "Id 29: [0.069394, 0.072291]\n",
      "\n",
      "KVA_CVA_99:\n",
      "---------------------------\n",
      "Id 4: [0.028408, 0.029456]\n",
      "Id 5: [0.028501, 0.029551]\n",
      "Id 9: [0.028654, 0.029706]\n",
      "Id 13: [0.028517, 0.029565]\n",
      "Id 17: [0.055771, 0.057863]\n",
      "Id 50: [0.028453, 0.029499]\n",
      "Id 26: [0.205297, 0.214805]\n",
      "Id 29: [0.077515, 0.080559]\n",
      "\n"
     ]
    }
   ],
   "source": [
    "from scipy.stats import norm\n",
    "\n",
    "conf_level = 0.95\n",
    "z_level = norm.ppf(0.5*(1+conf_level))\n",
    "\n",
    "print \"Results of the individual xVA:\\n\"\n",
    "keys = results_idio.keys()\n",
    "keys.sort()\n",
    "\n",
    "for k in keys:    \n",
    "    print \"%s:\"%k.upper()\n",
    "    print \"---------------------------\"\n",
    "    v = results_idio[k]\n",
    "    for id_, res_ in v.iteritems():        \n",
    "        mean__ = res_['sum']/N\n",
    "        mod_var__ = (res_['sum2']/N - mean__**2) / (N-1.)\n",
    "        half_inter = z_level*np.sqrt(mod_var__)\n",
    "        print \"Id %s: [%f, %f]\"%(id_, mean__-half_inter, mean__+half_inter)\n",
    "    print"
   ]
  },
  {
   "cell_type": "code",
   "execution_count": 28,
   "metadata": {
    "collapsed": false,
    "scrolled": true
   },
   "outputs": [
    {
     "name": "stdout",
     "output_type": "stream",
     "text": [
      "Results of the global xVA:\n",
      "\n",
      "The CVA for the bank lies in [0.026481, 0.029045]\n",
      "The DVA for the bank lies in [0.020602, 0.024937]\n",
      "The FVA for the bank lies in [0.004249, 0.009091]\n",
      "The K_0SA for the bank lies in [1.172716, 1.228039]\n",
      "The K_95 for the bank lies in [1.519702, 1.581158]\n",
      "The K_99 for the bank lies in [1.681254, 1.745275]\n",
      "The KVA_0SA_CCR for the bank lies in [0.850374, 0.891122]\n",
      "The KVA_0SA_CVA for the bank lies in [0.321934, 0.337325]\n",
      "The KVA_95_CCR for the bank lies in [1.088506, 1.133425]\n",
      "The KVA_95_CVA for the bank lies in [0.430711, 0.448218]\n",
      "The KVA_99_CCR for the bank lies in [1.198875, 1.245535]\n",
      "The KVA_99_CVA for the bank lies in [0.481859, 0.500261]\n"
     ]
    }
   ],
   "source": [
    "print \"Results of the global xVA:\\n\"\n",
    "keys = results_globs.keys()\n",
    "keys.sort()\n",
    "\n",
    "excel_results = dict()\n",
    "\n",
    "for k in keys:\n",
    "    mean_ = results_globs[k]['sum']/N\n",
    "    mod_var_ = (results_globs[k]['sum2']/N - mean_**2) / (N-1.)\n",
    "    half_inter = z_level*np.sqrt(mod_var_)\n",
    "    \n",
    "    excel_results[k.upper()] = \"%s \\t %s\"%(mean_, half_inter / mean_)\n",
    "    \n",
    "    print \"The %s for the bank lies in [%f, %f]\"%(k.upper(), mean_-half_inter, mean_+half_inter)"
   ]
  },
  {
   "cell_type": "code",
   "execution_count": 29,
   "metadata": {
    "collapsed": true
   },
   "outputs": [],
   "source": [
    "file_ = open('../res.txt', 'a')\n",
    "\n",
    "file_.write(\"Bilat 1vs%s\\n\"%(len(c_ids)))\n",
    "\n",
    "keys = excel_results.keys()\n",
    "keys.sort()\n",
    "\n",
    "for k in keys:\n",
    "    file_.write(\"%s \\t %s\\n\"%(k, excel_results[k]))\n",
    "    \n",
    "file_.write(\"\\n\")\n",
    "file_.close()"
   ]
  }
 ],
 "metadata": {
  "kernelspec": {
   "display_name": "Python 2",
   "language": "python",
   "name": "python2"
  },
  "language_info": {
   "codemirror_mode": {
    "name": "ipython",
    "version": 2
   },
   "file_extension": ".py",
   "mimetype": "text/x-python",
   "name": "python",
   "nbconvert_exporter": "python",
   "pygments_lexer": "ipython2",
   "version": "2.7.9"
  }
 },
 "nbformat": 4,
 "nbformat_minor": 0
}
