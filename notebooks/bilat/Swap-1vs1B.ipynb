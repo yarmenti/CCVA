{
 "cells": [
  {
   "cell_type": "code",
   "execution_count": 1,
   "metadata": {
    "collapsed": true
   },
   "outputs": [],
   "source": [
    "import sys\n",
    "\n",
    "sys.path.append('../..')"
   ]
  },
  {
   "cell_type": "code",
   "execution_count": 2,
   "metadata": {
    "collapsed": false
   },
   "outputs": [
    {
     "name": "stdout",
     "output_type": "stream",
     "text": [
      "['N', 'credit', 'randomization', 'underlyings']\n"
     ]
    }
   ],
   "source": [
    "import dill\n",
    "\n",
    "loaded_data = None\n",
    "\n",
    "with open('../simulations/data.pkl', 'rb') as f:\n",
    "    loaded_data = dill.load(f)\n",
    "\n",
    "keys = loaded_data.keys()\n",
    "keys.sort()\n",
    "print keys"
   ]
  },
  {
   "cell_type": "code",
   "execution_count": 3,
   "metadata": {
    "collapsed": true
   },
   "outputs": [],
   "source": [
    "# Instead of taking 365 standard days or 252 trading days\n",
    "# in order to get some easy computations for the eqty and df time grids\n",
    "# I chose to take 360 days of tradings\n",
    "\n",
    "step = 1/360.\n",
    "delta = 15*step\n",
    "\n",
    "maturity = loaded_data[\"randomization\"][\"maturity\"]"
   ]
  },
  {
   "cell_type": "markdown",
   "metadata": {},
   "source": [
    "#Discount"
   ]
  },
  {
   "cell_type": "code",
   "execution_count": 4,
   "metadata": {
    "collapsed": true
   },
   "outputs": [],
   "source": [
    "from finance.discountfactor import ConstantRateDiscountFactor \n",
    "\n",
    "r = 0.02\n",
    "discount = ConstantRateDiscountFactor(r)"
   ]
  },
  {
   "cell_type": "markdown",
   "metadata": {},
   "source": [
    "# Underlying"
   ]
  },
  {
   "cell_type": "code",
   "execution_count": 5,
   "metadata": {
    "collapsed": true
   },
   "outputs": [],
   "source": [
    "udlyings = loaded_data[\"underlyings\"]\n",
    "\n",
    "bm = udlyings[0]\n",
    "time_grid = bm.time"
   ]
  },
  {
   "cell_type": "markdown",
   "metadata": {},
   "source": [
    "# Derivative"
   ]
  },
  {
   "cell_type": "code",
   "execution_count": 6,
   "metadata": {
    "collapsed": true
   },
   "outputs": [],
   "source": [
    "derivatives_nb = 1"
   ]
  },
  {
   "cell_type": "code",
   "execution_count": 7,
   "metadata": {
    "collapsed": false
   },
   "outputs": [
    {
     "name": "stdout",
     "output_type": "stream",
     "text": [
      "Swap contract of maturity T = 5 years, over S^0 with strike K = 104.560, paying at {0.00, 0.50, 1.00, 1.50, 2.00, 2.50, 3.00, 3.50, 4.00, 4.50, 5.00}\n",
      "\n",
      "Price swap at t=0 =  0.0\n"
     ]
    }
   ],
   "source": [
    "from finance.products.european.assetswap import (\n",
    "    SwapContract,\n",
    ")\n",
    "\n",
    "swap_delta = 0.5\n",
    "\n",
    "swap_dates = SwapContract.generate_payment_dates(0, maturity, swap_delta)\n",
    "swap = SwapContract(bm, discount, swap_dates)\n",
    "\n",
    "price_0 = swap.price(0.)\n",
    "\n",
    "print swap\n",
    "print \"\\nPrice swap at t=0 = \",price_0"
   ]
  },
  {
   "cell_type": "markdown",
   "metadata": {},
   "source": [
    "# Exposure"
   ]
  },
  {
   "cell_type": "code",
   "execution_count": 8,
   "metadata": {
    "collapsed": true
   },
   "outputs": [],
   "source": [
    "from risk.exposures import EuropeanQuantileGeomBrownianExposure\n",
    "\n",
    "quantile_im = 0.80\n",
    "\n",
    "hist_drift = 0.3\n",
    "hist_vol = bm.vols[0][0]\n",
    "\n",
    "exposure = EuropeanQuantileGeomBrownianExposure(swap, discount, hist_drift, hist_vol)"
   ]
  },
  {
   "cell_type": "markdown",
   "metadata": {},
   "source": [
    "# Indexes stuffs"
   ]
  },
  {
   "cell_type": "markdown",
   "metadata": {},
   "source": [
    "## Ids of $B$ and $C$"
   ]
  },
  {
   "cell_type": "code",
   "execution_count": 9,
   "metadata": {
    "collapsed": false
   },
   "outputs": [
    {
     "name": "stdout",
     "output_type": "stream",
     "text": [
      "Bank id: 113 (nb = 1) \n",
      "\n",
      "Counterparties id: 0 (nb = 1)\n"
     ]
    }
   ],
   "source": [
    "copula = loaded_data[\"credit\"][\"copula\"]\n",
    "\n",
    "bc_subsets_indexes = loaded_data[\"credit\"][\"bc_subsets_indexes\"]\n",
    "\n",
    "# Bank id\n",
    "b_id = 113\n",
    "\n",
    "# Counterparty id\n",
    "c_id = 0\n",
    "c_ids = [c_id]\n",
    "\n",
    "bc_ids = [b_id, c_id]\n",
    "\n",
    "print \"Bank id: %s (nb = 1) \\n\"%b_id\n",
    "print \"Counterparties id: %s (nb = 1)\"%(c_id)"
   ]
  },
  {
   "cell_type": "code",
   "execution_count": 10,
   "metadata": {
    "collapsed": false
   },
   "outputs": [
    {
     "name": "stdout",
     "output_type": "stream",
     "text": [
      "Obligor numbers: 125\n"
     ]
    }
   ],
   "source": [
    "obligors_nb = len(copula.subsets[bc_subsets_indexes[-1]][0])\n",
    "\n",
    "print \"Obligor numbers: %s\"%obligors_nb"
   ]
  },
  {
   "cell_type": "markdown",
   "metadata": {},
   "source": [
    "## Subsets indexes of the copula for $B$ and $C$"
   ]
  },
  {
   "cell_type": "code",
   "execution_count": 11,
   "metadata": {
    "collapsed": false
   },
   "outputs": [
    {
     "name": "stdout",
     "output_type": "stream",
     "text": [
      "Subsets that generated default times: [0, 1, 2, 3, 4, 5, 6, 7, 8, 9, 10, 11, 12, 13, 14, 15, 16, 17, 18, 19, 20, 21, 22, 23, 24, 25, 26, 27, 28, 29, 30, 31, 32, 33, 34, 35, 36, 37, 38, 39, 40, 41, 42, 43, 44, 45, 46, 47, 48, 49, 50, 51, 52, 53, 54, 55, 56, 57, 58, 59, 60, 61, 62, 63, 64, 65, 66, 67, 68, 69, 70, 71, 72, 73, 74, 75, 76, 77, 78, 79, 80, 81, 82, 83, 84, 85, 86, 87, 88, 89, 90, 91, 92, 93, 94, 95, 96, 97, 98, 99, 100, 101, 102, 103, 104, 105, 106, 107, 108, 109, 110, 111, 112, 113, 114, 115, 116, 117, 118, 119, 120, 121, 122, 123, 124, 125, 126, 127, 128, 129]\n",
      "\n",
      "Bank subsets indexes: [113, 128, 129]\n",
      "\n",
      "Counterparties subsets indexes: [0]\n"
     ]
    }
   ],
   "source": [
    "b_subsets_indexes = copula.get_indexes_including(b_id)\n",
    "c_subsets_indexes = copula.get_indexes_including(c_id)\n",
    "\n",
    "c_subsets_indexes = list(set(c_subsets_indexes)-set(b_subsets_indexes))\n",
    "    \n",
    "b_subsets_indexes.sort()\n",
    "c_subsets_indexes.sort()\n",
    "    \n",
    "print \"Subsets that generated default times: %s\\n\"%bc_subsets_indexes\n",
    "print \"Bank subsets indexes: %s\\n\"%b_subsets_indexes\n",
    "print \"Counterparties subsets indexes: %s\"%c_subsets_indexes"
   ]
  },
  {
   "cell_type": "markdown",
   "metadata": {},
   "source": [
    "# Portfolio construction"
   ]
  },
  {
   "cell_type": "code",
   "execution_count": 12,
   "metadata": {
    "collapsed": true
   },
   "outputs": [],
   "source": [
    "import numpy as np\n",
    "\n",
    "p_fixed = 100.\n",
    "strike = swap.strike\n",
    "\n",
    "delta_times = swap.delta_time\n",
    "discount_factors = [discount(t) for t in swap.pillars[1:]]\n",
    "\n",
    "delta_beta_sum = np.dot(delta_times, discount_factors)\n",
    "\n",
    "notional = p_fixed / (strike*delta_beta_sum)"
   ]
  },
  {
   "cell_type": "code",
   "execution_count": 13,
   "metadata": {
    "collapsed": false
   },
   "outputs": [
    {
     "name": "stdout",
     "output_type": "stream",
     "text": [
      "[-1.  0.  0.  0.  0.  0.  0.  0.  0.  0.  0.  0.  0.  0.  0.  0.  0.  0.\n",
      "  0.  0.  0.  0.  0.  0.  0.  0.  0.  0.  0.  0.  0.  0.  0.  0.  0.  0.\n",
      "  0.  0.  0.  0.  0.  0.  0.  0.  0.  0.  0.  0.  0.  0.  0.  0.  0.  0.\n",
      "  0.  0.  0.  0.  0.  0.  0.  0.  0.  0.  0.  0.  0.  0.  0.  0.  0.  0.\n",
      "  0.  0.  0.  0.  0.  0.  0.  0.  0.  0.  0.  0.  0.  0.  0.  0.  0.  0.\n",
      "  0.  0.  0.  0.  0.  0.  0.  0.  0.  0.  0.  0.  0.  0.  0.  0.  0.  0.\n",
      "  0.  0.  0.  0.  0.  1.  0.  0.  0.  0.  0.  0.  0.  0.  0.  0.  0.]\n"
     ]
    }
   ],
   "source": [
    "from finance.portfolio import EquilibratedPortfolio\n",
    "\n",
    "pos = EquilibratedPortfolio.generate_1_vs_all_positions(b_id, bc_ids, obligors_nb)\n",
    "positions = np.array(pos*notional).reshape(pos.size, 1)\n",
    "\n",
    "print pos"
   ]
  },
  {
   "cell_type": "code",
   "execution_count": 14,
   "metadata": {
    "collapsed": true
   },
   "outputs": [],
   "source": [
    "port = EquilibratedPortfolio(positions, [swap], [exposure])"
   ]
  },
  {
   "cell_type": "markdown",
   "metadata": {},
   "source": [
    "# VM and IM accounts"
   ]
  },
  {
   "cell_type": "code",
   "execution_count": 15,
   "metadata": {
    "collapsed": true
   },
   "outputs": [],
   "source": [
    "from ccp.accounts import Accounts\n",
    "from ccp.states import MembersState\n",
    "\n",
    "states = MembersState(obligors_nb)\n",
    "vm_accounts = Accounts(states, derivatives_nb)\n",
    "im_accounts = Accounts(states, derivatives_nb)"
   ]
  },
  {
   "cell_type": "code",
   "execution_count": 16,
   "metadata": {
    "collapsed": true
   },
   "outputs": [],
   "source": [
    "# Be carefull, here, as the default models will be \n",
    "# used for regulatory computations, we select only \n",
    "# the first 125 idiosyncratic models even if \n",
    "# we care only about 61 over 125.\n",
    "\n",
    "default_proba_models = copula.models[0 : obligors_nb]"
   ]
  },
  {
   "cell_type": "markdown",
   "metadata": {},
   "source": [
    "# Regulatory capital"
   ]
  },
  {
   "cell_type": "code",
   "execution_count": 17,
   "metadata": {
    "collapsed": true
   },
   "outputs": [],
   "source": [
    "from risk.basel.exposures import EuropeanBaselGeometricBrownianExposure, SABaselExposure\n",
    "\n",
    "k_exposure = EuropeanBaselGeometricBrownianExposure(swap, hist_drift, hist_vol)\n",
    "k_exposure_sa = SABaselExposure(port)"
   ]
  },
  {
   "cell_type": "code",
   "execution_count": 18,
   "metadata": {
    "collapsed": true
   },
   "outputs": [],
   "source": [
    "from risk.basel.capital import RegulatoryCapital\n",
    "\n",
    "recoveries = [0.4 for i in range(0, obligors_nb)]\n",
    "\n",
    "regul_cap = RegulatoryCapital(vm_accounts, im_accounts, port, default_proba_models, recoveries, [k_exposure], bank_index=b_id)"
   ]
  },
  {
   "cell_type": "code",
   "execution_count": 19,
   "metadata": {
    "collapsed": true
   },
   "outputs": [],
   "source": [
    "cap_risk_horizon = -1\n",
    "cap_risk_period = 15./360\n",
    "cap_conf_level_95 = 0.95\n",
    "cap_conf_level_99 = 0.99"
   ]
  },
  {
   "cell_type": "markdown",
   "metadata": {},
   "source": [
    "# Funding and capital parameters"
   ]
  },
  {
   "cell_type": "code",
   "execution_count": 20,
   "metadata": {
    "collapsed": true
   },
   "outputs": [],
   "source": [
    "lambda_ = 0.\n",
    "recov_funding = 1.\n",
    "k_ = 0.1"
   ]
  },
  {
   "cell_type": "markdown",
   "metadata": {},
   "source": [
    "#MC loop"
   ]
  },
  {
   "cell_type": "code",
   "execution_count": 21,
   "metadata": {
    "collapsed": true
   },
   "outputs": [],
   "source": [
    "from utils import time_offseter"
   ]
  },
  {
   "cell_type": "code",
   "execution_count": 22,
   "metadata": {
    "collapsed": true
   },
   "outputs": [],
   "source": [
    "N = loaded_data[\"N\"]"
   ]
  },
  {
   "cell_type": "code",
   "execution_count": 23,
   "metadata": {
    "collapsed": false
   },
   "outputs": [],
   "source": [
    "results_idio = {\"cva\": {c: {\"sum\": 0., \"sum2\": 0.} for c in c_ids},\n",
    "                \"dva\": {c: {\"sum\": 0., \"sum2\": 0.} for c in c_ids},\n",
    "                \"fva\": {c: {\"sum\": 0., \"sum2\": 0.} for c in c_ids},\n",
    "                \"kva_ccr_95\": {c: {\"sum\": 0., \"sum2\": 0.} for c in c_ids},\n",
    "                \"kva_ccr_99\": {c: {\"sum\": 0., \"sum2\": 0.} for c in c_ids},\n",
    "                \"kva_ccr_sa\": {c: {\"sum\": 0., \"sum2\": 0.} for c in c_ids},\n",
    "                \"kva_cva_95\": {c: {\"sum\": 0., \"sum2\": 0.} for c in c_ids},\n",
    "                \"kva_cva_99\": {c: {\"sum\": 0., \"sum2\": 0.} for c in c_ids},\n",
    "                \"kva_cva_sa\": {c: {\"sum\": 0., \"sum2\": 0.} for c in c_ids}}\n",
    "\n",
    "results_globs = {\"cva\": {\"sum\": 0., \"sum2\": 0.},\n",
    "                 \"dva\": {\"sum\": 0., \"sum2\": 0.},\n",
    "                 \"fva\": {\"sum\": 0., \"sum2\": 0.},                 \n",
    "                 \"kva_ccr_95\": {\"sum\": 0., \"sum2\": 0.},\n",
    "                 \"kva_ccr_99\": {\"sum\": 0., \"sum2\": 0.},\n",
    "                 \"kva_ccr_sa\": {\"sum\": 0., \"sum2\": 0.},\n",
    "                 \"kva_cva_95\": {\"sum\": 0., \"sum2\": 0.},\n",
    "                 \"kva_cva_99\": {\"sum\": 0., \"sum2\": 0.},\n",
    "                 \"kva_cva_sa\": {\"sum\": 0., \"sum2\": 0.},}"
   ]
  },
  {
   "cell_type": "code",
   "execution_count": 24,
   "metadata": {
    "collapsed": true
   },
   "outputs": [],
   "source": [
    "from scipy.stats import expon\n",
    "\n",
    "exp_distrib_params = loaded_data[\"randomization\"][\"distrib\"]\n",
    "exp_distrib = expon(loc=exp_distrib_params[\"loc\"], scale=exp_distrib_params[\"scale\"])\n",
    "\n",
    "zetas = loaded_data[\"randomization\"][\"zetas\"]\n",
    "default_times_mat = loaded_data[\"credit\"][\"default_times\"]"
   ]
  },
  {
   "cell_type": "code",
   "execution_count": 25,
   "metadata": {
    "collapsed": false
   },
   "outputs": [],
   "source": [
    "import time\n",
    "\n",
    "tic = time.time()\n",
    "\n",
    "b_df_times_indexes = [ii for ii, ind in enumerate(bc_subsets_indexes) if ind in b_subsets_indexes]\n",
    "\n",
    "for i in range(N):\n",
    "    # Resurrecting the states\n",
    "    # resets to 0. the values\n",
    "    # of the VMs and IMs\n",
    "    states.resurrect_all()\n",
    "    \n",
    "    zeta = zetas[i]\n",
    "    zeta_delta = time_offseter(zeta+delta, time_grid, True)\n",
    "    \n",
    "    # We set the simulated underlying here\n",
    "    # that has the all time grid with\n",
    "    # mpor = 1./360\n",
    "    swap.underlying = udlyings[i]\n",
    "    \n",
    "    default_times = default_times_mat[i]    \n",
    "    b_min_df_time = default_times[b_df_times_indexes].min()\n",
    "    \n",
    "    cva_, dva_, fva_, kccr95_, kccr99_, kccrsa_, kcva95_, kcva99_, kcvasa_ = [0. for _ in range(9)]\n",
    "    \n",
    "    if zeta <= maturity:\n",
    "        pf_losses_95 = regul_cap._compute_potential_future_loss(zeta, \n",
    "                                                                cap_risk_horizon, \n",
    "                                                                cap_conf_level_95, \n",
    "                                                                risk_period=cap_risk_period)\n",
    "        \n",
    "        pf_losses_99 = regul_cap._compute_potential_future_loss(zeta, \n",
    "                                                                cap_risk_horizon, \n",
    "                                                                cap_conf_level_99, \n",
    "                                                                risk_period=cap_risk_period)\n",
    "        \n",
    "        pf_losses_sa = k_exposure_sa(t=zeta)\n",
    "                \n",
    "    for c_id in c_ids:\n",
    "        cp_subsets_indexes = copula.get_indexes_including(c_id)\n",
    "        c_df_times_indexes = [ii for ii, ind in enumerate(bc_subsets_indexes) if ind in cp_subsets_indexes]\n",
    "        \n",
    "        bc_df_times_indexes = np.append(b_df_times_indexes, c_df_times_indexes)\n",
    "        bc_df_times_indexes = np.sort(np.unique(bc_df_times_indexes))\n",
    "        \n",
    "        bc_df_times = default_times[bc_df_times_indexes]\n",
    "        \n",
    "        tau = bc_df_times.min()\n",
    "        bar_tau = min(tau, maturity)\n",
    "        \n",
    "        cva__, dva__, fva__, kccr95__, kccr99__, kccrsa__, kcva95__, kcva99__, kcvasa__ = [0. for _ in range(9)]\n",
    "        del bc_df_times\n",
    "        \n",
    "        if bar_tau <= zeta:\n",
    "            continue\n",
    "        \n",
    "        inv_pdf = 1./exp_distrib.pdf(zeta)\n",
    "        discount_zeta = discount(zeta)\n",
    "        discount_zeta_delta = discount(zeta_delta)\n",
    "        \n",
    "        # VM computations\n",
    "        d_pl = [s.price(zeta) for s in [swap]]\n",
    "        b_vm = port.compute_value(d_pl, from_=b_id, towards_=c_id)\n",
    "        \n",
    "        vm_accounts.put_amounts(b_id, b_vm)\n",
    "        vm_accounts.put_amounts(c_id, -b_vm)\n",
    "\n",
    "        # IM computations\n",
    "        b_im = port.compute_exposure(zeta, risk_period=delta, conf_level=quantile_im, \\\n",
    "                                     from_=b_id, towards_=c_id)\n",
    "        c_im = port.compute_exposure(zeta, risk_period=delta, conf_level=quantile_im, \\\n",
    "                                     from_=c_id, towards_=b_id)\n",
    "        \n",
    "        im_accounts.put_amounts(b_id, b_im)\n",
    "        im_accounts.put_amounts(c_id, c_im)\n",
    "        \n",
    "        p_zeta = b_vm.sum()\n",
    "        d_pl_zeta_delta = [s.price(zeta_delta) for s in [swap]]\n",
    "        p_zeta_delta = port.compute_value(d_pl_zeta_delta, from_=b_id, towards_=c_id).sum()        \n",
    "        # We suppose here that \\Delta_{\\zeta} is null\n",
    "        q_zeta_delta = p_zeta_delta\n",
    "        \n",
    "        c_min_df_time = default_times[c_df_times_indexes].min()\n",
    "        \n",
    "        ####################\n",
    "        ##### FVA part #####\n",
    "        ####################\n",
    "        b_minus_funded_collat = p_zeta + \\\n",
    "                                im_accounts.get_amount(b_id).sum() - \\\n",
    "                                im_accounts.get_amount(c_id).sum()\n",
    "\n",
    "        b_gamma_zeta = copula.tot_gamma(zeta, subsets_indexes=b_subsets_indexes)\n",
    "        \n",
    "        bar_lambda_zeta = b_gamma_zeta/3.\n",
    "        tilde_lambda_zeta = bar_lambda_zeta - (1.-recov_funding)*b_gamma_zeta\n",
    "        c_zeta = 0.\n",
    "        lambda_zeta = lambda_\n",
    "        \n",
    "        fva__ += (c_zeta*b_minus_funded_collat + \\\n",
    "                  tilde_lambda_zeta*np.maximum(p_zeta-b_minus_funded_collat, 0.) + \\\n",
    "                  lambda_zeta*np.minimum(p_zeta-b_minus_funded_collat, 0.))\n",
    "    \n",
    "        ######################\n",
    "        ##### K_CCR part #####\n",
    "        ######################\n",
    "        kccr95__ = k_*regul_cap.compute_kccr(c_id, zeta, risk_period=cap_risk_period, pf_losses=pf_losses_95)\n",
    "        kccr99__ = k_*regul_cap.compute_kccr(c_id, zeta, risk_period=cap_risk_period, pf_losses=pf_losses_99)\n",
    "        kccrsa__ = k_*regul_cap.compute_kccr(c_id, zeta, risk_period=cap_risk_period, pf_losses=pf_losses_sa)\n",
    "            \n",
    "        ######################\n",
    "        ##### K_CCR part #####\n",
    "        ######################\n",
    "        kcva95__ = k_*regul_cap.compute_kcva(c_id, zeta, risk_period=cap_risk_period, pf_losses=pf_losses_95)\n",
    "        kcva99__ = k_*regul_cap.compute_kcva(c_id, zeta, risk_period=cap_risk_period, pf_losses=pf_losses_99)\n",
    "        kcvasa__ = k_*regul_cap.compute_kcva(c_id, zeta, risk_period=cap_risk_period, pf_losses=pf_losses_sa)\n",
    "        \n",
    "        for df_time_index in bc_df_times_indexes:\n",
    "            subset_index = bc_subsets_indexes[df_time_index]\n",
    "            gamma_zeta = copula.gamma(subset_index, zeta)\n",
    "            \n",
    "            ####################\n",
    "            ##### CVA part #####\n",
    "            ####################\n",
    "            c_default_indic = df_time_index in c_df_times_indexes\n",
    "            if not c_default_indic:\n",
    "                c_default_indic = c_min_df_time <= zeta_delta\n",
    "                \n",
    "            if c_default_indic:\n",
    "                b_collat = p_zeta + im_accounts.get_amount(b_id).sum()\n",
    "                loss = np.maximum(q_zeta_delta-b_collat, 0.)\n",
    "                cva__ += gamma_zeta*(1.-recoveries[c_id]*loss)\n",
    "                \n",
    "                \n",
    "            ####################\n",
    "            ##### DVA part #####\n",
    "            ####################\n",
    "            b_default_indic = df_time_index in b_df_times_indexes\n",
    "            if not b_default_indic:\n",
    "                b_default_indic = b_min_df_time <= zeta_delta\n",
    "                \n",
    "            if b_default_indic:\n",
    "                c_collat = p_zeta - im_accounts.get_amount(c_id).sum()\n",
    "                loss = -np.minimum(q_zeta_delta-c_collat, 0.)\n",
    "                dva__ += gamma_zeta*(1.-recoveries[b_id]*loss)\n",
    "                        \n",
    "        results_idio['cva'][c_id][\"sum\"] += (inv_pdf*discount_zeta_delta*cva__)\n",
    "        results_idio['cva'][c_id][\"sum2\"] += (inv_pdf*discount_zeta_delta*cva__)**2\n",
    "        \n",
    "        results_idio['dva'][c_id][\"sum\"] += (inv_pdf*discount_zeta_delta*dva__)\n",
    "        results_idio['dva'][c_id][\"sum2\"] += (inv_pdf*discount_zeta_delta*dva__)**2\n",
    "        \n",
    "        results_idio['fva'][c_id][\"sum\"] += (inv_pdf*discount_zeta*fva__)\n",
    "        results_idio['fva'][c_id][\"sum2\"] += (inv_pdf*discount_zeta*fva__)**2\n",
    "        \n",
    "        results_idio['kva_ccr_95'][c_id][\"sum\"] += (inv_pdf*discount_zeta*kccr95__)\n",
    "        results_idio['kva_ccr_95'][c_id][\"sum2\"] += (inv_pdf*discount_zeta*kccr95__)**2\n",
    "        results_idio['kva_ccr_99'][c_id][\"sum\"] += (inv_pdf*discount_zeta*kccr99__)\n",
    "        results_idio['kva_ccr_99'][c_id][\"sum2\"] += (inv_pdf*discount_zeta*kccr99__)**2\n",
    "        results_idio['kva_ccr_sa'][c_id][\"sum\"] += (inv_pdf*discount_zeta*kccrsa__)\n",
    "        results_idio['kva_ccr_sa'][c_id][\"sum2\"] += (inv_pdf*discount_zeta*kccrsa__)**2\n",
    "        \n",
    "        results_idio['kva_cva_95'][c_id][\"sum\"] += (inv_pdf*discount_zeta*kcva95__)\n",
    "        results_idio['kva_cva_95'][c_id][\"sum2\"] += (inv_pdf*discount_zeta*kcva95__)**2\n",
    "        results_idio['kva_cva_99'][c_id][\"sum\"] += (inv_pdf*discount_zeta*kcva99__)\n",
    "        results_idio['kva_cva_99'][c_id][\"sum2\"] += (inv_pdf*discount_zeta*kcva99__)**2\n",
    "        results_idio['kva_cva_sa'][c_id][\"sum\"] += (inv_pdf*discount_zeta*kcvasa__)\n",
    "        results_idio['kva_cva_sa'][c_id][\"sum2\"] += (inv_pdf*discount_zeta*kcvasa__)**2\n",
    "        \n",
    "        cva_ += inv_pdf*discount_zeta_delta*cva__\n",
    "        dva_ += inv_pdf*discount_zeta_delta*dva__\n",
    "        fva_ += inv_pdf*discount_zeta*fva__\n",
    "        kccr95_ += inv_pdf*discount_zeta*kccr95__\n",
    "        kccr99_ += inv_pdf*discount_zeta*kccr99__\n",
    "        kccrsa_ += inv_pdf*discount_zeta*kccrsa__\n",
    "        kcva95_ += inv_pdf*discount_zeta*kcva95__\n",
    "        kcva99_ += inv_pdf*discount_zeta*kcva99__\n",
    "        kcvasa_ += inv_pdf*discount_zeta*kcvasa__\n",
    "\n",
    "    results_globs[\"cva\"][\"sum\"] += cva_\n",
    "    results_globs[\"cva\"][\"sum2\"] += cva_**2\n",
    "    \n",
    "    results_globs[\"dva\"][\"sum\"] += dva_\n",
    "    results_globs[\"dva\"][\"sum2\"] += dva_**2\n",
    "    \n",
    "    results_globs[\"fva\"][\"sum\"] += fva_\n",
    "    results_globs[\"fva\"][\"sum2\"] += fva_**2\n",
    "    \n",
    "    results_globs[\"kva_ccr_95\"][\"sum\"] += kccr95_\n",
    "    results_globs[\"kva_ccr_95\"][\"sum2\"] += kccr95_**2\n",
    "    results_globs[\"kva_ccr_99\"][\"sum\"] += kccr99_\n",
    "    results_globs[\"kva_ccr_99\"][\"sum2\"] += kccr99_**2\n",
    "    results_globs[\"kva_ccr_sa\"][\"sum\"] += kccrsa_\n",
    "    results_globs[\"kva_ccr_sa\"][\"sum2\"] += kccrsa_**2\n",
    "    \n",
    "    results_globs[\"kva_cva_95\"][\"sum\"] += kcva95_\n",
    "    results_globs[\"kva_cva_95\"][\"sum2\"] += kcva95_**2\n",
    "    results_globs[\"kva_cva_99\"][\"sum\"] += kcva99_\n",
    "    results_globs[\"kva_cva_99\"][\"sum2\"] += kcva99_**2\n",
    "    results_globs[\"kva_cva_sa\"][\"sum\"] += kcvasa_\n",
    "    results_globs[\"kva_cva_sa\"][\"sum2\"] += kcvasa_**2\n",
    "        \n",
    "toc = time.time()"
   ]
  },
  {
   "cell_type": "markdown",
   "metadata": {},
   "source": [
    "#Results"
   ]
  },
  {
   "cell_type": "code",
   "execution_count": 26,
   "metadata": {
    "collapsed": false
   },
   "outputs": [
    {
     "name": "stdout",
     "output_type": "stream",
     "text": [
      "Results for 20000 iterations (1000.66799998 secs.)\n",
      "\n",
      "Used discount factor: Constant discount factor process with rate r = 0.02\n",
      "\n",
      "Bank index 113 that belongs to the following MO copula subsets:\n",
      "- [113] with pillars [3 5] and intensity [ 0.00374407  0.00339649]\n",
      "\n",
      "- [0, 3, 4, 5, 9, 13, 17, 24, 25, 26, 27, 28, 29, 30, 31, 33, 36, 37, 38, 43, 45, 47, 50, 52, 55, 56, 57, 61, 64, 66, 70, 71, 72, 73, 75, 76, 78, 80, 81, 82, 83, 86, 87, 89, 90, 98, 99, 100, 103, 104, 107, 111, 112, 113, 114, 116, 118, 119, 120, 122, 124] with pillars [3 5] and intensity [  2.01650000e-04   9.33720000e-05]\n",
      "\n",
      "- [0, 1, 2, 3, 4, 5, 6, 7, 8, 9, 10, 11, 12, 13, 14, 15, 16, 17, 18, 19, 20, 21, 22, 23, 24, 25, 26, 27, 28, 29, 30, 31, 32, 33, 34, 35, 36, 37, 38, 39, 40, 41, 42, 43, 44, 45, 46, 47, 48, 49, 50, 51, 52, 53, 54, 55, 56, 57, 58, 59, 60, 61, 62, 63, 64, 65, 66, 67, 68, 69, 70, 71, 72, 73, 74, 75, 76, 77, 78, 79, 80, 81, 82, 83, 84, 85, 86, 87, 88, 89, 90, 91, 92, 93, 94, 95, 96, 97, 98, 99, 100, 101, 102, 103, 104, 105, 106, 107, 108, 109, 110, 111, 112, 113, 114, 115, 116, 117, 118, 119, 120, 121, 122, 123, 124] with pillars [3 5] and intensity [ 0.0016207  0.0076647]\n",
      "\n",
      "Counterparties indexes:\n",
      "[0]\n",
      "\n",
      "-----------------------------------------------------\n",
      "\n",
      "Counterparty index 0 belongs to the following MO copula subses:\n",
      "- [0] with pillars [3 5] and intensity [ 0.00338537  0.00480818]\n",
      "\n",
      "- [0, 3, 4, 5, 9, 13, 17, 24, 25, 26, 27, 28, 29, 30, 31, 33, 36, 37, 38, 43, 45, 47, 50, 52, 55, 56, 57, 61, 64, 66, 70, 71, 72, 73, 75, 76, 78, 80, 81, 82, 83, 86, 87, 89, 90, 98, 99, 100, 103, 104, 107, 111, 112, 113, 114, 116, 118, 119, 120, 122, 124] with pillars [3 5] and intensity [  2.01650000e-04   9.33720000e-05]\n",
      "\n",
      "- [0, 1, 2, 3, 4, 5, 6, 7, 8, 9, 10, 11, 12, 13, 14, 15, 16, 17, 18, 19, 20, 21, 22, 23, 24, 25, 26, 27, 28, 29, 30, 31, 32, 33, 34, 35, 36, 37, 38, 39, 40, 41, 42, 43, 44, 45, 46, 47, 48, 49, 50, 51, 52, 53, 54, 55, 56, 57, 58, 59, 60, 61, 62, 63, 64, 65, 66, 67, 68, 69, 70, 71, 72, 73, 74, 75, 76, 77, 78, 79, 80, 81, 82, 83, 84, 85, 86, 87, 88, 89, 90, 91, 92, 93, 94, 95, 96, 97, 98, 99, 100, 101, 102, 103, 104, 105, 106, 107, 108, 109, 110, 111, 112, 113, 114, 115, 116, 117, 118, 119, 120, 121, 122, 123, 124] with pillars [3 5] and intensity [ 0.0016207  0.0076647]\n",
      "\n",
      "\n",
      "\n",
      "-----------------------------------------------------\n",
      "\n",
      "Derivatives:\n",
      "- Swap contract of maturity T = 5 years, over S^0 with strike K = 104.560, paying at {0.00, 0.50, 1.00, 1.50, 2.00, 2.50, 3.00, 3.50, 4.00, 4.50, 5.00}\n",
      "\n",
      "Positions:\n",
      "[[-0.20201003]\n",
      " [ 0.        ]\n",
      " [ 0.        ]\n",
      " [ 0.        ]\n",
      " [ 0.        ]\n",
      " [ 0.        ]\n",
      " [ 0.        ]\n",
      " [ 0.        ]\n",
      " [ 0.        ]\n",
      " [ 0.        ]\n",
      " [ 0.        ]\n",
      " [ 0.        ]\n",
      " [ 0.        ]\n",
      " [ 0.        ]\n",
      " [ 0.        ]\n",
      " [ 0.        ]\n",
      " [ 0.        ]\n",
      " [ 0.        ]\n",
      " [ 0.        ]\n",
      " [ 0.        ]\n",
      " [ 0.        ]\n",
      " [ 0.        ]\n",
      " [ 0.        ]\n",
      " [ 0.        ]\n",
      " [ 0.        ]\n",
      " [ 0.        ]\n",
      " [ 0.        ]\n",
      " [ 0.        ]\n",
      " [ 0.        ]\n",
      " [ 0.        ]\n",
      " [ 0.        ]\n",
      " [ 0.        ]\n",
      " [ 0.        ]\n",
      " [ 0.        ]\n",
      " [ 0.        ]\n",
      " [ 0.        ]\n",
      " [ 0.        ]\n",
      " [ 0.        ]\n",
      " [ 0.        ]\n",
      " [ 0.        ]\n",
      " [ 0.        ]\n",
      " [ 0.        ]\n",
      " [ 0.        ]\n",
      " [ 0.        ]\n",
      " [ 0.        ]\n",
      " [ 0.        ]\n",
      " [ 0.        ]\n",
      " [ 0.        ]\n",
      " [ 0.        ]\n",
      " [ 0.        ]\n",
      " [ 0.        ]\n",
      " [ 0.        ]\n",
      " [ 0.        ]\n",
      " [ 0.        ]\n",
      " [ 0.        ]\n",
      " [ 0.        ]\n",
      " [ 0.        ]\n",
      " [ 0.        ]\n",
      " [ 0.        ]\n",
      " [ 0.        ]\n",
      " [ 0.        ]\n",
      " [ 0.        ]\n",
      " [ 0.        ]\n",
      " [ 0.        ]\n",
      " [ 0.        ]\n",
      " [ 0.        ]\n",
      " [ 0.        ]\n",
      " [ 0.        ]\n",
      " [ 0.        ]\n",
      " [ 0.        ]\n",
      " [ 0.        ]\n",
      " [ 0.        ]\n",
      " [ 0.        ]\n",
      " [ 0.        ]\n",
      " [ 0.        ]\n",
      " [ 0.        ]\n",
      " [ 0.        ]\n",
      " [ 0.        ]\n",
      " [ 0.        ]\n",
      " [ 0.        ]\n",
      " [ 0.        ]\n",
      " [ 0.        ]\n",
      " [ 0.        ]\n",
      " [ 0.        ]\n",
      " [ 0.        ]\n",
      " [ 0.        ]\n",
      " [ 0.        ]\n",
      " [ 0.        ]\n",
      " [ 0.        ]\n",
      " [ 0.        ]\n",
      " [ 0.        ]\n",
      " [ 0.        ]\n",
      " [ 0.        ]\n",
      " [ 0.        ]\n",
      " [ 0.        ]\n",
      " [ 0.        ]\n",
      " [ 0.        ]\n",
      " [ 0.        ]\n",
      " [ 0.        ]\n",
      " [ 0.        ]\n",
      " [ 0.        ]\n",
      " [ 0.        ]\n",
      " [ 0.        ]\n",
      " [ 0.        ]\n",
      " [ 0.        ]\n",
      " [ 0.        ]\n",
      " [ 0.        ]\n",
      " [ 0.        ]\n",
      " [ 0.        ]\n",
      " [ 0.        ]\n",
      " [ 0.        ]\n",
      " [ 0.        ]\n",
      " [ 0.        ]\n",
      " [ 0.20201003]\n",
      " [ 0.        ]\n",
      " [ 0.        ]\n",
      " [ 0.        ]\n",
      " [ 0.        ]\n",
      " [ 0.        ]\n",
      " [ 0.        ]\n",
      " [ 0.        ]\n",
      " [ 0.        ]\n",
      " [ 0.        ]\n",
      " [ 0.        ]\n",
      " [ 0.        ]]\n",
      "Confidence level used for IM: 0.80\n"
     ]
    }
   ],
   "source": [
    "print \"Results for %d iterations (%s secs.)\"%(N, toc-tic)\n",
    "print\n",
    "\n",
    "print \"Used discount factor: %s\"%discount\n",
    "print\n",
    "\n",
    "print \"Bank index %i that belongs to the following MO copula subsets:\"%b_id\n",
    "for idx in b_subsets_indexes:\n",
    "    print \"- %s with pillars %s and intensity %s\\n\"%([x for x in copula.subsets[idx][0]], \\\n",
    "                                                     copula.pillars[idx], copula.intensities[idx])\n",
    "    \n",
    "print \"Counterparties indexes:\"\n",
    "print c_ids\n",
    "\n",
    "print \"\\n-----------------------------------------------------\\n\"\n",
    "\n",
    "for idx in c_ids:\n",
    "    print \"Counterparty index %s belongs to the following MO copula subses:\"%idx\n",
    "    sub_indexes = copula.get_indexes_including(idx)\n",
    "    for subset_idx in sub_indexes:\n",
    "        print \"- %s with pillars %s and intensity %s\\n\"%([x for x in copula.subsets[subset_idx][0]], \\\n",
    "                                                         copula.pillars[subset_idx], copula.intensities[subset_idx])        \n",
    "    print\n",
    "    \n",
    "print \"\\n-----------------------------------------------------\\n\"\n",
    "    \n",
    "print \"Derivatives:\"\n",
    "for d in [swap]:\n",
    "    print \"- %s\"%d\n",
    "    \n",
    "print \"\\nPositions:\"\n",
    "print port.positions\n",
    "\n",
    "print \"Confidence level used for IM: %.2f\"%quantile_im"
   ]
  },
  {
   "cell_type": "code",
   "execution_count": 27,
   "metadata": {
    "collapsed": false
   },
   "outputs": [
    {
     "name": "stdout",
     "output_type": "stream",
     "text": [
      "Results of the individual xVA:\n",
      "\n",
      "CVA:\n",
      "---------------------------\n",
      "Id 0: [0.032283, 0.033633]\n",
      "\n",
      "DVA:\n",
      "---------------------------\n",
      "Id 0: [0.028673, 0.030118]\n",
      "\n",
      "FVA:\n",
      "---------------------------\n",
      "Id 0: [0.000180, 0.000661]\n",
      "\n",
      "KVA_CCR_95:\n",
      "---------------------------\n",
      "Id 0: [0.443916, 0.468292]\n",
      "\n",
      "KVA_CCR_99:\n",
      "---------------------------\n",
      "Id 0: [0.518802, 0.544982]\n",
      "\n",
      "KVA_CCR_SA:\n",
      "---------------------------\n",
      "Id 0: [0.290577, 0.310707]\n",
      "\n",
      "KVA_CVA_95:\n",
      "---------------------------\n",
      "Id 0: [0.150262, 0.158287]\n",
      "\n",
      "KVA_CVA_99:\n",
      "---------------------------\n",
      "Id 0: [0.177458, 0.186153]\n",
      "\n",
      "KVA_CVA_SA:\n",
      "---------------------------\n",
      "Id 0: [0.095032, 0.101485]\n",
      "\n"
     ]
    }
   ],
   "source": [
    "from scipy.stats import norm\n",
    "\n",
    "conf_level = 0.95\n",
    "z_level = norm.ppf(0.5*(1+conf_level))\n",
    "\n",
    "print \"Results of the individual xVA:\\n\"\n",
    "keys = results_idio.keys()\n",
    "keys.sort()\n",
    "\n",
    "for k in keys:    \n",
    "    print \"%s:\"%k.upper()\n",
    "    print \"---------------------------\"\n",
    "    v = results_idio[k]\n",
    "    for id_, res_ in v.iteritems():        \n",
    "        mean__ = res_['sum']/N\n",
    "        mod_var__ = (res_['sum2']/N - mean__**2) / (N-1.)\n",
    "        half_inter = z_level*np.sqrt(mod_var__)\n",
    "        print \"Id %s: [%f, %f]\"%(id_, mean__-half_inter, mean__+half_inter)\n",
    "    print"
   ]
  },
  {
   "cell_type": "code",
   "execution_count": 28,
   "metadata": {
    "collapsed": false
   },
   "outputs": [
    {
     "name": "stdout",
     "output_type": "stream",
     "text": [
      "Results of the global xVA:\n",
      "\n",
      "The CVA for the bank lies in [0.032283, 0.033633]\n",
      "The DVA for the bank lies in [0.028673, 0.030118]\n",
      "The FVA for the bank lies in [0.000180, 0.000661]\n",
      "The KVA_CCR_95 for the bank lies in [0.443916, 0.468292]\n",
      "The KVA_CCR_99 for the bank lies in [0.518802, 0.544982]\n",
      "The KVA_CCR_SA for the bank lies in [0.290577, 0.310707]\n",
      "The KVA_CVA_95 for the bank lies in [0.150262, 0.158287]\n",
      "The KVA_CVA_99 for the bank lies in [0.177458, 0.186153]\n",
      "The KVA_CVA_SA for the bank lies in [0.095032, 0.101485]\n"
     ]
    }
   ],
   "source": [
    "print \"Results of the global xVA:\\n\"\n",
    "keys = results_globs.keys()\n",
    "keys.sort()\n",
    "\n",
    "for k in keys:\n",
    "    mean_ = results_globs[k]['sum']/N\n",
    "    mod_var_ = (results_globs[k]['sum2']/N - mean_**2) / (N-1.)\n",
    "    half_inter = z_level*np.sqrt(mod_var_)\n",
    "    \n",
    "    print \"The %s for the bank lies in [%f, %f]\"%(k.upper(), mean_-half_inter, mean_+half_inter)"
   ]
  }
 ],
 "metadata": {
  "kernelspec": {
   "display_name": "Python 2",
   "language": "python",
   "name": "python2"
  },
  "language_info": {
   "codemirror_mode": {
    "name": "ipython",
    "version": 2
   },
   "file_extension": ".py",
   "mimetype": "text/x-python",
   "name": "python",
   "nbconvert_exporter": "python",
   "pygments_lexer": "ipython2",
   "version": "2.7.9"
  }
 },
 "nbformat": 4,
 "nbformat_minor": 0
}
