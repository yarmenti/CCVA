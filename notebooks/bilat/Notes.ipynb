{
 "cells": [
  {
   "cell_type": "markdown",
   "metadata": {},
   "source": [
    "# Formulation of the TVA"
   ]
  },
  {
   "cell_type": "markdown",
   "metadata": {},
   "source": [
    "In the end we will have the following implementation in our model:\n",
    "\n",
    "\\begin{align*}\n",
    "\\overset{\\sim}{\\Theta}_0^{(1)} &=& \n",
    "\\mathbb{E} \\left( \n",
    "    1_{\\zeta_1 < \\bar{\\tau}} \\frac{e^{\\mu_1 \\zeta_1}}{\\mu_1} \n",
    "    \\bar{f}(\\zeta_1, \\overset{\\sim}{X}_{\\zeta_1}, 0)\n",
    "\\right) \\\\\n",
    "&=& \\mathbb{E} \\left( \n",
    "    1_{\\zeta_1 < \\bar{\\tau}} \\frac{e^{\\mu_1 \\zeta_1}}{\\mu_1} \n",
    "    \\frac{\\beta_{\\zeta_1 + \\delta}}{\\beta_{\\zeta_1}} \\sum_{Y \\in \\mathcal Y_\\bullet} \\gamma_{\\zeta_1}^{Y} \\xi_{\\zeta_1}^Y\n",
    "\\right)\n",
    "\\end{align*}"
   ]
  },
  {
   "cell_type": "markdown",
   "metadata": {},
   "source": [
    "with the following notations:\n",
    "\n",
    "- $T$ the maturity of the portfolio (maturity of the last derivative in the portfolio)\n",
    "- $\\tau = \\tau_b \\wedge \\tau_c$ the minimum of the default times between the bank and counterparty\n",
    "- $\\bar{\\tau} = \\tau \\wedge T$, the effective maturity of the portfolio\n",
    "- $\\delta$ the cure period (period between a default time and the liquidation of the defaulted position, in bilateral usually 15 days)\n",
    "- $\\zeta_1 \\sim \\mathcal E(\\mu_1), \\, \\mu_1 = \\frac{2}{T}$, the introduced random time to break the initial (not written here) integral"
   ]
  },
  {
   "cell_type": "markdown",
   "metadata": {},
   "source": [
    "- $\\beta_t$ the discount factor at time $t$, $\\beta_t = e^{-\\int_0^t r_s ds}$\n",
    "- $\\mathcal Y_\\bullet:= \\mathcal Y_b \\cup \\mathcal Y_c$ if the set of the shocks impacting the bank, the counterparty or both of them\n",
    "- $\\gamma_t^Y$ is the intensity of the shock $Y$ at time $t$"
   ]
  },
  {
   "cell_type": "markdown",
   "metadata": {},
   "source": [
    "- $\\xi_{t}$ the C-D-F-K-VA function defined by:\n",
    "\n",
    "\\begin{align*}\n",
    "\\xi_{t}^Y = &+& 1_{\\{\\tau_c \\leq t+\\delta\\}}^Y (1 - R_c) \\left(Q_{t+\\delta} - C_{t} \\right)^+ \\\\\n",
    "          &-& 1_{\\{\\tau_b \\leq t+\\delta\\}}^Y (1 - R_b) \\left(Q_{t+\\delta} - \\mathfrak C_{t} \\right)^+ \\\\\n",
    "          &+& c_t \\mathcal C_t + \\overset{\\sim}{\\lambda}_t (P_t - \\mathcal C_t)^+ - \\lambda_t (P_t - \\mathcal C_t)^- \\\\\n",
    "          &+& k_t K_{t}^{CCR} \\\\\n",
    "          &+& k_t K_{t}^{CVA}\n",
    "\\end{align*}\n",
    "\n",
    "with:"
   ]
  },
  {
   "cell_type": "markdown",
   "metadata": {},
   "source": [
    "- $1_{\\{\\tau_{i} \\leq t\\}}^Y = 1 - \\prod_{Z \\in \\mathcal Y_i} \\left( 1 - \\left[1_{\\{\\boldsymbol{\\eta}_Z \\leq t, \\, Y\\neq Z\\}} + 1_{\\{Y = Z \\}} \\right] \\right)$ with $i \\in \\{ b, c \\}, Y \\in \\mathcal Y_{\\bullet}$\n",
    "    - $\\boldsymbol{\\eta}_Z$ the default time of the $Z$-th subset of obligors which can default"
   ]
  },
  {
   "cell_type": "markdown",
   "metadata": {},
   "source": [
    "- $R_{\\text{x}}$ the recovery rate of $\\text{x}$\n",
    "- $P_t = \\beta_t^{-1} \\mathbb{E}_t \\left( \\int_{t}^T \\beta_s dDs \\right)$ the price of the portfolio at time $t$ from the bank's point of view\n",
    "- $Q_t = P_t + 1_{\\{\\tau \\leq t\\}} \\times \\beta_t^{-1} \\int_{[\\tau, t]} \\beta_s dDs$"
   ]
  },
  {
   "cell_type": "markdown",
   "metadata": {},
   "source": [
    "- $r_t+c_t$ is the remuneration rate of the collateral\n",
    "- $r_t+\\lambda_t$ is the investment rate of the bank\n",
    "- $r_t+\\bar{\\lambda}_t$ is the unsecure funding rate of the bank\n",
    "- $\\overset{\\sim}{\\lambda}_t = \\bar{\\lambda}_t - (1-R_f) \\gamma_t^b$, with $\\gamma_t^b$ the default intensity of the bank"
   ]
  },
  {
   "cell_type": "markdown",
   "metadata": {},
   "source": [
    "- $C_t = P_t + I_t$ the collateral of the bank\n",
    "- $-\\mathfrak{C}_t = -(P_t + \\mathfrak{J}_t)$ the collateral of the counterparty\n",
    "- $-\\mathcal{C}_t = -(P_t + I_t + \\mathfrak{J}_t)$ the collateral funded by the bank"
   ]
  },
  {
   "cell_type": "markdown",
   "metadata": {},
   "source": [
    "- $I_t$ is the initial margin posted by the counterparty ($> 0$ from the bank's point of view)\n",
    "- $\\mathfrak{J}_t$ is the initial margin posted by the bank ($\\leq 0$ from the bank's point of view)"
   ]
  },
  {
   "cell_type": "markdown",
   "metadata": {},
   "source": [
    "- $K^{CCR}$ is the regulatory capital under Counterparty Credit Risk part the bank must hold since Basel 2\n",
    "- $K^{CVA}$ is the regulatory capital under CVA part the bank must hold since Basel 3 regulation\n",
    "- $k_t$ can be interpreted as an opportunity cost (see Kenyon)"
   ]
  }
 ],
 "metadata": {
  "kernelspec": {
   "display_name": "Python 2",
   "language": "python",
   "name": "python2"
  },
  "language_info": {
   "codemirror_mode": {
    "name": "ipython",
    "version": 2
   },
   "file_extension": ".py",
   "mimetype": "text/x-python",
   "name": "python",
   "nbconvert_exporter": "python",
   "pygments_lexer": "ipython2",
   "version": "2.7.9"
  }
 },
 "nbformat": 4,
 "nbformat_minor": 0
}
