{
 "cells": [
  {
   "cell_type": "code",
   "execution_count": 1,
   "metadata": {
    "collapsed": true
   },
   "outputs": [],
   "source": [
    "import sys\n",
    "\n",
    "sys.path.append('../..')"
   ]
  },
  {
   "cell_type": "code",
   "execution_count": 2,
   "metadata": {
    "collapsed": true
   },
   "outputs": [],
   "source": [
    "# Instead of taking 365 standard days or 252 trading days\n",
    "# in order to get some easy computations for the eqty and df time grids\n",
    "# I chose to take 360 days of tradings\n",
    "\n",
    "step = 1/360.\n",
    "mpor = 15*step"
   ]
  },
  {
   "cell_type": "markdown",
   "metadata": {},
   "source": [
    "#Discount"
   ]
  },
  {
   "cell_type": "code",
   "execution_count": 3,
   "metadata": {
    "collapsed": true
   },
   "outputs": [],
   "source": [
    "from finance.discountfactor import ConstantRateDiscountFactor \n",
    "\n",
    "maturity = 5.\n",
    "r = 0.02\n",
    "\n",
    "discount = ConstantRateDiscountFactor(r)"
   ]
  },
  {
   "cell_type": "markdown",
   "metadata": {},
   "source": [
    "# Exponential distrib"
   ]
  },
  {
   "cell_type": "code",
   "execution_count": 4,
   "metadata": {
    "collapsed": false
   },
   "outputs": [
    {
     "name": "stdout",
     "output_type": "stream",
     "text": [
      "Mean = 2.5\n"
     ]
    }
   ],
   "source": [
    "from scipy.stats import expon\n",
    " \n",
    "mean = maturity / 2.\n",
    "exp_distrib = expon(loc=0, scale=mean)\n",
    "\n",
    "print \"Mean = %s\"%mean"
   ]
  },
  {
   "cell_type": "markdown",
   "metadata": {},
   "source": [
    "# Underlying"
   ]
  },
  {
   "cell_type": "code",
   "execution_count": 5,
   "metadata": {
    "collapsed": false
   },
   "outputs": [],
   "source": [
    "import numpy as np\n",
    "from maths.montecarlo.processes.brownianmotions import BrownianMotion\n",
    "\n",
    "time_grid = BrownianMotion.generate_time_grid(0, maturity, step)\n",
    "\n",
    "x_0 = [100]\n",
    "drift = 6\n",
    "vol = 15\n",
    "\n",
    "b = BrownianMotion(time_grid, x_0, drift, vol)"
   ]
  },
  {
   "cell_type": "markdown",
   "metadata": {},
   "source": [
    "# Derivative"
   ]
  },
  {
   "cell_type": "code",
   "execution_count": 6,
   "metadata": {
    "collapsed": false
   },
   "outputs": [
    {
     "name": "stdout",
     "output_type": "stream",
     "text": [
      "Swap contract of maturity T = 5 years, over S^0 with strike K = 104.560, paying at {0.00, 0.50, 1.00, 1.50, 2.00, 2.50, 3.00, 3.50, 4.00, 4.50, 5.00}\n",
      "\n",
      "Price swap at t=0 =  -5.68434188608e-14\n"
     ]
    }
   ],
   "source": [
    "from finance.products.european.assetswap import (\n",
    "    SwapContract,\n",
    ")\n",
    "\n",
    "delta = 0.5\n",
    "\n",
    "swap_dates = SwapContract.generate_payment_dates(0, maturity, delta)\n",
    "swap = SwapContract(b, discount, swap_dates)\n",
    "\n",
    "price_0 = swap.price(0.)\n",
    "\n",
    "print swap\n",
    "print \"\\nPrice swap at t=0 = \",price_0"
   ]
  },
  {
   "cell_type": "markdown",
   "metadata": {},
   "source": [
    "# Exposure"
   ]
  },
  {
   "cell_type": "code",
   "execution_count": 7,
   "metadata": {
    "collapsed": false
   },
   "outputs": [],
   "source": [
    "from risk.exposures import EuropeanQuantileBrownianExposure\n",
    "\n",
    "quantile_im = 0.80\n",
    "\n",
    "exposure = EuropeanQuantileBrownianExposure(swap, discount, drift, vol)"
   ]
  },
  {
   "cell_type": "markdown",
   "metadata": {},
   "source": [
    "# Load intensities of obligors"
   ]
  },
  {
   "cell_type": "code",
   "execution_count": 8,
   "metadata": {
    "collapsed": false
   },
   "outputs": [
    {
     "data": {
      "text/plain": [
       "['groups', 'idio']"
      ]
     },
     "execution_count": 8,
     "metadata": {},
     "output_type": "execute_result"
    }
   ],
   "source": [
    "import dill\n",
    "\n",
    "raw_intensities = None\n",
    "with open('../intensities/intensities.pkl', 'rb') as f:\n",
    "    raw_intensities = dill.load(f)\n",
    "    \n",
    "raw_intensities.keys()"
   ]
  },
  {
   "cell_type": "code",
   "execution_count": 9,
   "metadata": {
    "collapsed": false
   },
   "outputs": [],
   "source": [
    "raw_idios = np.array(raw_intensities['idio'])\n",
    "raw_groups = np.array(raw_intensities['groups'])"
   ]
  },
  {
   "cell_type": "code",
   "execution_count": 10,
   "metadata": {
    "collapsed": false
   },
   "outputs": [],
   "source": [
    "subsets = []\n",
    "hazard_rates = []\n",
    "pillars = []\n",
    "\n",
    "for d_idio in raw_idios:\n",
    "    subsets.append(d_idio['id'])\n",
    "    hazard_rates.append(d_idio['hazard_rates'])\n",
    "    pillars.append(d_idio['pillars'])\n",
    "    \n",
    "for d_groups in raw_groups:    \n",
    "    subsets.append(d_groups['ids'])\n",
    "    hazard_rates.append(d_groups['hazard_rates'])\n",
    "    pillars.append(d_groups['pillars'])"
   ]
  },
  {
   "cell_type": "markdown",
   "metadata": {},
   "source": [
    "#Copula"
   ]
  },
  {
   "cell_type": "code",
   "execution_count": 11,
   "metadata": {
    "collapsed": false
   },
   "outputs": [],
   "source": [
    "from maths.copula.marshallolkin import StepWiseIntensitiesMarshallOlkinCopula\n",
    "\n",
    "copula = StepWiseIntensitiesMarshallOlkinCopula(subsets, hazard_rates, pillars)"
   ]
  },
  {
   "cell_type": "markdown",
   "metadata": {},
   "source": [
    "# IDs parameters"
   ]
  },
  {
   "cell_type": "code",
   "execution_count": 12,
   "metadata": {
    "collapsed": true,
    "indexes_cell": true
   },
   "outputs": [],
   "source": [
    "bank_index = 113\n",
    "counterparty_index = 26"
   ]
  },
  {
   "cell_type": "markdown",
   "metadata": {},
   "source": [
    "# Portfolio construction"
   ]
  },
  {
   "cell_type": "code",
   "execution_count": 13,
   "metadata": {
    "collapsed": false
   },
   "outputs": [],
   "source": [
    "p_fixed = 100.\n",
    "strike = swap.strike\n",
    "\n",
    "delta_times = swap.delta_time\n",
    "discount_factors = [discount(t) for t in swap.pillars[1:]]\n",
    "\n",
    "delta_beta_sum = np.dot(delta_times, discount_factors)\n",
    "\n",
    "notional = p_fixed / (strike*delta_beta_sum)"
   ]
  },
  {
   "cell_type": "code",
   "execution_count": 14,
   "metadata": {
    "collapsed": false
   },
   "outputs": [],
   "source": [
    "from finance.portfolio import EquilibratedPortfolio\n",
    "\n",
    "total_nb_of_banks = len(raw_groups[-2]['ids'])\n",
    "pos = EquilibratedPortfolio.generate_1_vs_all_positions(bank_index, raw_groups[-2]['ids'], len(raw_idios))\n",
    "\n",
    "positions = np.array(pos*notional).reshape(pos.size, 1)\n",
    "\n",
    "port = EquilibratedPortfolio(positions, [swap], [exposure])"
   ]
  },
  {
   "cell_type": "markdown",
   "metadata": {},
   "source": [
    "# VM and IM accounts"
   ]
  },
  {
   "cell_type": "code",
   "execution_count": 15,
   "metadata": {
    "collapsed": true
   },
   "outputs": [],
   "source": [
    "from ccp.accounts import Accounts\n",
    "from ccp.states import MembersState\n",
    "\n",
    "derivatives_nb = 1\n",
    "\n",
    "states = MembersState(raw_idios.size)\n",
    "vm_accounts = Accounts(states, derivatives_nb)\n",
    "im_accounts = Accounts(states, derivatives_nb)"
   ]
  },
  {
   "cell_type": "code",
   "execution_count": 16,
   "metadata": {
    "collapsed": false
   },
   "outputs": [],
   "source": [
    "# Be carefull, here, as the default models will be \n",
    "# used for regulatory computations, we select only \n",
    "# the first 125 idiosyncratic models\n",
    "\n",
    "default_proba_models = copula.models[0 : raw_idios.size]"
   ]
  },
  {
   "cell_type": "markdown",
   "metadata": {},
   "source": [
    "# Regulatory capital"
   ]
  },
  {
   "cell_type": "code",
   "execution_count": 17,
   "metadata": {
    "collapsed": false
   },
   "outputs": [],
   "source": [
    "from risk.basel import RegulatoryCapital\n",
    "\n",
    "recoveries = [0.4 for i in range(0, raw_idios.size)]\n",
    "\n",
    "regul_cap = RegulatoryCapital(vm_accounts, im_accounts, port, default_proba_models, recoveries, bank_index=bank_index)"
   ]
  },
  {
   "cell_type": "markdown",
   "metadata": {},
   "source": [
    "# Funding and capital parameters"
   ]
  },
  {
   "cell_type": "code",
   "execution_count": 18,
   "metadata": {
    "collapsed": true
   },
   "outputs": [],
   "source": [
    "lambda_ = 0.\n",
    "recov_funding = 1.\n",
    "k_ = 0.1"
   ]
  },
  {
   "cell_type": "markdown",
   "metadata": {
    "collapsed": true
   },
   "source": [
    "#MC loop"
   ]
  },
  {
   "cell_type": "code",
   "execution_count": 19,
   "metadata": {
    "collapsed": true
   },
   "outputs": [],
   "source": [
    "def time_offseter(time, time_grid_ref, left=False):\n",
    "    offset = -1 if left else 0\n",
    "    idx = np.searchsorted(time_grid_ref, time, side='right') + offset\n",
    "    \n",
    "    if idx == len(time_grid):        \n",
    "        return np.inf\n",
    "    \n",
    "    return time_grid_ref[idx]"
   ]
  },
  {
   "cell_type": "code",
   "execution_count": 20,
   "metadata": {
    "collapsed": true
   },
   "outputs": [],
   "source": [
    "results = {\"cva\": {\"sum\": 0., \"sum2\": 0.},\n",
    "           \"dva\": {\"sum\": 0., \"sum2\": 0.},\n",
    "           \"fva\": {\"sum\": 0., \"sum2\": 0.},\n",
    "           \"kva_ccr\": {\"sum\": 0., \"sum2\": 0.},\n",
    "           \"kva_cva\": {\"sum\": 0., \"sum2\": 0.}}"
   ]
  },
  {
   "cell_type": "code",
   "execution_count": 21,
   "metadata": {
    "collapsed": false,
    "simus_nb_cell": true
   },
   "outputs": [],
   "source": [
    "N = 1000"
   ]
  },
  {
   "cell_type": "code",
   "execution_count": 22,
   "metadata": {
    "collapsed": false
   },
   "outputs": [],
   "source": [
    "import time\n",
    "\n",
    "tic = time.time()\n",
    "\n",
    "zetas = exp_distrib.rvs(size=N)\n",
    "\n",
    "b_subsets_indexes = copula.get_indexes_including(bank_index)\n",
    "c_subsets_indexes = copula.get_indexes_including(counterparty_index)\n",
    "b_and_c_subsets_indexes = list(set(b_subsets_indexes).union(c_subsets_indexes))\n",
    "b_and_c_subsets_indexes.sort()\n",
    "\n",
    "default_times_mat = copula.generate_default_times(subsets_indexes=b_and_c_subsets_indexes, number=N)\n",
    "\n",
    "b_default_times_indexes = [ii for ii, b_index in enumerate(b_and_c_subsets_indexes) if b_index in b_subsets_indexes]\n",
    "c_default_times_indexes = [ii for ii, c_index in enumerate(b_and_c_subsets_indexes) if c_index in c_subsets_indexes]\n",
    "\n",
    "for i in range(N):\n",
    "    # Resurrecting the states\n",
    "    # reset to 0. the values\n",
    "    # of the VMs and IMs\n",
    "    states.resurrect_all()\n",
    "    \n",
    "    zeta = time_offseter(zetas[i], time_grid)\n",
    "    default_times = default_times_mat[i]\n",
    "        \n",
    "    tau = default_times.min()\n",
    "    bar_tau = min(tau, maturity)\n",
    "    \n",
    "    if bar_tau <= zeta:\n",
    "        continue\n",
    "    \n",
    "    inv_pdf = 1./exp_distrib.pdf(zeta)\n",
    "    discount_ratio = discount(zeta+mpor) / discount(zeta)\n",
    "    mult_factor = inv_pdf*discount_ratio\n",
    "        \n",
    "    zeta_delta = time_offseter(zeta+mpor, time_grid, True)    \n",
    "    \n",
    "    keeping_pillars = swap.pillars[swap.pillars <= zeta_delta]\n",
    "    step_time_grid = np.append(keeping_pillars, [zeta, zeta_delta])\n",
    "    step_time_grid.sort()\n",
    "    \n",
    "    # We generate the brownian motion\n",
    "    # only on these new times \n",
    "    #\n",
    "    # Setting time calls simulate at \n",
    "    # the end of the method\n",
    "    b.time = step_time_grid\n",
    "    \n",
    "    # IM computations\n",
    "    b_im = port.compute_exposure(zeta, risk_period=mpor, conf_level=quantile_im, \\\n",
    "                                 from_=bank_index, towards_=counterparty_index)\n",
    "    c_im = port.compute_exposure(zeta, risk_period=mpor, conf_level=quantile_im, \\\n",
    "                                 from_=counterparty_index, towards_=bank_index)\n",
    "    \n",
    "    im_accounts.put_amounts(bank_index, b_im)\n",
    "    im_accounts.put_amounts(counterparty_index, c_im)\n",
    "    \n",
    "    d_pl = [s.price(zeta) for s in [swap]]\n",
    "    b_vm = port.compute_value(d_pl, from_=bank_index, towards_=counterparty_index)    \n",
    "    vm_accounts.put_amounts(bank_index, b_vm)\n",
    "    vm_accounts.put_amounts(bank_index, -b_vm)\n",
    "    p_zeta = b_vm.sum()\n",
    "    \n",
    "    d_pl = [s.price(zeta_delta) for s in [swap]]\n",
    "    p_zeta_delta = port.compute_value(d_pl, from_=bank_index, towards_=counterparty_index).sum()\n",
    "    q_zeta_delta = p_zeta_delta\n",
    "        \n",
    "    cva_ = 0.\n",
    "    dva_ = 0.\n",
    "    fva_ = 0.\n",
    "    kccr_ = 0.\n",
    "    kcva_ = 0.\n",
    "    for j, (subset_index, eta) in enumerate(zip(b_and_c_subsets_indexes, default_times)):\n",
    "        gamma_zeta = copula.gamma(subset_index, zeta)\n",
    "        \n",
    "        ####################\n",
    "        ##### CVA part #####\n",
    "        ####################\n",
    "        c_default_indic = j in c_default_times_indexes\n",
    "        if not c_default_indic:            \n",
    "            c_default_times = default_times[c_default_times_indexes]\n",
    "            c_min_default_time = c_default_times.min()\n",
    "            c_default_indic = c_min_default_time<=zeta_delta\n",
    "        \n",
    "        if c_default_indic:            \n",
    "            b_collat = p_zeta + im_accounts.get_amount(bank_index).sum()\n",
    "            loss = np.maximum(q_zeta_delta-b_collat, 0.)\n",
    "            cva_ += mult_factor*gamma_zeta*(1.-recoveries[counterparty_index]*loss)            \n",
    "            \n",
    "        ####################\n",
    "        ##### DVA part #####\n",
    "        ####################\n",
    "        b_default_indic = j in b_default_times_indexes\n",
    "        if not b_default_indic:            \n",
    "            b_default_times = default_times[b_default_times_indexes]\n",
    "            b_min_default_time = b_default_times.min()\n",
    "            b_default_indic = b_min_default_time<=zeta_delta\n",
    "            \n",
    "        if b_default_indic:\n",
    "            c_collat = p_zeta - im_accounts.get_amount(counterparty_index).sum()\n",
    "            loss = np.maximum(q_zeta_delta-c_collat, 0.)\n",
    "            dva_ += mult_factor*gamma_zeta*(1.-recoveries[bank_index]*loss)\n",
    "                        \n",
    "        ####################\n",
    "        ##### FVA part #####\n",
    "        ####################\n",
    "        b_funded_collat = p_zeta + \\\n",
    "                          im_accounts.get_amount(bank_index).sum() - \\\n",
    "                          im_accounts.get_amount(counterparty_index).sum()\n",
    "                \n",
    "        b_gamma_zeta = copula.tot_gamma(bank_index, zeta)\n",
    "        \n",
    "        bar_lambda_zeta = .5*(1.-recoveries[bank_index])*b_gamma_zeta\n",
    "        \n",
    "        tilde_lambda_zeta = bar_lambda_zeta - (1.-recov_funding)*b_gamma_zeta\n",
    "        c_zeta = -.0020 + bar_lambda_zeta\n",
    "        \n",
    "        lambda_zeta = lambda_\n",
    "        \n",
    "        fva_ += mult_factor * b_gamma_zeta * (c_zeta*b_funded_collat + \\\n",
    "                                             tilde_lambda_zeta*np.maximum(p_zeta-b_funded_collat, 0.) + \\\n",
    "                                             lambda_zeta*np.minimum(p_zeta-b_funded_collat, 0.))\n",
    "                \n",
    "        ######################\n",
    "        ##### K_CCR part #####\n",
    "        ######################        \n",
    "        kccr_ += mult_factor*k_*regul_cap.compute_kccr(counterparty_index, zeta)\n",
    "                \n",
    "        ######################\n",
    "        ##### K_CCR part #####\n",
    "        ######################        \n",
    "        kcva_ += mult_factor*k_*regul_cap.compute_kcva(counterparty_index, zeta)\n",
    "        \n",
    "    results['cva']['sum'] += cva_\n",
    "    results['cva']['sum2'] += cva_**2\n",
    "    \n",
    "    results['dva']['sum'] += dva_\n",
    "    results['dva']['sum2'] += dva_**2\n",
    "    \n",
    "    results['fva']['sum'] += fva_\n",
    "    results['fva']['sum2'] += fva_**2\n",
    "        \n",
    "    results['kva_ccr']['sum'] += kccr_\n",
    "    results['kva_ccr']['sum2'] += kccr_**2\n",
    "    \n",
    "    results['kva_cva']['sum'] += kcva_\n",
    "    results['kva_cva']['sum2'] += kcva_**2\n",
    "    \n",
    "toc = time.time()"
   ]
  },
  {
   "cell_type": "markdown",
   "metadata": {
    "collapsed": true
   },
   "source": [
    "#Results"
   ]
  },
  {
   "cell_type": "code",
   "execution_count": 23,
   "metadata": {
    "collapsed": false
   },
   "outputs": [
    {
     "name": "stdout",
     "output_type": "stream",
     "text": [
      "Results for 1000 iterations (15.0169999599 secs.)\n",
      "\n",
      "Used discount factor: Constant discount factor process with rate r = 0.02\n",
      "\n",
      "Bank index 113 that belongs to the following MO copula subsets:\n",
      "- [113] with pillars [3 5] and intensity [ 0.00374407  0.00339649]\n",
      "\n",
      "- [0, 3, 4, 5, 9, 13, 17, 24, 25, 26, 27, 28, 29, 30, 31, 33, 36, 37, 38, 43, 45, 47, 50, 52, 55, 56, 57, 61, 64, 66, 70, 71, 72, 73, 75, 76, 78, 80, 81, 82, 83, 86, 87, 89, 90, 98, 99, 100, 103, 104, 107, 111, 112, 113, 114, 116, 118, 119, 120, 122, 124] with pillars [3 5] and intensity [  2.01650000e-04   9.33720000e-05]\n",
      "\n",
      "- [0, 1, 2, 3, 4, 5, 6, 7, 8, 9, 10, 11, 12, 13, 14, 15, 16, 17, 18, 19, 20, 21, 22, 23, 24, 25, 26, 27, 28, 29, 30, 31, 32, 33, 34, 35, 36, 37, 38, 39, 40, 41, 42, 43, 44, 45, 46, 47, 48, 49, 50, 51, 52, 53, 54, 55, 56, 57, 58, 59, 60, 61, 62, 63, 64, 65, 66, 67, 68, 69, 70, 71, 72, 73, 74, 75, 76, 77, 78, 79, 80, 81, 82, 83, 84, 85, 86, 87, 88, 89, 90, 91, 92, 93, 94, 95, 96, 97, 98, 99, 100, 101, 102, 103, 104, 105, 106, 107, 108, 109, 110, 111, 112, 113, 114, 115, 116, 117, 118, 119, 120, 121, 122, 123, 124] with pillars [3 5] and intensity [ 0.0016207  0.0076647]\n",
      "\n",
      "Counterparty index 26 that belongs to the following MO copula subsets:\n",
      "- [26] with pillars [3 5] and intensity [ 0.13875825  0.01154767]\n",
      "\n",
      "- [98, 99, 38, 104, 75, 26] with pillars [3 5] and intensity [ 0.058     0.015925]\n",
      "\n",
      "- [64, 98, 99, 38, 70, 71, 104, 75, 76, 78, 111, 17, 83, 120, 26, 31, 124, 29, 81] with pillars [3 5] and intensity [ 0.0053745  0.0050889]\n",
      "\n",
      "- [17, 26, 29, 31, 38, 50, 55, 64, 66, 70, 71, 75, 76, 78, 81, 83, 98, 99, 103, 104, 107, 111, 120, 122, 124] with pillars [3 5] and intensity [ 0.0006145  0.0086692]\n",
      "\n",
      "- [0, 3, 4, 5, 9, 13, 17, 24, 25, 26, 27, 28, 29, 30, 31, 33, 36, 37, 38, 43, 45, 47, 50, 52, 55, 56, 57, 61, 64, 66, 70, 71, 72, 73, 75, 76, 78, 80, 81, 82, 83, 86, 87, 89, 90, 98, 99, 100, 103, 104, 107, 111, 112, 113, 114, 116, 118, 119, 120, 122, 124] with pillars [3 5] and intensity [  2.01650000e-04   9.33720000e-05]\n",
      "\n",
      "- [0, 1, 2, 3, 4, 5, 6, 7, 8, 9, 10, 11, 12, 13, 14, 15, 16, 17, 18, 19, 20, 21, 22, 23, 24, 25, 26, 27, 28, 29, 30, 31, 32, 33, 34, 35, 36, 37, 38, 39, 40, 41, 42, 43, 44, 45, 46, 47, 48, 49, 50, 51, 52, 53, 54, 55, 56, 57, 58, 59, 60, 61, 62, 63, 64, 65, 66, 67, 68, 69, 70, 71, 72, 73, 74, 75, 76, 77, 78, 79, 80, 81, 82, 83, 84, 85, 86, 87, 88, 89, 90, 91, 92, 93, 94, 95, 96, 97, 98, 99, 100, 101, 102, 103, 104, 105, 106, 107, 108, 109, 110, 111, 112, 113, 114, 115, 116, 117, 118, 119, 120, 121, 122, 123, 124] with pillars [3 5] and intensity [ 0.0016207  0.0076647]\n",
      "\n",
      "Derivatives:\n",
      "- Swap contract of maturity T = 5 years, over S^0 with strike K = 104.560, paying at {0.00, 0.50, 1.00, 1.50, 2.00, 2.50, 3.00, 3.50, 4.00, 4.50, 5.00}\n",
      "\n",
      "Positions:\n",
      "- bank: [ 0.20201003]\n",
      "- counterparty: [-0.00336683]\n",
      "\n",
      "Confidence level used for IM: 0.80\n",
      "\n",
      "Results of the computation:\n",
      "\n",
      "The CVA for the bank is: [0.475805, 0.530517]\n",
      "The DVA for the bank is: [0.022017, 0.026622]\n",
      "The FVA for the bank is: [0.000006, 0.000014]\n",
      "The KVA_CCR for the bank is: [0.363928, 0.405083]\n",
      "The KVA_CVA for the bank is: [0.437004, 0.489716]\n"
     ]
    }
   ],
   "source": [
    "from scipy.stats import norm\n",
    "\n",
    "conf_level = 0.95\n",
    "z_level = norm.ppf(0.5*(1+conf_level))\n",
    "\n",
    "print \"Results for %d iterations (%s secs.)\"%(N, toc-tic)\n",
    "print\n",
    "\n",
    "print \"Used discount factor: %s\"%discount\n",
    "print\n",
    "\n",
    "print \"Bank index %i that belongs to the following MO copula subsets:\"%bank_index\n",
    "for idx in b_subsets_indexes:\n",
    "    print \"- %s with pillars %s and intensity %s\\n\"%([x for x in copula.subsets[idx][0]], copula.pillars[idx], copula.intensities[idx])\n",
    "    \n",
    "print \"Counterparty index %i that belongs to the following MO copula subsets:\"%counterparty_index\n",
    "for idx in c_subsets_indexes:\n",
    "    print \"- %s with pillars %s and intensity %s\\n\"%([x for x in copula.subsets[idx][0]], copula.pillars[idx], copula.intensities[idx])\n",
    "    \n",
    "print \"Derivatives:\"\n",
    "for d in [swap]:\n",
    "    print \"- %s\"%d\n",
    "    \n",
    "print \"\\nPositions:\"\n",
    "for lab, pos in zip([\"bank\", \"counterparty\"], [bank_index, counterparty_index]):\n",
    "    print \"- %s: %s\"%(lab, port.positions[pos, :])\n",
    "    \n",
    "print \"\\nConfidence level used for IM: %.2f\"%quantile_im\n",
    "\n",
    "print \"\\nResults of the computation:\\n\"\n",
    "keys = results.keys()\n",
    "keys.sort()\n",
    "\n",
    "res = {}\n",
    "\n",
    "for k in keys:\n",
    "    v = results[k]\n",
    "    mean = v['sum']/N\n",
    "    mod_var = (v['sum2']/N - mean**2) / (N-1)\n",
    "    half_inter = z_level*np.sqrt(mod_var)\n",
    "    \n",
    "    res[k] = [mean-half_inter, mean+half_inter]\n",
    "    \n",
    "    print \"The %s for the bank is: [%f, %f]\"%(k.upper(), mean-half_inter, mean+half_inter)"
   ]
  },
  {
   "cell_type": "code",
   "execution_count": 24,
   "metadata": {
    "collapsed": false
   },
   "outputs": [
    {
     "data": {
      "text/plain": [
       "{'cva': {'sum': 503.16136448480728, 'sum2': 447.78408480675989},\n",
       " 'dva': {'sum': 24.31952474121584, 'sum2': 1.9706846418020096},\n",
       " 'fva': {'sum': 0.0098262319006385858, 'sum2': 3.9086763706276565e-06},\n",
       " 'kva_ccr': {'sum': 384.50573116224751, 'sum2': 257.96236523765452},\n",
       " 'kva_cva': {'sum': 463.35998780276191, 'sum2': 395.34676205932186}}"
      ]
     },
     "execution_count": 24,
     "metadata": {},
     "output_type": "execute_result"
    }
   ],
   "source": [
    "results"
   ]
  },
  {
   "cell_type": "code",
   "execution_count": 25,
   "metadata": {
    "collapsed": true
   },
   "outputs": [],
   "source": [
    "import dill\n",
    "\n",
    "with open('results_%svs%s.pkl'%(bank_index, counterparty_index), 'wb') as f:\n",
    "    to_save = {\"bank_index\": bank_index, \n",
    "               \"counterparty_index\": counterparty_index,\n",
    "               \"results\": res}\n",
    "    \n",
    "    dill.dump(to_save, f)"
   ]
  }
 ],
 "metadata": {
  "kernelspec": {
   "display_name": "Python 2",
   "language": "python",
   "name": "python2"
  },
  "language_info": {
   "codemirror_mode": {
    "name": "ipython",
    "version": 2
   },
   "file_extension": ".py",
   "mimetype": "text/x-python",
   "name": "python",
   "nbconvert_exporter": "python",
   "pygments_lexer": "ipython2",
   "version": "2.7.9"
  }
 },
 "nbformat": 4,
 "nbformat_minor": 0
}
