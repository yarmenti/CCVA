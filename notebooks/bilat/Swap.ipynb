{
 "cells": [
  {
   "cell_type": "code",
   "execution_count": null,
   "metadata": {
    "collapsed": true
   },
   "outputs": [],
   "source": [
    "import sys\n",
    "\n",
    "sys.path.append('../..')"
   ]
  },
  {
   "cell_type": "code",
   "execution_count": null,
   "metadata": {
    "collapsed": true
   },
   "outputs": [],
   "source": [
    "import warnings\n",
    "\n",
    "warnings.filterwarnings('error')"
   ]
  },
  {
   "cell_type": "code",
   "execution_count": null,
   "metadata": {
    "collapsed": true
   },
   "outputs": [],
   "source": [
    "# Instead of taking 365 standard days or 252 trading days\n",
    "# in order to get some easy computations for the eqty and df time grids\n",
    "# I chose to take 360 days of tradings\n",
    "\n",
    "step = 1/360.\n",
    "mpor = 15*step"
   ]
  },
  {
   "cell_type": "markdown",
   "metadata": {},
   "source": [
    "#Discount"
   ]
  },
  {
   "cell_type": "code",
   "execution_count": null,
   "metadata": {
    "collapsed": true
   },
   "outputs": [],
   "source": [
    "from finance.discountfactor import ConstantRateDiscountFactor \n",
    "\n",
    "maturity = 5.\n",
    "r = 0.02\n",
    "\n",
    "discount = ConstantRateDiscountFactor(r)"
   ]
  },
  {
   "cell_type": "markdown",
   "metadata": {},
   "source": [
    "# Exponential distrib"
   ]
  },
  {
   "cell_type": "code",
   "execution_count": null,
   "metadata": {
    "collapsed": false
   },
   "outputs": [],
   "source": [
    "from scipy.stats import expon\n",
    " \n",
    "mean = maturity / 2.\n",
    "exp_distrib = expon(loc=0, scale=mean)\n",
    "\n",
    "print \"Mean = %s\"%mean"
   ]
  },
  {
   "cell_type": "markdown",
   "metadata": {},
   "source": [
    "# Underlying"
   ]
  },
  {
   "cell_type": "code",
   "execution_count": null,
   "metadata": {
    "collapsed": false
   },
   "outputs": [],
   "source": [
    "import numpy as np\n",
    "from maths.montecarlo.processes.brownianmotions import BrownianMotion\n",
    "\n",
    "time_grid = BrownianMotion.generate_time_grid(0, maturity, step)\n",
    "\n",
    "x_0 = [100]\n",
    "drift = 6\n",
    "vol = 15\n",
    "\n",
    "b = BrownianMotion(time_grid, x_0, drift, vol)"
   ]
  },
  {
   "cell_type": "markdown",
   "metadata": {},
   "source": [
    "# Derivative"
   ]
  },
  {
   "cell_type": "code",
   "execution_count": null,
   "metadata": {
    "collapsed": false
   },
   "outputs": [],
   "source": [
    "from finance.products.european.assetswap import (\n",
    "    SwapContract,\n",
    ")\n",
    "\n",
    "delta = 0.5\n",
    "\n",
    "swap_dates = SwapContract.generate_payment_dates(0, maturity, delta)\n",
    "swap = SwapContract(b, discount, swap_dates)\n",
    "\n",
    "price_0 = swap.price(0.)\n",
    "\n",
    "print swap\n",
    "print \"\\nPrice swap at t=0 = \",price_0"
   ]
  },
  {
   "cell_type": "markdown",
   "metadata": {},
   "source": [
    "# Exposure"
   ]
  },
  {
   "cell_type": "code",
   "execution_count": null,
   "metadata": {
    "collapsed": false
   },
   "outputs": [],
   "source": [
    "from risk.exposures import EuropeanQuantileBrownianExposure\n",
    "\n",
    "quantile_im = 0.80\n",
    "\n",
    "exposure = EuropeanQuantileBrownianExposure(swap, discount, drift, vol)"
   ]
  },
  {
   "cell_type": "markdown",
   "metadata": {},
   "source": [
    "# Load intensities of obligors"
   ]
  },
  {
   "cell_type": "code",
   "execution_count": null,
   "metadata": {
    "collapsed": false
   },
   "outputs": [],
   "source": [
    "import dill\n",
    "\n",
    "raw_intensities = None\n",
    "with open('../intensities/intensities.pkl', 'rb') as f:\n",
    "    raw_intensities = dill.load(f)\n",
    "    \n",
    "raw_intensities.keys()"
   ]
  },
  {
   "cell_type": "code",
   "execution_count": null,
   "metadata": {
    "collapsed": false
   },
   "outputs": [],
   "source": [
    "raw_idios = np.array(raw_intensities['idio'])\n",
    "raw_groups = np.array(raw_intensities['groups'])"
   ]
  },
  {
   "cell_type": "code",
   "execution_count": null,
   "metadata": {
    "collapsed": false
   },
   "outputs": [],
   "source": [
    "subsets = []\n",
    "hazard_rates = []\n",
    "pillars = []\n",
    "\n",
    "for d_idio in raw_idios:\n",
    "    subsets.append(d_idio['id'])\n",
    "    hazard_rates.append(d_idio['hazard_rates'])\n",
    "    pillars.append(d_idio['pillars'])\n",
    "    \n",
    "for d_groups in raw_groups:    \n",
    "    subsets.append(d_groups['ids'])\n",
    "    hazard_rates.append(d_groups['hazard_rates'])\n",
    "    pillars.append(d_groups['pillars'])"
   ]
  },
  {
   "cell_type": "markdown",
   "metadata": {},
   "source": [
    "#Copula"
   ]
  },
  {
   "cell_type": "code",
   "execution_count": null,
   "metadata": {
    "collapsed": false
   },
   "outputs": [],
   "source": [
    "from maths.copula.marshallolkin import StepWiseIntensitiesMarshallOlkinCopula\n",
    "\n",
    "copula = StepWiseIntensitiesMarshallOlkinCopula(subsets, hazard_rates, pillars)"
   ]
  },
  {
   "cell_type": "markdown",
   "metadata": {},
   "source": [
    "# ID parameters"
   ]
  },
  {
   "cell_type": "code",
   "execution_count": null,
   "metadata": {
    "collapsed": true,
    "indexes_cell": true
   },
   "outputs": [],
   "source": [
    "bank_index = 113\n",
    "\n",
    "counterparties_indexes = list(raw_groups[-2]['ids'])\n",
    "counterparties_indexes.remove(bank_index)\n",
    "\n",
    "bank_and_counterparties_indexes = list(raw_groups[-2]['ids'])"
   ]
  },
  {
   "cell_type": "markdown",
   "metadata": {},
   "source": [
    "# Portfolio construction"
   ]
  },
  {
   "cell_type": "code",
   "execution_count": null,
   "metadata": {
    "collapsed": false
   },
   "outputs": [],
   "source": [
    "p_fixed = 100.\n",
    "strike = swap.strike\n",
    "\n",
    "delta_times = swap.delta_time\n",
    "discount_factors = [discount(t) for t in swap.pillars[1:]]\n",
    "\n",
    "delta_beta_sum = np.dot(delta_times, discount_factors)\n",
    "\n",
    "notional = p_fixed / (strike*delta_beta_sum)"
   ]
  },
  {
   "cell_type": "code",
   "execution_count": null,
   "metadata": {
    "collapsed": true
   },
   "outputs": [],
   "source": [
    "from finance.portfolio import EquilibratedPortfolio\n",
    "\n",
    "pos = EquilibratedPortfolio.generate_1_vs_all_positions(bank_index, bank_and_counterparties_indexes, len(raw_idios))\n",
    "positions = np.array(pos*notional).reshape(pos.size, 1)"
   ]
  },
  {
   "cell_type": "code",
   "execution_count": null,
   "metadata": {
    "collapsed": false
   },
   "outputs": [],
   "source": [
    "port = EquilibratedPortfolio(positions, [swap], [exposure])"
   ]
  },
  {
   "cell_type": "markdown",
   "metadata": {},
   "source": [
    "# VM and IM accounts"
   ]
  },
  {
   "cell_type": "code",
   "execution_count": null,
   "metadata": {
    "collapsed": true
   },
   "outputs": [],
   "source": [
    "from ccp.accounts import Accounts\n",
    "from ccp.states import MembersState\n",
    "\n",
    "derivatives_nb = 1\n",
    "\n",
    "states = MembersState(raw_idios.size)\n",
    "vm_accounts = Accounts(states, derivatives_nb)\n",
    "im_accounts = Accounts(states, derivatives_nb)"
   ]
  },
  {
   "cell_type": "code",
   "execution_count": null,
   "metadata": {
    "collapsed": false
   },
   "outputs": [],
   "source": [
    "# Be carefull, here, as the default models will be \n",
    "# used for regulatory computations, we select only \n",
    "# the first 125 idiosyncratic models even if \n",
    "# we care only about the 61 first.\n",
    "\n",
    "default_proba_models = copula.models[0 : raw_idios.size]"
   ]
  },
  {
   "cell_type": "markdown",
   "metadata": {},
   "source": [
    "# Regulatory capital"
   ]
  },
  {
   "cell_type": "code",
   "execution_count": null,
   "metadata": {
    "collapsed": false
   },
   "outputs": [],
   "source": [
    "from risk.basel import RegulatoryCapital\n",
    "\n",
    "recoveries = [0.4 for i in range(0, raw_idios.size)]\n",
    "\n",
    "regul_cap = RegulatoryCapital(vm_accounts, im_accounts, port, default_proba_models, recoveries, bank_index=bank_index)"
   ]
  },
  {
   "cell_type": "markdown",
   "metadata": {},
   "source": [
    "# Funding and capital parameters"
   ]
  },
  {
   "cell_type": "code",
   "execution_count": null,
   "metadata": {
    "collapsed": true
   },
   "outputs": [],
   "source": [
    "lambda_ = 0.\n",
    "recov_funding = 1.\n",
    "k_ = 0.1\n",
    "\n",
    "c_0 = -.0020"
   ]
  },
  {
   "cell_type": "markdown",
   "metadata": {
    "collapsed": true
   },
   "source": [
    "#MC loop"
   ]
  },
  {
   "cell_type": "code",
   "execution_count": null,
   "metadata": {
    "collapsed": true
   },
   "outputs": [],
   "source": [
    "def time_offseter(time, time_grid_ref, left=False, max_value=1000):\n",
    "    offset = -1 if left else 0\n",
    "    idx = np.searchsorted(time_grid_ref, time, side='right') + offset\n",
    "    \n",
    "    if idx == len(time_grid):\n",
    "        return max_value\n",
    "    \n",
    "    return time_grid_ref[idx]"
   ]
  },
  {
   "cell_type": "code",
   "execution_count": null,
   "metadata": {
    "collapsed": true
   },
   "outputs": [],
   "source": [
    "results_idio = {\"cva\": {c: {\"sum\": 0., \"sum2\": 0.} for c in counterparties_indexes},\n",
    "                \"dva\": {c: {\"sum\": 0., \"sum2\": 0.} for c in counterparties_indexes},\n",
    "                \"fva\": {c: {\"sum\": 0., \"sum2\": 0.} for c in counterparties_indexes},\n",
    "                \"kva_ccr\": {c: {\"sum\": 0., \"sum2\": 0.} for c in counterparties_indexes},\n",
    "                \"kva_cva\": {c: {\"sum\": 0., \"sum2\": 0.} for c in counterparties_indexes}}\n",
    "\n",
    "results_globs = {\"cva\": {\"sum\": 0., \"sum2\": 0.},\n",
    "                 \"dva\": {\"sum\": 0., \"sum2\": 0.},\n",
    "                 \"fva\": {\"sum\": 0., \"sum2\": 0.},\n",
    "                 \"kva_ccr\": {\"sum\": 0., \"sum2\": 0.},\n",
    "                 \"kva_cva\": {\"sum\": 0., \"sum2\": 0.}}"
   ]
  },
  {
   "cell_type": "code",
   "execution_count": null,
   "metadata": {
    "collapsed": false,
    "simus_nb_cell": true
   },
   "outputs": [],
   "source": [
    "N = 10"
   ]
  },
  {
   "cell_type": "markdown",
   "metadata": {},
   "source": [
    "## Saving default times and paths"
   ]
  },
  {
   "cell_type": "code",
   "execution_count": null,
   "metadata": {
    "collapsed": true
   },
   "outputs": [],
   "source": [
    "to_save = {}"
   ]
  },
  {
   "cell_type": "markdown",
   "metadata": {},
   "source": [
    "## Subsets indexes of defaulters"
   ]
  },
  {
   "cell_type": "code",
   "execution_count": null,
   "metadata": {
    "collapsed": false
   },
   "outputs": [],
   "source": [
    "bank_and_counterparties_subsets_indexes = []\n",
    "bank_subsets_indexes = None\n",
    "for id_ in bank_and_counterparties_indexes:\n",
    "    indexes = copula.get_indexes_including(id_)\n",
    "    bank_and_counterparties_subsets_indexes += indexes\n",
    "    \n",
    "    if id_ == bank_index:\n",
    "        bank_subsets_indexes = indexes\n",
    "    \n",
    "bank_and_counterparties_subsets_indexes = list(set(bank_and_counterparties_subsets_indexes))\n",
    "bank_and_counterparties_subsets_indexes.sort()\n",
    "\n",
    "# As we don't want to handle the armaggeddon case\n",
    "# we must remove the last index (which is the armaggeddon)\n",
    "bank_and_counterparties_subsets_indexes = bank_and_counterparties_subsets_indexes[:-1]\n",
    "print bank_and_counterparties_subsets_indexes\n",
    "\n",
    "to_save[\"defaulters_subsets_indexes\"] = bank_and_counterparties_subsets_indexes"
   ]
  },
  {
   "cell_type": "code",
   "execution_count": null,
   "metadata": {
    "collapsed": true
   },
   "outputs": [],
   "source": [
    "import time\n",
    "\n",
    "tic = time.time()\n",
    "\n",
    "zetas = exp_distrib.rvs(size=N)\n",
    "to_save[\"zetas\"] = zetas\n",
    "\n",
    "default_times_mat = copula.generate_default_times(subsets_indexes=bank_and_counterparties_subsets_indexes, number=N)\n",
    "to_save[\"default_times\"] = default_times_mat"
   ]
  },
  {
   "cell_type": "code",
   "execution_count": null,
   "metadata": {
    "collapsed": true
   },
   "outputs": [],
   "source": [
    "counterparties_subsets_indexes = bank_and_counterparties_subsets_indexes[:]\n",
    "for ii in bank_subsets_indexes:\n",
    "    try:\n",
    "        counterparties_subsets_indexes.remove(ii)\n",
    "    except Exception, e:\n",
    "        bank_subsets_indexes.remove(ii)"
   ]
  },
  {
   "cell_type": "code",
   "execution_count": null,
   "metadata": {
    "collapsed": false
   },
   "outputs": [],
   "source": [
    "print counterparties_indexes, len(counterparties_indexes)\n",
    "print bank_index\n",
    "print\n",
    "print counterparties_subsets_indexes, len(counterparties_subsets_indexes)\n",
    "print bank_subsets_indexes, len(bank_subsets_indexes)"
   ]
  },
  {
   "cell_type": "code",
   "execution_count": null,
   "metadata": {
    "collapsed": true
   },
   "outputs": [],
   "source": [
    "to_save[\"underlying\"] = {\n",
    "    \"time\": [], \n",
    "    \"values\": []\n",
    "}"
   ]
  },
  {
   "cell_type": "code",
   "execution_count": null,
   "metadata": {
    "collapsed": false
   },
   "outputs": [],
   "source": [
    "bk_default_times_indexes = [ii for ii, ind in enumerate(bank_and_counterparties_subsets_indexes) if ind in bank_subsets_indexes]\n",
    "\n",
    "for i in range(N):\n",
    "    # Resurrecting the states\n",
    "    # reset to 0. the values\n",
    "    # of the VMs and IMs\n",
    "    states.resurrect_all()\n",
    "    \n",
    "    zeta = time_offseter(zetas[i], time_grid)\n",
    "    zeta_delta = time_offseter(zeta+mpor, time_grid, True)\n",
    "    \n",
    "    keeping_pillars = swap.pillars[swap.pillars <= zeta_delta]\n",
    "    step_time_grid = np.append(keeping_pillars, [zeta, zeta_delta])\n",
    "    step_time_grid.sort()\n",
    "    \n",
    "    to_save[\"underlying\"][\"time\"].append(step_time_grid)\n",
    "    b.time = step_time_grid\n",
    "    \n",
    "    to_save[\"underlying\"][\"values\"].append(b.values)\n",
    "    \n",
    "    default_times = default_times_mat[i]\n",
    "    \n",
    "    cva_, dva_, fva_, kccr_, kcva_ = [0. for _ in range(5)]\n",
    "    \n",
    "    for cp_index in counterparties_indexes:\n",
    "        cp_subsets_indexes = copula.get_indexes_including(cp_index)        \n",
    "        cp_default_times_indexes = [ii for ii, ind in enumerate(counterparties_subsets_indexes) if ind in cp_subsets_indexes]\n",
    "        \n",
    "        bk_cp_default_times_indexes = np.append(bk_default_times_indexes, cp_default_times_indexes)               \n",
    "        bk_cp_default_times = default_times[bk_cp_default_times_indexes]\n",
    "        \n",
    "        tau = bk_cp_default_times.min()\n",
    "        bar_tau = min(tau, maturity)\n",
    "        \n",
    "        cva__, dva__, fva__, kccr__, kcva__ = [0. for _ in range(5)]\n",
    "        del bk_cp_default_times\n",
    "        \n",
    "        if bar_tau <= zeta:\n",
    "            continue\n",
    "            \n",
    "        inv_pdf = 1./exp_distrib.pdf(zeta)\n",
    "        discount_ratio = discount(zeta+mpor) / discount(zeta)\n",
    "        mult_factor = inv_pdf*discount_ratio\n",
    "        \n",
    "        # IM computations\n",
    "        b_im = port.compute_exposure(zeta, risk_period=mpor, conf_level=quantile_im, \\\n",
    "                                     from_=bank_index, towards_=cp_index)\n",
    "        c_im = port.compute_exposure(zeta, risk_period=mpor, conf_level=quantile_im, \\\n",
    "                                     from_=cp_index, towards_=bank_index)\n",
    "        \n",
    "        im_accounts.put_amounts(bank_index, b_im)\n",
    "        im_accounts.put_amounts(cp_index, c_im)\n",
    "        \n",
    "        d_pl = [s.price(zeta) for s in [swap]]\n",
    "        b_vm = port.compute_value(d_pl, from_=bank_index, towards_=cp_index)\n",
    "        vm_accounts.put_amounts(bank_index, b_vm)\n",
    "        vm_accounts.put_amounts(cp_index, -b_vm)\n",
    "        \n",
    "        p_zeta = b_vm.sum()\n",
    "        \n",
    "        d_pl_zeta_delta = [s.price(zeta_delta) for s in [swap]]\n",
    "        p_zeta_delta = port.compute_value(d_pl_zeta_delta, from_=bank_index, towards_=cp_index).sum()\n",
    "        \n",
    "        # We suppose here that \\Delta_{\\zeta} is null\n",
    "        q_zeta_delta = p_zeta_delta\n",
    "        \n",
    "        b_default_times = default_times[bk_default_times_indexes]\n",
    "        c_default_times = default_times[cp_default_times_indexes]\n",
    "        b_min_default_time = b_default_times.min()\n",
    "        c_min_default_time = c_default_times.min()\n",
    "        \n",
    "        for df_index in bk_cp_default_times_indexes:\n",
    "            subset_index = bank_and_counterparties_subsets_indexes[df_index]\n",
    "            gamma_zeta = copula.gamma(subset_index, zeta)\n",
    "            \n",
    "            ####################\n",
    "            ##### CVA part #####\n",
    "            ####################\n",
    "            c_default_indic = df_index in cp_default_times_indexes\n",
    "            if not c_default_indic:\n",
    "                c_default_indic = c_min_default_time <= zeta_delta\n",
    "                \n",
    "            if c_default_indic:\n",
    "                b_collat = p_zeta + im_accounts.get_amount(bank_index).sum()\n",
    "                loss = np.maximum(q_zeta_delta-b_collat, 0.)\n",
    "                cva__ += gamma_zeta*(1.-recoveries[cp_index]*loss)\n",
    "                \n",
    "            ####################\n",
    "            ##### DVA part #####\n",
    "            ####################\n",
    "            b_default_indic = df_index in bk_default_times_indexes\n",
    "            if not b_default_indic:\n",
    "                b_default_indic = b_min_default_time <= zeta_delta\n",
    "                \n",
    "            if b_default_indic:\n",
    "                c_collat = p_zeta - im_accounts.get_amount(cp_index).sum()\n",
    "                loss = np.maximum(q_zeta_delta-c_collat, 0.)\n",
    "                dva__ += gamma_zeta*(1.-recoveries[bank_index]*loss)\n",
    "                \n",
    "            ####################\n",
    "            ##### FVA part #####\n",
    "            ####################\n",
    "            b_funded_collat = p_zeta + \\\n",
    "                                im_accounts.get_amount(bank_index).sum() - \\\n",
    "                                im_accounts.get_amount(cp_index).sum()\n",
    "\n",
    "            b_gamma_zeta = copula.tot_gamma(bank_index, zeta)\n",
    "            \n",
    "            bar_lambda_zeta = .5*(1.-recoveries[bank_index])*b_gamma_zeta\n",
    "            tilde_lambda_zeta = bar_lambda_zeta - (1.-recov_funding)*b_gamma_zeta\n",
    "            c_zeta = c_0 + bar_lambda_zeta\n",
    "            lambda_zeta = lambda_\n",
    "            \n",
    "            fva__ += b_gamma_zeta * (c_zeta*b_funded_collat + \\\n",
    "                                     tilde_lambda_zeta*np.maximum(p_zeta-b_funded_collat, 0.) + \\\n",
    "                                     lambda_zeta*np.minimum(p_zeta-b_funded_collat, 0.))\n",
    "            \n",
    "            ######################\n",
    "            ##### K_CCR part #####\n",
    "            ######################\n",
    "            kccr__ += k_*regul_cap.compute_kccr(cp_index, zeta)\n",
    "            \n",
    "            ######################\n",
    "            ##### K_CCR part #####\n",
    "            ######################\n",
    "            kcva__ += k_*regul_cap.compute_kcva(cp_index, zeta)\n",
    "            \n",
    "        results_idio['cva'][cp_index][\"sum\"] += (mult_factor*cva__)\n",
    "        results_idio['cva'][cp_index][\"sum2\"] += (mult_factor*cva__)**2\n",
    "        \n",
    "        results_idio['dva'][cp_index][\"sum\"] += (mult_factor*dva__)\n",
    "        results_idio['dva'][cp_index][\"sum2\"] += (mult_factor*dva__)**2\n",
    "        \n",
    "        results_idio['fva'][cp_index][\"sum\"] += (mult_factor*fva__)\n",
    "        results_idio['fva'][cp_index][\"sum2\"] += (mult_factor*fva__)**2\n",
    "        \n",
    "        results_idio['kva_ccr'][cp_index][\"sum\"] += (mult_factor*kccr__)\n",
    "        results_idio['kva_ccr'][cp_index][\"sum2\"] += (mult_factor*kccr__)**2\n",
    "        \n",
    "        results_idio['kva_cva'][cp_index][\"sum\"] += (mult_factor*kcva__)\n",
    "        results_idio['kva_cva'][cp_index][\"sum2\"] += (mult_factor*kcva__)**2\n",
    "        \n",
    "        cva_ += (mult_factor*cva__)\n",
    "        dva_ += (mult_factor*dva__)\n",
    "        fva_ += (mult_factor*fva__)\n",
    "        kccr_ += (mult_factor*kccr__)\n",
    "        kcva_ += (mult_factor*kcva__)\n",
    "    \n",
    "    results_globs[\"cva\"][\"sum\"] += cva_\n",
    "    results_globs[\"cva\"][\"sum2\"] += cva_**2\n",
    "    \n",
    "    results_globs[\"dva\"][\"sum\"] += dva_\n",
    "    results_globs[\"dva\"][\"sum2\"] += dva_**2\n",
    "    \n",
    "    results_globs[\"fva\"][\"sum\"] += fva_\n",
    "    results_globs[\"fva\"][\"sum2\"] += fva_**2\n",
    "    \n",
    "    results_globs[\"kva_ccr\"][\"sum\"] += kccr_\n",
    "    results_globs[\"kva_ccr\"][\"sum2\"] += kccr_**2\n",
    "    \n",
    "    results_globs[\"kva_cva\"][\"sum\"] += kcva_\n",
    "    results_globs[\"kva_cva\"][\"sum2\"] += kcva_**2\n",
    "                    \n",
    "toc = time.time()"
   ]
  },
  {
   "cell_type": "markdown",
   "metadata": {
    "collapsed": true
   },
   "source": [
    "#Results"
   ]
  },
  {
   "cell_type": "code",
   "execution_count": null,
   "metadata": {
    "collapsed": false
   },
   "outputs": [],
   "source": [
    "print \"Results for %d iterations (%s secs.)\"%(N, toc-tic)\n",
    "print\n",
    "\n",
    "print \"Used discount factor: %s\"%discount\n",
    "print\n",
    "\n",
    "print \"Bank index %i that belongs to the following MO copula subsets:\"%bank_index\n",
    "for idx in bank_subsets_indexes:\n",
    "    print \"- %s with pillars %s and intensity %s\\n\"%([x for x in copula.subsets[idx][0]], copula.pillars[idx], copula.intensities[idx])\n",
    "    \n",
    "print \"Counterparties indexes:\"\n",
    "print counterparties_indexes\n",
    "\n",
    "print \"\\n-----------------------------------------------------\\n\"\n",
    "\n",
    "for idx in counterparties_indexes:\n",
    "    print \"Counterparty index %s belongs to the following MO copula subses:\"%idx\n",
    "    sub_indexes = copula.get_indexes_including(idx)\n",
    "    bank_subsets_indexes\n",
    "    for subset_idx in sub_indexes:\n",
    "        if subset_idx not in bank_subsets_indexes:\n",
    "            print \"- %s with pillars %s and intensity %s\\n\"%([x for x in copula.subsets[subset_idx][0]], copula.pillars[subset_idx], copula.intensities[subset_idx])        \n",
    "    print\n",
    "    \n",
    "print \"\\n-----------------------------------------------------\\n\"\n",
    "    \n",
    "print \"Derivatives:\"\n",
    "for d in [swap]:\n",
    "    print \"- %s\"%d\n",
    "    \n",
    "print \"\\nPositions:\"\n",
    "print port.positions\n",
    "\n",
    "print \"Confidence level used for IM: %.2f\"%quantile_im"
   ]
  },
  {
   "cell_type": "code",
   "execution_count": null,
   "metadata": {
    "collapsed": false
   },
   "outputs": [],
   "source": [
    "from scipy.stats import norm\n",
    "\n",
    "conf_level = 0.95\n",
    "z_level = norm.ppf(0.5*(1+conf_level))\n",
    "\n",
    "print \"Results of the individual xVA:\\n\"\n",
    "keys = results_idio.keys()\n",
    "keys.sort()\n",
    "\n",
    "for k in keys:    \n",
    "    print \"%s:\"%k.upper()\n",
    "    print \"---------------------------\"\n",
    "    v = results_idio[k]\n",
    "    for id_, res_ in v.iteritems():        \n",
    "        mean__ = res_['sum']/N\n",
    "        mod_var__ = (res_['sum2']/N - mean__**2) / (N-1.)\n",
    "        half_inter = z_level*np.sqrt(mod_var__)\n",
    "        print \"Id %s: [%f, %f]\"%(id_, mean__-half_inter, mean__+half_inter)\n",
    "    print"
   ]
  },
  {
   "cell_type": "code",
   "execution_count": null,
   "metadata": {
    "collapsed": false
   },
   "outputs": [],
   "source": [
    "print \"Results of the global xVA:\\n\"\n",
    "keys = results_globs.keys()\n",
    "keys.sort()\n",
    "\n",
    "for k in keys:\n",
    "    mean_ = results_globs[k]['sum']/N\n",
    "    mod_var_ = (results_globs[k]['sum2']/N - mean_**2) / (N-1.)\n",
    "    half_inter = z_level*np.sqrt(mod_var_)\n",
    "    \n",
    "    print \"The %s for the bank lies in [%f, %f]\"%(k.upper(), mean_-half_inter, mean_+half_inter)    "
   ]
  },
  {
   "cell_type": "code",
   "execution_count": null,
   "metadata": {
    "collapsed": true
   },
   "outputs": [],
   "source": [
    "with open('../mc_simulated_data.pkl', 'wb') as f:\n",
    "    dill.dump(to_save, f)"
   ]
  },
  {
   "cell_type": "code",
   "execution_count": null,
   "metadata": {
    "collapsed": true
   },
   "outputs": [],
   "source": []
  }
 ],
 "metadata": {
  "kernelspec": {
   "display_name": "Python 2",
   "language": "python",
   "name": "python2"
  },
  "language_info": {
   "codemirror_mode": {
    "name": "ipython",
    "version": 2
   },
   "file_extension": ".py",
   "mimetype": "text/x-python",
   "name": "python",
   "nbconvert_exporter": "python",
   "pygments_lexer": "ipython2",
   "version": "2.7.9"
  }
 },
 "nbformat": 4,
 "nbformat_minor": 0
}
