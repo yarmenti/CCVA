{
 "cells": [
  {
   "cell_type": "code",
   "execution_count": 1,
   "metadata": {
    "collapsed": true
   },
   "outputs": [],
   "source": [
    "import warnings\n",
    "\n",
    "warnings.filterwarnings(\"error\")"
   ]
  },
  {
   "cell_type": "code",
   "execution_count": 2,
   "metadata": {
    "collapsed": false
   },
   "outputs": [],
   "source": [
    "import sys\n",
    "\n",
    "sys.path.append('../..')"
   ]
  },
  {
   "cell_type": "code",
   "execution_count": 3,
   "metadata": {
    "collapsed": false
   },
   "outputs": [
    {
     "name": "stdout",
     "output_type": "stream",
     "text": [
      "['N', 'credit', 'randomization', 'underlyings']\n"
     ]
    }
   ],
   "source": [
    "import dill\n",
    "\n",
    "loaded_data = None\n",
    "\n",
    "with open('../simulations/data.pkl', 'rb') as f:\n",
    "    loaded_data = dill.load(f)\n",
    "\n",
    "keys = loaded_data.keys()\n",
    "keys.sort()\n",
    "print keys"
   ]
  },
  {
   "cell_type": "code",
   "execution_count": 4,
   "metadata": {
    "collapsed": true
   },
   "outputs": [],
   "source": [
    "# Instead of taking 365 standard days or 252 trading days\n",
    "# in order to get some easy computations for the eqty and df time grids\n",
    "# I chose to take 360 days of tradings\n",
    "\n",
    "step = 1/360.\n",
    "delta = 5*step\n",
    "\n",
    "maturity = loaded_data[\"randomization\"][\"maturity\"]"
   ]
  },
  {
   "cell_type": "markdown",
   "metadata": {},
   "source": [
    "#Discount"
   ]
  },
  {
   "cell_type": "code",
   "execution_count": 5,
   "metadata": {
    "collapsed": true
   },
   "outputs": [],
   "source": [
    "from finance.discountfactor import ConstantRateDiscountFactor \n",
    "\n",
    "r = 0.02\n",
    "discount = ConstantRateDiscountFactor(r)"
   ]
  },
  {
   "cell_type": "markdown",
   "metadata": {},
   "source": [
    "# Underlying"
   ]
  },
  {
   "cell_type": "code",
   "execution_count": 6,
   "metadata": {
    "collapsed": true
   },
   "outputs": [],
   "source": [
    "udlyings = loaded_data[\"underlyings\"]\n",
    "\n",
    "bm = udlyings[0]\n",
    "time_grid = bm.time"
   ]
  },
  {
   "cell_type": "markdown",
   "metadata": {},
   "source": [
    "# Derivative"
   ]
  },
  {
   "cell_type": "code",
   "execution_count": 7,
   "metadata": {
    "collapsed": true
   },
   "outputs": [],
   "source": [
    "derivatives_nb = 1"
   ]
  },
  {
   "cell_type": "code",
   "execution_count": 8,
   "metadata": {
    "collapsed": false
   },
   "outputs": [
    {
     "name": "stdout",
     "output_type": "stream",
     "text": [
      "Swap contract of maturity T = 5 years, over S^0 with strike K = 104.560, paying at {0.00, 0.50, 1.00, 1.50, 2.00, 2.50, 3.00, 3.50, 4.00, 4.50, 5.00}\n",
      "\n",
      "Price swap at t=0 without 1st coupon =  2.2571402976\n"
     ]
    }
   ],
   "source": [
    "from finance.products.european.assetswap import (\n",
    "    SwapContract,\n",
    ")\n",
    "\n",
    "swap_delta = 0.5\n",
    "\n",
    "swap_dates = SwapContract.generate_payment_dates(0, maturity, swap_delta)\n",
    "swap = SwapContract(bm, discount, swap_dates)\n",
    "\n",
    "price_0 = swap.price(0.)\n",
    "\n",
    "print swap\n",
    "print \"\\nPrice swap at t=0 without 1st coupon = \",price_0"
   ]
  },
  {
   "cell_type": "markdown",
   "metadata": {},
   "source": [
    "# Exposure"
   ]
  },
  {
   "cell_type": "code",
   "execution_count": 9,
   "metadata": {
    "collapsed": true
   },
   "outputs": [],
   "source": [
    "from risk.exposures import EuropeanQuantileGeomBrownianExposure\n",
    "\n",
    "quantile_im = 0.70\n",
    "quantile_df = 0.80\n",
    "\n",
    "hist_drift = bm.drifts[0][0]\n",
    "hist_vol = bm.vols[0][0]\n",
    "\n",
    "exposure = EuropeanQuantileGeomBrownianExposure(swap, discount, hist_drift, hist_vol)"
   ]
  },
  {
   "cell_type": "markdown",
   "metadata": {},
   "source": [
    "# Indexes stuffs"
   ]
  },
  {
   "cell_type": "markdown",
   "metadata": {},
   "source": [
    "## Ids of $B$ and $C$"
   ]
  },
  {
   "cell_type": "code",
   "execution_count": 10,
   "metadata": {
    "collapsed": false
   },
   "outputs": [
    {
     "name": "stdout",
     "output_type": "stream",
     "text": [
      "Bank id: 13\n",
      "Counterparties id: [26] (nb = 1)\n"
     ]
    }
   ],
   "source": [
    "copula = loaded_data[\"credit\"][\"copula\"]\n",
    "\n",
    "bc_subsets_indexes = loaded_data[\"credit\"][\"bc_subsets_indexes\"]\n",
    "\n",
    "#bc_ids = [26, 29, 17, 50, 13, 4, 5, 9, 64]\n",
    "#bc_positions = [-0.36, -0.44, 0.69, 0.34, -0.05, 0.23, 0.09, -0.46, -0.04]\n",
    "#Spreads [1053, 367, 176, 73, 61, 56, 52, 45, 108]\n",
    "\n",
    "#bc_ids = [17, 9, 29, 26, 50, 4, 5, 13, 64]\n",
    "#bc_positions = [0.69, -0.46, -0.44, -0.36, 0.34, 0.23, 0.09, -0.05, -0.04]\n",
    "\n",
    "bc_ids = [13, 26]\n",
    "bc_positions = [1, -1]\n",
    "\n",
    "# Bank id\n",
    "b_id = 13\n",
    "\n",
    "# Counterparty id\n",
    "c_ids = list(set(bc_ids) - set([b_id]))\n",
    "\n",
    "print \"Bank id: %s\"%b_id\n",
    "print \"Counterparties id: %s (nb = %s)\"%(c_ids, len(c_ids))"
   ]
  },
  {
   "cell_type": "code",
   "execution_count": 11,
   "metadata": {
    "collapsed": false
   },
   "outputs": [
    {
     "name": "stdout",
     "output_type": "stream",
     "text": [
      "Obligor numbers: 125\n"
     ]
    }
   ],
   "source": [
    "obligors_nb = len(copula.subsets[bc_subsets_indexes[-1]][0])\n",
    "\n",
    "print \"Obligor numbers: %s\"%obligors_nb"
   ]
  },
  {
   "cell_type": "markdown",
   "metadata": {},
   "source": [
    "## Subsets indexes of the copula for $B$ and $C$"
   ]
  },
  {
   "cell_type": "code",
   "execution_count": 12,
   "metadata": {
    "collapsed": false
   },
   "outputs": [
    {
     "name": "stdout",
     "output_type": "stream",
     "text": [
      "Subsets that generated default times: [0, 1, 2, 3, 4, 5, 6, 7, 8, 9, 10, 11, 12, 13, 14, 15, 16, 17, 18, 19, 20, 21, 22, 23, 24, 25, 26, 27, 28, 29, 30, 31, 32, 33, 34, 35, 36, 37, 38, 39, 40, 41, 42, 43, 44, 45, 46, 47, 48, 49, 50, 51, 52, 53, 54, 55, 56, 57, 58, 59, 60, 61, 62, 63, 64, 65, 66, 67, 68, 69, 70, 71, 72, 73, 74, 75, 76, 77, 78, 79, 80, 81, 82, 83, 84, 85, 86, 87, 88, 89, 90, 91, 92, 93, 94, 95, 96, 97, 98, 99, 100, 101, 102, 103, 104, 105, 106, 107, 108, 109, 110, 111, 112, 113, 114, 115, 116, 117, 118, 119, 120, 121, 122, 123, 124, 125, 126, 127, 128, 129]\n",
      "\n",
      "Bank subsets indexes: [13, 128, 129]\n",
      "\n",
      "Counterparties subsets indexes: [26, 125, 126, 127, 128, 129]\n"
     ]
    }
   ],
   "source": [
    "b_subsets_indexes = copula.get_indexes_including(b_id)\n",
    "\n",
    "c_subsets_indexes = []\n",
    "for c_id in c_ids:\n",
    "    tmp = copula.get_indexes_including(c_id)\n",
    "    c_subsets_indexes += tmp\n",
    "    \n",
    "b_subsets_indexes.sort()\n",
    "c_subsets_indexes.sort()\n",
    "    \n",
    "print \"Subsets that generated default times: %s\\n\"%bc_subsets_indexes\n",
    "print \"Bank subsets indexes: %s\\n\"%b_subsets_indexes\n",
    "print \"Counterparties subsets indexes: %s\"%c_subsets_indexes"
   ]
  },
  {
   "cell_type": "markdown",
   "metadata": {},
   "source": [
    "# Portfolio construction"
   ]
  },
  {
   "cell_type": "code",
   "execution_count": 13,
   "metadata": {
    "collapsed": true
   },
   "outputs": [],
   "source": [
    "import numpy as np\n",
    "\n",
    "p_fixed = 1.\n",
    "strike = swap.strike\n",
    "\n",
    "delta_times = swap.delta_time\n",
    "discount_factors = [discount(t) for t in swap.pillars[1:]]\n",
    "\n",
    "delta_beta_sum = np.dot(delta_times, discount_factors)\n",
    "\n",
    "notional = p_fixed / (strike*delta_beta_sum)"
   ]
  },
  {
   "cell_type": "code",
   "execution_count": 14,
   "metadata": {
    "collapsed": false
   },
   "outputs": [
    {
     "name": "stdout",
     "output_type": "stream",
     "text": [
      "[-0. -0. -0. -0. -0. -0. -0. -0. -0. -0. -0. -0. -0. -1. -0. -0. -0. -0.\n",
      " -0. -0. -0. -0. -0. -0. -0. -0.  1. -0. -0. -0. -0. -0. -0. -0. -0. -0.\n",
      " -0. -0. -0. -0. -0. -0. -0. -0. -0. -0. -0. -0. -0. -0. -0. -0. -0. -0.\n",
      " -0. -0. -0. -0. -0. -0. -0. -0. -0. -0. -0. -0. -0. -0. -0. -0. -0. -0.\n",
      " -0. -0. -0. -0. -0. -0. -0. -0. -0. -0. -0. -0. -0. -0. -0. -0. -0. -0.\n",
      " -0. -0. -0. -0. -0. -0. -0. -0. -0. -0. -0. -0. -0. -0. -0. -0. -0. -0.\n",
      " -0. -0. -0. -0. -0. -0. -0. -0. -0. -0. -0. -0. -0. -0. -0. -0. -0.]\n"
     ]
    }
   ],
   "source": [
    "pos = np.zeros(obligors_nb)\n",
    "for idx, ps in zip(bc_ids, bc_positions):\n",
    "    pos[idx] = ps\n",
    "    \n",
    "pos = pos / -pos[b_id]\n",
    "    \n",
    "positions = np.array(pos).reshape(pos.size, 1)\n",
    "\n",
    "print pos"
   ]
  },
  {
   "cell_type": "code",
   "execution_count": 15,
   "metadata": {
    "collapsed": false
   },
   "outputs": [],
   "source": [
    "from finance.portfolio import CCPPortfolio\n",
    "\n",
    "port = CCPPortfolio(positions, [notional], [swap], [exposure])"
   ]
  },
  {
   "cell_type": "markdown",
   "metadata": {},
   "source": [
    "# VM, IM and DF accounts"
   ]
  },
  {
   "cell_type": "code",
   "execution_count": 16,
   "metadata": {
    "collapsed": true
   },
   "outputs": [],
   "source": [
    "from ccp.accounts import Accounts, DFAccounts\n",
    "from ccp.states import MembersState\n",
    "\n",
    "states = MembersState(obligors_nb)\n",
    "vm_accounts = Accounts(states, derivatives_nb)\n",
    "im_accounts = Accounts(states, derivatives_nb)\n",
    "df_accounts = DFAccounts(states, derivatives_nb)"
   ]
  },
  {
   "cell_type": "markdown",
   "metadata": {},
   "source": [
    "# Skin in the game"
   ]
  },
  {
   "cell_type": "code",
   "execution_count": 17,
   "metadata": {
    "collapsed": false
   },
   "outputs": [],
   "source": [
    "from ccp.sig import ConstantSkinInTheGame\n",
    "\n",
    "sig = ConstantSkinInTheGame(0.)"
   ]
  },
  {
   "cell_type": "markdown",
   "metadata": {},
   "source": [
    "# Regulatory capital"
   ]
  },
  {
   "cell_type": "code",
   "execution_count": 18,
   "metadata": {
    "collapsed": false
   },
   "outputs": [],
   "source": [
    "from risk.basel.capital import CCPRegulatoryCapital2014\n",
    "\n",
    "regul_cap = CCPRegulatoryCapital2014(vm_accounts, im_accounts, df_accounts, sig, port)\n",
    "cap_conf_level = 0.85"
   ]
  },
  {
   "cell_type": "markdown",
   "metadata": {},
   "source": [
    "# Funding and capital parameters"
   ]
  },
  {
   "cell_type": "code",
   "execution_count": 19,
   "metadata": {
    "collapsed": true
   },
   "outputs": [],
   "source": [
    "lambda_ = 0.\n",
    "k_ = 0.1\n",
    "c_0 = -.0020"
   ]
  },
  {
   "cell_type": "markdown",
   "metadata": {},
   "source": [
    "# Creation of the different taks"
   ]
  },
  {
   "cell_type": "code",
   "execution_count": 20,
   "metadata": {
    "collapsed": true
   },
   "outputs": [],
   "source": [
    "class ITask(object):\n",
    "    level = None\n",
    "    \n",
    "    def perform(self, **kwargs):\n",
    "        raise NotImplementedError()"
   ]
  },
  {
   "cell_type": "code",
   "execution_count": 21,
   "metadata": {
    "collapsed": true
   },
   "outputs": [],
   "source": [
    "class PutMembersAtDefaultTask(ITask):\n",
    "    level = 1\n",
    "    \n",
    "    def __init__(self, **kwargs):\n",
    "        self.__states = kwargs[\"states\"]\n",
    "        self.potential_defaulters = kwargs[\"defaulters\"]\n",
    "        self.defaulters = []\n",
    "        \n",
    "    def perform(self, **kwargs):\n",
    "        self.__tau = kwargs[\"t\"]\n",
    "        \n",
    "        for i in self.potential_defaulters:\n",
    "            for j in list(i):\n",
    "                if self.__states.is_alive(j):\n",
    "                    self.defaulters.append(j)\n",
    "                    self.__states.die(j)\n",
    "            \n",
    "        self.defaulters.sort()"
   ]
  },
  {
   "cell_type": "code",
   "execution_count": 22,
   "metadata": {
    "collapsed": true
   },
   "outputs": [],
   "source": [
    "class LiquidatePortfolioTask(ITask):\n",
    "    level = 1\n",
    "    \n",
    "    def __init__(self, **kwargs):\n",
    "        self.__cm_index = kwargs[\"bank_index\"]\n",
    "        \n",
    "        self.__default_task = kwargs[\"default_task\"]\n",
    "                \n",
    "        self.__port = kwargs['portfolio']\n",
    "        self.__vm_accounts = kwargs['vm_accounts']\n",
    "        self.__im_accounts = kwargs['im_accounts']\n",
    "        self.__df_accounts = kwargs['df_accounts']\n",
    "                \n",
    "        self.__discount = kwargs[\"discount\"]\n",
    "        self.__sig = kwargs['sig']\n",
    "        \n",
    "        self.results = {}\n",
    "        \n",
    "    def perform(self, **kwargs):\n",
    "        self.__tau_delta = kwargs[\"t\"]\n",
    "        \n",
    "        self.new_defaulters_ids = self.__default_task.defaulters\n",
    "        \n",
    "        p_tau_delta = port.compute_value(self.__tau_delta)[self.new_defaulters_ids, :]\n",
    "        p_tau_delta = np.sum(p_tau_delta, axis=1)\n",
    "        \n",
    "        q_tau_delta = p_tau_delta\n",
    "        \n",
    "        gamma_tau_delta = self.__vm_accounts.amounts + self.__im_accounts.amounts + self.__df_accounts.amounts\n",
    "        gamma_tau_delta = gamma_tau_delta[self.new_defaulters_ids, :]\n",
    "        gamma_tau_delta = np.sum(gamma_tau_delta, axis=1)\n",
    "        \n",
    "        loss_tau_delta = q_tau_delta - gamma_tau_delta\n",
    "        \n",
    "        remain_collat_loss = 0.\n",
    "        for l in loss_tau_delta:\n",
    "            remain_collat_loss += np.maximum(l, 0)\n",
    "            \n",
    "        remaining_loss = self.__sig.handle_breach(remain_collat_loss)\n",
    "        \n",
    "        frac = self.__df_accounts.get_amount(self.__cm_index).sum() / self.__df_accounts.total_default_fund()[0]\n",
    "        \n",
    "        partial_loss = frac*remaining_loss\n",
    "        \n",
    "        tmp_cva = self.__discount(self.__tau_delta) * partial_loss \n",
    "        \n",
    "        self.results[\"cva\"] = tmp_cva"
   ]
  },
  {
   "cell_type": "code",
   "execution_count": 23,
   "metadata": {
    "collapsed": true
   },
   "outputs": [],
   "source": [
    "class FillVMandIMTask(ITask):\n",
    "    level = 0\n",
    "    \n",
    "    def __init__(self, **kwargs):\n",
    "        self._delta = kwargs[\"delta\"]\n",
    "        \n",
    "        self._port = kwargs['portfolio']        \n",
    "        self._vm_accounts = kwargs['vm_accounts']\n",
    "        self._im_accounts = kwargs['im_accounts']\n",
    "        \n",
    "        self._quantile_im = kwargs['quantile_im']\n",
    "        \n",
    "        self._zeros = np.zeros(self._port.derivatives.size)\n",
    "        self._zeros.fill(1e-9)\n",
    "        \n",
    "    def perform(self, **kwargs):\n",
    "        self._tau_minus = kwargs[\"t\"]\n",
    "        \n",
    "        #############\n",
    "        ## VM part ##\n",
    "        #############        \n",
    "        p_tau_minus = self._port.compute_value(self._tau_minus)\n",
    "        \n",
    "        for ii, p_and_l in enumerate(p_tau_minus):\n",
    "            self._vm_accounts.put_amounts(ii, p_and_l)\n",
    "        \n",
    "        #############\n",
    "        ## IM part ##\n",
    "        #############        \n",
    "        exposures = self._port.compute_exposure(self._tau_minus, risk_period=self._delta, conf_level=self._quantile_im)\n",
    "        for ii, ee in enumerate(exposures):\n",
    "            self._im_accounts.put_amounts(ii, np.maximum(ee, self._zeros).tolist())"
   ]
  },
  {
   "cell_type": "code",
   "execution_count": 24,
   "metadata": {
    "collapsed": true
   },
   "outputs": [],
   "source": [
    "class FillIMVMandDFTask(FillVMandIMTask):\n",
    "    def __init__(self, **kwargs):\n",
    "        super(FillIMVMandDFTask, self).__init__(**kwargs)\n",
    "        self._df_accounts = kwargs['df_accounts']        \n",
    "        self._quantile_df = kwargs['quantile_df']\n",
    "        \n",
    "    def perform(self, **kwargs):\n",
    "        super(FillIMVMandDFTask, self).perform(**kwargs)\n",
    "        self._t = kwargs[\"t\"]\n",
    "        \n",
    "        exposures = self._port.compute_exposure(self._t, risk_period=self._delta, conf_level=self._quantile_df)\n",
    "        for ii, (ee, im) in enumerate(zip(exposures, self._im_accounts.amounts)):\n",
    "            self._df_accounts.put_amounts(ii, np.maximum(ee - im, self._zeros).tolist())"
   ]
  },
  {
   "cell_type": "code",
   "execution_count": 25,
   "metadata": {
    "collapsed": true
   },
   "outputs": [],
   "source": [
    "class ReFillSigTask(ITask):\n",
    "    level = 0\n",
    "    \n",
    "    def __init__(self, **kwargs):\n",
    "        self.__sig = kwargs['sig']\n",
    "        \n",
    "        self.__regul_cap = kwargs['regul_capital']\n",
    "        self.__cap_conf_level = kwargs['cap_conf_level']\n",
    "        \n",
    "        self.__delta = kwargs['delta']\n",
    "        self.__port = kwargs['portfolio']\n",
    "        \n",
    "        self.__collat_task = FillIMVMandDFTask(delta=self.__delta, portfolio=self.__port,\n",
    "                                               vm_accounts=kwargs['vm_accounts'],\n",
    "                                               im_accounts=kwargs['im_accounts'], \n",
    "                                               quantile_im=kwargs['quantile_im'],\n",
    "                                               df_accounts=kwargs['df_accounts'], \n",
    "                                               quantile_df=kwargs['quantile_df'])\n",
    "    \n",
    "    def perform(self, **kwargs):\n",
    "        t = kwargs[\"t\"]        \n",
    "        \n",
    "        self.__collat_task.perform(t=t)\n",
    "        \n",
    "        if t == 0.:\n",
    "            self.__sig.recover()\n",
    "        else:\n",
    "            cap_losses = self.__port.compute_exposure(t, risk_period=self.__delta, conf_level=self.__cap_conf_level)\n",
    "            \n",
    "            self.__sig.update_value(t, \n",
    "                                    regul_capital=self.__regul_cap, \n",
    "                                    losses=cap_losses, use_vm=False)"
   ]
  },
  {
   "cell_type": "code",
   "execution_count": 26,
   "metadata": {
    "collapsed": true
   },
   "outputs": [],
   "source": [
    "class ComputeDFKVATask(ITask):\n",
    "    level = 1\n",
    "    \n",
    "    def __init__(self, **kwargs):        \n",
    "        self.__cm_index = kwargs[\"bank_index\"]\n",
    "        \n",
    "        self.__delta = kwargs[\"delta\"]\n",
    "        self.__exp_distrib = kwargs[\"exp_distrib\"]\n",
    "        \n",
    "        self.__copula = kwargs[\"copula\"]\n",
    "        self.__cm_subset_indexes = kwargs[\"bank_subsets_indexes\"]\n",
    "        \n",
    "        self.__port = kwargs['portfolio']        \n",
    "        self.__time_grid = self.__port.derivatives[0].underlying.time\n",
    "        \n",
    "        self.__vm_accounts = kwargs['vm_accounts']\n",
    "        self.__im_accounts = kwargs['im_accounts']\n",
    "        self.__df_accounts = kwargs['df_accounts']\n",
    "        \n",
    "        self.__discount = kwargs[\"discount\"]\n",
    "        \n",
    "        self.__regul_cap = kwargs['regul_capital']\n",
    "        self.__cap_conf_level = kwargs['cap_conf_level']\n",
    "        \n",
    "        self.__c_zeta = kwargs[\"c_zeta\"]\n",
    "        self.__lambda_zeta = kwargs[\"lambda_zeta\"]\n",
    "        self.__k_zeta = kwargs[\"k_zeta\"]\n",
    "        \n",
    "        self.__collat_task = FillIMVMandDFTask(delta=delta, portfolio=self.__port,\n",
    "                                               vm_accounts=self.__vm_accounts,\n",
    "                                               im_accounts=self.__im_accounts, \n",
    "                                               quantile_im=kwargs['quantile_im'],\n",
    "                                               df_accounts=self.__df_accounts, \n",
    "                                               quantile_df=kwargs['quantile_df'])\n",
    "        \n",
    "        self.results = {}\n",
    "    \n",
    "    def perform(self, **kwargs):\n",
    "        self.__zeta = kwargs[\"t\"]\n",
    "        self.__zeta_delta = time_offseter(self.__zeta+self.__delta, self.__time_grid, True) \n",
    "        \n",
    "        inv_pdf = 1./self.__exp_distrib.pdf(zeta)\n",
    "        \n",
    "        beta_zeta = self.__discount(self.__zeta)\n",
    "        \n",
    "        self.__collat_task.perform(t=self.__zeta)\n",
    "        \n",
    "        ################\n",
    "        ### DVA part ###\n",
    "        ################        \n",
    "        p_zeta_delta = port.compute_value(self.__zeta_delta)\n",
    "        q_zeta_delta = p_zeta_delta\n",
    "        collateral = self.__vm_accounts.amounts + self.__im_accounts.amounts + self.__df_accounts.amounts        \n",
    "        \n",
    "        q_zeta_delta = q_zeta_delta[self.__cm_index].sum()\n",
    "        collateral = collateral[self.__cm_index].sum()\n",
    "        \n",
    "        loss = np.maximum(q_zeta_delta - collateral, 0.)\n",
    "        \n",
    "        gamma_zeta = self.__copula.tot_gamma(self.__zeta, subsets_indexes=self.__cm_subset_indexes)\n",
    "        \n",
    "        self.results[\"dva\"] = inv_pdf*self.__discount(self.__zeta_delta)*gamma_zeta*loss\n",
    "        \n",
    "        ################\n",
    "        ### FVA part ###\n",
    "        ################\n",
    "        p_zeta = port.compute_value(self.__zeta)\n",
    "        fund = p_zeta[self.__cm_index].sum() - collateral\n",
    "        \n",
    "        bar_lambda_zeta = gamma_zeta * 0.6\n",
    "        \n",
    "        tmp_fva = -self.__c_zeta * (-fund)\n",
    "        tmp_fva += -bar_lambda_zeta * np.minimum(fund, 0.)\n",
    "        tmp_fva += -self.__lambda_zeta * np.maximum(fund, 0.)\n",
    "        \n",
    "        self.results[\"fva\"] = inv_pdf*beta_zeta*tmp_fva\n",
    "        \n",
    "        ################\n",
    "        ### KVA part ###\n",
    "        ################\n",
    "        cap_losses = self.__port.compute_exposure(self.__zeta, risk_period=self.__delta, conf_level=self.__cap_conf_level)\n",
    "        kva = self.__regul_cap.compute_kcm(self.__cm_index, self.__zeta, losses=cap_losses, use_vm=False)\n",
    "        \n",
    "        self.results[\"kva\"] = inv_pdf*self.__k_zeta*beta_zeta*kva"
   ]
  },
  {
   "cell_type": "code",
   "execution_count": 27,
   "metadata": {
    "collapsed": true
   },
   "outputs": [],
   "source": [
    "def merge_dict(actual_dict, to_add):\n",
    "    for k, v in to_add.iteritems():\n",
    "        if k not in actual_dict:\n",
    "            actual_dict[k] = []\n",
    "            \n",
    "        actual_dict[k].append(v)\n",
    "        \n",
    "def sort_tasks_dict(a_dict):\n",
    "    for k, v in a_dict.iteritems():\n",
    "        v.sort(key=lambda x: x.level)"
   ]
  },
  {
   "cell_type": "markdown",
   "metadata": {},
   "source": [
    "#MC loop"
   ]
  },
  {
   "cell_type": "code",
   "execution_count": 28,
   "metadata": {
    "collapsed": true
   },
   "outputs": [],
   "source": [
    "from utils import time_offseter"
   ]
  },
  {
   "cell_type": "code",
   "execution_count": 29,
   "metadata": {
    "collapsed": true
   },
   "outputs": [],
   "source": [
    "N = loaded_data[\"N\"]\n",
    "N = 10000"
   ]
  },
  {
   "cell_type": "code",
   "execution_count": 30,
   "metadata": {
    "collapsed": true
   },
   "outputs": [],
   "source": [
    "results_globs = {\"cva\": {\"sum\": 0., \"sum2\": 0.},\n",
    "                 \"dva\": {\"sum\": 0., \"sum2\": 0.},\n",
    "                 \"fva\": {\"sum\": 0., \"sum2\": 0.},\n",
    "                 \"kva\": {\"sum\": 0., \"sum2\": 0.}}"
   ]
  },
  {
   "cell_type": "code",
   "execution_count": 31,
   "metadata": {
    "collapsed": true
   },
   "outputs": [],
   "source": [
    "from scipy.stats import expon\n",
    "\n",
    "exp_distrib_params = loaded_data[\"randomization\"][\"distrib\"]\n",
    "exp_distrib = expon(loc=exp_distrib_params[\"loc\"], scale=exp_distrib_params[\"scale\"])\n",
    "\n",
    "zetas = loaded_data[\"randomization\"][\"zetas\"]\n",
    "default_times_mat = loaded_data[\"credit\"][\"default_times\"]"
   ]
  },
  {
   "cell_type": "code",
   "execution_count": 32,
   "metadata": {
    "collapsed": true
   },
   "outputs": [],
   "source": [
    "sig_time_grid = [t for t in time_grid if t.is_integer()]\n",
    "df_time_grid = [t for t in time_grid if (12*t).is_integer()]"
   ]
  },
  {
   "cell_type": "code",
   "execution_count": 33,
   "metadata": {
    "collapsed": false
   },
   "outputs": [],
   "source": [
    "import time\n",
    "\n",
    "tic = time.time()\n",
    "\n",
    "b_df_times_indexes = [ii for ii, ind in enumerate(bc_subsets_indexes) if ind in b_subsets_indexes]\n",
    "\n",
    "for i in range(N):\n",
    "    # Resurrecting the states\n",
    "    # resets to 0. the values\n",
    "    # of the VMs and IMs\n",
    "    states.resurrect_all()\n",
    "    \n",
    "    zeta = zetas[i]\n",
    "    \n",
    "    # We set the simulated underlying here\n",
    "    # that has the all time grid with\n",
    "    # mpor = 1./360\n",
    "    swap.underlying = udlyings[i]\n",
    "    \n",
    "    default_times = default_times_mat[i]\n",
    "    b_min_df_time = default_times[b_df_times_indexes].min()\n",
    "    bar_tau = min(b_min_df_time, maturity)\n",
    "    \n",
    "    df_times_dict = {\n",
    "        t: PutMembersAtDefaultTask(states=states, defaulters=copula.subsets[bc_subsets_indexes[j]])\n",
    "        for j, t in enumerate(default_times) if t < bar_tau\n",
    "    }\n",
    "    \n",
    "    liq_times_dict = {\n",
    "        time_offseter(t+delta, time_grid): \n",
    "        LiquidatePortfolioTask(bank_index=b_id, default_task=task, \n",
    "                               portfolio=port, discount=discount, sig=sig,\n",
    "                               vm_accounts=vm_accounts, im_accounts=im_accounts, \n",
    "                               df_accounts=df_accounts)\n",
    "        for t, task in df_times_dict.iteritems() if t+delta < bar_tau        \n",
    "    }\n",
    "    \n",
    "    tau_minus_times_dict = {\n",
    "        time_offseter(t-delta, time_grid, True):\n",
    "        FillVMandIMTask(delta=delta, portfolio=port, \n",
    "                        vm_accounts=vm_accounts, im_accounts=im_accounts,\n",
    "                        quantile_im=quantile_im)        \n",
    "        for t in df_times_dict.keys()\n",
    "    }\n",
    "    \n",
    "    dfund_times = [time_offseter(t, df_time_grid, True) for t in df_times_dict.keys()]    \n",
    "    dfund_times_dict = {\n",
    "        t: FillIMVMandDFTask(delta=delta, portfolio=port, \n",
    "                             vm_accounts=vm_accounts, \n",
    "                             im_accounts=im_accounts, quantile_im=quantile_im,\n",
    "                             df_accounts=df_accounts, quantile_df=quantile_df)\n",
    "        for t in dfund_times\n",
    "    }\n",
    "\n",
    "    sig_times = {\n",
    "        t: ReFillSigTask(delta=delta, portfolio=port, \n",
    "                         vm_accounts=vm_accounts, \n",
    "                         im_accounts=im_accounts, quantile_im=quantile_im,\n",
    "                         df_accounts=df_accounts, quantile_df=quantile_df,\n",
    "                         sig=sig, regul_capital=regul_cap, \n",
    "                         cap_conf_level=cap_conf_level)\n",
    "        for t in sig_time_grid if t < zeta\n",
    "    }\n",
    "\n",
    "    dfkva_time = {\n",
    "        t: ComputeDFKVATask(bank_index=b_id, exp_distrib=exp_distrib, \n",
    "                            copula=copula, portfolio=port, delta=delta,\n",
    "                            bank_subsets_indexes=b_subsets_indexes,\n",
    "                            vm_accounts=vm_accounts, \n",
    "                            im_accounts=im_accounts, quantile_im=quantile_im,\n",
    "                            df_accounts=df_accounts, quantile_df=quantile_df,\n",
    "                            discount=discount, \n",
    "                            regul_capital=regul_cap, cap_conf_level=cap_conf_level, \n",
    "                            c_zeta=c_0, \n",
    "                            lambda_zeta=lambda_, k_zeta=k_)\n",
    "        for t in [zeta] if zeta <= bar_tau\n",
    "    }\n",
    "    \n",
    "    current_times_dict = dict()\n",
    "    all_dicts = [df_times_dict, liq_times_dict, tau_minus_times_dict, \\\n",
    "                 dfund_times_dict, sig_times, dfkva_time]\n",
    "    \n",
    "    for dd in all_dicts:\n",
    "        merge_dict(current_times_dict, dd)\n",
    "    \n",
    "    sort_tasks_dict(current_times_dict)\n",
    "    \n",
    "    current_times = current_times_dict.keys()\n",
    "    current_times.sort()\n",
    "    \n",
    "    for t in current_times:\n",
    "        tasks = current_times_dict[t]\n",
    "        for task in tasks:\n",
    "            task.perform(t=t)\n",
    "        \n",
    "    cva_, dva_, fva_, kva_ = [0. for _ in range(4)]\n",
    "    for k, v in liq_times_dict.iteritems():\n",
    "        cva_ += v.results[\"cva\"]\n",
    "        \n",
    "    results_globs[\"cva\"][\"sum\"] += cva_\n",
    "    results_globs[\"cva\"][\"sum2\"] += cva_**2\n",
    "    \n",
    "    for k, v in dfkva_time.iteritems():\n",
    "        dva_ += v.results[\"dva\"]\n",
    "        fva_ += v.results[\"fva\"]\n",
    "        kva_ += v.results[\"kva\"]\n",
    "        \n",
    "    results_globs[\"dva\"][\"sum\"] += dva_\n",
    "    results_globs[\"dva\"][\"sum2\"] += dva_**2\n",
    "    \n",
    "    results_globs[\"fva\"][\"sum\"] += fva_\n",
    "    results_globs[\"fva\"][\"sum2\"] += fva_**2\n",
    "    \n",
    "    results_globs[\"kva\"][\"sum\"] += kva_\n",
    "    results_globs[\"kva\"][\"sum2\"] += kva_**2\n",
    "    \n",
    "toc = time.time()"
   ]
  },
  {
   "cell_type": "markdown",
   "metadata": {},
   "source": [
    "#Results"
   ]
  },
  {
   "cell_type": "code",
   "execution_count": 34,
   "metadata": {
    "collapsed": false
   },
   "outputs": [
    {
     "name": "stdout",
     "output_type": "stream",
     "text": [
      "Results for 10000 iterations (347.212000132 secs.)\n",
      "\n",
      "Used discount factor: Constant discount factor process with rate r = 0.02\n",
      "\n",
      "Bank index 13 that belongs to the following MO copula subsets:\n",
      "- [13] with pillars [3 5] and intensity [ 0.0067907   0.01187502]\n",
      "\n",
      "- [0, 3, 4, 5, 9, 13, 17, 24, 25, 26, 27, 28, 29, 30, 31, 33, 36, 37, 38, 43, 45, 47, 50, 52, 55, 56, 57, 61, 64, 66, 70, 71, 72, 73, 75, 76, 78, 80, 81, 82, 83, 86, 87, 89, 90, 98, 99, 100, 103, 104, 107, 111, 112, 113, 114, 116, 118, 119, 120, 122, 124] with pillars [3 5] and intensity [  2.01650000e-04   9.33720000e-05]\n",
      "\n",
      "- [0, 1, 2, 3, 4, 5, 6, 7, 8, 9, 10, 11, 12, 13, 14, 15, 16, 17, 18, 19, 20, 21, 22, 23, 24, 25, 26, 27, 28, 29, 30, 31, 32, 33, 34, 35, 36, 37, 38, 39, 40, 41, 42, 43, 44, 45, 46, 47, 48, 49, 50, 51, 52, 53, 54, 55, 56, 57, 58, 59, 60, 61, 62, 63, 64, 65, 66, 67, 68, 69, 70, 71, 72, 73, 74, 75, 76, 77, 78, 79, 80, 81, 82, 83, 84, 85, 86, 87, 88, 89, 90, 91, 92, 93, 94, 95, 96, 97, 98, 99, 100, 101, 102, 103, 104, 105, 106, 107, 108, 109, 110, 111, 112, 113, 114, 115, 116, 117, 118, 119, 120, 121, 122, 123, 124] with pillars [3 5] and intensity [ 0.0016207  0.0076647]\n",
      "\n",
      "Counterparties indexes:\n",
      "[26]\n",
      "\n",
      "-----------------------------------------------------\n",
      "\n",
      "Counterparty index 26 belongs to the following MO copula subses:\n",
      "- [26] with pillars [3 5] and intensity [ 0.13875825  0.01154767]\n",
      "\n",
      "- [98, 99, 38, 104, 75, 26] with pillars [3 5] and intensity [ 0.058     0.015925]\n",
      "\n",
      "- [64, 98, 99, 38, 70, 71, 104, 75, 76, 81, 78, 111, 17, 83, 120, 26, 124, 29, 31] with pillars [3 5] and intensity [ 0.0053745  0.0050889]\n",
      "\n",
      "- [17, 26, 29, 31, 38, 50, 55, 64, 66, 70, 71, 75, 76, 78, 81, 83, 98, 99, 103, 104, 107, 111, 120, 122, 124] with pillars [3 5] and intensity [ 0.0006145  0.0086692]\n",
      "\n",
      "- [0, 3, 4, 5, 9, 13, 17, 24, 25, 26, 27, 28, 29, 30, 31, 33, 36, 37, 38, 43, 45, 47, 50, 52, 55, 56, 57, 61, 64, 66, 70, 71, 72, 73, 75, 76, 78, 80, 81, 82, 83, 86, 87, 89, 90, 98, 99, 100, 103, 104, 107, 111, 112, 113, 114, 116, 118, 119, 120, 122, 124] with pillars [3 5] and intensity [  2.01650000e-04   9.33720000e-05]\n",
      "\n",
      "- [0, 1, 2, 3, 4, 5, 6, 7, 8, 9, 10, 11, 12, 13, 14, 15, 16, 17, 18, 19, 20, 21, 22, 23, 24, 25, 26, 27, 28, 29, 30, 31, 32, 33, 34, 35, 36, 37, 38, 39, 40, 41, 42, 43, 44, 45, 46, 47, 48, 49, 50, 51, 52, 53, 54, 55, 56, 57, 58, 59, 60, 61, 62, 63, 64, 65, 66, 67, 68, 69, 70, 71, 72, 73, 74, 75, 76, 77, 78, 79, 80, 81, 82, 83, 84, 85, 86, 87, 88, 89, 90, 91, 92, 93, 94, 95, 96, 97, 98, 99, 100, 101, 102, 103, 104, 105, 106, 107, 108, 109, 110, 111, 112, 113, 114, 115, 116, 117, 118, 119, 120, 121, 122, 123, 124] with pillars [3 5] and intensity [ 0.0016207  0.0076647]\n",
      "\n",
      "\n",
      "\n",
      "-----------------------------------------------------\n",
      "\n",
      "Derivatives:\n",
      "- Swap contract of maturity T = 5 years, over S^0 with strike K = 104.560, paying at {0.00, 0.50, 1.00, 1.50, 2.00, 2.50, 3.00, 3.50, 4.00, 4.50, 5.00}\n",
      "\n",
      "Positions:\n",
      "[[ 0.]\n",
      " [ 0.]\n",
      " [ 0.]\n",
      " [ 0.]\n",
      " [ 0.]\n",
      " [ 0.]\n",
      " [ 0.]\n",
      " [ 0.]\n",
      " [ 0.]\n",
      " [ 0.]\n",
      " [ 0.]\n",
      " [ 0.]\n",
      " [ 0.]\n",
      " [ 1.]\n",
      " [ 0.]\n",
      " [ 0.]\n",
      " [ 0.]\n",
      " [ 0.]\n",
      " [ 0.]\n",
      " [ 0.]\n",
      " [ 0.]\n",
      " [ 0.]\n",
      " [ 0.]\n",
      " [ 0.]\n",
      " [ 0.]\n",
      " [ 0.]\n",
      " [-1.]\n",
      " [ 0.]\n",
      " [ 0.]\n",
      " [ 0.]\n",
      " [ 0.]\n",
      " [ 0.]\n",
      " [ 0.]\n",
      " [ 0.]\n",
      " [ 0.]\n",
      " [ 0.]\n",
      " [ 0.]\n",
      " [ 0.]\n",
      " [ 0.]\n",
      " [ 0.]\n",
      " [ 0.]\n",
      " [ 0.]\n",
      " [ 0.]\n",
      " [ 0.]\n",
      " [ 0.]\n",
      " [ 0.]\n",
      " [ 0.]\n",
      " [ 0.]\n",
      " [ 0.]\n",
      " [ 0.]\n",
      " [ 0.]\n",
      " [ 0.]\n",
      " [ 0.]\n",
      " [ 0.]\n",
      " [ 0.]\n",
      " [ 0.]\n",
      " [ 0.]\n",
      " [ 0.]\n",
      " [ 0.]\n",
      " [ 0.]\n",
      " [ 0.]\n",
      " [ 0.]\n",
      " [ 0.]\n",
      " [ 0.]\n",
      " [ 0.]\n",
      " [ 0.]\n",
      " [ 0.]\n",
      " [ 0.]\n",
      " [ 0.]\n",
      " [ 0.]\n",
      " [ 0.]\n",
      " [ 0.]\n",
      " [ 0.]\n",
      " [ 0.]\n",
      " [ 0.]\n",
      " [ 0.]\n",
      " [ 0.]\n",
      " [ 0.]\n",
      " [ 0.]\n",
      " [ 0.]\n",
      " [ 0.]\n",
      " [ 0.]\n",
      " [ 0.]\n",
      " [ 0.]\n",
      " [ 0.]\n",
      " [ 0.]\n",
      " [ 0.]\n",
      " [ 0.]\n",
      " [ 0.]\n",
      " [ 0.]\n",
      " [ 0.]\n",
      " [ 0.]\n",
      " [ 0.]\n",
      " [ 0.]\n",
      " [ 0.]\n",
      " [ 0.]\n",
      " [ 0.]\n",
      " [ 0.]\n",
      " [ 0.]\n",
      " [ 0.]\n",
      " [ 0.]\n",
      " [ 0.]\n",
      " [ 0.]\n",
      " [ 0.]\n",
      " [ 0.]\n",
      " [ 0.]\n",
      " [ 0.]\n",
      " [ 0.]\n",
      " [ 0.]\n",
      " [ 0.]\n",
      " [ 0.]\n",
      " [ 0.]\n",
      " [ 0.]\n",
      " [ 0.]\n",
      " [ 0.]\n",
      " [ 0.]\n",
      " [ 0.]\n",
      " [ 0.]\n",
      " [ 0.]\n",
      " [ 0.]\n",
      " [ 0.]\n",
      " [ 0.]\n",
      " [ 0.]\n",
      " [ 0.]\n",
      " [ 0.]]\n",
      "\n",
      "Confidence level used for VM+IM: 0.70\n",
      "Confidence level used for VM+IM+DF: 0.80\n"
     ]
    }
   ],
   "source": [
    "print \"Results for %d iterations (%s secs.)\"%(N, toc-tic)\n",
    "print\n",
    "\n",
    "print \"Used discount factor: %s\"%discount\n",
    "print\n",
    "\n",
    "print \"Bank index %i that belongs to the following MO copula subsets:\"%b_id\n",
    "for idx in b_subsets_indexes:\n",
    "    print \"- %s with pillars %s and intensity %s\\n\"%([x for x in copula.subsets[idx][0]], \\\n",
    "                                                     copula.pillars[idx], copula.intensities[idx])\n",
    "    \n",
    "print \"Counterparties indexes:\"\n",
    "print c_ids\n",
    "\n",
    "print \"\\n-----------------------------------------------------\\n\"\n",
    "\n",
    "for idx in c_ids:\n",
    "    print \"Counterparty index %s belongs to the following MO copula subses:\"%idx\n",
    "    sub_indexes = copula.get_indexes_including(idx)\n",
    "    for subset_idx in sub_indexes:\n",
    "        print \"- %s with pillars %s and intensity %s\\n\"%([x for x in copula.subsets[subset_idx][0]], \\\n",
    "                                                         copula.pillars[subset_idx], copula.intensities[subset_idx])        \n",
    "    print\n",
    "    \n",
    "print \"\\n-----------------------------------------------------\\n\"\n",
    "    \n",
    "print \"Derivatives:\"\n",
    "for d in [swap]:\n",
    "    print \"- %s\"%d\n",
    "    \n",
    "print \"\\nPositions:\"\n",
    "print port.positions\n",
    "\n",
    "print \"\\nConfidence level used for VM+IM: %.2f\"%quantile_im\n",
    "print \"Confidence level used for VM+IM+DF: %.2f\"%quantile_df"
   ]
  },
  {
   "cell_type": "code",
   "execution_count": 35,
   "metadata": {
    "collapsed": false
   },
   "outputs": [
    {
     "name": "stdout",
     "output_type": "stream",
     "text": [
      "Results of the global xVA:\n",
      "\n",
      "The CVA for the bank lies in [0.001896, 0.002195]\n",
      "The DVA for the bank lies in [0.000068, 0.000079]\n",
      "The FVA for the bank lies in [0.000444, 0.000457]\n",
      "The KVA for the bank lies in [0.000019, 0.000020]\n"
     ]
    }
   ],
   "source": [
    "from scipy.stats import norm\n",
    "\n",
    "conf_level = 0.95\n",
    "z_level = norm.ppf(0.5*(1+conf_level))\n",
    "\n",
    "print \"Results of the global xVA:\\n\"\n",
    "keys = results_globs.keys()\n",
    "keys.sort()\n",
    "\n",
    "excel_results = dict()\n",
    "\n",
    "for k in keys:\n",
    "    mean_ = results_globs[k]['sum']/N \n",
    "    mod_var_ = (results_globs[k]['sum2']/N - mean_**2) / (N-1.)\n",
    "    half_inter = z_level*np.sqrt(mod_var_)\n",
    "    \n",
    "    excel_results[k.upper()] = \"%s \\t %s\"%(mean_, half_inter / mean_)\n",
    "    \n",
    "    print \"The %s for the bank lies in [%f, %f]\"%(k.upper(), mean_-half_inter, mean_+half_inter)"
   ]
  },
  {
   "cell_type": "code",
   "execution_count": 36,
   "metadata": {
    "collapsed": false
   },
   "outputs": [],
   "source": [
    "file_ = open('../CCP 1vs1.txt', 'a')\n",
    "\n",
    "file_.write(\"%s vs %s\\n\"%(b_id, c_ids[0]))\n",
    "\n",
    "keys = excel_results.keys()\n",
    "keys.sort()\n",
    "\n",
    "for k in keys:\n",
    "    file_.write(\"%s \\t %s\\n\"%(k, excel_results[k]))\n",
    "    \n",
    "file_.write(\"\\n\")\n",
    "file_.close()"
   ]
  }
 ],
 "metadata": {
  "kernelspec": {
   "display_name": "Python 2",
   "language": "python",
   "name": "python2"
  },
  "language_info": {
   "codemirror_mode": {
    "name": "ipython",
    "version": 2
   },
   "file_extension": ".py",
   "mimetype": "text/x-python",
   "name": "python",
   "nbconvert_exporter": "python",
   "pygments_lexer": "ipython2",
   "version": "2.7.9"
  }
 },
 "nbformat": 4,
 "nbformat_minor": 0
}
