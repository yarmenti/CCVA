{
 "cells": [
  {
   "cell_type": "markdown",
   "metadata": {},
   "source": [
    "# Formulation of the CCVA (reduced)"
   ]
  },
  {
   "cell_type": "markdown",
   "metadata": {},
   "source": [
    "In that notebook, we will implement the computation of the first-order approximation of the defined CCVA written in the paper of Armenti and Crépey.\n",
    "\n",
    "Remind the first-order approximation formula of the reduced form:\n",
    "\n",
    "\\begin{align*}\n",
    "\\Theta_0^1 \\approx& \\, \\mathbb{E} \\left[ \n",
    "\\sum_{\\substack{\n",
    "s = \\tilde{\\tau}_{\\tilde{Z}} + \\delta\\\\\n",
    "0 \\, < s \\, \\leq \\bar{T}\n",
    "}}\n",
    "\\alpha_s \\tilde{\\epsilon}_{(s)}\n",
    "+ \\int_{0}^{\\bar{T}} \\alpha_s \\tilde{f}_s ds\n",
    "\\right] \\\\\n",
    "=& \\, \\mathbb{E} \\left[ \n",
    "\\sum_{\\substack{\n",
    "s = \\tilde{\\tau}_{\\tilde{Z}} + \\delta\\\\\n",
    "0 \\, < s \\, \\leq \\bar{T}\n",
    "}}\n",
    "\\alpha_s \\tilde{\\epsilon}_{(s)} \\right] + \n",
    "\\mathbb{E} \\left( 1_{\\zeta_1 \\leq \\bar{T}} \\frac{1}{\\lambda e^{-\\lambda \\zeta_1}} \\alpha_{\\zeta_1} \\tilde{f}_{\\zeta_1} \\right)\n",
    "\\end{align*}"
   ]
  },
  {
   "cell_type": "markdown",
   "metadata": {},
   "source": [
    "with the following notations:\n",
    "\n",
    "- $0$ will denote hereafter the member index we are analyzing"
   ]
  },
  {
   "cell_type": "markdown",
   "metadata": {},
   "source": [
    "- $\\bar{T}$ the maturity of the portfolio (maturity of the last derivative in the portfolio), relevant for the CCP\n",
    "- $\\tau_\\tilde{Z}$ the default time of the subset $\\tilde{Z} \\in \\mathcal{Z}^*$ of obligors excluding $0$\n",
    "- $\\delta$ the cure period (period between a default time and the liquidation of the defaulted position, in centrally clearing usually 2~5 days)\n",
    "- $\\tilde{t}$ the closest greater $t^*$ in the liquidation time grid such that $t \\leq t^*$\n",
    "- $\\zeta_1 \\sim \\mathcal E(\\mu_1), \\, \\mu_1 = \\frac{2}{T}$, the introduced random time to break the initial integral"
   ]
  },
  {
   "cell_type": "markdown",
   "metadata": {},
   "source": [
    "- $\\beta_t$ the discount factor at time $t$, $\\beta_t = e^{-\\int_0^t r_s ds}$\n",
    "- $\\mathcal{Y}_{\\bullet}$ the set of all subsets impacting $0$\n",
    "- $\\tilde{\\gamma}_t$ the intensity at time $t$ of $0$, $\\left(\\text{i.e. } \\tilde{\\gamma}_t = \\sum_{Y \\in \\mathcal{Y}_{\\bullet}} \\gamma_t^Y \\right)$\n",
    "- $\\alpha_t = \\beta_t e^{-\\int_0^t \\tilde{\\gamma}_s ds}$"
   ]
  },
  {
   "cell_type": "markdown",
   "metadata": {},
   "source": [
    "- $\\tilde{f}_{t}$ the F-K-VA function defined by:\n",
    "\n",
    "\\begin{align*}\n",
    "\\tilde{f}_t = &-& c_t \\Gamma_t + \\tilde{\\lambda}_t (P_t - \\Gamma_t)^- - \\lambda_t (P_t - \\Gamma_t)^+\\\\\n",
    "&+& k_t K_t^{CM}\n",
    "\\end{align*}\n",
    "\n",
    "with:"
   ]
  },
  {
   "cell_type": "markdown",
   "metadata": {},
   "source": [
    "- $P_t = \\beta_t^{-1} \\mathbb{E}_t \\left( \\int_{t}^T \\beta_s dDs \\right)$ the price of the portfolio at time $t$ from the CCP towards $0$"
   ]
  },
  {
   "cell_type": "markdown",
   "metadata": {},
   "source": [
    "- $r_t+c_t$ is the remuneration rate of the collateral\n",
    "- $r_t+\\lambda_t$ is the investment rate of the bank\n",
    "- $r_t+\\bar{\\lambda}_t$ is the unsecure funding rate of the bank\n",
    "- $\\overset{\\sim}{\\lambda}_t = \\bar{\\lambda}_t - (1-R_f) \\tilde{\\gamma}_t$, with $\\gamma_t^b$ the default intensity of the bank, $R_f$ the recovery of the funder of $0$"
   ]
  },
  {
   "cell_type": "markdown",
   "metadata": {},
   "source": [
    "- $\\Gamma_t = V_t^0 + I_t^0 + F_t^0$\n",
    "    - $V_t^0 = P_t$, the variation margin of the portfolio\n",
    "    - $I_t^0 = \\rho_0(P_{t+\\delta}-P_t)$, a risk measure of the P&L during the cure period, the initial margin\n",
    "    - $F_t^0 = \\varrho_0(P_{t+\\delta}-P_t)$, a second risk measure of the P&L during the cure period, the default fund contribution"
   ]
  },
  {
   "cell_type": "markdown",
   "metadata": {},
   "source": [
    "- $K_t^{CM}$ is the regulatory capital the clearing member $0$ must hold at time $t$\n",
    "- $k_t$ can be interpreted as an opportunity cost (see Kenyon)"
   ]
  },
  {
   "cell_type": "markdown",
   "metadata": {},
   "source": [
    "and obivously the ~CVA function handling the different breachs:\n",
    "\n",
    "- $\\tilde{\\epsilon}_{t}$ defined only at the liquidation dates $\\tilde{\\tau}_{\\tilde{Z}} + \\delta$ by:\n",
    "\n",
    "\\begin{align*}\n",
    "\\tilde{\\epsilon}_{(\\tilde{\\tau}_{\\tilde{Z}} + \\delta)} &= \n",
    "\\left( B_{\\tilde{\\tau}_{\\tilde{Z}} + \\delta} - E_{\\tilde{\\tau}_{\\tilde{Z}} + \\delta \\, -} \\right)^+ \\frac{F_{\\tilde{\\tau}_{\\tilde{Z}} + \\delta}^0}\n",
    "{F_{\\tilde{\\tau}_{\\tilde{Z}} + \\delta}^0 + \\sum_{j\\geq1} J_{\\tilde{\\tau}_{\\tilde{Z}} + \\delta}^j F_{\\tilde{\\tau}_{\\tilde{Z}} + \\delta}^j} \\\\\n",
    "\\end{align*}\n",
    "\n",
    "- $B_t$ the breach at time $t$, that is: $B_{t+\\delta} = \\sum_{i \\in \\tilde{Z}} \n",
    "    (P_{t+\\delta}^i + \\Delta_{t+\\delta}^i - \\Gamma_t^i)^+$\n",
    "    - $\\Delta_t^i = 1_{\\{\\tau_i \\leq t\\}} \\times \\beta_t^{-1} \\int_{[\\tau, t]} \\beta_s dDs$\n",
    "- $E_{t}$ is the skin-in-the-game at time $t$, that is, the collateral posted by the CCP to handle the breachs after the collateral in the waterfall\n",
    "- $J_t^j = 1_{\\{\\tau_i > t\\}}$ is the survival indicator function of the member $j$ at time $t$"
   ]
  }
 ],
 "metadata": {
  "kernelspec": {
   "display_name": "Python 2",
   "language": "python",
   "name": "python2"
  },
  "language_info": {
   "codemirror_mode": {
    "name": "ipython",
    "version": 2
   },
   "file_extension": ".py",
   "mimetype": "text/x-python",
   "name": "python",
   "nbconvert_exporter": "python",
   "pygments_lexer": "ipython2",
   "version": "2.7.9"
  }
 },
 "nbformat": 4,
 "nbformat_minor": 0
}
