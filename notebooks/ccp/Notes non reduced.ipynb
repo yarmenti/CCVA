{
 "cells": [
  {
   "cell_type": "markdown",
   "metadata": {},
   "source": [
    "# Formulation of the CCVA (non reduced)"
   ]
  },
  {
   "cell_type": "markdown",
   "metadata": {},
   "source": [
    "In that notebook, we will implement the computation of the first-order approximation of the defined CCVA written in the paper of Armenti and Crépey.\n",
    "\n",
    "Remind the first-order approximation formula of the reduced form:\n",
    "\n",
    "\\begin{align*}\n",
    "\\Theta_0^1 \\, \\Big| _0 \\approx& \\, \\mathbb{E} \\left[ \n",
    "\\sum_{0 < \\tau_Z + \\delta < T \\wedge \\tau_0}\n",
    "\\beta_{\\tau_Z + \\delta} \\, \\epsilon_{\\tau_Z + \\delta}\n",
    "\\, + \\int_{0}^{T \\wedge \\tau_0} \\beta_s \\widehat{f}_s(0) \\, ds\n",
    "\\right] \\\\\n",
    "=& \\, \\mathbb{E} \\left[ \n",
    "\\sum_{0 < \\tau_Z + \\delta < T \\wedge \\tau_0}\n",
    "\\beta_{\\tau_Z + \\delta} \\, \\epsilon_{\\tau_Z + \\delta} \\right]\n",
    " +\n",
    "\\mathbb{E} \\left( 1_{\\zeta_1 \\leq T \\wedge \\tau_0} \\frac{1}{\\lambda e^{-\\lambda \\zeta_1}} \\beta_{\\zeta_1} \\widehat{f}_{\\zeta_1}(0) \\right)\n",
    "\\end{align*}"
   ]
  },
  {
   "cell_type": "markdown",
   "metadata": {},
   "source": [
    "with the following notations:\n",
    "\n",
    "- $0$ will denote hereafter the member index we are analyzing"
   ]
  },
  {
   "cell_type": "markdown",
   "metadata": {},
   "source": [
    "- $T$ the maturity of the portfolio (maturity of the last derivative in the portfolio), relevant for the CCP\n",
    "- $\\tau_0$ the default time of $0$, i.e. $\\tau_0 = \\inf_{\\substack{0 \\in Z \\\\ Z \\in \\mathcal{Z}}} \\tau_0^Z$\n",
    "- $\\tau_Z$ the default time of the subset $Z \\in \\mathcal{Z}$ of obligors including $0$ (non reduced model)\n",
    "- $\\delta$ the cure period (period between a default time and the liquidation of the defaulted position, in centrally clearing usually 2~5 days)\n",
    "- $\\tilde{t}$ the closest greater $t^*$ in the liquidation time grid such that $t \\leq t^*$\n",
    "- $\\zeta_1 \\sim \\mathcal E(\\mu_1), \\, \\mu_1 = \\frac{2}{T}$, the introduced random time for randomization"
   ]
  },
  {
   "cell_type": "markdown",
   "metadata": {},
   "source": [
    "- $\\beta_t$ the discount factor at time $t$, $\\beta_t = e^{-\\int_0^t r_s ds}$"
   ]
  },
  {
   "cell_type": "markdown",
   "metadata": {},
   "source": [
    "- $\\widehat{f}_{t}(0)$ the F-K-VA function defined by:\n",
    "\n",
    "\\begin{align*}\n",
    "\\widehat{f}_t(0) = &-& c_t \\Gamma_t + \\tilde{\\lambda}_t (P_t - \\Gamma_t)^- - \\lambda_t (P_t - \\Gamma_t)^+\\\\\n",
    "&+& k_t K_t^{0} \\\\\n",
    "&+& \\frac{\\beta_{t+\\delta}}{\\beta_t} \\gamma_t \\left(Q_{t+\\delta} - \\Gamma_t \\right)^+\n",
    "\\end{align*}\n",
    "\n",
    "with:"
   ]
  },
  {
   "cell_type": "markdown",
   "metadata": {},
   "source": [
    "- $P_t = \\beta_t^{-1} \\mathbb{E}_t \\left( \\int_{t}^T \\beta_s dDs \\right)$ the price of the portfolio at time $t$ from the CCP towards $0$"
   ]
  },
  {
   "cell_type": "markdown",
   "metadata": {},
   "source": [
    "- $r_t+c_t$ is the remuneration rate of the collateral\n",
    "- $r_t+\\lambda_t$ is the investment rate of the bank\n",
    "- $r_t+\\bar{\\lambda}_t$ is the unsecure funding rate of the bank\n",
    "- $\\overset{\\sim}{\\lambda}_t = \\bar{\\lambda}_t - (1-R_f) \\tilde{\\gamma}_t$, with $\\tilde{\\gamma}_t$ the default intensity of $0$, $R_f$ the recovery of the funder of $0$"
   ]
  },
  {
   "cell_type": "markdown",
   "metadata": {},
   "source": [
    "- $\\Gamma_t = V_t^0 + I_t^0 + F_t^0$\n",
    "    - $V_t^0 = P_t$, the variation margin of the portfolio\n",
    "    - $I_t^0 = \\rho_0(P_{t+\\delta}-P_t)$, a risk measure of the P&L during the cure period, the initial margin\n",
    "    - $F_t^0 = \\varrho_0(P_{t+\\delta}-P_t)$, a second risk measure of the P&L during the cure period, the default fund contribution"
   ]
  },
  {
   "cell_type": "markdown",
   "metadata": {},
   "source": [
    "- $K_t^{0}$ is the regulatory capital the clearing member $0$ must hold at time $t$\n",
    "- $k_t$ can be interpreted as an opportunity cost (see Kenyon)"
   ]
  },
  {
   "cell_type": "markdown",
   "metadata": {},
   "source": [
    "and obivously the CVA function handling the different breachs:\n",
    "\n",
    "- $\\epsilon_{t}$ defined only at the liquidation dates $\\tau_{Z} + \\delta$ by:\n",
    "\n",
    "\\begin{align*}\n",
    "\\epsilon_{\\tau_{Z} + \\delta} &= \n",
    "1_{\\tau_Z + \\delta < \\tau_0} \\, \n",
    "\\left( B_{\\tau_{Z} + \\delta} - E_{\\tau_{Z} + \\delta \\, -} \\right)^+ \\frac{F_{\\tau_{Z} + \\delta}^0}\n",
    "{F_{\\tau_{Z} + \\delta}^0 + \\sum_{j \\geq 1} J_{\\tau_{Z} + \\delta}^j F_{\\tau_{Z} + \\delta}^j} \\\\\n",
    "\\end{align*}\n",
    "\n",
    "- $B_t$ the breach at time $t$, that is: \n",
    "\n",
    "\\begin{equation*}\n",
    "B_{\\tau_Z+\\delta} = \\sum_{\\substack{i \\in Z,\\\\ 0 \\not\\in Z}}\n",
    "(P_{t+\\delta}^i + \\Delta_{t+\\delta}^i - \\Gamma_t^i)^+\n",
    "\\end{equation*}\n",
    "\n",
    "- $\\Delta_t^i = 1_{\\{\\tau_i \\leq t\\}} \\times \\beta_t^{-1} \\int_{[\\tau, t]} \\beta_s dDs$\n",
    "- $E_{t}$ is the skin-in-the-game at time $t$, that is, the collateral posted by the CCP to handle the breachs after the collateral in the waterfall\n",
    "- $J_t^j = 1_{\\{\\tau_i > t\\}}$ is the survival indicator function of the member $j$ at time $t$"
   ]
  }
 ],
 "metadata": {
  "kernelspec": {
   "display_name": "Python 2",
   "language": "python",
   "name": "python2"
  },
  "language_info": {
   "codemirror_mode": {
    "name": "ipython",
    "version": 2
   },
   "file_extension": ".py",
   "mimetype": "text/x-python",
   "name": "python",
   "nbconvert_exporter": "python",
   "pygments_lexer": "ipython2",
   "version": "2.7.9"
  }
 },
 "nbformat": 4,
 "nbformat_minor": 0
}
