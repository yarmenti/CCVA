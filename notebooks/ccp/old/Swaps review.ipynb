{
 "metadata": {
  "name": "",
  "signature": "sha256:11e53c9e2613cb1c3d7691f36ba691041504897bdb2bc63d5f7049242c1f66d8",
  "zanadu": {
   "category": "1",
   "clearance": "Internal",
   "group_name": "Evry_University",
   "notebook_id": "72E49D8F-42CD-4D01-BDA2-76D13E8D7175",
   "status": "WIP"
  }
 },
 "nbformat": 3,
 "nbformat_minor": 0,
 "worksheets": [
  {
   "cells": [
    {
     "cell_type": "heading",
     "level": 1,
     "metadata": {},
     "source": [
      "First Approximation of the CCVA"
     ]
    },
    {
     "cell_type": "heading",
     "level": 2,
     "metadata": {
      "zanadu": {
       "is_abstract": false,
       "is_hidden": false
      }
     },
     "source": [
      "Resume"
     ]
    },
    {
     "cell_type": "markdown",
     "metadata": {
      "zanadu": {
       "is_abstract": false,
       "is_hidden": false
      }
     },
     "source": [
      "In that notebook, we will implement the computation of the first-order approximation of the defined CCVA written in the paper of Cr\u00e9pey.\n",
      "\n",
      "Remind the first-order approximation formula of the reduced form:\n",
      "$\\newcommand{\\tauDeltaZ}{\\tilde{\\tau}_{\\tilde{Z}}^{\\delta}}$\n",
      "$\\newcommand{\\tauDeltaI}{\\tilde{\\tau}_{i}^{\\delta}}$\n",
      "\n",
      "\\begin{align*}\n",
      "\\Theta_0^1 \\approx& \\, \\mathbb{E} \\left[ \n",
      "\\sum_{0< s = \\tauDeltaZ \\leq \\bar{T} } \n",
      "\\alpha_s \\tilde{\\epsilon}_{(s)}\n",
      "+ \\int_{0}^{\\bar{T}} \\alpha_s \\tilde{f}_s(0) ds\n",
      "\\right] \\\\\n",
      "=& \\, \\mathbb{E} \\left[ \n",
      "\\sum_{0< s = \\tauDeltaZ \\leq \\bar{T} } \n",
      "\\alpha_s \\tilde{\\epsilon}_{(s)} \\right] + \n",
      "\\mathbb{E} \\left( 1_{\\tau \\leq \\bar{T}} \\frac{1}{\\lambda e^{-\\lambda \\tau}} \\alpha_{\\tau} \\tilde{f}_{\\tau}(0) \\right)\n",
      "\\end{align*}\n",
      "\n",
      "where $\\alpha_t = e^{-(r+\\gamma)t}$ with gamma defined with the Marshall-Olkin static copula and in the paper by $\\gamma = \\sum_{Y \\in \\mathcal{Y}_{\\bullet}} X^Y$ (with $r$, $\\gamma$ and $X^Y$ taken constants). and:\n",
      "\n",
      "\\begin{align*}\n",
      "\\tilde{\\epsilon}_{(\\tauDeltaZ)} &= \n",
      "\\tilde{\\epsilon}_{(\\tauDeltaZ)}^0 = \n",
      "\\left( B_{\\tauDeltaZ} - E_{\\tauDeltaZ-} \\right)^+ \\frac{F_{\\tauDeltaZ}^0}{F_{\\tauDeltaZ}^0 + \\sum_{j\\geq1} J_{\\tauDeltaZ}^j F_{\\tauDeltaZ}^j} \\\\\n",
      "\\end{align*}\n",
      "\n",
      "and\n",
      "\\begin{align*}\n",
      "\\tilde{f}_t(0) = -c_t \\Gamma_t + \\bar{\\lambda}_t (P_t - \\Gamma_t)^- - \\lambda_t (P_t - \\Gamma_t)^+ + k_t K_t\n",
      "\\end{align*}\n",
      "\n",
      "<p style=\"color: red\">After that, we will add the following term to $\\tilde{f}_t(0)$:\n",
      "\n",
      "\\begin{align*}\n",
      "- \\sum_{0 \\in Y} \\frac{\\beta_{t+\\delta}}{\\beta_t} \\gamma_Y \\left( Q_{t + \\delta} - \\Gamma_{\\hat{t}} \\right)^+ = - \\gamma \\frac{\\beta_{t+\\delta}}{\\beta_t} \\left( Q_{t + \\delta} - \\Gamma_{\\hat{t}} \\right)^+\n",
      "\\end{align*}\n",
      "\n",
      "</p>\n",
      "\n",
      "and $\\tau$ independent of the whole defined processes"
     ]
    },
    {
     "cell_type": "markdown",
     "metadata": {
      "zanadu": {
       "is_abstract": false,
       "is_hidden": false
      }
     },
     "source": [
      "**With the notations**:\n",
      "\n",
      "- $B_{\\tauDeltaZ} = \\sum_{i \\in \\tilde{Z}} (\\Delta^i + P^i - \\Gamma^i)_{\\tauDeltaZ}^+$\n",
      "- $P_t^i = \\mathbb{E}_t(\\int_t^{\\bar{T}} \\frac{\\beta_s}{\\beta_t} dD_s^i)$, with $\\beta_t = e^{-\\int_0^t r_s ds}$\n",
      "- $\\Gamma^i = V^i+I^i+F^i$\n",
      "- $\\Delta_t^i = \\int_{[\\tau_i, t]} e^{\\int_s^t r_u du} dD_s^i$"
     ]
    },
    {
     "cell_type": "heading",
     "level": 3,
     "metadata": {},
     "source": [
      "Adding path to engines"
     ]
    },
    {
     "cell_type": "code",
     "collapsed": false,
     "input": [
      "import sys\n",
      "\n",
      "sys.path.append('../..')"
     ],
     "language": "python",
     "metadata": {},
     "outputs": [],
     "prompt_number": 1
    },
    {
     "cell_type": "heading",
     "level": 2,
     "metadata": {
      "zanadu": {
       "is_abstract": false,
       "is_hidden": false
      }
     },
     "source": [
      "Monte Carlo `code`"
     ]
    },
    {
     "cell_type": "heading",
     "level": 3,
     "metadata": {
      "zanadu": {
       "is_abstract": false,
       "is_hidden": false
      }
     },
     "source": [
      "Simulation parameters"
     ]
    },
    {
     "cell_type": "code",
     "collapsed": false,
     "input": [
      "# Instead of taking 365 standard days or 252 trading days\n",
      "# in order to get some easy computations for the eqty and df time grids\n",
      "# I chose to take 360 days of tradings\n",
      "\n",
      "step = 1/360.\n",
      "\n",
      "# Moreover, we fix a $\\delta$ mpor (margin period of risk) of 5 days \n",
      "mpor = 5*step"
     ],
     "language": "python",
     "metadata": {
      "zanadu": {
       "is_abstract": false,
       "is_hidden": false
      }
     },
     "outputs": [],
     "prompt_number": 2
    },
    {
     "cell_type": "heading",
     "level": 3,
     "metadata": {
      "zanadu": {
       "is_abstract": false,
       "is_hidden": false
      }
     },
     "source": [
      "Market parameters"
     ]
    },
    {
     "cell_type": "code",
     "collapsed": false,
     "input": [
      "from finance.discountfactor import ConstantRateDiscountFactor \n",
      "\n",
      "maturity = 5\n",
      "r = 0.02\n",
      "\n",
      "discount = ConstantRateDiscountFactor(r)"
     ],
     "language": "python",
     "metadata": {
      "zanadu": {
       "is_abstract": false,
       "is_hidden": false
      }
     },
     "outputs": [],
     "prompt_number": 3
    },
    {
     "cell_type": "heading",
     "level": 3,
     "metadata": {
      "zanadu": {
       "is_abstract": false,
       "is_hidden": false
      }
     },
     "source": [
      "Exponential distribution (in order to compute $\\mathbb{E} \\int$)"
     ]
    },
    {
     "cell_type": "markdown",
     "metadata": {
      "zanadu": {
       "is_abstract": false,
       "is_hidden": false
      }
     },
     "source": [
      "In order to compute the integral term, we used the change of probability measure with the exponential density. In order to do so, we took $\\lambda = \\frac{2}{\\bar{T}}$ in order to get the event $\\{ \\tau \\leq \\bar{T} \\}$ with a probability $p = 1 - e^{-2} \\approx 0.86$. Moreover, the distribution is centered to the middle of the interval $[0, \\bar{T}]$."
     ]
    },
    {
     "cell_type": "code",
     "collapsed": false,
     "input": [
      "from scipy.stats import expon\n",
      "\n",
      "# To confirm, because \n",
      "lbda = 2.0 / maturity\n",
      "exp_distrib = expon(loc=0, scale=1.0/lbda)"
     ],
     "language": "python",
     "metadata": {
      "zanadu": {
       "is_abstract": false,
       "is_hidden": false
      }
     },
     "outputs": [],
     "prompt_number": 4
    },
    {
     "cell_type": "heading",
     "level": 3,
     "metadata": {
      "zanadu": {
       "is_abstract": false,
       "is_hidden": false
      }
     },
     "source": [
      "Underlyings parameters"
     ]
    },
    {
     "cell_type": "code",
     "collapsed": false,
     "input": [
      "import numpy as np\n",
      "from scipy.stats import norm\n",
      "from maths.montecarlo.process.brownianmotion import BrownianMotion\n",
      "\n",
      "time_grid = BrownianMotion.generate_time_grid(0, maturity, step)\n",
      "\n",
      "x_0 = [100]\n",
      "mu_s = [5]\n",
      "sigma_s = [10]\n",
      "\n",
      "b = BrownianMotion(x_0, mu_s, sigma_s, time_grid)\n",
      "\n",
      "for i, (x0, m_, s_) in enumerate(zip(x_0, mu_s, sigma_s)):\n",
      "    print \"P(S_T^%d < 0) = %s\"%(i+1, norm.cdf(-(x0 + m_ * maturity)/(s_*np.sqrt(maturity))))"
     ],
     "language": "python",
     "metadata": {
      "zanadu": {
       "is_abstract": false,
       "is_hidden": false
      }
     },
     "outputs": [
      {
       "output_type": "stream",
       "stream": "stdout",
       "text": [
        "P(S_T^1 < 0) = 1.13423742963e-08\n"
       ]
      }
     ],
     "prompt_number": 5
    },
    {
     "cell_type": "heading",
     "level": 3,
     "metadata": {
      "zanadu": {
       "is_abstract": false,
       "is_hidden": false
      }
     },
     "source": [
      "Swap Contracts"
     ]
    },
    {
     "cell_type": "markdown",
     "metadata": {
      "zanadu": {
       "is_abstract": false,
       "is_hidden": false
      }
     },
     "source": [
      "In our simulations, we will use Swaps contracts with different maturities"
     ]
    },
    {
     "cell_type": "code",
     "collapsed": false,
     "input": [
      "from finance.products.european.swap import (\n",
      "    SwapContract,\n",
      ")\n",
      "\n",
      "delta = 0.25\n",
      "\n",
      "swap_dates = SwapContract.generate_payment_dates(0, maturity, delta)\n",
      "swap = SwapContract(b, discount, swap_dates)\n",
      "\n",
      "price_0 = swap.price(0.)\n",
      "\n",
      "print swap\n",
      "print \"\\nPrice swap at t=0 = \",price_0"
     ],
     "language": "python",
     "metadata": {
      "zanadu": {
       "is_abstract": false,
       "is_hidden": false
      }
     },
     "outputs": [
      {
       "output_type": "stream",
       "stream": "stdout",
       "text": [
        "Swap contract of maturity T = 5 years, over S^0 with strike K = 104.821, paying at {0.00, 0.25, 0.50, 0.75, 1.00, 1.25, 1.50, 1.75, 2.00, 2.25, 2.50, 2.75, 3.00, 3.25, 3.50, 3.75, 4.00, 4.25, 4.50, 4.75, 5.00}\n",
        "\n",
        "Price swap at t=0 =  1.13686837722e-13\n"
       ]
      }
     ],
     "prompt_number": 6
    },
    {
     "cell_type": "heading",
     "level": 3,
     "metadata": {
      "zanadu": {
       "is_abstract": false,
       "is_hidden": false
      }
     },
     "source": [
      "Exposure for the $K_{CCP}$ formula"
     ]
    },
    {
     "cell_type": "code",
     "collapsed": false,
     "input": [
      "from risk.exposure import EuropeanQuantileBrownianExposure\n",
      "\n",
      "exposure_mpor = 1./12\n",
      "exposure_quantile = 0.99\n",
      "\n",
      "index = swap.underlying_index\n",
      "drift = mu_s[index]\n",
      "vol = sigma_s[index]\n",
      "exposure = EuropeanQuantileBrownianExposure(swap, exposure_mpor, drift, vol, exposure_quantile, discount)"
     ],
     "language": "python",
     "metadata": {
      "zanadu": {
       "is_abstract": false,
       "is_hidden": false
      }
     },
     "outputs": [],
     "prompt_number": 7
    },
    {
     "cell_type": "heading",
     "level": 3,
     "metadata": {
      "zanadu": {
       "is_abstract": false,
       "is_hidden": false
      }
     },
     "source": [
      "Marshall Olkin copula"
     ]
    },
    {
     "cell_type": "markdown",
     "metadata": {},
     "source": [
      "We choose the following parameters:  \n",
      "\n",
      "- $\\gamma_0 = 200$ bps\n",
      "- $\\gamma_1 = 100$ bps\n",
      "- $\\gamma_2 = 50$ bps\n",
      "- $\\gamma_{0, 1} = 30$ bps\n",
      "- $\\gamma_{0, 1, 2} = 15$ bps\n",
      "\n",
      "which leads to:\n",
      "\n",
      "- $\\gamma_0^{tot} = 245$ bps\n",
      "- $\\gamma_1^{tot} = 145$ bps\n",
      "- $\\gamma_2^{tot} = 65$ bps"
     ]
    },
    {
     "cell_type": "code",
     "collapsed": false,
     "input": [
      "cm_index = 0"
     ],
     "language": "python",
     "metadata": {},
     "outputs": [],
     "prompt_number": 8
    },
    {
     "cell_type": "code",
     "collapsed": false,
     "input": [
      "from maths.copula.marshallolkin import MarshallOlkinCopula\n",
      "\n",
      "nb_cm = 3\n",
      "\n",
      "mo_groups = [frozenset([i]) for i in range(nb_cm)]\n",
      "mo_groups.append(frozenset([0, 1]))\n",
      "mo_groups.append(frozenset([0, 1, 2]))\n",
      "\n",
      "lambdas = [0.0200, 0.0100, 0.0050, 0.0030, 0.0015]\n",
      "\n",
      "copula = MarshallOlkinCopula(cm_index, nb_cm, mo_groups, lambdas)\n",
      "\n",
      "subsets_defaulters = copula.defaultable_subsets\n",
      "intensity_defaulters = copula.defaultable_intensities\n",
      "\n",
      "print \"Subsets which can defaults: \", [\"%s\"%[xi for xi in x] for x in subsets_defaulters]\n",
      "print \"With intensities: \",[\"%s\"%x for x in intensity_defaulters]\n",
      "print\n",
      "print \"Default intensity of member %s: \"%cm_index, copula._gamma_"
     ],
     "language": "python",
     "metadata": {
      "zanadu": {
       "is_abstract": false,
       "is_hidden": false
      }
     },
     "outputs": [
      {
       "output_type": "stream",
       "stream": "stdout",
       "text": [
        "Subsets which can defaults:  ['[1]', '[2]']\n",
        "With intensities:  ['0.01', '0.005']\n",
        "\n",
        "Default intensity of member 0:  0.0245\n"
       ]
      }
     ],
     "prompt_number": 9
    },
    {
     "cell_type": "code",
     "collapsed": false,
     "input": [
      "alpha = ConstantRateDiscountFactor(r + copula._gamma_)"
     ],
     "language": "python",
     "metadata": {},
     "outputs": [],
     "prompt_number": 10
    },
    {
     "cell_type": "heading",
     "level": 3,
     "metadata": {
      "zanadu": {
       "is_abstract": false,
       "is_hidden": false
      }
     },
     "source": [
      "Portfolio of the clearing house"
     ]
    },
    {
     "cell_type": "heading",
     "level": 4,
     "metadata": {},
     "source": [
      "Notional"
     ]
    },
    {
     "cell_type": "markdown",
     "metadata": {},
     "source": [
      "In the paper of Cr\u00e9pey, Gerboud, Grbac and Ngor [Counterparty risk and funding:\n",
      "the four wings of the TVA](http://grozny.maths.univ-evry.fr/pages_perso/crepey/papers/CVA-Wings.pdf), they compute the TVA on a swap with the following parameters (see section 4.4 Numerics):\n",
      "\n",
      ">We choose a swap notional of $N = 310.136066$\\$ so that the fixed leg of the swap is worth $100$\\$ at inception\n",
      "\n",
      "Let us compute the same way the notional such that the fixed leg is equal to $100$ \\$.\n",
      "\n",
      "\\begin{equation*}\n",
      "N = \\frac{P_{fixed}}{K \\times \\sum_{k=1}^{N} \\Delta_{T_k} \\beta_{T_k}}\n",
      "\\end{equation*}"
     ]
    },
    {
     "cell_type": "code",
     "collapsed": false,
     "input": [
      "p_fixed = 100.\n",
      "strike = swap.strike\n",
      "\n",
      "delta_times = swap.delta_time\n",
      "discount_factors = [discount(t) for t in swap.pillars[1:]]\n",
      "\n",
      "delta_beta_sum = np.dot(delta_times, discount_factors)\n",
      "\n",
      "notional = p_fixed / (strike*delta_beta_sum)\n",
      "print \"Notional =\",notional"
     ],
     "language": "python",
     "metadata": {},
     "outputs": [
      {
       "output_type": "stream",
       "stream": "stdout",
       "text": [
        "Notional = 0.201002504172\n"
       ]
      }
     ],
     "prompt_number": 11
    },
    {
     "cell_type": "code",
     "collapsed": false,
     "input": [
      "from ccp.portfolio import Portfolio\n",
      "\n",
      "members_quantities = np.array([[1.],\n",
      "                              [-.5],\n",
      "                              [-.5]])\n",
      "\n",
      "members_positions = np.dot(members_quantities, notional).reshape(members_quantities.shape)\n",
      "print members_positions"
     ],
     "language": "python",
     "metadata": {},
     "outputs": [
      {
       "output_type": "stream",
       "stream": "stdout",
       "text": [
        "[[ 0.2010025 ]\n",
        " [-0.10050125]\n",
        " [-0.10050125]]\n"
       ]
      }
     ],
     "prompt_number": 12
    },
    {
     "cell_type": "code",
     "collapsed": false,
     "input": [
      "from ccp.portfolio import CCPPortfolio\n",
      "\n",
      "members_positions = np.dot(members_quantities, notional).reshape(members_quantities.shape)\n",
      "\n",
      "ccp_port = CCPPortfolio(members_positions, [swap], [price_0], [exposure])\n",
      "\n",
      "m_positions = np.matrix(members_positions)\n",
      "portfolio_at_time_0 = m_positions*price_0\n",
      "print portfolio_at_time_0"
     ],
     "language": "python",
     "metadata": {},
     "outputs": [
      {
       "output_type": "stream",
       "stream": "stdout",
       "text": [
        "[[  2.28513391e-14]\n",
        " [ -1.14256695e-14]\n",
        " [ -1.14256695e-14]]\n"
       ]
      }
     ],
     "prompt_number": 13
    },
    {
     "cell_type": "heading",
     "level": 3,
     "metadata": {
      "zanadu": {
       "is_abstract": false,
       "is_hidden": false
      }
     },
     "source": [
      "Collateral management"
     ]
    },
    {
     "cell_type": "heading",
     "level": 4,
     "metadata": {
      "zanadu": {
       "is_abstract": false,
       "is_hidden": false
      }
     },
     "source": [
      "CCP's Equity"
     ]
    },
    {
     "cell_type": "code",
     "collapsed": false,
     "input": [
      "from ccp.sig import SkinInTheGame\n",
      "\n",
      "# We set that there is no equity\n",
      "sig0 = 0\n",
      "\n",
      "sig = SkinInTheGame(sig0)"
     ],
     "language": "python",
     "metadata": {
      "zanadu": {
       "is_abstract": false,
       "is_hidden": false
      }
     },
     "outputs": [],
     "prompt_number": 14
    },
    {
     "cell_type": "heading",
     "level": 4,
     "metadata": {
      "zanadu": {
       "is_abstract": false,
       "is_hidden": false
      }
     },
     "source": [
      "CCP's members Initial margins and default funds"
     ]
    },
    {
     "cell_type": "code",
     "collapsed": false,
     "input": [
      "from ccp.states import MembersState\n",
      "from ccp.accounts import Accounts, DFAccounts\n",
      "\n",
      "states = MembersState(nb_cm)\n",
      "\n",
      "# Here and hereafter, +1 means that the CCP has a P&L of+1\n",
      "# or equivalently, the CM has a loss of +1 \n",
      "vm_accounts = Accounts(states)"
     ],
     "language": "python",
     "metadata": {},
     "outputs": [],
     "prompt_number": 15
    },
    {
     "cell_type": "code",
     "collapsed": false,
     "input": [
      "conf_level_im = 0.70\n",
      "min_im_required = 0.\n",
      "im_accounts = Accounts(states)\n",
      "im_accounts.reset(min_im_required)"
     ],
     "language": "python",
     "metadata": {},
     "outputs": [],
     "prompt_number": 16
    },
    {
     "cell_type": "code",
     "collapsed": false,
     "input": [
      "conf_level_df = 0.80\n",
      "min_df_required = 1e-8\n",
      "df_accounts = DFAccounts(states)\n",
      "df_accounts.reset(min_df_required)"
     ],
     "language": "python",
     "metadata": {
      "zanadu": {
       "is_abstract": false,
       "is_hidden": false
      }
     },
     "outputs": [],
     "prompt_number": 17
    },
    {
     "cell_type": "heading",
     "level": 3,
     "metadata": {
      "zanadu": {
       "is_abstract": false,
       "is_hidden": false
      }
     },
     "source": [
      "Regulatory capital"
     ]
    },
    {
     "cell_type": "code",
     "collapsed": false,
     "input": [
      "from ccp.regulation.capital import RegulatoryCapital\n",
      "\n",
      "# We first set a beta factor to 30% (recommandation of Dosseur)\n",
      "beta = 0.3\n",
      "\n",
      "optional_params = {}\n",
      "\n",
      "regul_capital = RegulatoryCapital(beta, \n",
      "                                  im_accounts, \n",
      "                                  df_accounts, \n",
      "                                  sig, \n",
      "                                  ccp_port, \n",
      "                                  **optional_params)"
     ],
     "language": "python",
     "metadata": {
      "zanadu": {
       "is_abstract": false,
       "is_hidden": false
      }
     },
     "outputs": [],
     "prompt_number": 18
    },
    {
     "cell_type": "heading",
     "level": 3,
     "metadata": {
      "zanadu": {
       "is_abstract": false,
       "is_hidden": false
      }
     },
     "source": [
      "Simulations"
     ]
    },
    {
     "cell_type": "heading",
     "level": 4,
     "metadata": {
      "zanadu": {
       "is_abstract": false,
       "is_hidden": false
      }
     },
     "source": [
      "Definition of the function $\\tilde{f}_{.}(0)$"
     ]
    },
    {
     "cell_type": "markdown",
     "metadata": {
      "zanadu": {
       "is_abstract": false,
       "is_hidden": false
      }
     },
     "source": [
      "We consider here that $(c_t), (\\lambda_t), (\\bar{\\lambda}_t)$ and $(k_t)$ are constant processes."
     ]
    },
    {
     "cell_type": "code",
     "collapsed": false,
     "input": [
      "c_ = -0.002\n",
      "lambda_ = 0\n",
      "bar_lambda_ = 0.005\n",
      "k_ = 0.1\n",
      "\n",
      "def tilde_f(p, gamma, k_cm):\n",
      "    p_min_gamma = p-gamma\n",
      "    fva = -c_*gamma - bar_lambda_*np.minimum(p_min_gamma, 0) - lambda_*np.maximum(p_min_gamma, 0) \n",
      "    kva = k_*k_cm\n",
      "    return fva, kva"
     ],
     "language": "python",
     "metadata": {},
     "outputs": [],
     "prompt_number": 19
    },
    {
     "cell_type": "heading",
     "level": 4,
     "metadata": {
      "zanadu": {
       "is_abstract": false,
       "is_hidden": false
      }
     },
     "source": [
      "Definition of the time grids for equity and default fund \"re\"-contribution"
     ]
    },
    {
     "cell_type": "code",
     "collapsed": false,
     "input": [
      "sig_time_grid = [t for t in time_grid if t.is_integer()]\n",
      "df_time_grid = [t for t in time_grid if (12*t).is_integer()]"
     ],
     "language": "python",
     "metadata": {},
     "outputs": [],
     "prompt_number": 20
    },
    {
     "cell_type": "code",
     "collapsed": false,
     "input": [
      "N = 10000"
     ],
     "language": "python",
     "metadata": {
      "zanadu": {
       "is_abstract": false,
       "is_hidden": false
      }
     },
     "outputs": [],
     "prompt_number": 21
    },
    {
     "cell_type": "heading",
     "level": 4,
     "metadata": {},
     "source": [
      "Monte Carlo loop"
     ]
    },
    {
     "cell_type": "code",
     "collapsed": false,
     "input": [
      "def time_offseter(time, time_grid_ref, left=False):\n",
      "    offset = -1 if left else 0\n",
      "    idx = np.searchsorted(time_grid_ref, time, side='right') + offset\n",
      "    \n",
      "    if idx == len(time_grid):        \n",
      "        return np.inf\n",
      "    \n",
      "    return time_grid_ref[idx]"
     ],
     "language": "python",
     "metadata": {},
     "outputs": [],
     "prompt_number": 22
    },
    {
     "cell_type": "code",
     "collapsed": false,
     "input": [
      "class ITask(object):\n",
      "    def perform(self, **kwargs):\n",
      "        raise NotImplementedError()       "
     ],
     "language": "python",
     "metadata": {},
     "outputs": [],
     "prompt_number": 23
    },
    {
     "cell_type": "heading",
     "level": 5,
     "metadata": {},
     "source": [
      "Monte Carlo Tasks"
     ]
    },
    {
     "cell_type": "code",
     "collapsed": false,
     "input": [
      "class PutMembersAtDefaultTask(ITask):\n",
      "    def __init__(self, **kwargs):\n",
      "        self.__possible_defaulters = kwargs['potential_defaulters']\n",
      "        self.__states = kwargs['states']\n",
      "        self.__new_defaulted = kwargs['new_defaulted']\n",
      "        \n",
      "    def perform(self, **kwargs):\n",
      "        del self.__new_defaulted[:]\n",
      "        for index in self.__possible_defaulters:\n",
      "            self.__states.die(index)\n",
      "            self.__new_defaulted.append(index)"
     ],
     "language": "python",
     "metadata": {},
     "outputs": [],
     "prompt_number": 24
    },
    {
     "cell_type": "code",
     "collapsed": false,
     "input": [
      "class FillVariationMarginTask(ITask):\n",
      "    def __init__(self, **kwargs):\n",
      "        self._port = kwargs['portfolio']\n",
      "        self.__vm_accounts = kwargs['vm_accounts']\n",
      "        \n",
      "    def perform(self, **kwargs):\n",
      "        t = kwargs['t']\n",
      "        \n",
      "        d_pl = [d.price(t) for d in self._port.derivatives]\n",
      "        p_and_l = self._port.compute_pl(d_pl)\n",
      "        \n",
      "        for ii, pl in enumerate(p_and_l.flat):\n",
      "            self.__vm_accounts.put_amount(ii, pl)\n",
      "        \n",
      "class FillInitialMarginTask(FillVariationMarginTask):\n",
      "    def __init__(self, **kwargs):        \n",
      "        super(FillInitialMarginTask, self).__init__(**kwargs)\n",
      "        self._mpor = kwargs['risk_period']\n",
      "        self._alpha = kwargs['conf_level']\n",
      "        self._im_accounts = kwargs['im_accounts']\n",
      "        self._min_required = kwargs['min_required']\n",
      "        \n",
      "    def perform(self, **kwargs):\n",
      "        super(FillInitialMarginTask, self).perform(**kwargs)\n",
      "        \n",
      "        t = kwargs['t']\n",
      "        mpor = kwargs.get('risk_period', self._mpor)\n",
      "        conf_level = kwargs.get('conf_level', self._alpha)\n",
      "        collats = self._port.compute_exposure(t, risk_period=mpor, conf_level=conf_level)\n",
      "        self.fill_accounts(collats)\n",
      "        \n",
      "    def fill_accounts(self, collat):\n",
      "        for ii, im in enumerate(collat.flat):\n",
      "            tmp = np.maximum(im, self._min_required)\n",
      "            self._im_accounts.put_amount(ii, tmp)\n",
      "\n",
      "class FillDefaultFundTask(FillInitialMarginTask):\n",
      "    def __init__(self, **kwargs):\n",
      "        super(FillDefaultFundTask, self).__init__(**kwargs)\n",
      "        self._df_accounts = kwargs['df_accounts']\n",
      "        \n",
      "    def fill_accounts(self, collat):\n",
      "        for ii, (im, df) in enumerate(zip(self._im_accounts.amounts, collat.flat)):\n",
      "            tmp = np.maximum(df-im, self._min_required)\n",
      "            self._df_accounts.put_amount(ii, tmp)  "
     ],
     "language": "python",
     "metadata": {},
     "outputs": [],
     "prompt_number": 25
    },
    {
     "cell_type": "code",
     "collapsed": false,
     "input": [
      "class ReFillSigTask(ITask):\n",
      "    def __init__(self, **kwargs):\n",
      "        self.__sig = kwargs['sig']\n",
      "    \n",
      "    def perform(self, **kwargs):\n",
      "        self.__sig.recover()"
     ],
     "language": "python",
     "metadata": {},
     "outputs": [],
     "prompt_number": 26
    },
    {
     "cell_type": "code",
     "collapsed": false,
     "input": [
      "class LiquidateTask(ITask):\n",
      "    def __init__(self, **kwargs):\n",
      "        self.__port = kwargs['portfolio']\n",
      "        self.__vm_accounts = kwargs['vm_accounts']\n",
      "        self.__im_accounts = kwargs['im_accounts']\n",
      "        self.__df_accounts = kwargs['df_accounts']        \n",
      "        self.__new_defaulted = kwargs['new_defaulted']\n",
      "        self.__results = kwargs['results']\n",
      "        self.__sig = kwargs['sig']\n",
      "        self.__alpha = kwargs['alpha']\n",
      "    \n",
      "    def perform(self, **kwargs):\n",
      "        t = kwargs['t']\n",
      "        \n",
      "        contract_prices = [d.price(t) for d in self.__port.derivatives]\n",
      "        contract_losses = self.__port.compute_pl(contract_prices).A1\n",
      "        \n",
      "        P = contract_losses[self.__new_defaulted]\n",
      "        \n",
      "        collat_defaulters = \\\n",
      "            self.__vm_accounts.amounts + self.__im_accounts.amounts + self.__df_accounts.amounts\n",
      "                \n",
      "        tot_collat = collat_defaulters\n",
      "        collat = tot_collat[self.__new_defaulted]\n",
      "        \n",
      "        loss_tau_minus_collat = P-collat\n",
      "        \n",
      "        remain_collat_loss = 0.\n",
      "        for l in loss_tau_minus_collat:\n",
      "            remain_collat_loss += np.maximum(l, 0)\n",
      "            \n",
      "        remaining_loss = self.__sig.handle_breach(remain_collat_loss)\n",
      "        frac = self.__df_accounts.get_amount(cm_index) / self.__df_accounts.total_default_fund()\n",
      "        \n",
      "        partial_loss = frac*remaining_loss                        \n",
      "        tmp_cva = self.__alpha(t) * partial_loss\n",
      "        \n",
      "        self.__results['cva'] += tmp_cva\n",
      "        self.__results['cva_square'] += tmp_cva**2"
     ],
     "language": "python",
     "metadata": {},
     "outputs": [],
     "prompt_number": 27
    },
    {
     "cell_type": "code",
     "collapsed": false,
     "input": [
      "class ComputeFVAandKVATask(ITask):\n",
      "    def __init__(self, **kwargs):\n",
      "        self.__port = kwargs['portfolio']\n",
      "        self.__cm_index = kwargs['index']\n",
      "        self.__vm_accounts = kwargs['vm_accounts']\n",
      "        self.__im_accounts = kwargs['im_accounts']\n",
      "        self.__df_accounts = kwargs['df_accounts']\n",
      "        self.__regul_cap = kwargs['regul_capital']\n",
      "        self.__alpha = kwargs['alpha']\n",
      "        self.__exp_distrib = kwargs['exp_distrib']\n",
      "        self.__results = kwargs['results']\n",
      "    \n",
      "    def perform(self, **kwargs):\n",
      "        t = kwargs['t']\n",
      "        \n",
      "        contract_prices = [d.price(t) for d in self.__port.derivatives]\n",
      "        contract_losses = self.__port.compute_pl(contract_prices).A1\n",
      "        \n",
      "        P = contract_losses[self.__cm_index]\n",
      "        \n",
      "        collat = self.__vm_accounts.amounts[self.__cm_index] + \\\n",
      "                 self.__im_accounts.amounts[self.__cm_index] + \\\n",
      "                 self.__df_accounts.amounts[self.__cm_index]\n",
      "                \n",
      "        reg_capital = regul_capital.compute_k_cm(self.__cm_index, t)\n",
      "                \n",
      "        tmp_factor = self.__alpha(t)/self.__exp_distrib.pdf(t)\n",
      "        \n",
      "        tmp_fva, tmp_kva = tilde_f(P, collat, reg_capital)\n",
      "        tmp_fva *= tmp_factor\n",
      "        tmp_kva *= tmp_factor\n",
      "        \n",
      "        self.__results['fva'] += tmp_fva\n",
      "        self.__results['fva_square'] += tmp_fva**2\n",
      "        \n",
      "        self.__results['kva'] += tmp_kva\n",
      "        self.__results['kva_square'] += tmp_kva**2"
     ],
     "language": "python",
     "metadata": {},
     "outputs": [],
     "prompt_number": 28
    },
    {
     "cell_type": "code",
     "collapsed": false,
     "input": [
      "class ResetTask(ITask):\n",
      "    def perform(self, **kwargs):\n",
      "        times = kwargs['time']\n",
      "        \n",
      "        derivatives = kwargs['derivatives']\n",
      "        for d in derivatives:\n",
      "            times = np.append(times, d.pillars)\n",
      "        \n",
      "        times = sorted(times)\n",
      "        udlys = kwargs['underlyings']\n",
      "        for u in udlys:\n",
      "            u.set_time(times)\n",
      "            u.simulate()\n",
      "            \n",
      "        states = kwargs['states']\n",
      "        states.resurrect_all()\n",
      "        \n",
      "        accounts_dict = kwargs['accounts']\n",
      "        for acc_dict in accounts_dict:\n",
      "            min_req = acc_dict.get('min_req', 0)\n",
      "            acc_dict['account'].reset(min_req)\n",
      "        \n",
      "        vm_accounts.reset()\n",
      "        im_accounts.reset(min_im_required)\n",
      "        df_accounts.reset(min_df_required)"
     ],
     "language": "python",
     "metadata": {},
     "outputs": [],
     "prompt_number": 29
    },
    {
     "cell_type": "code",
     "collapsed": false,
     "input": [
      "from collections import OrderedDict\n",
      "import time\n",
      "\n",
      "start_time = time.time()\n",
      "\n",
      "results = {\"cva\": 0., \"cva_square\": 0.,\n",
      "           \"fva\": 0., \"fva_square\": 0.,\n",
      "           \"kva\": 0., \"kva_square\": 0}\n",
      "\n",
      "dict_accounts = [{'account': vm_accounts},\n",
      "                 {'account': im_accounts, 'min_req': min_im_required},\n",
      "                 {'account': df_accounts, 'min_req': min_df_required}]\n",
      "\n",
      "new_defaulted = []\n",
      "\n",
      "default_times = copula.simulate_default_times(N)\n",
      "random_times = exp_distrib.rvs(size=N)\n",
      "\n",
      "for i in range(N):\n",
      "    tau_times = {\n",
      "                    time_offseter(default_time, time_grid): \n",
      "                        PutMembersAtDefaultTask(potential_defaulters=copula.defaultable_subsets[j],\n",
      "                                                states=states, new_defaulted=new_defaulted) \n",
      "\n",
      "                    for j, default_time in enumerate(default_times[i]) if default_time<=maturity\n",
      "                }\n",
      "        \n",
      "    sig_times = {\n",
      "                    time_offseter(tau, sig_time_grid, True) : ReFillSigTask(sig=sig)\n",
      "\n",
      "                    for tau in tau_times.keys()\n",
      "                }\n",
      "    \n",
      "    df_times = {\n",
      "                    time_offseter(tau, df_time_grid, True): \n",
      "                        FillDefaultFundTask(portfolio=ccp_port, \n",
      "                                            risk_period=mpor, \n",
      "                                            conf_level=conf_level_df,\n",
      "                                            vm_accounts=vm_accounts,\n",
      "                                            im_accounts=im_accounts,\n",
      "                                            df_accounts=df_accounts,\n",
      "                                            min_required=min_df_required)\n",
      "\n",
      "                    for tau in tau_times.keys()\n",
      "               }\n",
      "    \n",
      "    last_marg_call_times = {\n",
      "                                time_offseter(tau-step, time_grid, True): \n",
      "                                    FillInitialMarginTask(portfolio=ccp_port,\n",
      "                                                          risk_period=mpor,\n",
      "                                                          conf_level=conf_level_im,\n",
      "                                                          vm_accounts=vm_accounts,\n",
      "                                                          im_accounts=im_accounts,\n",
      "                                                          min_required=min_im_required)\n",
      "\n",
      "                                for tau in tau_times.keys()\n",
      "                           }\n",
      "    \n",
      "    liquid_times = {\n",
      "                        time_offseter(tau+mpor, time_grid): LiquidateTask(portfolio=ccp_port,\n",
      "                                                                          vm_accounts=vm_accounts,\n",
      "                                                                          im_accounts=im_accounts,\n",
      "                                                                          df_accounts=df_accounts,\n",
      "                                                                          new_defaulted=new_defaulted,\n",
      "                                                                          results=results,\n",
      "                                                                          sig=sig,\n",
      "                                                                          alpha=alpha\n",
      "                                                                          )\n",
      "\n",
      "                        for tau in tau_times.keys()\n",
      "                   }\n",
      "    \n",
      "    part_time = time_offseter(random_times[i], time_grid)\n",
      "    particle_time = {\n",
      "                        part_time: ComputeFVAandKVATask(portfolio=ccp_port,\n",
      "                                                        index=cm_index,\n",
      "                                                        vm_accounts=vm_accounts,\n",
      "                                                        im_accounts=im_accounts,\n",
      "                                                        df_accounts=df_accounts,\n",
      "                                                        regul_capital=regul_capital,\n",
      "                                                        alpha=alpha,\n",
      "                                                        exp_distrib=exp_distrib,\n",
      "                                                        results=results)\n",
      "                    } if part_time<=maturity else {}\n",
      "    \n",
      "    times_i = {}    \n",
      "    times_i.update(tau_times)\n",
      "    times_i.update(sig_times)\n",
      "    times_i.update(df_times)\n",
      "    times_i.update(last_marg_call_times)\n",
      "    times_i.update(liquid_times)\n",
      "    times_i.update(particle_time)\n",
      "    \n",
      "    temp = OrderedDict(sorted(times_i.items()))    \n",
      "    sim_times = temp.keys()\n",
      "    \n",
      "    reset_task = ResetTask()    \n",
      "    reset_task.perform(time=sim_times, underlyings=[b], derivatives=[swap],\n",
      "                      states=states, accounts=dict_accounts)\n",
      "    \n",
      "    for (t, task) in temp.iteritems():\n",
      "        #print t, task\n",
      "        task.perform(t=t)\n",
      "    \n",
      "exec_time = time.time() - start_time"
     ],
     "language": "python",
     "metadata": {},
     "outputs": [
      {
       "output_type": "stream",
       "stream": "stderr",
       "text": [
        "../..\\maths\\montecarlo\\process\\brownianmotion.py:49: RuntimeWarning: invalid value encountered in add\n",
        "  return tmp + tmp2.T\n"
       ]
      }
     ],
     "prompt_number": 30
    },
    {
     "cell_type": "heading",
     "level": 3,
     "metadata": {
      "zanadu": {
       "is_abstract": false,
       "is_hidden": false
      }
     },
     "source": [
      "End of parallelisation"
     ]
    },
    {
     "cell_type": "code",
     "collapsed": false,
     "input": [
      "# 1st index: CVA\n",
      "# 3st index: FVA\n",
      "# 4th index: KVA\n",
      "\n",
      "tot_cva = results['cva']\n",
      "tot_fva = results['fva']\n",
      "tot_kva = results['kva']\n",
      "\n",
      "tot_cva2 = results['cva_square']\n",
      "tot_fva2 = results['fva_square']\n",
      "tot_kva2 = results['kva_square']\n",
      "\n",
      "labels = ['CVA', 'FVA', 'KVA']\n",
      "expectations = []\n",
      "mod_variances = []\n",
      "\n",
      "e_cva = tot_cva / N\n",
      "e_fva = tot_fva / N\n",
      "e_kva = tot_kva / N\n",
      "\n",
      "expectations.append(e_cva)\n",
      "expectations.append(e_fva)\n",
      "expectations.append(e_kva)\n",
      "\n",
      "mod_v_cva = (tot_cva2/N - e_cva**2) / (N-1)\n",
      "mod_v_fva = (tot_fva2/N - e_fva**2) / (N-1)\n",
      "mod_v_kva = (tot_kva2/N - e_kva**2) / (N-1)\n",
      "\n",
      "mod_variances.append(mod_v_cva)\n",
      "mod_variances.append(mod_v_fva)\n",
      "mod_variances.append(mod_v_kva)"
     ],
     "language": "python",
     "metadata": {},
     "outputs": [],
     "prompt_number": 31
    },
    {
     "cell_type": "code",
     "collapsed": false,
     "input": [
      "# Confidence Interval results:\n",
      "from scipy.stats import norm\n",
      "\n",
      "conf_level = 0.95\n",
      "z_level = norm.ppf(0.5*(1+conf_level))\n",
      "\n",
      "print \"CCVA case\"\n",
      "for i in range(30):\n",
      "    print \"-\",\n",
      "\n",
      "print \"\\n\\nResults for %d iterations\"%(N)\n",
      "print \"Execution time: %s sec\"%exec_time\n",
      "\n",
      "print \"\\nUsed discount factor: %s\"%discount\n",
      "\n",
      "print \"Nb of CM: %s\"%nb_cm\n",
      "\n",
      "print \"Interested in member index: %s\\n\"%(cm_index)\n",
      "print \"Default intensity of [%s] = %d bps\"%(cm_index, copula._gamma_*1e4)\n",
      "for sub, l in zip(subsets_defaulters, intensity_defaulters):\n",
      "    print \"Default intensity of %s = %s\"%([x for x in sub], \"%d bps\"%(l*1e4))\n",
      "print\n",
      "\n",
      "print swap\n",
      "\n",
      "print \"\\nPrice of the swap at t=0: %s\"%price_0\n",
      "print \"Price of the fixed leg at t=0: %s\"%(np.dot(swap.delta_time, [discount(t) for t in swap.pillars[1:]]) * swap.strike * notional)\n",
      "print \"\\nQuantities bought:\\n %s\\n\"%members_positions\n",
      "print \"Portfolio values of actors contracted:\\n %s\\n\"%portfolio_at_time_0\n",
      "\n",
      "#print \"\\nConfidence level used for IM: %.2f\\n\"%conf_level_im\n",
      "\n",
      "for label, e, mv in zip(labels, expectations, mod_variances):\n",
      "    half_inter = z_level*np.sqrt(mv)\n",
      "    print \"The %s of the bank lies in the interval: [%.4f, %.4f]\"%(label, e-half_inter, e+half_inter)"
     ],
     "language": "python",
     "metadata": {},
     "outputs": [
      {
       "output_type": "stream",
       "stream": "stdout",
       "text": [
        "CCVA case\n",
        "- - - - - - - - - - - - - - - - - - - - - - - - - - - - - - \n",
        "\n",
        "Results for 10000 iterations\n",
        "Execution time: 22.5429999828 sec\n",
        "\n",
        "Used discount factor: Constant discount factor process with rate r = 0.02\n",
        "Nb of CM: 3\n",
        "Interested in member index: 0\n",
        "\n",
        "Default intensity of [0] = 245 bps\n",
        "Default intensity of [1] = 100 bps\n",
        "Default intensity of [2] = 50 bps\n",
        "\n",
        "Swap contract of maturity T = 5 years, over S^0 with strike K = 104.821, paying at {0.00, 0.25, 0.50, 0.75, 1.00, 1.25, 1.50, 1.75, 2.00, 2.25, 2.50, 2.75, 3.00, 3.25, 3.50, 3.75, 4.00, 4.25, 4.50, 4.75, 5.00}\n",
        "\n",
        "Price of the swap at t=0: 1.13686837722e-13\n",
        "Price of the fixed leg at t=0: 100.0\n",
        "\n",
        "Quantities bought:\n",
        " [[ 0.2010025 ]\n",
        " [-0.10050125]\n",
        " [-0.10050125]]\n",
        "\n",
        "Portfolio values of actors contracted:\n",
        " [[  2.28513391e-14]\n",
        " [ -1.14256695e-14]\n",
        " [ -1.14256695e-14]]\n",
        "\n",
        "The CVA of the bank lies in the interval: [0.0005, 0.0011]\n",
        "The FVA of the bank lies in the interval: [0.1010, 0.1069]\n",
        "The KVA of the bank lies in the interval: [0.0354, 0.0361]\n"
       ]
      }
     ],
     "prompt_number": 41
    },
    {
     "cell_type": "code",
     "collapsed": false,
     "input": [],
     "language": "python",
     "metadata": {},
     "outputs": []
    }
   ],
   "metadata": {}
  }
 ]
}