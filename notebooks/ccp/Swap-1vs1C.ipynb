{
 "cells": [
  {
   "cell_type": "code",
   "execution_count": 1,
   "metadata": {
    "collapsed": true,
    "scrolled": true
   },
   "outputs": [],
   "source": [
    "import sys\n",
    "\n",
    "sys.path.append('../..')"
   ]
  },
  {
   "cell_type": "code",
   "execution_count": 2,
   "metadata": {
    "collapsed": false,
    "scrolled": true
   },
   "outputs": [
    {
     "name": "stdout",
     "output_type": "stream",
     "text": [
      "['N', 'credit', 'randomization', 'underlyings']\n"
     ]
    }
   ],
   "source": [
    "import dill\n",
    "\n",
    "loaded_data = None\n",
    "\n",
    "with open('../simulations/data.pkl', 'rb') as f:\n",
    "    loaded_data = dill.load(f)\n",
    "\n",
    "keys = loaded_data.keys()\n",
    "keys.sort()\n",
    "print keys"
   ]
  },
  {
   "cell_type": "code",
   "execution_count": 3,
   "metadata": {
    "collapsed": true,
    "scrolled": true
   },
   "outputs": [],
   "source": [
    "# Instead of taking 365 standard days or 252 trading days\n",
    "# in order to get some easy computations for the eqty and df time grids\n",
    "# I chose to take 360 days of tradings\n",
    "\n",
    "step = 1/360.\n",
    "delta = 5*step\n",
    "\n",
    "maturity = loaded_data[\"randomization\"][\"maturity\"]"
   ]
  },
  {
   "cell_type": "markdown",
   "metadata": {},
   "source": [
    "#Discount"
   ]
  },
  {
   "cell_type": "code",
   "execution_count": 4,
   "metadata": {
    "collapsed": true,
    "scrolled": true
   },
   "outputs": [],
   "source": [
    "from finance.discountfactor import ConstantRateDiscountFactor \n",
    "\n",
    "r = 0.02\n",
    "discount = ConstantRateDiscountFactor(r)"
   ]
  },
  {
   "cell_type": "markdown",
   "metadata": {},
   "source": [
    "# Underlying"
   ]
  },
  {
   "cell_type": "code",
   "execution_count": 5,
   "metadata": {
    "collapsed": true,
    "scrolled": true
   },
   "outputs": [],
   "source": [
    "udlyings = loaded_data[\"underlyings\"]\n",
    "\n",
    "bm = udlyings[0]\n",
    "time_grid = bm.time"
   ]
  },
  {
   "cell_type": "markdown",
   "metadata": {},
   "source": [
    "# Derivative"
   ]
  },
  {
   "cell_type": "code",
   "execution_count": 6,
   "metadata": {
    "collapsed": true,
    "scrolled": true
   },
   "outputs": [],
   "source": [
    "derivatives_nb = 1"
   ]
  },
  {
   "cell_type": "code",
   "execution_count": 7,
   "metadata": {
    "collapsed": false,
    "scrolled": true
   },
   "outputs": [
    {
     "name": "stdout",
     "output_type": "stream",
     "text": [
      "Swap contract of maturity T = 5 years, over S^0 with strike K = 104.560, paying at {0.00, 0.50, 1.00, 1.50, 2.00, 2.50, 3.00, 3.50, 4.00, 4.50, 5.00}\n",
      "\n",
      "Price swap at t=0 =  -5.68434188608e-14\n"
     ]
    }
   ],
   "source": [
    "from finance.products.european.assetswap import (\n",
    "    SwapContract,\n",
    ")\n",
    "\n",
    "swap_delta = 0.5\n",
    "\n",
    "swap_dates = SwapContract.generate_payment_dates(0, maturity, swap_delta)\n",
    "swap = SwapContract(bm, discount, swap_dates)\n",
    "\n",
    "price_0 = swap.price(0.)\n",
    "\n",
    "print swap\n",
    "print \"\\nPrice swap at t=0 = \",price_0"
   ]
  },
  {
   "cell_type": "markdown",
   "metadata": {},
   "source": [
    "# Exposure"
   ]
  },
  {
   "cell_type": "code",
   "execution_count": 8,
   "metadata": {
    "collapsed": true,
    "scrolled": true
   },
   "outputs": [],
   "source": [
    "from risk.exposures import EuropeanQuantileGeomBrownianExposure\n",
    "\n",
    "quantile_im = 0.80\n",
    "prop_df = 0.2\n",
    "\n",
    "hist_drift = bm.drifts[0][0]\n",
    "hist_vol = bm.vols[0][0]\n",
    "\n",
    "exposure = EuropeanQuantileGeomBrownianExposure(swap, discount, hist_drift, hist_vol)"
   ]
  },
  {
   "cell_type": "markdown",
   "metadata": {},
   "source": [
    "# Indexes stuffs"
   ]
  },
  {
   "cell_type": "markdown",
   "metadata": {},
   "source": [
    "## Ids of $B$ and $C$"
   ]
  },
  {
   "cell_type": "code",
   "execution_count": 9,
   "metadata": {
    "collapsed": false,
    "scrolled": true
   },
   "outputs": [
    {
     "name": "stdout",
     "output_type": "stream",
     "text": [
      "Bank id: 64 (nb = 1) \n",
      "\n",
      "Counterparties id: 17 (nb = 1)\n"
     ]
    }
   ],
   "source": [
    "copula = loaded_data[\"credit\"][\"copula\"]\n",
    "\n",
    "bc_subsets_indexes = loaded_data[\"credit\"][\"bc_subsets_indexes\"]\n",
    "\n",
    "# Bank id\n",
    "b_id = 64\n",
    "\n",
    "# Counterparty id\n",
    "c_id = 17\n",
    "c_ids = [c_id]\n",
    "\n",
    "bc_ids = [b_id, c_id]\n",
    "\n",
    "print \"Bank id: %s (nb = 1) \\n\"%b_id\n",
    "print \"Counterparties id: %s (nb = 1)\"%(c_id)"
   ]
  },
  {
   "cell_type": "code",
   "execution_count": 10,
   "metadata": {
    "collapsed": false,
    "scrolled": true
   },
   "outputs": [
    {
     "name": "stdout",
     "output_type": "stream",
     "text": [
      "Obligor numbers: 125\n"
     ]
    }
   ],
   "source": [
    "obligors_nb = len(copula.subsets[bc_subsets_indexes[-1]][0])\n",
    "\n",
    "print \"Obligor numbers: %s\"%obligors_nb"
   ]
  },
  {
   "cell_type": "markdown",
   "metadata": {},
   "source": [
    "## Subsets indexes of the copula for $B$ and $C$"
   ]
  },
  {
   "cell_type": "code",
   "execution_count": 11,
   "metadata": {
    "collapsed": false,
    "scrolled": true
   },
   "outputs": [
    {
     "name": "stdout",
     "output_type": "stream",
     "text": [
      "Subsets that generated default times: [0, 1, 2, 3, 4, 5, 6, 7, 8, 9, 10, 11, 12, 13, 14, 15, 16, 17, 18, 19, 20, 21, 22, 23, 24, 25, 26, 27, 28, 29, 30, 31, 32, 33, 34, 35, 36, 37, 38, 39, 40, 41, 42, 43, 44, 45, 46, 47, 48, 49, 50, 51, 52, 53, 54, 55, 56, 57, 58, 59, 60, 61, 62, 63, 64, 65, 66, 67, 68, 69, 70, 71, 72, 73, 74, 75, 76, 77, 78, 79, 80, 81, 82, 83, 84, 85, 86, 87, 88, 89, 90, 91, 92, 93, 94, 95, 96, 97, 98, 99, 100, 101, 102, 103, 104, 105, 106, 107, 108, 109, 110, 111, 112, 113, 114, 115, 116, 117, 118, 119, 120, 121, 122, 123, 124, 125, 126, 127, 128, 129]\n",
      "\n",
      "Bank subsets indexes: [64, 126, 127, 128, 129]\n",
      "\n",
      "Counterparties subsets indexes: [17]\n"
     ]
    }
   ],
   "source": [
    "b_subsets_indexes = copula.get_indexes_including(b_id)\n",
    "c_subsets_indexes = copula.get_indexes_including(c_id)\n",
    "\n",
    "c_subsets_indexes = list(set(c_subsets_indexes)-set(b_subsets_indexes))\n",
    "    \n",
    "b_subsets_indexes.sort()\n",
    "c_subsets_indexes.sort()\n",
    "    \n",
    "print \"Subsets that generated default times: %s\\n\"%bc_subsets_indexes\n",
    "print \"Bank subsets indexes: %s\\n\"%b_subsets_indexes\n",
    "print \"Counterparties subsets indexes: %s\"%c_subsets_indexes"
   ]
  },
  {
   "cell_type": "markdown",
   "metadata": {},
   "source": [
    "# Portfolio construction"
   ]
  },
  {
   "cell_type": "code",
   "execution_count": 12,
   "metadata": {
    "collapsed": true,
    "scrolled": true
   },
   "outputs": [],
   "source": [
    "import numpy as np\n",
    "\n",
    "p_fixed = 100.\n",
    "strike = swap.strike\n",
    "\n",
    "delta_times = swap.delta_time\n",
    "discount_factors = [discount(t) for t in swap.pillars[1:]]\n",
    "\n",
    "delta_beta_sum = np.dot(delta_times, discount_factors)\n",
    "\n",
    "notional = p_fixed / (strike*delta_beta_sum)"
   ]
  },
  {
   "cell_type": "code",
   "execution_count": 13,
   "metadata": {
    "collapsed": true,
    "scrolled": true
   },
   "outputs": [],
   "source": [
    "from finance.portfolio import CCPPortfolio\n",
    "\n",
    "pos = CCPPortfolio.generate_1_vs_all_positions(b_id, bc_ids, obligors_nb)\n",
    "positions = np.array(pos*notional).reshape(pos.size, 1)"
   ]
  },
  {
   "cell_type": "code",
   "execution_count": 14,
   "metadata": {
    "collapsed": true,
    "scrolled": true
   },
   "outputs": [],
   "source": [
    "port = CCPPortfolio(positions, [swap], [exposure])"
   ]
  },
  {
   "cell_type": "markdown",
   "metadata": {},
   "source": [
    "# VM, IM and DF accounts"
   ]
  },
  {
   "cell_type": "code",
   "execution_count": 15,
   "metadata": {
    "collapsed": true,
    "scrolled": true
   },
   "outputs": [],
   "source": [
    "from ccp.accounts import Accounts, DFAccounts\n",
    "from ccp.states import MembersState\n",
    "\n",
    "states = MembersState(obligors_nb)\n",
    "vm_accounts = Accounts(states, derivatives_nb)\n",
    "im_accounts = Accounts(states, derivatives_nb)\n",
    "df_accounts = DFAccounts(states, derivatives_nb)"
   ]
  },
  {
   "cell_type": "markdown",
   "metadata": {},
   "source": [
    "# Skin in the game"
   ]
  },
  {
   "cell_type": "code",
   "execution_count": 16,
   "metadata": {
    "collapsed": true,
    "scrolled": true
   },
   "outputs": [],
   "source": [
    "from ccp.sig import SkinInTheGame\n",
    "\n",
    "sig = SkinInTheGame(0.)"
   ]
  },
  {
   "cell_type": "markdown",
   "metadata": {},
   "source": [
    "# Regulatory capital"
   ]
  },
  {
   "cell_type": "code",
   "execution_count": 17,
   "metadata": {
    "collapsed": true,
    "scrolled": true
   },
   "outputs": [],
   "source": [
    "from risk.basel.exposures import EuropeanBaselGeometricBrownianExposure\n",
    "\n",
    "k_exposure = EuropeanBaselGeometricBrownianExposure(swap, hist_drift, hist_vol)"
   ]
  },
  {
   "cell_type": "code",
   "execution_count": 18,
   "metadata": {
    "collapsed": true,
    "scrolled": true
   },
   "outputs": [],
   "source": [
    "from risk.basel.capital import CCPRegulatoryCapital2014\n",
    "\n",
    "regul_cap = CCPRegulatoryCapital2014(vm_accounts, im_accounts, df_accounts, sig, port, [k_exposure])"
   ]
  },
  {
   "cell_type": "code",
   "execution_count": 19,
   "metadata": {
    "collapsed": true,
    "scrolled": true
   },
   "outputs": [],
   "source": [
    "cap_risk_horizon = -1\n",
    "cap_risk_period = 5./360\n",
    "cap_conf_level_95 = 0.95\n",
    "cap_conf_level_99 = 0.99"
   ]
  },
  {
   "cell_type": "markdown",
   "metadata": {},
   "source": [
    "# Funding and capital parameters"
   ]
  },
  {
   "cell_type": "code",
   "execution_count": 20,
   "metadata": {
    "collapsed": true,
    "scrolled": true
   },
   "outputs": [],
   "source": [
    "lambda_ = 0.\n",
    "k_ = 0.1\n",
    "c_0 = -.0020\n",
    "\n",
    "bank_recov = 0.4"
   ]
  },
  {
   "cell_type": "markdown",
   "metadata": {},
   "source": [
    "# Creation of the different taks"
   ]
  },
  {
   "cell_type": "code",
   "execution_count": 21,
   "metadata": {
    "collapsed": true,
    "scrolled": true
   },
   "outputs": [],
   "source": [
    "class ITask(object):\n",
    "    level = None\n",
    "    \n",
    "    def perform(self, **kwargs):\n",
    "        raise NotImplementedError()"
   ]
  },
  {
   "cell_type": "code",
   "execution_count": 22,
   "metadata": {
    "collapsed": true,
    "scrolled": true
   },
   "outputs": [],
   "source": [
    "class PutMembersAtDefaultTask(ITask):\n",
    "    level = 1\n",
    "    \n",
    "    def __init__(self, **kwargs):\n",
    "        self.__states = kwargs[\"states\"]\n",
    "        self.potential_defaulters = kwargs[\"defaulters\"]\n",
    "        self.defaulters = []\n",
    "        \n",
    "    def perform(self, **kwargs):\n",
    "        self.__tau = kwargs[\"t\"]\n",
    "        \n",
    "        for i in self.potential_defaulters:\n",
    "            for j in list(i):\n",
    "                if self.__states.is_alive(j):\n",
    "                    self.defaulters.append(j)\n",
    "                    self.__states.die(j)\n",
    "            \n",
    "        self.defaulters.sort()"
   ]
  },
  {
   "cell_type": "code",
   "execution_count": 23,
   "metadata": {
    "collapsed": true,
    "scrolled": true
   },
   "outputs": [],
   "source": [
    "class LiquidatePortfolioTask(ITask):\n",
    "    level = 1\n",
    "    \n",
    "    def __init__(self, **kwargs):\n",
    "        self.__cm_index = kwargs[\"bank_index\"]\n",
    "        \n",
    "        self.__default_task = kwargs[\"default_task\"]\n",
    "                \n",
    "        self.__port = kwargs['portfolio']\n",
    "        self.__vm_accounts = kwargs['vm_accounts']\n",
    "        self.__im_accounts = kwargs['im_accounts']\n",
    "        self.__df_accounts = kwargs['df_accounts']\n",
    "                \n",
    "        self.__discount = kwargs[\"discount\"]\n",
    "        self.__sig = kwargs['sig']\n",
    "        \n",
    "        self.results = {}\n",
    "        \n",
    "    def perform(self, **kwargs):\n",
    "        self.__tau_delta = kwargs[\"t\"]\n",
    "        \n",
    "        self.new_defaulters_ids = self.__default_task.defaulters\n",
    "        \n",
    "        contract_prices = [d.price(self.__tau_delta) for d in self.__port.derivatives]\n",
    "        p_tau_delta = port.compute_value(contract_prices)[self.new_defaulters_ids, :]\n",
    "        p_tau_delta = np.sum(p_tau_delta, axis=1)\n",
    "        \n",
    "        q_tau_delta = p_tau_delta\n",
    "        \n",
    "        gamma_tau_delta = self.__vm_accounts.amounts + self.__im_accounts.amounts + self.__df_accounts.amounts\n",
    "        gamma_tau_delta = gamma_tau_delta[self.new_defaulters_ids, :]\n",
    "        gamma_tau_delta = np.sum(gamma_tau_delta, axis=1)\n",
    "        \n",
    "        loss_tau_delta = q_tau_delta - gamma_tau_delta\n",
    "        \n",
    "        remain_collat_loss = 0.\n",
    "        for l in loss_tau_delta:\n",
    "            remain_collat_loss += np.maximum(l, 0)\n",
    "            \n",
    "        remaining_loss = self.__sig.handle_breach(remain_collat_loss)\n",
    "        \n",
    "        frac = self.__df_accounts.get_amount(self.__cm_index) / self.__df_accounts.total_default_fund()\n",
    "        \n",
    "        partial_loss = frac*remaining_loss\n",
    "        \n",
    "        tmp_cva = self.__discount(self.__tau_delta) * partial_loss\n",
    "        self.results[\"cva\"] = tmp_cva"
   ]
  },
  {
   "cell_type": "code",
   "execution_count": 24,
   "metadata": {
    "collapsed": true,
    "scrolled": true
   },
   "outputs": [],
   "source": [
    "class FillVMandIMTask(ITask):\n",
    "    level = 0\n",
    "    \n",
    "    def __init__(self, **kwargs):\n",
    "        self._delta = kwargs[\"delta\"]\n",
    "        \n",
    "        self._port = kwargs['portfolio']        \n",
    "        self._vm_accounts = kwargs['vm_accounts']\n",
    "        self._im_accounts = kwargs['im_accounts']\n",
    "        \n",
    "        self._quantile_im = kwargs['quantile_im']\n",
    "        \n",
    "        self._zeros = np.zeros(self._port.derivatives.size)\n",
    "        self._zeros.fill(1e-5)\n",
    "        \n",
    "    def perform(self, **kwargs):\n",
    "        self._tau_minus = kwargs[\"t\"]\n",
    "        \n",
    "        #############\n",
    "        ## VM part ##\n",
    "        #############        \n",
    "        contract_prices = [d.price(self._tau_minus) for d in self._port.derivatives]\n",
    "        p_tau_minus = self._port.compute_value(contract_prices)\n",
    "        \n",
    "        for ii, p_and_l in enumerate(p_tau_minus):\n",
    "            self._vm_accounts.put_amounts(ii, p_and_l)\n",
    "        \n",
    "        #############\n",
    "        ## IM part ##\n",
    "        #############        \n",
    "        exposures = self._port.compute_exposure(self._tau_minus, risk_period=self._delta, conf_level=self._quantile_im)\n",
    "        for ii, ee in enumerate(exposures):\n",
    "            self._im_accounts.put_amounts(ii, np.maximum(ee, self._zeros).tolist())"
   ]
  },
  {
   "cell_type": "code",
   "execution_count": 25,
   "metadata": {
    "collapsed": true,
    "scrolled": true
   },
   "outputs": [],
   "source": [
    "class FillIMVMandDFTask(FillVMandIMTask):\n",
    "    def __init__(self, **kwargs):\n",
    "        super(FillIMVMandDFTask, self).__init__(**kwargs)\n",
    "        self._df_accounts = kwargs['df_accounts']        \n",
    "        self._prop_df = kwargs['prop_df']\n",
    "        \n",
    "    def perform(self, **kwargs):\n",
    "        super(FillIMVMandDFTask, self).perform(**kwargs)\n",
    "        self._t = kwargs[\"t\"]\n",
    "        \n",
    "        exposures = self._im_accounts.amounts*self._prop_df\n",
    "        for ii, ee in enumerate(exposures):\n",
    "            self._df_accounts.put_amounts(ii, ee)"
   ]
  },
  {
   "cell_type": "code",
   "execution_count": 26,
   "metadata": {
    "collapsed": true,
    "scrolled": true
   },
   "outputs": [],
   "source": [
    "class ReFillSigTask(ITask):\n",
    "    level = 0\n",
    "    \n",
    "    def __init__(self, **kwargs):\n",
    "        self.__sig = kwargs['sig']\n",
    "        \n",
    "        self.__regul_cap = kwargs['regul_capital']\n",
    "        self.__risk_period = kwargs['cap_risk_period']\n",
    "        self.__risk_horizon = kwargs['cap_risk_horizon']\n",
    "        self.__conf_level = kwargs['cap_conf_level']\n",
    "        \n",
    "        self.__collat_task = FillIMVMandDFTask(delta=kwargs['delta'], portfolio=kwargs['portfolio'],\n",
    "                                               vm_accounts=kwargs['vm_accounts'],\n",
    "                                               im_accounts=kwargs['im_accounts'], \n",
    "                                               quantile_im=kwargs['quantile_im'],\n",
    "                                               df_accounts=kwargs['df_accounts'], \n",
    "                                               prop_df=kwargs['prop_df'])\n",
    "    \n",
    "    def perform(self, **kwargs):\n",
    "        t = kwargs[\"t\"]        \n",
    "        \n",
    "        self.__collat_task.perform(t=t)\n",
    "        \n",
    "        if t == 0.:\n",
    "            self.__sig.recover()\n",
    "        else:\n",
    "            self.__sig.update_value(t, \n",
    "                                    regul_capital=self.__regul_cap, \n",
    "                                    risk_horizon=self.__risk_horizon, \n",
    "                                    risk_period=self.__risk_period,\n",
    "                                    conf_level=self.__conf_level)"
   ]
  },
  {
   "cell_type": "code",
   "execution_count": 27,
   "metadata": {
    "collapsed": true,
    "scrolled": true
   },
   "outputs": [],
   "source": [
    "from risk.basel.exposures import SABaselExposure\n",
    "\n",
    "class ComputeDFKVATask(ITask):\n",
    "    level = 1\n",
    "    \n",
    "    def __init__(self, **kwargs):        \n",
    "        self.__cm_index = kwargs[\"bank_index\"]\n",
    "        \n",
    "        self.__delta = kwargs[\"delta\"]\n",
    "        self.__exp_distrib = kwargs[\"exp_distrib\"]\n",
    "        \n",
    "        self.__copula = kwargs[\"copula\"]\n",
    "        self.__cm_subset_indexes = kwargs[\"bank_subsets_indexes\"]\n",
    "        \n",
    "        self.__port = kwargs['portfolio']        \n",
    "        self.__time_grid = self.__port.derivatives[0].underlying.time\n",
    "        \n",
    "        self.__vm_accounts = kwargs['vm_accounts']\n",
    "        self.__im_accounts = kwargs['im_accounts']\n",
    "        self.__df_accounts = kwargs['df_accounts']\n",
    "        \n",
    "        self.__discount = kwargs[\"discount\"]\n",
    "        \n",
    "        self.__regul_cap = kwargs['regul_capital']\n",
    "        self.__risk_period = kwargs['cap_risk_period']\n",
    "        self.__risk_horizon = kwargs['cap_risk_horizon']\n",
    "        self.__conf_level95 = kwargs['cap_conf_level95']\n",
    "        self.__conf_level99 = kwargs['cap_conf_level99']\n",
    "        \n",
    "        self.__c_zeta = kwargs[\"c_zeta\"]\n",
    "        self.__cm_recov = kwargs[\"bank_recov\"]\n",
    "        self.__lambda_zeta = kwargs[\"lambda_zeta\"]\n",
    "        self.__k_zeta = kwargs[\"k_zeta\"]\n",
    "        \n",
    "        self.__collat_task = FillIMVMandDFTask(delta=delta, portfolio=self.__port,\n",
    "                                               vm_accounts=self.__vm_accounts,\n",
    "                                               im_accounts=self.__im_accounts, \n",
    "                                               quantile_im=kwargs['quantile_im'],\n",
    "                                               df_accounts=self.__df_accounts, \n",
    "                                               prop_df=kwargs['prop_df'])\n",
    "        \n",
    "        self.__k_exposure_sa = SABaselExposure(self.__port)\n",
    "        \n",
    "        self.results = {}\n",
    "    \n",
    "    def perform(self, **kwargs):\n",
    "        self.__zeta = kwargs[\"t\"]\n",
    "        self.__zeta_delta = time_offseter(self.__zeta+self.__delta, self.__time_grid, True) \n",
    "        \n",
    "        inv_pdf = 1./self.__exp_distrib.pdf(zeta)\n",
    "        \n",
    "        beta_zeta = self.__discount(self.__zeta)\n",
    "        \n",
    "        self.__collat_task.perform(t=self.__zeta)\n",
    "        \n",
    "        ################\n",
    "        ### DVA part ###\n",
    "        ################        \n",
    "        contract_prices = [d.price(self.__zeta_delta) for d in self.__port.derivatives]\n",
    "        p_zeta_delta = port.compute_value(contract_prices)\n",
    "        q_zeta_delta = p_zeta_delta\n",
    "        collateral = self.__vm_accounts.amounts + self.__im_accounts.amounts + self.__df_accounts.amounts        \n",
    "        \n",
    "        q_zeta_delta = q_zeta_delta[self.__cm_index].sum()\n",
    "        collateral = collateral[self.__cm_index].sum()\n",
    "        \n",
    "        loss = np.maximum(q_zeta_delta - collateral, 0.)\n",
    "        \n",
    "        gamma_zeta = self.__copula.tot_gamma(self.__zeta, subsets_indexes=self.__cm_subset_indexes)\n",
    "        \n",
    "        self.results[\"dva\"] = inv_pdf*self.__discount(self.__zeta_delta)*gamma_zeta*loss\n",
    "        \n",
    "        ################\n",
    "        ### FVA part ###\n",
    "        ################\n",
    "        contract_prices = [d.price(self.__zeta) for d in self.__port.derivatives]\n",
    "        p_zeta = port.compute_value(contract_prices)\n",
    "        fund = p_zeta[self.__cm_index].sum() - collateral\n",
    "        \n",
    "        bar_lambda_zeta = gamma_zeta*0.6\n",
    "        \n",
    "        tmp_fva = -self.__c_zeta * collateral\n",
    "        tmp_fva += -bar_lambda_zeta * np.minimum(fund, 0.)\n",
    "        tmp_fva += -self.__lambda_zeta * np.maximum(fund, 0.)\n",
    "        \n",
    "        self.results[\"fva\"] = inv_pdf*beta_zeta*tmp_fva\n",
    "        \n",
    "        ################\n",
    "        ### KVA part ###\n",
    "        ################\n",
    "        kva95 = self.__regul_cap.compute_kcm(self.__cm_index, self.__zeta,\n",
    "                                             risk_horizon=self.__risk_horizon, \n",
    "                                             risk_period=self.__risk_period,\n",
    "                                             conf_level=self.__conf_level95)\n",
    "        \n",
    "        kva99 = self.__regul_cap.compute_kcm(self.__cm_index, self.__zeta,\n",
    "                                             risk_horizon=self.__risk_horizon, \n",
    "                                             risk_period=self.__risk_period,\n",
    "                                             conf_level=self.__conf_level99)\n",
    "            \n",
    "        pf_losses = self.__k_exposure_sa(t=self.__zeta)\n",
    "        kvasa = self.__regul_cap.compute_kcm(self.__cm_index, self.__zeta,\n",
    "                                             pf_losses=pf_losses)\n",
    "        \n",
    "        self.results[\"kva95\"] = inv_pdf*self.__k_zeta*beta_zeta*kva95\n",
    "        self.results[\"kva99\"] = inv_pdf*self.__k_zeta*beta_zeta*kva99\n",
    "        self.results[\"kvasa\"] = inv_pdf*self.__k_zeta*beta_zeta*kvasa"
   ]
  },
  {
   "cell_type": "code",
   "execution_count": 28,
   "metadata": {
    "collapsed": true,
    "scrolled": true
   },
   "outputs": [],
   "source": [
    "def merge_dict(actual_dict, to_add):\n",
    "    for k, v in to_add.iteritems():\n",
    "        if k not in actual_dict:\n",
    "            actual_dict[k] = []\n",
    "            \n",
    "        actual_dict[k].append(v)\n",
    "        \n",
    "def sort_tasks_dict(a_dict):\n",
    "    for k, v in a_dict.iteritems():\n",
    "        v.sort(key=lambda x: x.level)"
   ]
  },
  {
   "cell_type": "markdown",
   "metadata": {},
   "source": [
    "#MC loop"
   ]
  },
  {
   "cell_type": "code",
   "execution_count": 29,
   "metadata": {
    "collapsed": true,
    "scrolled": true
   },
   "outputs": [],
   "source": [
    "from utils import time_offseter"
   ]
  },
  {
   "cell_type": "code",
   "execution_count": 30,
   "metadata": {
    "collapsed": true,
    "scrolled": true
   },
   "outputs": [],
   "source": [
    "N = loaded_data[\"N\"]"
   ]
  },
  {
   "cell_type": "code",
   "execution_count": 31,
   "metadata": {
    "collapsed": true,
    "scrolled": true
   },
   "outputs": [],
   "source": [
    "results_globs = {\"cva\": {\"sum\": 0., \"sum2\": 0.},\n",
    "                 \"dva\": {\"sum\": 0., \"sum2\": 0.},\n",
    "                 \"fva\": {\"sum\": 0., \"sum2\": 0.},\n",
    "                 \"kva95\": {\"sum\": 0., \"sum2\": 0.},\n",
    "                 \"kva99\": {\"sum\": 0., \"sum2\": 0.},\n",
    "                 \"kvasa\": {\"sum\": 0., \"sum2\": 0.}}"
   ]
  },
  {
   "cell_type": "code",
   "execution_count": 32,
   "metadata": {
    "collapsed": true,
    "scrolled": true
   },
   "outputs": [],
   "source": [
    "from scipy.stats import expon\n",
    "\n",
    "exp_distrib_params = loaded_data[\"randomization\"][\"distrib\"]\n",
    "exp_distrib = expon(loc=exp_distrib_params[\"loc\"], scale=exp_distrib_params[\"scale\"])\n",
    "\n",
    "zetas = loaded_data[\"randomization\"][\"zetas\"]\n",
    "default_times_mat = loaded_data[\"credit\"][\"default_times\"]"
   ]
  },
  {
   "cell_type": "code",
   "execution_count": 33,
   "metadata": {
    "collapsed": true,
    "scrolled": true
   },
   "outputs": [],
   "source": [
    "sig_time_grid = [t for t in time_grid if t.is_integer()]\n",
    "df_time_grid = [t for t in time_grid if (12*t).is_integer()]"
   ]
  },
  {
   "cell_type": "code",
   "execution_count": 34,
   "metadata": {
    "collapsed": false,
    "scrolled": true
   },
   "outputs": [],
   "source": [
    "import time\n",
    "\n",
    "tic = time.time()\n",
    "\n",
    "b_df_times_indexes = [ii for ii, ind in enumerate(bc_subsets_indexes) if ind in b_subsets_indexes]\n",
    "\n",
    "for i in range(N):\n",
    "    # Resurrecting the states\n",
    "    # resets to 0. the values\n",
    "    # of the VMs and IMs\n",
    "    states.resurrect_all()\n",
    "    \n",
    "    zeta = zetas[i]\n",
    "    \n",
    "    # We set the simulated underlying here\n",
    "    # that has the all time grid with\n",
    "    # mpor = 1./360\n",
    "    swap.underlying = udlyings[i]\n",
    "    \n",
    "    default_times = default_times_mat[i]\n",
    "    b_min_df_time = default_times[b_df_times_indexes].min()\n",
    "    bar_tau = min(b_min_df_time, maturity)\n",
    "    \n",
    "    df_times_dict = {\n",
    "        t: PutMembersAtDefaultTask(states=states, defaulters=copula.subsets[bc_subsets_indexes[j]])\n",
    "        for j, t in enumerate(default_times) if t < bar_tau\n",
    "    }\n",
    "    \n",
    "    liq_times_dict = {\n",
    "        time_offseter(t+delta, time_grid): \n",
    "        LiquidatePortfolioTask(bank_index=b_id, default_task=task, \n",
    "                               portfolio=port, discount=discount, sig=sig,\n",
    "                               vm_accounts=vm_accounts, im_accounts=im_accounts, \n",
    "                               df_accounts=df_accounts)\n",
    "        for t, task in df_times_dict.iteritems() if t+delta < bar_tau        \n",
    "    }\n",
    "    \n",
    "    tau_minus_times_dict = {\n",
    "        time_offseter(t-delta, time_grid, True):\n",
    "        FillVMandIMTask(delta=delta, portfolio=port, \n",
    "                        vm_accounts=vm_accounts, im_accounts=im_accounts,\n",
    "                        quantile_im=quantile_im)        \n",
    "        for t in df_times_dict.keys()\n",
    "    }\n",
    "    \n",
    "    dfund_times = [time_offseter(t, df_time_grid, True) for t in df_times_dict.keys()]    \n",
    "    dfund_times_dict = {\n",
    "        t: FillIMVMandDFTask(delta=delta, portfolio=port, \n",
    "                             vm_accounts=vm_accounts, \n",
    "                             im_accounts=im_accounts, quantile_im=quantile_im,\n",
    "                             df_accounts=df_accounts, prop_df=prop_df)\n",
    "        for t in dfund_times\n",
    "    }\n",
    "\n",
    "    sig_times = {\n",
    "        t: ReFillSigTask(delta=delta, portfolio=port, \n",
    "                         vm_accounts=vm_accounts, \n",
    "                         im_accounts=im_accounts, quantile_im=quantile_im,\n",
    "                         df_accounts=df_accounts, prop_df=prop_df,\n",
    "                         sig=sig, regul_capital=regul_cap, \n",
    "                         cap_risk_horizon=cap_risk_horizon, \n",
    "                         cap_risk_period=cap_risk_period,\n",
    "                         cap_conf_level=cap_conf_level_95)\n",
    "        for t in sig_time_grid if t < zeta\n",
    "    }\n",
    "\n",
    "    dfkva_time = {\n",
    "        t: ComputeDFKVATask(bank_index=b_id, exp_distrib=exp_distrib, \n",
    "                            copula=copula, portfolio=port, delta=delta,\n",
    "                            bank_subsets_indexes=b_subsets_indexes,\n",
    "                            vm_accounts=vm_accounts, \n",
    "                            im_accounts=im_accounts, quantile_im=quantile_im,\n",
    "                            df_accounts=df_accounts, prop_df=prop_df,\n",
    "                            discount=discount, \n",
    "                            regul_capital=regul_cap, \n",
    "                            cap_risk_horizon=cap_risk_horizon, \n",
    "                            cap_risk_period=cap_risk_period,\n",
    "                            cap_conf_level95=cap_conf_level_95, \n",
    "                            cap_conf_level99=cap_conf_level_99, \n",
    "                            c_zeta=c_0, \n",
    "                            lambda_zeta=lambda_, k_zeta=k_, bank_recov=bank_recov)\n",
    "        for t in [zeta] if zeta <= bar_tau\n",
    "    }\n",
    "    \n",
    "    current_times_dict = dict()\n",
    "    all_dicts = [df_times_dict, liq_times_dict, tau_minus_times_dict, \\\n",
    "                 dfund_times_dict, sig_times, dfkva_time]\n",
    "    \n",
    "    for dd in all_dicts:\n",
    "        merge_dict(current_times_dict, dd)\n",
    "    \n",
    "    sort_tasks_dict(current_times_dict)\n",
    "    \n",
    "    current_times = current_times_dict.keys()\n",
    "    current_times.sort()\n",
    "    \n",
    "    for t in current_times:\n",
    "        tasks = current_times_dict[t]\n",
    "        for task in tasks:\n",
    "            task.perform(t=t)\n",
    "        \n",
    "    cva_, dva_, fva_, kva95_, kva99_, kvasa_ = [0. for _ in range(6)]\n",
    "    for k, v in liq_times_dict.iteritems():\n",
    "        cva_ += v.results[\"cva\"]\n",
    "        \n",
    "    results_globs[\"cva\"][\"sum\"] += cva_\n",
    "    results_globs[\"cva\"][\"sum2\"] += cva_**2\n",
    "    \n",
    "    for k, v in dfkva_time.iteritems():\n",
    "        dva_ += v.results[\"dva\"]\n",
    "        fva_ += v.results[\"fva\"]\n",
    "        kva95_ += v.results[\"kva95\"]\n",
    "        kva99_ += v.results[\"kva99\"]\n",
    "        kvasa_ += v.results[\"kvasa\"]\n",
    "        \n",
    "    results_globs[\"dva\"][\"sum\"] += dva_\n",
    "    results_globs[\"dva\"][\"sum2\"] += dva_**2\n",
    "    \n",
    "    results_globs[\"fva\"][\"sum\"] += fva_\n",
    "    results_globs[\"fva\"][\"sum2\"] += fva_**2\n",
    "    \n",
    "    results_globs[\"kva95\"][\"sum\"] += kva95_\n",
    "    results_globs[\"kva95\"][\"sum2\"] += kva95_**2\n",
    "    \n",
    "    results_globs[\"kva99\"][\"sum\"] += kva99_\n",
    "    results_globs[\"kva99\"][\"sum2\"] += kva99_**2\n",
    "    \n",
    "    results_globs[\"kvasa\"][\"sum\"] += kvasa_\n",
    "    results_globs[\"kvasa\"][\"sum2\"] += kvasa_**2\n",
    "    \n",
    "toc = time.time()"
   ]
  },
  {
   "cell_type": "markdown",
   "metadata": {},
   "source": [
    "#Results"
   ]
  },
  {
   "cell_type": "code",
   "execution_count": 35,
   "metadata": {
    "collapsed": false,
    "scrolled": true
   },
   "outputs": [
    {
     "name": "stdout",
     "output_type": "stream",
     "text": [
      "Results for 20000 iterations (2242.602 secs.)\n",
      "\n",
      "Used discount factor: Constant discount factor process with rate r = 0.02\n",
      "\n",
      "Bank index 64 that belongs to the following MO copula subsets:\n",
      "- [64] with pillars [3 5] and intensity [ 0.00795383  0.01045393]\n",
      "\n",
      "- [64, 98, 99, 38, 70, 71, 104, 75, 76, 81, 78, 111, 17, 83, 120, 26, 124, 29, 31] with pillars [3 5] and intensity [ 0.0053745  0.0050889]\n",
      "\n",
      "- [17, 26, 29, 31, 38, 50, 55, 64, 66, 70, 71, 75, 76, 78, 81, 83, 98, 99, 103, 104, 107, 111, 120, 122, 124] with pillars [3 5] and intensity [ 0.0006145  0.0086692]\n",
      "\n",
      "- [0, 3, 4, 5, 9, 13, 17, 24, 25, 26, 27, 28, 29, 30, 31, 33, 36, 37, 38, 43, 45, 47, 50, 52, 55, 56, 57, 61, 64, 66, 70, 71, 72, 73, 75, 76, 78, 80, 81, 82, 83, 86, 87, 89, 90, 98, 99, 100, 103, 104, 107, 111, 112, 113, 114, 116, 118, 119, 120, 122, 124] with pillars [3 5] and intensity [  2.01650000e-04   9.33720000e-05]\n",
      "\n",
      "- [0, 1, 2, 3, 4, 5, 6, 7, 8, 9, 10, 11, 12, 13, 14, 15, 16, 17, 18, 19, 20, 21, 22, 23, 24, 25, 26, 27, 28, 29, 30, 31, 32, 33, 34, 35, 36, 37, 38, 39, 40, 41, 42, 43, 44, 45, 46, 47, 48, 49, 50, 51, 52, 53, 54, 55, 56, 57, 58, 59, 60, 61, 62, 63, 64, 65, 66, 67, 68, 69, 70, 71, 72, 73, 74, 75, 76, 77, 78, 79, 80, 81, 82, 83, 84, 85, 86, 87, 88, 89, 90, 91, 92, 93, 94, 95, 96, 97, 98, 99, 100, 101, 102, 103, 104, 105, 106, 107, 108, 109, 110, 111, 112, 113, 114, 115, 116, 117, 118, 119, 120, 121, 122, 123, 124] with pillars [3 5] and intensity [ 0.0016207  0.0076647]\n",
      "\n",
      "Counterparties indexes:\n",
      "[17]\n",
      "\n",
      "-----------------------------------------------------\n",
      "\n",
      "Counterparty index 17 belongs to the following MO copula subses:\n",
      "- [17] with pillars [3 5] and intensity [ 0.0195274   0.02429113]\n",
      "\n",
      "- [64, 98, 99, 38, 70, 71, 104, 75, 76, 81, 78, 111, 17, 83, 120, 26, 124, 29, 31] with pillars [3 5] and intensity [ 0.0053745  0.0050889]\n",
      "\n",
      "- [17, 26, 29, 31, 38, 50, 55, 64, 66, 70, 71, 75, 76, 78, 81, 83, 98, 99, 103, 104, 107, 111, 120, 122, 124] with pillars [3 5] and intensity [ 0.0006145  0.0086692]\n",
      "\n",
      "- [0, 3, 4, 5, 9, 13, 17, 24, 25, 26, 27, 28, 29, 30, 31, 33, 36, 37, 38, 43, 45, 47, 50, 52, 55, 56, 57, 61, 64, 66, 70, 71, 72, 73, 75, 76, 78, 80, 81, 82, 83, 86, 87, 89, 90, 98, 99, 100, 103, 104, 107, 111, 112, 113, 114, 116, 118, 119, 120, 122, 124] with pillars [3 5] and intensity [  2.01650000e-04   9.33720000e-05]\n",
      "\n",
      "- [0, 1, 2, 3, 4, 5, 6, 7, 8, 9, 10, 11, 12, 13, 14, 15, 16, 17, 18, 19, 20, 21, 22, 23, 24, 25, 26, 27, 28, 29, 30, 31, 32, 33, 34, 35, 36, 37, 38, 39, 40, 41, 42, 43, 44, 45, 46, 47, 48, 49, 50, 51, 52, 53, 54, 55, 56, 57, 58, 59, 60, 61, 62, 63, 64, 65, 66, 67, 68, 69, 70, 71, 72, 73, 74, 75, 76, 77, 78, 79, 80, 81, 82, 83, 84, 85, 86, 87, 88, 89, 90, 91, 92, 93, 94, 95, 96, 97, 98, 99, 100, 101, 102, 103, 104, 105, 106, 107, 108, 109, 110, 111, 112, 113, 114, 115, 116, 117, 118, 119, 120, 121, 122, 123, 124] with pillars [3 5] and intensity [ 0.0016207  0.0076647]\n",
      "\n",
      "\n",
      "\n",
      "-----------------------------------------------------\n",
      "\n",
      "Derivatives:\n",
      "- Swap contract of maturity T = 5 years, over S^0 with strike K = 104.560, paying at {0.00, 0.50, 1.00, 1.50, 2.00, 2.50, 3.00, 3.50, 4.00, 4.50, 5.00}\n",
      "\n",
      "Positions:\n",
      "[[-0.        ]\n",
      " [-0.        ]\n",
      " [-0.        ]\n",
      " [-0.        ]\n",
      " [-0.        ]\n",
      " [-0.        ]\n",
      " [-0.        ]\n",
      " [-0.        ]\n",
      " [-0.        ]\n",
      " [-0.        ]\n",
      " [-0.        ]\n",
      " [-0.        ]\n",
      " [-0.        ]\n",
      " [-0.        ]\n",
      " [-0.        ]\n",
      " [-0.        ]\n",
      " [-0.        ]\n",
      " [ 0.20201003]\n",
      " [-0.        ]\n",
      " [-0.        ]\n",
      " [-0.        ]\n",
      " [-0.        ]\n",
      " [-0.        ]\n",
      " [-0.        ]\n",
      " [-0.        ]\n",
      " [-0.        ]\n",
      " [-0.        ]\n",
      " [-0.        ]\n",
      " [-0.        ]\n",
      " [-0.        ]\n",
      " [-0.        ]\n",
      " [-0.        ]\n",
      " [-0.        ]\n",
      " [-0.        ]\n",
      " [-0.        ]\n",
      " [-0.        ]\n",
      " [-0.        ]\n",
      " [-0.        ]\n",
      " [-0.        ]\n",
      " [-0.        ]\n",
      " [-0.        ]\n",
      " [-0.        ]\n",
      " [-0.        ]\n",
      " [-0.        ]\n",
      " [-0.        ]\n",
      " [-0.        ]\n",
      " [-0.        ]\n",
      " [-0.        ]\n",
      " [-0.        ]\n",
      " [-0.        ]\n",
      " [-0.        ]\n",
      " [-0.        ]\n",
      " [-0.        ]\n",
      " [-0.        ]\n",
      " [-0.        ]\n",
      " [-0.        ]\n",
      " [-0.        ]\n",
      " [-0.        ]\n",
      " [-0.        ]\n",
      " [-0.        ]\n",
      " [-0.        ]\n",
      " [-0.        ]\n",
      " [-0.        ]\n",
      " [-0.        ]\n",
      " [-0.20201003]\n",
      " [-0.        ]\n",
      " [-0.        ]\n",
      " [-0.        ]\n",
      " [-0.        ]\n",
      " [-0.        ]\n",
      " [-0.        ]\n",
      " [-0.        ]\n",
      " [-0.        ]\n",
      " [-0.        ]\n",
      " [-0.        ]\n",
      " [-0.        ]\n",
      " [-0.        ]\n",
      " [-0.        ]\n",
      " [-0.        ]\n",
      " [-0.        ]\n",
      " [-0.        ]\n",
      " [-0.        ]\n",
      " [-0.        ]\n",
      " [-0.        ]\n",
      " [-0.        ]\n",
      " [-0.        ]\n",
      " [-0.        ]\n",
      " [-0.        ]\n",
      " [-0.        ]\n",
      " [-0.        ]\n",
      " [-0.        ]\n",
      " [-0.        ]\n",
      " [-0.        ]\n",
      " [-0.        ]\n",
      " [-0.        ]\n",
      " [-0.        ]\n",
      " [-0.        ]\n",
      " [-0.        ]\n",
      " [-0.        ]\n",
      " [-0.        ]\n",
      " [-0.        ]\n",
      " [-0.        ]\n",
      " [-0.        ]\n",
      " [-0.        ]\n",
      " [-0.        ]\n",
      " [-0.        ]\n",
      " [-0.        ]\n",
      " [-0.        ]\n",
      " [-0.        ]\n",
      " [-0.        ]\n",
      " [-0.        ]\n",
      " [-0.        ]\n",
      " [-0.        ]\n",
      " [-0.        ]\n",
      " [-0.        ]\n",
      " [-0.        ]\n",
      " [-0.        ]\n",
      " [-0.        ]\n",
      " [-0.        ]\n",
      " [-0.        ]\n",
      " [-0.        ]\n",
      " [-0.        ]\n",
      " [-0.        ]\n",
      " [-0.        ]\n",
      " [-0.        ]]\n",
      "\n",
      "Confidence level used for IM: 0.80\n",
      "Proportion of IM used for DF: 0.200\n"
     ]
    }
   ],
   "source": [
    "print \"Results for %d iterations (%s secs.)\"%(N, toc-tic)\n",
    "print\n",
    "\n",
    "print \"Used discount factor: %s\"%discount\n",
    "print\n",
    "\n",
    "print \"Bank index %i that belongs to the following MO copula subsets:\"%b_id\n",
    "for idx in b_subsets_indexes:\n",
    "    print \"- %s with pillars %s and intensity %s\\n\"%([x for x in copula.subsets[idx][0]], \\\n",
    "                                                     copula.pillars[idx], copula.intensities[idx])\n",
    "    \n",
    "print \"Counterparties indexes:\"\n",
    "print c_ids\n",
    "\n",
    "print \"\\n-----------------------------------------------------\\n\"\n",
    "\n",
    "for idx in c_ids:\n",
    "    print \"Counterparty index %s belongs to the following MO copula subses:\"%idx\n",
    "    sub_indexes = copula.get_indexes_including(idx)\n",
    "    for subset_idx in sub_indexes:\n",
    "        print \"- %s with pillars %s and intensity %s\\n\"%([x for x in copula.subsets[subset_idx][0]], \\\n",
    "                                                         copula.pillars[subset_idx], copula.intensities[subset_idx])        \n",
    "    print\n",
    "    \n",
    "print \"\\n-----------------------------------------------------\\n\"\n",
    "    \n",
    "print \"Derivatives:\"\n",
    "for d in [swap]:\n",
    "    print \"- %s\"%d\n",
    "    \n",
    "print \"\\nPositions:\"\n",
    "print port.positions\n",
    "\n",
    "print \"\\nConfidence level used for IM: %.2f\"%quantile_im\n",
    "print \"Proportion of IM used for DF: %.3f\"%prop_df"
   ]
  },
  {
   "cell_type": "code",
   "execution_count": 36,
   "metadata": {
    "collapsed": false,
    "scrolled": true
   },
   "outputs": [
    {
     "name": "stdout",
     "output_type": "stream",
     "text": [
      "Results of the global xVA:\n",
      "\n",
      "The CVA for the bank lies in [0.024748, 0.033062]\n",
      "The DVA for the bank lies in [0.012292, 0.016118]\n",
      "The FVA for the bank lies in [-0.037751, -0.030625]\n",
      "The KVA95 for the bank lies in [0.048283, 0.050120]\n",
      "The KVA99 for the bank lies in [0.051274, 0.053139]\n",
      "The KVASA for the bank lies in [0.041385, 0.043106]\n"
     ]
    }
   ],
   "source": [
    "from scipy.stats import norm\n",
    "\n",
    "conf_level = 0.95\n",
    "z_level = norm.ppf(0.5*(1+conf_level))\n",
    "\n",
    "print \"Results of the global xVA:\\n\"\n",
    "keys = results_globs.keys()\n",
    "keys.sort()\n",
    "\n",
    "excel_results = dict()\n",
    "\n",
    "for k in keys:\n",
    "    mean_ = results_globs[k]['sum']/N\n",
    "    mod_var_ = (results_globs[k]['sum2']/N - mean_**2) / (N-1.)\n",
    "    half_inter = z_level*np.sqrt(mod_var_)\n",
    "    \n",
    "    excel_results[k.upper()] = \"%s \\t %s\"%(mean_, half_inter / mean_)\n",
    "    \n",
    "    print \"The %s for the bank lies in [%f, %f]\"%(k.upper(), mean_-half_inter, mean_+half_inter)"
   ]
  },
  {
   "cell_type": "code",
   "execution_count": 37,
   "metadata": {
    "collapsed": false,
    "scrolled": true
   },
   "outputs": [],
   "source": [
    "file_ = open('../resCCP.txt', 'a')\n",
    "\n",
    "file_.write(\"CCP 1vs%s - DF = %s \\n\"%(len(c_ids), prop_df))\n",
    "\n",
    "keys = excel_results.keys()\n",
    "keys.sort()\n",
    "\n",
    "for k in keys:\n",
    "    file_.write(\"%s \\t %s\\n\"%(k, excel_results[k]))\n",
    "    \n",
    "file_.write(\"\\n\")\n",
    "file_.close()"
   ]
  }
 ],
 "metadata": {
  "kernelspec": {
   "display_name": "Python 2",
   "language": "python",
   "name": "python2"
  },
  "language_info": {
   "codemirror_mode": {
    "name": "ipython",
    "version": 2
   },
   "file_extension": ".py",
   "mimetype": "text/x-python",
   "name": "python",
   "nbconvert_exporter": "python",
   "pygments_lexer": "ipython2",
   "version": "2.7.9"
  }
 },
 "nbformat": 4,
 "nbformat_minor": 0
}
