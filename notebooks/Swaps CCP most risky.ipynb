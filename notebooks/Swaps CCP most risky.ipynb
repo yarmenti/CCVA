{
 "metadata": {
  "name": "",
  "signature": "sha256:440ac067e064684c7fc5939708a70834e4e1df784331d41b83c44ea24f50d26c",
  "zanadu": {
   "category": "1",
   "clearance": "Internal",
   "group_name": "Evry_University",
   "notebook_id": "72E49D8F-42CD-4D01-BDA2-76D13E8D7175",
   "status": "WIP"
  }
 },
 "nbformat": 3,
 "nbformat_minor": 0,
 "worksheets": [
  {
   "cells": [
    {
     "cell_type": "heading",
     "level": 1,
     "metadata": {},
     "source": [
      "First Approximation of the CCVA"
     ]
    },
    {
     "cell_type": "heading",
     "level": 2,
     "metadata": {
      "zanadu": {
       "is_abstract": false,
       "is_hidden": false
      }
     },
     "source": [
      "Resume"
     ]
    },
    {
     "cell_type": "markdown",
     "metadata": {
      "zanadu": {
       "is_abstract": false,
       "is_hidden": false
      }
     },
     "source": [
      "In that notebook, we will implement the computation of the first-order approximation of the defined CCVA written in the paper of Cr\u00e9pey.\n",
      "\n",
      "Remind the first-order approximation formula of the reduced form:\n",
      "$\\newcommand{\\tauDeltaZ}{\\tilde{\\tau}_{\\tilde{Z}}^{\\delta}}$\n",
      "$\\newcommand{\\tauDeltaI}{\\tilde{\\tau}_{i}^{\\delta}}$\n",
      "\n",
      "\\begin{align*}\n",
      "\\Theta_0^1 \\approx& \\, \\mathbb{E} \\left[ \n",
      "\\sum_{0< s = \\tauDeltaZ \\leq \\bar{T} } \n",
      "\\alpha_s \\tilde{\\epsilon}_{(s)}\n",
      "+ \\int_{0}^{\\bar{T}} \\alpha_s \\tilde{f}_s(0) ds\n",
      "\\right] \\\\\n",
      "=& \\, \\mathbb{E} \\left[ \n",
      "\\sum_{0< s = \\tauDeltaZ \\leq \\bar{T} } \n",
      "\\alpha_s \\tilde{\\epsilon}_{(s)} \\right] + \n",
      "\\mathbb{E} \\left( 1_{\\tau \\leq \\bar{T}} \\frac{1}{\\lambda e^{-\\lambda \\tau}} \\alpha_{\\tau} \\tilde{f}_{\\tau}(0) \\right)\n",
      "\\end{align*}\n",
      "\n",
      "where $\\alpha_t = e^{-(r+\\gamma)t}$ with gamma defined with the Marshall-Olkin static copula and in the paper by $\\gamma = \\sum_{Y \\in \\mathcal{Y}_{\\bullet}} X^Y$ (with $r$, $\\gamma$ and $X^Y$ taken constants). and:\n",
      "\n",
      "\\begin{align*}\n",
      "\\tilde{\\epsilon}_{(\\tauDeltaZ)} &= \n",
      "\\tilde{\\epsilon}_{(\\tauDeltaZ)}^0 = \n",
      "\\left( B_{\\tauDeltaZ} - E_{\\tauDeltaZ-} \\right)^+ \\frac{F_{\\tauDeltaZ}^0}{F_{\\tauDeltaZ}^0 + \\sum_{j\\geq1} J_{\\tauDeltaZ}^j F_{\\tauDeltaZ}^j} \\\\\n",
      "\\end{align*}\n",
      "\n",
      "and\n",
      "\\begin{align*}\n",
      "\\tilde{f}_t(0) = -c_t \\Gamma_t + \\bar{\\lambda}_t (P_t - \\Gamma_t)^+ - \\lambda_t (P_t - \\Gamma_t)^- + k_t K_t\n",
      "\\end{align*}\n",
      "\n",
      "<p style=\"color: red\">After that, we will add the following term to $\\tilde{f}_t(0)$:\n",
      "\n",
      "\\begin{align*}\n",
      "- \\sum_{0 \\in Y} \\frac{\\beta_{t+\\delta}}{\\beta_t} \\gamma_Y \\left( Q_{t + \\delta} - \\Gamma_{\\hat{t}} \\right)^+ = - \\gamma \\frac{\\beta_{t+\\delta}}{\\beta_t} \\left( Q_{t + \\delta} - \\Gamma_{\\hat{t}} \\right)^+\n",
      "\\end{align*}\n",
      "\n",
      "</p>\n",
      "\n",
      "and $\\tau$ independent of the whole defined processes"
     ]
    },
    {
     "cell_type": "markdown",
     "metadata": {
      "zanadu": {
       "is_abstract": false,
       "is_hidden": false
      }
     },
     "source": [
      "**With the notations**:\n",
      "\n",
      "- $B_{\\tauDeltaZ} = \\sum_{i \\in \\tilde{Z}} (\\Delta^i + P^i - \\Gamma^i)_{\\tauDeltaZ}^+$\n",
      "- $P_t^i = \\mathbb{E}_t(\\int_t^{\\bar{T}} \\frac{\\beta_s}{\\beta_t} dD_s^i)$, with $\\beta_t = e^{-\\int_0^t r_s ds}$\n",
      "- $\\Gamma^i = V^i+I^i+F^i$\n",
      "- $\\Delta_t^i = \\int_{[\\tau_i, t]} e^{\\int_s^t r_u du} dD_s^i$"
     ]
    },
    {
     "cell_type": "heading",
     "level": 2,
     "metadata": {
      "zanadu": {
       "is_abstract": false,
       "is_hidden": false
      }
     },
     "source": [
      "Parallelisation of the computations"
     ]
    },
    {
     "cell_type": "code",
     "collapsed": false,
     "input": [
      "from IPython import parallel\n",
      "\n",
      "rc = parallel.Client()\n",
      "ids = rc.ids\n",
      "print \"Available engines:\",ids\n",
      "\n",
      "#ids = [3]\n",
      "print \"Used engines:\", ids\n",
      "dview = rc[ids]\n",
      "dview.block = True\n",
      "print \"Blocking mode =\",dview.block\n",
      "dview.activate()"
     ],
     "language": "python",
     "metadata": {},
     "outputs": [
      {
       "output_type": "stream",
       "stream": "stdout",
       "text": [
        "Available engines: [0, 1, 2, 3]\n",
        "Used engines: [0, 1, 2, 3]\n",
        "Blocking mode = True\n"
       ]
      }
     ],
     "prompt_number": 1
    },
    {
     "cell_type": "heading",
     "level": 3,
     "metadata": {
      "zanadu": {
       "is_abstract": false,
       "is_hidden": false
      }
     },
     "source": [
      "Handling exceptions"
     ]
    },
    {
     "cell_type": "code",
     "collapsed": false,
     "input": [
      "from IPython.parallel import CompositeError\n",
      "#CompositeError.tb_limit = 5"
     ],
     "language": "python",
     "metadata": {},
     "outputs": [],
     "prompt_number": 2
    },
    {
     "cell_type": "code",
     "collapsed": false,
     "input": [
      "%autopx"
     ],
     "language": "python",
     "metadata": {},
     "outputs": [
      {
       "output_type": "stream",
       "stream": "stdout",
       "text": [
        "%autopx enabled\n"
       ]
      }
     ],
     "prompt_number": 3
    },
    {
     "cell_type": "heading",
     "level": 3,
     "metadata": {},
     "source": [
      "Adding path to engines"
     ]
    },
    {
     "cell_type": "code",
     "collapsed": false,
     "input": [
      "import sys\n",
      "\n",
      "sys.path.append('..')"
     ],
     "language": "python",
     "metadata": {},
     "outputs": [],
     "prompt_number": 4
    },
    {
     "cell_type": "heading",
     "level": 2,
     "metadata": {
      "zanadu": {
       "is_abstract": false,
       "is_hidden": false
      }
     },
     "source": [
      "Monte Carlo `code`"
     ]
    },
    {
     "cell_type": "heading",
     "level": 3,
     "metadata": {
      "zanadu": {
       "is_abstract": false,
       "is_hidden": false
      }
     },
     "source": [
      "Simulation parameters"
     ]
    },
    {
     "cell_type": "code",
     "collapsed": false,
     "input": [
      "# Instead of taking 365 standard days or 252 trading days\n",
      "# in order to get some easy computations for the eqty and df time grids\n",
      "# I chose to take 360 days of tradings\n",
      "\n",
      "step = 1/360.\n",
      "\n",
      "# Moreover, we fix a $\\delta$ mpor (margin period of risk) of 5 days \n",
      "mpor = 5*step"
     ],
     "language": "python",
     "metadata": {
      "zanadu": {
       "is_abstract": false,
       "is_hidden": false
      }
     },
     "outputs": [],
     "prompt_number": 5
    },
    {
     "cell_type": "heading",
     "level": 3,
     "metadata": {
      "zanadu": {
       "is_abstract": false,
       "is_hidden": false
      }
     },
     "source": [
      "Market parameters"
     ]
    },
    {
     "cell_type": "code",
     "collapsed": false,
     "input": [
      "from finance.discountfactor import ConstantRateDiscountFactor \n",
      "\n",
      "max_maturity = 5\n",
      "r = 0.02\n",
      "\n",
      "discount = ConstantRateDiscountFactor(r)"
     ],
     "language": "python",
     "metadata": {
      "zanadu": {
       "is_abstract": false,
       "is_hidden": false
      }
     },
     "outputs": [],
     "prompt_number": 6
    },
    {
     "cell_type": "heading",
     "level": 3,
     "metadata": {
      "zanadu": {
       "is_abstract": false,
       "is_hidden": false
      }
     },
     "source": [
      "Exponential distribution (in order to compute $\\mathbb{E} \\int$)"
     ]
    },
    {
     "cell_type": "markdown",
     "metadata": {
      "zanadu": {
       "is_abstract": false,
       "is_hidden": false
      }
     },
     "source": [
      "In order to compute the integral term, we used the change of probability measure with the exponential density. In order to do so, we took $\\lambda = \\frac{2}{\\bar{T}}$ in order to get the event $\\{ \\tau \\leq \\bar{T} \\}$ with a probability $p = 1 - e^{-2} \\approx 0.86$. Moreover, the distribution is centered to the middle of the interval $[0, \\bar{T}]$."
     ]
    },
    {
     "cell_type": "code",
     "collapsed": false,
     "input": [
      "from scipy.stats import expon\n",
      "\n",
      "# To confirm, because \n",
      "lbda = 2.0 / max_maturity\n",
      "exp_distrib = expon(loc=0, scale=1.0/lbda)"
     ],
     "language": "python",
     "metadata": {
      "zanadu": {
       "is_abstract": false,
       "is_hidden": false
      }
     },
     "outputs": [],
     "prompt_number": 7
    },
    {
     "cell_type": "heading",
     "level": 3,
     "metadata": {
      "zanadu": {
       "is_abstract": false,
       "is_hidden": false
      }
     },
     "source": [
      "Underlyings parameters"
     ]
    },
    {
     "cell_type": "code",
     "collapsed": false,
     "input": [
      "import numpy as np\n",
      "from scipy.stats import norm\n",
      "from maths.montecarlo.process.brownianmotion import BrownianMotion\n",
      "\n",
      "time_grid = BrownianMotion.generate_time_grid(0, max_maturity, step)\n",
      "\n",
      "x_0 = [100]\n",
      "mu_s = [5]\n",
      "sigma_s = [10]\n",
      "\n",
      "b = BrownianMotion(x_0, mu_s, sigma_s, time_grid)\n",
      "\n",
      "for i, (x0, m_, s_) in enumerate(zip(x_0, mu_s, sigma_s)):\n",
      "    print \"P(S_T^%d < 0) = %s\"%(i+1, norm.cdf(-(x0 + m_ * max_maturity)/(s_*np.sqrt(max_maturity))))"
     ],
     "language": "python",
     "metadata": {
      "zanadu": {
       "is_abstract": false,
       "is_hidden": false
      }
     },
     "outputs": [
      {
       "output_type": "stream",
       "stream": "stdout",
       "text": [
        "[stdout:0] P(S_T^1 < 0) = 1.13423742963e-08\n",
        "[stdout:1] P(S_T^1 < 0) = 1.13423742963e-08\n",
        "[stdout:2] P(S_T^1 < 0) = 1.13423742963e-08\n",
        "[stdout:3] P(S_T^1 < 0) = 1.13423742963e-08\n"
       ]
      }
     ],
     "prompt_number": 8
    },
    {
     "cell_type": "heading",
     "level": 3,
     "metadata": {
      "zanadu": {
       "is_abstract": false,
       "is_hidden": false
      }
     },
     "source": [
      "Swap Contracts"
     ]
    },
    {
     "cell_type": "markdown",
     "metadata": {
      "zanadu": {
       "is_abstract": false,
       "is_hidden": false
      }
     },
     "source": [
      "In our simulations, we will use Swaps contracts with different maturities"
     ]
    },
    {
     "cell_type": "code",
     "collapsed": false,
     "input": [
      "from finance.products.european.swap import (\n",
      "    SwapContract,\n",
      ")\n",
      "\n",
      "delta = 0.25\n",
      "maturities = [max_maturity]\n",
      "\n",
      "swaps = [SwapContract(b, discount, SwapContract.generate_payment_dates(0, m, delta), i%3) \n",
      "         for i, m in enumerate(maturities)]\n",
      "\n",
      "prices = [0 for s in swaps]\n",
      "\n",
      "for s in swaps:\n",
      "    print \"-\", s\n",
      "    \n",
      "derivatives = swaps"
     ],
     "language": "python",
     "metadata": {
      "zanadu": {
       "is_abstract": false,
       "is_hidden": false
      }
     },
     "outputs": [
      {
       "output_type": "stream",
       "stream": "stdout",
       "text": [
        "[stdout:0] - Swap contract of maturity T = 5 years, over S^0 with strike K = 104.821, paying at {0.00, 0.25, 0.50, 0.75, 1.00, 1.25, 1.50, 1.75, 2.00, 2.25, 2.50, 2.75, 3.00, 3.25, 3.50, 3.75, 4.00, 4.25, 4.50, 4.75, 5.00}\n",
        "[stdout:1] - Swap contract of maturity T = 5 years, over S^0 with strike K = 104.821, paying at {0.00, 0.25, 0.50, 0.75, 1.00, 1.25, 1.50, 1.75, 2.00, 2.25, 2.50, 2.75, 3.00, 3.25, 3.50, 3.75, 4.00, 4.25, 4.50, 4.75, 5.00}\n",
        "[stdout:2] - Swap contract of maturity T = 5 years, over S^0 with strike K = 104.821, paying at {0.00, 0.25, 0.50, 0.75, 1.00, 1.25, 1.50, 1.75, 2.00, 2.25, 2.50, 2.75, 3.00, 3.25, 3.50, 3.75, 4.00, 4.25, 4.50, 4.75, 5.00}\n",
        "[stdout:3] - Swap contract of maturity T = 5 years, over S^0 with strike K = 104.821, paying at {0.00, 0.25, 0.50, 0.75, 1.00, 1.25, 1.50, 1.75, 2.00, 2.25, 2.50, 2.75, 3.00, 3.25, 3.50, 3.75, 4.00, 4.25, 4.50, 4.75, 5.00}\n"
       ]
      }
     ],
     "prompt_number": 9
    },
    {
     "cell_type": "heading",
     "level": 3,
     "metadata": {
      "zanadu": {
       "is_abstract": false,
       "is_hidden": false
      }
     },
     "source": [
      "Exposures to forwards for $K_{CCP}$ computation"
     ]
    },
    {
     "cell_type": "code",
     "collapsed": false,
     "input": [
      "from ccp.regulation.exposure import EuropeanQuantileBrownianExposure\n",
      "\n",
      "exposure_mpor = 1./12\n",
      "exposure_quantile = 0.99\n",
      "\n",
      "exposures = []\n",
      "for d in derivatives:\n",
      "    index = d.underlying_index\n",
      "    drift = mu_s[index]\n",
      "    vol = sigma_s[index]\n",
      "    \n",
      "    e = EuropeanQuantileBrownianExposure(d, exposure_mpor, drift, vol, exposure_quantile, discount)\n",
      "    exposures.append(e)"
     ],
     "language": "python",
     "metadata": {
      "zanadu": {
       "is_abstract": false,
       "is_hidden": false
      }
     },
     "outputs": [],
     "prompt_number": 10
    },
    {
     "cell_type": "heading",
     "level": 3,
     "metadata": {
      "zanadu": {
       "is_abstract": false,
       "is_hidden": false
      }
     },
     "source": [
      "Marshall Olkin copula"
     ]
    },
    {
     "cell_type": "markdown",
     "metadata": {},
     "source": [
      "We choose the following parameters:  \n",
      "\n",
      "- $\\gamma_0 = 200$ bps\n",
      "- $\\gamma_1 = 100$ bps\n",
      "- $\\gamma_2 = 50$ bps\n",
      "- $\\gamma_{0, 1} = 30$ bps\n",
      "- $\\gamma_{0, 1, 2} = 15$ bps\n",
      "\n",
      "which leads to:\n",
      "\n",
      "- $\\gamma_0^{tot} = 245$ bps\n",
      "- $\\gamma_1^{tot} = 145$ bps\n",
      "- $\\gamma_2^{tot} = 65$ bps"
     ]
    },
    {
     "cell_type": "code",
     "collapsed": false,
     "input": [
      "cm_index = 0"
     ],
     "language": "python",
     "metadata": {},
     "outputs": [],
     "prompt_number": 11
    },
    {
     "cell_type": "code",
     "collapsed": false,
     "input": [
      "from maths.copula.marshallolkin import MarshallOlkinCopula\n",
      "\n",
      "nb_cm = 3\n",
      "\n",
      "mo_groups = [frozenset([i]) for i in range(nb_cm)]\n",
      "mo_groups.append(frozenset([0, 1]))\n",
      "mo_groups.append(frozenset([0, 1, 2]))\n",
      "\n",
      "lambdas = [0.0200, 0.0100, 0.0050, 0.0030, 0.0015]\n",
      "\n",
      "copula = MarshallOlkinCopula(cm_index, nb_cm, mo_groups, lambdas)\n",
      "print \"Subsets which can defaults: \", [\"%s\"%[xi for xi in x] for x in copula._subsets_[copula._surv_subsets_ind_]]\n",
      "print \"With intensities: \",[\"%s\"%x for x in copula._lambdas_[copula._surv_subsets_ind_]]\n",
      "print\n",
      "print \"Default intensity of member %s: \"%cm_index, copula._gamma_"
     ],
     "language": "python",
     "metadata": {
      "zanadu": {
       "is_abstract": false,
       "is_hidden": false
      }
     },
     "outputs": [
      {
       "output_type": "stream",
       "stream": "stdout",
       "text": [
        "[stdout:0] \n",
        "Subsets which can defaults:  ['[1]', '[2]']\n",
        "With intensities:  ['0.01', '0.005']\n",
        "\n",
        "Default intensity of member 0:  0.0245\n",
        "[stdout:1] \n",
        "Subsets which can defaults:  ['[1]', '[2]']\n",
        "With intensities:  ['0.01', '0.005']\n",
        "\n",
        "Default intensity of member 0:  0.0245\n",
        "[stdout:2] \n",
        "Subsets which can defaults:  ['[1]', '[2]']\n",
        "With intensities:  ['0.01', '0.005']\n",
        "\n",
        "Default intensity of member 0:  0.0245\n",
        "[stdout:3] \n",
        "Subsets which can defaults:  ['[1]', '[2]']\n",
        "With intensities:  ['0.01', '0.005']\n",
        "\n",
        "Default intensity of member 0:  0.0245\n"
       ]
      }
     ],
     "prompt_number": 12
    },
    {
     "cell_type": "heading",
     "level": 3,
     "metadata": {
      "zanadu": {
       "is_abstract": false,
       "is_hidden": false
      }
     },
     "source": [
      "Portfolio manager of the clearing members"
     ]
    },
    {
     "cell_type": "code",
     "collapsed": false,
     "input": [
      "from ccp.portfolio import CCPPortfolio\n",
      "\n",
      "members_positions = [[1000],\n",
      "                     [-500],\n",
      "                     [-500]]\n",
      "\n",
      "ccp_port = CCPPortfolio(members_positions, swaps, prices, exposures)\n",
      "\n",
      "m_positions = np.matrix(members_positions)\n",
      "members_port_0 = m_positions.dot(np.array(prices).T).A1\n",
      "print members_port_0"
     ],
     "language": "python",
     "metadata": {
      "zanadu": {
       "is_abstract": false,
       "is_hidden": false
      }
     },
     "outputs": [
      {
       "output_type": "stream",
       "stream": "stdout",
       "text": [
        "[stdout:0] [0 0 0]\n",
        "[stdout:1] [0 0 0]\n",
        "[stdout:2] [0 0 0]\n",
        "[stdout:3] [0 0 0]\n"
       ]
      }
     ],
     "prompt_number": 13
    },
    {
     "cell_type": "code",
     "collapsed": false,
     "input": [
      "alpha = ConstantRateDiscountFactor(r + copula._gamma_)"
     ],
     "language": "python",
     "metadata": {},
     "outputs": [],
     "prompt_number": 14
    },
    {
     "cell_type": "heading",
     "level": 3,
     "metadata": {
      "zanadu": {
       "is_abstract": false,
       "is_hidden": false
      }
     },
     "source": [
      "Collateral management"
     ]
    },
    {
     "cell_type": "heading",
     "level": 4,
     "metadata": {
      "zanadu": {
       "is_abstract": false,
       "is_hidden": false
      }
     },
     "source": [
      "CCP's Equity"
     ]
    },
    {
     "cell_type": "code",
     "collapsed": false,
     "input": [
      "from ccp.sig import SkinInTheGame\n",
      "\n",
      "# We set that there is no equity\n",
      "sig0 = 0\n",
      "\n",
      "sig = SkinInTheGame(sig0)"
     ],
     "language": "python",
     "metadata": {
      "zanadu": {
       "is_abstract": false,
       "is_hidden": false
      }
     },
     "outputs": [],
     "prompt_number": 15
    },
    {
     "cell_type": "heading",
     "level": 4,
     "metadata": {
      "zanadu": {
       "is_abstract": false,
       "is_hidden": false
      }
     },
     "source": [
      "CCP's members Initial margins and default funds"
     ]
    },
    {
     "cell_type": "code",
     "collapsed": false,
     "input": [
      "from ccp.states import MembersState\n",
      "from ccp.accounts import Accounts, DFAccounts\n",
      "\n",
      "states = MembersState(nb_cm)\n",
      "\n",
      "# Here and hereafter, +1 means that the CCP has a P&L of+1\n",
      "# or equivalently, the CM has a loss of +1 \n",
      "vm_accounts = Accounts(states)"
     ],
     "language": "python",
     "metadata": {},
     "outputs": [],
     "prompt_number": 16
    },
    {
     "cell_type": "code",
     "collapsed": false,
     "input": [
      "conf_level_im = 0.70\n",
      "min_im_required = 0.\n",
      "im_accounts = Accounts(states)\n",
      "im_accounts.reset(min_im_required)"
     ],
     "language": "python",
     "metadata": {},
     "outputs": [],
     "prompt_number": 17
    },
    {
     "cell_type": "code",
     "collapsed": false,
     "input": [
      "conf_level_df = 0.80\n",
      "min_df_required = 1e-8\n",
      "df_accounts = DFAccounts(states)\n",
      "df_accounts.reset(min_df_required)\n",
      "\n",
      "dfs = ccp_port.compute_exposure(0, risk_period=mpor, conf_level=conf_level_df)\n",
      "for ii, (vm, im, df) in enumerate(zip(vm_accounts.amounts, im_accounts.amounts, dfs.flat)):\n",
      "    tmp = np.maximum(df-im-vm, min_df_required)\n",
      "    df_accounts.put_amount(ii, tmp)\n",
      "    \n",
      "print df_accounts.amounts"
     ],
     "language": "python",
     "metadata": {
      "zanadu": {
       "is_abstract": false,
       "is_hidden": false
      }
     },
     "outputs": [
      {
       "output_type": "stream",
       "stream": "stdout",
       "text": [
        "[stdout:0] [ 4.49092644  4.88474908  4.88474908]\n",
        "[stdout:1] [ 4.49092644  4.88474908  4.88474908]\n",
        "[stdout:2] [ 4.49092644  4.88474908  4.88474908]\n",
        "[stdout:3] [ 4.49092644  4.88474908  4.88474908]\n"
       ]
      }
     ],
     "prompt_number": 18
    },
    {
     "cell_type": "heading",
     "level": 3,
     "metadata": {
      "zanadu": {
       "is_abstract": false,
       "is_hidden": false
      }
     },
     "source": [
      "Regulatory capital"
     ]
    },
    {
     "cell_type": "code",
     "collapsed": false,
     "input": [
      "from ccp.regulation.capital import RegulatoryCapital\n",
      "\n",
      "# We first set a beta factor to 30% (recommandation of Dosseur)\n",
      "beta = 0.3\n",
      "\n",
      "optional_params = {}\n",
      "\n",
      "regul_capital = RegulatoryCapital(beta, im_accounts, df_accounts, sig, ccp_port, **optional_params)"
     ],
     "language": "python",
     "metadata": {
      "zanadu": {
       "is_abstract": false,
       "is_hidden": false
      }
     },
     "outputs": [],
     "prompt_number": 19
    },
    {
     "cell_type": "heading",
     "level": 3,
     "metadata": {
      "zanadu": {
       "is_abstract": false,
       "is_hidden": false
      }
     },
     "source": [
      "Simulations"
     ]
    },
    {
     "cell_type": "heading",
     "level": 4,
     "metadata": {
      "zanadu": {
       "is_abstract": false,
       "is_hidden": false
      }
     },
     "source": [
      "Helper for states modification"
     ]
    },
    {
     "cell_type": "code",
     "collapsed": false,
     "input": [
      "def modify_states(states, copula, default_times, t):\n",
      "    res = []\n",
      "    subsets = copula._subsets_[copula._surv_subsets_ind_]\n",
      "    for tau, s in zip(default_times, subsets):\n",
      "        if tau <= t:\n",
      "            deads_tuple = list(s)           \n",
      "            for d in deads_tuple:\n",
      "                if states.is_alive(d):\n",
      "                    states.die(d)\n",
      "                    res.append(d)\n",
      "                    \n",
      "    return np.unique(res)"
     ],
     "language": "python",
     "metadata": {
      "zanadu": {
       "is_abstract": false,
       "is_hidden": false
      }
     },
     "outputs": [],
     "prompt_number": 20
    },
    {
     "cell_type": "heading",
     "level": 4,
     "metadata": {
      "zanadu": {
       "is_abstract": false,
       "is_hidden": false
      }
     },
     "source": [
      "Definition of the time grids for equity and default fund \"re\"-contribution"
     ]
    },
    {
     "cell_type": "code",
     "collapsed": false,
     "input": [
      "sig_time_grid = [t for t in time_grid if t.is_integer()]\n",
      "df_time_grid = [t for t in time_grid if (12*t).is_integer()]"
     ],
     "language": "python",
     "metadata": {
      "zanadu": {
       "is_abstract": false,
       "is_hidden": false
      }
     },
     "outputs": [],
     "prompt_number": 21
    },
    {
     "cell_type": "heading",
     "level": 4,
     "metadata": {
      "zanadu": {
       "is_abstract": false,
       "is_hidden": false
      }
     },
     "source": [
      "Definition of the function $\\tilde{f}_{.}(0)$"
     ]
    },
    {
     "cell_type": "markdown",
     "metadata": {
      "zanadu": {
       "is_abstract": false,
       "is_hidden": false
      }
     },
     "source": [
      "We consider here that $(c_t), (\\lambda_t), (\\bar{\\lambda}_t)$ and $(k_t)$ are constant processes."
     ]
    },
    {
     "cell_type": "code",
     "collapsed": false,
     "input": [
      "c_ = -0.002\n",
      "lambda_ = 0\n",
      "bar_lambda_ = 0.005\n",
      "k_ = 0.1\n",
      "\n",
      "# Comparing with the analytic formula, gamma \n",
      "# is seen from the CCP point of view but here, \n",
      "# gamma is from the member point of view\n",
      "\n",
      "def tilde_f(p, gamma, k_cm):\n",
      "    gamma_plus_p = gamma + p\n",
      "    fva = c_*gamma + bar_lambda_*np.maximum(gamma_plus_p, 0) - lambda_*np.minimum(gamma_plus_p, 0) \n",
      "    kva = k_*k_cm\n",
      "    return fva, kva"
     ],
     "language": "python",
     "metadata": {},
     "outputs": []
    },
    {
     "cell_type": "heading",
     "level": 4,
     "metadata": {},
     "source": [
      "Monte Carlo loop"
     ]
    },
    {
     "cell_type": "code",
     "collapsed": false,
     "input": [
      "N = 1\n",
      "\n",
      "prices_mat = np.zeros((N, len(time_grid)))\n",
      "prices_mat[:, 0] = members_port_0[cm_index]\n",
      "\n",
      "collat_mat = np.zeros((N, len(time_grid)))\n",
      "collat_mat[:, 0] = np.array([x.amounts[cm_index] for x in [vm_accounts, im_accounts, df_accounts]]).sum()\n",
      "\n",
      "capital_mat = np.zeros((N, len(time_grid)))\n",
      "capital_mat[:, 0] = regul_capital.compute_k_cm(cm_index, 0)\n",
      "\n",
      "time_grid2 = np.delete(time_grid, 0)"
     ],
     "language": "python",
     "metadata": {
      "zanadu": {
       "is_abstract": false,
       "is_hidden": false
      }
     },
     "outputs": [],
     "prompt_number": 23
    },
    {
     "cell_type": "code",
     "collapsed": false,
     "input": [
      "import time\n",
      "\n",
      "start_time = time.time()\n",
      "\n",
      "# CVA part\n",
      "cva = 0.\n",
      "cva_square = 0.   \n",
      "\n",
      "# FVA part\n",
      "fva = 0.\n",
      "fva_square = 0.    \n",
      "\n",
      "# KVA part\n",
      "kva = 0.\n",
      "kva_square = 0.\n",
      "\n",
      "default_times = copula.simulate_default_times(N)\n",
      "random_times = exp_distrib.rvs(size=N)\n",
      "\n",
      "for i in range(N):\n",
      "    b.simulate()\n",
      "    \n",
      "    states.resurrect_all()\n",
      "    vm_accounts.reset()\n",
      "    im_accounts.reset(min_im_required)\n",
      "    df_accounts.reset(min_df_required)\n",
      "    \n",
      "    sig.recover()\n",
      "    \n",
      "    t_minus = 0\n",
      "            \n",
      "    defaulters = dict()    \n",
      "    rand_time = random_times[i]\n",
      "    \n",
      "    for time_index, t in enumerate(time_grid2):\n",
      "        if t in sig_time_grid:\n",
      "            sig.recover()\n",
      "        \n",
      "        d_pl = [d.price(t) for d in derivatives]\n",
      "        p_and_l = ccp_port.compute_pl(d_pl)\n",
      "\n",
      "        for ii, pl in enumerate(p_and_l):\n",
      "            vm_accounts.put_amount(ii, pl)\n",
      "        \n",
      "        new_defaulted = modify_states(states, copula, default_times[i], t)            \n",
      "        if new_defaulted.size > 0:\n",
      "            defaulters[t+mpor] = {\"tau\": t, \"defaulters\": new_defaulted}\n",
      "            \n",
      "        for k, v in defaulters.iteritems():\n",
      "            if t_minus < k and k <= t:\n",
      "                # Delta to do if (tau + delta) <= maturity of a future contract\n",
      "                # TO DO\n",
      "                                \n",
      "                contract_prices = [d.price(t) for d in derivatives]\n",
      "                contract_losses = ccp_port.compute_pl(contract_prices)\n",
      "                P = contract_losses[v[\"defaulters\"]]\n",
      "                                        \n",
      "                collat_defaulters = vm_accounts.amounts + im_accounts.amounts + df_accounts.amounts\n",
      "                tot_collat = collat_defaulters\n",
      "                collat = tot_collat[v[\"defaulters\"]]\n",
      "                    \n",
      "                loss_tau_minus_collat = P-collat\n",
      "                remain_collat_loss = 0.\n",
      "                for l in loss_tau_minus_collat:\n",
      "                    remain_collat_loss += np.maximum(l, 0)\n",
      "                \n",
      "                remaining_loss = sig.handle_breach(remain_collat_loss)\n",
      "                \n",
      "                frac = df_accounts.get_amount(cm_index) / df_accounts.total_default_fund()\n",
      "                partial_loss = frac*remaining_loss                        \n",
      "                tmp_cva = alpha(t) * partial_loss\n",
      "                        \n",
      "                cva += tmp_cva\n",
      "                cva_square += tmp_cva**2\n",
      "            \n",
      "        ims = ccp_port.compute_exposure(t, risk_period=mpor, conf_level=conf_level_im)\n",
      "        for ii, (im, vm) in enumerate(zip(ims.flat, vm_accounts.amounts)):\n",
      "            tmp = np.maximum(im-vm, min_im_required)\n",
      "            im_accounts.put_amount(ii, tmp)\n",
      "            \n",
      "        if t in df_time_grid:\n",
      "            dfs = ccp_port.compute_exposure(t, risk_period=mpor, conf_level=conf_level_df)\n",
      "            for ii, (vm, im, df) in enumerate(zip(vm_accounts.amounts, im_accounts.amounts, dfs.flat)):\n",
      "                tmp = np.maximum(df-im-vm, min_df_required)\n",
      "                df_accounts.put_amount(ii, tmp)\n",
      "                \n",
      "        if t_minus < rand_time and rand_time <= t:\n",
      "            rand_time = t\n",
      "            contract_prices = [d.price(t) for d in derivatives]\n",
      "                        \n",
      "            contract_losses = ccp_port.compute_pl(contract_prices)\n",
      "            P = contract_losses[cm_index]\n",
      "             \n",
      "            collat = np.array([x.amounts[cm_index] for x in [vm_accounts, im_accounts, df_accounts]]).sum()\n",
      "\n",
      "            reg_capital = regul_capital.compute_k_cm(cm_index, rand_time)\n",
      "                                    \n",
      "            inv_pdf = 1./exp_distrib.pdf(rand_time)\n",
      "            alpha_tau = alpha(rand_time)\n",
      "            tmp_factor = alpha_tau * inv_pdf\n",
      "            \n",
      "            tmp_fva, tmp_kva = tilde_f(P, collat, reg_capital)\n",
      "            tmp_fva *= tmp_factor\n",
      "            tmp_kva *= tmp_factor\n",
      "                \n",
      "            fva += tmp_fva\n",
      "            fva_square += tmp_fva**2\n",
      "                \n",
      "            kva += tmp_kva\n",
      "            kva_square += tmp_kva**2                \n",
      "            \n",
      "        prices_mat[i, time_index+1] = p_and_l[cm_index]\n",
      "        collat_mat[i, time_index+1] = np.array([x.amounts[cm_index] for x in [vm_accounts, im_accounts, df_accounts]]).sum()\n",
      "        capital_mat[i, time_index+1] = k_*regul_capital.compute_k_cm(cm_index, t)\n",
      "        \n",
      "        t_minus = t\n",
      "        \n",
      "print \"Execution time for %d iterations: %s\"%(N, time.time() - start_time)"
     ],
     "language": "python",
     "metadata": {},
     "outputs": [
      {
       "output_type": "stream",
       "stream": "stdout",
       "text": [
        "[stdout:0] Execution time for 1 iterations: 17.6819999218\n",
        "[stdout:1] Execution time for 1 iterations: 17.9100000858\n",
        "[stdout:2] Execution time for 1 iterations: 17.8639998436\n",
        "[stdout:3] Execution time for 1 iterations: 17.9100000858\n"
       ]
      }
     ],
     "prompt_number": 24
    },
    {
     "cell_type": "heading",
     "level": 3,
     "metadata": {
      "zanadu": {
       "is_abstract": false,
       "is_hidden": false
      }
     },
     "source": [
      "End of parallelisation"
     ]
    },
    {
     "cell_type": "code",
     "collapsed": false,
     "input": [
      "%autopx"
     ],
     "language": "python",
     "metadata": {},
     "outputs": [
      {
       "output_type": "stream",
       "stream": "stdout",
       "text": [
        "%autopx disabled\n"
       ]
      }
     ],
     "prompt_number": 25
    },
    {
     "cell_type": "heading",
     "level": 3,
     "metadata": {
      "zanadu": {
       "is_abstract": false,
       "is_hidden": false
      }
     },
     "source": [
      "Results"
     ]
    },
    {
     "cell_type": "code",
     "collapsed": false,
     "input": [
      "standaloneview = rc[0]"
     ],
     "language": "python",
     "metadata": {},
     "outputs": [],
     "prompt_number": 26
    },
    {
     "cell_type": "code",
     "collapsed": false,
     "input": [
      "import numpy as np\n",
      "\n",
      "time_grid = standaloneview['time_grid']\n",
      "cm_index = standaloneview['cm_index']\n",
      "\n",
      "c_ = standaloneview['c_']\n",
      "lambda_ = standaloneview['lambda_']\n",
      "bar_lambda_ = standaloneview['bar_lambda_']\n",
      "k_ = standaloneview['k_']"
     ],
     "language": "python",
     "metadata": {},
     "outputs": [],
     "prompt_number": 27
    },
    {
     "cell_type": "code",
     "collapsed": false,
     "input": [
      "N = np.sum(dview['N'])\n",
      "\n",
      "tot_cva = np.sum(dview['cva'])\n",
      "tot_cva2 = np.sum(dview['cva_square'])\n",
      "\n",
      "tot_fva = np.sum(dview['fva'])\n",
      "tot_fva2 = np.sum(dview['fva_square'])\n",
      "\n",
      "tot_kva = np.sum(dview['kva'])\n",
      "tot_kva2 = np.sum(dview['kva_square'])\n",
      "\n",
      "# Paths\n",
      "v_mat_prices = dview['prices_mat']\n",
      "v_mat_collat = dview['collat_mat']\n",
      "v_mat_capital = dview['capital_mat']\n",
      "\n",
      "prices_mat = np.concatenate(v_mat_prices)\n",
      "collat_mat = np.concatenate(v_mat_collat)\n",
      "capital_mat = np.concatenate(v_mat_capital)"
     ],
     "language": "python",
     "metadata": {},
     "outputs": [],
     "prompt_number": 28
    },
    {
     "cell_type": "heading",
     "level": 4,
     "metadata": {},
     "source": [
      "Save results"
     ]
    },
    {
     "cell_type": "code",
     "collapsed": false,
     "input": [
      "path_file = './OUTPUTS/3CM_most_risky.res'"
     ],
     "language": "python",
     "metadata": {},
     "outputs": [],
     "prompt_number": 31
    },
    {
     "cell_type": "code",
     "collapsed": false,
     "input": [
      "import dill\n",
      "\n",
      "with open(path_file, 'wb') as out_strm: \n",
      "    tmp = {'time_grid': time_grid, 'cm_index': cm_index,\n",
      "           'prices': prices_mat, 'collat': collat_mat, 'capital': capital_mat,\n",
      "           'c': c_, 'lambda': lambda_, 'bar_lambda': bar_lambda_, 'k': k_}\n",
      "    dill.dump(tmp, out_strm)"
     ],
     "language": "python",
     "metadata": {},
     "outputs": [],
     "prompt_number": 32
    },
    {
     "cell_type": "heading",
     "level": 4,
     "metadata": {},
     "source": [
      "Print results"
     ]
    },
    {
     "cell_type": "code",
     "collapsed": false,
     "input": [
      "nb_cm = standaloneview['nb_cm']\n",
      "\n",
      "# Market parameters\n",
      "discount = standaloneview['str(discount)']\n",
      "\n",
      "# Marshall Olkin copula parameters\n",
      "subsets_defaulters = np.array(standaloneview['copula._subsets_'])\n",
      "intensity_defaulters = np.array(standaloneview['copula._lambdas_'])\n",
      "gamma_i = standaloneview['copula._gamma_']\n",
      "\n",
      "# Margins parameters\n",
      "conf_level_im = standaloneview['conf_level_im']\n",
      "conf_level_df = standaloneview['conf_level_df']\n",
      "sig0 = standaloneview['sig0']\n",
      "\n",
      "# Contracts\n",
      "descr = standaloneview['[str(d) for d in derivatives]']\n",
      "prices = standaloneview['prices']\n",
      "positions = standaloneview['members_positions']\n",
      "portfolio_at_time_0 = standaloneview['members_port_0']"
     ],
     "language": "python",
     "metadata": {
      "zanadu": {
       "is_abstract": false,
       "is_hidden": false
      }
     },
     "outputs": [],
     "prompt_number": 35
    },
    {
     "cell_type": "code",
     "collapsed": false,
     "input": [
      "# 1st index: CVA\n",
      "# 2nd index: FVA\n",
      "# 3rd index: KVA\n",
      "\n",
      "labels = ['CVA', 'FVA', 'KVA']\n",
      "expectations = []\n",
      "mod_variances = []\n",
      "\n",
      "e_cva = tot_cva / N\n",
      "e_fva = tot_fva / N\n",
      "e_kva = tot_kva / N\n",
      "\n",
      "expectations.append(e_cva)\n",
      "expectations.append(e_fva)\n",
      "expectations.append(e_kva)\n",
      "\n",
      "mod_v_cva = (tot_cva2/N - e_cva**2) / (N-1)\n",
      "mod_v_fva = (tot_fva2/N - e_fva**2) / (N-1)\n",
      "mod_v_kva = (tot_kva2/N - e_kva**2) / (N-1)\n",
      "\n",
      "mod_variances.append(mod_v_cva)\n",
      "mod_variances.append(mod_v_fva)\n",
      "mod_variances.append(mod_v_kva)"
     ],
     "language": "python",
     "metadata": {
      "zanadu": {
       "is_abstract": false,
       "is_hidden": false
      }
     },
     "outputs": [],
     "prompt_number": 36
    },
    {
     "cell_type": "code",
     "collapsed": false,
     "input": [
      "# Confidence Interval results:\n",
      "from scipy.stats import norm\n",
      "\n",
      "conf_level = 0.95\n",
      "z_level = norm.ppf(0.5*(1+conf_level))\n",
      "\n",
      "print \"Results for %d iterations\"%(N)\n",
      "print\n",
      "\n",
      "print \"Used discount factor: %s\"%discount\n",
      "print\n",
      "\n",
      "print \"Nb of CM =\",nb_cm\n",
      "print\n",
      "\n",
      "for sub, l in zip(subsets_defaulters, intensity_defaulters):\n",
      "    print \"Default intensity of %s = %s\"%([x for x in sub], \"%d bps\"%(l*1e4))\n",
      "print\n",
      "\n",
      "print \"Default intensity of member %s = %d bps\"%(cm_index, gamma_i*1e4)\n",
      "print\n",
      "\n",
      "print \"Derivatives contracts:\"\n",
      "for (ii, desc) in enumerate(descr):\n",
      "    print \"%d. %s\"%(ii+1, desc)\n",
      "print\n",
      "\n",
      "print \"Prices of the derivatives =\",prices\n",
      "print \"Quantities bought = \",positions\n",
      "print \"Portfolio values of all members contracted with the CCP =\",portfolio_at_time_0\n",
      "print\n",
      "\n",
      "print \"Skin in the game input parameter put at beginning of each year: %.1f\"%sig0\n",
      "print \"Confidence level used for VM + IM: %.2f\"%conf_level_im\n",
      "print \"Confidence level used for VM + IM + DF: %.2f\"%conf_level_df\n",
      "print \n",
      "\n",
      "for label, e, mv in zip(labels, expectations, mod_variances):\n",
      "    half_inter = z_level*np.sqrt(mv)\n",
      "    print \"The %s of member %s lies in the interval: [%.4f, %.4f]\"%(label, cm_index, e-half_inter, e+half_inter)"
     ],
     "language": "python",
     "metadata": {
      "zanadu": {
       "is_abstract": false,
       "is_hidden": false
      }
     },
     "outputs": [
      {
       "output_type": "stream",
       "stream": "stdout",
       "text": [
        "Results for 4 iterations\n",
        "\n",
        "Used discount factor: Constant discount factor process with rate r = 0.02\n",
        "\n",
        "Nb of CM = 3\n",
        "\n",
        "Default intensity of [0] = 200 bps\n",
        "Default intensity of [1] = 100 bps\n",
        "Default intensity of [2] = 50 bps\n",
        "Default intensity of [0, 1] = 30 bps\n",
        "Default intensity of [0, 1, 2] = 15 bps\n",
        "\n",
        "Default intensity of member 0 = 245 bps\n",
        "\n",
        "Derivatives contracts:\n",
        "1. Swap contract of maturity T = 5 years, over S^0 with strike K = 104.821, paying at {0.00, 0.25, 0.50, 0.75, 1.00, 1.25, 1.50, 1.75, 2.00, 2.25, 2.50, 2.75, 3.00, 3.25, 3.50, 3.75, 4.00, 4.25, 4.50, 4.75, 5.00}\n",
        "\n",
        "Prices of the derivatives = [0]\n",
        "Quantities bought =  [[1000], [-500], [-500]]\n",
        "Portfolio values of all members contracted with the CCP = [0 0 0]\n",
        "\n",
        "Skin in the game input parameter put at beginning of each year: 0.0\n",
        "Confidence level used for VM + IM: 0.70\n",
        "Confidence level used for VM + IM + DF: 0.80\n",
        "\n",
        "The CVA of member 0 lies in the interval: [-469.4024, 1447.3608]\n",
        "The FVA of member 0 lies in the interval: [368.6352, 907.2695]\n",
        "The KVA of member 0 lies in the interval: [0.1539, 0.7361]\n"
       ]
      }
     ],
     "prompt_number": 37
    },
    {
     "cell_type": "code",
     "collapsed": false,
     "input": [],
     "language": "python",
     "metadata": {},
     "outputs": []
    }
   ],
   "metadata": {}
  }
 ]
}