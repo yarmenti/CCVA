{
 "metadata": {
  "name": "",
  "signature": "sha256:0aff1a6a14eca8d100825f06a0067d0b3dac63b80571e82e14fde9f638160c6a"
 },
 "nbformat": 3,
 "nbformat_minor": 0,
 "worksheets": [
  {
   "cells": [
    {
     "cell_type": "heading",
     "level": 1,
     "metadata": {},
     "source": [
      "Loading results of Monte Carlo simulation"
     ]
    },
    {
     "cell_type": "heading",
     "level": 2,
     "metadata": {},
     "source": [
      "Load data"
     ]
    },
    {
     "cell_type": "code",
     "collapsed": false,
     "input": [
      "import dill"
     ],
     "language": "python",
     "metadata": {},
     "outputs": [],
     "prompt_number": 1
    },
    {
     "cell_type": "code",
     "collapsed": false,
     "input": [
      "path_file = 'OUTPUTS/3CM_less_risky.res'"
     ],
     "language": "python",
     "metadata": {},
     "outputs": [],
     "prompt_number": 2
    },
    {
     "cell_type": "code",
     "collapsed": false,
     "input": [
      "result = None\n",
      "with open(path_file, 'rb') as in_strm: \n",
      "    result = dill.load(in_strm)"
     ],
     "language": "python",
     "metadata": {},
     "outputs": [],
     "prompt_number": 3
    },
    {
     "cell_type": "heading",
     "level": 2,
     "metadata": {},
     "source": [
      "Get results"
     ]
    },
    {
     "cell_type": "code",
     "collapsed": false,
     "input": [
      "import numpy as np\n",
      "import matplotlib.pyplot as plt"
     ],
     "language": "python",
     "metadata": {},
     "outputs": [],
     "prompt_number": 4
    },
    {
     "cell_type": "code",
     "collapsed": false,
     "input": [
      "time_grid = result['time_grid']\n",
      "prices_mat = result['prices']\n",
      "collat_mat = result['collat']\n",
      "capital_mat = result['capital']\n",
      "\n",
      "cm_index = result['cm_index']\n",
      "_c = result['c']\n",
      "_lambda = result['lambda']\n",
      "_bar_lambda = result['bar_lambda']\n",
      "_k = result['k']"
     ],
     "language": "python",
     "metadata": {},
     "outputs": [],
     "prompt_number": 5
    },
    {
     "cell_type": "heading",
     "level": 2,
     "metadata": {},
     "source": [
      "Prices"
     ]
    },
    {
     "cell_type": "code",
     "collapsed": false,
     "input": [
      "prices_q95 = np.percentile(prices_mat, 95, axis=0)\n",
      "prices_q5 = np.percentile(prices_mat, 5, axis=0)\n",
      "price_avg = np.mean(prices_mat, 0)"
     ],
     "language": "python",
     "metadata": {},
     "outputs": [],
     "prompt_number": 6
    },
    {
     "cell_type": "code",
     "collapsed": false,
     "input": [
      "plt.xlabel('Time in year')\n",
      "plt.ylabel('Member %s portfolio value'%cm_index)\n",
      "plt.title('Portfolio valuation through time')\n",
      "plt.plot(time_grid, prices_q95, label='95% quantile')\n",
      "plt.plot(time_grid, prices_q5, label='5% quantile')\n",
      "plt.plot(time_grid, price_avg, label='average')\n",
      "plt.legend(loc=2)\n",
      "\n",
      "plt.show()"
     ],
     "language": "python",
     "metadata": {},
     "outputs": [],
     "prompt_number": 7
    },
    {
     "cell_type": "heading",
     "level": 2,
     "metadata": {},
     "source": [
      "Collateral"
     ]
    },
    {
     "cell_type": "code",
     "collapsed": false,
     "input": [
      "collat_q95 = np.percentile(collat_mat, 95, axis=0)\n",
      "collat_q5 = np.percentile(collat_mat, 5, axis=0)\n",
      "collat_avg = np.mean(collat_mat, 0)"
     ],
     "language": "python",
     "metadata": {},
     "outputs": [],
     "prompt_number": 8
    },
    {
     "cell_type": "code",
     "collapsed": false,
     "input": [
      "plt.xlabel('Time in year')\n",
      "plt.ylabel('$\\Gamma_t^{%d}$'%(cm_index))\n",
      "plt.title('Collateral through time')\n",
      "plt.plot(time_grid, collat_q95, label='95% quantile')\n",
      "plt.plot(time_grid, collat_q5, label='5% quantile')\n",
      "plt.plot(time_grid, collat_avg, label='average')\n",
      "\n",
      "plt.legend(loc=2)\n",
      "\n",
      "plt.show()"
     ],
     "language": "python",
     "metadata": {},
     "outputs": [],
     "prompt_number": 9
    },
    {
     "cell_type": "heading",
     "level": 2,
     "metadata": {},
     "source": [
      "Capital"
     ]
    },
    {
     "cell_type": "code",
     "collapsed": false,
     "input": [
      "capital_q95 = np.percentile(capital_mat, 95, axis=0)\n",
      "capital_q5 = np.percentile(capital_mat, 5, axis=0)\n",
      "capital_avg = np.mean(capital_mat, 0)"
     ],
     "language": "python",
     "metadata": {},
     "outputs": [],
     "prompt_number": 10
    },
    {
     "cell_type": "code",
     "collapsed": false,
     "input": [
      "plt.xlabel('Time in year')\n",
      "plt.ylabel('$k_{t} \\times K_t^{%d}$'%(cm_index))\n",
      "plt.title('Capital cost through time')\n",
      "plt.plot(time_grid, capital_q95, label='95% quantile')\n",
      "plt.plot(time_grid, capital_q5, label='5% quantile')\n",
      "plt.plot(time_grid, capital_avg, label='average')\n",
      "plt.legend(loc=2)\n",
      "\n",
      "plt.show()"
     ],
     "language": "python",
     "metadata": {},
     "outputs": [],
     "prompt_number": 11
    },
    {
     "cell_type": "heading",
     "level": 2,
     "metadata": {},
     "source": [
      "FVA"
     ]
    },
    {
     "cell_type": "code",
     "collapsed": false,
     "input": [
      "gamma_min_prices = collat_mat-prices_mat\n",
      "\n",
      "p_gamma_min_prices = np.maximum(gamma_min_prices, 0)\n",
      "n_gamma_min_prices = -np.minimum(gamma_min_prices, 0)\n",
      "\n",
      "fva_mat = -_c*collat_mat + _bar_lambda*p_gamma_min_prices - _lambda*n_gamma_min_prices"
     ],
     "language": "python",
     "metadata": {},
     "outputs": [],
     "prompt_number": 20
    },
    {
     "cell_type": "code",
     "collapsed": false,
     "input": [
      "fva_q95 = np.percentile(fva_mat, 95, axis=0)\n",
      "fva_q5 = np.percentile(fva_mat, 5, axis=0)\n",
      "fva_avg = np.mean(fva_mat, 0)"
     ],
     "language": "python",
     "metadata": {},
     "outputs": [],
     "prompt_number": 21
    },
    {
     "cell_type": "code",
     "collapsed": false,
     "input": [
      "plt.xlabel('Time in year')\n",
      "plt.ylabel('$FVA_t^{%d}$'%(cm_index))\n",
      "plt.title('FVA through time')\n",
      "plt.plot(time_grid, fva_q95, label='95% quantile')\n",
      "plt.plot(time_grid, fva_q5, label='5% quantile')\n",
      "plt.plot(time_grid, fva_avg, label='average')\n",
      "plt.legend(loc=2)\n",
      "\n",
      "plt.show()"
     ],
     "language": "python",
     "metadata": {},
     "outputs": [],
     "prompt_number": 23
    }
   ],
   "metadata": {}
  }
 ]
}