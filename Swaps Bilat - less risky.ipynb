{
 "metadata": {
  "name": "",
  "signature": "sha256:2020ff07d65e919a6889f35ee35bde7562b842151a2c7131fbbe4c8ff55534e3",
  "zanadu": {
   "category": "1",
   "clearance": "Internal",
   "group_name": "Evry_University",
   "notebook_id": "72E49D8F-42CD-4D01-BDA2-76D13E8D7175",
   "status": "WIP"
  }
 },
 "nbformat": 3,
 "nbformat_minor": 0,
 "worksheets": [
  {
   "cells": [
    {
     "cell_type": "heading",
     "level": 1,
     "metadata": {},
     "source": [
      "Bilateral case comparison for CCVA"
     ]
    },
    {
     "cell_type": "markdown",
     "metadata": {
      "zanadu": {
       "is_abstract": false,
       "is_hidden": false
      }
     },
     "source": [
      "In that notebook, we will implement the computation of the first-order approximation of the defined TVA written in the paper of Cr\u00e9pey and Song.\n",
      "\n",
      "Remind the first-order approximation formula of the reduced form:\n",
      "\n",
      "\\begin{align*}\n",
      "\\Theta_0^{(1)} =& \\, \\mathbb{E} \\left[ \n",
      "\\int_{0}^{\\bar{T}} \\tilde{f}_s(0) ds\n",
      "\\right] \\\\\n",
      "=& \\, \\mathbb{E} \\left( 1_{\\tau \\leq \\bar{T}} \\frac{1}{\\lambda e^{-\\lambda \\tau}} \\tilde{f}_{\\tau}(0) \\right)\n",
      "\\end{align*}\n",
      "\n",
      "with the $\\tilde{f}_{.}(0)$ function is given by:\n",
      "\n",
      "\\begin{align*}\n",
      "\\tilde{f}_t(0) = &(1-R_c) \\times \\gamma^c \\times (P_t + \\Delta_t - \\Gamma_t^c)^+ \\\\\n",
      "- &(1-R_b) \\times \\gamma^b \\times (P_t + \\Delta_t - \\Gamma_t^b)^- \\\\\n",
      "+ &(c_t \\Gamma_t^f + \\tilde{\\lambda}_t (P_t - \\Gamma_t^f)^+ \n",
      "- \\lambda_t (P_t - \\Gamma_t^f)^-\n",
      "\\end{align*}\n",
      "\n",
      "with:  \n",
      "\n",
      "- $\\beta_t = \\exp ( - \\int_0^t r_s ds )$\n",
      "- $P_t = \\mathbb{E}_t \\left( \\frac{1}{\\beta_t} \\int_t^{\\bar{T}} \\beta_s dD_s \\right)$\n",
      "- $\\Delta_t = \\int_{[t, \\tau^{\\delta}]} \\beta_s dD_s$\n",
      "\n",
      "    \n",
      "and:  \n",
      "\n",
      "- $R_.$ the recovery of the bank or counterparty\n",
      "- $\\gamma^.$ the default intensity of the bank or counterparty\n",
      "\n",
      "\n",
      "- $\\Gamma^.$ the overall collateral of the bank or counterparty\n",
      "    - $\\Gamma^b = VM + IM_c$\n",
      "    - $\\Gamma^c = VM + IM_b$\n",
      "    \n",
      "    \n",
      "- $\\Gamma^f = \\Gamma^c + IM_c$\n",
      "    \n",
      "with the sign conventions that $VM = +1$ means the counterparty owes $1$ to the bank, $IM_c > 0$ and $IM_b < 0$. $\\color{red}{\\text{To see with S.C why of } \\Gamma^f}$\n",
      "    \n",
      "- $c_t$ the remuneration spread of the collateral\n",
      "- $\\lambda_t$ the investment spread of the bank\n",
      "- $\\tilde{\\lambda}_t := \\bar{\\lambda}_t - (1-R_f)\\gamma$ with\n",
      "    - $\\bar{\\lambda}_t$ the unsecured funding spread of the bank\n",
      "    - $R_f$ the recovery rate of the bank to its funder"
     ]
    }
   ],
   "metadata": {}
  }
 ]
}