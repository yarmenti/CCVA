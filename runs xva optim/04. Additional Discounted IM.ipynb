{
 "cells": [
  {
   "cell_type": "code",
   "execution_count": 1,
   "metadata": {
    "ExecuteTime": {
     "end_time": "2017-07-14T08:26:06.756000Z",
     "start_time": "2017-07-14T08:26:05.854000Z"
    }
   },
   "outputs": [
    {
     "name": "stdout",
     "output_type": "stream",
     "text": [
      "[ 0.85        0.85773684  0.86547368  0.87321053  0.88094737  0.88868421\n",
      "  0.89642105  0.90415789  0.91189474  0.91963158  0.92736842  0.93510526\n",
      "  0.94284211  0.95057895  0.95831579  0.96605263  0.97378947  0.98152632\n",
      "  0.98926316  0.997     ]\n"
     ]
    }
   ],
   "source": [
    "import numpy as np\n",
    "\n",
    "NB_SIM = 5\n",
    "QUANTILES = np.linspace(0.85, 0.997, 20)\n",
    "print QUANTILES"
   ]
  },
  {
   "cell_type": "code",
   "execution_count": 2,
   "metadata": {
    "ExecuteTime": {
     "end_time": "2017-07-14T08:26:06.767000Z",
     "start_time": "2017-07-14T08:26:06.765000Z"
    },
    "collapsed": true
   },
   "outputs": [],
   "source": [
    "import sys\n",
    "\n",
    "sys.path.append('..')"
   ]
  },
  {
   "cell_type": "code",
   "execution_count": 3,
   "metadata": {
    "ExecuteTime": {
     "end_time": "2017-07-14T08:26:06.780000Z",
     "start_time": "2017-07-14T08:26:06.769000Z"
    },
    "collapsed": true
   },
   "outputs": [],
   "source": [
    "import os"
   ]
  },
  {
   "cell_type": "code",
   "execution_count": 4,
   "metadata": {
    "ExecuteTime": {
     "end_time": "2017-07-14T08:26:06.799000Z",
     "start_time": "2017-07-14T08:26:06.784000Z"
    },
    "collapsed": true
   },
   "outputs": [],
   "source": [
    "def rec_dict_print(a_dict, level=1):\n",
    "    keys = a_dict.keys()\n",
    "    keys.sort()\n",
    "    for k in keys:\n",
    "        if type(a_dict[k]) is dict:\n",
    "            print \"\".join([\"-\" for i in range(level)]) + k\n",
    "            rec_dict_print(a_dict[k], level + 2)\n",
    "        else:\n",
    "            print \"\".join([\"-\" for i in range(level)]) + k"
   ]
  },
  {
   "cell_type": "code",
   "execution_count": 5,
   "metadata": {
    "ExecuteTime": {
     "end_time": "2017-07-14T08:26:30.863000Z",
     "start_time": "2017-07-14T08:26:06.801000Z"
    },
    "collapsed": true
   },
   "outputs": [],
   "source": [
    "%matplotlib inline\n",
    "import dill\n",
    "\n",
    "loaded_data = None\n",
    "\n",
    "with open('precomputed_sims/data%i.pkl' % (NB_SIM), 'rb') as f:\n",
    "    loaded_data = dill.load(f)"
   ]
  },
  {
   "cell_type": "code",
   "execution_count": 6,
   "metadata": {
    "ExecuteTime": {
     "end_time": "2017-07-14T08:26:30.883000Z",
     "start_time": "2017-07-14T08:26:30.879000Z"
    }
   },
   "outputs": [
    {
     "name": "stdout",
     "output_type": "stream",
     "text": [
      "-N\n",
      "-credit\n",
      "---bc_ids\n",
      "---bc_subsets_indexes\n",
      "---copula\n",
      "---default_times\n",
      "-underlyings\n"
     ]
    }
   ],
   "source": [
    "rec_dict_print(loaded_data)"
   ]
  },
  {
   "cell_type": "code",
   "execution_count": 7,
   "metadata": {
    "ExecuteTime": {
     "end_time": "2017-07-14T08:26:30.912000Z",
     "start_time": "2017-07-14T08:26:30.886000Z"
    },
    "collapsed": true
   },
   "outputs": [],
   "source": [
    "N = loaded_data[\"N\"]"
   ]
  },
  {
   "cell_type": "code",
   "execution_count": 8,
   "metadata": {
    "ExecuteTime": {
     "end_time": "2017-07-14T08:26:30.924000Z",
     "start_time": "2017-07-14T08:26:30.915000Z"
    }
   },
   "outputs": [
    {
     "name": "stdout",
     "output_type": "stream",
     "text": [
      "Maturity = 5.0 years\n"
     ]
    }
   ],
   "source": [
    "# Instead of taking 365 standard days or 252 trading days\n",
    "# in order to get some easy computations for the eqty and df time grids\n",
    "# I chose to take 360 days of tradings\n",
    "\n",
    "step = 1 / 360.\n",
    "delta = 5 * step\n",
    "\n",
    "maturity = 5.\n",
    "\n",
    "print \"Maturity = %s years\" % maturity"
   ]
  },
  {
   "cell_type": "markdown",
   "metadata": {},
   "source": [
    "# Discount"
   ]
  },
  {
   "cell_type": "code",
   "execution_count": 9,
   "metadata": {
    "ExecuteTime": {
     "end_time": "2017-07-14T08:26:30.954000Z",
     "start_time": "2017-07-14T08:26:30.927000Z"
    },
    "collapsed": true
   },
   "outputs": [],
   "source": [
    "from finance.discountfactor import ConstantRateDiscountFactor \n",
    "\n",
    "r = 0.02\n",
    "discount = ConstantRateDiscountFactor(r)"
   ]
  },
  {
   "cell_type": "markdown",
   "metadata": {},
   "source": [
    "# Underlying"
   ]
  },
  {
   "cell_type": "code",
   "execution_count": 10,
   "metadata": {
    "ExecuteTime": {
     "end_time": "2017-07-14T08:26:30.963000Z",
     "start_time": "2017-07-14T08:26:30.956000Z"
    }
   },
   "outputs": [
    {
     "name": "stdout",
     "output_type": "stream",
     "text": [
      "Maximum number of paths: 20000\n",
      "kappa = 0.12, sigma = 0.2\n"
     ]
    }
   ],
   "source": [
    "udlyings = loaded_data[\"underlyings\"]\n",
    "\n",
    "print \"Maximum number of paths: %i\" % len(udlyings)\n",
    "\n",
    "gbm0 = udlyings[0]\n",
    "\n",
    "kappa = gbm0.drifts[0][0]\n",
    "sigma = gbm0.vols[0][0]\n",
    "print \"kappa = %s, sigma = %s\" % (kappa, sigma)\n",
    "\n",
    "time_grid = gbm0.time"
   ]
  },
  {
   "cell_type": "markdown",
   "metadata": {},
   "source": [
    "# Derivative"
   ]
  },
  {
   "cell_type": "code",
   "execution_count": 11,
   "metadata": {
    "ExecuteTime": {
     "end_time": "2017-07-14T08:26:30.971000Z",
     "start_time": "2017-07-14T08:26:30.965000Z"
    },
    "collapsed": true
   },
   "outputs": [],
   "source": [
    "derivatives_nb = 1"
   ]
  },
  {
   "cell_type": "code",
   "execution_count": 12,
   "metadata": {
    "ExecuteTime": {
     "end_time": "2017-07-14T08:26:31.049000Z",
     "start_time": "2017-07-14T08:26:30.973000Z"
    },
    "scrolled": true
   },
   "outputs": [
    {
     "name": "stdout",
     "output_type": "stream",
     "text": [
      "Swap contract of maturity T = 5 years, over S^0 with strike K = 134.306, paying at {0.00, 0.25, 0.50, 0.75, 1.00, 1.25, 1.50, 1.75, 2.00, 2.25, 2.50, 2.75, 3.00, 3.25, 3.50, 3.75, 4.00, 4.25, 4.50, 4.75, 5.00}\n",
      "\n",
      "Price swap at t=0 without 1st coupon = 0.0\n"
     ]
    }
   ],
   "source": [
    "from finance.products.european.swap import (\n",
    "    SwapContract,\n",
    ")\n",
    "\n",
    "swap_delta = 0.25\n",
    "\n",
    "swap_dates = SwapContract.generate_payment_dates(0, maturity, swap_delta)\n",
    "swap = SwapContract(gbm0, discount, swap_dates)\n",
    "\n",
    "price_0 = swap.price(0., incl_next_coupon=True)\n",
    "\n",
    "print swap\n",
    "print \"\\nPrice swap at t=0 without 1st coupon = %s\" % price_0"
   ]
  },
  {
   "cell_type": "code",
   "execution_count": 13,
   "metadata": {
    "ExecuteTime": {
     "end_time": "2017-07-14T08:26:31.058000Z",
     "start_time": "2017-07-14T08:26:31.051000Z"
    }
   },
   "outputs": [
    {
     "name": "stdout",
     "output_type": "stream",
     "text": [
      "Notional on the swap: 0.0015687485053\n"
     ]
    }
   ],
   "source": [
    "p_fixed = 1.\n",
    "strike = swap.strike\n",
    "\n",
    "delta_times = swap.delta_time\n",
    "discount_factors = [discount(t) for t in swap.pillars[1:]]\n",
    "\n",
    "delta_beta_sum = np.dot(delta_times, discount_factors)\n",
    "\n",
    "notional = p_fixed / (strike*delta_beta_sum)\n",
    "\n",
    "print \"Notional on the swap: %s\" % notional"
   ]
  },
  {
   "cell_type": "markdown",
   "metadata": {},
   "source": [
    "# Indexes stuffs"
   ]
  },
  {
   "cell_type": "code",
   "execution_count": 14,
   "metadata": {
    "ExecuteTime": {
     "end_time": "2017-07-14T08:26:31.077000Z",
     "start_time": "2017-07-14T08:26:31.060000Z"
    }
   },
   "outputs": [
    {
     "name": "stdout",
     "output_type": "stream",
     "text": [
      "Obligor numbers: 125\n",
      "Counterparties id: [17, 9, 29, 26, 50, 4, 5, 13, 64] (nb = 9)\n"
     ]
    }
   ],
   "source": [
    "copula = loaded_data[\"credit\"][\"copula\"]\n",
    "\n",
    "c_subsets_indexes = loaded_data[\"credit\"][\"bc_subsets_indexes\"]\n",
    "\n",
    "obligors_nb = len(copula.subsets[c_subsets_indexes[-1]][0])\n",
    "print \"Obligor numbers: %s\" % obligors_nb\n",
    "\n",
    "c_ids = [17, 9, 29, 26, 50, 4, 5, 13, 64]\n",
    "c_positions = [0.69, -0.46, -0.44, -0.36, 0.34, 0.23, 0.09, -0.05, -0.04]\n",
    "\n",
    "print \"Counterparties id: %s (nb = %s)\" % (c_ids, len(c_ids))"
   ]
  },
  {
   "cell_type": "code",
   "execution_count": 15,
   "metadata": {
    "ExecuteTime": {
     "end_time": "2017-07-14T08:26:31.094000Z",
     "start_time": "2017-07-14T08:26:31.079000Z"
    }
   },
   "outputs": [
    {
     "name": "stdout",
     "output_type": "stream",
     "text": [
      "[  0.    0.    0.    0.    4.6   1.8   0.    0.    0.   -9.2   0.    0.\n",
      "   0.   -1.    0.    0.    0.   13.8   0.    0.    0.    0.    0.    0.\n",
      "   0.    0.   -7.2   0.    0.   -8.8   0.    0.    0.    0.    0.    0.\n",
      "   0.    0.    0.    0.    0.    0.    0.    0.    0.    0.    0.    0.\n",
      "   0.    0.    6.8   0.    0.    0.    0.    0.    0.    0.    0.    0.\n",
      "   0.    0.    0.    0.   -0.8   0.    0.    0.    0.    0.    0.    0.\n",
      "   0.    0.    0.    0.    0.    0.    0.    0.    0.    0.    0.    0.\n",
      "   0.    0.    0.    0.    0.    0.    0.    0.    0.    0.    0.    0.\n",
      "   0.    0.    0.    0.    0.    0.    0.    0.    0.    0.    0.    0.\n",
      "   0.    0.    0.    0.    0.    0.    0.    0.    0.    0.    0.    0.\n",
      "   0.    0.    0.    0.    0. ]\n"
     ]
    }
   ],
   "source": [
    "positions = np.zeros(obligors_nb)\n",
    "for idx, ps in zip(c_ids, c_positions):\n",
    "    positions[idx] = ps\n",
    "\n",
    "positions = positions / -positions[13]\n",
    "positions = np.array(positions).reshape(positions.size, 1)\n",
    "\n",
    "print positions.flatten()"
   ]
  },
  {
   "cell_type": "markdown",
   "metadata": {},
   "source": [
    "## Default times"
   ]
  },
  {
   "cell_type": "code",
   "execution_count": 16,
   "metadata": {
    "ExecuteTime": {
     "end_time": "2017-07-14T08:26:31.100000Z",
     "start_time": "2017-07-14T08:26:31.096000Z"
    },
    "collapsed": true
   },
   "outputs": [],
   "source": [
    "default_times_mat = loaded_data[\"credit\"][\"default_times\"]"
   ]
  },
  {
   "cell_type": "code",
   "execution_count": 17,
   "metadata": {
    "ExecuteTime": {
     "end_time": "2017-07-14T08:26:32.991000Z",
     "start_time": "2017-07-14T08:26:31.102000Z"
    },
    "collapsed": true
   },
   "outputs": [],
   "source": [
    "import pandas as pd\n",
    "\n",
    "def get_default_times_sim(c_ids_, N_, default_times_mat_, copula_, subsets_indexes_):\n",
    "    matrix_def_ = np.zeros((len(c_ids_), N_))\n",
    "    \n",
    "    for j_, c_id_ in enumerate(c_ids_):\n",
    "        cp_subsets_indexes_ = copula_.get_indexes_including(c_id_)\n",
    "        c_df_times_indexes_ = [ii_ for ii_, ind_ in enumerate(subsets_indexes_) if ind_ in cp_subsets_indexes_]\n",
    "        \n",
    "        c_df_times_mat_ = default_times_mat_[:, c_df_times_indexes_]\n",
    "        c_df_times_ = c_df_times_mat_.min(axis=1)\n",
    "        \n",
    "        matrix_def_[j_] = c_df_times_\n",
    "        \n",
    "    matrix_def_[matrix_def_==1000.] = np.nan\n",
    "        \n",
    "    df_default_times_ = pd.DataFrame(matrix_def_, index=np.array(c_ids_))\n",
    "    return df_default_times_"
   ]
  },
  {
   "cell_type": "code",
   "execution_count": 18,
   "metadata": {
    "ExecuteTime": {
     "end_time": "2017-07-14T08:26:33.055000Z",
     "start_time": "2017-07-14T08:26:32.991000Z"
    }
   },
   "outputs": [
    {
     "data": {
      "text/html": [
       "<div>\n",
       "<table border=\"1\" class=\"dataframe\">\n",
       "  <thead>\n",
       "    <tr style=\"text-align: right;\">\n",
       "      <th></th>\n",
       "      <th>0</th>\n",
       "      <th>1</th>\n",
       "      <th>2</th>\n",
       "      <th>3</th>\n",
       "      <th>4</th>\n",
       "      <th>5</th>\n",
       "      <th>6</th>\n",
       "      <th>7</th>\n",
       "      <th>8</th>\n",
       "      <th>9</th>\n",
       "      <th>...</th>\n",
       "      <th>19990</th>\n",
       "      <th>19991</th>\n",
       "      <th>19992</th>\n",
       "      <th>19993</th>\n",
       "      <th>19994</th>\n",
       "      <th>19995</th>\n",
       "      <th>19996</th>\n",
       "      <th>19997</th>\n",
       "      <th>19998</th>\n",
       "      <th>19999</th>\n",
       "    </tr>\n",
       "  </thead>\n",
       "  <tbody>\n",
       "    <tr>\n",
       "      <th>17</th>\n",
       "      <td>NaN</td>\n",
       "      <td>NaN</td>\n",
       "      <td>NaN</td>\n",
       "      <td>NaN</td>\n",
       "      <td>NaN</td>\n",
       "      <td>NaN</td>\n",
       "      <td>NaN</td>\n",
       "      <td>NaN</td>\n",
       "      <td>NaN</td>\n",
       "      <td>NaN</td>\n",
       "      <td>...</td>\n",
       "      <td>NaN</td>\n",
       "      <td>NaN</td>\n",
       "      <td>NaN</td>\n",
       "      <td>NaN</td>\n",
       "      <td>NaN</td>\n",
       "      <td>NaN</td>\n",
       "      <td>NaN</td>\n",
       "      <td>NaN</td>\n",
       "      <td>NaN</td>\n",
       "      <td>NaN</td>\n",
       "    </tr>\n",
       "    <tr>\n",
       "      <th>9</th>\n",
       "      <td>NaN</td>\n",
       "      <td>NaN</td>\n",
       "      <td>NaN</td>\n",
       "      <td>NaN</td>\n",
       "      <td>NaN</td>\n",
       "      <td>NaN</td>\n",
       "      <td>NaN</td>\n",
       "      <td>NaN</td>\n",
       "      <td>NaN</td>\n",
       "      <td>NaN</td>\n",
       "      <td>...</td>\n",
       "      <td>NaN</td>\n",
       "      <td>NaN</td>\n",
       "      <td>NaN</td>\n",
       "      <td>NaN</td>\n",
       "      <td>NaN</td>\n",
       "      <td>NaN</td>\n",
       "      <td>NaN</td>\n",
       "      <td>NaN</td>\n",
       "      <td>NaN</td>\n",
       "      <td>NaN</td>\n",
       "    </tr>\n",
       "    <tr>\n",
       "      <th>29</th>\n",
       "      <td>NaN</td>\n",
       "      <td>NaN</td>\n",
       "      <td>0.336111</td>\n",
       "      <td>NaN</td>\n",
       "      <td>NaN</td>\n",
       "      <td>NaN</td>\n",
       "      <td>NaN</td>\n",
       "      <td>NaN</td>\n",
       "      <td>NaN</td>\n",
       "      <td>0.388889</td>\n",
       "      <td>...</td>\n",
       "      <td>1.808333</td>\n",
       "      <td>NaN</td>\n",
       "      <td>NaN</td>\n",
       "      <td>4.041667</td>\n",
       "      <td>NaN</td>\n",
       "      <td>NaN</td>\n",
       "      <td>NaN</td>\n",
       "      <td>NaN</td>\n",
       "      <td>NaN</td>\n",
       "      <td>NaN</td>\n",
       "    </tr>\n",
       "    <tr>\n",
       "      <th>26</th>\n",
       "      <td>0.941667</td>\n",
       "      <td>NaN</td>\n",
       "      <td>0.677778</td>\n",
       "      <td>NaN</td>\n",
       "      <td>0.686111</td>\n",
       "      <td>NaN</td>\n",
       "      <td>NaN</td>\n",
       "      <td>NaN</td>\n",
       "      <td>2.119444</td>\n",
       "      <td>1.347222</td>\n",
       "      <td>...</td>\n",
       "      <td>0.755556</td>\n",
       "      <td>NaN</td>\n",
       "      <td>0.875</td>\n",
       "      <td>1.172222</td>\n",
       "      <td>2.552778</td>\n",
       "      <td>0.469444</td>\n",
       "      <td>NaN</td>\n",
       "      <td>0.894444</td>\n",
       "      <td>0.702778</td>\n",
       "      <td>NaN</td>\n",
       "    </tr>\n",
       "    <tr>\n",
       "      <th>50</th>\n",
       "      <td>NaN</td>\n",
       "      <td>1.597222</td>\n",
       "      <td>NaN</td>\n",
       "      <td>NaN</td>\n",
       "      <td>NaN</td>\n",
       "      <td>NaN</td>\n",
       "      <td>NaN</td>\n",
       "      <td>NaN</td>\n",
       "      <td>NaN</td>\n",
       "      <td>NaN</td>\n",
       "      <td>...</td>\n",
       "      <td>NaN</td>\n",
       "      <td>NaN</td>\n",
       "      <td>NaN</td>\n",
       "      <td>NaN</td>\n",
       "      <td>NaN</td>\n",
       "      <td>NaN</td>\n",
       "      <td>NaN</td>\n",
       "      <td>NaN</td>\n",
       "      <td>NaN</td>\n",
       "      <td>NaN</td>\n",
       "    </tr>\n",
       "    <tr>\n",
       "      <th>4</th>\n",
       "      <td>NaN</td>\n",
       "      <td>NaN</td>\n",
       "      <td>NaN</td>\n",
       "      <td>NaN</td>\n",
       "      <td>NaN</td>\n",
       "      <td>NaN</td>\n",
       "      <td>NaN</td>\n",
       "      <td>NaN</td>\n",
       "      <td>NaN</td>\n",
       "      <td>NaN</td>\n",
       "      <td>...</td>\n",
       "      <td>NaN</td>\n",
       "      <td>NaN</td>\n",
       "      <td>NaN</td>\n",
       "      <td>NaN</td>\n",
       "      <td>NaN</td>\n",
       "      <td>NaN</td>\n",
       "      <td>NaN</td>\n",
       "      <td>NaN</td>\n",
       "      <td>NaN</td>\n",
       "      <td>0.530556</td>\n",
       "    </tr>\n",
       "    <tr>\n",
       "      <th>5</th>\n",
       "      <td>NaN</td>\n",
       "      <td>NaN</td>\n",
       "      <td>NaN</td>\n",
       "      <td>NaN</td>\n",
       "      <td>NaN</td>\n",
       "      <td>NaN</td>\n",
       "      <td>NaN</td>\n",
       "      <td>NaN</td>\n",
       "      <td>NaN</td>\n",
       "      <td>NaN</td>\n",
       "      <td>...</td>\n",
       "      <td>NaN</td>\n",
       "      <td>NaN</td>\n",
       "      <td>NaN</td>\n",
       "      <td>NaN</td>\n",
       "      <td>NaN</td>\n",
       "      <td>NaN</td>\n",
       "      <td>1.638889</td>\n",
       "      <td>NaN</td>\n",
       "      <td>NaN</td>\n",
       "      <td>NaN</td>\n",
       "    </tr>\n",
       "    <tr>\n",
       "      <th>13</th>\n",
       "      <td>NaN</td>\n",
       "      <td>NaN</td>\n",
       "      <td>NaN</td>\n",
       "      <td>NaN</td>\n",
       "      <td>NaN</td>\n",
       "      <td>NaN</td>\n",
       "      <td>NaN</td>\n",
       "      <td>NaN</td>\n",
       "      <td>NaN</td>\n",
       "      <td>NaN</td>\n",
       "      <td>...</td>\n",
       "      <td>NaN</td>\n",
       "      <td>NaN</td>\n",
       "      <td>NaN</td>\n",
       "      <td>NaN</td>\n",
       "      <td>NaN</td>\n",
       "      <td>NaN</td>\n",
       "      <td>NaN</td>\n",
       "      <td>NaN</td>\n",
       "      <td>NaN</td>\n",
       "      <td>NaN</td>\n",
       "    </tr>\n",
       "    <tr>\n",
       "      <th>64</th>\n",
       "      <td>NaN</td>\n",
       "      <td>0.152778</td>\n",
       "      <td>NaN</td>\n",
       "      <td>NaN</td>\n",
       "      <td>NaN</td>\n",
       "      <td>NaN</td>\n",
       "      <td>NaN</td>\n",
       "      <td>NaN</td>\n",
       "      <td>NaN</td>\n",
       "      <td>NaN</td>\n",
       "      <td>...</td>\n",
       "      <td>NaN</td>\n",
       "      <td>NaN</td>\n",
       "      <td>NaN</td>\n",
       "      <td>4.172222</td>\n",
       "      <td>NaN</td>\n",
       "      <td>NaN</td>\n",
       "      <td>NaN</td>\n",
       "      <td>NaN</td>\n",
       "      <td>NaN</td>\n",
       "      <td>NaN</td>\n",
       "    </tr>\n",
       "  </tbody>\n",
       "</table>\n",
       "<p>9 rows × 20000 columns</p>\n",
       "</div>"
      ],
      "text/plain": [
       "       0         1         2      3         4      5      6      7      \\\n",
       "17       NaN       NaN       NaN    NaN       NaN    NaN    NaN    NaN   \n",
       "9        NaN       NaN       NaN    NaN       NaN    NaN    NaN    NaN   \n",
       "29       NaN       NaN  0.336111    NaN       NaN    NaN    NaN    NaN   \n",
       "26  0.941667       NaN  0.677778    NaN  0.686111    NaN    NaN    NaN   \n",
       "50       NaN  1.597222       NaN    NaN       NaN    NaN    NaN    NaN   \n",
       "4        NaN       NaN       NaN    NaN       NaN    NaN    NaN    NaN   \n",
       "5        NaN       NaN       NaN    NaN       NaN    NaN    NaN    NaN   \n",
       "13       NaN       NaN       NaN    NaN       NaN    NaN    NaN    NaN   \n",
       "64       NaN  0.152778       NaN    NaN       NaN    NaN    NaN    NaN   \n",
       "\n",
       "       8         9        ...        19990  19991  19992     19993     19994  \\\n",
       "17       NaN       NaN    ...          NaN    NaN    NaN       NaN       NaN   \n",
       "9        NaN       NaN    ...          NaN    NaN    NaN       NaN       NaN   \n",
       "29       NaN  0.388889    ...     1.808333    NaN    NaN  4.041667       NaN   \n",
       "26  2.119444  1.347222    ...     0.755556    NaN  0.875  1.172222  2.552778   \n",
       "50       NaN       NaN    ...          NaN    NaN    NaN       NaN       NaN   \n",
       "4        NaN       NaN    ...          NaN    NaN    NaN       NaN       NaN   \n",
       "5        NaN       NaN    ...          NaN    NaN    NaN       NaN       NaN   \n",
       "13       NaN       NaN    ...          NaN    NaN    NaN       NaN       NaN   \n",
       "64       NaN       NaN    ...          NaN    NaN    NaN  4.172222       NaN   \n",
       "\n",
       "       19995     19996     19997     19998     19999  \n",
       "17       NaN       NaN       NaN       NaN       NaN  \n",
       "9        NaN       NaN       NaN       NaN       NaN  \n",
       "29       NaN       NaN       NaN       NaN       NaN  \n",
       "26  0.469444       NaN  0.894444  0.702778       NaN  \n",
       "50       NaN       NaN       NaN       NaN       NaN  \n",
       "4        NaN       NaN       NaN       NaN  0.530556  \n",
       "5        NaN  1.638889       NaN       NaN       NaN  \n",
       "13       NaN       NaN       NaN       NaN       NaN  \n",
       "64       NaN       NaN       NaN       NaN       NaN  \n",
       "\n",
       "[9 rows x 20000 columns]"
      ]
     },
     "execution_count": 18,
     "metadata": {},
     "output_type": "execute_result"
    }
   ],
   "source": [
    "default_times = get_default_times_sim(c_ids, N, default_times_mat, copula, c_subsets_indexes)\n",
    "default_times"
   ]
  },
  {
   "cell_type": "code",
   "execution_count": 19,
   "metadata": {
    "ExecuteTime": {
     "end_time": "2017-07-14T08:26:33.061000Z",
     "start_time": "2017-07-14T08:26:33.057000Z"
    },
    "collapsed": true
   },
   "outputs": [],
   "source": [
    "from utils import time_offseter"
   ]
  },
  {
   "cell_type": "code",
   "execution_count": 20,
   "metadata": {
    "ExecuteTime": {
     "end_time": "2017-07-14T08:26:33.072000Z",
     "start_time": "2017-07-14T08:26:33.063000Z"
    }
   },
   "outputs": [
    {
     "data": {
      "text/plain": [
       "array([17,  9, 29, 26, 50,  4,  5, 13, 64], dtype=int64)"
      ]
     },
     "execution_count": 20,
     "metadata": {},
     "output_type": "execute_result"
    }
   ],
   "source": [
    "times_cva = np.arange(0, maturity, 0.5)\n",
    "\n",
    "shifted_times_cva = times_cva + 1.\n",
    "shifted_times_cva[-1] = maturity\n",
    "\n",
    "#times_cva = [0.]\n",
    "#shifted_times_cva = [1.]\n",
    "\n",
    "default_times.index.values"
   ]
  },
  {
   "cell_type": "code",
   "execution_count": 21,
   "metadata": {
    "ExecuteTime": {
     "end_time": "2017-07-14T08:26:33.088000Z",
     "start_time": "2017-07-14T08:26:33.075000Z"
    },
    "collapsed": true
   },
   "outputs": [],
   "source": [
    "from functools import partial\n",
    "\n",
    "def fact_(swap_, discount_, kappa_, delta_, t_):\n",
    "    time_grid_ = swap_.underlying.time\n",
    "    t_delta_ = time_offseter(t_ + delta_, time_grid_, True)\n",
    "    \n",
    "    coupon_dates_ = swap_.pillars\n",
    "    l_t_delta_ = np.searchsorted(coupon_dates_, t_delta_, side='left')\n",
    "\n",
    "    beta_T_l_ = map(discount_, coupon_dates_[l_t_delta_ + 1 :])    \n",
    "    h_l_ = swap_.delta_time[l_t_delta_ : ]\n",
    "    \n",
    "    T_l_m1_ = kappa_ * coupon_dates_[l_t_delta_ : -1]\n",
    "    exp_factor_ = map(np.exp, T_l_m1_)\n",
    "    \n",
    "    tmp_ = np.multiply(exp_factor_, h_l_)    \n",
    "    res_ = np.dot(beta_T_l_, tmp_)\n",
    "    \n",
    "    return res_\n",
    "\n",
    "fact = partial(fact_, swap, discount, kappa, delta)"
   ]
  },
  {
   "cell_type": "code",
   "execution_count": 22,
   "metadata": {
    "ExecuteTime": {
     "end_time": "2017-07-14T08:26:33.104000Z",
     "start_time": "2017-07-14T08:26:33.093000Z"
    },
    "collapsed": true
   },
   "outputs": [],
   "source": [
    "from scipy.stats import norm\n",
    "\n",
    "def B_(fact_f_, vol_, delta_, a_, omega_, t_):\n",
    "    if a_ <= 0.5: \n",
    "        a_ = 1. - a_\n",
    "    \n",
    "    perc_ = a_ if omega_ <= 0. else (1. - a_)\n",
    "    q_ = norm.ppf(perc_)\n",
    "    \n",
    "    var_ = vol_**2 * delta_\n",
    "    exp_factor_ = np.exp(-0.5 * var_ + np.sqrt(var_) * q_)\n",
    "    \n",
    "    tmp_res_ = 1. - exp_factor_\n",
    "    \n",
    "    return np.sign(omega_) * tmp_res_ * fact_f_(t_)\n",
    "\n",
    "B = partial(B_, fact, sigma, delta)"
   ]
  },
  {
   "cell_type": "code",
   "execution_count": 23,
   "metadata": {
    "ExecuteTime": {
     "end_time": "2017-07-14T08:26:33.143000Z",
     "start_time": "2017-07-14T08:26:33.106000Z"
    },
    "collapsed": true
   },
   "outputs": [],
   "source": [
    "def compute_disc_margins_(b_f_, kappa_, notional_, positions_, times_cva_, shifted_times_cva_, default_times_, udls_, q_):\n",
    "    margins_ = dict()\n",
    "    \n",
    "    N_ = len(udls_)\n",
    "    \n",
    "    c_ids_ = default_times_.index.values\n",
    "    \n",
    "    print q_\n",
    "    for t0_, t1_ in zip(times_cva_, shifted_times_cva_):\n",
    "        key_ = \"[%.2f, %.2f]\" % (t0_, t1_)\n",
    "        print key_\n",
    "        margins_[key_] = pd.DataFrame(0., index=range(N_), columns=c_ids_)\n",
    "        \n",
    "        for j_ in xrange(N_):\n",
    "            udl_ = udls_[j_]\n",
    "            time_grid_ = udl_.time\n",
    "            tau_j_ = default_times_.loc[c_ids_, j_]\n",
    "            \n",
    "            c_defaulted_ = tau_j_[(tau_j_ > t0_) & (tau_j_ <= t1_)]\n",
    "            for (c_idx_, tau_) in c_defaulted_.iteritems():\n",
    "                tau_ = time_offseter(tau_, time_grid_, True)\n",
    "                                \n",
    "                hat_s_tau_ = udl_(tau_)[0][0] * np.exp(-kappa_ * tau_)\n",
    "                \n",
    "                nom_i = notional_ * np.abs(positions_[c_idx_][0])\n",
    "                margin_ = nom_i * hat_s_tau_ * b_f_(q_, positions_[c_idx_][0], tau_)\n",
    "            \n",
    "                margins_[key_].loc[j_, c_idx_] = margin_\n",
    "\n",
    "    return margins_\n",
    "\n",
    "compute_disc_margins = partial(compute_disc_margins_, B, kappa, notional, positions)"
   ]
  },
  {
   "cell_type": "code",
   "execution_count": 24,
   "metadata": {
    "ExecuteTime": {
     "end_time": "2017-07-14T10:05:59.870000Z",
     "start_time": "2017-07-14T08:26:33.145000Z"
    },
    "scrolled": false
   },
   "outputs": [
    {
     "name": "stdout",
     "output_type": "stream",
     "text": [
      "0.85\n",
      "[0.00, 1.00]\n",
      "[0.50, 1.50]\n",
      "[1.00, 2.00]\n",
      "[1.50, 2.50]\n",
      "[2.00, 3.00]\n",
      "[2.50, 3.50]\n",
      "[3.00, 4.00]\n",
      "[3.50, 4.50]\n",
      "[4.00, 5.00]\n",
      "[4.50, 5.00]\n",
      "0.857736842105\n",
      "[0.00, 1.00]\n",
      "[0.50, 1.50]\n",
      "[1.00, 2.00]\n",
      "[1.50, 2.50]\n",
      "[2.00, 3.00]\n",
      "[2.50, 3.50]\n",
      "[3.00, 4.00]\n",
      "[3.50, 4.50]\n",
      "[4.00, 5.00]\n",
      "[4.50, 5.00]\n",
      "0.865473684211\n",
      "[0.00, 1.00]\n",
      "[0.50, 1.50]\n",
      "[1.00, 2.00]\n",
      "[1.50, 2.50]\n",
      "[2.00, 3.00]\n",
      "[2.50, 3.50]\n",
      "[3.00, 4.00]\n",
      "[3.50, 4.50]\n",
      "[4.00, 5.00]\n",
      "[4.50, 5.00]\n",
      "0.873210526316\n",
      "[0.00, 1.00]\n",
      "[0.50, 1.50]\n",
      "[1.00, 2.00]\n",
      "[1.50, 2.50]\n",
      "[2.00, 3.00]\n",
      "[2.50, 3.50]\n",
      "[3.00, 4.00]\n",
      "[3.50, 4.50]\n",
      "[4.00, 5.00]\n",
      "[4.50, 5.00]\n",
      "0.880947368421\n",
      "[0.00, 1.00]\n",
      "[0.50, 1.50]\n",
      "[1.00, 2.00]\n",
      "[1.50, 2.50]\n",
      "[2.00, 3.00]\n",
      "[2.50, 3.50]\n",
      "[3.00, 4.00]\n",
      "[3.50, 4.50]\n",
      "[4.00, 5.00]\n",
      "[4.50, 5.00]\n",
      "0.888684210526\n",
      "[0.00, 1.00]\n",
      "[0.50, 1.50]\n",
      "[1.00, 2.00]\n",
      "[1.50, 2.50]\n",
      "[2.00, 3.00]\n",
      "[2.50, 3.50]\n",
      "[3.00, 4.00]\n",
      "[3.50, 4.50]\n",
      "[4.00, 5.00]\n",
      "[4.50, 5.00]\n",
      "0.896421052632\n",
      "[0.00, 1.00]\n",
      "[0.50, 1.50]\n",
      "[1.00, 2.00]\n",
      "[1.50, 2.50]\n",
      "[2.00, 3.00]\n",
      "[2.50, 3.50]\n",
      "[3.00, 4.00]\n",
      "[3.50, 4.50]\n",
      "[4.00, 5.00]\n",
      "[4.50, 5.00]\n",
      "0.904157894737\n",
      "[0.00, 1.00]\n",
      "[0.50, 1.50]\n",
      "[1.00, 2.00]\n",
      "[1.50, 2.50]\n",
      "[2.00, 3.00]\n",
      "[2.50, 3.50]\n",
      "[3.00, 4.00]\n",
      "[3.50, 4.50]\n",
      "[4.00, 5.00]\n",
      "[4.50, 5.00]\n",
      "0.911894736842\n",
      "[0.00, 1.00]\n",
      "[0.50, 1.50]\n",
      "[1.00, 2.00]\n",
      "[1.50, 2.50]\n",
      "[2.00, 3.00]\n",
      "[2.50, 3.50]\n",
      "[3.00, 4.00]\n",
      "[3.50, 4.50]\n",
      "[4.00, 5.00]\n",
      "[4.50, 5.00]\n",
      "0.919631578947\n",
      "[0.00, 1.00]\n",
      "[0.50, 1.50]\n",
      "[1.00, 2.00]\n",
      "[1.50, 2.50]\n",
      "[2.00, 3.00]\n",
      "[2.50, 3.50]\n",
      "[3.00, 4.00]\n",
      "[3.50, 4.50]\n",
      "[4.00, 5.00]\n",
      "[4.50, 5.00]\n",
      "0.927368421053\n",
      "[0.00, 1.00]\n",
      "[0.50, 1.50]\n",
      "[1.00, 2.00]\n",
      "[1.50, 2.50]\n",
      "[2.00, 3.00]\n",
      "[2.50, 3.50]\n",
      "[3.00, 4.00]\n",
      "[3.50, 4.50]\n",
      "[4.00, 5.00]\n",
      "[4.50, 5.00]\n",
      "0.935105263158\n",
      "[0.00, 1.00]\n",
      "[0.50, 1.50]\n",
      "[1.00, 2.00]\n",
      "[1.50, 2.50]\n",
      "[2.00, 3.00]\n",
      "[2.50, 3.50]\n",
      "[3.00, 4.00]\n",
      "[3.50, 4.50]\n",
      "[4.00, 5.00]\n",
      "[4.50, 5.00]\n",
      "0.942842105263\n",
      "[0.00, 1.00]\n",
      "[0.50, 1.50]\n",
      "[1.00, 2.00]\n",
      "[1.50, 2.50]\n",
      "[2.00, 3.00]\n",
      "[2.50, 3.50]\n",
      "[3.00, 4.00]\n",
      "[3.50, 4.50]\n",
      "[4.00, 5.00]\n",
      "[4.50, 5.00]\n",
      "0.950578947368\n",
      "[0.00, 1.00]\n",
      "[0.50, 1.50]\n",
      "[1.00, 2.00]\n",
      "[1.50, 2.50]\n",
      "[2.00, 3.00]\n",
      "[2.50, 3.50]\n",
      "[3.00, 4.00]\n",
      "[3.50, 4.50]\n",
      "[4.00, 5.00]\n",
      "[4.50, 5.00]\n",
      "0.958315789474\n",
      "[0.00, 1.00]\n",
      "[0.50, 1.50]\n",
      "[1.00, 2.00]\n",
      "[1.50, 2.50]\n",
      "[2.00, 3.00]\n",
      "[2.50, 3.50]\n",
      "[3.00, 4.00]\n",
      "[3.50, 4.50]\n",
      "[4.00, 5.00]\n",
      "[4.50, 5.00]\n",
      "0.966052631579\n",
      "[0.00, 1.00]\n",
      "[0.50, 1.50]\n",
      "[1.00, 2.00]\n",
      "[1.50, 2.50]\n",
      "[2.00, 3.00]\n",
      "[2.50, 3.50]\n",
      "[3.00, 4.00]\n",
      "[3.50, 4.50]\n",
      "[4.00, 5.00]\n",
      "[4.50, 5.00]\n",
      "0.973789473684\n",
      "[0.00, 1.00]\n",
      "[0.50, 1.50]\n",
      "[1.00, 2.00]\n",
      "[1.50, 2.50]\n",
      "[2.00, 3.00]\n",
      "[2.50, 3.50]\n",
      "[3.00, 4.00]\n",
      "[3.50, 4.50]\n",
      "[4.00, 5.00]\n",
      "[4.50, 5.00]\n",
      "0.981526315789\n",
      "[0.00, 1.00]\n",
      "[0.50, 1.50]\n",
      "[1.00, 2.00]\n",
      "[1.50, 2.50]\n",
      "[2.00, 3.00]\n",
      "[2.50, 3.50]\n",
      "[3.00, 4.00]\n",
      "[3.50, 4.50]\n",
      "[4.00, 5.00]\n",
      "[4.50, 5.00]\n",
      "0.989263157895\n",
      "[0.00, 1.00]\n",
      "[0.50, 1.50]\n",
      "[1.00, 2.00]\n",
      "[1.50, 2.50]\n",
      "[2.00, 3.00]\n",
      "[2.50, 3.50]\n",
      "[3.00, 4.00]\n",
      "[3.50, 4.50]\n",
      "[4.00, 5.00]\n",
      "[4.50, 5.00]\n",
      "0.997\n",
      "[0.00, 1.00]\n",
      "[0.50, 1.50]\n",
      "[1.00, 2.00]\n",
      "[1.50, 2.50]\n",
      "[2.00, 3.00]\n",
      "[2.50, 3.50]\n",
      "[3.00, 4.00]\n",
      "[3.50, 4.50]\n",
      "[4.00, 5.00]\n",
      "[4.50, 5.00]\n"
     ]
    }
   ],
   "source": [
    "im_path = './res/sim%i/im/' % (NB_SIM)\n",
    "\n",
    "for q in QUANTILES:\n",
    "    im_q_path = os.path.join(im_path, str(q))\n",
    "    if not os.path.isdir(im_q_path):\n",
    "        os.makedirs(im_q_path)\n",
    "        \n",
    "    q_margins = compute_disc_margins(times_cva, shifted_times_cva, default_times, udlyings, q)\n",
    "    for k, dataframe_ in q_margins.iteritems():\n",
    "        path = os.path.join(im_q_path, 'im%s.csv' % k)\n",
    "        dataframe_.to_csv(path)"
   ]
  }
 ],
 "metadata": {
  "anaconda-cloud": {},
  "kernelspec": {
   "display_name": "Python [default]",
   "language": "python",
   "name": "python2"
  },
  "language_info": {
   "codemirror_mode": {
    "name": "ipython",
    "version": 2
   },
   "file_extension": ".py",
   "mimetype": "text/x-python",
   "name": "python",
   "nbconvert_exporter": "python",
   "pygments_lexer": "ipython2",
   "version": "2.7.12"
  }
 },
 "nbformat": 4,
 "nbformat_minor": 1
}
