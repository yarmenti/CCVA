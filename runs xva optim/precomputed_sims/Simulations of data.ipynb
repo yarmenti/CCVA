{
 "cells": [
  {
   "cell_type": "code",
   "execution_count": null,
   "metadata": {
    "collapsed": true
   },
   "outputs": [],
   "source": [
    "import sys\n",
    "\n",
    "sys.path.append('../..')"
   ]
  },
  {
   "cell_type": "markdown",
   "metadata": {},
   "source": [
    "# Step of the underlying"
   ]
  },
  {
   "cell_type": "code",
   "execution_count": null,
   "metadata": {
    "collapsed": true
   },
   "outputs": [],
   "source": [
    "step = 1 / 360."
   ]
  },
  {
   "cell_type": "markdown",
   "metadata": {},
   "source": [
    "# Max maturity of underlying"
   ]
  },
  {
   "cell_type": "code",
   "execution_count": null,
   "metadata": {
    "collapsed": true
   },
   "outputs": [],
   "source": [
    "maturity = 5."
   ]
  },
  {
   "cell_type": "markdown",
   "metadata": {},
   "source": [
    "# Data"
   ]
  },
  {
   "cell_type": "code",
   "execution_count": null,
   "metadata": {
    "collapsed": true
   },
   "outputs": [],
   "source": [
    "N = 20000"
   ]
  },
  {
   "cell_type": "markdown",
   "metadata": {},
   "source": [
    "## Underlyings"
   ]
  },
  {
   "cell_type": "code",
   "execution_count": null,
   "metadata": {
    "collapsed": false
   },
   "outputs": [],
   "source": [
    "from maths.montecarlo.processes.brownianmotions import GeometricBrownianMotion\n",
    "\n",
    "time_grid = GeometricBrownianMotion.generate_time_grid(0, maturity, step)\n",
    "\n",
    "x_0 = [100]\n",
    "drift = 0.12\n",
    "vol = 0.2\n",
    "\n",
    "underlyings = [GeometricBrownianMotion(time_grid, x_0, drift, vol) for _ in range(N)]"
   ]
  },
  {
   "cell_type": "markdown",
   "metadata": {},
   "source": [
    "## Randomization variables"
   ]
  },
  {
   "cell_type": "code",
   "execution_count": null,
   "metadata": {
    "collapsed": false
   },
   "outputs": [],
   "source": [
    "from scipy.stats import expon\n",
    " \n",
    "mean = maturity / 2.\n",
    "exp_distrib = expon(loc=0, scale=mean)\n",
    "\n",
    "print \"Mean = %s\"%mean"
   ]
  },
  {
   "cell_type": "code",
   "execution_count": null,
   "metadata": {
    "collapsed": true
   },
   "outputs": [],
   "source": [
    "from utils import v_time_offseter"
   ]
  },
  {
   "cell_type": "code",
   "execution_count": null,
   "metadata": {
    "collapsed": false
   },
   "outputs": [],
   "source": [
    "zetas = exp_distrib.rvs(size=N)\n",
    "\n",
    "zetas = v_time_offseter(zetas, time_grid)\n",
    "\n",
    "print zetas.shape"
   ]
  },
  {
   "cell_type": "markdown",
   "metadata": {},
   "source": [
    "## Load intensities of obligors"
   ]
  },
  {
   "cell_type": "code",
   "execution_count": null,
   "metadata": {
    "collapsed": false
   },
   "outputs": [],
   "source": [
    "import dill\n",
    "\n",
    "raw_intensities = None\n",
    "with open('../../runs/intensities/intensities_no_I5_new.pkl', 'rb') as f:\n",
    "    raw_intensities = dill.load(f)\n",
    "    \n",
    "raw_intensities.keys()"
   ]
  },
  {
   "cell_type": "code",
   "execution_count": null,
   "metadata": {
    "collapsed": false
   },
   "outputs": [],
   "source": [
    "import numpy as np\n",
    "\n",
    "raw_idios = np.array(raw_intensities['idio'])\n",
    "raw_groups = np.array(raw_intensities['groups'])"
   ]
  },
  {
   "cell_type": "code",
   "execution_count": null,
   "metadata": {
    "collapsed": false
   },
   "outputs": [],
   "source": [
    "import numpy\n",
    "\n",
    "subsets = []\n",
    "hazard_rates = []\n",
    "pillars = []\n",
    "\n",
    "for d_idio in raw_idios:\n",
    "    subsets.append(d_idio['id'])\n",
    "    hazard_rates.append(numpy.maximum(d_idio['hazard_rates'], 0.))\n",
    "    pillars.append(d_idio['pillars'])\n",
    "    \n",
    "for d_groups in raw_groups:    \n",
    "    subsets.append(d_groups['ids'])\n",
    "    hazard_rates.append(numpy.maximum(d_groups['hazard_rates'], 0.))\n",
    "    pillars.append(d_groups['pillars'])"
   ]
  },
  {
   "cell_type": "code",
   "execution_count": null,
   "metadata": {
    "collapsed": false
   },
   "outputs": [],
   "source": [
    "for s, hz, p in zip(subsets, hazard_rates, pillars):\n",
    "    if len(list(s)) > 1:\n",
    "        print    \n",
    "        \n",
    "    print s, hz, p    "
   ]
  },
  {
   "cell_type": "markdown",
   "metadata": {},
   "source": [
    "## Copula"
   ]
  },
  {
   "cell_type": "code",
   "execution_count": null,
   "metadata": {
    "collapsed": true
   },
   "outputs": [],
   "source": [
    "from maths.copula.marshallolkin import StepWiseIntensitiesMarshallOlkinCopula\n",
    "\n",
    "copula = StepWiseIntensitiesMarshallOlkinCopula(subsets, hazard_rates, pillars)"
   ]
  },
  {
   "cell_type": "code",
   "execution_count": null,
   "metadata": {
    "collapsed": false
   },
   "outputs": [],
   "source": [
    "# The last group contains all\n",
    "# the obligors ids (as a senior CDO tranch)\n",
    "\n",
    "bc_ids = list(raw_groups[-1]['ids'])\n",
    "print bc_ids"
   ]
  },
  {
   "cell_type": "code",
   "execution_count": null,
   "metadata": {
    "collapsed": false
   },
   "outputs": [],
   "source": [
    "bc_subsets_indexes = []\n",
    "for id_ in bc_ids:\n",
    "    bc_subsets_indexes += copula.get_indexes_including(id_)\n",
    "    \n",
    "bc_subsets_indexes = list(set(bc_subsets_indexes))\n",
    "bc_subsets_indexes.sort()\n",
    "\n",
    "print bc_subsets_indexes"
   ]
  },
  {
   "cell_type": "markdown",
   "metadata": {},
   "source": [
    "## Default times"
   ]
  },
  {
   "cell_type": "code",
   "execution_count": null,
   "metadata": {
    "collapsed": false
   },
   "outputs": [],
   "source": [
    "default_times_mat = copula.generate_default_times(subsets_indexes=bc_subsets_indexes, number=N)"
   ]
  },
  {
   "cell_type": "code",
   "execution_count": null,
   "metadata": {
    "collapsed": false
   },
   "outputs": [],
   "source": [
    "default_times_mat_shifted = v_time_offseter(default_times_mat, time_grid)"
   ]
  },
  {
   "cell_type": "code",
   "execution_count": null,
   "metadata": {
    "collapsed": false
   },
   "outputs": [],
   "source": [
    "index = time_grid.searchsorted(default_times_mat_shifted[:, 0].min())\n",
    "\n",
    "print time_grid[index-1], time_grid[index-1] + step, time_grid[index]\n",
    "print default_times_mat[:, 0].min()\n",
    "print default_times_mat_shifted[:, 0].min()"
   ]
  },
  {
   "cell_type": "markdown",
   "metadata": {},
   "source": [
    "# Saving"
   ]
  },
  {
   "cell_type": "code",
   "execution_count": null,
   "metadata": {
    "collapsed": false
   },
   "outputs": [],
   "source": [
    "to_save = {}\n",
    "\n",
    "to_save[\"N\"] = N\n",
    "to_save[\"randomization\"] = {\n",
    "    \"distrib\": {\"loc\": 0., \"scale\": mean},\n",
    "    \"zetas\": zetas,\n",
    "    \"maturity\": maturity,\n",
    "}\n",
    "to_save[\"credit\"] = {\n",
    "    \"copula\": copula,\n",
    "    \"bc_subsets_indexes\": bc_subsets_indexes,\n",
    "    \"bc_ids\": bc_ids,\n",
    "    \"default_times\": default_times_mat_shifted,\n",
    "}\n",
    "to_save[\"underlyings\"] = underlyings"
   ]
  },
  {
   "cell_type": "code",
   "execution_count": null,
   "metadata": {
    "collapsed": false
   },
   "outputs": [],
   "source": [
    "import dill\n",
    "import itertools\n",
    "import os\n",
    "\n",
    "for i in itertools.count():\n",
    "    path, ext = 'data', '.pkl'\n",
    "    insert = str(i)\n",
    "    if not i:\n",
    "        insert = ''\n",
    "        \n",
    "    path = \"%s%s%s\" % (path, insert, ext)\n",
    "        \n",
    "    if not os.path.isfile(path):\n",
    "        with open(path, 'wb') as f:\n",
    "            dill.dump(to_save, f)\n",
    "        break"
   ]
  }
 ],
 "metadata": {
  "anaconda-cloud": {},
  "kernelspec": {
   "display_name": "Python [default]",
   "language": "python",
   "name": "python2"
  },
  "language_info": {
   "codemirror_mode": {
    "name": "ipython",
    "version": 2
   },
   "file_extension": ".py",
   "mimetype": "text/x-python",
   "name": "python",
   "nbconvert_exporter": "python",
   "pygments_lexer": "ipython2",
   "version": "2.7.12"
  }
 },
 "nbformat": 4,
 "nbformat_minor": 0
}
