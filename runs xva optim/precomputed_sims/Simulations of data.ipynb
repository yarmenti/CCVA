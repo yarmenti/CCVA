{
 "cells": [
  {
   "cell_type": "code",
   "execution_count": 1,
   "metadata": {
    "ExecuteTime": {
     "end_time": "2017-07-04T18:11:27.740000",
     "start_time": "2017-07-04T18:11:27.735000"
    },
    "collapsed": true
   },
   "outputs": [],
   "source": [
    "import sys\n",
    "\n",
    "sys.path.append('../..')"
   ]
  },
  {
   "cell_type": "markdown",
   "metadata": {},
   "source": [
    "# Step of the underlying"
   ]
  },
  {
   "cell_type": "code",
   "execution_count": 2,
   "metadata": {
    "ExecuteTime": {
     "end_time": "2017-07-04T18:11:27.753000",
     "start_time": "2017-07-04T18:11:27.742000"
    },
    "collapsed": true
   },
   "outputs": [],
   "source": [
    "step = 1 / 360."
   ]
  },
  {
   "cell_type": "markdown",
   "metadata": {},
   "source": [
    "# Max maturity of underlying"
   ]
  },
  {
   "cell_type": "code",
   "execution_count": 3,
   "metadata": {
    "ExecuteTime": {
     "end_time": "2017-07-04T18:11:27.765000",
     "start_time": "2017-07-04T18:11:27.755000"
    },
    "collapsed": true
   },
   "outputs": [],
   "source": [
    "maturity = 5."
   ]
  },
  {
   "cell_type": "markdown",
   "metadata": {},
   "source": [
    "# Data"
   ]
  },
  {
   "cell_type": "code",
   "execution_count": 4,
   "metadata": {
    "ExecuteTime": {
     "end_time": "2017-07-04T18:11:27.778000",
     "start_time": "2017-07-04T18:11:27.768000"
    },
    "collapsed": true
   },
   "outputs": [],
   "source": [
    "N = 20000"
   ]
  },
  {
   "cell_type": "markdown",
   "metadata": {},
   "source": [
    "## Underlyings"
   ]
  },
  {
   "cell_type": "code",
   "execution_count": 5,
   "metadata": {
    "ExecuteTime": {
     "end_time": "2017-07-04T18:11:45.935000",
     "start_time": "2017-07-04T18:11:27.780000"
    },
    "collapsed": false
   },
   "outputs": [],
   "source": [
    "from maths.montecarlo.processes.brownianmotions import GeometricBrownianMotion\n",
    "\n",
    "time_grid = GeometricBrownianMotion.generate_time_grid(0, maturity, step)\n",
    "\n",
    "x_0 = [100]\n",
    "drift = 0.12\n",
    "vol = 0.2\n",
    "\n",
    "underlyings = [GeometricBrownianMotion(time_grid, x_0, drift, vol) for _ in range(N)]"
   ]
  },
  {
   "cell_type": "code",
   "execution_count": 6,
   "metadata": {
    "ExecuteTime": {
     "end_time": "2017-07-04T18:11:45.942000",
     "start_time": "2017-07-04T18:11:45.938000"
    },
    "collapsed": true
   },
   "outputs": [],
   "source": [
    "from utils import v_time_offseter"
   ]
  },
  {
   "cell_type": "markdown",
   "metadata": {},
   "source": [
    "## Load intensities of obligors"
   ]
  },
  {
   "cell_type": "code",
   "execution_count": 7,
   "metadata": {
    "ExecuteTime": {
     "end_time": "2017-07-04T18:11:45.975000",
     "start_time": "2017-07-04T18:11:45.945000"
    },
    "collapsed": false
   },
   "outputs": [
    {
     "data": {
      "text/plain": [
       "['groups', 'idio']"
      ]
     },
     "execution_count": 7,
     "metadata": {},
     "output_type": "execute_result"
    }
   ],
   "source": [
    "import dill\n",
    "\n",
    "raw_intensities = None\n",
    "with open('../../runs/intensities/intensities_no_I5_new.pkl', 'rb') as f:\n",
    "    raw_intensities = dill.load(f)\n",
    "    \n",
    "raw_intensities.keys()"
   ]
  },
  {
   "cell_type": "code",
   "execution_count": 8,
   "metadata": {
    "ExecuteTime": {
     "end_time": "2017-07-04T18:11:45.981000",
     "start_time": "2017-07-04T18:11:45.977000"
    },
    "collapsed": false
   },
   "outputs": [],
   "source": [
    "import numpy as np\n",
    "\n",
    "raw_idios = np.array(raw_intensities['idio'])\n",
    "raw_groups = np.array(raw_intensities['groups'])"
   ]
  },
  {
   "cell_type": "code",
   "execution_count": 9,
   "metadata": {
    "ExecuteTime": {
     "end_time": "2017-07-04T18:11:45.992000",
     "start_time": "2017-07-04T18:11:45.983000"
    },
    "collapsed": false
   },
   "outputs": [],
   "source": [
    "import numpy\n",
    "\n",
    "subsets = []\n",
    "hazard_rates = []\n",
    "pillars = []\n",
    "\n",
    "for d_idio in raw_idios:\n",
    "    subsets.append(d_idio['id'])\n",
    "    hazard_rates.append(numpy.maximum(d_idio['hazard_rates'], 0.))\n",
    "    pillars.append(d_idio['pillars'])\n",
    "    \n",
    "for d_groups in raw_groups:    \n",
    "    subsets.append(d_groups['ids'])\n",
    "    hazard_rates.append(numpy.maximum(d_groups['hazard_rates'], 0.))\n",
    "    pillars.append(d_groups['pillars'])"
   ]
  },
  {
   "cell_type": "code",
   "execution_count": 10,
   "metadata": {
    "ExecuteTime": {
     "end_time": "2017-07-04T18:11:46.035000",
     "start_time": "2017-07-04T18:11:45.994000"
    },
    "collapsed": false
   },
   "outputs": [
    {
     "name": "stdout",
     "output_type": "stream",
     "text": [
      "frozenset([0]) [ 0.00338537  0.00480818] [3, 5]\n",
      "frozenset([1]) [ 0.  0.] [3, 5]\n",
      "frozenset([2]) [ 0.  0.] [3, 5]\n",
      "frozenset([3]) [ 0.00356473  0.004973  ] [3, 5]\n",
      "frozenset([4]) [ 0.00858089  0.        ] [3, 5]\n",
      "frozenset([5]) [ 0.00714886  0.00216609] [3, 5]\n",
      "frozenset([6]) [ 0.  0.] [3, 5]\n",
      "frozenset([7]) [ 0.  0.] [3, 5]\n",
      "frozenset([8]) [ 0.  0.] [3, 5]\n",
      "frozenset([9]) [ 0.00535751  0.00313574] [3, 5]\n",
      "frozenset([10]) [ 0.  0.] [3, 5]\n",
      "frozenset([11]) [ 0.  0.] [3, 5]\n",
      "frozenset([12]) [ 0.  0.] [3, 5]\n",
      "frozenset([13]) [ 0.0067907   0.01187502] [3, 5]\n",
      "frozenset([14]) [ 0.  0.] [3, 5]\n",
      "frozenset([15]) [ 0.  0.] [3, 5]\n",
      "frozenset([16]) [ 0.  0.] [3, 5]\n",
      "frozenset([17]) [ 0.0195274   0.02429113] [3, 5]\n",
      "frozenset([18]) [ 0.  0.] [3, 5]\n",
      "frozenset([19]) [ 0.  0.] [3, 5]\n",
      "frozenset([20]) [ 0.  0.] [3, 5]\n",
      "frozenset([21]) [ 0.  0.] [3, 5]\n",
      "frozenset([22]) [ 0.  0.] [3, 5]\n",
      "frozenset([23]) [ 0.  0.] [3, 5]\n",
      "frozenset([24]) [ 0.00607422  0.00902606] [3, 5]\n",
      "frozenset([25]) [ 0.00374407  0.00557358] [3, 5]\n",
      "frozenset([26]) [ 0.13875825  0.01154767] [3, 5]\n",
      "frozenset([27]) [ 0.00607422  0.00902606] [3, 5]\n",
      "frozenset([28]) [ 0.0039234   0.00443144] [3, 5]\n",
      "frozenset([29]) [ 0.06140538  0.01950418] [3, 5]\n",
      "frozenset([30]) [ 0.00535751  0.00531215] [3, 5]\n",
      "frozenset([31]) [ 0.03104163  0.00938018] [3, 5]\n",
      "frozenset([32]) [ 0.  0.] [3, 5]\n",
      "frozenset([33]) [ 0.00535751  0.00618397] [3, 5]\n",
      "frozenset([34]) [ 0.  0.] [3, 5]\n",
      "frozenset([35]) [ 0.  0.] [3, 5]\n",
      "frozenset([36]) [ 0.0044613   0.00841577] [3, 5]\n",
      "frozenset([37]) [ 0.00428202  0.00694056] [3, 5]\n",
      "frozenset([38]) [ 0.00375406  0.008368  ] [3, 5]\n",
      "frozenset([39]) [ 0.  0.] [3, 5]\n",
      "frozenset([40]) [ 0.  0.] [3, 5]\n",
      "frozenset([41]) [ 0.  0.] [3, 5]\n",
      "frozenset([42]) [ 0.  0.] [3, 5]\n",
      "frozenset([43]) [ 0.00428202  0.00694056] [3, 5]\n",
      "frozenset([44]) [ 0.  0.] [3, 5]\n",
      "frozenset([45]) [ 0.00589507  0.01543982] [3, 5]\n",
      "frozenset([46]) [ 0.  0.] [3, 5]\n",
      "frozenset([47]) [ 0.00481983  0.00874595] [3, 5]\n",
      "frozenset([48]) [ 0.  0.] [3, 5]\n",
      "frozenset([49]) [ 0.  0.] [3, 5]\n",
      "frozenset([50]) [ 0.00832425  0.0047459 ] [3, 5]\n",
      "frozenset([51]) [ 0.  0.] [3, 5]\n",
      "frozenset([52]) [ 0.00696979  0.00941231] [3, 5]\n",
      "frozenset([53]) [ 0.  0.] [3, 5]\n",
      "frozenset([54]) [ 0.  0.] [3, 5]\n",
      "frozenset([55]) [ 0.00760847  0.00540393] [3, 5]\n",
      "frozenset([56]) [ 0.00714886  0.01396086] [3, 5]\n",
      "frozenset([57]) [ 0.00768598  0.00483175] [3, 5]\n",
      "frozenset([58]) [ 0.  0.] [3, 5]\n",
      "frozenset([59]) [ 0.  0.] [3, 5]\n",
      "frozenset([60]) [ 0.  0.] [3, 5]\n",
      "frozenset([61]) [ 0.010012    0.01133162] [3, 5]\n",
      "frozenset([62]) [ 0.  0.] [3, 5]\n",
      "frozenset([63]) [ 0.  0.] [3, 5]\n",
      "frozenset([64]) [ 0.00795383  0.01045393] [3, 5]\n",
      "frozenset([65]) [ 0.  0.] [3, 5]\n",
      "frozenset([66]) [ 0.0093975   0.01234684] [3, 5]\n",
      "frozenset([67]) [ 0.  0.] [3, 5]\n",
      "frozenset([68]) [ 0.  0.] [3, 5]\n",
      "frozenset([69]) [ 0.  0.] [3, 5]\n",
      "frozenset([70]) [ 0.01062997  0.01693846] [3, 5]\n",
      "frozenset([71]) [ 0.0195274   0.03196098] [3, 5]\n",
      "frozenset([72]) [ 0.0044613   0.00623286] [3, 5]\n",
      "frozenset([73]) [ 0.00464057  0.0046543 ] [3, 5]\n",
      "frozenset([74]) [ 0.  0.] [3, 5]\n",
      "frozenset([75]) [ 0.04367756  0.03597341] [3, 5]\n",
      "frozenset([76]) [ 0.01241229  0.02127832] [3, 5]\n",
      "frozenset([77]) [ 0.  0.] [3, 5]\n",
      "frozenset([78]) [ 0.0145492   0.02776644] [3, 5]\n",
      "frozenset([79]) [ 0.  0.] [3, 5]\n",
      "frozenset([80]) [ 0.0051783   0.00776497] [3, 5]\n",
      "frozenset([81]) [ 0.00813234  0.01017554] [3, 5]\n",
      "frozenset([82]) [ 0.0051783   0.00863884] [3, 5]\n",
      "frozenset([83]) [ 0.03668867  0.0025213 ] [3, 5]\n",
      "frozenset([84]) [ 0.  0.] [3, 5]\n",
      "frozenset([85]) [ 0.  0.] [3, 5]\n",
      "frozenset([86]) [ 0.00499907  0.00193846] [3, 5]\n",
      "frozenset([87]) [ 0.00410272  0.00808551] [3, 5]\n",
      "frozenset([88]) [ 0.  0.] [3, 5]\n",
      "frozenset([89]) [ 0.0067907   0.01012272] [3, 5]\n",
      "frozenset([90]) [ 0.00535751  0.01055398] [3, 5]\n",
      "frozenset([91]) [ 0.  0.] [3, 5]\n",
      "frozenset([92]) [ 0.  0.] [3, 5]\n",
      "frozenset([93]) [ 0.  0.] [3, 5]\n",
      "frozenset([94]) [ 0.  0.] [3, 5]\n",
      "frozenset([95]) [ 0.  0.] [3, 5]\n",
      "frozenset([96]) [ 0.  0.] [3, 5]\n",
      "frozenset([97]) [ 0.  0.] [3, 5]\n",
      "frozenset([98]) [ 0.00567085  0.0087106 ] [3, 5]\n",
      "frozenset([99]) [ 0.06058159  0.0002422 ] [3, 5]\n",
      "frozenset([100]) [ 0.00929656  0.0049975 ] [3, 5]\n",
      "frozenset([101]) [ 0.  0.] [3, 5]\n",
      "frozenset([102]) [ 0.  0.] [3, 5]\n",
      "frozenset([103]) [ 0.01671757  0.00497753] [3, 5]\n",
      "frozenset([104]) [ 0.007412    0.00128304] [3, 5]\n",
      "frozenset([105]) [ 0.  0.] [3, 5]\n",
      "frozenset([106]) [ 0.  0.] [3, 5]\n",
      "frozenset([107]) [ 0.01529115  0.00718915] [3, 5]\n",
      "frozenset([108]) [ 0.  0.] [3, 5]\n",
      "frozenset([109]) [ 0.  0.] [3, 5]\n",
      "frozenset([110]) [ 0.  0.] [3, 5]\n",
      "frozenset([111]) [ 0.03792209  0.00935853] [3, 5]\n",
      "frozenset([112]) [ 0.00643249  0.00891832] [3, 5]\n",
      "frozenset([113]) [ 0.00374407  0.00339649] [3, 5]\n",
      "frozenset([114]) [ 0.00625337  0.00919085] [3, 5]\n",
      "frozenset([115]) [ 0.  0.] [3, 5]\n",
      "frozenset([116]) [ 0.00714886  0.0078285 ] [3, 5]\n",
      "frozenset([117]) [ 0.  0.] [3, 5]\n",
      "frozenset([118]) [ 0.00643249  0.00324989] [3, 5]\n",
      "frozenset([119]) [ 0.0057159   0.01000863] [3, 5]\n",
      "frozenset([120]) [ 0.06297402  0.01730736] [3, 5]\n",
      "frozenset([121]) [ 0.  0.] [3, 5]\n",
      "frozenset([122]) [ 0.00760847  0.00540393] [3, 5]\n",
      "frozenset([123]) [ 0.  0.] [3, 5]\n",
      "frozenset([124]) [ 0.01116482  0.00236302] [3, 5]\n",
      "\n",
      "frozenset([98, 99, 38, 104, 75, 26]) [ 0.058     0.015925] [3, 5]\n",
      "\n",
      "frozenset([64, 98, 99, 38, 70, 71, 104, 75, 76, 78, 111, 17, 83, 120, 26, 31, 124, 29, 81]) [ 0.0053745  0.0050889] [3, 5]\n",
      "\n",
      "frozenset([17, 26, 29, 31, 38, 50, 55, 64, 66, 70, 71, 75, 76, 78, 81, 83, 98, 99, 103, 104, 107, 111, 120, 122, 124]) [ 0.0006145  0.0086692] [3, 5]\n",
      "\n",
      "frozenset([0, 3, 4, 5, 9, 13, 17, 24, 25, 26, 27, 28, 29, 30, 31, 33, 36, 37, 38, 43, 45, 47, 50, 52, 55, 56, 57, 61, 64, 66, 70, 71, 72, 73, 75, 76, 78, 80, 81, 82, 83, 86, 87, 89, 90, 98, 99, 100, 103, 104, 107, 111, 112, 113, 114, 116, 118, 119, 120, 122, 124]) [  2.01650000e-04   9.33720000e-05] [3, 5]\n",
      "\n",
      "frozenset([0, 1, 2, 3, 4, 5, 6, 7, 8, 9, 10, 11, 12, 13, 14, 15, 16, 17, 18, 19, 20, 21, 22, 23, 24, 25, 26, 27, 28, 29, 30, 31, 32, 33, 34, 35, 36, 37, 38, 39, 40, 41, 42, 43, 44, 45, 46, 47, 48, 49, 50, 51, 52, 53, 54, 55, 56, 57, 58, 59, 60, 61, 62, 63, 64, 65, 66, 67, 68, 69, 70, 71, 72, 73, 74, 75, 76, 77, 78, 79, 80, 81, 82, 83, 84, 85, 86, 87, 88, 89, 90, 91, 92, 93, 94, 95, 96, 97, 98, 99, 100, 101, 102, 103, 104, 105, 106, 107, 108, 109, 110, 111, 112, 113, 114, 115, 116, 117, 118, 119, 120, 121, 122, 123, 124]) [ 0.0016207  0.0076647] [3, 5]\n"
     ]
    }
   ],
   "source": [
    "for s, hz, p in zip(subsets, hazard_rates, pillars):\n",
    "    if len(list(s)) > 1:\n",
    "        print    \n",
    "        \n",
    "    print s, hz, p    "
   ]
  },
  {
   "cell_type": "markdown",
   "metadata": {},
   "source": [
    "## Copula"
   ]
  },
  {
   "cell_type": "code",
   "execution_count": 11,
   "metadata": {
    "ExecuteTime": {
     "end_time": "2017-07-04T18:11:46.266000",
     "start_time": "2017-07-04T18:11:46.037000"
    },
    "collapsed": true
   },
   "outputs": [],
   "source": [
    "from maths.copula.marshallolkin import StepWiseIntensitiesMarshallOlkinCopula\n",
    "\n",
    "copula = StepWiseIntensitiesMarshallOlkinCopula(subsets, hazard_rates, pillars)"
   ]
  },
  {
   "cell_type": "code",
   "execution_count": 12,
   "metadata": {
    "ExecuteTime": {
     "end_time": "2017-07-04T18:11:46.272000",
     "start_time": "2017-07-04T18:11:46.268000"
    },
    "collapsed": false
   },
   "outputs": [
    {
     "name": "stdout",
     "output_type": "stream",
     "text": [
      "[0, 1, 2, 3, 4, 5, 6, 7, 8, 9, 10, 11, 12, 13, 14, 15, 16, 17, 18, 19, 20, 21, 22, 23, 24, 25, 26, 27, 28, 29, 30, 31, 32, 33, 34, 35, 36, 37, 38, 39, 40, 41, 42, 43, 44, 45, 46, 47, 48, 49, 50, 51, 52, 53, 54, 55, 56, 57, 58, 59, 60, 61, 62, 63, 64, 65, 66, 67, 68, 69, 70, 71, 72, 73, 74, 75, 76, 77, 78, 79, 80, 81, 82, 83, 84, 85, 86, 87, 88, 89, 90, 91, 92, 93, 94, 95, 96, 97, 98, 99, 100, 101, 102, 103, 104, 105, 106, 107, 108, 109, 110, 111, 112, 113, 114, 115, 116, 117, 118, 119, 120, 121, 122, 123, 124]\n"
     ]
    }
   ],
   "source": [
    "# The last group contains all\n",
    "# the obligors ids (as a senior CDO tranch)\n",
    "\n",
    "bc_ids = list(raw_groups[-1]['ids'])\n",
    "print bc_ids"
   ]
  },
  {
   "cell_type": "code",
   "execution_count": 13,
   "metadata": {
    "ExecuteTime": {
     "end_time": "2017-07-04T18:11:46.291000",
     "start_time": "2017-07-04T18:11:46.275000"
    },
    "collapsed": false
   },
   "outputs": [
    {
     "name": "stdout",
     "output_type": "stream",
     "text": [
      "[0, 1, 2, 3, 4, 5, 6, 7, 8, 9, 10, 11, 12, 13, 14, 15, 16, 17, 18, 19, 20, 21, 22, 23, 24, 25, 26, 27, 28, 29, 30, 31, 32, 33, 34, 35, 36, 37, 38, 39, 40, 41, 42, 43, 44, 45, 46, 47, 48, 49, 50, 51, 52, 53, 54, 55, 56, 57, 58, 59, 60, 61, 62, 63, 64, 65, 66, 67, 68, 69, 70, 71, 72, 73, 74, 75, 76, 77, 78, 79, 80, 81, 82, 83, 84, 85, 86, 87, 88, 89, 90, 91, 92, 93, 94, 95, 96, 97, 98, 99, 100, 101, 102, 103, 104, 105, 106, 107, 108, 109, 110, 111, 112, 113, 114, 115, 116, 117, 118, 119, 120, 121, 122, 123, 124, 125, 126, 127, 128, 129]\n"
     ]
    }
   ],
   "source": [
    "bc_subsets_indexes = []\n",
    "for id_ in bc_ids:\n",
    "    bc_subsets_indexes += copula.get_indexes_including(id_)\n",
    "    \n",
    "bc_subsets_indexes = list(set(bc_subsets_indexes))\n",
    "bc_subsets_indexes.sort()\n",
    "\n",
    "print bc_subsets_indexes"
   ]
  },
  {
   "cell_type": "markdown",
   "metadata": {},
   "source": [
    "## Default times"
   ]
  },
  {
   "cell_type": "code",
   "execution_count": 14,
   "metadata": {
    "ExecuteTime": {
     "end_time": "2017-07-04T18:13:25.786000",
     "start_time": "2017-07-04T18:11:46.293000"
    },
    "collapsed": false
   },
   "outputs": [],
   "source": [
    "default_times_mat = copula.generate_default_times(subsets_indexes=bc_subsets_indexes, number=N)"
   ]
  },
  {
   "cell_type": "code",
   "execution_count": 15,
   "metadata": {
    "ExecuteTime": {
     "end_time": "2017-07-04T18:13:39.239000",
     "start_time": "2017-07-04T18:13:25.787000"
    },
    "collapsed": false
   },
   "outputs": [],
   "source": [
    "default_times_mat_shifted = v_time_offseter(default_times_mat, time_grid)"
   ]
  },
  {
   "cell_type": "code",
   "execution_count": 16,
   "metadata": {
    "ExecuteTime": {
     "end_time": "2017-07-04T18:13:39.259000",
     "start_time": "2017-07-04T18:13:39.239000"
    },
    "collapsed": false
   },
   "outputs": [
    {
     "name": "stdout",
     "output_type": "stream",
     "text": [
      "0.00833333333333 0.0111111111111 0.0111111111111\n",
      "0.0109151229443\n",
      "0.0111111111111\n"
     ]
    }
   ],
   "source": [
    "index = time_grid.searchsorted(default_times_mat_shifted[:, 0].min())\n",
    "\n",
    "print time_grid[index-1], time_grid[index-1] + step, time_grid[index]\n",
    "print default_times_mat[:, 0].min()\n",
    "print default_times_mat_shifted[:, 0].min()"
   ]
  },
  {
   "cell_type": "markdown",
   "metadata": {},
   "source": [
    "# Saving"
   ]
  },
  {
   "cell_type": "code",
   "execution_count": 17,
   "metadata": {
    "ExecuteTime": {
     "end_time": "2017-07-04T18:13:39.277000",
     "start_time": "2017-07-04T18:13:39.262000"
    },
    "collapsed": false
   },
   "outputs": [],
   "source": [
    "to_save = {}\n",
    "\n",
    "to_save[\"N\"] = N\n",
    "to_save[\"credit\"] = {\n",
    "    \"copula\": copula,\n",
    "    \"bc_subsets_indexes\": bc_subsets_indexes,\n",
    "    \"bc_ids\": bc_ids,\n",
    "    \"default_times\": default_times_mat_shifted,\n",
    "}\n",
    "to_save[\"underlyings\"] = underlyings"
   ]
  },
  {
   "cell_type": "code",
   "execution_count": 18,
   "metadata": {
    "ExecuteTime": {
     "end_time": "2017-07-04T18:14:04.068000",
     "start_time": "2017-07-04T18:13:39.279000"
    },
    "collapsed": false
   },
   "outputs": [],
   "source": [
    "import dill\n",
    "import itertools\n",
    "import os\n",
    "\n",
    "for i in itertools.count():\n",
    "    path, ext = 'data', '.pkl'\n",
    "    insert = str(i)\n",
    "    if not i:\n",
    "        insert = ''\n",
    "        \n",
    "    path = \"%s%s%s\" % (path, insert, ext)\n",
    "        \n",
    "    if not os.path.isfile(path):\n",
    "        with open(path, 'wb') as f:\n",
    "            dill.dump(to_save, f)\n",
    "        break"
   ]
  },
  {
   "cell_type": "code",
   "execution_count": null,
   "metadata": {
    "collapsed": true
   },
   "outputs": [],
   "source": []
  }
 ],
 "metadata": {
  "anaconda-cloud": {},
  "kernelspec": {
   "display_name": "Python [default]",
   "language": "python",
   "name": "python2"
  },
  "language_info": {
   "codemirror_mode": {
    "name": "ipython",
    "version": 2
   },
   "file_extension": ".py",
   "mimetype": "text/x-python",
   "name": "python",
   "nbconvert_exporter": "python",
   "pygments_lexer": "ipython2",
   "version": "2.7.12"
  }
 },
 "nbformat": 4,
 "nbformat_minor": 0
}
