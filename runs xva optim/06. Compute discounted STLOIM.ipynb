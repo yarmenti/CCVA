{
 "cells": [
  {
   "cell_type": "code",
   "execution_count": 1,
   "metadata": {
    "ExecuteTime": {
     "end_time": "2017-07-14T16:00:20.570000Z",
     "start_time": "2017-07-14T16:00:20.565000Z"
    },
    "collapsed": true
   },
   "outputs": [],
   "source": [
    "res_path = './res/aggregated/'\n",
    "loss_part_path = 'loss_1y_ahead'\n",
    "im_part_path = 'im'"
   ]
  },
  {
   "cell_type": "code",
   "execution_count": 2,
   "metadata": {
    "ExecuteTime": {
     "end_time": "2017-07-14T16:00:21.015000Z",
     "start_time": "2017-07-14T16:00:20.573000Z"
    },
    "collapsed": true
   },
   "outputs": [],
   "source": [
    "import os\n",
    "\n",
    "import numpy as np\n",
    "import pandas as pd"
   ]
  },
  {
   "cell_type": "code",
   "execution_count": 3,
   "metadata": {
    "ExecuteTime": {
     "end_time": "2017-07-14T16:00:21.028000Z",
     "start_time": "2017-07-14T16:00:21.015000Z"
    },
    "collapsed": true
   },
   "outputs": [],
   "source": [
    "loss_path = os.path.join(res_path, loss_part_path)\n",
    "im_path = os.path.join(res_path, im_part_path)"
   ]
  },
  {
   "cell_type": "code",
   "execution_count": 4,
   "metadata": {
    "ExecuteTime": {
     "end_time": "2017-07-14T16:00:21.042000Z",
     "start_time": "2017-07-14T16:00:21.030000Z"
    },
    "collapsed": true
   },
   "outputs": [],
   "source": [
    "maturity = 5.\n",
    "\n",
    "times_cva = np.arange(0, maturity, 0.5)\n",
    "\n",
    "shifted_times_cva = times_cva + 1.\n",
    "shifted_times_cva[-1] = maturity"
   ]
  },
  {
   "cell_type": "code",
   "execution_count": 5,
   "metadata": {
    "ExecuteTime": {
     "end_time": "2017-07-14T16:00:21.049000Z",
     "start_time": "2017-07-14T16:00:21.046000Z"
    },
    "collapsed": true
   },
   "outputs": [],
   "source": [
    "QUANTILES = np.linspace(0.85, 0.997, 20)"
   ]
  },
  {
   "cell_type": "code",
   "execution_count": 6,
   "metadata": {
    "ExecuteTime": {
     "end_time": "2017-07-14T16:05:31.335000Z",
     "start_time": "2017-07-14T16:00:21.052000Z"
    }
   },
   "outputs": [],
   "source": [
    "for t0, t1 in zip(times_cva, shifted_times_cva):\n",
    "    int_str = '[%.2f, %.2f]' % (t0, t1)\n",
    "    \n",
    "    fname = 'loss_no_im%s.csv' % (int_str)\n",
    "    loss_fname = os.path.join(loss_path, fname)\n",
    "    loss_pd = pd.read_csv(loss_fname, header=0, index_col=0)\n",
    "    \n",
    "    for q in QUANTILES:\n",
    "        crt_im_q_path = os.path.join(im_path, '%s' % (q))\n",
    "        im_fname = 'im%s.csv' % (int_str)\n",
    "        im_fname = os.path.join(crt_im_q_path, im_fname)\n",
    "        \n",
    "        im_pd = pd.read_csv(im_fname, header=0, index_col=0)\n",
    "        pd_l_oim = (loss_pd - im_pd)\n",
    "        pd_l_oim[pd_l_oim < 0] = 0.\n",
    "        \n",
    "        fname = 'loim_%s_%s.csv' % (int_str, q)\n",
    "        path_to_save = os.path.join(res_path, 'loss_over_im/', fname)\n",
    "        pd_l_oim.to_csv(path_to_save)"
   ]
  },
  {
   "cell_type": "raw",
   "metadata": {
    "ExecuteTime": {
     "end_time": "2017-07-14T10:21:14.972000Z",
     "start_time": "2017-07-14T10:21:14.957000Z"
    },
    "collapsed": true
   },
   "source": [
    "def loss_over_im(quantiles, times_cva, shifted_times_cva):\n",
    "    for t0, t1 in zip(times_cva, shifted_times_cva):\n",
    "        int_str = '[%.2f, %.2f]' % (t0, t1)\n",
    "\n",
    "        fname = 'loss_no_im%s.csv' % (int_str)\n",
    "        loss_fname = os.path.join(loss_path, fname)\n",
    "        loss_pd = pd.read_csv(loss_fname, header=0, index_col=0)\n",
    "    \n",
    "        for q in quantiles:\n",
    "            crt_im_q_path = os.path.join(im_path, '%s' % (q))\n",
    "            im_fname = 'im%s.csv' % (int_str)\n",
    "            im_fname = os.path.join(crt_im_q_path, im_fname)\n",
    "\n",
    "            im_pd = pd.read_csv(im_fname, header=0, index_col=0)\n",
    "            pd_l_oim = (loss_pd - im_pd)\n",
    "            pd_l_oim[pd_l_oim < 0] = 0.\n",
    "\n",
    "            fname = 'loim_%s_%s.csv' % (int_str, q)\n",
    "            path_to_save = os.path.join(res_path, 'loss_over_im/', fname)\n",
    "            pd_l_oim.to_csv(path_to_save)"
   ]
  },
  {
   "cell_type": "raw",
   "metadata": {
    "ExecuteTime": {
     "end_time": "2017-07-14T10:20:45.168000Z",
     "start_time": "2017-07-14T10:20:44.705000Z"
    },
    "collapsed": true
   },
   "source": [
    "loss_over_im([0.85, 0.95, 0.99, 0.997], times_cva, shifted_times_cva)\n",
    "loss_over_im(np.linspace(0.85, 0.997, 20), [0.], [1.])"
   ]
  }
 ],
 "metadata": {
  "anaconda-cloud": {},
  "kernelspec": {
   "display_name": "Python [conda root]",
   "language": "python",
   "name": "conda-root-py"
  },
  "language_info": {
   "codemirror_mode": {
    "name": "ipython",
    "version": 2
   },
   "file_extension": ".py",
   "mimetype": "text/x-python",
   "name": "python",
   "nbconvert_exporter": "python",
   "pygments_lexer": "ipython2",
   "version": "2.7.12"
  }
 },
 "nbformat": 4,
 "nbformat_minor": 1
}
