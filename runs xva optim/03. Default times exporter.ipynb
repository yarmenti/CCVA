{
 "cells": [
  {
   "cell_type": "code",
   "execution_count": 1,
   "metadata": {
    "ExecuteTime": {
     "end_time": "2017-07-13T15:13:01.999000Z",
     "start_time": "2017-07-13T15:13:01.994000Z"
    },
    "collapsed": true
   },
   "outputs": [],
   "source": [
    "NB_SIM = 5"
   ]
  },
  {
   "cell_type": "code",
   "execution_count": 2,
   "metadata": {
    "ExecuteTime": {
     "end_time": "2017-07-13T15:13:02.009000Z",
     "start_time": "2017-07-13T15:13:02.002000Z"
    },
    "collapsed": true
   },
   "outputs": [],
   "source": [
    "import sys\n",
    "\n",
    "sys.path.append('..')"
   ]
  },
  {
   "cell_type": "code",
   "execution_count": 3,
   "metadata": {
    "ExecuteTime": {
     "end_time": "2017-07-13T15:13:02.022000Z",
     "start_time": "2017-07-13T15:13:02.011000Z"
    },
    "collapsed": true
   },
   "outputs": [],
   "source": [
    "def rec_dict_print(a_dict, level=1):\n",
    "    keys = a_dict.keys()\n",
    "    keys.sort()\n",
    "    for k in keys:\n",
    "        if type(a_dict[k]) is dict:\n",
    "            print \"\".join([\"-\" for i in range(level)]) + k\n",
    "            rec_dict_print(a_dict[k], level + 2)\n",
    "        else:\n",
    "            print \"\".join([\"-\" for i in range(level)]) + k"
   ]
  },
  {
   "cell_type": "code",
   "execution_count": 4,
   "metadata": {
    "ExecuteTime": {
     "end_time": "2017-07-13T15:13:26.590000Z",
     "start_time": "2017-07-13T15:13:02.024000Z"
    },
    "collapsed": true
   },
   "outputs": [],
   "source": [
    "%matplotlib inline\n",
    "import dill\n",
    "\n",
    "loaded_data = None\n",
    "\n",
    "with open('precomputed_sims/data%i.pkl' % (NB_SIM), 'rb') as f:\n",
    "    loaded_data = dill.load(f)"
   ]
  },
  {
   "cell_type": "raw",
   "metadata": {
    "collapsed": true
   },
   "source": [
    "import warnings\n",
    "\n",
    "warnings.filterwarnings(\"error\")"
   ]
  },
  {
   "cell_type": "code",
   "execution_count": 5,
   "metadata": {
    "ExecuteTime": {
     "end_time": "2017-07-13T15:13:26.596000Z",
     "start_time": "2017-07-13T15:13:26.592000Z"
    }
   },
   "outputs": [
    {
     "name": "stdout",
     "output_type": "stream",
     "text": [
      "-N\n",
      "-credit\n",
      "---bc_ids\n",
      "---bc_subsets_indexes\n",
      "---copula\n",
      "---default_times\n",
      "-underlyings\n"
     ]
    }
   ],
   "source": [
    "rec_dict_print(loaded_data)"
   ]
  },
  {
   "cell_type": "code",
   "execution_count": 6,
   "metadata": {
    "ExecuteTime": {
     "end_time": "2017-07-13T15:13:26.608000Z",
     "start_time": "2017-07-13T15:13:26.599000Z"
    },
    "collapsed": true
   },
   "outputs": [],
   "source": [
    "N = loaded_data[\"N\"]"
   ]
  },
  {
   "cell_type": "code",
   "execution_count": 7,
   "metadata": {
    "ExecuteTime": {
     "end_time": "2017-07-13T15:13:26.624000Z",
     "start_time": "2017-07-13T15:13:26.611000Z"
    }
   },
   "outputs": [
    {
     "name": "stdout",
     "output_type": "stream",
     "text": [
      "Maturity = 5.0 years\n"
     ]
    }
   ],
   "source": [
    "# Instead of taking 365 standard days or 252 trading days\n",
    "# in order to get some easy computations for the eqty and df time grids\n",
    "# I chose to take 360 days of tradings\n",
    "\n",
    "step = 1 / 360.\n",
    "delta = 5 * step\n",
    "\n",
    "maturity = 5.0\n",
    "\n",
    "print \"Maturity = %s years\" % maturity"
   ]
  },
  {
   "cell_type": "markdown",
   "metadata": {},
   "source": [
    "# Default times"
   ]
  },
  {
   "cell_type": "code",
   "execution_count": 8,
   "metadata": {
    "ExecuteTime": {
     "end_time": "2017-07-13T15:13:26.635000Z",
     "start_time": "2017-07-13T15:13:26.629000Z"
    },
    "collapsed": true
   },
   "outputs": [],
   "source": [
    "c_ids = [17, 9, 29, 26, 50, 4, 5, 13, 64]"
   ]
  },
  {
   "cell_type": "code",
   "execution_count": 9,
   "metadata": {
    "ExecuteTime": {
     "end_time": "2017-07-13T15:13:26.643000Z",
     "start_time": "2017-07-13T15:13:26.637000Z"
    },
    "collapsed": true
   },
   "outputs": [],
   "source": [
    "copula = loaded_data[\"credit\"][\"copula\"]\n",
    "default_times_mat = loaded_data[\"credit\"][\"default_times\"]\n",
    "c_subsets_indexes = loaded_data[\"credit\"][\"bc_subsets_indexes\"]"
   ]
  },
  {
   "cell_type": "code",
   "execution_count": 10,
   "metadata": {
    "ExecuteTime": {
     "end_time": "2017-07-13T15:13:26.998000Z",
     "start_time": "2017-07-13T15:13:26.646000Z"
    },
    "collapsed": true
   },
   "outputs": [],
   "source": [
    "import pandas as pd\n",
    "import numpy as np\n",
    "\n",
    "def get_default_times_sim(c_ids_, N_, default_times_mat_, copula_, subsets_indexes_):\n",
    "    matrix_def_ = np.zeros((len(c_ids_), N_))\n",
    "    \n",
    "    for j_, c_id_ in enumerate(c_ids_):\n",
    "        cp_subsets_indexes_ = copula_.get_indexes_including(c_id_)\n",
    "        c_df_times_indexes_ = [ii_ for ii_, ind_ in enumerate(subsets_indexes_) if ind_ in cp_subsets_indexes_]\n",
    "        \n",
    "        c_df_times_mat_ = default_times_mat_[:, c_df_times_indexes_]\n",
    "        c_df_times_ = c_df_times_mat_.min(axis=1)\n",
    "        \n",
    "        matrix_def_[j_] = c_df_times_\n",
    "        \n",
    "    matrix_def_[matrix_def_==1000.] = np.nan\n",
    "        \n",
    "    df_default_times_ = pd.DataFrame(matrix_def_, index=np.array(c_ids_))\n",
    "    return df_default_times_"
   ]
  },
  {
   "cell_type": "code",
   "execution_count": 11,
   "metadata": {
    "ExecuteTime": {
     "end_time": "2017-07-13T15:13:27.056000Z",
     "start_time": "2017-07-13T15:13:27Z"
    }
   },
   "outputs": [
    {
     "data": {
      "text/html": [
       "<div>\n",
       "<table border=\"1\" class=\"dataframe\">\n",
       "  <thead>\n",
       "    <tr style=\"text-align: right;\">\n",
       "      <th></th>\n",
       "      <th>0</th>\n",
       "      <th>1</th>\n",
       "      <th>2</th>\n",
       "      <th>3</th>\n",
       "      <th>4</th>\n",
       "      <th>5</th>\n",
       "      <th>6</th>\n",
       "      <th>7</th>\n",
       "      <th>8</th>\n",
       "      <th>9</th>\n",
       "      <th>...</th>\n",
       "      <th>19990</th>\n",
       "      <th>19991</th>\n",
       "      <th>19992</th>\n",
       "      <th>19993</th>\n",
       "      <th>19994</th>\n",
       "      <th>19995</th>\n",
       "      <th>19996</th>\n",
       "      <th>19997</th>\n",
       "      <th>19998</th>\n",
       "      <th>19999</th>\n",
       "    </tr>\n",
       "  </thead>\n",
       "  <tbody>\n",
       "    <tr>\n",
       "      <th>17</th>\n",
       "      <td>NaN</td>\n",
       "      <td>NaN</td>\n",
       "      <td>NaN</td>\n",
       "      <td>NaN</td>\n",
       "      <td>NaN</td>\n",
       "      <td>NaN</td>\n",
       "      <td>NaN</td>\n",
       "      <td>NaN</td>\n",
       "      <td>NaN</td>\n",
       "      <td>NaN</td>\n",
       "      <td>...</td>\n",
       "      <td>NaN</td>\n",
       "      <td>NaN</td>\n",
       "      <td>NaN</td>\n",
       "      <td>NaN</td>\n",
       "      <td>NaN</td>\n",
       "      <td>NaN</td>\n",
       "      <td>NaN</td>\n",
       "      <td>NaN</td>\n",
       "      <td>NaN</td>\n",
       "      <td>NaN</td>\n",
       "    </tr>\n",
       "    <tr>\n",
       "      <th>9</th>\n",
       "      <td>NaN</td>\n",
       "      <td>NaN</td>\n",
       "      <td>NaN</td>\n",
       "      <td>NaN</td>\n",
       "      <td>NaN</td>\n",
       "      <td>NaN</td>\n",
       "      <td>NaN</td>\n",
       "      <td>NaN</td>\n",
       "      <td>NaN</td>\n",
       "      <td>NaN</td>\n",
       "      <td>...</td>\n",
       "      <td>NaN</td>\n",
       "      <td>NaN</td>\n",
       "      <td>NaN</td>\n",
       "      <td>NaN</td>\n",
       "      <td>NaN</td>\n",
       "      <td>NaN</td>\n",
       "      <td>NaN</td>\n",
       "      <td>NaN</td>\n",
       "      <td>NaN</td>\n",
       "      <td>NaN</td>\n",
       "    </tr>\n",
       "    <tr>\n",
       "      <th>29</th>\n",
       "      <td>NaN</td>\n",
       "      <td>NaN</td>\n",
       "      <td>0.336111</td>\n",
       "      <td>NaN</td>\n",
       "      <td>NaN</td>\n",
       "      <td>NaN</td>\n",
       "      <td>NaN</td>\n",
       "      <td>NaN</td>\n",
       "      <td>NaN</td>\n",
       "      <td>0.388889</td>\n",
       "      <td>...</td>\n",
       "      <td>1.808333</td>\n",
       "      <td>NaN</td>\n",
       "      <td>NaN</td>\n",
       "      <td>4.041667</td>\n",
       "      <td>NaN</td>\n",
       "      <td>NaN</td>\n",
       "      <td>NaN</td>\n",
       "      <td>NaN</td>\n",
       "      <td>NaN</td>\n",
       "      <td>NaN</td>\n",
       "    </tr>\n",
       "    <tr>\n",
       "      <th>26</th>\n",
       "      <td>0.941667</td>\n",
       "      <td>NaN</td>\n",
       "      <td>0.677778</td>\n",
       "      <td>NaN</td>\n",
       "      <td>0.686111</td>\n",
       "      <td>NaN</td>\n",
       "      <td>NaN</td>\n",
       "      <td>NaN</td>\n",
       "      <td>2.119444</td>\n",
       "      <td>1.347222</td>\n",
       "      <td>...</td>\n",
       "      <td>0.755556</td>\n",
       "      <td>NaN</td>\n",
       "      <td>0.875</td>\n",
       "      <td>1.172222</td>\n",
       "      <td>2.552778</td>\n",
       "      <td>0.469444</td>\n",
       "      <td>NaN</td>\n",
       "      <td>0.894444</td>\n",
       "      <td>0.702778</td>\n",
       "      <td>NaN</td>\n",
       "    </tr>\n",
       "    <tr>\n",
       "      <th>50</th>\n",
       "      <td>NaN</td>\n",
       "      <td>1.597222</td>\n",
       "      <td>NaN</td>\n",
       "      <td>NaN</td>\n",
       "      <td>NaN</td>\n",
       "      <td>NaN</td>\n",
       "      <td>NaN</td>\n",
       "      <td>NaN</td>\n",
       "      <td>NaN</td>\n",
       "      <td>NaN</td>\n",
       "      <td>...</td>\n",
       "      <td>NaN</td>\n",
       "      <td>NaN</td>\n",
       "      <td>NaN</td>\n",
       "      <td>NaN</td>\n",
       "      <td>NaN</td>\n",
       "      <td>NaN</td>\n",
       "      <td>NaN</td>\n",
       "      <td>NaN</td>\n",
       "      <td>NaN</td>\n",
       "      <td>NaN</td>\n",
       "    </tr>\n",
       "    <tr>\n",
       "      <th>4</th>\n",
       "      <td>NaN</td>\n",
       "      <td>NaN</td>\n",
       "      <td>NaN</td>\n",
       "      <td>NaN</td>\n",
       "      <td>NaN</td>\n",
       "      <td>NaN</td>\n",
       "      <td>NaN</td>\n",
       "      <td>NaN</td>\n",
       "      <td>NaN</td>\n",
       "      <td>NaN</td>\n",
       "      <td>...</td>\n",
       "      <td>NaN</td>\n",
       "      <td>NaN</td>\n",
       "      <td>NaN</td>\n",
       "      <td>NaN</td>\n",
       "      <td>NaN</td>\n",
       "      <td>NaN</td>\n",
       "      <td>NaN</td>\n",
       "      <td>NaN</td>\n",
       "      <td>NaN</td>\n",
       "      <td>0.530556</td>\n",
       "    </tr>\n",
       "    <tr>\n",
       "      <th>5</th>\n",
       "      <td>NaN</td>\n",
       "      <td>NaN</td>\n",
       "      <td>NaN</td>\n",
       "      <td>NaN</td>\n",
       "      <td>NaN</td>\n",
       "      <td>NaN</td>\n",
       "      <td>NaN</td>\n",
       "      <td>NaN</td>\n",
       "      <td>NaN</td>\n",
       "      <td>NaN</td>\n",
       "      <td>...</td>\n",
       "      <td>NaN</td>\n",
       "      <td>NaN</td>\n",
       "      <td>NaN</td>\n",
       "      <td>NaN</td>\n",
       "      <td>NaN</td>\n",
       "      <td>NaN</td>\n",
       "      <td>1.638889</td>\n",
       "      <td>NaN</td>\n",
       "      <td>NaN</td>\n",
       "      <td>NaN</td>\n",
       "    </tr>\n",
       "    <tr>\n",
       "      <th>13</th>\n",
       "      <td>NaN</td>\n",
       "      <td>NaN</td>\n",
       "      <td>NaN</td>\n",
       "      <td>NaN</td>\n",
       "      <td>NaN</td>\n",
       "      <td>NaN</td>\n",
       "      <td>NaN</td>\n",
       "      <td>NaN</td>\n",
       "      <td>NaN</td>\n",
       "      <td>NaN</td>\n",
       "      <td>...</td>\n",
       "      <td>NaN</td>\n",
       "      <td>NaN</td>\n",
       "      <td>NaN</td>\n",
       "      <td>NaN</td>\n",
       "      <td>NaN</td>\n",
       "      <td>NaN</td>\n",
       "      <td>NaN</td>\n",
       "      <td>NaN</td>\n",
       "      <td>NaN</td>\n",
       "      <td>NaN</td>\n",
       "    </tr>\n",
       "    <tr>\n",
       "      <th>64</th>\n",
       "      <td>NaN</td>\n",
       "      <td>0.152778</td>\n",
       "      <td>NaN</td>\n",
       "      <td>NaN</td>\n",
       "      <td>NaN</td>\n",
       "      <td>NaN</td>\n",
       "      <td>NaN</td>\n",
       "      <td>NaN</td>\n",
       "      <td>NaN</td>\n",
       "      <td>NaN</td>\n",
       "      <td>...</td>\n",
       "      <td>NaN</td>\n",
       "      <td>NaN</td>\n",
       "      <td>NaN</td>\n",
       "      <td>4.172222</td>\n",
       "      <td>NaN</td>\n",
       "      <td>NaN</td>\n",
       "      <td>NaN</td>\n",
       "      <td>NaN</td>\n",
       "      <td>NaN</td>\n",
       "      <td>NaN</td>\n",
       "    </tr>\n",
       "  </tbody>\n",
       "</table>\n",
       "<p>9 rows × 20000 columns</p>\n",
       "</div>"
      ],
      "text/plain": [
       "       0         1         2      3         4      5      6      7      \\\n",
       "17       NaN       NaN       NaN    NaN       NaN    NaN    NaN    NaN   \n",
       "9        NaN       NaN       NaN    NaN       NaN    NaN    NaN    NaN   \n",
       "29       NaN       NaN  0.336111    NaN       NaN    NaN    NaN    NaN   \n",
       "26  0.941667       NaN  0.677778    NaN  0.686111    NaN    NaN    NaN   \n",
       "50       NaN  1.597222       NaN    NaN       NaN    NaN    NaN    NaN   \n",
       "4        NaN       NaN       NaN    NaN       NaN    NaN    NaN    NaN   \n",
       "5        NaN       NaN       NaN    NaN       NaN    NaN    NaN    NaN   \n",
       "13       NaN       NaN       NaN    NaN       NaN    NaN    NaN    NaN   \n",
       "64       NaN  0.152778       NaN    NaN       NaN    NaN    NaN    NaN   \n",
       "\n",
       "       8         9        ...        19990  19991  19992     19993     19994  \\\n",
       "17       NaN       NaN    ...          NaN    NaN    NaN       NaN       NaN   \n",
       "9        NaN       NaN    ...          NaN    NaN    NaN       NaN       NaN   \n",
       "29       NaN  0.388889    ...     1.808333    NaN    NaN  4.041667       NaN   \n",
       "26  2.119444  1.347222    ...     0.755556    NaN  0.875  1.172222  2.552778   \n",
       "50       NaN       NaN    ...          NaN    NaN    NaN       NaN       NaN   \n",
       "4        NaN       NaN    ...          NaN    NaN    NaN       NaN       NaN   \n",
       "5        NaN       NaN    ...          NaN    NaN    NaN       NaN       NaN   \n",
       "13       NaN       NaN    ...          NaN    NaN    NaN       NaN       NaN   \n",
       "64       NaN       NaN    ...          NaN    NaN    NaN  4.172222       NaN   \n",
       "\n",
       "       19995     19996     19997     19998     19999  \n",
       "17       NaN       NaN       NaN       NaN       NaN  \n",
       "9        NaN       NaN       NaN       NaN       NaN  \n",
       "29       NaN       NaN       NaN       NaN       NaN  \n",
       "26  0.469444       NaN  0.894444  0.702778       NaN  \n",
       "50       NaN       NaN       NaN       NaN       NaN  \n",
       "4        NaN       NaN       NaN       NaN  0.530556  \n",
       "5        NaN  1.638889       NaN       NaN       NaN  \n",
       "13       NaN       NaN       NaN       NaN       NaN  \n",
       "64       NaN       NaN       NaN       NaN       NaN  \n",
       "\n",
       "[9 rows x 20000 columns]"
      ]
     },
     "execution_count": 11,
     "metadata": {},
     "output_type": "execute_result"
    }
   ],
   "source": [
    "default_times = get_default_times_sim(c_ids, N, default_times_mat, copula, c_subsets_indexes)\n",
    "default_times"
   ]
  },
  {
   "cell_type": "code",
   "execution_count": 12,
   "metadata": {
    "ExecuteTime": {
     "end_time": "2017-07-13T15:13:27.177000Z",
     "start_time": "2017-07-13T15:13:27.058000Z"
    },
    "collapsed": true
   },
   "outputs": [],
   "source": [
    "import os\n",
    "\n",
    "default_times_path = './res/sim%i/' % (NB_SIM)\n",
    "\n",
    "path = os.path.join(default_times_path, 'df_times.csv')\n",
    "default_times.to_csv(path)"
   ]
  }
 ],
 "metadata": {
  "anaconda-cloud": {},
  "kernelspec": {
   "display_name": "Python [default]",
   "language": "python",
   "name": "python2"
  },
  "language_info": {
   "codemirror_mode": {
    "name": "ipython",
    "version": 2
   },
   "file_extension": ".py",
   "mimetype": "text/x-python",
   "name": "python",
   "nbconvert_exporter": "python",
   "pygments_lexer": "ipython2",
   "version": "2.7.12"
  }
 },
 "nbformat": 4,
 "nbformat_minor": 1
}
