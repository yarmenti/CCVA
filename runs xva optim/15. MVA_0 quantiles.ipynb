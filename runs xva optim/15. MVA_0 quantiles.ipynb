{
 "cells": [
  {
   "cell_type": "code",
   "execution_count": 1,
   "metadata": {
    "ExecuteTime": {
     "end_time": "2017-07-17T10:36:41.368000Z",
     "start_time": "2017-07-17T10:36:40.654000Z"
    },
    "collapsed": true
   },
   "outputs": [],
   "source": [
    "import numpy as np\n",
    "import pandas as pd\n",
    "\n",
    "from scipy.stats import norm\n",
    "from scipy.integrate import simps\n",
    "from scipy.optimize import brentq\n",
    "\n",
    "import sys\n",
    "import dill\n",
    "\n",
    "from functools import partial\n",
    "import os"
   ]
  },
  {
   "cell_type": "code",
   "execution_count": 2,
   "metadata": {
    "ExecuteTime": {
     "end_time": "2017-07-17T10:36:41.621000Z",
     "start_time": "2017-07-17T10:36:41.370000Z"
    },
    "collapsed": true
   },
   "outputs": [],
   "source": [
    "import matplotlib.pyplot as plt\n",
    "\n",
    "#import matplotlib as mpl\n",
    "#mpl.rcParams['text.usetex'] = True\n",
    "#mpl.rcParams['text.latex.preamble'] = [r'\\usepackage{amsmath}']\n",
    "\n",
    "%matplotlib inline\n",
    "\n",
    "import seaborn as sns\n",
    "sns.set_context('talk')"
   ]
  },
  {
   "cell_type": "code",
   "execution_count": 3,
   "metadata": {
    "ExecuteTime": {
     "end_time": "2017-07-17T10:36:41.626000Z",
     "start_time": "2017-07-17T10:36:41.623000Z"
    },
    "collapsed": true
   },
   "outputs": [],
   "source": [
    "from matplotlib.ticker import FuncFormatter"
   ]
  },
  {
   "cell_type": "code",
   "execution_count": 4,
   "metadata": {
    "ExecuteTime": {
     "end_time": "2017-07-17T10:36:41.641000Z",
     "start_time": "2017-07-17T10:36:41.628000Z"
    },
    "collapsed": true
   },
   "outputs": [],
   "source": [
    "formatter_tex_bps = FuncFormatter(lambda y, pos: \"$%.0f$\" % (10**4 * y))\n",
    "\n",
    "def formatter_tex_time(x, pos):\n",
    "    if x == 0.:\n",
    "        return r'$\\rm{0 \\, y}$'\n",
    "    \n",
    "    str_x = str(x)\n",
    "    \n",
    "    if str_x[-1] == '0':\n",
    "        return r'$\\rm{%s \\, y}$' % (str_x[:-2])\n",
    "\n",
    "    return r'$\\rm{%s \\, y}$' % (str_x)\n",
    "\n",
    "formatter_tex_time = FuncFormatter(formatter_tex_time)"
   ]
  },
  {
   "cell_type": "code",
   "execution_count": 5,
   "metadata": {
    "ExecuteTime": {
     "end_time": "2017-07-17T10:36:41.653000Z",
     "start_time": "2017-07-17T10:36:41.645000Z"
    },
    "collapsed": true
   },
   "outputs": [],
   "source": [
    "def formatter_tex_time(x, pos):\n",
    "    if x == 0.:\n",
    "        return r'$\\rm{0}$'\n",
    "    \n",
    "    str_x = str(x)\n",
    "    \n",
    "    if str_x[-1] == '0':\n",
    "        return r'$\\rm{%s}$' % (str_x[:-2])\n",
    "\n",
    "    return r'$\\rm{%s}$' % (str_x)\n",
    "\n",
    "formatter_tex_time = FuncFormatter(formatter_tex_time)"
   ]
  },
  {
   "cell_type": "code",
   "execution_count": 6,
   "metadata": {
    "ExecuteTime": {
     "end_time": "2017-07-17T10:36:41.671000Z",
     "start_time": "2017-07-17T10:36:41.655000Z"
    },
    "collapsed": true
   },
   "outputs": [],
   "source": [
    "labelsize = 18\n",
    "titlesize = 20"
   ]
  },
  {
   "cell_type": "code",
   "execution_count": 7,
   "metadata": {
    "ExecuteTime": {
     "end_time": "2017-07-17T10:36:41.679000Z",
     "start_time": "2017-07-17T10:36:41.673000Z"
    },
    "collapsed": true
   },
   "outputs": [],
   "source": [
    "sys.path.append('..')"
   ]
  },
  {
   "cell_type": "code",
   "execution_count": 8,
   "metadata": {
    "ExecuteTime": {
     "end_time": "2017-07-17T10:36:49.705000Z",
     "start_time": "2017-07-17T10:36:41.681000Z"
    }
   },
   "outputs": [
    {
     "name": "stdout",
     "output_type": "stream",
     "text": [
      "Maturity = 5.0 years\n",
      "Maximum number of paths: 20000\n",
      "kappa = 0.12, sigma = 0.2\n",
      "Swap contract of maturity T = 5 years, over S^0 with strike K = 134.306, paying at {0.00, 0.25, 0.50, 0.75, 1.00, 1.25, 1.50, 1.75, 2.00, 2.25, 2.50, 2.75, 3.00, 3.25, 3.50, 3.75, 4.00, 4.25, 4.50, 4.75, 5.00}\n",
      "Notional on the swap: 0.0015687485053\n",
      "Obligor numbers: 125\n",
      "Counterparties id: [17, 9, 29, 26, 50, 4, 5, 13, 64] (nb = 9)\n",
      "[  0.    0.    0.    0.    4.6   1.8   0.    0.    0.   -9.2   0.    0.\n",
      "   0.   -1.    0.    0.    0.   13.8   0.    0.    0.    0.    0.    0.\n",
      "   0.    0.   -7.2   0.    0.   -8.8   0.    0.    0.    0.    0.    0.\n",
      "   0.    0.    0.    0.    0.    0.    0.    0.    0.    0.    0.    0.\n",
      "   0.    0.    6.8   0.    0.    0.    0.    0.    0.    0.    0.    0.\n",
      "   0.    0.    0.    0.   -0.8   0.    0.    0.    0.    0.    0.    0.\n",
      "   0.    0.    0.    0.    0.    0.    0.    0.    0.    0.    0.    0.\n",
      "   0.    0.    0.    0.    0.    0.    0.    0.    0.    0.    0.    0.\n",
      "   0.    0.    0.    0.    0.    0.    0.    0.    0.    0.    0.    0.\n",
      "   0.    0.    0.    0.    0.    0.    0.    0.    0.    0.    0.    0.\n",
      "   0.    0.    0.    0.    0. ]\n"
     ]
    }
   ],
   "source": [
    "from finance.discountfactor import ConstantRateDiscountFactor\n",
    "from finance.products.european.swap import SwapContract\n",
    "from utils import time_offseter\n",
    "\n",
    "loaded_data = None\n",
    "\n",
    "with open('precomputed_sims/data1.pkl', 'rb') as f:\n",
    "    loaded_data = dill.load(f)\n",
    "    \n",
    "step = 1 / 360.\n",
    "delta = 5 * step\n",
    "\n",
    "maturity = 5.0\n",
    "print \"Maturity = %s years\" % maturity\n",
    "\n",
    "R = 0.02\n",
    "H = 0.1\n",
    "discount = ConstantRateDiscountFactor(R)\n",
    "\n",
    "udlyings = loaded_data[\"underlyings\"]\n",
    "print \"Maximum number of paths: %i\" % len(udlyings)\n",
    "\n",
    "GBM0 = udlyings[0]\n",
    "kappa = GBM0.drifts[0][0]\n",
    "sigma = GBM0.vols[0][0]\n",
    "print \"kappa = %s, sigma = %s\" % (kappa, sigma)\n",
    "\n",
    "time_grid = GBM0.time\n",
    "\n",
    "derivatives_nb = 1\n",
    "\n",
    "swap_delta = 0.25\n",
    "swap_dates = SwapContract.generate_payment_dates(0, maturity, swap_delta)\n",
    "swap = SwapContract(GBM0, discount, swap_dates)\n",
    "\n",
    "print swap\n",
    "\n",
    "p_fixed = 1.\n",
    "strike = swap.strike\n",
    "\n",
    "delta_times = swap.delta_time\n",
    "discount_factors = [discount(t) for t in swap.pillars[1:]]\n",
    "\n",
    "delta_beta_sum = np.dot(delta_times, discount_factors)\n",
    "\n",
    "notional = p_fixed / (strike * delta_beta_sum)\n",
    "\n",
    "print \"Notional on the swap: %s\" % notional\n",
    "\n",
    "copula = loaded_data[\"credit\"][\"copula\"]\n",
    "c_subsets_indexes = loaded_data[\"credit\"][\"bc_subsets_indexes\"]\n",
    "obligors_nb = len(copula.subsets[c_subsets_indexes[-1]][0])\n",
    "print \"Obligor numbers: %s\" % obligors_nb\n",
    "\n",
    "c_ids = [17, 9, 29, 26, 50, 4, 5, 13, 64]\n",
    "c_positions = [0.69, -0.46, -0.44, -0.36, 0.34, 0.23, 0.09, -0.05, -0.04]\n",
    "\n",
    "print \"Counterparties id: %s (nb = %s)\" % (c_ids, len(c_ids))\n",
    "\n",
    "POSITIONS = np.zeros(obligors_nb)\n",
    "for idx, ps in zip(c_ids, c_positions):\n",
    "    POSITIONS[idx] = ps\n",
    "\n",
    "POSITIONS = POSITIONS / -POSITIONS[13]\n",
    "POSITIONS = np.array(POSITIONS).flatten()\n",
    "\n",
    "print POSITIONS\n",
    "\n",
    "spreads = [176, 45, 367, 1053, 73, 56, 52, 61, 108]\n",
    "IDS_SPREADS = dict((id_, spread_) for (id_, spread_) in zip(c_ids, spreads))\n",
    "IDS_POSITIONS = dict((id_, pos_) for (id_, pos_) in zip(c_ids, c_positions))"
   ]
  },
  {
   "cell_type": "code",
   "execution_count": 9,
   "metadata": {
    "ExecuteTime": {
     "end_time": "2017-07-17T10:36:49.715000Z",
     "start_time": "2017-07-17T10:36:49.708000Z"
    },
    "collapsed": true
   },
   "outputs": [],
   "source": [
    "QUANTIME_IM = 0.85\n",
    "QUANTILE_ES = 0.99\n",
    "\n",
    "RECOV = 0.4\n",
    "S0 = GBM0(0.)[0, 0]\n",
    "\n",
    "HURDLED_DISCOUNT = ConstantRateDiscountFactor(R + H)\n",
    "\n",
    "LOIM_PATH = './res/aggregated/loss_over_im'\n",
    "CVA_PATH = './res/aggregated/cva_ccp'\n",
    "\n",
    "times_cva = np.arange(0, maturity, 0.5)\n",
    "\n",
    "shifted_times_cva = times_cva + 1.\n",
    "shifted_times_cva[-1] = maturity"
   ]
  },
  {
   "cell_type": "code",
   "execution_count": 10,
   "metadata": {
    "ExecuteTime": {
     "end_time": "2017-07-17T10:36:49.732000Z",
     "start_time": "2017-07-17T10:36:49.717000Z"
    },
    "collapsed": true
   },
   "outputs": [],
   "source": [
    "def fact_(swap_, discount_, kappa_, delta_, t_):\n",
    "    time_grid_ = swap_.underlying.time\n",
    "    t_delta_ = time_offseter(t_ + delta_, time_grid_, True)\n",
    "    \n",
    "    coupon_dates_ = swap_.pillars\n",
    "    l_t_delta_ = np.searchsorted(coupon_dates_, t_delta_, side='left')\n",
    "\n",
    "    beta_T_l_ = map(discount_, coupon_dates_[l_t_delta_ + 1 :])    \n",
    "    h_l_ = swap_.delta_time[l_t_delta_ : ]\n",
    "    \n",
    "    T_l_m1_ = kappa_ * coupon_dates_[l_t_delta_ : -1]\n",
    "    exp_factor_ = map(np.exp, T_l_m1_)\n",
    "    \n",
    "    tmp_ = np.multiply(exp_factor_, h_l_)    \n",
    "    res_ = np.dot(beta_T_l_, tmp_)\n",
    "    \n",
    "    return res_\n",
    "\n",
    "fact = partial(fact_, swap, discount, kappa, delta)"
   ]
  },
  {
   "cell_type": "code",
   "execution_count": 11,
   "metadata": {
    "ExecuteTime": {
     "end_time": "2017-07-17T10:36:49.743000Z",
     "start_time": "2017-07-17T10:36:49.735000Z"
    },
    "collapsed": true
   },
   "outputs": [],
   "source": [
    "def B_(fact_f_, vol_, delta_, a_, omega_, t_):\n",
    "    if a_ <= 0.5: \n",
    "        a_ = 1. - a_\n",
    "    \n",
    "    perc_ = a_ if omega_ <= 0. else (1. - a_)\n",
    "    q_ = norm.ppf(perc_)\n",
    "    \n",
    "    var_ = vol_**2 * delta_\n",
    "    exp_factor_ = np.exp(-0.5 * var_ + np.sqrt(var_) * q_)\n",
    "    \n",
    "    tmp_res_ = 1. - exp_factor_\n",
    "    \n",
    "    return np.sign(omega_) * tmp_res_ * fact_f_(t_)\n",
    "\n",
    "B = partial(B_, fact, sigma, delta)"
   ]
  },
  {
   "cell_type": "code",
   "execution_count": 12,
   "metadata": {
    "ExecuteTime": {
     "end_time": "2017-07-17T10:36:49.756000Z",
     "start_time": "2017-07-17T10:36:49.746000Z"
    },
    "collapsed": true
   },
   "outputs": [],
   "source": [
    "def C_(fact_f_, vol_, delta_, t_):\n",
    "    x_ = 0.5 * vol_ * np.sqrt(delta_)\n",
    "    fact_ = fact_f_(t_)\n",
    "    \n",
    "    cdf1 = norm.cdf(x_)\n",
    "    cdf2 = norm.cdf(-x_)\n",
    "    \n",
    "    return fact_ * (cdf1 - cdf2)\n",
    "\n",
    "C = partial(C_, fact, sigma, delta)"
   ]
  },
  {
   "cell_type": "code",
   "execution_count": 13,
   "metadata": {
    "ExecuteTime": {
     "end_time": "2017-07-17T10:36:49.771000Z",
     "start_time": "2017-07-17T10:36:49.758000Z"
    },
    "collapsed": true
   },
   "outputs": [],
   "source": [
    "def A_(fact_f_, vol_, delta_, a_, omega_, t_):\n",
    "    if a_ <= 0.5: \n",
    "        a_ = 1. - a_\n",
    "    \n",
    "    var_ = vol_**2 * delta_\n",
    "    \n",
    "    perc_ = a_ if omega_ <= 0. else (1. - a_)\n",
    "    q_ = norm.ppf(perc_)\n",
    "    sqrt_var_ = np.sqrt(var_)\n",
    "    var_factor_ = np.exp(sqrt_var_ * q_)\n",
    "    \n",
    "    sgn_omega_ = np.sign(omega_)\n",
    "    es_gauss_ = - norm.pdf(norm.ppf(a_)) / (1. - a_) * sgn_omega_\n",
    "    es_factor_ = np.exp(sqrt_var_ * es_gauss_)\n",
    "    \n",
    "    diff_term_ = (var_factor_ - es_factor_) * sgn_omega_\n",
    "    \n",
    "    comm_factor_ = (1. - a_) * fact_f_(t_) * np.exp(-0.5 * var_)\n",
    "    \n",
    "    res_ = comm_factor_ * diff_term_\n",
    "    return res_\n",
    "\n",
    "A = partial(A_, fact, sigma, delta)"
   ]
  },
  {
   "cell_type": "code",
   "execution_count": 14,
   "metadata": {
    "ExecuteTime": {
     "end_time": "2017-07-17T10:36:49.797000Z",
     "start_time": "2017-07-17T10:36:49.773000Z"
    },
    "collapsed": true
   },
   "outputs": [],
   "source": [
    "def compute_mva0_ul(q):\n",
    "    mva0_ul = pd.Series(index=c_ids)\n",
    "\n",
    "    for id_ in c_ids:\n",
    "        pos_ = POSITIONS[id_]\n",
    "        nom_i = np.abs(pos_) * notional\n",
    "\n",
    "        factor = S0 * (1 - RECOV) * nom_i\n",
    "\n",
    "        def integrand(t_):\n",
    "            Bt_ = B(q, pos_, t_)\n",
    "            gamma_t_ = copula.tot_gamma(t_, id_)\n",
    "            surv_proba_t_ = copula.tot_survival_proba(t_, id_)\n",
    "\n",
    "            return Bt_ * gamma_t_ * surv_proba_t_\n",
    "\n",
    "        sub_indexes_ = copula.get_indexes_including(id_)\n",
    "        int_pillars_ = set(copula.pillars[sub_indexes_].flatten())\n",
    "        swap_pillars_ = set(swap.pillars)\n",
    "\n",
    "        cut_times_ = list(int_pillars_ | swap_pillars_)\n",
    "        cut_times_.sort()\n",
    "\n",
    "        integral_ = 0.\n",
    "        for t_i_, t_ip1_ in zip(cut_times_[:-1], cut_times_[1:]):\n",
    "            x__ = np.linspace(t_i_, t_ip1_, 10)\n",
    "            y__ = [integrand(x_i_) for x_i_ in x__]\n",
    "            tmp_int__ = simps(y__, x__)\n",
    "            integral_ += tmp_int__\n",
    "\n",
    "        mva0 = factor * integral_\n",
    "        mva0_ul[id_] = mva0\n",
    "        \n",
    "    return mva0_ul"
   ]
  },
  {
   "cell_type": "code",
   "execution_count": 15,
   "metadata": {
    "ExecuteTime": {
     "end_time": "2017-07-17T10:36:49.825000Z",
     "start_time": "2017-07-17T10:36:49.799000Z"
    },
    "collapsed": true
   },
   "outputs": [],
   "source": [
    "def compute_mva0_sl(q):    \n",
    "    mva0_sl = pd.Series(index=c_ids)\n",
    "\n",
    "    for id_ in c_ids:\n",
    "        pos_ = POSITIONS[id_]\n",
    "        nom_i = np.abs(pos_) * notional\n",
    "\n",
    "        factor = S0 * nom_i\n",
    "\n",
    "        def integrand(t_):\n",
    "            Ct_ = C(t_)\n",
    "            A_i_t_ = A(q, pos_, t_)\n",
    "            gamma_t_ = copula.tot_gamma(t_, id_)\n",
    "            surv_proba_t_ = copula.tot_survival_proba(t_, id_)\n",
    "\n",
    "            return (Ct_ - A_i_t_) * gamma_t_ * surv_proba_t_\n",
    "\n",
    "        sub_indexes_ = copula.get_indexes_including(id_)\n",
    "        int_pillars_ = set(copula.pillars[sub_indexes_].flatten())\n",
    "        swap_pillars_ = set(swap.pillars)\n",
    "\n",
    "        cut_times_ = list(int_pillars_ | swap_pillars_)\n",
    "        cut_times_.sort()\n",
    "\n",
    "        integral_ = 0.\n",
    "        for t_i_, t_ip1_ in zip(cut_times_[:-1], cut_times_[1:]):\n",
    "            x__ = np.linspace(t_i_, t_ip1_, 10)\n",
    "            y__ = [integrand(x_i_) for x_i_ in x__]\n",
    "            tmp_int__ = simps(y__, x__)\n",
    "            integral_ += tmp_int__\n",
    "\n",
    "        mva0 = factor * integral_\n",
    "        mva0_sl[id_] = mva0\n",
    "        \n",
    "    return mva0_sl"
   ]
  },
  {
   "cell_type": "code",
   "execution_count": 16,
   "metadata": {
    "ExecuteTime": {
     "end_time": "2017-07-17T10:36:49.839000Z",
     "start_time": "2017-07-17T10:36:49.827000Z"
    },
    "collapsed": true
   },
   "outputs": [],
   "source": [
    "def map_id_label(c_id_):\n",
    "    pos_ = POSITIONS[c_id_]\n",
    "    spread_ =  IDS_SPREADS[c_id_]\n",
    "    \n",
    "    pos_string_ = \"%.2f\" % abs(pos_)\n",
    "    if pos_ > 0:\n",
    "        pos_string_ = \"(\" + pos_string_ + \")\"\n",
    "    \n",
    "    res = r'$%i \\rm{bps}$''\\n''$%s$' % (spread_, pos_string_)\n",
    "    \n",
    "    return res"
   ]
  },
  {
   "cell_type": "code",
   "execution_count": 17,
   "metadata": {
    "ExecuteTime": {
     "end_time": "2017-07-17T10:36:49.851000Z",
     "start_time": "2017-07-17T10:36:49.843000Z"
    },
    "collapsed": true
   },
   "outputs": [],
   "source": [
    "spreads = [176, 45, 367, 1053, 73, 56, 52, 61, 108]\n",
    "ids_spreads = dict((id_, spread_) for (id_, spread_) in zip(c_ids, spreads))\n",
    "\n",
    "sorted_bc_ids = sorted(ids_spreads.items(), key=lambda x: x[1])\n",
    "sorted_bc_ids_spreads = [x[0] for x in sorted_bc_ids]\n",
    "\n",
    "labels_spreads = map(map_id_label, sorted_bc_ids_spreads)"
   ]
  },
  {
   "cell_type": "code",
   "execution_count": 18,
   "metadata": {
    "ExecuteTime": {
     "end_time": "2017-07-17T10:36:56.186000Z",
     "start_time": "2017-07-17T10:36:49.854000Z"
    },
    "collapsed": true
   },
   "outputs": [],
   "source": [
    "mva0_ul = pd.DataFrame(index=c_ids)\n",
    "\n",
    "for quantile in [0.7, 0.8, 0.9, 0.975]:\n",
    "    mva0_ul[quantile] = compute_mva0_ul(quantile)    \n",
    "    \n",
    "mva0_ul.index = mva0_ul.index.map(map_id_label)\n",
    "mva0_ul.columns = mva0_ul.columns.map(lambda x: r'$%.1f \\%%$' % (x * 100))"
   ]
  },
  {
   "cell_type": "code",
   "execution_count": 19,
   "metadata": {
    "ExecuteTime": {
     "end_time": "2017-07-17T10:36:57.753000Z",
     "start_time": "2017-07-17T10:36:56.188000Z"
    }
   },
   "outputs": [
    {
     "data": {
      "image/png": "[encoded data removed]",
      "text/plain": [
       "<matplotlib.figure.Figure at 0x13566d30>"
      ]
     },
     "metadata": {},
     "output_type": "display_data"
    }
   ],
   "source": [
    "mva0_ul = mva0_ul.reindex(labels_spreads)\n",
    "\n",
    "mva0_ul.plot.bar(rot=0)\n",
    "\n",
    "formatter_pct = lambda x, pos: r'$%.0f$' % (x * 10000)\n",
    "formatter_pct = FuncFormatter(formatter_pct)\n",
    "\n",
    "plt.gca().yaxis.set_major_formatter(formatter_pct)\n",
    "\n",
    "plt.legend(loc='best', fontsize=labelsize)\n",
    "plt.tick_params(axis='both', which='major', labelsize=labelsize-2)\n",
    "\n",
    "plt.title(r'$MVA_0^{ub}\\mathrm{\\,\\, of \\,\\, each \\,\\, member \\,\\, for \\,\\, different \\,\\, values \\,\\, of \\,\\,} a_{im}$', \n",
    "          y=1.03, \n",
    "          fontsize=titlesize)\n",
    "\n",
    "plt.show()"
   ]
  },
  {
   "cell_type": "code",
   "execution_count": 20,
   "metadata": {
    "ExecuteTime": {
     "end_time": "2017-07-17T10:37:07.677000Z",
     "start_time": "2017-07-17T10:36:57.755000Z"
    },
    "collapsed": true
   },
   "outputs": [],
   "source": [
    "mva0_sl = pd.DataFrame(index=c_ids)\n",
    "\n",
    "for quantile in [0.7, 0.8, 0.9, 0.975]:\n",
    "    mva0_sl[quantile] = compute_mva0_sl(quantile)    \n",
    "    \n",
    "mva0_sl.index = mva0_sl.index.map(map_id_label)\n",
    "mva0_sl.columns = mva0_sl.columns.map(lambda x: r'$%.1f \\%%$' % (x * 100))"
   ]
  },
  {
   "cell_type": "code",
   "execution_count": 21,
   "metadata": {
    "ExecuteTime": {
     "end_time": "2017-07-17T10:37:08.980000Z",
     "start_time": "2017-07-17T10:37:07.679000Z"
    }
   },
   "outputs": [
    {
     "data": {
      "image/png": "[encoded data removed]",
      "text/plain": [
       "<matplotlib.figure.Figure at 0xb223780>"
      ]
     },
     "metadata": {},
     "output_type": "display_data"
    }
   ],
   "source": [
    "mva0_sl = mva0_sl.reindex(labels_spreads)\n",
    "\n",
    "mva0_sl.plot.bar(rot=0)\n",
    "\n",
    "formatter_pct = lambda x, pos: r'$%.0f$' % (x * 10000)\n",
    "formatter_pct = FuncFormatter(formatter_pct)\n",
    "\n",
    "plt.gca().yaxis.set_major_formatter(formatter_pct)\n",
    "\n",
    "plt.legend(loc='best', fontsize=labelsize)\n",
    "plt.tick_params(axis='both', which='major', labelsize=labelsize-2)\n",
    "\n",
    "plt.title(r'$MVA_0^{sl}\\mathrm{\\,\\, of \\,\\, each \\,\\, member \\,\\, for \\,\\, different \\,\\, values \\,\\, of \\,\\,} a_{im}$', \n",
    "          y=1.03, \n",
    "          fontsize=titlesize)\n",
    "\n",
    "plt.show()"
   ]
  }
 ],
 "metadata": {
  "anaconda-cloud": {},
  "kernelspec": {
   "display_name": "Python [default]",
   "language": "python",
   "name": "python2"
  },
  "language_info": {
   "codemirror_mode": {
    "name": "ipython",
    "version": 2
   },
   "file_extension": ".py",
   "mimetype": "text/x-python",
   "name": "python",
   "nbconvert_exporter": "python",
   "pygments_lexer": "ipython2",
   "version": "2.7.12"
  }
 },
 "nbformat": 4,
 "nbformat_minor": 1
}
