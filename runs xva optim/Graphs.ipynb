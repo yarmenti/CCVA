{
 "cells": [
  {
   "cell_type": "code",
   "execution_count": null,
   "metadata": {
    "collapsed": false
   },
   "outputs": [],
   "source": [
    "import sys\n",
    "\n",
    "sys.path.append('..')"
   ]
  },
  {
   "cell_type": "code",
   "execution_count": null,
   "metadata": {
    "collapsed": false
   },
   "outputs": [],
   "source": [
    "import matplotlib.pyplot as plt\n",
    "%matplotlib inline\n",
    "\n",
    "import seaborn as sns\n",
    "sns.set_context('talk')"
   ]
  },
  {
   "cell_type": "code",
   "execution_count": null,
   "metadata": {
    "collapsed": true
   },
   "outputs": [],
   "source": [
    "from matplotlib.ticker import FuncFormatter\n",
    "\n",
    "formatter_pct = FuncFormatter(lambda y, pos: \"%.f %%\" % y)\n",
    "formatter_bps = FuncFormatter(lambda y, pos: \"%.0f\" % (10**4 * y))"
   ]
  },
  {
   "cell_type": "code",
   "execution_count": null,
   "metadata": {
    "collapsed": false
   },
   "outputs": [],
   "source": [
    "import dill\n",
    "\n",
    "loaded_data = None\n",
    "\n",
    "with open('precomputed_sims/data1.pkl', 'rb') as f:\n",
    "    loaded_data = dill.load(f)"
   ]
  },
  {
   "cell_type": "code",
   "execution_count": null,
   "metadata": {
    "collapsed": true
   },
   "outputs": [],
   "source": [
    "maturity = loaded_data[\"randomization\"][\"maturity\"]\n",
    "udlyings = loaded_data[\"underlyings\"]"
   ]
  },
  {
   "cell_type": "code",
   "execution_count": null,
   "metadata": {
    "collapsed": false
   },
   "outputs": [],
   "source": [
    "import numpy as np\n",
    "\n",
    "times_cva = np.arange(0, maturity, 0.5)\n",
    "\n",
    "shifted_times_cva = times_cva + 1.\n",
    "shifted_times_cva[-1] = maturity"
   ]
  },
  {
   "cell_type": "code",
   "execution_count": null,
   "metadata": {
    "collapsed": true
   },
   "outputs": [],
   "source": [
    "from finance.discountfactor import ConstantRateDiscountFactor \n",
    "\n",
    "r = 0.02\n",
    "discount = ConstantRateDiscountFactor(r)"
   ]
  },
  {
   "cell_type": "code",
   "execution_count": null,
   "metadata": {
    "collapsed": true
   },
   "outputs": [],
   "source": [
    "hurdle_rate = 0.1"
   ]
  },
  {
   "cell_type": "markdown",
   "metadata": {},
   "source": [
    "# Code for the one year integral of loss:\n",
    "\n",
    "\\begin{equation*}\n",
    "\\int_{t}^{t+1} \\beta_s d \\varrho_s^{ccp} = \n",
    "\\sum_{t < \\tau_i^{\\delta} \\leq t+1}\n",
    "\\left( \n",
    "\\beta_{\\tau_i^{\\delta}} \\left( MtM^i_{\\tau_i^\\delta} + \\Delta^i_{\\tau_i^\\delta} \\right)\n",
    "- \\beta_{\\tau_i} ({\\rm VM}^{i}_{\\tau_i} + {\\rm IM}^i_{\\tau_i} ) \n",
    "\\right)^+ \n",
    "- \\left( \n",
    "\\beta_t \\mathrm{CVA}_{t}^{ccp}\n",
    "-\\beta_{t+1} \\mathrm{CVA}_{t+1}^{ccp}\n",
    "\\right)\n",
    "\\end{equation*}"
   ]
  },
  {
   "cell_type": "code",
   "execution_count": null,
   "metadata": {
    "collapsed": true
   },
   "outputs": [],
   "source": [
    "def compute_varrho_ccp(loss_dfr, cva_t0_dfr, cva_t1_dfr, t0_, t1_, incl_cva):\n",
    "    rho = loss_dfr.sum(axis=1) \n",
    "    \n",
    "    if incl_cva:\n",
    "        rho += discount(t1_) * cva_t1_dfr.sum(axis=1)\n",
    "        rho -= discount(t0_) * cva_t0_dfr.sum(axis=1)\n",
    "    \n",
    "    return rho"
   ]
  },
  {
   "cell_type": "code",
   "execution_count": null,
   "metadata": {
    "collapsed": true
   },
   "outputs": [],
   "source": [
    "import pandas as pd\n",
    "import os\n",
    "\n",
    "#loss_path = './res/aggregated/loss_1y_ahead/'\n",
    "#cva_path = './res/aggregated/cva_ccp/'\n",
    "\n",
    "#loss_path = './res/sim5/loss_1y_ahead/'\n",
    "#cva_path = './res/sim5/cva_ccp/'"
   ]
  },
  {
   "cell_type": "code",
   "execution_count": null,
   "metadata": {
    "collapsed": false
   },
   "outputs": [],
   "source": [
    "def compute_1y_ahead_varrho_ccp(times_cva_, shifted_times_cva_, incl_cva=True):\n",
    "    varrho_ccp = dict()\n",
    "    \n",
    "    for t0_, t1_ in zip(times_cva_, shifted_times_cva_):\n",
    "        cur_loss_int = \"[%.2f, %.2f]\" % (t0_, t1_)\n",
    "        loss_path_ = os.path.join(loss_path, 'loss_%s.csv' % cur_loss_int)\n",
    "        loss_ahead = pd.read_csv(loss_path_, index_col=0, header=0)\n",
    "    \n",
    "        cur_t0 = \"%.2f\" % t0_\n",
    "        cva_t0_path = os.path.join(cva_path, 'cva_%s.csv' % cur_t0)\n",
    "        cva_t0 = pd.read_csv(cva_t0_path, index_col=0, header=0)\n",
    "    \n",
    "        cur_t1 = \"%.2f\" % t1_\n",
    "        cva_t1_path = os.path.join(cva_path, 'cva_%s.csv' % cur_t1)\n",
    "        cva_t1 = pd.read_csv(cva_t1_path, index_col=0, header=0)\n",
    "    \n",
    "        col_names = ['all', 17, 9, 29, 26, 50, 4, 5, 13, 64]\n",
    "        varrho_ccp_t0_t1 = {}\n",
    "    \n",
    "        for col in col_names:\n",
    "            if col == 'all':\n",
    "                varrho_ser = compute_varrho_ccp(loss_ahead, cva_t0, cva_t1, t0_, t1_, incl_cva)\n",
    "            else:\n",
    "                col = unicode(col)\n",
    "                loss__ = loss_ahead.drop(col, 1)\n",
    "                cva_t0__ = cva_t0.drop(col, 1)\n",
    "                cva_t1__ = cva_t1.drop(col, 1)\n",
    "            \n",
    "                varrho_ser = compute_varrho_ccp(loss__, cva_t0__, cva_t1__, t0_, t1_, incl_cva)    \n",
    "    \n",
    "            varrho_ccp_t0_t1[col] = varrho_ser\n",
    "        \n",
    "        varrho_ccp[cur_loss_int] = pd.DataFrame(varrho_ccp_t0_t1)\n",
    "    \n",
    "    return varrho_ccp"
   ]
  },
  {
   "cell_type": "markdown",
   "metadata": {},
   "source": [
    "Code for the $KVA$:\n",
    "\n",
    "\\begin{equation*}\n",
    "KVA_t = h \\mathbb{E}_t \\left( \\int_t^T e^{-(r+h)s} DF_s ds \\right)\n",
    "\\end{equation*}\n",
    "\n",
    "In our context, $DF_s = DF(s)$, moreover, it is stepwise constant. So the $KVA$ definition yields:\n",
    "\n",
    "\\begin{align*}\n",
    "KVA_t &=& h \\left( \\int_t^T e^{-(r+h)s} DF(s) ds \\right) \\\\\n",
    "&=& h \\sum_{i=0}^n DF(t_i) \\left( \\int_{t_i}^{t_{i+1}} e^{-(r+h)s} ds \\right) \\\\\n",
    "&=& -\\frac{h}{r+h} \\sum_{i=0}^n DF(t_i) \\left( e^{-(r+h) t_{i+1}} - e^{-(r+h) t_i} \\right)\n",
    "\\end{align*}\n",
    "\n",
    "with $(t_0, t_1, \\dots, t_{n+1})$ the subdivision that makes jump $DF$ with $t_0 = t$ and $t_{n+1} = T$\n"
   ]
  },
  {
   "cell_type": "code",
   "execution_count": null,
   "metadata": {
    "collapsed": true
   },
   "outputs": [],
   "source": [
    "def compute_kva(r_, h_, maturity_, def_fund_serie_):\n",
    "    time_grid_ = def_fund_serie_.index.values\n",
    "    time_grid_ = np.append(time_grid_, maturity)\n",
    "    \n",
    "    exp_factors_ = np.exp(-(r_ + h_) * time_grid_)\n",
    "    delta_exp_factors_ = np.ediff1d(exp_factors_)\n",
    "    \n",
    "    df_exp_ = np.multiply(delta_exp_factors_, def_fund_serie_.values)\n",
    "    kva_ = -h_ / (r_ + h_) * df_exp_\n",
    "    kva_ = kva_[::-1].cumsum()[::-1]\n",
    "    \n",
    "    res = pd.Series(data=kva_, index=def_fund_serie_.index)\n",
    "    return res"
   ]
  },
  {
   "cell_type": "code",
   "execution_count": null,
   "metadata": {
    "collapsed": false
   },
   "outputs": [],
   "source": [
    "varrho_ccp = compute_1y_ahead_varrho_ccp(times_cva, shifted_times_cva, incl_cva=True)"
   ]
  },
  {
   "cell_type": "code",
   "execution_count": null,
   "metadata": {
    "collapsed": true
   },
   "outputs": [],
   "source": [
    "varrho_ccp_time = pd.DataFrame({key: value['all'] for (key, value) in zip(times_cva, varrho_ccp.values())})"
   ]
  },
  {
   "cell_type": "code",
   "execution_count": null,
   "metadata": {
    "collapsed": true
   },
   "outputs": [],
   "source": [
    "v_alpha = np.array([70, 80, 85, 90, 95, 97.5])[::-1]"
   ]
  },
  {
   "cell_type": "code",
   "execution_count": null,
   "metadata": {
    "collapsed": false,
    "scrolled": false
   },
   "outputs": [],
   "source": [
    "#f, axarr = plt.subplots(len(v_alpha), figsize = (15, 20))\n",
    "for i, alpha in enumerate(v_alpha):\n",
    "    var_alpha_no_time = varrho_ccp_time.quantile(alpha / 100., interpolation='linear')\n",
    "    es_alpha_no_time = varrho_ccp_time[varrho_ccp_time >= var_alpha_no_time]\n",
    "    es_alpha_no_time = es_alpha_no_time.mean(axis=0)\n",
    "    kva_no_time = compute_kva(r, hurdle_rate, maturity, es_alpha_no_time)\n",
    "    \n",
    "    #axarr[i].plot(es_alpha_no_time.index, \n",
    "    plt.plot(es_alpha_no_time.index, \n",
    "                  es_alpha_no_time, \n",
    "                  label=r'$EC_t$ %.1f %%' % alpha)\n",
    "    \n",
    "    #axarr[i].plot(kva_no_time.index, \n",
    "    plt.plot(kva_no_time.index, \n",
    "                  kva_no_time, \n",
    "                  label=r'$KVA_t$ %.1f %%' % alpha)\n",
    "    \n",
    "    #axarr[i].plot(var_alpha_no_time.index, \n",
    "    plt.plot(var_alpha_no_time.index, \n",
    "                  var_alpha_no_time, \n",
    "                  label=r'$\\mathbb{V}a\\mathbb{R}_t$ %.1f %%' % alpha)\n",
    "            \n",
    "    #axarr[i].yaxis.set_major_formatter(formatter_bps)\n",
    "    plt.gca().yaxis.set_major_formatter(formatter_bps)\n",
    "        \n",
    "    #axarr[i].legend(loc='best')\n",
    "    plt.legend(loc='best')\n",
    "    \n",
    "    plt.savefig('./res/lin_interpol_%.2f.png' % alpha)\n",
    "    plt.clf()"
   ]
  },
  {
   "cell_type": "code",
   "execution_count": null,
   "metadata": {
    "collapsed": false
   },
   "outputs": [],
   "source": [
    "#f, axarr = plt.subplots(len(v_alpha), figsize = (15, 20))\n",
    "for i, alpha in enumerate(v_alpha):\n",
    "    var_alpha_no_time = varrho_ccp_time.quantile(alpha / 100., interpolation='linear')\n",
    "    es_alpha_no_time = varrho_ccp_time[varrho_ccp_time >= var_alpha_no_time]\n",
    "    es_alpha_no_time = es_alpha_no_time.mean(axis=0)\n",
    "    kva_no_time = compute_kva(r, hurdle_rate, maturity, es_alpha_no_time)\n",
    "    \n",
    "    #axarr[i].step(es_alpha_no_time.index, \n",
    "    plt.step(es_alpha_no_time.index, \n",
    "                  es_alpha_no_time, \n",
    "                  where='post', \n",
    "                  label=r'$EC_t$ %.1f %%' % alpha)\n",
    "    \n",
    "    #axarr[i].step(kva_no_time.index, \n",
    "    plt.step(kva_no_time.index, \n",
    "                  kva_no_time, \n",
    "                  where='post', label=r'$KVA_t$ %.1f %%' % alpha)\n",
    "    \n",
    "    #axarr[i].step(var_alpha_no_time.index, \n",
    "    plt.step(var_alpha_no_time.index, \n",
    "                  var_alpha_no_time, \n",
    "                  where='post', \n",
    "                  label=r'$\\mathbb{V}a\\mathbb{R}_t$ %.1f %%' % alpha)\n",
    "            \n",
    "    #axarr[i].yaxis.set_major_formatter(formatter_bps)\n",
    "    plt.gca().yaxis.set_major_formatter(formatter_bps)\n",
    "        \n",
    "    #axarr[i].legend(loc='best')\n",
    "    plt.legend(loc='best')\n",
    "    \n",
    "    plt.savefig('./res/step_cst_%.2f.png' % alpha)\n",
    "    plt.clf()"
   ]
  },
  {
   "cell_type": "code",
   "execution_count": null,
   "metadata": {
    "collapsed": false,
    "scrolled": false
   },
   "outputs": [],
   "source": [
    "#f, axarr = plt.subplots(len(v_alpha), figsize = (15, 20))\n",
    "for i, alpha in enumerate(v_alpha):\n",
    "    var_alpha_no_time = varrho_ccp_time.quantile(alpha / 100., interpolation='linear')\n",
    "    es_alpha_no_time = varrho_ccp_time[varrho_ccp_time >= var_alpha_no_time]\n",
    "    es_alpha_no_time = es_alpha_no_time.mean(axis=0)\n",
    "    kva_no_time = compute_kva(r, hurdle_rate, maturity, es_alpha_no_time)\n",
    "    \n",
    "    dict_to_plot = {}\n",
    "    dict_to_plot[r'$KVA_t$ %.1f %%' % alpha] = kva_no_time.values\n",
    "    dict_to_plot[r'$EC_t$ %.1f %%' % alpha] = es_alpha_no_time.values\n",
    "    dict_to_plot[r'$\\mathbb{V}a\\mathbb{R}_t$ %.1f %%' % alpha] = var_alpha_no_time.values\n",
    "    \n",
    "    df_to_plot = pd.DataFrame(dict_to_plot, index=times_cva)\n",
    "    \n",
    "    #df_to_plot.plot.bar(legend=True, ax=axarr[i])   \n",
    "    #axarr[i].yaxis.set_major_formatter(formatter_bps)\n",
    "    \n",
    "    ax = df_to_plot.plot.bar(legend=True)\n",
    "    ax.yaxis.set_major_formatter(formatter_bps)\n",
    "    fig = ax.get_figure()\n",
    "    fig.savefig('./res/bar_%.2f.png' % alpha)"
   ]
  },
  {
   "cell_type": "markdown",
   "metadata": {},
   "source": [
    "# Code to compare the default fund at time 0 between Armenti and Crepey, and the $\\mathbb{E}S$ in this paper."
   ]
  },
  {
   "cell_type": "code",
   "execution_count": null,
   "metadata": {
    "collapsed": true
   },
   "outputs": [],
   "source": [
    "c_ids = [17, 9, 29, 26, 50, 4, 5, 13, 64]\n",
    "c_positions = [0.69, -0.46, -0.44, -0.36, 0.34, 0.23, 0.09, -0.05, -0.04]"
   ]
  },
  {
   "cell_type": "markdown",
   "metadata": {},
   "source": [
    "## Code Armenti and Crepey"
   ]
  },
  {
   "cell_type": "code",
   "execution_count": null,
   "metadata": {
    "collapsed": true
   },
   "outputs": [],
   "source": [
    "copula = loaded_data[\"credit\"][\"copula\"]\n",
    "c_subsets_indexes = loaded_data[\"credit\"][\"bc_subsets_indexes\"]\n",
    "obligors_nb = len(copula.subsets[c_subsets_indexes[-1]][0])\n",
    "\n",
    "positions = np.zeros(obligors_nb)\n",
    "for idx, ps in zip(c_ids, c_positions):\n",
    "    positions[idx] = ps\n",
    "\n",
    "positions = positions / -positions[13]\n",
    "positions = np.array(positions).reshape(positions.size, 1)"
   ]
  },
  {
   "cell_type": "code",
   "execution_count": null,
   "metadata": {
    "collapsed": true
   },
   "outputs": [],
   "source": [
    "udlyings = loaded_data[\"underlyings\"]\n",
    "\n",
    "gbm0 = udlyings[0]\n",
    "kappa = gbm0.drifts[0][0]\n",
    "sigma = gbm0.vols[0][0]"
   ]
  },
  {
   "cell_type": "code",
   "execution_count": null,
   "metadata": {
    "collapsed": false
   },
   "outputs": [],
   "source": [
    "from finance.products.european.swap import SwapContract\n",
    "\n",
    "swap_delta = 0.25\n",
    "\n",
    "swap_dates = SwapContract.generate_payment_dates(0, maturity, swap_delta)\n",
    "swap = SwapContract(gbm0, discount, swap_dates)"
   ]
  },
  {
   "cell_type": "code",
   "execution_count": null,
   "metadata": {
    "collapsed": true
   },
   "outputs": [],
   "source": [
    "p_fixed = 1.\n",
    "strike = swap.strike\n",
    "\n",
    "delta_times = swap.delta_time\n",
    "discount_factors = [discount(t) for t in swap.pillars[1:]]\n",
    "\n",
    "delta_beta_sum = np.dot(delta_times, discount_factors)\n",
    "\n",
    "notional = p_fixed / (strike * delta_beta_sum)"
   ]
  },
  {
   "cell_type": "code",
   "execution_count": null,
   "metadata": {
    "collapsed": true
   },
   "outputs": [],
   "source": [
    "from risk.exposures import EuropeanVaRGeomBrownianExposure\n",
    "\n",
    "exposure = EuropeanVaRGeomBrownianExposure(swap, discount, kappa, sigma)"
   ]
  },
  {
   "cell_type": "code",
   "execution_count": null,
   "metadata": {
    "collapsed": false
   },
   "outputs": [],
   "source": [
    "from finance.portfolio import CCPPortfolio\n",
    "from risk.basel.exposures import BaselExposureAtDefault\n",
    "from risk.basel.eee import BlackScholesSwapVaREffExpectExposure\n",
    "from ccp.covertworule import LCHEmirCoverTwo\n",
    "\n",
    "port = CCPPortfolio(positions, [notional], [swap], [exposure])\n",
    "eee = BlackScholesSwapVaREffExpectExposure(swap)\n",
    "ead = BaselExposureAtDefault(port, [eee])\n",
    "\n",
    "epsilon_ead = 1./12\n",
    "step = 1 / 360.\n",
    "delta = 5 * step\n",
    "quantile_im = 0.70\n",
    "\n",
    "exposure_at_defaults_0 = ead(t=0., epsilon=epsilon_ead, risk_period=delta, alpha=quantile_im)\n",
    "\n",
    "cover2rule = LCHEmirCoverTwo()\n",
    "\n",
    "default_fund_armenti_crepey_0 = cover2rule(exposure_at_defaults_0)\n",
    "\n",
    "print \"Default fund size at t=0 in Armenti and Crepey: %.2f bps\" % (default_fund_armenti_crepey_0 * 10**4)"
   ]
  },
  {
   "cell_type": "markdown",
   "metadata": {},
   "source": [
    "## Code $\\mathbb{E}S$"
   ]
  },
  {
   "cell_type": "code",
   "execution_count": null,
   "metadata": {
    "collapsed": true
   },
   "outputs": [],
   "source": [
    "varrho_0 = varrho_ccp_time[0]"
   ]
  },
  {
   "cell_type": "code",
   "execution_count": null,
   "metadata": {
    "collapsed": true
   },
   "outputs": [],
   "source": [
    "def compute_es(alpha_, serie_):\n",
    "    var_ = serie_.quantile(alpha_ / 100., interpolation='linear')\n",
    "    es_ = serie_[serie_ >= var_].mean()\n",
    "    return es_\n",
    "\n",
    "def quantile_objective(alpha_, serie_, should_equal_):\n",
    "    return compute_es(alpha_, serie_) - should_equal_"
   ]
  },
  {
   "cell_type": "code",
   "execution_count": null,
   "metadata": {
    "collapsed": false
   },
   "outputs": [],
   "source": [
    "from scipy.optimize import brentq\n",
    "\n",
    "quantile_star = brentq(quantile_objective, 50, 100, args=(varrho_0, default_fund_armenti_crepey_0))\n",
    "\n",
    "print \"Quantile level that gives the same result: %.2f %%\" % quantile_star\n",
    "\n",
    "to_print = \"Level of default fund. ES = %.3f, Armenti_Crepey = %.3f\"\n",
    "es_equi_df = compute_es(quantile_star, varrho_0)\n",
    "print to_print % (es_equi_df * 10**4 , default_fund_armenti_crepey_0* 10**4)"
   ]
  },
  {
   "cell_type": "code",
   "execution_count": null,
   "metadata": {
    "collapsed": false
   },
   "outputs": [],
   "source": [
    "quantiles_level = np.linspace(60, 100, 150)\n",
    "default_fund_0 = map(lambda q: compute_es(q, varrho_0), quantiles_level)\n",
    "\n",
    "plt.plot(quantiles_level, default_fund_0, c=sns.color_palette()[0])\n",
    "plt.plot(quantile_star, compute_es(quantile_star, varrho_0), 'ro', lw = 6, c=sns.color_palette()[2])\n",
    "plt.annotate(r'$DF_0(a) = %.0f \\, \\, bps$' % (es_equi_df * 10**4) + '\\n' + r'$a = %.3f \\%%$' % (quantile_star), \n",
    "             xy=(quantile_star, es_equi_df), xytext=(65, 5 * es_equi_df), \n",
    "             arrowprops=dict(facecolor='black', shrink=0.02))\n",
    "plt.xlabel(r'$a$')\n",
    "plt.ylabel(r'$DF_0(a)$')\n",
    "\n",
    "plt.gca().xaxis.set_major_formatter(formatter_pct)\n",
    "plt.gca().yaxis.set_major_formatter(formatter_bps)\n",
    "\n",
    "plt.savefig('./res/df_equi_a.png')\n",
    "\n",
    "#plt.show()"
   ]
  },
  {
   "cell_type": "code",
   "execution_count": null,
   "metadata": {
    "collapsed": false
   },
   "outputs": [],
   "source": [
    "var_alpha_no_time = varrho_ccp_time.quantile(quantile_star / 100., interpolation='linear')\n",
    "es_alpha_no_time = varrho_ccp_time[varrho_ccp_time >= var_alpha_no_time]\n",
    "es_alpha_no_time = es_alpha_no_time.mean(axis=0)\n",
    "kva_alpha_no_time = compute_kva(r, hurdle_rate, maturity, es_alpha_no_time)\n",
    "\n",
    "plt.plot(es_alpha_no_time.index,\n",
    "         es_alpha_no_time,\n",
    "         label=r'$EC_t$ %.2f %%' % quantile_star)\n",
    "\n",
    "plt.plot(kva_alpha_no_time.index,\n",
    "         kva_alpha_no_time,\n",
    "         label=r'$KVA_t$ %.2f %%' % quantile_star)\n",
    "\n",
    "plt.plot(var_alpha_no_time.index,\n",
    "         var_alpha_no_time,\n",
    "         label=r'$\\mathbb{V}a\\mathbb{R}_t$ %.2f %%' % quantile_star)\n",
    "\n",
    "#es_alpha_no_time.plot(legend=True, \n",
    "#                      label=r'$EC_t$ %.2f %%' % quantile_star)\n",
    "\n",
    "#kva_alpha_no_time.plot(legend=True, \n",
    "#                       label=r'$KVA_t$ %.2f %%' % quantile_star)\n",
    "\n",
    "#var_alpha_no_time.plot(legend=True, \n",
    "#                       label=r'$\\mathbb{V}a\\mathbb{R}_t$ %.2f %%' % quantile_star)\n",
    "\n",
    "plt.gca().yaxis.set_major_formatter(formatter_bps)\n",
    "plt.legend(loc='best')\n",
    " \n",
    "plt.savefig('./res/lin_interpol_optimal.png')\n",
    "    \n",
    "#plt.show()"
   ]
  },
  {
   "cell_type": "code",
   "execution_count": null,
   "metadata": {
    "collapsed": false
   },
   "outputs": [],
   "source": [
    "plt.step(es_alpha_no_time.index, \n",
    "         es_alpha_no_time, \n",
    "         where='post', \n",
    "         label=r'$\\mathbb{E}S_t$ %.2f %%' % quantile_star)\n",
    "\n",
    "plt.step(kva_alpha_no_time.index, \n",
    "         kva_alpha_no_time, \n",
    "         where='post', label=r'$KVA_t$ %.2f %%' % quantile_star)\n",
    "\n",
    "plt.step(var_alpha_no_time.index, \n",
    "         var_alpha_no_time, \n",
    "         where='post', \n",
    "         label=r'$\\mathbb{V}a\\mathbb{R}_t$ %.2f %%' % quantile_star)\n",
    "\n",
    "plt.gca().yaxis.set_major_formatter(formatter_bps)\n",
    "plt.legend(loc='best')\n",
    "\n",
    "plt.savefig('./res/step_cst_optimal.png')\n",
    "\n",
    "#plt.show()"
   ]
  },
  {
   "cell_type": "code",
   "execution_count": null,
   "metadata": {
    "collapsed": false
   },
   "outputs": [],
   "source": [
    "dict_to_plot = {}\n",
    "dict_to_plot[r'$KVA_t$ %.2f %%' % quantile_star] = kva_alpha_no_time.values\n",
    "dict_to_plot[r'$EC_t$ %.2f %%' % quantile_star] = es_alpha_no_time.values\n",
    "dict_to_plot[r'$\\mathbb{V}a\\mathbb{R}_t$ %.2f %%' % quantile_star] = var_alpha_no_time.values\n",
    "    \n",
    "df_to_plot = pd.DataFrame(dict_to_plot, index=times_cva)\n",
    "df_to_plot.plot.bar(legend=True, xticks=times_cva)\n",
    "\n",
    "plt.gca().yaxis.set_major_formatter(formatter_bps)\n",
    "plt.legend(loc='best')\n",
    "\n",
    "plt.savefig('./res/bar_optimal.png')\n",
    "\n",
    "#plt.show()"
   ]
  },
  {
   "cell_type": "markdown",
   "metadata": {},
   "source": [
    "# Computations of $X^{(-j)}$"
   ]
  },
  {
   "cell_type": "markdown",
   "metadata": {},
   "source": [
    "## Code computation for IM in Armenti and Crepey"
   ]
  },
  {
   "cell_type": "code",
   "execution_count": null,
   "metadata": {
    "collapsed": false
   },
   "outputs": [],
   "source": [
    "def armenti_crepey_im_0(c_id_):\n",
    "    return port.compute_exposure(0., risk_period=delta, conf_level=quantile_im, towards_=c_id_)\n",
    "    \n",
    "armenti_crepey_im_0_ids = map(armenti_crepey_im_0, c_ids)\n",
    "\n",
    "im_props = armenti_crepey_im_0_ids / sum(armenti_crepey_im_0_ids) * 100\n",
    "\n",
    "im_props = pd.Series(im_props.flatten(), index=map(unicode, c_ids))\n",
    "\n",
    "print im_props"
   ]
  },
  {
   "cell_type": "markdown",
   "metadata": {},
   "source": [
    "## Code for our paper"
   ]
  },
  {
   "cell_type": "code",
   "execution_count": null,
   "metadata": {
    "collapsed": false
   },
   "outputs": [],
   "source": [
    "print varrho_ccp.keys()"
   ]
  },
  {
   "cell_type": "code",
   "execution_count": null,
   "metadata": {
    "collapsed": false,
    "scrolled": true
   },
   "outputs": [],
   "source": [
    "varrho_ccp_0 = varrho_ccp['[0.00, 1.00]']\n",
    "\n",
    "var_0 = varrho_ccp_0.quantile(quantile_star / 100., interpolation='linear')\n",
    "es_0 = varrho_ccp_0[varrho_ccp_0 >= var_0].mean(axis=0)\n",
    "\n",
    "delta_es = es_0['all'] - es_0\n",
    "\n",
    "print \"Delta ES / sum (Delta ES)\"\n",
    "print\n",
    "print delta_es / delta_es.sum() * 100"
   ]
  },
  {
   "cell_type": "code",
   "execution_count": null,
   "metadata": {
    "collapsed": false
   },
   "outputs": [],
   "source": [
    "col_names = ['all', 17, 9, 29, 26, 50, 4, 5, 13, 64]\n",
    "\n",
    "kva_serie_0 = pd.Series(index=map(unicode, col_names))\n",
    "\n",
    "for col_name in col_names:\n",
    "    c_id = unicode(col_name)\n",
    "    varrho_ccp_time_c_id = pd.DataFrame({key: value[c_id] for (key, value) in zip(times_cva, varrho_ccp.values())})\n",
    "    \n",
    "    var_alpha_no_time_c_id = varrho_ccp_time_c_id.quantile(quantile_star / 100., interpolation='linear')\n",
    "    es_alpha_no_time_c_id = varrho_ccp_time_c_id[varrho_ccp_time_c_id >= var_alpha_no_time_c_id].mean(axis=0)\n",
    "    \n",
    "    kva_no_time_c_id = compute_kva(r, hurdle_rate, maturity, es_alpha_no_time_c_id)\n",
    "    \n",
    "    kva_c_id_0 = kva_no_time_c_id[0]\n",
    "    \n",
    "    kva_serie_0[c_id] = kva_c_id_0\n",
    "    \n",
    "delta_kva = kva_serie_0['all'] - kva_serie_0\n",
    "\n",
    "print \"Delta KVA / sum (Delta KVA)\"\n",
    "print\n",
    "print delta_kva / delta_kva.sum() * 100"
   ]
  },
  {
   "cell_type": "code",
   "execution_count": null,
   "metadata": {
    "collapsed": false
   },
   "outputs": [],
   "source": [
    "es_prop = delta_es / delta_es.sum() * 100\n",
    "es_prop = es_prop.drop('all')\n",
    "\n",
    "kva_prop = delta_kva / delta_kva.sum() * 100\n",
    "kva_prop = kva_prop.drop('all')\n",
    "\n",
    "bc_ids = [17, 9, 29, 26, 50, 4, 5, 13, 64]\n",
    "spreads = [176, 45, 367, 1053, 73, 56, 52, 61, 108]\n",
    "ids_spreads = dict((id_, spread_) for (id_, spread_) in zip(bc_ids, spreads))\n",
    "\n",
    "sorted_bc_ids = sorted(ids_spreads.items(), key=lambda x: x[1])\n",
    "sorted_bc_ids = [x[0] for x in sorted_bc_ids]\n",
    "\n",
    "def map_id_label(c_id_):\n",
    "    pos_ = positions[c_id_]\n",
    "    spread_ =  ids_spreads[c_id_]\n",
    "    \n",
    "    pos_string_ = \"%.2f\" % abs(pos_)\n",
    "    if pos_ < 0:\n",
    "        pos_string_ = \"(\" + pos_string_ + \")\"\n",
    "    \n",
    "    return '%i bps \\n%s' % (spread_, pos_string_) \n",
    "\n",
    "labels = map(map_id_label, sorted_bc_ids)\n",
    "print labels"
   ]
  },
  {
   "cell_type": "code",
   "execution_count": null,
   "metadata": {
    "collapsed": false
   },
   "outputs": [],
   "source": [
    "proportions_df = pd.DataFrame(columns=[r'$\\mu_0^{EC}$', r'$\\mu_0^{KVA}$', r'$\\mu_0^{IM}$'], index=labels)\n",
    "\n",
    "for id_ in sorted_bc_ids:\n",
    "    label_id_ = map_id_label(id_)\n",
    "\n",
    "    es_prop_id = es_prop[unicode(id_)]\n",
    "    proportions_df.set_value(label_id_, r'$\\mu_0^{EC}$', es_prop_id)\n",
    "    \n",
    "    kva_prop_id = kva_prop[unicode(id_)]\n",
    "    proportions_df.set_value(label_id_, r'$\\mu_0^{KVA}$', kva_prop_id)\n",
    "    \n",
    "    im_prop_id = im_props[unicode(id_)]\n",
    "    proportions_df.set_value(label_id_, r'$\\mu_0^{IM}$', im_prop_id)\n",
    "    \n",
    "ax = proportions_df.plot.bar()\n",
    "\n",
    "ax.yaxis.set_major_formatter(formatter_pct)\n",
    "plt.xticks(rotation=0)\n",
    "\n",
    "plt.savefig('./res/proportions.png')\n",
    "\n",
    "plt.show()"
   ]
  }
 ],
 "metadata": {
  "kernelspec": {
   "display_name": "Python 2",
   "language": "python",
   "name": "python2"
  },
  "language_info": {
   "codemirror_mode": {
    "name": "ipython",
    "version": 2
   },
   "file_extension": ".py",
   "mimetype": "text/x-python",
   "name": "python",
   "nbconvert_exporter": "python",
   "pygments_lexer": "ipython2",
   "version": "2.7.11"
  }
 },
 "nbformat": 4,
 "nbformat_minor": 0
}
