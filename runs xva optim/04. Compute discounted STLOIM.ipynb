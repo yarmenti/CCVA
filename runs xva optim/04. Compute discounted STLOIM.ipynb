{
 "cells": [
  {
   "cell_type": "code",
   "execution_count": 1,
   "metadata": {
    "collapsed": true
   },
   "outputs": [],
   "source": [
    "res_path = './res/aggregated/'\n",
    "loss_part_path = 'loss_1y_ahead'\n",
    "im_part_path = 'im'"
   ]
  },
  {
   "cell_type": "code",
   "execution_count": 2,
   "metadata": {
    "collapsed": true
   },
   "outputs": [],
   "source": [
    "import os\n",
    "\n",
    "import numpy as np\n",
    "import pandas as pd"
   ]
  },
  {
   "cell_type": "code",
   "execution_count": 3,
   "metadata": {
    "collapsed": false
   },
   "outputs": [],
   "source": [
    "loss_path = os.path.join(res_path, loss_part_path)\n",
    "im_path = os.path.join(res_path, im_part_path)"
   ]
  },
  {
   "cell_type": "code",
   "execution_count": 4,
   "metadata": {
    "collapsed": true
   },
   "outputs": [],
   "source": [
    "maturity = 5.\n",
    "\n",
    "times_cva = np.arange(0, maturity, 0.5)\n",
    "\n",
    "shifted_times_cva = times_cva + 1.\n",
    "shifted_times_cva[-1] = maturity"
   ]
  },
  {
   "cell_type": "code",
   "execution_count": 5,
   "metadata": {
    "collapsed": true
   },
   "outputs": [],
   "source": [
    "#QUANTILES = [0.95, 0.99, 0.997]\n",
    "QUANTILES = np.linspace(0.85, 0.997, 20)"
   ]
  },
  {
   "cell_type": "code",
   "execution_count": 7,
   "metadata": {
    "collapsed": false
   },
   "outputs": [],
   "source": [
    "for t0, t1 in zip(times_cva, shifted_times_cva):\n",
    "    int_str = '[%.2f, %.2f]' % (t0, t1)\n",
    "    \n",
    "    fname = 'loss_no_im%s.csv' % (int_str)\n",
    "    loss_fname = os.path.join(loss_path, fname)\n",
    "    loss_pd = pd.read_csv(loss_fname, header=0, index_col=0)\n",
    "    \n",
    "    for q in QUANTILES:\n",
    "        crt_im_q_path = os.path.join(im_path, '%s' % (q))\n",
    "        im_fname = 'im%s.csv' % (int_str)\n",
    "        im_fname = os.path.join(crt_im_q_path, im_fname)\n",
    "        \n",
    "        im_pd = pd.read_csv(im_fname, header=0, index_col=0)\n",
    "        pd_l_oim = (loss_pd - im_pd)\n",
    "        pd_l_oim[pd_l_oim < 0] = 0.\n",
    "        \n",
    "        fname = 'loim_%s_%s.csv' % (int_str, q)\n",
    "        path_to_save = os.path.join(res_path, 'loss_over_im/', fname)\n",
    "        pd_l_oim.to_csv(path_to_save)"
   ]
  }
 ],
 "metadata": {
  "anaconda-cloud": {},
  "kernelspec": {
   "display_name": "Python [conda root]",
   "language": "python",
   "name": "conda-root-py"
  },
  "language_info": {
   "codemirror_mode": {
    "name": "ipython",
    "version": 2
   },
   "file_extension": ".py",
   "mimetype": "text/x-python",
   "name": "python",
   "nbconvert_exporter": "python",
   "pygments_lexer": "ipython2",
   "version": "2.7.12"
  }
 },
 "nbformat": 4,
 "nbformat_minor": 1
}
