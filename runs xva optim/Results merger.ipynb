{
 "cells": [
  {
   "cell_type": "code",
   "execution_count": 1,
   "metadata": {
    "collapsed": true
   },
   "outputs": [],
   "source": [
    "import sys\n",
    "\n",
    "sys.path.append('..')"
   ]
  },
  {
   "cell_type": "code",
   "execution_count": 2,
   "metadata": {
    "collapsed": true
   },
   "outputs": [],
   "source": [
    "import pandas as pd\n",
    "import numpy as np\n",
    "import os\n",
    "\n",
    "final_root_path = './res/aggregated/'\n",
    "\n",
    "res_root_path = './res/sim%i'\n",
    "\n",
    "loss_path = 'loss_1y_ahead'\n",
    "cva_path = 'cva_ccp'"
   ]
  },
  {
   "cell_type": "code",
   "execution_count": 3,
   "metadata": {
    "collapsed": true
   },
   "outputs": [],
   "source": [
    "import itertools"
   ]
  },
  {
   "cell_type": "code",
   "execution_count": 4,
   "metadata": {
    "collapsed": false
   },
   "outputs": [
    {
     "name": "stdout",
     "output_type": "stream",
     "text": [
      "./res/sim1\\cva_ccp\\cva_0.00.csv\n",
      "./res/sim1\\cva_ccp\\cva_0.50.csv\n",
      "./res/sim1\\cva_ccp\\cva_1.00.csv\n",
      "./res/sim1\\cva_ccp\\cva_1.50.csv\n",
      "./res/sim1\\cva_ccp\\cva_2.00.csv\n",
      "./res/sim1\\cva_ccp\\cva_2.50.csv\n",
      "./res/sim1\\cva_ccp\\cva_3.00.csv\n",
      "./res/sim1\\cva_ccp\\cva_3.50.csv\n",
      "./res/sim1\\cva_ccp\\cva_4.00.csv\n",
      "./res/sim1\\cva_ccp\\cva_4.50.csv\n",
      "./res/sim1\\loss_1y_ahead\\loss_[0.00, 1.00].csv\n",
      "./res/sim1\\loss_1y_ahead\\loss_[0.50, 1.50].csv\n",
      "./res/sim1\\loss_1y_ahead\\loss_[1.00, 2.00].csv\n",
      "./res/sim1\\loss_1y_ahead\\loss_[1.50, 2.50].csv\n",
      "./res/sim1\\loss_1y_ahead\\loss_[2.00, 3.00].csv\n",
      "./res/sim1\\loss_1y_ahead\\loss_[2.50, 3.50].csv\n",
      "./res/sim1\\loss_1y_ahead\\loss_[3.00, 4.00].csv\n",
      "./res/sim1\\loss_1y_ahead\\loss_[3.50, 4.50].csv\n",
      "./res/sim1\\loss_1y_ahead\\loss_[4.00, 5.00].csv\n",
      "./res/sim1\\loss_1y_ahead\\loss_[4.50, 5.00].csv\n",
      "./res/sim2\\cva_ccp\\cva_0.00.csv\n",
      "./res/sim2\\cva_ccp\\cva_0.50.csv\n",
      "./res/sim2\\cva_ccp\\cva_1.00.csv\n",
      "./res/sim2\\cva_ccp\\cva_1.50.csv\n",
      "./res/sim2\\cva_ccp\\cva_2.00.csv\n",
      "./res/sim2\\cva_ccp\\cva_2.50.csv\n",
      "./res/sim2\\cva_ccp\\cva_3.00.csv\n",
      "./res/sim2\\cva_ccp\\cva_3.50.csv\n",
      "./res/sim2\\cva_ccp\\cva_4.00.csv\n",
      "./res/sim2\\cva_ccp\\cva_4.50.csv\n",
      "./res/sim2\\loss_1y_ahead\\loss_[0.00, 1.00].csv\n",
      "./res/sim2\\loss_1y_ahead\\loss_[0.50, 1.50].csv\n",
      "./res/sim2\\loss_1y_ahead\\loss_[1.00, 2.00].csv\n",
      "./res/sim2\\loss_1y_ahead\\loss_[1.50, 2.50].csv\n",
      "./res/sim2\\loss_1y_ahead\\loss_[2.00, 3.00].csv\n",
      "./res/sim2\\loss_1y_ahead\\loss_[2.50, 3.50].csv\n",
      "./res/sim2\\loss_1y_ahead\\loss_[3.00, 4.00].csv\n",
      "./res/sim2\\loss_1y_ahead\\loss_[3.50, 4.50].csv\n",
      "./res/sim2\\loss_1y_ahead\\loss_[4.00, 5.00].csv\n",
      "./res/sim2\\loss_1y_ahead\\loss_[4.50, 5.00].csv\n",
      "./res/sim3\\cva_ccp\\cva_0.00.csv\n",
      "./res/sim3\\cva_ccp\\cva_0.50.csv\n",
      "./res/sim3\\cva_ccp\\cva_1.00.csv\n",
      "./res/sim3\\cva_ccp\\cva_1.50.csv\n",
      "./res/sim3\\cva_ccp\\cva_2.00.csv\n",
      "./res/sim3\\cva_ccp\\cva_2.50.csv\n",
      "./res/sim3\\cva_ccp\\cva_3.00.csv\n",
      "./res/sim3\\cva_ccp\\cva_3.50.csv\n",
      "./res/sim3\\cva_ccp\\cva_4.00.csv\n",
      "./res/sim3\\cva_ccp\\cva_4.50.csv\n",
      "./res/sim3\\loss_1y_ahead\\loss_[0.00, 1.00].csv\n",
      "./res/sim3\\loss_1y_ahead\\loss_[0.50, 1.50].csv\n",
      "./res/sim3\\loss_1y_ahead\\loss_[1.00, 2.00].csv\n",
      "./res/sim3\\loss_1y_ahead\\loss_[1.50, 2.50].csv\n",
      "./res/sim3\\loss_1y_ahead\\loss_[2.00, 3.00].csv\n",
      "./res/sim3\\loss_1y_ahead\\loss_[2.50, 3.50].csv\n",
      "./res/sim3\\loss_1y_ahead\\loss_[3.00, 4.00].csv\n",
      "./res/sim3\\loss_1y_ahead\\loss_[3.50, 4.50].csv\n",
      "./res/sim3\\loss_1y_ahead\\loss_[4.00, 5.00].csv\n",
      "./res/sim3\\loss_1y_ahead\\loss_[4.50, 5.00].csv\n",
      "./res/sim4\\cva_ccp\\cva_0.00.csv\n",
      "./res/sim4\\cva_ccp\\cva_0.50.csv\n",
      "./res/sim4\\cva_ccp\\cva_1.00.csv\n",
      "./res/sim4\\cva_ccp\\cva_1.50.csv\n",
      "./res/sim4\\cva_ccp\\cva_2.00.csv\n",
      "./res/sim4\\cva_ccp\\cva_2.50.csv\n",
      "./res/sim4\\cva_ccp\\cva_3.00.csv\n",
      "./res/sim4\\cva_ccp\\cva_3.50.csv\n",
      "./res/sim4\\cva_ccp\\cva_4.00.csv\n",
      "./res/sim4\\cva_ccp\\cva_4.50.csv\n",
      "./res/sim4\\loss_1y_ahead\\loss_[0.00, 1.00].csv\n",
      "./res/sim4\\loss_1y_ahead\\loss_[0.50, 1.50].csv\n",
      "./res/sim4\\loss_1y_ahead\\loss_[1.00, 2.00].csv\n",
      "./res/sim4\\loss_1y_ahead\\loss_[1.50, 2.50].csv\n",
      "./res/sim4\\loss_1y_ahead\\loss_[2.00, 3.00].csv\n",
      "./res/sim4\\loss_1y_ahead\\loss_[2.50, 3.50].csv\n",
      "./res/sim4\\loss_1y_ahead\\loss_[3.00, 4.00].csv\n",
      "./res/sim4\\loss_1y_ahead\\loss_[3.50, 4.50].csv\n",
      "./res/sim4\\loss_1y_ahead\\loss_[4.00, 5.00].csv\n",
      "./res/sim4\\loss_1y_ahead\\loss_[4.50, 5.00].csv\n",
      "./res/sim5\\cva_ccp\\cva_0.00.csv\n",
      "./res/sim5\\cva_ccp\\cva_0.50.csv\n",
      "./res/sim5\\cva_ccp\\cva_1.00.csv\n",
      "./res/sim5\\cva_ccp\\cva_1.50.csv\n",
      "./res/sim5\\cva_ccp\\cva_2.00.csv\n",
      "./res/sim5\\cva_ccp\\cva_2.50.csv\n",
      "./res/sim5\\cva_ccp\\cva_3.00.csv\n",
      "./res/sim5\\cva_ccp\\cva_3.50.csv\n",
      "./res/sim5\\cva_ccp\\cva_4.00.csv\n",
      "./res/sim5\\cva_ccp\\cva_4.50.csv\n",
      "./res/sim5\\loss_1y_ahead\\loss_[0.00, 1.00].csv\n",
      "./res/sim5\\loss_1y_ahead\\loss_[0.50, 1.50].csv\n",
      "./res/sim5\\loss_1y_ahead\\loss_[1.00, 2.00].csv\n",
      "./res/sim5\\loss_1y_ahead\\loss_[1.50, 2.50].csv\n",
      "./res/sim5\\loss_1y_ahead\\loss_[2.00, 3.00].csv\n",
      "./res/sim5\\loss_1y_ahead\\loss_[2.50, 3.50].csv\n",
      "./res/sim5\\loss_1y_ahead\\loss_[3.00, 4.00].csv\n",
      "./res/sim5\\loss_1y_ahead\\loss_[3.50, 4.50].csv\n",
      "./res/sim5\\loss_1y_ahead\\loss_[4.00, 5.00].csv\n",
      "./res/sim5\\loss_1y_ahead\\loss_[4.50, 5.00].csv\n"
     ]
    }
   ],
   "source": [
    "loss_ahead_dict = dict()\n",
    "cva_dict = dict()\n",
    "\n",
    "for i in itertools.count():\n",
    "    if i == 0:\n",
    "        continue\n",
    "    \n",
    "    test_path = res_root_path % i\n",
    "    \n",
    "    if os.path.isdir(test_path):\n",
    "        crt_cva_path = os.path.join(test_path, cva_path)\n",
    "        for fname in os.listdir(crt_cva_path):\n",
    "            if fname not in cva_dict:\n",
    "                cva_dict[fname] = pd.DataFrame()\n",
    "            \n",
    "            path_file = os.path.join(crt_cva_path, fname)\n",
    "            print path_file\n",
    "            pd_df_ = pd.read_csv(path_file, index_col=0, header=0)\n",
    "            cva_dict[fname] = cva_dict[fname].append(pd_df_, ignore_index=True)\n",
    "            \n",
    "        crt_loss_path = os.path.join(test_path, loss_path)\n",
    "        for fname in os.listdir(crt_loss_path):\n",
    "            if fname not in loss_ahead_dict:\n",
    "                loss_ahead_dict[fname] = pd.DataFrame()\n",
    "            \n",
    "            path_file = os.path.join(crt_loss_path, fname)\n",
    "            print path_file\n",
    "            pd_df_ = pd.read_csv(path_file, index_col=0, header=0)\n",
    "            loss_ahead_dict[fname] = loss_ahead_dict[fname].append(pd_df_, ignore_index=True)\n",
    "    else:\n",
    "        break"
   ]
  },
  {
   "cell_type": "code",
   "execution_count": 5,
   "metadata": {
    "collapsed": false
   },
   "outputs": [
    {
     "name": "stdout",
     "output_type": "stream",
     "text": [
      "./res/aggregated/cva_ccp/cva_1.00.csv\n",
      "./res/aggregated/cva_ccp/cva_2.50.csv\n",
      "./res/aggregated/cva_ccp/cva_0.00.csv\n",
      "./res/aggregated/cva_ccp/cva_0.50.csv\n",
      "./res/aggregated/cva_ccp/cva_3.50.csv\n",
      "./res/aggregated/cva_ccp/cva_3.00.csv\n",
      "./res/aggregated/cva_ccp/cva_1.50.csv\n",
      "./res/aggregated/cva_ccp/cva_4.50.csv\n",
      "./res/aggregated/cva_ccp/cva_2.00.csv\n",
      "./res/aggregated/cva_ccp/cva_4.00.csv\n",
      "./res/aggregated/loss_1y_ahead/loss_[2.00, 3.00].csv\n",
      "./res/aggregated/loss_1y_ahead/loss_[1.50, 2.50].csv\n",
      "./res/aggregated/loss_1y_ahead/loss_[1.00, 2.00].csv\n",
      "./res/aggregated/loss_1y_ahead/loss_[4.00, 5.00].csv\n",
      "./res/aggregated/loss_1y_ahead/loss_[0.50, 1.50].csv\n",
      "./res/aggregated/loss_1y_ahead/loss_[4.50, 5.00].csv\n",
      "./res/aggregated/loss_1y_ahead/loss_[0.00, 1.00].csv\n",
      "./res/aggregated/loss_1y_ahead/loss_[3.50, 4.50].csv\n",
      "./res/aggregated/loss_1y_ahead/loss_[3.00, 4.00].csv\n",
      "./res/aggregated/loss_1y_ahead/loss_[2.50, 3.50].csv\n"
     ]
    }
   ],
   "source": [
    "for k, v in cva_dict.iteritems():\n",
    "    path = os.path.join(final_root_path, cva_path + \"/\", k)\n",
    "    print path\n",
    "    v.to_csv(path)\n",
    "\n",
    "for k, v in loss_ahead_dict.iteritems():\n",
    "    path = os.path.join(final_root_path, loss_path + '/', k)\n",
    "    print path\n",
    "    v.to_csv(path)"
   ]
  },
  {
   "cell_type": "code",
   "execution_count": 6,
   "metadata": {
    "collapsed": true
   },
   "outputs": [],
   "source": [
    "pd_df = cva_dict.values()[0].copy()\n",
    "pd_df[:] = 0.\n",
    "\n",
    "path = os.path.join(final_root_path, cva_path + '/', \"cva_5.00.csv\")\n",
    "pd_df.to_csv(path)"
   ]
  },
  {
   "cell_type": "code",
   "execution_count": 7,
   "metadata": {
    "collapsed": false
   },
   "outputs": [],
   "source": [
    "for i in itertools.count():\n",
    "    if i == 0:\n",
    "        continue\n",
    "    \n",
    "    test_path = res_root_path % i\n",
    "    \n",
    "    if os.path.isdir(test_path):\n",
    "        crt_cva_path = os.path.join(test_path, cva_path)\n",
    "        tmp_df = pd.read_csv(crt_cva_path + '/cva_0.00.csv')\n",
    "        tmp_df[:] = 0.\n",
    "        tmp_df.to_csv(crt_cva_path + '/cva_5.00.csv')\n",
    "    else:\n",
    "        break"
   ]
  },
  {
   "cell_type": "code",
   "execution_count": 8,
   "metadata": {
    "collapsed": false
   },
   "outputs": [],
   "source": [
    "default_times_DF = pd.DataFrame()\n",
    "\n",
    "for i in itertools.count():\n",
    "    if i == 0:\n",
    "        continue\n",
    "    \n",
    "    test_path = res_root_path % i\n",
    "    \n",
    "    if os.path.isdir(test_path):\n",
    "        tmp_path = os.path.join(test_path, 'df_times.csv')\n",
    "        tmp_df_times = pd.read_csv(tmp_path, index_col=0, header=0).transpose()\n",
    "        default_times_DF = default_times_DF.append(tmp_df_times, ignore_index=True)\n",
    "    else:\n",
    "        break\n",
    "        \n",
    "default_times_DF = default_times_DF.transpose()\n",
    "\n",
    "default_times_DF.to_csv(final_root_path + 'default_times.csv')"
   ]
  }
 ],
 "metadata": {
  "kernelspec": {
   "display_name": "Python 2",
   "language": "python",
   "name": "python2"
  },
  "language_info": {
   "codemirror_mode": {
    "name": "ipython",
    "version": 2
   },
   "file_extension": ".py",
   "mimetype": "text/x-python",
   "name": "python",
   "nbconvert_exporter": "python",
   "pygments_lexer": "ipython2",
   "version": "2.7.11"
  }
 },
 "nbformat": 4,
 "nbformat_minor": 0
}
