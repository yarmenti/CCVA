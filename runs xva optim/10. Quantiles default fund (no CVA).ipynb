{
 "cells": [
  {
   "cell_type": "code",
   "execution_count": 1,
   "metadata": {
    "ExecuteTime": {
     "end_time": "2017-07-14T21:55:26.379000Z",
     "start_time": "2017-07-14T21:55:19.662000Z"
    },
    "collapsed": true
   },
   "outputs": [],
   "source": [
    "import numpy as np\n",
    "import pandas as pd\n",
    "\n",
    "from scipy.stats import norm\n",
    "from scipy.integrate import simps\n",
    "from scipy.optimize import brentq\n",
    "\n",
    "import sys\n",
    "import dill\n",
    "\n",
    "from functools import partial\n",
    "import os"
   ]
  },
  {
   "cell_type": "code",
   "execution_count": 2,
   "metadata": {
    "ExecuteTime": {
     "end_time": "2017-07-14T21:55:29.230000Z",
     "start_time": "2017-07-14T21:55:26.379000Z"
    },
    "collapsed": true
   },
   "outputs": [],
   "source": [
    "import matplotlib.pyplot as plt\n",
    "%matplotlib inline\n",
    "\n",
    "import seaborn as sns\n",
    "sns.set_context('talk')"
   ]
  },
  {
   "cell_type": "code",
   "execution_count": 3,
   "metadata": {
    "ExecuteTime": {
     "end_time": "2017-07-14T21:55:29.241000Z",
     "start_time": "2017-07-14T21:55:29.230000Z"
    },
    "collapsed": true
   },
   "outputs": [],
   "source": [
    "labelsize = 18\n",
    "titlesize = 20"
   ]
  },
  {
   "cell_type": "code",
   "execution_count": 4,
   "metadata": {
    "ExecuteTime": {
     "end_time": "2017-07-14T21:55:29.256000Z",
     "start_time": "2017-07-14T21:55:29.244000Z"
    },
    "collapsed": true
   },
   "outputs": [],
   "source": [
    "sys.path.append('..')"
   ]
  },
  {
   "cell_type": "code",
   "execution_count": 5,
   "metadata": {
    "ExecuteTime": {
     "end_time": "2017-07-14T21:55:50.668000Z",
     "start_time": "2017-07-14T21:55:29.259000Z"
    }
   },
   "outputs": [
    {
     "name": "stdout",
     "output_type": "stream",
     "text": [
      "Maturity = 5.0 years\n",
      "Maximum number of paths: 20000\n",
      "kappa = 0.12, sigma = 0.2\n",
      "Swap contract of maturity T = 5 years, over S^0 with strike K = 134.306, paying at {0.00, 0.25, 0.50, 0.75, 1.00, 1.25, 1.50, 1.75, 2.00, 2.25, 2.50, 2.75, 3.00, 3.25, 3.50, 3.75, 4.00, 4.25, 4.50, 4.75, 5.00}\n",
      "Notional on the swap: 0.0015687485053\n",
      "Obligor numbers: 125\n",
      "Counterparties id: [17, 9, 29, 26, 50, 4, 5, 13, 64] (nb = 9)\n",
      "[  0.    0.    0.    0.    4.6   1.8   0.    0.    0.   -9.2   0.    0.\n",
      "   0.   -1.    0.    0.    0.   13.8   0.    0.    0.    0.    0.    0.\n",
      "   0.    0.   -7.2   0.    0.   -8.8   0.    0.    0.    0.    0.    0.\n",
      "   0.    0.    0.    0.    0.    0.    0.    0.    0.    0.    0.    0.\n",
      "   0.    0.    6.8   0.    0.    0.    0.    0.    0.    0.    0.    0.\n",
      "   0.    0.    0.    0.   -0.8   0.    0.    0.    0.    0.    0.    0.\n",
      "   0.    0.    0.    0.    0.    0.    0.    0.    0.    0.    0.    0.\n",
      "   0.    0.    0.    0.    0.    0.    0.    0.    0.    0.    0.    0.\n",
      "   0.    0.    0.    0.    0.    0.    0.    0.    0.    0.    0.    0.\n",
      "   0.    0.    0.    0.    0.    0.    0.    0.    0.    0.    0.    0.\n",
      "   0.    0.    0.    0.    0. ]\n"
     ]
    }
   ],
   "source": [
    "from finance.discountfactor import ConstantRateDiscountFactor\n",
    "from finance.products.european.swap import SwapContract\n",
    "from utils import time_offseter\n",
    "\n",
    "loaded_data = None\n",
    "\n",
    "with open('precomputed_sims/data1.pkl', 'rb') as f:\n",
    "    loaded_data = dill.load(f)\n",
    "    \n",
    "step = 1 / 360.\n",
    "delta = 5 * step\n",
    "\n",
    "maturity = 5.\n",
    "print \"Maturity = %s years\" % maturity\n",
    "\n",
    "r = 0.02\n",
    "discount = ConstantRateDiscountFactor(r)\n",
    "\n",
    "udlyings = loaded_data[\"underlyings\"]\n",
    "print \"Maximum number of paths: %i\" % len(udlyings)\n",
    "\n",
    "GBM0 = udlyings[0]\n",
    "kappa = GBM0.drifts[0][0]\n",
    "sigma = GBM0.vols[0][0]\n",
    "print \"kappa = %s, sigma = %s\" % (kappa, sigma)\n",
    "\n",
    "time_grid = GBM0.time\n",
    "\n",
    "derivatives_nb = 1\n",
    "\n",
    "swap_delta = 0.25\n",
    "swap_dates = SwapContract.generate_payment_dates(0, maturity, swap_delta)\n",
    "swap = SwapContract(GBM0, discount, swap_dates)\n",
    "\n",
    "print swap\n",
    "\n",
    "p_fixed = 1.\n",
    "strike = swap.strike\n",
    "\n",
    "delta_times = swap.delta_time\n",
    "discount_factors = [discount(t) for t in swap.pillars[1:]]\n",
    "\n",
    "delta_beta_sum = np.dot(delta_times, discount_factors)\n",
    "\n",
    "notional = p_fixed / (strike * delta_beta_sum)\n",
    "\n",
    "print \"Notional on the swap: %s\" % notional\n",
    "\n",
    "copula = loaded_data[\"credit\"][\"copula\"]\n",
    "c_subsets_indexes = loaded_data[\"credit\"][\"bc_subsets_indexes\"]\n",
    "obligors_nb = len(copula.subsets[c_subsets_indexes[-1]][0])\n",
    "print \"Obligor numbers: %s\" % obligors_nb\n",
    "\n",
    "c_ids = [17, 9, 29, 26, 50, 4, 5, 13, 64]\n",
    "c_positions = [0.69, -0.46, -0.44, -0.36, 0.34, 0.23, 0.09, -0.05, -0.04]\n",
    "\n",
    "print \"Counterparties id: %s (nb = %s)\" % (c_ids, len(c_ids))\n",
    "\n",
    "POSITIONS = np.zeros(obligors_nb)\n",
    "for idx, ps in zip(c_ids, c_positions):\n",
    "    POSITIONS[idx] = ps\n",
    "\n",
    "POSITIONS = POSITIONS / -POSITIONS[13]\n",
    "POSITIONS = np.array(POSITIONS).flatten()\n",
    "\n",
    "print POSITIONS\n",
    "\n",
    "spreads = [176, 45, 367, 1053, 73, 56, 52, 61, 108]\n",
    "IDS_SPREADS = dict((id_, spread_) for (id_, spread_) in zip(c_ids, spreads))\n",
    "IDS_POSITIONS = dict((id_, pos_) for (id_, pos_) in zip(c_ids, c_positions))"
   ]
  },
  {
   "cell_type": "code",
   "execution_count": 6,
   "metadata": {
    "ExecuteTime": {
     "end_time": "2017-07-14T21:55:50.680000Z",
     "start_time": "2017-07-14T21:55:50.671000Z"
    }
   },
   "outputs": [
    {
     "name": "stdout",
     "output_type": "stream",
     "text": [
      "[ 0.85        0.85773684  0.86547368  0.87321053  0.88094737  0.88868421\n",
      "  0.89642105  0.90415789  0.91189474  0.91963158  0.92736842  0.93510526\n",
      "  0.94284211  0.95057895  0.95831579  0.96605263  0.97378947  0.98152632\n",
      "  0.98926316  0.997     ]\n",
      "\n"
     ]
    }
   ],
   "source": [
    "QUANTILES = np.linspace(0.85, 0.997, 20)\n",
    "print QUANTILES\n",
    "print\n",
    "LOIM_PATH = './res/aggregated/loss_over_im'\n",
    "\n",
    "HURDLE_RATE = 0.1\n",
    "\n",
    "times_cva = np.arange(0, maturity, 0.5)\n",
    "\n",
    "shifted_times_cva = times_cva + 1.\n",
    "shifted_times_cva[-1] = maturity"
   ]
  },
  {
   "cell_type": "code",
   "execution_count": 7,
   "metadata": {
    "ExecuteTime": {
     "end_time": "2017-07-14T21:55:50.700000Z",
     "start_time": "2017-07-14T21:55:50.683000Z"
    },
    "collapsed": true
   },
   "outputs": [],
   "source": [
    "def fact_(swap_, discount_, kappa_, delta_, t_):\n",
    "    time_grid_ = swap_.underlying.time\n",
    "    t_delta_ = time_offseter(t_ + delta_, time_grid_, True)\n",
    "    \n",
    "    coupon_dates_ = swap_.pillars\n",
    "    l_t_delta_ = np.searchsorted(coupon_dates_, t_delta_, side='left')\n",
    "\n",
    "    beta_T_l_ = map(discount_, coupon_dates_[l_t_delta_ + 1 :])    \n",
    "    h_l_ = swap_.delta_time[l_t_delta_ : ]\n",
    "    \n",
    "    T_l_m1_ = kappa_ * coupon_dates_[l_t_delta_ : -1]\n",
    "    exp_factor_ = map(np.exp, T_l_m1_)\n",
    "    \n",
    "    tmp_ = np.multiply(exp_factor_, h_l_)    \n",
    "    res_ = np.dot(beta_T_l_, tmp_)\n",
    "    \n",
    "    return res_\n",
    "\n",
    "fact = partial(fact_, swap, discount, kappa, delta)"
   ]
  },
  {
   "cell_type": "code",
   "execution_count": 8,
   "metadata": {
    "ExecuteTime": {
     "end_time": "2017-07-14T21:55:50.714000Z",
     "start_time": "2017-07-14T21:55:50.703000Z"
    },
    "collapsed": true
   },
   "outputs": [],
   "source": [
    "def B_(fact_f_, vol_, delta_, a_, omega_, t_):\n",
    "    if a_ <= 0.5: \n",
    "        a_ = 1. - a_\n",
    "    \n",
    "    perc_ = a_ if omega_ <= 0. else (1. - a_)\n",
    "    q_ = norm.ppf(perc_)\n",
    "    \n",
    "    var_ = vol_**2 * delta_\n",
    "    exp_factor_ = np.exp(-0.5 * var_ + np.sqrt(var_) * q_)\n",
    "    \n",
    "    tmp_res_ = 1. - exp_factor_\n",
    "    \n",
    "    return np.sign(omega_) * tmp_res_ * fact_f_(t_)\n",
    "\n",
    "B = partial(B_, fact, sigma, delta)"
   ]
  },
  {
   "cell_type": "code",
   "execution_count": 9,
   "metadata": {
    "ExecuteTime": {
     "end_time": "2017-07-14T21:55:50.722000Z",
     "start_time": "2017-07-14T21:55:50.716000Z"
    },
    "collapsed": true
   },
   "outputs": [],
   "source": [
    "def map_id_label(c_id_):\n",
    "    pos_ = POSITIONS[c_id_]\n",
    "    spread_ =  IDS_SPREADS[c_id_]\n",
    "    \n",
    "    pos_string_ = \"%.2f\" % abs(pos_)\n",
    "    if pos_ < 0:\n",
    "        pos_string_ = \"(\" + pos_string_ + \")\"\n",
    "    \n",
    "    return '%i bps \\n%s' % (spread_, pos_string_) "
   ]
  },
  {
   "cell_type": "code",
   "execution_count": 10,
   "metadata": {
    "ExecuteTime": {
     "end_time": "2017-07-14T21:55:50.741000Z",
     "start_time": "2017-07-14T21:55:50.726000Z"
    },
    "collapsed": true
   },
   "outputs": [],
   "source": [
    "def str_quantile(x):\n",
    "    q = x * 100\n",
    "    str_q = '%.1f' % q\n",
    "    if str_q[-1] == '0':\n",
    "        return str_q[:-2] + '%'\n",
    "    \n",
    "    return str_q + '%'"
   ]
  },
  {
   "cell_type": "code",
   "execution_count": 11,
   "metadata": {
    "ExecuteTime": {
     "end_time": "2017-07-14T21:55:50.754000Z",
     "start_time": "2017-07-14T21:55:50.743000Z"
    },
    "collapsed": true
   },
   "outputs": [],
   "source": [
    "def compute_im0(sorted_bc_ids_):\n",
    "    df_im0 = pd.DataFrame()\n",
    "    S0 = GBM0(0.)[0, 0]\n",
    "    \n",
    "    for alpha in QUANTILES:\n",
    "        for id_ in sorted_bc_ids_:\n",
    "            label_id_ = map_id_label(id_)\n",
    "            \n",
    "            pos_ = POSITIONS[id_]\n",
    "            nom_i = np.abs(pos_) * notional\n",
    "            \n",
    "            im0 = S0 * nom_i * B(alpha, pos_, 0.)\n",
    "            \n",
    "            df_im0.set_value(label_id_, str_quantile(alpha), im0)\n",
    "            \n",
    "    return df_im0"
   ]
  },
  {
   "cell_type": "code",
   "execution_count": 12,
   "metadata": {
    "ExecuteTime": {
     "end_time": "2017-07-14T21:55:51.065000Z",
     "start_time": "2017-07-14T21:55:50.757000Z"
    }
   },
   "outputs": [
    {
     "data": {
      "text/html": [
       "<div>\n",
       "<table border=\"1\" class=\"dataframe\">\n",
       "  <thead>\n",
       "    <tr style=\"text-align: right;\">\n",
       "      <th></th>\n",
       "      <th>85%</th>\n",
       "      <th>85.8%</th>\n",
       "      <th>86.5%</th>\n",
       "      <th>87.3%</th>\n",
       "      <th>88.1%</th>\n",
       "      <th>88.9%</th>\n",
       "      <th>89.6%</th>\n",
       "      <th>90.4%</th>\n",
       "      <th>91.2%</th>\n",
       "      <th>92%</th>\n",
       "      <th>92.7%</th>\n",
       "      <th>93.5%</th>\n",
       "      <th>94.3%</th>\n",
       "      <th>95.1%</th>\n",
       "      <th>95.8%</th>\n",
       "      <th>96.6%</th>\n",
       "      <th>97.4%</th>\n",
       "      <th>98.2%</th>\n",
       "      <th>98.9%</th>\n",
       "      <th>99.7%</th>\n",
       "    </tr>\n",
       "  </thead>\n",
       "  <tbody>\n",
       "    <tr>\n",
       "      <th>176 bps \\n13.80</th>\n",
       "      <td>0.323634</td>\n",
       "      <td>0.333929</td>\n",
       "      <td>0.344601</td>\n",
       "      <td>0.355695</td>\n",
       "      <td>0.367260</td>\n",
       "      <td>0.379357</td>\n",
       "      <td>0.392061</td>\n",
       "      <td>0.405460</td>\n",
       "      <td>0.419664</td>\n",
       "      <td>0.434814</td>\n",
       "      <td>0.451091</td>\n",
       "      <td>0.468731</td>\n",
       "      <td>0.488061</td>\n",
       "      <td>0.509541</td>\n",
       "      <td>0.533856</td>\n",
       "      <td>0.562095</td>\n",
       "      <td>0.596159</td>\n",
       "      <td>0.639873</td>\n",
       "      <td>0.703141</td>\n",
       "      <td>0.835121</td>\n",
       "    </tr>\n",
       "    <tr>\n",
       "      <th>45 bps \\n(9.20)</th>\n",
       "      <td>0.216120</td>\n",
       "      <td>0.223332</td>\n",
       "      <td>0.230822</td>\n",
       "      <td>0.238620</td>\n",
       "      <td>0.246763</td>\n",
       "      <td>0.255298</td>\n",
       "      <td>0.264277</td>\n",
       "      <td>0.273766</td>\n",
       "      <td>0.283848</td>\n",
       "      <td>0.294626</td>\n",
       "      <td>0.306233</td>\n",
       "      <td>0.318847</td>\n",
       "      <td>0.332709</td>\n",
       "      <td>0.348161</td>\n",
       "      <td>0.365716</td>\n",
       "      <td>0.386189</td>\n",
       "      <td>0.411006</td>\n",
       "      <td>0.443049</td>\n",
       "      <td>0.489822</td>\n",
       "      <td>0.588923</td>\n",
       "    </tr>\n",
       "    <tr>\n",
       "      <th>367 bps \\n(8.80)</th>\n",
       "      <td>0.206723</td>\n",
       "      <td>0.213622</td>\n",
       "      <td>0.220786</td>\n",
       "      <td>0.228245</td>\n",
       "      <td>0.236034</td>\n",
       "      <td>0.244198</td>\n",
       "      <td>0.252786</td>\n",
       "      <td>0.261863</td>\n",
       "      <td>0.271507</td>\n",
       "      <td>0.281816</td>\n",
       "      <td>0.292919</td>\n",
       "      <td>0.304984</td>\n",
       "      <td>0.318243</td>\n",
       "      <td>0.333024</td>\n",
       "      <td>0.349815</td>\n",
       "      <td>0.369398</td>\n",
       "      <td>0.393136</td>\n",
       "      <td>0.423786</td>\n",
       "      <td>0.468525</td>\n",
       "      <td>0.563318</td>\n",
       "    </tr>\n",
       "    <tr>\n",
       "      <th>1053 bps \\n(7.20)</th>\n",
       "      <td>0.169137</td>\n",
       "      <td>0.174782</td>\n",
       "      <td>0.180643</td>\n",
       "      <td>0.186746</td>\n",
       "      <td>0.193119</td>\n",
       "      <td>0.199798</td>\n",
       "      <td>0.206825</td>\n",
       "      <td>0.214252</td>\n",
       "      <td>0.222142</td>\n",
       "      <td>0.230577</td>\n",
       "      <td>0.239661</td>\n",
       "      <td>0.249532</td>\n",
       "      <td>0.260381</td>\n",
       "      <td>0.272474</td>\n",
       "      <td>0.286213</td>\n",
       "      <td>0.302235</td>\n",
       "      <td>0.321657</td>\n",
       "      <td>0.346734</td>\n",
       "      <td>0.383339</td>\n",
       "      <td>0.460896</td>\n",
       "    </tr>\n",
       "    <tr>\n",
       "      <th>73 bps \\n6.80</th>\n",
       "      <td>0.159472</td>\n",
       "      <td>0.164545</td>\n",
       "      <td>0.169803</td>\n",
       "      <td>0.175270</td>\n",
       "      <td>0.180969</td>\n",
       "      <td>0.186930</td>\n",
       "      <td>0.193189</td>\n",
       "      <td>0.199792</td>\n",
       "      <td>0.206791</td>\n",
       "      <td>0.214256</td>\n",
       "      <td>0.222276</td>\n",
       "      <td>0.230969</td>\n",
       "      <td>0.240494</td>\n",
       "      <td>0.251078</td>\n",
       "      <td>0.263060</td>\n",
       "      <td>0.276975</td>\n",
       "      <td>0.293760</td>\n",
       "      <td>0.315300</td>\n",
       "      <td>0.346475</td>\n",
       "      <td>0.411509</td>\n",
       "    </tr>\n",
       "    <tr>\n",
       "      <th>56 bps \\n4.60</th>\n",
       "      <td>0.107878</td>\n",
       "      <td>0.111310</td>\n",
       "      <td>0.114867</td>\n",
       "      <td>0.118565</td>\n",
       "      <td>0.122420</td>\n",
       "      <td>0.126452</td>\n",
       "      <td>0.130687</td>\n",
       "      <td>0.135153</td>\n",
       "      <td>0.139888</td>\n",
       "      <td>0.144938</td>\n",
       "      <td>0.150364</td>\n",
       "      <td>0.156244</td>\n",
       "      <td>0.162687</td>\n",
       "      <td>0.169847</td>\n",
       "      <td>0.177952</td>\n",
       "      <td>0.187365</td>\n",
       "      <td>0.198720</td>\n",
       "      <td>0.213291</td>\n",
       "      <td>0.234380</td>\n",
       "      <td>0.278374</td>\n",
       "    </tr>\n",
       "    <tr>\n",
       "      <th>52 bps \\n1.80</th>\n",
       "      <td>0.042213</td>\n",
       "      <td>0.043556</td>\n",
       "      <td>0.044948</td>\n",
       "      <td>0.046395</td>\n",
       "      <td>0.047903</td>\n",
       "      <td>0.049481</td>\n",
       "      <td>0.051138</td>\n",
       "      <td>0.052886</td>\n",
       "      <td>0.054739</td>\n",
       "      <td>0.056715</td>\n",
       "      <td>0.058838</td>\n",
       "      <td>0.061139</td>\n",
       "      <td>0.063660</td>\n",
       "      <td>0.066462</td>\n",
       "      <td>0.069633</td>\n",
       "      <td>0.073317</td>\n",
       "      <td>0.077760</td>\n",
       "      <td>0.083462</td>\n",
       "      <td>0.091714</td>\n",
       "      <td>0.108929</td>\n",
       "    </tr>\n",
       "    <tr>\n",
       "      <th>61 bps \\n(1.00)</th>\n",
       "      <td>0.023491</td>\n",
       "      <td>0.024275</td>\n",
       "      <td>0.025089</td>\n",
       "      <td>0.025937</td>\n",
       "      <td>0.026822</td>\n",
       "      <td>0.027750</td>\n",
       "      <td>0.028726</td>\n",
       "      <td>0.029757</td>\n",
       "      <td>0.030853</td>\n",
       "      <td>0.032025</td>\n",
       "      <td>0.033286</td>\n",
       "      <td>0.034657</td>\n",
       "      <td>0.036164</td>\n",
       "      <td>0.037844</td>\n",
       "      <td>0.039752</td>\n",
       "      <td>0.041977</td>\n",
       "      <td>0.044675</td>\n",
       "      <td>0.048158</td>\n",
       "      <td>0.053241</td>\n",
       "      <td>0.064013</td>\n",
       "    </tr>\n",
       "    <tr>\n",
       "      <th>108 bps \\n(0.80)</th>\n",
       "      <td>0.018793</td>\n",
       "      <td>0.019420</td>\n",
       "      <td>0.020071</td>\n",
       "      <td>0.020750</td>\n",
       "      <td>0.021458</td>\n",
       "      <td>0.022200</td>\n",
       "      <td>0.022981</td>\n",
       "      <td>0.023806</td>\n",
       "      <td>0.024682</td>\n",
       "      <td>0.025620</td>\n",
       "      <td>0.026629</td>\n",
       "      <td>0.027726</td>\n",
       "      <td>0.028931</td>\n",
       "      <td>0.030275</td>\n",
       "      <td>0.031801</td>\n",
       "      <td>0.033582</td>\n",
       "      <td>0.035740</td>\n",
       "      <td>0.038526</td>\n",
       "      <td>0.042593</td>\n",
       "      <td>0.051211</td>\n",
       "    </tr>\n",
       "    <tr>\n",
       "      <th>Total IM</th>\n",
       "      <td>1.267460</td>\n",
       "      <td>1.308771</td>\n",
       "      <td>1.351631</td>\n",
       "      <td>1.396221</td>\n",
       "      <td>1.442748</td>\n",
       "      <td>1.491465</td>\n",
       "      <td>1.542671</td>\n",
       "      <td>1.596735</td>\n",
       "      <td>1.654114</td>\n",
       "      <td>1.715387</td>\n",
       "      <td>1.781296</td>\n",
       "      <td>1.852829</td>\n",
       "      <td>1.931330</td>\n",
       "      <td>2.018706</td>\n",
       "      <td>2.117799</td>\n",
       "      <td>2.233132</td>\n",
       "      <td>2.372612</td>\n",
       "      <td>2.552178</td>\n",
       "      <td>2.813231</td>\n",
       "      <td>3.362293</td>\n",
       "    </tr>\n",
       "  </tbody>\n",
       "</table>\n",
       "</div>"
      ],
      "text/plain": [
       "                        85%     85.8%     86.5%     87.3%     88.1%     88.9%  \\\n",
       "176 bps \\n13.80    0.323634  0.333929  0.344601  0.355695  0.367260  0.379357   \n",
       "45 bps \\n(9.20)    0.216120  0.223332  0.230822  0.238620  0.246763  0.255298   \n",
       "367 bps \\n(8.80)   0.206723  0.213622  0.220786  0.228245  0.236034  0.244198   \n",
       "1053 bps \\n(7.20)  0.169137  0.174782  0.180643  0.186746  0.193119  0.199798   \n",
       "73 bps \\n6.80      0.159472  0.164545  0.169803  0.175270  0.180969  0.186930   \n",
       "56 bps \\n4.60      0.107878  0.111310  0.114867  0.118565  0.122420  0.126452   \n",
       "52 bps \\n1.80      0.042213  0.043556  0.044948  0.046395  0.047903  0.049481   \n",
       "61 bps \\n(1.00)    0.023491  0.024275  0.025089  0.025937  0.026822  0.027750   \n",
       "108 bps \\n(0.80)   0.018793  0.019420  0.020071  0.020750  0.021458  0.022200   \n",
       "Total IM           1.267460  1.308771  1.351631  1.396221  1.442748  1.491465   \n",
       "\n",
       "                      89.6%     90.4%     91.2%       92%     92.7%     93.5%  \\\n",
       "176 bps \\n13.80    0.392061  0.405460  0.419664  0.434814  0.451091  0.468731   \n",
       "45 bps \\n(9.20)    0.264277  0.273766  0.283848  0.294626  0.306233  0.318847   \n",
       "367 bps \\n(8.80)   0.252786  0.261863  0.271507  0.281816  0.292919  0.304984   \n",
       "1053 bps \\n(7.20)  0.206825  0.214252  0.222142  0.230577  0.239661  0.249532   \n",
       "73 bps \\n6.80      0.193189  0.199792  0.206791  0.214256  0.222276  0.230969   \n",
       "56 bps \\n4.60      0.130687  0.135153  0.139888  0.144938  0.150364  0.156244   \n",
       "52 bps \\n1.80      0.051138  0.052886  0.054739  0.056715  0.058838  0.061139   \n",
       "61 bps \\n(1.00)    0.028726  0.029757  0.030853  0.032025  0.033286  0.034657   \n",
       "108 bps \\n(0.80)   0.022981  0.023806  0.024682  0.025620  0.026629  0.027726   \n",
       "Total IM           1.542671  1.596735  1.654114  1.715387  1.781296  1.852829   \n",
       "\n",
       "                      94.3%     95.1%     95.8%     96.6%     97.4%     98.2%  \\\n",
       "176 bps \\n13.80    0.488061  0.509541  0.533856  0.562095  0.596159  0.639873   \n",
       "45 bps \\n(9.20)    0.332709  0.348161  0.365716  0.386189  0.411006  0.443049   \n",
       "367 bps \\n(8.80)   0.318243  0.333024  0.349815  0.369398  0.393136  0.423786   \n",
       "1053 bps \\n(7.20)  0.260381  0.272474  0.286213  0.302235  0.321657  0.346734   \n",
       "73 bps \\n6.80      0.240494  0.251078  0.263060  0.276975  0.293760  0.315300   \n",
       "56 bps \\n4.60      0.162687  0.169847  0.177952  0.187365  0.198720  0.213291   \n",
       "52 bps \\n1.80      0.063660  0.066462  0.069633  0.073317  0.077760  0.083462   \n",
       "61 bps \\n(1.00)    0.036164  0.037844  0.039752  0.041977  0.044675  0.048158   \n",
       "108 bps \\n(0.80)   0.028931  0.030275  0.031801  0.033582  0.035740  0.038526   \n",
       "Total IM           1.931330  2.018706  2.117799  2.233132  2.372612  2.552178   \n",
       "\n",
       "                      98.9%     99.7%  \n",
       "176 bps \\n13.80    0.703141  0.835121  \n",
       "45 bps \\n(9.20)    0.489822  0.588923  \n",
       "367 bps \\n(8.80)   0.468525  0.563318  \n",
       "1053 bps \\n(7.20)  0.383339  0.460896  \n",
       "73 bps \\n6.80      0.346475  0.411509  \n",
       "56 bps \\n4.60      0.234380  0.278374  \n",
       "52 bps \\n1.80      0.091714  0.108929  \n",
       "61 bps \\n(1.00)    0.053241  0.064013  \n",
       "108 bps \\n(0.80)   0.042593  0.051211  \n",
       "Total IM           2.813231  3.362293  "
      ]
     },
     "execution_count": 12,
     "metadata": {},
     "output_type": "execute_result"
    }
   ],
   "source": [
    "im0 = compute_im0(c_ids)\n",
    "\n",
    "im0 = im0.transpose()\n",
    "im0['Total IM'] = im0.sum(axis=1)\n",
    "\n",
    "im0 = im0.transpose()\n",
    "\n",
    "im0\n",
    "#im0.plot.bar(rot=0);"
   ]
  },
  {
   "cell_type": "code",
   "execution_count": 13,
   "metadata": {
    "ExecuteTime": {
     "end_time": "2017-07-14T21:55:51.071000Z",
     "start_time": "2017-07-14T21:55:51.067000Z"
    },
    "collapsed": true
   },
   "outputs": [],
   "source": [
    "def objective_es_quantile(q_, beta_t, total_im, serie_, coeff_):\n",
    "    var_ = serie_.quantile(q_, interpolation='linear')\n",
    "    es_ = serie_[serie_ >= var_].mean()\n",
    "    \n",
    "    return es_ / beta_t - coeff_ * total_im"
   ]
  },
  {
   "cell_type": "code",
   "execution_count": 14,
   "metadata": {
    "ExecuteTime": {
     "end_time": "2017-07-14T21:55:51.082000Z",
     "start_time": "2017-07-14T21:55:51.074000Z"
    },
    "collapsed": true,
    "scrolled": true
   },
   "outputs": [],
   "source": [
    "def map_es0_quantile(q, coeff):\n",
    "    str_int = '[0.00, 1.00]'\n",
    "    fname = 'loim_%s_%s.csv' % (str_int, q)\n",
    "    loim_q_path = os.path.join(LOIM_PATH, fname)\n",
    "    loim_df = pd.read_csv(loim_q_path, header=0, index_col=0)\n",
    "    \n",
    "    loim_ser = loim_df.sum(axis=1)\n",
    "    \n",
    "    total_im = im0[str_quantile(q)]['Total IM']\n",
    "    \n",
    "    beta_0 = 1.\n",
    "    \n",
    "    res = brentq(objective_es_quantile, 0., 1., args=(beta_0, total_im, loim_ser, coeff))\n",
    "    return res"
   ]
  },
  {
   "cell_type": "code",
   "execution_count": 15,
   "metadata": {
    "ExecuteTime": {
     "end_time": "2017-07-14T21:56:07.491000Z",
     "start_time": "2017-07-14T21:55:51.085000Z"
    },
    "collapsed": true
   },
   "outputs": [],
   "source": [
    "ES_QUANTILES = {}\n",
    "for coeff in [0.1, 0.15, 0.3, 0.5]:\n",
    "    #ES_QUANTILES[coeff] = map(lambda x: map_es0_quantile(x, coeff), QUANTILES)\n",
    "    ES_QUANTILES[coeff] = []\n",
    "    for q in QUANTILES:\n",
    "        try:\n",
    "            ES_QUANTILES[coeff].append(map_es0_quantile(q, coeff))\n",
    "        except:\n",
    "            ES_QUANTILES[coeff].append(1.)"
   ]
  },
  {
   "cell_type": "code",
   "execution_count": 16,
   "metadata": {
    "ExecuteTime": {
     "end_time": "2017-07-14T21:56:07.515000Z",
     "start_time": "2017-07-14T21:56:07.506000Z"
    },
    "collapsed": true
   },
   "outputs": [],
   "source": [
    "import matplotlib.pyplot as plt\n",
    "%matplotlib inline\n",
    "\n",
    "import seaborn as sns\n",
    "sns.set_context('talk')\n",
    "\n",
    "from matplotlib.ticker import FuncFormatter"
   ]
  },
  {
   "cell_type": "code",
   "execution_count": 17,
   "metadata": {
    "ExecuteTime": {
     "end_time": "2017-07-14T21:56:09.414000Z",
     "start_time": "2017-07-14T21:56:07.519000Z"
    },
    "scrolled": false
   },
   "outputs": [
    {
     "data": {
      "image/png": "[encoded data removed]",
      "text/plain": [
       "<matplotlib.figure.Figure at 0x696dde48>"
      ]
     },
     "metadata": {},
     "output_type": "display_data"
    }
   ],
   "source": [
    "#plt.plot(QUANTILES, ES_QUANTILES[0.5], '-^', label=r'$50\\%%$')\n",
    "plt.plot(QUANTILES, ES_QUANTILES[0.3], ':o', label=r'$30\\%%$')\n",
    "plt.plot(QUANTILES, ES_QUANTILES[0.15], '--v', label=r'$15\\%%$')\n",
    "plt.plot(QUANTILES, ES_QUANTILES[0.1], '-s', label=r'$10\\%%$')\n",
    "\n",
    "plt.xlabel(r'$a_{im}$', fontsize=labelsize)\n",
    "plt.ylabel(r'$a_{df}$', fontsize=labelsize)\n",
    "\n",
    "plt.gca().xaxis.set_major_formatter(FuncFormatter(lambda y, pos: r\"$%.0f\\%%$\" % (10**2 * y)))\n",
    "plt.gca().yaxis.set_major_formatter(FuncFormatter(lambda y, pos: r\"$%.1f\\%%$\" % (10**2 * y)))\n",
    "\n",
    "plt.legend(loc='best', fontsize=labelsize)\n",
    "\n",
    "plt.tick_params(axis='both', which='major', labelsize=labelsize)\n",
    "\n",
    "#plt.title('\"Calibrated\" default fund quantiles wrt perc. IM.')\n",
    "\n",
    "plt.show()"
   ]
  },
  {
   "cell_type": "code",
   "execution_count": 18,
   "metadata": {
    "ExecuteTime": {
     "end_time": "2017-07-14T21:56:09.423000Z",
     "start_time": "2017-07-14T21:56:09.416000Z"
    }
   },
   "outputs": [
    {
     "data": {
      "text/plain": [
       "[0.9996899968989926,\n",
       " 0.9997499975008952,\n",
       " 0.9998099981004923,\n",
       " 0.9998599986005239,\n",
       " 0.9998999990003481,\n",
       " 0.9999399993991287,\n",
       " 0.9999599996005792,\n",
       " 0.99997999980091,\n",
       " 1.0,\n",
       " 1.0,\n",
       " 1.0,\n",
       " 1.0,\n",
       " 1.0,\n",
       " 1.0,\n",
       " 1.0,\n",
       " 1.0,\n",
       " 1.0,\n",
       " 1.0,\n",
       " 1.0,\n",
       " 1.0]"
      ]
     },
     "execution_count": 18,
     "metadata": {},
     "output_type": "execute_result"
    }
   ],
   "source": [
    "ES_QUANTILES[0.5]"
   ]
  },
  {
   "cell_type": "code",
   "execution_count": null,
   "metadata": {
    "collapsed": true
   },
   "outputs": [],
   "source": []
  }
 ],
 "metadata": {
  "anaconda-cloud": {},
  "kernelspec": {
   "display_name": "Python [default]",
   "language": "python",
   "name": "python2"
  },
  "language_info": {
   "codemirror_mode": {
    "name": "ipython",
    "version": 2
   },
   "file_extension": ".py",
   "mimetype": "text/x-python",
   "name": "python",
   "nbconvert_exporter": "python",
   "pygments_lexer": "ipython2",
   "version": "2.7.12"
  }
 },
 "nbformat": 4,
 "nbformat_minor": 1
}
